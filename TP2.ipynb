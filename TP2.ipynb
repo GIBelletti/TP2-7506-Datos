{
 "cells": [
  {
   "cell_type": "markdown",
   "metadata": {
    "collapsed": true,
    "pycharm": {
     "name": "#%% md\n"
    }
   },
   "source": [
    "# 75.06/95.58 Organización de Datos\n",
    "# Primer Cuatrimestre de 2020\n",
    "# Trabajo Práctico 2: Enunciado\n",
    "\n",
    "\n",
    "El segundo TP es una competencia de Machine Learning en donde cada grupo debe intentar determinar, para cada tweet brindado, si el mismo esta basado en un hecho real o no.\n",
    "\n",
    "La competencia se desarrolla en la plataforma de Kaggle  https://www.kaggle.com/c/nlp-getting-started.  \n",
    "\n",
    "El dataset consta de una serie de tweets, para los cuales se informa:\n",
    "\n",
    "- id - identificador unico para cada  tweet\n",
    "- text - el texto del tweet\n",
    "- location - ubicación desde donde fue enviado (podría no estar)\n",
    "- keyword - un keyword para el tweet  (podría faltar)\n",
    "- target - en train.csv, indica si se trata de un desastre real  (1) o no (0)\n",
    " \n",
    "\n",
    "\n",
    "Los submits con el resultado deben tener el formato:\n",
    "\n",
    "Id: Un id numérico para identificar el tweet\n",
    "target: 1 / 0 según se crea que el tweet se trata sobre un desastre real, o no.\n",
    "\n",
    "Los grupos deberán probar distintos algoritmos de Machine Learning para intentar predecir si el tweet está basado en hechos reales o no. A medida que los grupos realicen pruebas deben realizar el correspondiente submit en Kaggle para evaluar el resultado de los mismos.\n",
    "\n",
    "Al finalizar la competencia el grupo que mejor resultado tenga obtendrá 10 puntos para cada uno de sus integrantes que podrán ser usados en el examen por promoción o segundo recuperatorio.\n",
    "\n",
    "## Requisitos para la entrega del TP2:\n",
    "\n",
    "- El TP debe programarse en Python o R.\n",
    "- Debe entregarse un pdf con el informe de algoritmos probados, algoritmo final utilizado, transformaciones realizadas a los datos, feature engineering, etc. \n",
    "- El informe debe incluir también un link a github con el informe presentado en pdf, y todo el código.\n",
    "- El grupo debe presentar el TP en una computadora en la fecha indicada por la cátedra, el TP debe correr en un lapso de tiempo razonable (inferior a 1 hora) y generar un submission válido que iguale el mejor resultado obtenido por el grupo en Kaggle. (mas detalles a definir)\n",
    "\n",
    "## El TP2 se va a evaluar en función del siguiente criterio:\n",
    "\n",
    "- Cantidad de trabajo (esfuerzo) del grupo: ¿Probaron muchos algoritmos? ¿Hicieron un buen trabajo de pre-procesamiento de los datos y feature engineering?\n",
    "- Resultado obtenido en Kaggle (obviamente cuanto mejor resultado mejor nota)\n",
    "- Presentación final del informe, calidad de la redacción, uso de información obtenida en el TP1, conclusiones presentadas.\n",
    "- Performance de la solución final."
   ]
  },
  {
   "cell_type": "markdown",
   "source": [
    "## Forma de evaluar kaggle\n",
    "\n",
    "Las presentaciones se evalúan utilizando F1 entre las respuestas previstas y esperadas.\n",
    "\n",
    "F1 se calcula de la siguiente manera:\n",
    "$ F1=(2∗precision∗recall)/(precision+recall) $\n",
    "\n",
    "donde:\n",
    "\n",
    "$precision=TP/(TP+FP)$\n",
    "\n",
    "$recall=TP/(TP+FN)$\n",
    "\n",
    "\n",
    "con:\n",
    "\n",
    "- Verdadero positivo [TP] = your prediction is 1, and the ground truth is also 1 - you predicted a positive and that's true!\n",
    "- Falso positivo [FP] = your prediction is 1, and the ground truth is 0 - you predicted a positive, and that's false.\n",
    "- Falso Negativo [FN] = your prediction is 0, and the ground truth is 1 - you predicted a negative, and that's false."
   ],
   "metadata": {
    "collapsed": false
   }
  },
  {
   "cell_type": "markdown",
   "source": [
    "importaciones"
   ],
   "metadata": {
    "collapsed": false
   }
  },
  {
   "cell_type": "code",
   "execution_count": 31,
   "outputs": [],
   "source": [
    "#IMPORTS\n",
    "import pandas as pd\n",
    "import numpy as np\n",
    "import matplotlib.pyplot as plt\n",
    "import seaborn as sns\n",
    "import plotly.graph_objects as go\n",
    "\n",
    "#plt.style.use('default')\n",
    "\n",
    "sns.set(style=\"whitegrid\")\n",
    "\n",
    "pd.options.display.float_format = '{:20,.2f}'.format \n",
    "\n",
    "import warnings\n",
    "warnings.filterwarnings('ignore')\n",
    "\n",
    "from matplotlib.colors import ListedColormap\n",
    "import matplotlib.patches as mpatches\n",
    " \n",
    "%matplotlib inline\n",
    "plt.rcParams['figure.figsize'] = (16, 9)\n",
    "plt.style.use('ggplot')\n",
    " \n",
    "#librerias para KNN\n",
    "from sklearn.model_selection import train_test_split\n",
    "from sklearn.preprocessing import MinMaxScaler\n",
    "from sklearn.neighbors import KNeighborsClassifier\n",
    "from sklearn.metrics import classification_report\n",
    "from sklearn.metrics import confusion_matrix\n",
    "#red neuronal\n",
    "from keras.models import Sequential\n",
    "from keras.layers.core import Dense\n",
    "#arboles de decicion\n",
    "plt.rcParams['figure.figsize'] = (16, 9)\n",
    "plt.style.use('ggplot')\n",
    "from sklearn import tree\n",
    "from sklearn.metrics import accuracy_score\n",
    "from sklearn.model_selection import KFold\n",
    "from sklearn.model_selection import cross_val_score\n",
    "from IPython.display import Image as PImage\n",
    "from subprocess import check_call\n",
    "from PIL import Image, ImageDraw, ImageFont\n",
    "from sklearn.ensemble import RandomForestClassifier\n",
    "from sklearn.tree import DecisionTreeClassifier\n",
    "#catboost\n",
    "from catboost import CatBoostRegressor\n",
    "\n",
    "#palabras\n",
    "import nltk\n",
    "#nltk.download('stopwords')#si no tiene stopword habilitar esta linea\n",
    "from nltk.corpus import stopwords\n",
    "import gensim \n",
    "from gensim.models import Word2Vec \n",
    "#tf-idf\n",
    "from sklearn.feature_extraction.text import TfidfVectorizer"
   ],
   "metadata": {
    "collapsed": false,
    "pycharm": {
     "name": "#%%\n",
     "is_executing": false
    }
   }
  },
  {
   "cell_type": "code",
   "execution_count": 2,
   "outputs": [],
   "source": [
    "stopwordEnglis = stopwords.words('english')\n",
    "tfidf = TfidfVectorizer()"
   ],
   "metadata": {
    "collapsed": false,
    "pycharm": {
     "name": "#%%\n",
     "is_executing": false
    }
   }
  },
  {
   "cell_type": "markdown",
   "source": [
    "inicio de csv"
   ],
   "metadata": {
    "collapsed": false
   }
  },
  {
   "cell_type": "code",
   "source": [
    "tweets_original_entrenamiento = pd.read_csv('train.csv',index_col=['id'])\n",
    "tweets_original_entrenamiento.head()"
   ],
   "metadata": {
    "collapsed": false,
    "pycharm": {
     "name": "#%%\n",
     "is_executing": false
    }
   },
   "execution_count": 3,
   "outputs": [
    {
     "data": {
      "text/plain": "   keyword location                                               text  target\nid                                                                            \n1      NaN      NaN  Our Deeds are the Reason of this #earthquake M...       1\n4      NaN      NaN             Forest fire near La Ronge Sask. Canada       1\n5      NaN      NaN  All residents asked to 'shelter in place' are ...       1\n6      NaN      NaN  13,000 people receive #wildfires evacuation or...       1\n7      NaN      NaN  Just got sent this photo from Ruby #Alaska as ...       1",
      "text/html": "<div>\n<style scoped>\n    .dataframe tbody tr th:only-of-type {\n        vertical-align: middle;\n    }\n\n    .dataframe tbody tr th {\n        vertical-align: top;\n    }\n\n    .dataframe thead th {\n        text-align: right;\n    }\n</style>\n<table border=\"1\" class=\"dataframe\">\n  <thead>\n    <tr style=\"text-align: right;\">\n      <th></th>\n      <th>keyword</th>\n      <th>location</th>\n      <th>text</th>\n      <th>target</th>\n    </tr>\n    <tr>\n      <th>id</th>\n      <th></th>\n      <th></th>\n      <th></th>\n      <th></th>\n    </tr>\n  </thead>\n  <tbody>\n    <tr>\n      <th>1</th>\n      <td>NaN</td>\n      <td>NaN</td>\n      <td>Our Deeds are the Reason of this #earthquake M...</td>\n      <td>1</td>\n    </tr>\n    <tr>\n      <th>4</th>\n      <td>NaN</td>\n      <td>NaN</td>\n      <td>Forest fire near La Ronge Sask. Canada</td>\n      <td>1</td>\n    </tr>\n    <tr>\n      <th>5</th>\n      <td>NaN</td>\n      <td>NaN</td>\n      <td>All residents asked to 'shelter in place' are ...</td>\n      <td>1</td>\n    </tr>\n    <tr>\n      <th>6</th>\n      <td>NaN</td>\n      <td>NaN</td>\n      <td>13,000 people receive #wildfires evacuation or...</td>\n      <td>1</td>\n    </tr>\n    <tr>\n      <th>7</th>\n      <td>NaN</td>\n      <td>NaN</td>\n      <td>Just got sent this photo from Ruby #Alaska as ...</td>\n      <td>1</td>\n    </tr>\n  </tbody>\n</table>\n</div>"
     },
     "metadata": {},
     "output_type": "execute_result",
     "execution_count": 3
    }
   ]
  },
  {
   "cell_type": "code",
   "execution_count": 4,
   "outputs": [
    {
     "data": {
      "text/plain": "   keyword location                                               text\nid                                                                    \n0      NaN      NaN                 Just happened a terrible car crash\n2      NaN      NaN  Heard about #earthquake is different cities, s...\n3      NaN      NaN  there is a forest fire at spot pond, geese are...\n9      NaN      NaN           Apocalypse lighting. #Spokane #wildfires\n11     NaN      NaN      Typhoon Soudelor kills 28 in China and Taiwan",
      "text/html": "<div>\n<style scoped>\n    .dataframe tbody tr th:only-of-type {\n        vertical-align: middle;\n    }\n\n    .dataframe tbody tr th {\n        vertical-align: top;\n    }\n\n    .dataframe thead th {\n        text-align: right;\n    }\n</style>\n<table border=\"1\" class=\"dataframe\">\n  <thead>\n    <tr style=\"text-align: right;\">\n      <th></th>\n      <th>keyword</th>\n      <th>location</th>\n      <th>text</th>\n    </tr>\n    <tr>\n      <th>id</th>\n      <th></th>\n      <th></th>\n      <th></th>\n    </tr>\n  </thead>\n  <tbody>\n    <tr>\n      <th>0</th>\n      <td>NaN</td>\n      <td>NaN</td>\n      <td>Just happened a terrible car crash</td>\n    </tr>\n    <tr>\n      <th>2</th>\n      <td>NaN</td>\n      <td>NaN</td>\n      <td>Heard about #earthquake is different cities, s...</td>\n    </tr>\n    <tr>\n      <th>3</th>\n      <td>NaN</td>\n      <td>NaN</td>\n      <td>there is a forest fire at spot pond, geese are...</td>\n    </tr>\n    <tr>\n      <th>9</th>\n      <td>NaN</td>\n      <td>NaN</td>\n      <td>Apocalypse lighting. #Spokane #wildfires</td>\n    </tr>\n    <tr>\n      <th>11</th>\n      <td>NaN</td>\n      <td>NaN</td>\n      <td>Typhoon Soudelor kills 28 in China and Taiwan</td>\n    </tr>\n  </tbody>\n</table>\n</div>"
     },
     "metadata": {},
     "output_type": "execute_result",
     "execution_count": 4
    }
   ],
   "source": [
    "tweets_original_prueva = pd.read_csv('test.csv',index_col=['id'])\n",
    "tweets_original_prueva.head()"
   ],
   "metadata": {
    "collapsed": false,
    "pycharm": {
     "name": "#%%\n",
     "is_executing": false
    }
   }
  },
  {
   "cell_type": "markdown",
   "source": [
    "calculo resultado"
   ],
   "metadata": {
    "collapsed": false
   }
  },
  {
   "cell_type": "code",
   "execution_count": 13,
   "outputs": [],
   "source": [
    "#resultados\n",
    "resultados_de_test = pd.read_csv('respuestas.csv',index_col=['id'])\n",
    "#revisar los resultados\n",
    "def calclarPresicionYRecall(df):\n",
    "    respuestas = resultados_de_test\n",
    "    respuestas['prediccion'] = df['target']\n",
    "    #respuestas['TP'] = [1 if (respuestas['target'] == 1 and respuestas['prediccion'] == 1) else 0]\n",
    "    #respuestas['FP'] = [1 if (respuestas['target'] == 0 and respuestas['prediccion'] == 1) else 0]\n",
    "    #respuestas['FN'] = [1 if (respuestas['target'] == 1 and respuestas['prediccion'] == 0) else 0]\n",
    "    \n",
    "    respuestas.loc[respuestas['prediccion'] + respuestas['target'] == 2 , 'TP'] = 1\n",
    "    respuestas.loc[respuestas['prediccion'] + (respuestas['target'] * 2) == 1 , 'FP'] = 1\n",
    "    respuestas.loc[respuestas['prediccion'] + (respuestas['target'] * 2) == 2 , 'FN'] = 1\n",
    "    respuestas['TP'].fillna(0, inplace=True)\n",
    "    respuestas['FP'].fillna(0, inplace=True)\n",
    "    respuestas['FN'].fillna(0, inplace=True)\n",
    "\n",
    "    tp = respuestas['TP'].sum()\n",
    "    fp = respuestas['FP'].sum()\n",
    "    fn = respuestas['FN'].sum()\n",
    "    \n",
    "    #print(tp,fp,fn)\n",
    "    #print(respuestas.head())\n",
    "    \n",
    "    sumaPresicion = tp + fp\n",
    "    sumaRecall = tp + fn\n",
    "    presicion = tp / sumaPresicion\n",
    "    recall = tp / sumaRecall\n",
    "    return (presicion,recall)\n",
    "\n",
    "def F1(df):\n",
    "    presicion,recall = calclarPresicionYRecall(df)\n",
    "    resultado = 2 * presicion * recall\n",
    "    resultado /= (presicion + recall)\n",
    "    return resultado"
   ],
   "metadata": {
    "collapsed": false,
    "pycharm": {
     "name": "#%%\n",
     "is_executing": false
    }
   }
  },
  {
   "cell_type": "markdown",
   "source": [
    "inicio de problema"
   ],
   "metadata": {
    "collapsed": false
   }
  },
  {
   "cell_type": "markdown",
   "source": [
    "## CATBOOST"
   ],
   "metadata": {
    "collapsed": false
   }
  },
  {
   "cell_type": "code",
   "execution_count": 6,
   "outputs": [],
   "source": [
    "def set_palabras_del_train(df):\n",
    "    palabrasTexto = []\n",
    "    palabrasKeyword = []\n",
    "    \n",
    "    df['palabras_de_texto'] = df['text'].str.lower().str.split().apply(lambda x: [item for item in x if item not in stopwordEnglis])\n",
    "    df['palabras_de_keyword'] = df['text'].str.lower().str.split().apply(lambda x: [item for item in x if item not in stopwordEnglis])\n",
    "    \n",
    "    return (palabrasTexto,palabrasKeyword)\n",
    "\n",
    "def preparar_df(df,listadoDePalabrasDelTextoDelSetDeEntrenamiento=[],listadoDePalabrasDelKeywordDelSetDeEntrenamiento=[]):\n",
    "    df['text'].fillna(\"\", inplace=True)\n",
    "    df['keyword'].fillna(\"\", inplace=True)\n",
    "    df['location'].fillna(\"\", inplace=True)\n",
    "    \n",
    "    df['longitud_de_texto'] = df['text'].str.len()\n",
    "    df['longitud_de_keyword'] = df['keyword'].str.len()\n",
    "    \n",
    "    df['palabras_de_texto'] = df['text'].str.lower().str.split().apply(lambda x: [item for item in x if item not in stopwordEnglis])\n",
    "    df['palabras_de_keyword'] = df['text'].str.lower().str.split().apply(lambda x: [item for item in x if item not in stopwordEnglis])\n",
    "    \n",
    "    df['cantidad_de_palabras_texto'] = df['palabras_de_texto'].map(len)\n",
    "    df['cantidad_de_palabras_keyword'] = df['palabras_de_keyword'].map(len)\n",
    "    \n",
    "    #df['palabras_de_texto'] = df['palabras_de_texto'].apply(lambda x: [item for item in x if item in listadoDePalabrasDelTextoDelSetDeEntrenamiento])\n",
    "    #df['palabras_de_keyword'] = df['palabras_de_keyword'].apply(lambda x: [item for item in x if item in listadoDePalabrasDelKeywordDelSetDeEntrenamiento])\n",
    "    \n",
    "    #df['text'] = df['text'].str.replace(r' ', '')\n",
    "    #df['keyword'] = df['keyword'].str.replace(r' ', '')\n",
    "    #df['location'] = df['location'].str.replace(r' ', '')\n",
    "    \n",
    "    #TF-IDF\n",
    "    #x = tfidf.fit_transform(df['palabras_de_texto'])\n",
    "    #df_tfidf = pd.DataFrame(x.toarray(), columns=tfidf.get_feature_names())\n",
    "    #df.join(df_tfidf)#mal planteado\n",
    "    \n",
    "    df = df.drop(columns=['keyword','text','location'])\n",
    "    df = df.drop(columns=['palabras_de_texto','palabras_de_keyword'])\n",
    "    \n",
    "    return df"
   ],
   "metadata": {
    "collapsed": false,
    "pycharm": {
     "name": "#%%\n",
     "is_executing": false
    }
   }
  },
  {
   "cell_type": "code",
   "execution_count": 34,
   "outputs": [
    {
     "data": {
      "text/plain": "    longitud_de_texto  longitud_de_keyword  cantidad_de_palabras_texto  \\\nid                                                                       \n1                  69                    0                           7   \n4                  38                    0                           7   \n5                 133                    0                          11   \n6                  65                    0                           7   \n7                  88                    0                           9   \n\n    cantidad_de_palabras_keyword  \nid                                \n1                              7  \n4                              7  \n5                             11  \n6                              7  \n7                              9  ",
      "text/html": "<div>\n<style scoped>\n    .dataframe tbody tr th:only-of-type {\n        vertical-align: middle;\n    }\n\n    .dataframe tbody tr th {\n        vertical-align: top;\n    }\n\n    .dataframe thead th {\n        text-align: right;\n    }\n</style>\n<table border=\"1\" class=\"dataframe\">\n  <thead>\n    <tr style=\"text-align: right;\">\n      <th></th>\n      <th>longitud_de_texto</th>\n      <th>longitud_de_keyword</th>\n      <th>cantidad_de_palabras_texto</th>\n      <th>cantidad_de_palabras_keyword</th>\n    </tr>\n    <tr>\n      <th>id</th>\n      <th></th>\n      <th></th>\n      <th></th>\n      <th></th>\n    </tr>\n  </thead>\n  <tbody>\n    <tr>\n      <th>1</th>\n      <td>69</td>\n      <td>0</td>\n      <td>7</td>\n      <td>7</td>\n    </tr>\n    <tr>\n      <th>4</th>\n      <td>38</td>\n      <td>0</td>\n      <td>7</td>\n      <td>7</td>\n    </tr>\n    <tr>\n      <th>5</th>\n      <td>133</td>\n      <td>0</td>\n      <td>11</td>\n      <td>11</td>\n    </tr>\n    <tr>\n      <th>6</th>\n      <td>65</td>\n      <td>0</td>\n      <td>7</td>\n      <td>7</td>\n    </tr>\n    <tr>\n      <th>7</th>\n      <td>88</td>\n      <td>0</td>\n      <td>9</td>\n      <td>9</td>\n    </tr>\n  </tbody>\n</table>\n</div>"
     },
     "metadata": {},
     "output_type": "execute_result",
     "execution_count": 34
    }
   ],
   "source": [
    "train_label = tweets_original_entrenamiento['target']\n",
    "train_set = tweets_original_entrenamiento.drop(columns=['target'])\n",
    "train_set = preparar_df(train_set)\n",
    "train_set.head()"
   ],
   "metadata": {
    "collapsed": false,
    "pycharm": {
     "name": "#%%\n",
     "is_executing": false
    }
   }
  },
  {
   "cell_type": "code",
   "execution_count": 35,
   "outputs": [
    {
     "data": {
      "text/plain": "    longitud_de_texto  longitud_de_keyword  cantidad_de_palabras_texto  \\\nid                                                                       \n0                  34                    0                           4   \n2                  64                    0                           7   \n3                  96                    0                          10   \n9                  40                    0                           4   \n11                 45                    0                           6   \n\n    cantidad_de_palabras_keyword  \nid                                \n0                              4  \n2                              7  \n3                             10  \n9                              4  \n11                             6  ",
      "text/html": "<div>\n<style scoped>\n    .dataframe tbody tr th:only-of-type {\n        vertical-align: middle;\n    }\n\n    .dataframe tbody tr th {\n        vertical-align: top;\n    }\n\n    .dataframe thead th {\n        text-align: right;\n    }\n</style>\n<table border=\"1\" class=\"dataframe\">\n  <thead>\n    <tr style=\"text-align: right;\">\n      <th></th>\n      <th>longitud_de_texto</th>\n      <th>longitud_de_keyword</th>\n      <th>cantidad_de_palabras_texto</th>\n      <th>cantidad_de_palabras_keyword</th>\n    </tr>\n    <tr>\n      <th>id</th>\n      <th></th>\n      <th></th>\n      <th></th>\n      <th></th>\n    </tr>\n  </thead>\n  <tbody>\n    <tr>\n      <th>0</th>\n      <td>34</td>\n      <td>0</td>\n      <td>4</td>\n      <td>4</td>\n    </tr>\n    <tr>\n      <th>2</th>\n      <td>64</td>\n      <td>0</td>\n      <td>7</td>\n      <td>7</td>\n    </tr>\n    <tr>\n      <th>3</th>\n      <td>96</td>\n      <td>0</td>\n      <td>10</td>\n      <td>10</td>\n    </tr>\n    <tr>\n      <th>9</th>\n      <td>40</td>\n      <td>0</td>\n      <td>4</td>\n      <td>4</td>\n    </tr>\n    <tr>\n      <th>11</th>\n      <td>45</td>\n      <td>0</td>\n      <td>6</td>\n      <td>6</td>\n    </tr>\n  </tbody>\n</table>\n</div>"
     },
     "metadata": {},
     "output_type": "execute_result",
     "execution_count": 35
    }
   ],
   "source": [
    "test_set = tweets_original_prueva\n",
    "test_set = preparar_df(test_set)\n",
    "test_set.head()"
   ],
   "metadata": {
    "collapsed": false,
    "pycharm": {
     "name": "#%%\n",
     "is_executing": false
    }
   }
  },
  {
   "cell_type": "code",
   "execution_count": 36,
   "outputs": [],
   "source": [
    "def ensamble(df,n,prediccion):\n",
    "    #df['prediccion'] = prediccion\n",
    "    #df['prediccion'] = df['prediccion'].round()\n",
    "    df['target'] = df['target'] + prediccion.round()\n",
    "    n += 1\n",
    "    return (n,df)\n",
    "\n",
    "def calcular_resultado_de_prediccion(df,n):\n",
    "    df['target'] = df['target'].div(n).round()\n",
    "    return df"
   ],
   "metadata": {
    "collapsed": false,
    "pycharm": {
     "name": "#%%\n",
     "is_executing": false
    }
   }
  },
  {
   "cell_type": "code",
   "execution_count": 43,
   "outputs": [
    {
     "name": "stdout",
     "text": [
      "0:\tlearn: 0.4873409\ttotal: 2.06ms\tremaining: 10.3ms\n1:\tlearn: 0.4804424\ttotal: 6.04ms\tremaining: 12.1ms\n2:\tlearn: 0.4770779\ttotal: 9.47ms\tremaining: 9.47ms\n3:\tlearn: 0.4745782\ttotal: 12.9ms\tremaining: 6.47ms\n4:\tlearn: 0.4731882\ttotal: 16.5ms\tremaining: 3.3ms\n5:\tlearn: 0.4715317\ttotal: 20ms\tremaining: 0us\nprediccion =  1\n0:\tlearn: 0.4873409\ttotal: 2.23ms\tremaining: 11.2ms\n1:\tlearn: 0.4801432\ttotal: 7.94ms\tremaining: 15.9ms\n2:\tlearn: 0.4770467\ttotal: 10.6ms\tremaining: 10.6ms\n3:\tlearn: 0.4738367\ttotal: 16ms\tremaining: 8.01ms\n4:\tlearn: 0.4713760\ttotal: 24.5ms\tremaining: 4.89ms\n",
      "5:\tlearn: 0.4700253\ttotal: 38.4ms\tremaining: 0us\nprediccion =  2\n0:\tlearn: 0.4873409\ttotal: 1.91ms\tremaining: 9.53ms\n1:\tlearn: 0.4797932\ttotal: 10.2ms\tremaining: 20.4ms\n2:\tlearn: 0.4754871\ttotal: 17.9ms\tremaining: 17.9ms\n3:\tlearn: 0.4730560\ttotal: 25.5ms\tremaining: 12.8ms\n4:\tlearn: 0.4705029\ttotal: 33.3ms\tremaining: 6.67ms\n5:\tlearn: 0.4691165\ttotal: 41.1ms\tremaining: 0us\n",
      "prediccion =  3\n0:\tlearn: 0.4873409\ttotal: 1.89ms\tremaining: 9.47ms\n1:\tlearn: 0.4797933\ttotal: 16.3ms\tremaining: 32.6ms\n2:\tlearn: 0.4754717\ttotal: 30.4ms\tremaining: 30.4ms\n3:\tlearn: 0.4731609\ttotal: 44.4ms\tremaining: 22.2ms\n4:\tlearn: 0.4725387\ttotal: 45.9ms\tremaining: 9.17ms\n5:\tlearn: 0.4697550\ttotal: 68.6ms\tremaining: 0us\nprediccion = ",
      " 4\n0:\tlearn: 0.4873409\ttotal: 1.86ms\tremaining: 9.3ms\n1:\tlearn: 0.4794232\ttotal: 30.5ms\tremaining: 60.9ms\n2:\tlearn: 0.4754357\ttotal: 58.4ms\tremaining: 58.4ms\n3:\tlearn: 0.4713639\ttotal: 86.2ms\tremaining: 43.1ms\n4:\tlearn: 0.4688582\ttotal: 114ms\tremaining: 22.7ms\n5:\tlearn: 0.4669534\ttotal: 142ms\tremaining: 0us\n",
      "prediccion =  5\n0:\tlearn: 0.4873409\ttotal: 1.79ms\tremaining: 8.96ms\n1:\tlearn: 0.4788833\ttotal: 73.2ms\tremaining: 146ms\n",
      "2:\tlearn: 0.4739077\ttotal: 138ms\tremaining: 138ms\n3:\tlearn: 0.4701450\ttotal: 197ms\tremaining: 98.4ms\n4:\tlearn: 0.4676505\ttotal: 251ms\tremaining: 50.3ms\n5:\tlearn: 0.4658204\ttotal: 309ms\tremaining: 0us\n",
      "prediccion =  6\n0:\tlearn: 0.4873409\ttotal: 5.92ms\tremaining: 29.6ms\n1:\tlearn: 0.4788046\ttotal: 137ms\tremaining: 274ms\n",
      "2:\tlearn: 0.4743611\ttotal: 167ms\tremaining: 167ms\n3:\tlearn: 0.4706547\ttotal: 278ms\tremaining: 139ms\n",
      "4:\tlearn: 0.4671527\ttotal: 391ms\tremaining: 78.2ms\n5:\tlearn: 0.4653946\ttotal: 531ms\tremaining: 0us\n",
      "prediccion =  7\n0:\tlearn: 0.4873409\ttotal: 5.68ms\tremaining: 28.4ms\n",
      "1:\tlearn: 0.4783341\ttotal: 248ms\tremaining: 497ms\n",
      "2:\tlearn: 0.4727680\ttotal: 517ms\tremaining: 517ms\n",
      "3:\tlearn: 0.4685907\ttotal: 778ms\tremaining: 389ms\n",
      "4:\tlearn: 0.4658249\ttotal: 1.01s\tremaining: 203ms\n5:\tlearn: 0.4652796\ttotal: 1.04s\tremaining: 0us\nprediccion =  8\n0:\tlearn: 0.4853584\ttotal: 4.25ms\tremaining: 21.3ms\n",
      "1:\tlearn: 0.4778589\ttotal: 8.51ms\tremaining: 17ms\n2:\tlearn: 0.4743663\ttotal: 12.3ms\tremaining: 12.3ms\n3:\tlearn: 0.4713682\ttotal: 16.1ms\tremaining: 8.05ms\n4:\tlearn: 0.4703815\ttotal: 19.9ms\tremaining: 3.97ms\n5:\tlearn: 0.4697153\ttotal: 23.8ms\tremaining: 0us\nprediccion =  9\n0:\tlearn: 0.4853584\ttotal: 2.13ms\tremaining: 10.6ms\n1:\tlearn: 0.4774749\ttotal: 7.49ms\tremaining: 15ms\n2:\tlearn: 0.4739955\ttotal: 12.4ms\tremaining: 12.4ms\n3:\tlearn: 0.4723008\ttotal: 15.1ms\tremaining: 7.56ms\n4:\tlearn: 0.4697121\ttotal: 20.2ms\tremaining: 4.04ms\n5:\tlearn: 0.4684783\ttotal: 25.3ms\tremaining: 0us\n",
      "prediccion =  10\n0:\tlearn: 0.4853584\ttotal: 1.84ms\tremaining: 9.22ms\n1:\tlearn: 0.4770272\ttotal: 10.1ms\tremaining: 20.2ms\n2:\tlearn: 0.4745970\ttotal: 11.6ms\tremaining: 11.6ms\n3:\tlearn: 0.4718716\ttotal: 20.2ms\tremaining: 10.1ms\n4:\tlearn: 0.4702789\ttotal: 28.1ms\tremaining: 5.63ms\n5:\tlearn: 0.4682759\ttotal: 36.1ms\tremaining: 0us\nprediccion =  11\n0:\tlearn: 0.4853584\ttotal: 2.05ms\tremaining: 10.2ms\n",
      "1:\tlearn: 0.4770273\ttotal: 19ms\tremaining: 38.1ms\n2:\tlearn: 0.4724907\ttotal: 36.7ms\tremaining: 36.7ms\n3:\tlearn: 0.4695880\ttotal: 53.8ms\tremaining: 26.9ms\n4:\tlearn: 0.4672284\ttotal: 69.1ms\tremaining: 13.8ms\n5:\tlearn: 0.4652917\ttotal: 83.8ms\tremaining: 0us\nprediccion =  12\n",
      "0:\tlearn: 0.4853584\ttotal: 3.68ms\tremaining: 18.4ms\n1:\tlearn: 0.4765435\ttotal: 35.2ms\tremaining: 70.5ms\n2:\tlearn: 0.4721569\ttotal: 88.7ms\tremaining: 88.7ms\n3:\tlearn: 0.4680559\ttotal: 124ms\tremaining: 61.8ms\n4:\tlearn: 0.4661974\ttotal: 155ms\tremaining: 31ms\n5:\tlearn: 0.4643825\ttotal: 187ms\tremaining: 0us\n",
      "prediccion =  13\n0:\tlearn: 0.4853584\ttotal: 1.94ms\tremaining: 9.68ms\n1:\tlearn: 0.4758507\ttotal: 56.9ms\tremaining: 114ms\n",
      "2:\tlearn: 0.4706990\ttotal: 113ms\tremaining: 113ms\n3:\tlearn: 0.4673000\ttotal: 173ms\tremaining: 86.5ms\n4:\tlearn: 0.4645994\ttotal: 259ms\tremaining: 51.8ms\n",
      "5:\tlearn: 0.4633993\ttotal: 324ms\tremaining: 0us\nprediccion =  14\n0:\tlearn: 0.4853584\ttotal: 1.87ms\tremaining: 9.36ms\n",
      "1:\tlearn: 0.4757455\ttotal: 114ms\tremaining: 228ms\n2:\tlearn: 0.4712560\ttotal: 145ms\tremaining: 145ms\n3:\tlearn: 0.4675773\ttotal: 268ms\tremaining: 134ms\n",
      "4:\tlearn: 0.4637825\ttotal: 391ms\tremaining: 78.2ms\n5:\tlearn: 0.4615890\ttotal: 501ms\tremaining: 0us\nprediccion = ",
      " 15\n0:\tlearn: 0.4853584\ttotal: 1.92ms\tremaining: 9.61ms\n",
      "1:\tlearn: 0.4751339\ttotal: 1.92ms\tremaining: 9.61ms\n2:\tlearn: 0.4711015\ttotal: 10.4ms\tremaining: 15.6ms\n3:\tlearn: 0.4696052\ttotal: 18.2ms\tremaining: 12.1ms\n",
      "4:\tlearn: 0.4646827\ttotal: 252ms\tremaining: 63ms\n",
      "5:\tlearn: 0.4615311\ttotal: 507ms\tremaining: 0us\nprediccion =  16\n0:\tlearn: 0.4836722\ttotal: 2.4ms\tremaining: 12ms\n1:\tlearn: 0.4768299\ttotal: 6.22ms\tremaining: 12.4ms\n2:\tlearn: 0.4724783\ttotal: 9.71ms\tremaining: 9.71ms\n3:\tlearn: 0.4703033\ttotal: 13.2ms\tremaining: 6.58ms\n4:\tlearn: 0.4692715\ttotal: 16.7ms\tremaining: 3.33ms\n5:\tlearn: 0.4686750\ttotal: 20.1ms\tremaining: 0us\n",
      "prediccion =  17\n0:\tlearn: 0.4836722\ttotal: 2.34ms\tremaining: 11.7ms\n1:\tlearn: 0.4759059\ttotal: 8.03ms\tremaining: 16.1ms\n2:\tlearn: 0.4725331\ttotal: 12.9ms\tremaining: 12.9ms\n3:\tlearn: 0.4699452\ttotal: 19.6ms\tremaining: 9.81ms\n4:\tlearn: 0.4680113\ttotal: 27.5ms\tremaining: 5.51ms\n5:\tlearn: 0.4665728\ttotal: 37.7ms\tremaining: 0us\nprediccion =  18\n0:\tlearn: 0.4836722\ttotal: 1.91ms\tremaining: 9.55ms\n",
      "1:\tlearn: 0.4754039\ttotal: 10.6ms\tremaining: 21.2ms\n2:\tlearn: 0.4726955\ttotal: 12.2ms\tremaining: 12.2ms\n3:\tlearn: 0.4696901\ttotal: 20.3ms\tremaining: 10.1ms\n4:\tlearn: 0.4688414\ttotal: 21.8ms\tremaining: 4.37ms\n5:\tlearn: 0.4682788\ttotal: 30.9ms\tremaining: 0us\nprediccion =  19\n0:\tlearn: 0.4836722\ttotal: 2.09ms\tremaining: 10.4ms\n1:\tlearn: 0.4754039\ttotal: 15.9ms\tremaining: 31.8ms\n2:\tlearn: 0.4711663\ttotal: 29.8ms\tremaining: 29.8ms\n3:\tlearn: 0.4681449\ttotal: 43.6ms\tremaining: 21.8ms\n4:\tlearn: 0.4660692\ttotal: 57.4ms\tremaining: 11.5ms\n",
      "5:\tlearn: 0.4642131\ttotal: 72.7ms\tremaining: 0us\nprediccion =  20\n0:\tlearn: 0.4836722\ttotal: 19.4ms\tremaining: 96.8ms\n1:\tlearn: 0.4754039\ttotal: 40.2ms\tremaining: 80.3ms\n2:\tlearn: 0.4705471\ttotal: 74.4ms\tremaining: 74.4ms\n",
      "3:\tlearn: 0.4684920\ttotal: 90.8ms\tremaining: 45.4ms\n4:\tlearn: 0.4674268\ttotal: 94.1ms\tremaining: 18.8ms\n5:\tlearn: 0.4651379\ttotal: 125ms\tremaining: 0us\nprediccion =  21\n0:\tlearn: 0.4836722\ttotal: 2.02ms\tremaining: 10.1ms\n1:\tlearn: 0.4754039\ttotal: 15.8ms\tremaining: 31.6ms\n",
      "2:\tlearn: 0.4701475\ttotal: 71.6ms\tremaining: 71.6ms\n3:\tlearn: 0.4661026\ttotal: 129ms\tremaining: 64.6ms\n4:\tlearn: 0.4642822\ttotal: 200ms\tremaining: 40ms\n",
      "5:\tlearn: 0.4631953\ttotal: 266ms\tremaining: 0us\nprediccion =  22\n0:\tlearn: 0.4836722\ttotal: 1.84ms\tremaining: 9.2ms\n1:\tlearn: 0.4754039\ttotal: 17.1ms\tremaining: 34.3ms\n",
      "2:\tlearn: 0.4698095\ttotal: 130ms\tremaining: 130ms\n3:\tlearn: 0.4681549\ttotal: 139ms\tremaining: 69.6ms\n4:\tlearn: 0.4645390\ttotal: 257ms\tremaining: 51.4ms\n",
      "5:\tlearn: 0.4624682\ttotal: 391ms\tremaining: 0us\nprediccion =  23\n0:\tlearn: 0.4836722\ttotal: 1.91ms\tremaining: 9.55ms\n1:\tlearn: 0.4754039\ttotal: 16.7ms\tremaining: 33.4ms\n",
      "2:\tlearn: 0.4698095\ttotal: 263ms\tremaining: 263ms\n",
      "3:\tlearn: 0.4655975\ttotal: 518ms\tremaining: 259ms\n4:\tlearn: 0.4647873\ttotal: 533ms\tremaining: 107ms\n",
      "5:\tlearn: 0.4626465\ttotal: 755ms\tremaining: 0us\nprediccion =  24\n0:\tlearn: 0.4822854\ttotal: 2.49ms\tremaining: 12.5ms\n1:\tlearn: 0.4753595\ttotal: 6.67ms\tremaining: 13.3ms\n2:\tlearn: 0.4710326\ttotal: 11.4ms\tremaining: 11.4ms\n3:\tlearn: 0.4682445\ttotal: 16ms\tremaining: 8.02ms\n4:\tlearn: 0.4676837\ttotal: 20.4ms\tremaining: 4.08ms\n5:\tlearn: 0.4670025\ttotal: 24.3ms\tremaining: 0us\n",
      "prediccion =  25\n0:\tlearn: 0.4822854\ttotal: 2.74ms\tremaining: 13.7ms\n1:\tlearn: 0.4745541\ttotal: 8.18ms\tremaining: 16.4ms\n2:\tlearn: 0.4715953\ttotal: 11ms\tremaining: 11ms\n3:\tlearn: 0.4702800\ttotal: 16.3ms\tremaining: 8.14ms\n4:\tlearn: 0.4681016\ttotal: 21.4ms\tremaining: 4.28ms\n5:\tlearn: 0.4665486\ttotal: 26.6ms\tremaining: 0us\n",
      "prediccion =  26\n0:\tlearn: 0.4822854\ttotal: 2.01ms\tremaining: 10.1ms\n1:\tlearn: 0.4739821\ttotal: 10.7ms\tremaining: 21.5ms\n2:\tlearn: 0.4710989\ttotal: 12.4ms\tremaining: 12.4ms\n3:\tlearn: 0.4688929\ttotal: 21.1ms\tremaining: 10.5ms\n4:\tlearn: 0.4674518\ttotal: 32.7ms\tremaining: 6.54ms\n5:\tlearn: 0.4645423\ttotal: 46.6ms\tremaining: 0us\nprediccion = ",
      " 27\n0:\tlearn: 0.4822854\ttotal: 3.31ms\tremaining: 16.5ms\n1:\tlearn: 0.4739821\ttotal: 18.7ms\tremaining: 37.5ms\n2:\tlearn: 0.4697636\ttotal: 33.4ms\tremaining: 33.4ms\n3:\tlearn: 0.4682334\ttotal: 38.2ms\tremaining: 19.1ms\n4:\tlearn: 0.4660951\ttotal: 52.7ms\tremaining: 10.5ms\n5:\tlearn: 0.4634590\ttotal: 67.5ms\tremaining: 0us\nprediccion = ",
      " 28\n0:\tlearn: 0.4822854\ttotal: 1.93ms\tremaining: 9.64ms\n1:\tlearn: 0.4739821\ttotal: 17.5ms\tremaining: 34.9ms\n2:\tlearn: 0.4691447\ttotal: 45.9ms\tremaining: 45.9ms\n3:\tlearn: 0.4664252\ttotal: 73.5ms\tremaining: 36.7ms\n4:\tlearn: 0.4644592\ttotal: 106ms\tremaining: 21.3ms\n5:\tlearn: 0.4617789\ttotal: 155ms\tremaining: 0us\n",
      "prediccion =  29\n0:\tlearn: 0.4822854\ttotal: 1.74ms\tremaining: 8.71ms\n1:\tlearn: 0.4739821\ttotal: 16.5ms\tremaining: 33ms\n2:\tlearn: 0.4686941\ttotal: 72.4ms\tremaining: 72.4ms\n",
      "3:\tlearn: 0.4650493\ttotal: 133ms\tremaining: 66.5ms\n4:\tlearn: 0.4624981\ttotal: 191ms\tremaining: 38.2ms\n5:\tlearn: 0.4616242\ttotal: 276ms\tremaining: 0us\n",
      "prediccion =  30\n0:\tlearn: 0.4822854\ttotal: 1.85ms\tremaining: 9.24ms\n1:\tlearn: 0.4739821\ttotal: 16.4ms\tremaining: 32.8ms\n2:\tlearn: 0.4682920\ttotal: 132ms\tremaining: 132ms\n3:\tlearn: 0.4667341\ttotal: 140ms\tremaining: 69.8ms\n",
      "4:\tlearn: 0.4627313\ttotal: 285ms\tremaining: 57ms\n",
      "5:\tlearn: 0.4605385\ttotal: 410ms\tremaining: 0us\nprediccion =  31\n0:\tlearn: 0.4822854\ttotal: 1.86ms\tremaining: 9.31ms\n1:\tlearn: 0.4739821\ttotal: 16.1ms\tremaining: 32.2ms\n",
      "2:\tlearn: 0.4682920\ttotal: 278ms\tremaining: 278ms\n",
      "3:\tlearn: 0.4637333\ttotal: 522ms\tremaining: 261ms\n",
      "4:\tlearn: 0.4602200\ttotal: 750ms\tremaining: 150ms\n5:\tlearn: 0.4592148\ttotal: 896ms\tremaining: 0us\n",
      "prediccion =  32\n0:\tlearn: 0.4812005\ttotal: 2.15ms\tremaining: 10.7ms\n1:\tlearn: 0.4743368\ttotal: 6.08ms\tremaining: 12.2ms\n2:\tlearn: 0.4698118\ttotal: 9.67ms\tremaining: 9.67ms\n3:\tlearn: 0.4679936\ttotal: 13.4ms\tremaining: 6.69ms\n4:\tlearn: 0.4672389\ttotal: 17ms\tremaining: 3.4ms\n5:\tlearn: 0.4662508\ttotal: 20.7ms\tremaining: 0us\nprediccion =  33\n",
      "0:\tlearn: 0.4812005\ttotal: 2.54ms\tremaining: 12.7ms\n1:\tlearn: 0.4742224\ttotal: 7.78ms\tremaining: 15.6ms\n2:\tlearn: 0.4705973\ttotal: 12.6ms\tremaining: 12.6ms\n3:\tlearn: 0.4676151\ttotal: 17.9ms\tremaining: 8.96ms\n4:\tlearn: 0.4655303\ttotal: 22.8ms\tremaining: 4.56ms\n5:\tlearn: 0.4637161\ttotal: 30.9ms\tremaining: 0us\nprediccion =  34\n0:\tlearn: 0.4812005\ttotal: 3.24ms\tremaining: 16.2ms\n1:\tlearn: 0.4737425\ttotal: 12.1ms\tremaining: 24.1ms\n2:\tlearn: 0.4708531\ttotal: 13.7ms\tremaining: 13.7ms\n3:\tlearn: 0.4679346\ttotal: 23.5ms\tremaining: 11.8ms\n4:\tlearn: 0.4669749\ttotal: 35.7ms\tremaining: 7.14ms\n5:\tlearn: 0.4647565\ttotal: 44.8ms\tremaining: 0us\n",
      "prediccion =  35\n0:\tlearn: 0.4812005\ttotal: 1.75ms\tremaining: 8.76ms\n1:\tlearn: 0.4737425\ttotal: 15.9ms\tremaining: 31.7ms\n2:\tlearn: 0.4719375\ttotal: 17.3ms\tremaining: 17.3ms\n3:\tlearn: 0.4682420\ttotal: 31ms\tremaining: 15.5ms\n4:\tlearn: 0.4650215\ttotal: 44.8ms\tremaining: 8.96ms\n5:\tlearn: 0.4627554\ttotal: 58.8ms\tremaining: 0us\n",
      "prediccion =  36\n0:\tlearn: 0.4812005\ttotal: 1.72ms\tremaining: 8.61ms\n1:\tlearn: 0.4737425\ttotal: 15.8ms\tremaining: 31.7ms\n2:\tlearn: 0.4719375\ttotal: 17.2ms\tremaining: 17.2ms\n3:\tlearn: 0.4679801\ttotal: 47.1ms\tremaining: 23.6ms\n4:\tlearn: 0.4631892\ttotal: 88.7ms\tremaining: 17.7ms\n5:\tlearn: 0.4612608\ttotal: 119ms\tremaining: 0us\n",
      "prediccion =  37\n0:\tlearn: 0.4812005\ttotal: 1.76ms\tremaining: 8.78ms\n1:\tlearn: 0.4737425\ttotal: 15.7ms\tremaining: 31.5ms\n2:\tlearn: 0.4719375\ttotal: 17.1ms\tremaining: 17.1ms\n3:\tlearn: 0.4672356\ttotal: 72.9ms\tremaining: 36.5ms\n4:\tlearn: 0.4627430\ttotal: 130ms\tremaining: 26ms\n",
      "5:\tlearn: 0.4611183\ttotal: 192ms\tremaining: 0us\nprediccion =  38\n0:\tlearn: 0.4812005\ttotal: 1.93ms\tremaining: 9.64ms\n1:\tlearn: 0.4737425\ttotal: 18.2ms\tremaining: 36.3ms\n2:\tlearn: 0.4719375\ttotal: 20.4ms\tremaining: 20.4ms\n",
      "3:\tlearn: 0.4672376\ttotal: 152ms\tremaining: 76.2ms\n4:\tlearn: 0.4638614\ttotal: 267ms\tremaining: 53.4ms\n",
      "5:\tlearn: 0.4600163\ttotal: 387ms\tremaining: 0us\nprediccion =  39\n0:\tlearn: 0.4812005\ttotal: 2.69ms\tremaining: 13.4ms\n1:\tlearn: 0.4737425\ttotal: 18.9ms\tremaining: 37.9ms\n2:\tlearn: 0.4719375\ttotal: 20.3ms\tremaining: 20.3ms\n",
      "3:\tlearn: 0.4670975\ttotal: 271ms\tremaining: 136ms\n",
      "4:\tlearn: 0.4630469\ttotal: 521ms\tremaining: 104ms\n5:\tlearn: 0.4612413\ttotal: 550ms\tremaining: 0us\nprediccion =  40\n0:\tlearn: 0.4873409\ttotal: 2.81ms\tremaining: 19.6ms\n1:\tlearn: 0.4804424\ttotal: 6.51ms\tremaining: 19.5ms\n2:\tlearn: 0.4770779\ttotal: 9.93ms\tremaining: 16.5ms\n3:\tlearn: 0.4745782\ttotal: 13.4ms\tremaining: 13.4ms\n4:\tlearn: 0.4731882\ttotal: 17.1ms\tremaining: 10.2ms\n5:\tlearn: 0.4715317\ttotal: 20.9ms\tremaining: 6.96ms\n6:\tlearn: 0.4704598\ttotal: 24.6ms\tremaining: 3.51ms\n",
      "7:\tlearn: 0.4697308\ttotal: 28.5ms\tremaining: 0us\nprediccion =  41\n0:\tlearn: 0.4873409\ttotal: 3.62ms\tremaining: 25.3ms\n1:\tlearn: 0.4801432\ttotal: 12.5ms\tremaining: 37.4ms\n2:\tlearn: 0.4770467\ttotal: 15.5ms\tremaining: 25.9ms\n3:\tlearn: 0.4738367\ttotal: 21ms\tremaining: 21ms\n4:\tlearn: 0.4713760\ttotal: 26.2ms\tremaining: 15.7ms\n5:\tlearn: 0.4700253\ttotal: 31.8ms\tremaining: 10.6ms\n6:\tlearn: 0.4687057\ttotal: 37.1ms\tremaining: 5.3ms\n7:\tlearn: 0.4677872\ttotal: 42.5ms\tremaining: 0us\n",
      "prediccion =  42\n0:\tlearn: 0.4873409\ttotal: 1.84ms\tremaining: 12.9ms\n1:\tlearn: 0.4797932\ttotal: 10.4ms\tremaining: 31.3ms\n2:\tlearn: 0.4754871\ttotal: 18.3ms\tremaining: 30.5ms\n3:\tlearn: 0.4730560\ttotal: 26ms\tremaining: 26ms\n4:\tlearn: 0.4705029\ttotal: 34.4ms\tremaining: 20.6ms\n5:\tlearn: 0.4691165\ttotal: 42.1ms\tremaining: 14ms\n6:\tlearn: 0.4680602\ttotal: 50ms\tremaining: 7.14ms\n7:\tlearn: 0.4673222\ttotal: 57.7ms\tremaining: 0us\nprediccion =  43\n0:\tlearn: 0.4873409\ttotal: 2.37ms\tremaining: 16.6ms\n",
      "1:\tlearn: 0.4797933\ttotal: 17.9ms\tremaining: 53.8ms\n2:\tlearn: 0.4754717\ttotal: 33.1ms\tremaining: 55.2ms\n3:\tlearn: 0.4731609\ttotal: 50.1ms\tremaining: 50.1ms\n4:\tlearn: 0.4725387\ttotal: 51.7ms\tremaining: 31ms\n5:\tlearn: 0.4697550\ttotal: 67ms\tremaining: 22.3ms\n6:\tlearn: 0.4678878\ttotal: 82.2ms\tremaining: 11.7ms\n7:\tlearn: 0.4664652\ttotal: 100ms\tremaining: 0us\nprediccion = ",
      " 44\n0:\tlearn: 0.4873409\ttotal: 2.79ms\tremaining: 19.5ms\n1:\tlearn: 0.4794232\ttotal: 33.1ms\tremaining: 99.4ms\n2:\tlearn: 0.4754357\ttotal: 63.1ms\tremaining: 105ms\n3:\tlearn: 0.4713639\ttotal: 92.1ms\tremaining: 92.1ms\n4:\tlearn: 0.4688582\ttotal: 121ms\tremaining: 72.5ms\n",
      "5:\tlearn: 0.4669534\ttotal: 150ms\tremaining: 50ms\n6:\tlearn: 0.4654823\ttotal: 182ms\tremaining: 26ms\n7:\tlearn: 0.4648897\ttotal: 184ms\tremaining: 0us\nprediccion =  45\n0:\tlearn: 0.4873409\ttotal: 2.05ms\tremaining: 14.4ms\n",
      "1:\tlearn: 0.4788833\ttotal: 66.7ms\tremaining: 200ms\n2:\tlearn: 0.4739077\ttotal: 125ms\tremaining: 209ms\n3:\tlearn: 0.4701450\ttotal: 185ms\tremaining: 185ms\n",
      "4:\tlearn: 0.4676505\ttotal: 253ms\tremaining: 152ms\n5:\tlearn: 0.4658204\ttotal: 312ms\tremaining: 104ms\n",
      "6:\tlearn: 0.4634017\ttotal: 400ms\tremaining: 57.2ms\n7:\tlearn: 0.4627922\ttotal: 416ms\tremaining: 0us\nprediccion =  46\n0:\tlearn: 0.4873409\ttotal: 1.85ms\tremaining: 13ms\n",
      "1:\tlearn: 0.4788046\ttotal: 122ms\tremaining: 367ms\n2:\tlearn: 0.4743611\ttotal: 155ms\tremaining: 259ms\n",
      "3:\tlearn: 0.4706547\ttotal: 316ms\tremaining: 316ms\n4:\tlearn: 0.4671527\ttotal: 431ms\tremaining: 259ms\n",
      "5:\tlearn: 0.4653946\ttotal: 544ms\tremaining: 181ms\n6:\tlearn: 0.4642578\ttotal: 679ms\tremaining: 96.9ms\n",
      "7:\tlearn: 0.4623278\ttotal: 818ms\tremaining: 0us\nprediccion =  47\n0:\tlearn: 0.4873409\ttotal: 2.07ms\tremaining: 14.5ms\n",
      "1:\tlearn: 0.4783341\ttotal: 2.07ms\tremaining: 14.5ms\n",
      "2:\tlearn: 0.4727680\ttotal: 2.07ms\tremaining: 14.5ms\n",
      "3:\tlearn: 0.4685907\ttotal: 2.07ms\tremaining: 14.5ms\n",
      "4:\tlearn: 0.4658249\ttotal: 2.07ms\tremaining: 14.5ms\n5:\tlearn: 0.4652796\ttotal: 10.5ms\tremaining: 10.5ms\n6:\tlearn: 0.4648961\ttotal: 12ms\tremaining: 4.01ms\n7:\tlearn: 0.4644275\ttotal: 13.8ms\tremaining: 0us\nprediccion =  48\n0:\tlearn: 0.4853584\ttotal: 2.25ms\tremaining: 15.8ms\n",
      "1:\tlearn: 0.4778589\ttotal: 6.13ms\tremaining: 18.4ms\n2:\tlearn: 0.4743663\ttotal: 9.83ms\tremaining: 16.4ms\n3:\tlearn: 0.4713682\ttotal: 13.4ms\tremaining: 13.4ms\n4:\tlearn: 0.4703815\ttotal: 16.9ms\tremaining: 10.1ms\n5:\tlearn: 0.4697153\ttotal: 20.5ms\tremaining: 6.82ms\n6:\tlearn: 0.4678229\ttotal: 24.1ms\tremaining: 3.45ms\n7:\tlearn: 0.4663802\ttotal: 29.1ms\tremaining: 0us\nprediccion =  49\n0:\tlearn: 0.4853584\ttotal: 2.31ms\tremaining: 16.2ms\n",
      "1:\tlearn: 0.4774749\ttotal: 8.25ms\tremaining: 24.7ms\n2:\tlearn: 0.4739955\ttotal: 13.5ms\tremaining: 22.5ms\n3:\tlearn: 0.4723008\ttotal: 16.3ms\tremaining: 16.3ms\n4:\tlearn: 0.4697121\ttotal: 21.6ms\tremaining: 13ms\n5:\tlearn: 0.4684783\ttotal: 27ms\tremaining: 9.02ms\n6:\tlearn: 0.4672199\ttotal: 32.9ms\tremaining: 4.71ms\n7:\tlearn: 0.4661323\ttotal: 38.4ms\tremaining: 0us\nprediccion =  50\n0:\tlearn: 0.4853584\ttotal: 1.94ms\tremaining: 13.6ms\n1:\tlearn: 0.4770272\ttotal: 10ms\tremaining: 30.1ms\n2:\tlearn: 0.4745970\ttotal: 11.5ms\tremaining: 19.2ms\n3:\tlearn: 0.4718716\ttotal: 19.2ms\tremaining: 19.2ms\n4:\tlearn: 0.4702789\ttotal: 26.9ms\tremaining: 16.1ms\n5:\tlearn: 0.4682759\ttotal: 34.6ms\tremaining: 11.5ms\n",
      "6:\tlearn: 0.4670711\ttotal: 42.7ms\tremaining: 6.1ms\n7:\tlearn: 0.4648636\ttotal: 51ms\tremaining: 0us\nprediccion =  51\n0:\tlearn: 0.4853584\ttotal: 2.48ms\tremaining: 17.4ms\n1:\tlearn: 0.4770273\ttotal: 19.7ms\tremaining: 59.1ms\n2:\tlearn: 0.4724907\ttotal: 37.4ms\tremaining: 62.4ms\n",
      "3:\tlearn: 0.4695880\ttotal: 53.8ms\tremaining: 53.8ms\n4:\tlearn: 0.4672284\ttotal: 70.6ms\tremaining: 42.4ms\n5:\tlearn: 0.4652917\ttotal: 86.1ms\tremaining: 28.7ms\n6:\tlearn: 0.4631581\ttotal: 100ms\tremaining: 14.3ms\n7:\tlearn: 0.4621936\ttotal: 115ms\tremaining: 0us\nprediccion =  52\n",
      "0:\tlearn: 0.4853584\ttotal: 1.99ms\tremaining: 14ms\n1:\tlearn: 0.4765435\ttotal: 33.5ms\tremaining: 100ms\n2:\tlearn: 0.4721569\ttotal: 63.4ms\tremaining: 106ms\n3:\tlearn: 0.4680559\ttotal: 92.4ms\tremaining: 92.4ms\n4:\tlearn: 0.4661974\ttotal: 139ms\tremaining: 83.7ms\n5:\tlearn: 0.4643825\ttotal: 172ms\tremaining: 57.5ms\n",
      "6:\tlearn: 0.4630258\ttotal: 205ms\tremaining: 29.2ms\n7:\tlearn: 0.4626052\ttotal: 207ms\tremaining: 0us\nprediccion =  53\n",
      "0:\tlearn: 0.4853584\ttotal: 2.5ms\tremaining: 17.5ms\n1:\tlearn: 0.4758507\ttotal: 65.7ms\tremaining: 197ms\n2:\tlearn: 0.4706990\ttotal: 125ms\tremaining: 208ms\n",
      "3:\tlearn: 0.4673000\ttotal: 205ms\tremaining: 205ms\n4:\tlearn: 0.4645994\ttotal: 265ms\tremaining: 159ms\n5:\tlearn: 0.4633993\ttotal: 321ms\tremaining: 107ms\n6:\tlearn: 0.4606549\ttotal: 377ms\tremaining: 53.9ms\n7:\tlearn: 0.4604219\ttotal: 381ms\tremaining: 0us\n",
      "prediccion =  54\n0:\tlearn: 0.4853584\ttotal: 1.85ms\tremaining: 13ms\n1:\tlearn: 0.4757455\ttotal: 112ms\tremaining: 336ms\n2:\tlearn: 0.4712560\ttotal: 141ms\tremaining: 234ms\n",
      "3:\tlearn: 0.4675773\ttotal: 256ms\tremaining: 256ms\n4:\tlearn: 0.4637825\ttotal: 368ms\tremaining: 221ms\n",
      "5:\tlearn: 0.4615890\ttotal: 488ms\tremaining: 163ms\n6:\tlearn: 0.4602512\ttotal: 642ms\tremaining: 91.7ms\n7:\tlearn: 0.4588649\ttotal: 652ms\tremaining: 0us\n",
      "prediccion =  55\n0:\tlearn: 0.4853584\ttotal: 2.63ms\tremaining: 18.4ms\n",
      "1:\tlearn: 0.4751339\ttotal: 226ms\tremaining: 678ms\n2:\tlearn: 0.4711015\ttotal: 237ms\tremaining: 395ms\n3:\tlearn: 0.4696052\ttotal: 263ms\tremaining: 263ms\n",
      "4:\tlearn: 0.4646827\ttotal: 517ms\tremaining: 310ms\n",
      "5:\tlearn: 0.4615311\ttotal: 745ms\tremaining: 248ms\n",
      "6:\tlearn: 0.4584041\ttotal: 1.01s\tremaining: 145ms\n7:\tlearn: 0.4576786\ttotal: 1.02s\tremaining: 0us\nprediccion =  56\n0:\tlearn: 0.4836722\ttotal: 2.26ms\tremaining: 15.8ms\n1:\tlearn: 0.4768299\ttotal: 6.21ms\tremaining: 18.6ms\n2:\tlearn: 0.4724783\ttotal: 10ms\tremaining: 16.7ms\n3:\tlearn: 0.4703033\ttotal: 13.6ms\tremaining: 13.6ms\n4:\tlearn: 0.4692715\ttotal: 17.2ms\tremaining: 10.3ms\n5:\tlearn: 0.4686750\ttotal: 20.6ms\tremaining: 6.88ms\n6:\tlearn: 0.4662355\ttotal: 24.2ms\tremaining: 3.46ms\n7:\tlearn: 0.4657143\ttotal: 27.9ms\tremaining: 0us\n",
      "prediccion =  57\n0:\tlearn: 0.4836722\ttotal: 2.32ms\tremaining: 16.2ms\n",
      "1:\tlearn: 0.4759059\ttotal: 8.08ms\tremaining: 24.2ms\n2:\tlearn: 0.4725331\ttotal: 13.1ms\tremaining: 21.8ms\n3:\tlearn: 0.4699452\ttotal: 18.3ms\tremaining: 18.3ms\n4:\tlearn: 0.4680113\ttotal: 23.7ms\tremaining: 14.2ms\n5:\tlearn: 0.4665728\ttotal: 29.1ms\tremaining: 9.71ms\n6:\tlearn: 0.4660607\ttotal: 34.1ms\tremaining: 4.88ms\n7:\tlearn: 0.4651070\ttotal: 37.9ms\tremaining: 0us\nprediccion =  58\n0:\tlearn: 0.4836722\ttotal: 1.84ms\tremaining: 12.9ms\n1:\tlearn: 0.4754039\ttotal: 9.93ms\tremaining: 29.8ms\n2:\tlearn: 0.4726955\ttotal: 11.5ms\tremaining: 19.2ms\n3:\tlearn: 0.4696901\ttotal: 19.4ms\tremaining: 19.4ms\n4:\tlearn: 0.4688414\ttotal: 20.9ms\tremaining: 12.6ms\n5:\tlearn: 0.4682788\ttotal: 29ms\tremaining: 9.67ms\n",
      "6:\tlearn: 0.4675575\ttotal: 30.5ms\tremaining: 4.36ms\n7:\tlearn: 0.4652524\ttotal: 39.1ms\tremaining: 0us\nprediccion =  59\n0:\tlearn: 0.4836722\ttotal: 2.01ms\tremaining: 14.1ms\n1:\tlearn: 0.4754039\ttotal: 17.5ms\tremaining: 52.5ms\n2:\tlearn: 0.4711663\ttotal: 32.2ms\tremaining: 53.7ms\n3:\tlearn: 0.4681449\ttotal: 46ms\tremaining: 46ms\n4:\tlearn: 0.4660692\ttotal: 60.3ms\tremaining: 36.2ms\n5:\tlearn: 0.4642131\ttotal: 76.7ms\tremaining: 25.6ms\n",
      "6:\tlearn: 0.4633311\ttotal: 96.2ms\tremaining: 13.7ms\n7:\tlearn: 0.4618724\ttotal: 112ms\tremaining: 0us\nprediccion =  60\n0:\tlearn: 0.4836722\ttotal: 1.82ms\tremaining: 12.7ms\n1:\tlearn: 0.4754039\ttotal: 15.8ms\tremaining: 47.5ms\n2:\tlearn: 0.4705471\ttotal: 44.1ms\tremaining: 73.5ms\n",
      "3:\tlearn: 0.4684920\ttotal: 58.9ms\tremaining: 58.9ms\n4:\tlearn: 0.4674268\ttotal: 62.2ms\tremaining: 37.3ms\n5:\tlearn: 0.4651379\ttotal: 93.8ms\tremaining: 31.3ms\n6:\tlearn: 0.4642099\ttotal: 122ms\tremaining: 17.5ms\n7:\tlearn: 0.4637302\ttotal: 124ms\tremaining: 0us\nprediccion =  61\n0:\tlearn: 0.4836722\ttotal: 1.82ms\tremaining: 12.8ms\n",
      "1:\tlearn: 0.4754039\ttotal: 17.2ms\tremaining: 51.7ms\n2:\tlearn: 0.4701475\ttotal: 78.9ms\tremaining: 132ms\n3:\tlearn: 0.4661026\ttotal: 137ms\tremaining: 137ms\n4:\tlearn: 0.4642822\ttotal: 194ms\tremaining: 116ms\n",
      "5:\tlearn: 0.4631953\ttotal: 255ms\tremaining: 85.1ms\n6:\tlearn: 0.4611871\ttotal: 316ms\tremaining: 45.1ms\n7:\tlearn: 0.4586486\ttotal: 385ms\tremaining: 0us\n",
      "prediccion =  62\n0:\tlearn: 0.4836722\ttotal: 1.9ms\tremaining: 13.3ms\n1:\tlearn: 0.4754039\ttotal: 17.3ms\tremaining: 51.9ms\n",
      "2:\tlearn: 0.4698095\ttotal: 141ms\tremaining: 235ms\n3:\tlearn: 0.4681549\ttotal: 149ms\tremaining: 149ms\n4:\tlearn: 0.4645390\ttotal: 291ms\tremaining: 175ms\n",
      "5:\tlearn: 0.4624682\ttotal: 443ms\tremaining: 148ms\n6:\tlearn: 0.4606629\ttotal: 568ms\tremaining: 81.2ms\n",
      "7:\tlearn: 0.4591499\ttotal: 703ms\tremaining: 0us\n",
      "prediccion =  63\n0:\tlearn: 0.4836722\ttotal: 2.24ms\tremaining: 15.7ms\n1:\tlearn: 0.4754039\ttotal: 17.7ms\tremaining: 53.2ms\n",
      "2:\tlearn: 0.4698095\ttotal: 280ms\tremaining: 466ms\n",
      "3:\tlearn: 0.4655975\ttotal: 545ms\tremaining: 545ms\n4:\tlearn: 0.4647873\ttotal: 561ms\tremaining: 336ms\n",
      "5:\tlearn: 0.4626465\ttotal: 804ms\tremaining: 268ms\n",
      "6:\tlearn: 0.4594846\ttotal: 1.07s\tremaining: 153ms\n",
      "7:\tlearn: 0.4576924\ttotal: 1.32s\tremaining: 0us\nprediccion =  64\n0:\tlearn: 0.4822854\ttotal: 9.6ms\tremaining: 67.2ms\n1:\tlearn: 0.4753595\ttotal: 23.9ms\tremaining: 71.6ms\n",
      "2:\tlearn: 0.4710326\ttotal: 37ms\tremaining: 61.8ms\n3:\tlearn: 0.4682445\ttotal: 41.3ms\tremaining: 41.3ms\n4:\tlearn: 0.4676837\ttotal: 45.4ms\tremaining: 27.2ms\n5:\tlearn: 0.4670025\ttotal: 49.4ms\tremaining: 16.5ms\n6:\tlearn: 0.4651676\ttotal: 53.5ms\tremaining: 7.64ms\n7:\tlearn: 0.4647227\ttotal: 62.8ms\tremaining: 0us\nprediccion =  65\n0:\tlearn: 0.4822854\ttotal: 2.22ms\tremaining: 15.6ms\n1:\tlearn: 0.4745541\ttotal: 7.72ms\tremaining: 23.2ms\n2:\tlearn: 0.4715953\ttotal: 10.5ms\tremaining: 17.5ms\n3:\tlearn: 0.4702800\ttotal: 15.6ms\tremaining: 15.6ms\n",
      "4:\tlearn: 0.4681016\ttotal: 21.2ms\tremaining: 12.7ms\n5:\tlearn: 0.4665486\ttotal: 27.1ms\tremaining: 9.03ms\n6:\tlearn: 0.4652328\ttotal: 32.8ms\tremaining: 4.68ms\n7:\tlearn: 0.4644891\ttotal: 38.4ms\tremaining: 0us\nprediccion =  66\n0:\tlearn: 0.4822854\ttotal: 6.52ms\tremaining: 45.6ms\n1:\tlearn: 0.4739821\ttotal: 16.1ms\tremaining: 48.4ms\n2:\tlearn: 0.4710989\ttotal: 17.9ms\tremaining: 29.9ms\n3:\tlearn: 0.4688929\ttotal: 40.2ms\tremaining: 40.2ms\n4:\tlearn: 0.4674518\ttotal: 49.7ms\tremaining: 29.8ms\n",
      "5:\tlearn: 0.4645423\ttotal: 61.4ms\tremaining: 20.5ms\n6:\tlearn: 0.4635211\ttotal: 72.2ms\tremaining: 10.3ms\n7:\tlearn: 0.4618416\ttotal: 81.8ms\tremaining: 0us\nprediccion =  67\n0:\tlearn: 0.4822854\ttotal: 2.03ms\tremaining: 14.2ms\n1:\tlearn: 0.4739821\ttotal: 18.9ms\tremaining: 56.7ms\n",
      "2:\tlearn: 0.4697636\ttotal: 36.1ms\tremaining: 60.1ms\n3:\tlearn: 0.4682334\ttotal: 41.6ms\tremaining: 41.6ms\n4:\tlearn: 0.4660951\ttotal: 59.1ms\tremaining: 35.5ms\n5:\tlearn: 0.4634590\ttotal: 75.8ms\tremaining: 25.3ms\n6:\tlearn: 0.4614645\ttotal: 84ms\tremaining: 12ms\n7:\tlearn: 0.4604289\ttotal: 99.3ms\tremaining: 0us\nprediccion =  68\n",
      "0:\tlearn: 0.4822854\ttotal: 2.3ms\tremaining: 16.1ms\n1:\tlearn: 0.4739821\ttotal: 17.5ms\tremaining: 52.6ms\n2:\tlearn: 0.4691447\ttotal: 51.3ms\tremaining: 85.5ms\n3:\tlearn: 0.4664252\ttotal: 81ms\tremaining: 81ms\n4:\tlearn: 0.4644592\ttotal: 110ms\tremaining: 66.2ms\n5:\tlearn: 0.4617789\ttotal: 140ms\tremaining: 46.5ms\n6:\tlearn: 0.4588644\ttotal: 168ms\tremaining: 24ms\n",
      "7:\tlearn: 0.4570988\ttotal: 197ms\tremaining: 0us\nprediccion =  69\n0:\tlearn: 0.4822854\ttotal: 6.08ms\tremaining: 42.6ms\n1:\tlearn: 0.4739821\ttotal: 22.6ms\tremaining: 67.7ms\n",
      "2:\tlearn: 0.4686941\ttotal: 86.1ms\tremaining: 143ms\n3:\tlearn: 0.4650493\ttotal: 147ms\tremaining: 147ms\n4:\tlearn: 0.4624981\ttotal: 205ms\tremaining: 123ms\n5:\tlearn: 0.4616242\ttotal: 264ms\tremaining: 88ms\n",
      "6:\tlearn: 0.4591088\ttotal: 324ms\tremaining: 46.3ms\n7:\tlearn: 0.4590421\ttotal: 326ms\tremaining: 0us\nprediccion =  70\n0:\tlearn: 0.4822854\ttotal: 4.49ms\tremaining: 31.4ms\n1:\tlearn: 0.4739821\ttotal: 23ms\tremaining: 69ms\n",
      "2:\tlearn: 0.4682920\ttotal: 146ms\tremaining: 243ms\n3:\tlearn: 0.4667341\ttotal: 155ms\tremaining: 155ms\n4:\tlearn: 0.4627313\ttotal: 283ms\tremaining: 170ms\n",
      "5:\tlearn: 0.4605385\ttotal: 407ms\tremaining: 136ms\n6:\tlearn: 0.4591363\ttotal: 534ms\tremaining: 76.3ms\n7:\tlearn: 0.4586236\ttotal: 541ms\tremaining: 0us\n",
      "prediccion =  71\n0:\tlearn: 0.4822854\ttotal: 2.26ms\tremaining: 15.8ms\n1:\tlearn: 0.4739821\ttotal: 18.7ms\tremaining: 56.1ms\n",
      "2:\tlearn: 0.4682920\ttotal: 280ms\tremaining: 467ms\n",
      "3:\tlearn: 0.4637333\ttotal: 609ms\tremaining: 609ms\n",
      "4:\tlearn: 0.4602200\ttotal: 850ms\tremaining: 510ms\n5:\tlearn: 0.4592148\ttotal: 980ms\tremaining: 327ms\n",
      "6:\tlearn: 0.4565182\ttotal: 1.23s\tremaining: 176ms\n",
      "7:\tlearn: 0.4548613\ttotal: 1.49s\tremaining: 0us\nprediccion =  72\n0:\tlearn: 0.4812005\ttotal: 2.8ms\tremaining: 19.6ms\n1:\tlearn: 0.4743368\ttotal: 6.91ms\tremaining: 20.7ms\n2:\tlearn: 0.4698118\ttotal: 10.8ms\tremaining: 18ms\n3:\tlearn: 0.4679936\ttotal: 14.7ms\tremaining: 14.7ms\n4:\tlearn: 0.4672389\ttotal: 18.6ms\tremaining: 11.1ms\n5:\tlearn: 0.4662508\ttotal: 22.5ms\tremaining: 7.49ms\n6:\tlearn: 0.4647760\ttotal: 26.3ms\tremaining: 3.76ms\n",
      "7:\tlearn: 0.4639948\ttotal: 30.4ms\tremaining: 0us\nprediccion =  73\n0:\tlearn: 0.4812005\ttotal: 2.33ms\tremaining: 16.3ms\n1:\tlearn: 0.4742224\ttotal: 8.24ms\tremaining: 24.7ms\n2:\tlearn: 0.4705973\ttotal: 13.8ms\tremaining: 23ms\n",
      "3:\tlearn: 0.4676151\ttotal: 19.3ms\tremaining: 19.3ms\n4:\tlearn: 0.4655303\ttotal: 24.8ms\tremaining: 14.9ms\n5:\tlearn: 0.4637161\ttotal: 34.9ms\tremaining: 11.6ms\n6:\tlearn: 0.4632159\ttotal: 40.5ms\tremaining: 5.78ms\n7:\tlearn: 0.4612468\ttotal: 46.1ms\tremaining: 0us\n",
      "prediccion =  74\n0:\tlearn: 0.4812005\ttotal: 5.94ms\tremaining: 41.6ms\n1:\tlearn: 0.4737425\ttotal: 15.5ms\tremaining: 46.4ms\n2:\tlearn: 0.4708531\ttotal: 17.3ms\tremaining: 28.8ms\n3:\tlearn: 0.4679346\ttotal: 26.6ms\tremaining: 26.6ms\n4:\tlearn: 0.4669749\ttotal: 36.5ms\tremaining: 21.9ms\n5:\tlearn: 0.4647565\ttotal: 45.9ms\tremaining: 15.3ms\n6:\tlearn: 0.4634954\ttotal: 54.8ms\tremaining: 7.83ms\n7:\tlearn: 0.4614879\ttotal: 63.4ms\tremaining: 0us\nprediccion =  75\n0:\tlearn: 0.4812005\ttotal: 5.12ms\tremaining: 35.8ms\n",
      "1:\tlearn: 0.4737425\ttotal: 22.6ms\tremaining: 67.7ms\n2:\tlearn: 0.4719375\ttotal: 24ms\tremaining: 40ms\n3:\tlearn: 0.4682420\ttotal: 41.8ms\tremaining: 41.8ms\n4:\tlearn: 0.4650215\ttotal: 58.2ms\tremaining: 34.9ms\n5:\tlearn: 0.4627554\ttotal: 75.4ms\tremaining: 25.1ms\n6:\tlearn: 0.4604231\ttotal: 91.4ms\tremaining: 13.1ms\n7:\tlearn: 0.4599777\ttotal: 102ms\tremaining: 0us\nprediccion =  76\n",
      "0:\tlearn: 0.4812005\ttotal: 2.14ms\tremaining: 15ms\n1:\tlearn: 0.4737425\ttotal: 19ms\tremaining: 56.9ms\n2:\tlearn: 0.4719375\ttotal: 20.6ms\tremaining: 34.4ms\n3:\tlearn: 0.4679801\ttotal: 55.4ms\tremaining: 55.4ms\n4:\tlearn: 0.4631892\ttotal: 91.6ms\tremaining: 54.9ms\n5:\tlearn: 0.4612608\ttotal: 136ms\tremaining: 45.2ms\n6:\tlearn: 0.4579620\ttotal: 167ms\tremaining: 23.8ms\n",
      "7:\tlearn: 0.4564025\ttotal: 200ms\tremaining: 0us\nprediccion =  77\n0:\tlearn: 0.4812005\ttotal: 5.85ms\tremaining: 41ms\n1:\tlearn: 0.4737425\ttotal: 21.9ms\tremaining: 65.8ms\n2:\tlearn: 0.4719375\ttotal: 23.5ms\tremaining: 39.1ms\n",
      "3:\tlearn: 0.4672356\ttotal: 89.3ms\tremaining: 89.3ms\n4:\tlearn: 0.4627430\ttotal: 152ms\tremaining: 91.3ms\n5:\tlearn: 0.4611183\ttotal: 223ms\tremaining: 74.5ms\n6:\tlearn: 0.4600467\ttotal: 233ms\tremaining: 33.3ms\n",
      "7:\tlearn: 0.4589189\ttotal: 299ms\tremaining: 0us\nprediccion =  78\n0:\tlearn: 0.4812005\ttotal: 5.16ms\tremaining: 36.1ms\n1:\tlearn: 0.4737425\ttotal: 23.4ms\tremaining: 70.3ms\n2:\tlearn: 0.4719375\ttotal: 25.2ms\tremaining: 42ms\n",
      "3:\tlearn: 0.4672376\ttotal: 160ms\tremaining: 160ms\n4:\tlearn: 0.4638614\ttotal: 283ms\tremaining: 170ms\n",
      "5:\tlearn: 0.4600163\ttotal: 418ms\tremaining: 139ms\n6:\tlearn: 0.4599435\ttotal: 420ms\tremaining: 60ms\n7:\tlearn: 0.4574269\ttotal: 541ms\tremaining: 0us\n",
      "prediccion =  79\n0:\tlearn: 0.4812005\ttotal: 5.5ms\tremaining: 38.5ms\n1:\tlearn: 0.4737425\ttotal: 22ms\tremaining: 66ms\n2:\tlearn: 0.4719375\ttotal: 23.5ms\tremaining: 39.1ms\n",
      "3:\tlearn: 0.4670975\ttotal: 285ms\tremaining: 285ms\n",
      "4:\tlearn: 0.4630469\ttotal: 560ms\tremaining: 336ms\n5:\tlearn: 0.4612413\ttotal: 596ms\tremaining: 199ms\n6:\tlearn: 0.4612068\ttotal: 598ms\tremaining: 85.4ms\n7:\tlearn: 0.4593166\ttotal: 729ms\tremaining: 0us\n",
      "prediccion =  80\n0:\tlearn: 0.4873409\ttotal: 8.79ms\tremaining: 79.1ms\n1:\tlearn: 0.4804424\ttotal: 12.9ms\tremaining: 51.7ms\n2:\tlearn: 0.4770779\ttotal: 16.7ms\tremaining: 39ms\n3:\tlearn: 0.4745782\ttotal: 20.6ms\tremaining: 30.9ms\n4:\tlearn: 0.4731882\ttotal: 24.5ms\tremaining: 24.5ms\n5:\tlearn: 0.4715317\ttotal: 28.4ms\tremaining: 18.9ms\n6:\tlearn: 0.4704598\ttotal: 32.2ms\tremaining: 13.8ms\n7:\tlearn: 0.4697308\ttotal: 37.4ms\tremaining: 9.35ms\n8:\tlearn: 0.4687503\ttotal: 41.3ms\tremaining: 4.59ms\n9:\tlearn: 0.4681899\ttotal: 45.2ms\tremaining: 0us\nprediccion =  81\n",
      "0:\tlearn: 0.4873409\ttotal: 8.06ms\tremaining: 72.6ms\n1:\tlearn: 0.4801432\ttotal: 14.1ms\tremaining: 56.3ms\n2:\tlearn: 0.4770467\ttotal: 17.1ms\tremaining: 39.8ms\n3:\tlearn: 0.4738367\ttotal: 22.7ms\tremaining: 34.1ms\n4:\tlearn: 0.4713760\ttotal: 28.3ms\tremaining: 28.3ms\n5:\tlearn: 0.4700253\ttotal: 33.6ms\tremaining: 22.4ms\n6:\tlearn: 0.4687057\ttotal: 39.1ms\tremaining: 16.8ms\n7:\tlearn: 0.4677872\ttotal: 44.5ms\tremaining: 11.1ms\n8:\tlearn: 0.4670301\ttotal: 50.1ms\tremaining: 5.57ms\n9:\tlearn: 0.4663005\ttotal: 55.9ms\tremaining: 0us\nprediccion =  82\n0:\tlearn: 0.4873409\ttotal: 4.84ms\tremaining: 43.5ms\n",
      "1:\tlearn: 0.4797932\ttotal: 14.9ms\tremaining: 59.6ms\n2:\tlearn: 0.4754871\ttotal: 24.5ms\tremaining: 57.2ms\n3:\tlearn: 0.4730560\ttotal: 35.1ms\tremaining: 52.6ms\n4:\tlearn: 0.4705029\ttotal: 44.5ms\tremaining: 44.5ms\n5:\tlearn: 0.4691165\ttotal: 54.1ms\tremaining: 36ms\n6:\tlearn: 0.4680602\ttotal: 68.8ms\tremaining: 29.5ms\n7:\tlearn: 0.4673222\ttotal: 78.4ms\tremaining: 19.6ms\n8:\tlearn: 0.4655209\ttotal: 87.3ms\tremaining: 9.7ms\n9:\tlearn: 0.4647125\ttotal: 97.3ms\tremaining: 0us\n",
      "prediccion =  83\n0:\tlearn: 0.4873409\ttotal: 6.35ms\tremaining: 57.1ms\n1:\tlearn: 0.4797933\ttotal: 23.3ms\tremaining: 93.4ms\n2:\tlearn: 0.4754717\ttotal: 42.7ms\tremaining: 99.6ms\n3:\tlearn: 0.4731609\ttotal: 71.5ms\tremaining: 107ms\n4:\tlearn: 0.4725387\ttotal: 76.6ms\tremaining: 76.6ms\n5:\tlearn: 0.4697550\ttotal: 98.8ms\tremaining: 65.8ms\n6:\tlearn: 0.4678878\ttotal: 115ms\tremaining: 49.4ms\n7:\tlearn: 0.4664652\ttotal: 133ms\tremaining: 33.3ms\n",
      "8:\tlearn: 0.4646261\ttotal: 149ms\tremaining: 16.6ms\n9:\tlearn: 0.4639646\ttotal: 168ms\tremaining: 0us\nprediccion =  84\n0:\tlearn: 0.4873409\ttotal: 1.94ms\tremaining: 17.5ms\n",
      "1:\tlearn: 0.4794232\ttotal: 32.5ms\tremaining: 130ms\n2:\tlearn: 0.4754357\ttotal: 65.1ms\tremaining: 152ms\n3:\tlearn: 0.4713639\ttotal: 106ms\tremaining: 159ms\n4:\tlearn: 0.4688582\ttotal: 141ms\tremaining: 141ms\n5:\tlearn: 0.4669534\ttotal: 172ms\tremaining: 115ms\n",
      "6:\tlearn: 0.4654823\ttotal: 203ms\tremaining: 87ms\n7:\tlearn: 0.4648897\ttotal: 205ms\tremaining: 51.3ms\n8:\tlearn: 0.4630223\ttotal: 235ms\tremaining: 26.2ms\n9:\tlearn: 0.4620111\ttotal: 265ms\tremaining: 0us\nprediccion =  85\n0:\tlearn: 0.4873409\ttotal: 2.11ms\tremaining: 19ms\n",
      "1:\tlearn: 0.4788833\ttotal: 64.3ms\tremaining: 257ms\n2:\tlearn: 0.4739077\ttotal: 125ms\tremaining: 293ms\n3:\tlearn: 0.4701450\ttotal: 195ms\tremaining: 292ms\n4:\tlearn: 0.4676505\ttotal: 262ms\tremaining: 262ms\n",
      "5:\tlearn: 0.4658204\ttotal: 323ms\tremaining: 216ms\n6:\tlearn: 0.4634017\ttotal: 386ms\tremaining: 165ms\n7:\tlearn: 0.4627922\ttotal: 407ms\tremaining: 102ms\n",
      "8:\tlearn: 0.4612269\ttotal: 478ms\tremaining: 53.1ms\n9:\tlearn: 0.4601821\ttotal: 545ms\tremaining: 0us\n",
      "prediccion =  86\n0:\tlearn: 0.4873409\ttotal: 1.91ms\tremaining: 17.2ms\n1:\tlearn: 0.4788046\ttotal: 129ms\tremaining: 515ms\n",
      "2:\tlearn: 0.4743611\ttotal: 160ms\tremaining: 373ms\n3:\tlearn: 0.4706547\ttotal: 284ms\tremaining: 425ms\n",
      "4:\tlearn: 0.4671527\ttotal: 407ms\tremaining: 407ms\n5:\tlearn: 0.4653946\ttotal: 530ms\tremaining: 353ms\n",
      "6:\tlearn: 0.4642578\ttotal: 667ms\tremaining: 286ms\n7:\tlearn: 0.4623278\ttotal: 796ms\tremaining: 199ms\n",
      "8:\tlearn: 0.4606890\ttotal: 926ms\tremaining: 103ms\n9:\tlearn: 0.4597500\ttotal: 1.06s\tremaining: 0us\n",
      "prediccion =  87\n0:\tlearn: 0.4873409\ttotal: 1.93ms\tremaining: 17.3ms\n",
      "1:\tlearn: 0.4783341\ttotal: 1.93ms\tremaining: 17.3ms\n",
      "2:\tlearn: 0.4727680\ttotal: 1.93ms\tremaining: 17.3ms\n",
      "3:\tlearn: 0.4685907\ttotal: 1.93ms\tremaining: 17.3ms\n",
      "4:\tlearn: 0.4658249\ttotal: 1.93ms\tremaining: 17.3ms\n5:\tlearn: 0.4652796\ttotal: 11.1ms\tremaining: 22.1ms\n6:\tlearn: 0.4648961\ttotal: 12.9ms\tremaining: 12.9ms\n7:\tlearn: 0.4644275\ttotal: 14.8ms\tremaining: 7.41ms\n",
      "8:\tlearn: 0.4629916\ttotal: 326ms\tremaining: 65.2ms\n",
      "9:\tlearn: 0.4615333\ttotal: 622ms\tremaining: 0us\n",
      "prediccion =  88\n0:\tlearn: 0.4853584\ttotal: 2.22ms\tremaining: 20ms\n1:\tlearn: 0.4778589\ttotal: 6.5ms\tremaining: 26ms\n2:\tlearn: 0.4743663\ttotal: 10.1ms\tremaining: 23.5ms\n3:\tlearn: 0.4713682\ttotal: 13.6ms\tremaining: 20.4ms\n4:\tlearn: 0.4703815\ttotal: 17.3ms\tremaining: 17.3ms\n5:\tlearn: 0.4697153\ttotal: 21.1ms\tremaining: 14.1ms\n6:\tlearn: 0.4678229\ttotal: 25.1ms\tremaining: 10.8ms\n7:\tlearn: 0.4663802\ttotal: 30.5ms\tremaining: 7.62ms\n8:\tlearn: 0.4654570\ttotal: 34.6ms\tremaining: 3.84ms\n9:\tlearn: 0.4651889\ttotal: 38.4ms\tremaining: 0us\n",
      "prediccion =  89\n0:\tlearn: 0.4853584\ttotal: 2.4ms\tremaining: 21.6ms\n1:\tlearn: 0.4774749\ttotal: 8.33ms\tremaining: 33.3ms\n2:\tlearn: 0.4739955\ttotal: 13.6ms\tremaining: 31.7ms\n3:\tlearn: 0.4723008\ttotal: 16.6ms\tremaining: 24.9ms\n4:\tlearn: 0.4697121\ttotal: 22ms\tremaining: 22ms\n5:\tlearn: 0.4684783\ttotal: 27.7ms\tremaining: 18.4ms\n",
      "6:\tlearn: 0.4672199\ttotal: 33ms\tremaining: 14.2ms\n7:\tlearn: 0.4661323\ttotal: 38.7ms\tremaining: 9.67ms\n8:\tlearn: 0.4656293\ttotal: 44.6ms\tremaining: 4.95ms\n9:\tlearn: 0.4651274\ttotal: 48.6ms\tremaining: 0us\nprediccion =  90\n",
      "0:\tlearn: 0.4853584\ttotal: 2.45ms\tremaining: 22.1ms\n1:\tlearn: 0.4770272\ttotal: 12.5ms\tremaining: 50.1ms\n2:\tlearn: 0.4745970\ttotal: 14.8ms\tremaining: 34.4ms\n3:\tlearn: 0.4718716\ttotal: 24.1ms\tremaining: 36.2ms\n4:\tlearn: 0.4702789\ttotal: 33.8ms\tremaining: 33.8ms\n5:\tlearn: 0.4682759\ttotal: 43.3ms\tremaining: 28.9ms\n6:\tlearn: 0.4670711\ttotal: 51.8ms\tremaining: 22.2ms\n7:\tlearn: 0.4648636\ttotal: 67.5ms\tremaining: 16.9ms\n8:\tlearn: 0.4640167\ttotal: 79.2ms\tremaining: 8.8ms\n9:\tlearn: 0.4631100\ttotal: 90.7ms\tremaining: 0us\nprediccion = ",
      " 91\n0:\tlearn: 0.4853584\ttotal: 2.17ms\tremaining: 19.5ms\n1:\tlearn: 0.4770273\ttotal: 21.6ms\tremaining: 86.3ms\n2:\tlearn: 0.4724907\ttotal: 45.9ms\tremaining: 107ms\n3:\tlearn: 0.4695880\ttotal: 62ms\tremaining: 93ms\n4:\tlearn: 0.4672284\ttotal: 80.5ms\tremaining: 80.5ms\n5:\tlearn: 0.4652917\ttotal: 97.8ms\tremaining: 65.2ms\n6:\tlearn: 0.4631581\ttotal: 114ms\tremaining: 49.1ms\n7:\tlearn: 0.4621936\ttotal: 129ms\tremaining: 32.3ms\n8:\tlearn: 0.4617559\ttotal: 133ms\tremaining: 14.7ms\n9:\tlearn: 0.4611903\ttotal: 151ms\tremaining: 0us\n",
      "prediccion =  92\n",
      "0:\tlearn: 0.4853584\ttotal: 1.81ms\tremaining: 16.3ms\n1:\tlearn: 0.4765435\ttotal: 32.9ms\tremaining: 132ms\n2:\tlearn: 0.4721569\ttotal: 65.2ms\tremaining: 152ms\n3:\tlearn: 0.4680559\ttotal: 95.6ms\tremaining: 143ms\n4:\tlearn: 0.4661974\ttotal: 146ms\tremaining: 146ms\n5:\tlearn: 0.4643825\ttotal: 192ms\tremaining: 128ms\n",
      "6:\tlearn: 0.4630258\ttotal: 226ms\tremaining: 96.9ms\n7:\tlearn: 0.4626052\ttotal: 228ms\tremaining: 57.1ms\n8:\tlearn: 0.4612398\ttotal: 262ms\tremaining: 29.1ms\n9:\tlearn: 0.4600179\ttotal: 292ms\tremaining: 0us\n",
      "prediccion =  93\n0:\tlearn: 0.4853584\ttotal: 1.99ms\tremaining: 17.9ms\n1:\tlearn: 0.4758507\ttotal: 62.6ms\tremaining: 251ms\n2:\tlearn: 0.4706990\ttotal: 166ms\tremaining: 387ms\n",
      "3:\tlearn: 0.4673000\ttotal: 228ms\tremaining: 342ms\n4:\tlearn: 0.4645994\ttotal: 286ms\tremaining: 286ms\n5:\tlearn: 0.4633993\ttotal: 343ms\tremaining: 229ms\n",
      "6:\tlearn: 0.4606549\ttotal: 402ms\tremaining: 172ms\n7:\tlearn: 0.4604219\ttotal: 405ms\tremaining: 101ms\n8:\tlearn: 0.4589617\ttotal: 465ms\tremaining: 51.6ms\n9:\tlearn: 0.4584291\ttotal: 535ms\tremaining: 0us\n",
      "prediccion =  94\n0:\tlearn: 0.4853584\ttotal: 2.31ms\tremaining: 20.8ms\n1:\tlearn: 0.4757455\ttotal: 117ms\tremaining: 466ms\n2:\tlearn: 0.4712560\ttotal: 146ms\tremaining: 342ms\n",
      "3:\tlearn: 0.4675773\ttotal: 279ms\tremaining: 418ms\n4:\tlearn: 0.4637825\ttotal: 414ms\tremaining: 414ms\n",
      "5:\tlearn: 0.4615890\ttotal: 543ms\tremaining: 362ms\n6:\tlearn: 0.4602512\ttotal: 658ms\tremaining: 282ms\n7:\tlearn: 0.4588649\ttotal: 667ms\tremaining: 167ms\n",
      "8:\tlearn: 0.4573815\ttotal: 782ms\tremaining: 86.9ms\n9:\tlearn: 0.4563209\ttotal: 916ms\tremaining: 0us\n",
      "prediccion =  95\n0:\tlearn: 0.4853584\ttotal: 1.91ms\tremaining: 17.2ms\n",
      "1:\tlearn: 0.4751339\ttotal: 1.91ms\tremaining: 17.2ms\n2:\tlearn: 0.4711015\ttotal: 11.8ms\tremaining: 41.4ms\n3:\tlearn: 0.4696052\ttotal: 19.8ms\tremaining: 39.6ms\n",
      "4:\tlearn: 0.4646827\ttotal: 289ms\tremaining: 361ms\n",
      "5:\tlearn: 0.4615311\ttotal: 521ms\tremaining: 416ms\n",
      "6:\tlearn: 0.4584041\ttotal: 797ms\tremaining: 399ms\n7:\tlearn: 0.4576786\ttotal: 802ms\tremaining: 229ms\n",
      "8:\tlearn: 0.4558860\ttotal: 1.04s\tremaining: 130ms\n9:\tlearn: 0.4544097\ttotal: 1.18s\tremaining: 0us\n",
      "prediccion =  96\n0:\tlearn: 0.4836722\ttotal: 2.36ms\tremaining: 21.3ms\n1:\tlearn: 0.4768299\ttotal: 6.37ms\tremaining: 25.5ms\n2:\tlearn: 0.4724783\ttotal: 9.94ms\tremaining: 23.2ms\n3:\tlearn: 0.4703033\ttotal: 13.5ms\tremaining: 20.2ms\n4:\tlearn: 0.4692715\ttotal: 16.9ms\tremaining: 16.9ms\n5:\tlearn: 0.4686750\ttotal: 20.6ms\tremaining: 13.7ms\n6:\tlearn: 0.4662355\ttotal: 24.2ms\tremaining: 10.4ms\n7:\tlearn: 0.4657143\ttotal: 27.7ms\tremaining: 6.93ms\n8:\tlearn: 0.4642110\ttotal: 31.5ms\tremaining: 3.5ms\n9:\tlearn: 0.4637772\ttotal: 35.1ms\tremaining: 0us\n",
      "prediccion =  97\n0:\tlearn: 0.4836722\ttotal: 2.09ms\tremaining: 18.8ms\n1:\tlearn: 0.4759059\ttotal: 7.38ms\tremaining: 29.5ms\n2:\tlearn: 0.4725331\ttotal: 12.4ms\tremaining: 28.9ms\n3:\tlearn: 0.4699452\ttotal: 17.7ms\tremaining: 26.5ms\n4:\tlearn: 0.4680113\ttotal: 23.4ms\tremaining: 23.4ms\n5:\tlearn: 0.4665728\ttotal: 28.7ms\tremaining: 19.1ms\n6:\tlearn: 0.4660607\ttotal: 34ms\tremaining: 14.6ms\n7:\tlearn: 0.4651070\ttotal: 37.9ms\tremaining: 9.47ms\n8:\tlearn: 0.4641269\ttotal: 43.3ms\tremaining: 4.81ms\n9:\tlearn: 0.4626739\ttotal: 49.1ms\tremaining: 0us\nprediccion =  98\n0:\tlearn: 0.4836722\ttotal: 1.72ms\tremaining: 15.5ms\n1:\tlearn: 0.4754039\ttotal: 10.5ms\tremaining: 42.1ms\n2:\tlearn: 0.4726955\ttotal: 12.1ms\tremaining: 28.2ms\n3:\tlearn: 0.4696901\ttotal: 20.2ms\tremaining: 30.3ms\n",
      "4:\tlearn: 0.4688414\ttotal: 21.8ms\tremaining: 21.8ms\n5:\tlearn: 0.4682788\ttotal: 30.2ms\tremaining: 20.2ms\n6:\tlearn: 0.4675575\ttotal: 32ms\tremaining: 13.7ms\n7:\tlearn: 0.4652524\ttotal: 40.7ms\tremaining: 10.2ms\n8:\tlearn: 0.4643824\ttotal: 49.8ms\tremaining: 5.53ms\n9:\tlearn: 0.4636987\ttotal: 58.1ms\tremaining: 0us\nprediccion =  99\n0:\tlearn: 0.4836722\ttotal: 1.73ms\tremaining: 15.6ms\n1:\tlearn: 0.4754039\ttotal: 16ms\tremaining: 64ms\n2:\tlearn: 0.4711663\ttotal: 32.2ms\tremaining: 75.2ms\n3:\tlearn: 0.4681449\ttotal: 53.6ms\tremaining: 80.4ms\n4:\tlearn: 0.4660692\ttotal: 74ms\tremaining: 74ms\n",
      "5:\tlearn: 0.4642131\ttotal: 91.9ms\tremaining: 61.2ms\n6:\tlearn: 0.4633311\ttotal: 109ms\tremaining: 46.9ms\n7:\tlearn: 0.4618724\ttotal: 126ms\tremaining: 31.5ms\n8:\tlearn: 0.4612946\ttotal: 129ms\tremaining: 14.3ms\n9:\tlearn: 0.4599112\ttotal: 145ms\tremaining: 0us\nprediccion =  100\n0:\tlearn: 0.4836722\ttotal: 1.81ms\tremaining: 16.3ms\n1:\tlearn: 0.4754039\ttotal: 16.9ms\tremaining: 67.6ms\n",
      "2:\tlearn: 0.4705471\ttotal: 48.1ms\tremaining: 112ms\n3:\tlearn: 0.4684920\ttotal: 64.4ms\tremaining: 96.5ms\n4:\tlearn: 0.4674268\ttotal: 67.8ms\tremaining: 67.8ms\n5:\tlearn: 0.4651379\ttotal: 96.5ms\tremaining: 64.3ms\n6:\tlearn: 0.4642099\ttotal: 129ms\tremaining: 55.3ms\n7:\tlearn: 0.4637302\ttotal: 132ms\tremaining: 33ms\n8:\tlearn: 0.4635991\ttotal: 136ms\tremaining: 15.1ms\n9:\tlearn: 0.4614653\ttotal: 180ms\tremaining: 0us\n",
      "prediccion =  101\n0:\tlearn: 0.4836722\ttotal: 1.97ms\tremaining: 17.7ms\n1:\tlearn: 0.4754039\ttotal: 17.5ms\tremaining: 70.1ms\n2:\tlearn: 0.4701475\ttotal: 79.4ms\tremaining: 185ms\n3:\tlearn: 0.4661026\ttotal: 147ms\tremaining: 220ms\n",
      "4:\tlearn: 0.4642822\ttotal: 212ms\tremaining: 212ms\n5:\tlearn: 0.4631953\ttotal: 285ms\tremaining: 190ms\n6:\tlearn: 0.4611871\ttotal: 348ms\tremaining: 149ms\n",
      "7:\tlearn: 0.4586486\ttotal: 413ms\tremaining: 103ms\n8:\tlearn: 0.4572839\ttotal: 478ms\tremaining: 53.1ms\n9:\tlearn: 0.4566605\ttotal: 540ms\tremaining: 0us\n",
      "prediccion =  102\n0:\tlearn: 0.4836722\ttotal: 1.97ms\tremaining: 17.7ms\n1:\tlearn: 0.4754039\ttotal: 18.8ms\tremaining: 75.1ms\n",
      "2:\tlearn: 0.4698095\ttotal: 158ms\tremaining: 368ms\n3:\tlearn: 0.4681549\ttotal: 167ms\tremaining: 250ms\n4:\tlearn: 0.4645390\ttotal: 281ms\tremaining: 281ms\n",
      "5:\tlearn: 0.4624682\ttotal: 401ms\tremaining: 268ms\n6:\tlearn: 0.4606629\ttotal: 552ms\tremaining: 237ms\n",
      "7:\tlearn: 0.4591499\ttotal: 678ms\tremaining: 170ms\n8:\tlearn: 0.4577781\ttotal: 791ms\tremaining: 87.9ms\n",
      "9:\tlearn: 0.4560731\ttotal: 926ms\tremaining: 0us\nprediccion =  103\n0:\tlearn: 0.4836722\ttotal: 1.99ms\tremaining: 17.9ms\n1:\tlearn: 0.4754039\ttotal: 17.8ms\tremaining: 71.2ms\n",
      "2:\tlearn: 0.4698095\ttotal: 257ms\tremaining: 599ms\n",
      "3:\tlearn: 0.4655975\ttotal: 531ms\tremaining: 796ms\n4:\tlearn: 0.4647873\ttotal: 545ms\tremaining: 545ms\n",
      "5:\tlearn: 0.4626465\ttotal: 798ms\tremaining: 532ms\n",
      "6:\tlearn: 0.4594846\ttotal: 1.07s\tremaining: 459ms\n",
      "7:\tlearn: 0.4576924\ttotal: 1.32s\tremaining: 330ms\n",
      "8:\tlearn: 0.4560879\ttotal: 1.61s\tremaining: 179ms\n9:\tlearn: 0.4559986\ttotal: 1.62s\tremaining: 0us\nprediccion =  104\n0:\tlearn: 0.4822854\ttotal: 2.17ms\tremaining: 19.5ms\n",
      "1:\tlearn: 0.4753595\ttotal: 6.68ms\tremaining: 26.7ms\n2:\tlearn: 0.4710326\ttotal: 11ms\tremaining: 25.6ms\n3:\tlearn: 0.4682445\ttotal: 15.1ms\tremaining: 22.6ms\n4:\tlearn: 0.4676837\ttotal: 23.7ms\tremaining: 23.7ms\n5:\tlearn: 0.4670025\ttotal: 55.9ms\tremaining: 37.2ms\n6:\tlearn: 0.4651676\ttotal: 60.4ms\tremaining: 25.9ms\n7:\tlearn: 0.4647227\ttotal: 64.7ms\tremaining: 16.2ms\n8:\tlearn: 0.4630620\ttotal: 69.3ms\tremaining: 7.69ms\n9:\tlearn: 0.4625921\ttotal: 75.7ms\tremaining: 0us\nprediccion =  105\n0:\tlearn: 0.4822854\ttotal: 2.7ms\tremaining: 24.3ms\n",
      "1:\tlearn: 0.4745541\ttotal: 11.3ms\tremaining: 45.1ms\n2:\tlearn: 0.4715953\ttotal: 14.5ms\tremaining: 33.7ms\n3:\tlearn: 0.4702800\ttotal: 20.5ms\tremaining: 30.7ms\n4:\tlearn: 0.4681016\ttotal: 26.4ms\tremaining: 26.4ms\n5:\tlearn: 0.4665486\ttotal: 32.8ms\tremaining: 21.9ms\n6:\tlearn: 0.4652328\ttotal: 39.6ms\tremaining: 17ms\n7:\tlearn: 0.4644891\ttotal: 46.5ms\tremaining: 11.6ms\n8:\tlearn: 0.4640433\ttotal: 52.2ms\tremaining: 5.8ms\n9:\tlearn: 0.4640038\ttotal: 54.5ms\tremaining: 0us\n",
      "prediccion =  106\n0:\tlearn: 0.4822854\ttotal: 2.02ms\tremaining: 18.2ms\n1:\tlearn: 0.4739821\ttotal: 11.5ms\tremaining: 45.8ms\n2:\tlearn: 0.4710989\ttotal: 13.1ms\tremaining: 30.5ms\n3:\tlearn: 0.4688929\ttotal: 22.4ms\tremaining: 33.5ms\n4:\tlearn: 0.4674518\ttotal: 56.7ms\tremaining: 56.7ms\n5:\tlearn: 0.4645423\ttotal: 68.3ms\tremaining: 45.6ms\n6:\tlearn: 0.4635211\ttotal: 78.5ms\tremaining: 33.7ms\n7:\tlearn: 0.4618416\ttotal: 92.9ms\tremaining: 23.2ms\n8:\tlearn: 0.4603305\ttotal: 103ms\tremaining: 11.5ms\n9:\tlearn: 0.4593883\ttotal: 114ms\tremaining: 0us\nprediccion = ",
      " 107\n0:\tlearn: 0.4822854\ttotal: 2.01ms\tremaining: 18.1ms\n1:\tlearn: 0.4739821\ttotal: 18.9ms\tremaining: 75.8ms\n2:\tlearn: 0.4697636\ttotal: 37.8ms\tremaining: 88.1ms\n3:\tlearn: 0.4682334\ttotal: 43.2ms\tremaining: 64.8ms\n4:\tlearn: 0.4660951\ttotal: 59.4ms\tremaining: 59.4ms\n5:\tlearn: 0.4634590\ttotal: 75.9ms\tremaining: 50.6ms\n6:\tlearn: 0.4614645\ttotal: 85ms\tremaining: 36.4ms\n7:\tlearn: 0.4604289\ttotal: 103ms\tremaining: 25.7ms\n8:\tlearn: 0.4604284\ttotal: 104ms\tremaining: 11.6ms\n9:\tlearn: 0.4584094\ttotal: 119ms\tremaining: 0us\n",
      "prediccion =  108\n0:\tlearn: 0.4822854\ttotal: 1.92ms\tremaining: 17.3ms\n1:\tlearn: 0.4739821\ttotal: 19.6ms\tremaining: 78.3ms\n2:\tlearn: 0.4691447\ttotal: 61.2ms\tremaining: 143ms\n3:\tlearn: 0.4664252\ttotal: 96.4ms\tremaining: 145ms\n4:\tlearn: 0.4644592\ttotal: 128ms\tremaining: 128ms\n5:\tlearn: 0.4617789\ttotal: 164ms\tremaining: 109ms\n",
      "6:\tlearn: 0.4588644\ttotal: 196ms\tremaining: 83.9ms\n7:\tlearn: 0.4570988\ttotal: 228ms\tremaining: 57.1ms\n8:\tlearn: 0.4560165\ttotal: 257ms\tremaining: 28.6ms\n9:\tlearn: 0.4551855\ttotal: 286ms\tremaining: 0us\nprediccion =  109\n0:\tlearn: 0.4822854\ttotal: 1.72ms\tremaining: 15.5ms\n1:\tlearn: 0.4739821\ttotal: 16.8ms\tremaining: 67.3ms\n",
      "2:\tlearn: 0.4686941\ttotal: 76.5ms\tremaining: 178ms\n3:\tlearn: 0.4650493\ttotal: 147ms\tremaining: 220ms\n4:\tlearn: 0.4624981\ttotal: 218ms\tremaining: 218ms\n",
      "5:\tlearn: 0.4616242\ttotal: 287ms\tremaining: 192ms\n6:\tlearn: 0.4591088\ttotal: 349ms\tremaining: 150ms\n7:\tlearn: 0.4590421\ttotal: 351ms\tremaining: 87.7ms\n8:\tlearn: 0.4582238\ttotal: 408ms\tremaining: 45.4ms\n9:\tlearn: 0.4559796\ttotal: 466ms\tremaining: 0us\n",
      "prediccion =  110\n0:\tlearn: 0.4822854\ttotal: 2.04ms\tremaining: 18.3ms\n1:\tlearn: 0.4739821\ttotal: 17.1ms\tremaining: 68.6ms\n2:\tlearn: 0.4682920\ttotal: 154ms\tremaining: 360ms\n",
      "3:\tlearn: 0.4667341\ttotal: 165ms\tremaining: 248ms\n4:\tlearn: 0.4627313\ttotal: 281ms\tremaining: 281ms\n",
      "5:\tlearn: 0.4605385\ttotal: 394ms\tremaining: 262ms\n6:\tlearn: 0.4591363\ttotal: 524ms\tremaining: 225ms\n7:\tlearn: 0.4586236\ttotal: 530ms\tremaining: 132ms\n",
      "8:\tlearn: 0.4560560\ttotal: 659ms\tremaining: 73.3ms\n9:\tlearn: 0.4552129\ttotal: 772ms\tremaining: 0us\nprediccion =  111\n",
      "0:\tlearn: 0.4822854\ttotal: 2.19ms\tremaining: 19.7ms\n1:\tlearn: 0.4739821\ttotal: 18.3ms\tremaining: 73.2ms\n",
      "2:\tlearn: 0.4682920\ttotal: 284ms\tremaining: 663ms\n",
      "3:\tlearn: 0.4637333\ttotal: 533ms\tremaining: 799ms\n",
      "4:\tlearn: 0.4602200\ttotal: 768ms\tremaining: 768ms\n5:\tlearn: 0.4592148\ttotal: 911ms\tremaining: 608ms\n",
      "6:\tlearn: 0.4565182\ttotal: 1.15s\tremaining: 495ms\n",
      "7:\tlearn: 0.4548613\ttotal: 1.4s\tremaining: 350ms\n",
      "8:\tlearn: 0.4538952\ttotal: 1.65s\tremaining: 183ms\n9:\tlearn: 0.4533229\ttotal: 1.69s\tremaining: 0us\nprediccion =  112\n0:\tlearn: 0.4812005\ttotal: 2.31ms\tremaining: 20.8ms\n",
      "1:\tlearn: 0.4743368\ttotal: 6.65ms\tremaining: 26.6ms\n2:\tlearn: 0.4698118\ttotal: 10.8ms\tremaining: 25.2ms\n3:\tlearn: 0.4679936\ttotal: 14.7ms\tremaining: 22.1ms\n4:\tlearn: 0.4672389\ttotal: 18.7ms\tremaining: 18.7ms\n5:\tlearn: 0.4662508\ttotal: 22.7ms\tremaining: 15.2ms\n6:\tlearn: 0.4647760\ttotal: 26.8ms\tremaining: 11.5ms\n7:\tlearn: 0.4639948\ttotal: 31ms\tremaining: 7.74ms\n8:\tlearn: 0.4625440\ttotal: 35.2ms\tremaining: 3.91ms\n9:\tlearn: 0.4621786\ttotal: 39.6ms\tremaining: 0us\nprediccion =  113\n0:\tlearn: 0.4812005\ttotal: 2.3ms\tremaining: 20.7ms\n1:\tlearn: 0.4742224\ttotal: 7.93ms\tremaining: 31.7ms\n2:\tlearn: 0.4705973\ttotal: 12.8ms\tremaining: 29.9ms\n3:\tlearn: 0.4676151\ttotal: 17.8ms\tremaining: 26.6ms\n4:\tlearn: 0.4655303\ttotal: 22.7ms\tremaining: 22.7ms\n5:\tlearn: 0.4637161\ttotal: 27.7ms\tremaining: 18.5ms\n6:\tlearn: 0.4632159\ttotal: 32.8ms\tremaining: 14.1ms\n7:\tlearn: 0.4612468\ttotal: 38.1ms\tremaining: 9.51ms\n8:\tlearn: 0.4604719\ttotal: 43ms\tremaining: 4.78ms\n",
      "9:\tlearn: 0.4595258\ttotal: 48.4ms\tremaining: 0us\n",
      "prediccion =  114\n0:\tlearn: 0.4812005\ttotal: 2ms\tremaining: 18ms\n1:\tlearn: 0.4737425\ttotal: 11.2ms\tremaining: 44.9ms\n2:\tlearn: 0.4708531\ttotal: 12.9ms\tremaining: 30ms\n3:\tlearn: 0.4679346\ttotal: 22.2ms\tremaining: 33.3ms\n4:\tlearn: 0.4669749\ttotal: 30.7ms\tremaining: 30.7ms\n5:\tlearn: 0.4647565\ttotal: 38.7ms\tremaining: 25.8ms\n6:\tlearn: 0.4634954\ttotal: 47.3ms\tremaining: 20.3ms\n7:\tlearn: 0.4614879\ttotal: 55.7ms\tremaining: 13.9ms\n8:\tlearn: 0.4599336\ttotal: 64.5ms\tremaining: 7.16ms\n9:\tlearn: 0.4570775\ttotal: 72.4ms\tremaining: 0us\nprediccion =  115\n0:\tlearn: 0.4812005\ttotal: 1.9ms\tremaining: 17.1ms\n",
      "1:\tlearn: 0.4737425\ttotal: 17.5ms\tremaining: 69.9ms\n2:\tlearn: 0.4719375\ttotal: 18.8ms\tremaining: 43.9ms\n3:\tlearn: 0.4682420\ttotal: 35.1ms\tremaining: 52.7ms\n4:\tlearn: 0.4650215\ttotal: 50.9ms\tremaining: 50.9ms\n5:\tlearn: 0.4627554\ttotal: 66.2ms\tremaining: 44.1ms\n6:\tlearn: 0.4604231\ttotal: 81.2ms\tremaining: 34.8ms\n7:\tlearn: 0.4599777\ttotal: 89.6ms\tremaining: 22.4ms\n8:\tlearn: 0.4579777\ttotal: 104ms\tremaining: 11.6ms\n9:\tlearn: 0.4572009\ttotal: 128ms\tremaining: 0us\n",
      "prediccion =  116\n0:\tlearn: 0.4812005\ttotal: 1.85ms\tremaining: 16.6ms\n1:\tlearn: 0.4737425\ttotal: 17.6ms\tremaining: 70.4ms\n2:\tlearn: 0.4719375\ttotal: 19.2ms\tremaining: 44.9ms\n3:\tlearn: 0.4679801\ttotal: 48.6ms\tremaining: 72.9ms\n4:\tlearn: 0.4631892\ttotal: 77.8ms\tremaining: 77.8ms\n5:\tlearn: 0.4612608\ttotal: 107ms\tremaining: 71.3ms\n6:\tlearn: 0.4579620\ttotal: 137ms\tremaining: 58.6ms\n7:\tlearn: 0.4564025\ttotal: 166ms\tremaining: 41.5ms\n",
      "8:\tlearn: 0.4556011\ttotal: 182ms\tremaining: 20.2ms\n9:\tlearn: 0.4536834\ttotal: 213ms\tremaining: 0us\nprediccion =  117\n0:\tlearn: 0.4812005\ttotal: 1.93ms\tremaining: 17.4ms\n",
      "1:\tlearn: 0.4737425\ttotal: 19ms\tremaining: 76.2ms\n2:\tlearn: 0.4719375\ttotal: 20.9ms\tremaining: 48.7ms\n3:\tlearn: 0.4672356\ttotal: 84.8ms\tremaining: 127ms\n4:\tlearn: 0.4627430\ttotal: 142ms\tremaining: 142ms\n5:\tlearn: 0.4611183\ttotal: 199ms\tremaining: 133ms\n",
      "6:\tlearn: 0.4600467\ttotal: 208ms\tremaining: 89ms\n7:\tlearn: 0.4589189\ttotal: 267ms\tremaining: 66.8ms\n8:\tlearn: 0.4583444\ttotal: 272ms\tremaining: 30.3ms\n9:\tlearn: 0.4555208\ttotal: 338ms\tremaining: 0us\n",
      "prediccion =  118\n0:\tlearn: 0.4812005\ttotal: 1.85ms\tremaining: 16.7ms\n1:\tlearn: 0.4737425\ttotal: 18.4ms\tremaining: 73.5ms\n2:\tlearn: 0.4719375\ttotal: 20ms\tremaining: 46.8ms\n3:\tlearn: 0.4672376\ttotal: 143ms\tremaining: 214ms\n",
      "4:\tlearn: 0.4638614\ttotal: 274ms\tremaining: 274ms\n",
      "5:\tlearn: 0.4600163\ttotal: 405ms\tremaining: 270ms\n6:\tlearn: 0.4599435\ttotal: 407ms\tremaining: 174ms\n7:\tlearn: 0.4574269\ttotal: 524ms\tremaining: 131ms\n",
      "8:\tlearn: 0.4553782\ttotal: 640ms\tremaining: 71.1ms\n9:\tlearn: 0.4530974\ttotal: 796ms\tremaining: 0us\n",
      "prediccion =  119\n0:\tlearn: 0.4812005\ttotal: 1.83ms\tremaining: 16.4ms\n1:\tlearn: 0.4737425\ttotal: 16.1ms\tremaining: 64.6ms\n2:\tlearn: 0.4719375\ttotal: 17.5ms\tremaining: 40.8ms\n",
      "3:\tlearn: 0.4670975\ttotal: 256ms\tremaining: 385ms\n",
      "4:\tlearn: 0.4630469\ttotal: 507ms\tremaining: 507ms\n5:\tlearn: 0.4612413\ttotal: 538ms\tremaining: 359ms\n6:\tlearn: 0.4612068\ttotal: 540ms\tremaining: 231ms\n7:\tlearn: 0.4593166\ttotal: 657ms\tremaining: 164ms\n",
      "8:\tlearn: 0.4575681\ttotal: 898ms\tremaining: 99.8ms\n",
      "9:\tlearn: 0.4541804\ttotal: 1.15s\tremaining: 0us\nprediccion =  120\n"
     ],
     "output_type": "stream"
    }
   ],
   "source": [
    "resultados_de_prediccion = pd.read_csv('sample_submission.csv',index_col=['id'])\n",
    "cantidadDePredicciones = 0\n",
    "#catboost\n",
    "for iter in range(6,12,2):\n",
    "    for lR in range(3,8):\n",
    "        learningRate = lR / 10\n",
    "        for profundidad in range(8,16):\n",
    "            # Initialize CatBoostRegressor\n",
    "            model = CatBoostRegressor(iterations=iter,\n",
    "                                      learning_rate=learningRate,\n",
    "                                      depth=profundidad)\n",
    "            # Fit model\n",
    "            model.fit(train_set, train_label)\n",
    "            # Get predictions\n",
    "            predicion = model.predict(test_set)\n",
    "            cantidadDePredicciones,resultados_de_prediccion = ensamble(resultados_de_prediccion,cantidadDePredicciones,predicion)\n",
    "            print(\"prediccion = \",cantidadDePredicciones)"
   ],
   "metadata": {
    "collapsed": false,
    "pycharm": {
     "name": "#%%\n",
     "is_executing": false
    }
   }
  },
  {
   "cell_type": "code",
   "execution_count": 44,
   "outputs": [
    {
     "name": "stdout",
     "text": [
      "120\n"
     ],
     "output_type": "stream"
    },
    {
     "data": {
      "text/plain": "                    target\nid                        \n0                     0.00\n2                     1.00\n3                     1.00\n9                     0.00\n11                    1.00\n...                    ...\n10861                 1.00\n10865                 1.00\n10868                 1.00\n10874                 1.00\n10875                 1.00\n\n[3263 rows x 1 columns]",
      "text/html": "<div>\n<style scoped>\n    .dataframe tbody tr th:only-of-type {\n        vertical-align: middle;\n    }\n\n    .dataframe tbody tr th {\n        vertical-align: top;\n    }\n\n    .dataframe thead th {\n        text-align: right;\n    }\n</style>\n<table border=\"1\" class=\"dataframe\">\n  <thead>\n    <tr style=\"text-align: right;\">\n      <th></th>\n      <th>target</th>\n    </tr>\n    <tr>\n      <th>id</th>\n      <th></th>\n    </tr>\n  </thead>\n  <tbody>\n    <tr>\n      <th>0</th>\n      <td>0.00</td>\n    </tr>\n    <tr>\n      <th>2</th>\n      <td>1.00</td>\n    </tr>\n    <tr>\n      <th>3</th>\n      <td>1.00</td>\n    </tr>\n    <tr>\n      <th>9</th>\n      <td>0.00</td>\n    </tr>\n    <tr>\n      <th>11</th>\n      <td>1.00</td>\n    </tr>\n    <tr>\n      <th>...</th>\n      <td>...</td>\n    </tr>\n    <tr>\n      <th>10861</th>\n      <td>1.00</td>\n    </tr>\n    <tr>\n      <th>10865</th>\n      <td>1.00</td>\n    </tr>\n    <tr>\n      <th>10868</th>\n      <td>1.00</td>\n    </tr>\n    <tr>\n      <th>10874</th>\n      <td>1.00</td>\n    </tr>\n    <tr>\n      <th>10875</th>\n      <td>1.00</td>\n    </tr>\n  </tbody>\n</table>\n<p>3263 rows × 1 columns</p>\n</div>"
     },
     "metadata": {},
     "output_type": "execute_result",
     "execution_count": 44
    }
   ],
   "source": [
    "resultados_de_prediccion = calcular_resultado_de_prediccion(resultados_de_prediccion,cantidadDePredicciones)\n",
    "\n",
    "print(cantidadDePredicciones)\n",
    "resultados_de_prediccion"
   ],
   "metadata": {
    "collapsed": false,
    "pycharm": {
     "name": "#%%\n",
     "is_executing": false
    }
   }
  },
  {
   "cell_type": "code",
   "execution_count": 45,
   "outputs": [
    {
     "name": "stdout",
     "text": [
      "0.4726224783861671\n"
     ],
     "output_type": "stream"
    }
   ],
   "source": [
    "print(F1(resultados_de_prediccion))\n"
   ],
   "metadata": {
    "collapsed": false,
    "pycharm": {
     "name": "#%%\n",
     "is_executing": false
    }
   }
  },
  {
   "cell_type": "code",
   "execution_count": 26,
   "outputs": [
    {
     "data": {
      "text/plain": "target\n0    4342\n1    3271\ndtype: int64"
     },
     "metadata": {},
     "output_type": "execute_result",
     "execution_count": 26
    }
   ],
   "source": [
    "#para arbol verificar si esta balanceado o no\n",
    "tweets_entrenamiento = tweets_original_entrenamiento\n",
    "tweets_entrenamiento.groupby([\"target\"]).size()"
   ],
   "metadata": {
    "collapsed": false,
    "pycharm": {
     "name": "#%%\n",
     "is_executing": false
    }
   }
  },
  {
   "cell_type": "markdown",
   "source": [
    "## ENTREGA"
   ],
   "metadata": {
    "collapsed": false
   }
  },
  {
   "cell_type": "code",
   "source": [
    "#cuando todo termina el archivo de entrega\n",
    "resultados_de_prediccion.to_csv('submit.csv', index=False)"
   ],
   "metadata": {
    "collapsed": false,
    "pycharm": {
     "name": "#%%\n"
    }
   },
   "execution_count": null,
   "outputs": []
  }
 ],
 "metadata": {
  "kernelspec": {
   "display_name": "Python 3",
   "language": "python",
   "name": "python3"
  },
  "language_info": {
   "codemirror_mode": {
    "name": "ipython",
    "version": 2
   },
   "file_extension": ".py",
   "mimetype": "text/x-python",
   "name": "python",
   "nbconvert_exporter": "python",
   "pygments_lexer": "ipython2",
   "version": "2.7.6"
  },
  "pycharm": {
   "stem_cell": {
    "cell_type": "raw",
    "source": [],
    "metadata": {
     "collapsed": false
    }
   }
  }
 },
 "nbformat": 4,
 "nbformat_minor": 0
}