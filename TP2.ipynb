{
 "cells": [
  {
   "cell_type": "markdown",
   "metadata": {
    "collapsed": true,
    "pycharm": {
     "name": "#%% md\n"
    }
   },
   "source": [
    "# 75.06/95.58 Organización de Datos\n",
    "# Primer Cuatrimestre de 2020\n",
    "# Trabajo Práctico 2: Enunciado\n",
    "\n",
    "\n",
    "El segundo TP es una competencia de Machine Learning en donde cada grupo debe intentar determinar, para cada tweet brindado, si el mismo esta basado en un hecho real o no.\n",
    "\n",
    "La competencia se desarrolla en la plataforma de Kaggle  https://www.kaggle.com/c/nlp-getting-started.  \n",
    "\n",
    "El dataset consta de una serie de tweets, para los cuales se informa:\n",
    "\n",
    "- id - identificador unico para cada  tweet\n",
    "- text - el texto del tweet\n",
    "- location - ubicación desde donde fue enviado (podría no estar)\n",
    "- keyword - un keyword para el tweet  (podría faltar)\n",
    "- target - en train.csv, indica si se trata de un desastre real  (1) o no (0)\n",
    " \n",
    "\n",
    "\n",
    "Los submits con el resultado deben tener el formato:\n",
    "\n",
    "Id: Un id numérico para identificar el tweet\n",
    "target: 1 / 0 según se crea que el tweet se trata sobre un desastre real, o no.\n",
    "\n",
    "Los grupos deberán probar distintos algoritmos de Machine Learning para intentar predecir si el tweet está basado en hechos reales o no. A medida que los grupos realicen pruebas deben realizar el correspondiente submit en Kaggle para evaluar el resultado de los mismos.\n",
    "\n",
    "Al finalizar la competencia el grupo que mejor resultado tenga obtendrá 10 puntos para cada uno de sus integrantes que podrán ser usados en el examen por promoción o segundo recuperatorio.\n",
    "\n",
    "## Requisitos para la entrega del TP2:\n",
    "\n",
    "- El TP debe programarse en Python o R.\n",
    "- Debe entregarse un pdf con el informe de algoritmos probados, algoritmo final utilizado, transformaciones realizadas a los datos, feature engineering, etc. \n",
    "- El informe debe incluir también un link a github con el informe presentado en pdf, y todo el código.\n",
    "- El grupo debe presentar el TP en una computadora en la fecha indicada por la cátedra, el TP debe correr en un lapso de tiempo razonable (inferior a 1 hora) y generar un submission válido que iguale el mejor resultado obtenido por el grupo en Kaggle. (mas detalles a definir)\n",
    "\n",
    "## El TP2 se va a evaluar en función del siguiente criterio:\n",
    "\n",
    "- Cantidad de trabajo (esfuerzo) del grupo: ¿Probaron muchos algoritmos? ¿Hicieron un buen trabajo de pre-procesamiento de los datos y feature engineering?\n",
    "- Resultado obtenido en Kaggle (obviamente cuanto mejor resultado mejor nota)\n",
    "- Presentación final del informe, calidad de la redacción, uso de información obtenida en el TP1, conclusiones presentadas.\n",
    "- Performance de la solución final."
   ]
  },
  {
   "cell_type": "markdown",
   "metadata": {},
   "source": [
    "## Forma de evaluar kaggle\n",
    "\n",
    "Las presentaciones se evalúan utilizando F1 entre las respuestas previstas y esperadas.\n",
    "\n",
    "F1 se calcula de la siguiente manera:\n",
    "$ F1=(2∗precision∗recall)/(precision+recall) $\n",
    "\n",
    "donde:\n",
    "\n",
    "$precision=TP/(TP+FP)$\n",
    "\n",
    "$recall=TP/(TP+FN)$\n",
    "\n",
    "\n",
    "con:\n",
    "\n",
    "- Verdadero positivo [TP] = your prediction is 1, and the ground truth is also 1 - you predicted a positive and that's true!\n",
    "- Falso positivo [FP] = your prediction is 1, and the ground truth is 0 - you predicted a positive, and that's false.\n",
    "- Falso Negativo [FN] = your prediction is 0, and the ground truth is 1 - you predicted a negative, and that's false."
   ]
  },
  {
   "cell_type": "markdown",
   "metadata": {},
   "source": [
    "importaciones"
   ]
  },
  {
   "cell_type": "code",
   "execution_count": 2,
   "metadata": {
    "pycharm": {
     "is_executing": false,
     "name": "#%%\n"
    },
    "scrolled": false
   },
   "outputs": [],
   "source": [
    "#IMPORTS\n",
    "import pandas as pd\n",
    "import numpy as np\n",
    "import matplotlib.pyplot as plt\n",
    "import seaborn as sns\n",
    "#import plotly.graph_objects as go\n",
    "\n",
    "#plt.style.use('default')\n",
    "from gensim.sklearn_api import tfidf\n",
    "\n",
    "sns.set(style=\"whitegrid\")\n",
    "\n",
    "pd.options.display.float_format = '{:20,.2f}'.format \n",
    "\n",
    "import warnings\n",
    "warnings.filterwarnings('ignore')\n",
    "\n",
    "from matplotlib.colors import ListedColormap\n",
    "import matplotlib.patches as mpatches\n",
    " \n",
    "%matplotlib inline\n",
    "plt.rcParams['figure.figsize'] = (16, 9)\n",
    "plt.style.use('ggplot')\n",
    "import math\n",
    "#librerias para KNN\n",
    "from sklearn.model_selection import train_test_split\n",
    "from sklearn.preprocessing import MinMaxScaler\n",
    "from sklearn.neighbors import KNeighborsClassifier\n",
    "from sklearn.metrics import classification_report\n",
    "from sklearn.metrics import confusion_matrix\n",
    "#red neuronal\n",
    "from keras.models import Sequential\n",
    "from keras.layers.core import Dense\n",
    "#arboles de decicion\n",
    "plt.rcParams['figure.figsize'] = (16, 9)\n",
    "plt.style.use('ggplot')\n",
    "from sklearn import tree\n",
    "from sklearn.metrics import accuracy_score\n",
    "from sklearn.model_selection import KFold\n",
    "from sklearn.model_selection import cross_val_score\n",
    "from IPython.display import Image as PImage\n",
    "from subprocess import check_call\n",
    "from PIL import Image, ImageDraw, ImageFont\n",
    "from sklearn.ensemble import RandomForestClassifier\n",
    "from sklearn.tree import DecisionTreeClassifier\n",
    "#catboost\n",
    "from catboost import CatBoostRegressor\n",
    "#xgb\n",
    "import xgboost as xgb\n",
    "\n",
    "#palabras\n",
    "import nltk\n",
    "#nltk.download('stopwords')#si no tiene stopword habilitar esta linea\n",
    "from nltk.corpus import stopwords\n",
    "import gensim \n",
    "from gensim.models import Word2Vec \n",
    "#tf-idf\n",
    "from sklearn.feature_extraction.text import TfidfVectorizer"
   ]
  },
  {
   "cell_type": "code",
   "execution_count": 3,
   "metadata": {
    "pycharm": {
     "is_executing": false,
     "name": "#%%\n"
    },
    "scrolled": false
   },
   "outputs": [],
   "source": [
    "import nltk\n",
    "#nltk.download('stopwords')\n",
    "from nltk.corpus import stopwords\n",
    "stopwordEnglis = stopwords.words('english')\n",
    "#tfidf = TfidfVectorizer()"
   ]
  },
  {
   "cell_type": "markdown",
   "metadata": {},
   "source": [
    "inicio de csv"
   ]
  },
  {
   "cell_type": "code",
   "execution_count": 4,
   "metadata": {
    "pycharm": {
     "is_executing": false,
     "name": "#%%\n"
    },
    "scrolled": true
   },
   "outputs": [
    {
     "data": {
      "text/plain": "   keyword location                                               text  target\nid                                                                            \n1      NaN      NaN  Our Deeds are the Reason of this #earthquake M...       1\n4      NaN      NaN             Forest fire near La Ronge Sask. Canada       1\n5      NaN      NaN  All residents asked to 'shelter in place' are ...       1\n6      NaN      NaN  13,000 people receive #wildfires evacuation or...       1\n7      NaN      NaN  Just got sent this photo from Ruby #Alaska as ...       1",
      "text/html": "<div>\n<style scoped>\n    .dataframe tbody tr th:only-of-type {\n        vertical-align: middle;\n    }\n\n    .dataframe tbody tr th {\n        vertical-align: top;\n    }\n\n    .dataframe thead th {\n        text-align: right;\n    }\n</style>\n<table border=\"1\" class=\"dataframe\">\n  <thead>\n    <tr style=\"text-align: right;\">\n      <th></th>\n      <th>keyword</th>\n      <th>location</th>\n      <th>text</th>\n      <th>target</th>\n    </tr>\n    <tr>\n      <th>id</th>\n      <th></th>\n      <th></th>\n      <th></th>\n      <th></th>\n    </tr>\n  </thead>\n  <tbody>\n    <tr>\n      <th>1</th>\n      <td>NaN</td>\n      <td>NaN</td>\n      <td>Our Deeds are the Reason of this #earthquake M...</td>\n      <td>1</td>\n    </tr>\n    <tr>\n      <th>4</th>\n      <td>NaN</td>\n      <td>NaN</td>\n      <td>Forest fire near La Ronge Sask. Canada</td>\n      <td>1</td>\n    </tr>\n    <tr>\n      <th>5</th>\n      <td>NaN</td>\n      <td>NaN</td>\n      <td>All residents asked to 'shelter in place' are ...</td>\n      <td>1</td>\n    </tr>\n    <tr>\n      <th>6</th>\n      <td>NaN</td>\n      <td>NaN</td>\n      <td>13,000 people receive #wildfires evacuation or...</td>\n      <td>1</td>\n    </tr>\n    <tr>\n      <th>7</th>\n      <td>NaN</td>\n      <td>NaN</td>\n      <td>Just got sent this photo from Ruby #Alaska as ...</td>\n      <td>1</td>\n    </tr>\n  </tbody>\n</table>\n</div>"
     },
     "metadata": {},
     "output_type": "execute_result",
     "execution_count": 4
    }
   ],
   "source": [
    "tweets_original_entrenamiento = pd.read_csv('train.csv',index_col=['id'])\n",
    "tweets_original_entrenamiento.head()"
   ]
  },
  {
   "cell_type": "code",
   "execution_count": 5,
   "metadata": {
    "pycharm": {
     "is_executing": false,
     "name": "#%%\n"
    },
    "scrolled": true
   },
   "outputs": [
    {
     "data": {
      "text/plain": "   keyword location                                               text\nid                                                                    \n0      NaN      NaN                 Just happened a terrible car crash\n2      NaN      NaN  Heard about #earthquake is different cities, s...\n3      NaN      NaN  there is a forest fire at spot pond, geese are...\n9      NaN      NaN           Apocalypse lighting. #Spokane #wildfires\n11     NaN      NaN      Typhoon Soudelor kills 28 in China and Taiwan",
      "text/html": "<div>\n<style scoped>\n    .dataframe tbody tr th:only-of-type {\n        vertical-align: middle;\n    }\n\n    .dataframe tbody tr th {\n        vertical-align: top;\n    }\n\n    .dataframe thead th {\n        text-align: right;\n    }\n</style>\n<table border=\"1\" class=\"dataframe\">\n  <thead>\n    <tr style=\"text-align: right;\">\n      <th></th>\n      <th>keyword</th>\n      <th>location</th>\n      <th>text</th>\n    </tr>\n    <tr>\n      <th>id</th>\n      <th></th>\n      <th></th>\n      <th></th>\n    </tr>\n  </thead>\n  <tbody>\n    <tr>\n      <th>0</th>\n      <td>NaN</td>\n      <td>NaN</td>\n      <td>Just happened a terrible car crash</td>\n    </tr>\n    <tr>\n      <th>2</th>\n      <td>NaN</td>\n      <td>NaN</td>\n      <td>Heard about #earthquake is different cities, s...</td>\n    </tr>\n    <tr>\n      <th>3</th>\n      <td>NaN</td>\n      <td>NaN</td>\n      <td>there is a forest fire at spot pond, geese are...</td>\n    </tr>\n    <tr>\n      <th>9</th>\n      <td>NaN</td>\n      <td>NaN</td>\n      <td>Apocalypse lighting. #Spokane #wildfires</td>\n    </tr>\n    <tr>\n      <th>11</th>\n      <td>NaN</td>\n      <td>NaN</td>\n      <td>Typhoon Soudelor kills 28 in China and Taiwan</td>\n    </tr>\n  </tbody>\n</table>\n</div>"
     },
     "metadata": {},
     "output_type": "execute_result",
     "execution_count": 5
    }
   ],
   "source": [
    "tweets_original_prueba = pd.read_csv('test.csv',index_col=['id'])\n",
    "tweets_original_prueba.head()"
   ]
  },
  {
   "cell_type": "markdown",
   "metadata": {},
   "source": [
    "calculo resultado"
   ]
  },
  {
   "cell_type": "code",
   "execution_count": 6,
   "metadata": {
    "pycharm": {
     "is_executing": false,
     "name": "#%%\n"
    }
   },
   "outputs": [],
   "source": [
    "#resultados\n",
    "resultados_de_test = pd.read_csv('respuestas.csv',index_col=['id'])\n",
    "#revisar los resultados\n",
    "def calclarPresicionYRecall(df):\n",
    "    respuestas = pd.read_csv('respuestas.csv',index_col=['id'])\n",
    "    respuestas['prediccion'] = df['target']\n",
    "    #respuestas['TP'] = [1 if (respuestas['target'] == 1 and respuestas['prediccion'] == 1) else 0]\n",
    "    #respuestas['FP'] = [1 if (respuestas['target'] == 0 and respuestas['prediccion'] == 1) else 0]\n",
    "    #respuestas['FN'] = [1 if (respuestas['target'] == 1 and respuestas['prediccion'] == 0) else 0]\n",
    "    \n",
    "    respuestas.loc[respuestas['prediccion'] + respuestas['target'] == 2 , 'TP'] = 1\n",
    "    respuestas.loc[respuestas['prediccion'] + (respuestas['target'] * 2) == 1 , 'FP'] = 1\n",
    "    respuestas.loc[respuestas['prediccion'] + (respuestas['target'] * 2) == 2 , 'FN'] = 1\n",
    "    respuestas['TP'].fillna(0, inplace=True)\n",
    "    respuestas['FP'].fillna(0, inplace=True)\n",
    "    respuestas['FN'].fillna(0, inplace=True)\n",
    "\n",
    "    tp = respuestas['TP'].sum()\n",
    "    fp = respuestas['FP'].sum()\n",
    "    fn = respuestas['FN'].sum()\n",
    "    \n",
    "    #print(tp,fp,fn)\n",
    "    #print(respuestas.head())\n",
    "    \n",
    "    sumaPresicion = tp + fp\n",
    "    sumaRecall = tp + fn\n",
    "    presicion = tp / sumaPresicion\n",
    "    recall = tp / sumaRecall\n",
    "    return (presicion,recall)\n",
    "\n",
    "def F1(df):\n",
    "    presicion,recall = calclarPresicionYRecall(df)\n",
    "    resultado = 2 * presicion * recall\n",
    "    resultado /= (presicion + recall)\n",
    "    return resultado"
   ]
  },
  {
   "cell_type": "markdown",
   "metadata": {},
   "source": [
    "inicio de problema"
   ]
  },
  {
   "cell_type": "markdown",
   "metadata": {},
   "source": [
    "## CATBOOST"
   ]
  },
  {
   "cell_type": "code",
   "execution_count": 7,
   "metadata": {
    "pycharm": {
     "is_executing": false,
     "name": "#%%\n"
    }
   },
   "outputs": [],
   "source": [
    "\"\"\"\n",
    "vacio = 0000\n",
    "a = 0001\n",
    "b = 0010\n",
    "c = 0011\n",
    "d = 0100\n",
    "e = 0101\n",
    "f = 0110\n",
    "h = 0111\n",
    "r = 1000\n",
    "s = 1001\n",
    "t = 1010\n",
    "w = 1011\n",
    "\"\"\"\n",
    "LETRAS_0 = ['a','c','e','h','s','w']\n",
    "def letra0(x):\n",
    "    if (x in LETRAS_0):\n",
    "        return 1\n",
    "    return 0\n",
    "LETRAS_1 = ['b','c','f','h','t','w']\n",
    "def letra1(x):\n",
    "    if (x in LETRAS_1):\n",
    "        return 1\n",
    "    return 0\n",
    "LETRAS_2 = ['d','e','f','h']\n",
    "def letra2(x):\n",
    "    if (x in LETRAS_2):\n",
    "        return 1\n",
    "    return 0\n",
    "LETRAS_3 = ['r','s','t','w']\n",
    "def letra3(x):\n",
    "    if (x in LETRAS_3):\n",
    "        return 1\n",
    "    return 0\n",
    "def letra_inicial_Keyword_BOW(df):\n",
    "    #for i in range(0,4):\n",
    "    #    texto = 'letra_' + str(i)\n",
    "    #    df[texto] = 0\n",
    "    df['letra_0'] = 0\n",
    "    df['letra_1'] = 0\n",
    "    df['letra_2'] = 0\n",
    "    df['letra_3'] = 0\n",
    "    df['letra_0'] = df['keyword'].str.strip().str[0].map(lambda x:letra0(x))\n",
    "    df['letra_1'] = df['keyword'].str.strip().str[0].map(lambda x:letra0(x))\n",
    "    df['letra_2'] = df['keyword'].str.strip().str[0].map(lambda x:letra0(x))\n",
    "    df['letra_3'] = df['keyword'].str.strip().str[0].map(lambda x:letra0(x))\n",
    "    return df\n",
    "     "
   ]
  },
  {
   "cell_type": "code",
   "execution_count": 30,
   "metadata": {
    "pycharm": {
     "is_executing": false,
     "name": "#%%   \n"
    }
   },
   "outputs": [],
   "source": [
    "\n",
    "def set_palabras_del_train(df):\n",
    "    palabrasTexto = []\n",
    "    palabrasKeyword = []\n",
    "    \n",
    "    df['palabras_de_texto'] = df['text'].str.lower().str.split().apply(lambda x: [item for item in x if item not in stopwordEnglis])\n",
    "    df['palabras_de_keyword'] = df['text'].str.lower().str.split().apply(lambda x: [item for item in x if item not in stopwordEnglis])\n",
    "    \n",
    "    return (palabrasTexto,palabrasKeyword)\n",
    "\n",
    "def hashtag_en_tweet(listado):\n",
    "    \"\"\"defino hashtag como un numeral seguido por una cadena de texto\"\"\"\n",
    "    contador = 0\n",
    "    for palabra in listado:\n",
    "        if (palabra[0] == '#'):\n",
    "            contador += 1\n",
    "    return contador\n",
    "\n",
    "def cantidad_de_palabras_en_texto(lista,palabra):\n",
    "    contador = 0\n",
    "    for elemento in lista:\n",
    "        if (elemento == palabra):\n",
    "            contador += 1\n",
    "    return contador\n",
    "\n",
    "def preparar_df(df,listadoDePalabrasDelTextoDelSetDeEntrenamiento=[],listadoDePalabrasDelKeywordDelSetDeEntrenamiento=[]):\n",
    "    df['text'].fillna(\"\", inplace=True)\n",
    "    df['keyword'].fillna(\"\", inplace=True)\n",
    "    df['location'].fillna(\"\", inplace=True)\n",
    "    \n",
    "    df['longitud_de_texto'] = df['text'].str.len()\n",
    "    df['longitud_de_keyword'] = df['keyword'].str.len()\n",
    "    \n",
    "    df['palabras_de_texto'] = df['text'].str.lower().str.split().apply(lambda x: [item for item in x if item not in stopwordEnglis])\n",
    "    df['palabras_de_keyword'] = df['keyword'].str.lower().str.split().apply(lambda x: [item for item in x if item not in stopwordEnglis])\n",
    "    \n",
    "    df['cantidad_de_palabras_texto'] = df['palabras_de_texto'].map(len)\n",
    "    df['cantidad_de_palabras_keyword'] = df['palabras_de_keyword'].map(len)\n",
    "    \n",
    "    df['cantidad_de_hashtag_en_texto'] = df['palabras_de_texto'].map(hashtag_en_tweet)\n",
    "    \n",
    "    df['palabras_de_texto'] = df['palabras_de_texto'].apply(lambda x: [item for item in x if item in listadoDePalabrasDelTextoDelSetDeEntrenamiento])\n",
    "    #df['palabras_de_keyword'] = df['palabras_de_keyword'].apply(lambda x: [item for item in x if item in listadoDePalabrasDelKeywordDelSetDeEntrenamiento])\n",
    "    \n",
    "    for palabra in listadoDePalabrasDelTextoDelSetDeEntrenamiento:\n",
    "        df[palabra] = df['palabras_de_texto'].map(lambda x: cantidad_de_palabras_en_texto(x,palabra))\n",
    "    \n",
    "    #df['text'] = df['text'].str.replace(r' ', '')\n",
    "    #df['keyword'] = df['keyword'].str.replace(r' ', '')\n",
    "    #df['location'] = df['location'].str.replace(r' ', '')\n",
    "    \n",
    "    #TF-IDF\n",
    "    #x = TfidfVectorizer.fit_transform(df['palabras_de_texto'])\n",
    "    #df_tfidf = pd.DataFrame(x.toarray(), columns=tfidf.get_feature_names())\n",
    "    #for col in df_tfidf.columns():\n",
    "    #    df = df.join(df_tfidf[col])\n",
    "    #df.join(df_tfidf)#mal planteado\n",
    "    \n",
    "    df = letra_inicial_Keyword_BOW(df)   \n",
    "    df = df.drop(columns=['keyword','text','location'])\n",
    "    df = df.drop(columns=['palabras_de_texto','palabras_de_keyword'])\n",
    "    \n",
    "    return df"
   ]
  },
  {
   "cell_type": "code",
   "execution_count": 32,
   "outputs": [],
   "source": [
    "def extraer_palabras(serie):\n",
    "    lista = []\n",
    "    #dic = {}\n",
    "    for listado in serie:\n",
    "        for elemento in listado:\n",
    "            #la mayoria de las palabras en ingles tienen una esperansa de 4.8773 caracteres con varianza de 2.6171\n",
    "            longitud = len(elemento)\n",
    "            simbolos = ('0','1','2','3','4','5','6','7','8','9','#','/','','\"','@',';','?','[','(','{','.','!','$','&','*','-')\n",
    "            if (elemento in lista or longitud > 7 or longitud < 2 or elemento[0] in simbolos or elemento[-1] in simbolos):\n",
    "                #dic[elemento] += 1\n",
    "                continue\n",
    "            #dic[elemento] = 1\n",
    "            lista.append(elemento)\n",
    "    #resultado = []\n",
    "    #max = 0\n",
    "    #for palabra in lista:\n",
    "    #    max = dic[palabra]\n",
    "    #    if (dic[palabra] < 800):\n",
    "    #        continue\n",
    "    #    resultado.append(palabra)\n",
    "    return lista"
   ],
   "metadata": {
    "collapsed": false,
    "pycharm": {
     "name": "#%% \n",
     "is_executing": false
    }
   }
  },
  {
   "cell_type": "code",
   "execution_count": null,
   "outputs": [],
   "source": [
    "#esto deberia ahorrar columnas al hacer un BOW\n",
    "def digitos_en_binario(numero):\n",
    "    logaritmo2 = math.log2(numero)\n",
    "    entero = int(logaritmo2)\n",
    "    entero += 1\n",
    "    return entero\n",
    "\n",
    "def transformar_a_vector_binario(numero,digitos):\n",
    "    nBinario = aBinario(numero)\n",
    "    digit = len(nBinario)\n",
    "    while (digit < digitos):\n",
    "        nBinario.insert(0,0)\n",
    "    return nBinario\n",
    "\n",
    "def aBinario(numero):\n",
    "    numeroDecimal = numero\n",
    "    numeroBinario = []\n",
    "    if (numeroDecimal < 2):\n",
    "        numeroBinario.append(numeroDecimal)\n",
    "        return numeroBinario\n",
    "    while numeroDecimal >=2:\n",
    "        numeroBinario.append(numeroDecimal % 2)\n",
    "        numeroDecimal //= 2\n",
    "    numeroBinario.append(numeroDecimal)\n",
    "    numeroDecimal.reverse()\n",
    "    return numeroBinario"
   ],
   "metadata": {
    "collapsed": false,
    "pycharm": {
     "name": "#%% \n"
    }
   }
  },
  {
   "cell_type": "code",
   "execution_count": 31,
   "outputs": [
    {
     "data": {
      "text/plain": "    longitud_de_texto  longitud_de_keyword  cantidad_de_palabras_texto  \\\nid                                                                       \n1                  69                    0                           7   \n4                  38                    0                           7   \n5                 133                    0                          11   \n6                  65                    0                           7   \n7                  88                    0                           9   \n\n    cantidad_de_palabras_keyword  cantidad_de_hashtag_en_texto  deeds  reason  \\\nid                                                                              \n1                              0                             1      1       1   \n4                              0                             0      0       0   \n5                              0                             0      0       0   \n6                              0                             1      0       0   \n7                              0                             2      0       0   \n\n    may  allah  forgive  ...  iwate  ayyo  08:00  cases:  9km  forney  \\\nid                       ...                                            \n1     1      1        1  ...      0     0      0       0    0       0   \n4     0      0        0  ...      0     0      0       0    0       0   \n5     0      0        0  ...      0     0      0       0    0       0   \n6     0      0        0  ...      0     0      0       0    0       0   \n7     0      0        0  ...      0     0      0       0    0       0   \n\n    letra_0  letra_1  letra_2  letra_3  \nid                                      \n1         0        0        0        0  \n4         0        0        0        0  \n5         0        0        0        0  \n6         0        0        0        0  \n7         0        0        0        0  \n\n[5 rows x 9609 columns]",
      "text/html": "<div>\n<style scoped>\n    .dataframe tbody tr th:only-of-type {\n        vertical-align: middle;\n    }\n\n    .dataframe tbody tr th {\n        vertical-align: top;\n    }\n\n    .dataframe thead th {\n        text-align: right;\n    }\n</style>\n<table border=\"1\" class=\"dataframe\">\n  <thead>\n    <tr style=\"text-align: right;\">\n      <th></th>\n      <th>longitud_de_texto</th>\n      <th>longitud_de_keyword</th>\n      <th>cantidad_de_palabras_texto</th>\n      <th>cantidad_de_palabras_keyword</th>\n      <th>cantidad_de_hashtag_en_texto</th>\n      <th>deeds</th>\n      <th>reason</th>\n      <th>may</th>\n      <th>allah</th>\n      <th>forgive</th>\n      <th>...</th>\n      <th>iwate</th>\n      <th>ayyo</th>\n      <th>08:00</th>\n      <th>cases:</th>\n      <th>9km</th>\n      <th>forney</th>\n      <th>letra_0</th>\n      <th>letra_1</th>\n      <th>letra_2</th>\n      <th>letra_3</th>\n    </tr>\n    <tr>\n      <th>id</th>\n      <th></th>\n      <th></th>\n      <th></th>\n      <th></th>\n      <th></th>\n      <th></th>\n      <th></th>\n      <th></th>\n      <th></th>\n      <th></th>\n      <th></th>\n      <th></th>\n      <th></th>\n      <th></th>\n      <th></th>\n      <th></th>\n      <th></th>\n      <th></th>\n      <th></th>\n      <th></th>\n      <th></th>\n    </tr>\n  </thead>\n  <tbody>\n    <tr>\n      <th>1</th>\n      <td>69</td>\n      <td>0</td>\n      <td>7</td>\n      <td>0</td>\n      <td>1</td>\n      <td>1</td>\n      <td>1</td>\n      <td>1</td>\n      <td>1</td>\n      <td>1</td>\n      <td>...</td>\n      <td>0</td>\n      <td>0</td>\n      <td>0</td>\n      <td>0</td>\n      <td>0</td>\n      <td>0</td>\n      <td>0</td>\n      <td>0</td>\n      <td>0</td>\n      <td>0</td>\n    </tr>\n    <tr>\n      <th>4</th>\n      <td>38</td>\n      <td>0</td>\n      <td>7</td>\n      <td>0</td>\n      <td>0</td>\n      <td>0</td>\n      <td>0</td>\n      <td>0</td>\n      <td>0</td>\n      <td>0</td>\n      <td>...</td>\n      <td>0</td>\n      <td>0</td>\n      <td>0</td>\n      <td>0</td>\n      <td>0</td>\n      <td>0</td>\n      <td>0</td>\n      <td>0</td>\n      <td>0</td>\n      <td>0</td>\n    </tr>\n    <tr>\n      <th>5</th>\n      <td>133</td>\n      <td>0</td>\n      <td>11</td>\n      <td>0</td>\n      <td>0</td>\n      <td>0</td>\n      <td>0</td>\n      <td>0</td>\n      <td>0</td>\n      <td>0</td>\n      <td>...</td>\n      <td>0</td>\n      <td>0</td>\n      <td>0</td>\n      <td>0</td>\n      <td>0</td>\n      <td>0</td>\n      <td>0</td>\n      <td>0</td>\n      <td>0</td>\n      <td>0</td>\n    </tr>\n    <tr>\n      <th>6</th>\n      <td>65</td>\n      <td>0</td>\n      <td>7</td>\n      <td>0</td>\n      <td>1</td>\n      <td>0</td>\n      <td>0</td>\n      <td>0</td>\n      <td>0</td>\n      <td>0</td>\n      <td>...</td>\n      <td>0</td>\n      <td>0</td>\n      <td>0</td>\n      <td>0</td>\n      <td>0</td>\n      <td>0</td>\n      <td>0</td>\n      <td>0</td>\n      <td>0</td>\n      <td>0</td>\n    </tr>\n    <tr>\n      <th>7</th>\n      <td>88</td>\n      <td>0</td>\n      <td>9</td>\n      <td>0</td>\n      <td>2</td>\n      <td>0</td>\n      <td>0</td>\n      <td>0</td>\n      <td>0</td>\n      <td>0</td>\n      <td>...</td>\n      <td>0</td>\n      <td>0</td>\n      <td>0</td>\n      <td>0</td>\n      <td>0</td>\n      <td>0</td>\n      <td>0</td>\n      <td>0</td>\n      <td>0</td>\n      <td>0</td>\n    </tr>\n  </tbody>\n</table>\n<p>5 rows × 9609 columns</p>\n</div>"
     },
     "metadata": {},
     "output_type": "execute_result",
     "execution_count": 31
    }
   ],
   "source": [
    "train_label = tweets_original_entrenamiento['target']\n",
    "train_set = tweets_original_entrenamiento\n",
    "train_set = train_set.drop(columns=['target'])\n",
    "\n",
    "seriePalabrasTexto = train_set['text'].str.lower().str.split().apply(lambda x: [item for item in x if item not in stopwordEnglis])\n",
    "#seriePalabrasKeyword = train_set['keyword'].str.lower().str.split().apply(lambda x: [item for item in x if item not in stopwordEnglis])\n",
    "listadoDePalabrasDelTextoDelSetDeEntrenamiento = extraer_palabras(seriePalabrasTexto)\n",
    "#listadoDePalabrasDelKeywordDelSetDeEntrenamiento = extraer_palabras(seriePalabrasKeyword)\n",
    "train_set = preparar_df(train_set,listadoDePalabrasDelTextoDelSetDeEntrenamiento)\n",
    "train_set.head()"
   ],
   "metadata": {
    "collapsed": false,
    "pycharm": {
     "name": "#%% \n",
     "is_executing": false
    }
   }
  },
  {
   "cell_type": "code",
   "execution_count": 33,
   "metadata": {
    "pycharm": {
     "is_executing": false,
     "name": "#%%\n"
    }
   },
   "outputs": [
    {
     "data": {
      "text/plain": "    longitud_de_texto  longitud_de_keyword  cantidad_de_palabras_texto  \\\nid                                                                       \n0                  34                    0                           4   \n2                  64                    0                           7   \n3                  96                    0                          10   \n9                  40                    0                           4   \n11                 45                    0                           6   \n\n    cantidad_de_palabras_keyword  cantidad_de_hashtag_en_texto  deeds  reason  \\\nid                                                                              \n0                              0                             0      0       0   \n2                              0                             1      0       0   \n3                              0                             0      0       0   \n9                              0                             2      0       0   \n11                             0                             0      0       0   \n\n    may  allah  forgive  ...  iwate  ayyo  08:00  cases:  9km  forney  \\\nid                       ...                                            \n0     0      0        0  ...      0     0      0       0    0       0   \n2     0      0        0  ...      0     0      0       0    0       0   \n3     0      0        0  ...      0     0      0       0    0       0   \n9     0      0        0  ...      0     0      0       0    0       0   \n11    0      0        0  ...      0     0      0       0    0       0   \n\n    letra_0  letra_1  letra_2  letra_3  \nid                                      \n0         0        0        0        0  \n2         0        0        0        0  \n3         0        0        0        0  \n9         0        0        0        0  \n11        0        0        0        0  \n\n[5 rows x 9609 columns]",
      "text/html": "<div>\n<style scoped>\n    .dataframe tbody tr th:only-of-type {\n        vertical-align: middle;\n    }\n\n    .dataframe tbody tr th {\n        vertical-align: top;\n    }\n\n    .dataframe thead th {\n        text-align: right;\n    }\n</style>\n<table border=\"1\" class=\"dataframe\">\n  <thead>\n    <tr style=\"text-align: right;\">\n      <th></th>\n      <th>longitud_de_texto</th>\n      <th>longitud_de_keyword</th>\n      <th>cantidad_de_palabras_texto</th>\n      <th>cantidad_de_palabras_keyword</th>\n      <th>cantidad_de_hashtag_en_texto</th>\n      <th>deeds</th>\n      <th>reason</th>\n      <th>may</th>\n      <th>allah</th>\n      <th>forgive</th>\n      <th>...</th>\n      <th>iwate</th>\n      <th>ayyo</th>\n      <th>08:00</th>\n      <th>cases:</th>\n      <th>9km</th>\n      <th>forney</th>\n      <th>letra_0</th>\n      <th>letra_1</th>\n      <th>letra_2</th>\n      <th>letra_3</th>\n    </tr>\n    <tr>\n      <th>id</th>\n      <th></th>\n      <th></th>\n      <th></th>\n      <th></th>\n      <th></th>\n      <th></th>\n      <th></th>\n      <th></th>\n      <th></th>\n      <th></th>\n      <th></th>\n      <th></th>\n      <th></th>\n      <th></th>\n      <th></th>\n      <th></th>\n      <th></th>\n      <th></th>\n      <th></th>\n      <th></th>\n      <th></th>\n    </tr>\n  </thead>\n  <tbody>\n    <tr>\n      <th>0</th>\n      <td>34</td>\n      <td>0</td>\n      <td>4</td>\n      <td>0</td>\n      <td>0</td>\n      <td>0</td>\n      <td>0</td>\n      <td>0</td>\n      <td>0</td>\n      <td>0</td>\n      <td>...</td>\n      <td>0</td>\n      <td>0</td>\n      <td>0</td>\n      <td>0</td>\n      <td>0</td>\n      <td>0</td>\n      <td>0</td>\n      <td>0</td>\n      <td>0</td>\n      <td>0</td>\n    </tr>\n    <tr>\n      <th>2</th>\n      <td>64</td>\n      <td>0</td>\n      <td>7</td>\n      <td>0</td>\n      <td>1</td>\n      <td>0</td>\n      <td>0</td>\n      <td>0</td>\n      <td>0</td>\n      <td>0</td>\n      <td>...</td>\n      <td>0</td>\n      <td>0</td>\n      <td>0</td>\n      <td>0</td>\n      <td>0</td>\n      <td>0</td>\n      <td>0</td>\n      <td>0</td>\n      <td>0</td>\n      <td>0</td>\n    </tr>\n    <tr>\n      <th>3</th>\n      <td>96</td>\n      <td>0</td>\n      <td>10</td>\n      <td>0</td>\n      <td>0</td>\n      <td>0</td>\n      <td>0</td>\n      <td>0</td>\n      <td>0</td>\n      <td>0</td>\n      <td>...</td>\n      <td>0</td>\n      <td>0</td>\n      <td>0</td>\n      <td>0</td>\n      <td>0</td>\n      <td>0</td>\n      <td>0</td>\n      <td>0</td>\n      <td>0</td>\n      <td>0</td>\n    </tr>\n    <tr>\n      <th>9</th>\n      <td>40</td>\n      <td>0</td>\n      <td>4</td>\n      <td>0</td>\n      <td>2</td>\n      <td>0</td>\n      <td>0</td>\n      <td>0</td>\n      <td>0</td>\n      <td>0</td>\n      <td>...</td>\n      <td>0</td>\n      <td>0</td>\n      <td>0</td>\n      <td>0</td>\n      <td>0</td>\n      <td>0</td>\n      <td>0</td>\n      <td>0</td>\n      <td>0</td>\n      <td>0</td>\n    </tr>\n    <tr>\n      <th>11</th>\n      <td>45</td>\n      <td>0</td>\n      <td>6</td>\n      <td>0</td>\n      <td>0</td>\n      <td>0</td>\n      <td>0</td>\n      <td>0</td>\n      <td>0</td>\n      <td>0</td>\n      <td>...</td>\n      <td>0</td>\n      <td>0</td>\n      <td>0</td>\n      <td>0</td>\n      <td>0</td>\n      <td>0</td>\n      <td>0</td>\n      <td>0</td>\n      <td>0</td>\n      <td>0</td>\n    </tr>\n  </tbody>\n</table>\n<p>5 rows × 9609 columns</p>\n</div>"
     },
     "metadata": {},
     "output_type": "execute_result",
     "execution_count": 33
    }
   ],
   "source": [
    "test_set = tweets_original_prueba\n",
    "test_set = preparar_df(test_set,listadoDePalabrasDelTextoDelSetDeEntrenamiento)\n",
    "test_set.head()"
   ]
  },
  {
   "cell_type": "code",
   "execution_count": 34,
   "metadata": {
    "pycharm": {
     "is_executing": false,
     "name": "#%%\n"
    }
   },
   "outputs": [],
   "source": [
    "def ensamble(df,n,prediccion):\n",
    "    #df['prediccion'] = prediccion\n",
    "    #df['prediccion'] = df['prediccion'].round()\n",
    "    df['target'] = df['target'] + prediccion.round()\n",
    "    n += 1\n",
    "    return (n,df)\n",
    "\n",
    "def calcular_resultado_de_prediccion(df,n):\n",
    "    df['target'] = df['target'].div(n).round()\n",
    "    return df"
   ]
  },
  {
   "cell_type": "code",
   "execution_count": 121,
   "metadata": {
    "pycharm": {
     "is_executing": false,
     "name": "#%%\n"
    }
   },
   "outputs": [
    {
     "name": "stdout",
     "text": [
      "0:\tlearn: 0.4777340\ttotal: 30.8ms\tremaining: 185ms\n1:\tlearn: 0.4727204\ttotal: 34.6ms\tremaining: 86.6ms\n2:\tlearn: 0.4687604\ttotal: 50.8ms\tremaining: 67.8ms\n3:\tlearn: 0.4627353\ttotal: 65.5ms\tremaining: 49.1ms\n4:\tlearn: 0.4614475\ttotal: 68.8ms\tremaining: 27.5ms\n5:\tlearn: 0.4587690\ttotal: 85.8ms\tremaining: 14.3ms\n6:\tlearn: 0.4547921\ttotal: 101ms\tremaining: 0us\nlocal 0.5029535864978902 max 0.5029535864978902\nlocal [7, 0.65, 11] max [7, 0.65, 11]\n",
      "0:\tlearn: 0.4776555\ttotal: 33ms\tremaining: 198ms\n1:\tlearn: 0.4726483\ttotal: 36.8ms\tremaining: 92ms\n2:\tlearn: 0.4681062\ttotal: 70.9ms\tremaining: 94.5ms\n3:\tlearn: 0.4674185\ttotal: 72.9ms\tremaining: 54.7ms\n4:\tlearn: 0.4584173\ttotal: 102ms\tremaining: 41ms\n5:\tlearn: 0.4528915\ttotal: 132ms\tremaining: 22ms\n6:\tlearn: 0.4500015\ttotal: 161ms\tremaining: 0us\n",
      "local 0.4879931389365351 max 0.5029535864978902\nlocal [7, 0.65, 12] max [7, 0.65, 11]\n0:\tlearn: 0.4776555\ttotal: 88.1ms\tremaining: 529ms\n1:\tlearn: 0.4738265\ttotal: 91.3ms\tremaining: 228ms\n2:\tlearn: 0.4709404\ttotal: 141ms\tremaining: 189ms\n3:\tlearn: 0.4686342\ttotal: 145ms\tremaining: 109ms\n4:\tlearn: 0.4640420\ttotal: 155ms\tremaining: 61.9ms\n",
      "5:\tlearn: 0.4574834\ttotal: 228ms\tremaining: 38.1ms\n6:\tlearn: 0.4539445\ttotal: 291ms\tremaining: 0us\n",
      "local 0.5049916805324459 max 0.5049916805324459\nlocal [7, 0.65, 13] max [7, 0.65, 13]\n0:\tlearn: 0.4775849\ttotal: 19.8ms\tremaining: 119ms\n1:\tlearn: 0.4724838\ttotal: 27.1ms\tremaining: 67.7ms\n2:\tlearn: 0.4643268\ttotal: 49.9ms\tremaining: 66.6ms\n3:\tlearn: 0.4635479\ttotal: 52.9ms\tremaining: 39.7ms\n4:\tlearn: 0.4603032\ttotal: 73.1ms\tremaining: 29.2ms\n5:\tlearn: 0.4561928\ttotal: 96.5ms\tremaining: 16.1ms\n6:\tlearn: 0.4506288\ttotal: 117ms\tremaining: 0us\n",
      "local 0.5054121565362197 max 0.5054121565362197\nlocal [7, 0.66, 11] max [7, 0.66, 11]\n0:\tlearn: 0.4775048\ttotal: 31.9ms\tremaining: 191ms\n1:\tlearn: 0.4725495\ttotal: 35.5ms\tremaining: 88.7ms\n2:\tlearn: 0.4679926\ttotal: 66.5ms\tremaining: 88.7ms\n3:\tlearn: 0.4673105\ttotal: 68.4ms\tremaining: 51.3ms\n4:\tlearn: 0.4582367\ttotal: 99.7ms\tremaining: 39.9ms\n5:\tlearn: 0.4526820\ttotal: 132ms\tremaining: 22ms\n",
      "6:\tlearn: 0.4497871\ttotal: 165ms\tremaining: 0us\nlocal 0.4884318766066838 max 0.5054121565362197\nlocal [7, 0.66, 12] max [7, 0.66, 11]\n",
      "0:\tlearn: 0.4775048\ttotal: 67.7ms\tremaining: 406ms\n1:\tlearn: 0.4652876\ttotal: 134ms\tremaining: 335ms\n2:\tlearn: 0.4623467\ttotal: 165ms\tremaining: 220ms\n3:\tlearn: 0.4571291\ttotal: 228ms\tremaining: 171ms\n",
      "4:\tlearn: 0.4482198\ttotal: 292ms\tremaining: 117ms\n5:\tlearn: 0.4448113\ttotal: 366ms\tremaining: 61.1ms\n6:\tlearn: 0.4397341\ttotal: 457ms\tremaining: 0us\n",
      "local 0.5408 max 0.5408\nlocal [7, 0.66, 13] max [7, 0.66, 13]\n0:\tlearn: 0.4774395\ttotal: 16.6ms\tremaining: 99.4ms\n1:\tlearn: 0.4723969\ttotal: 21.6ms\tremaining: 54ms\n2:\tlearn: 0.4667359\ttotal: 36.9ms\tremaining: 49.1ms\n3:\tlearn: 0.4602246\ttotal: 52.4ms\tremaining: 39.3ms\n4:\tlearn: 0.4593231\ttotal: 55.9ms\tremaining: 22.4ms\n5:\tlearn: 0.4537017\ttotal: 71.5ms\tremaining: 11.9ms\n6:\tlearn: 0.4512473\ttotal: 86.7ms\tremaining: 0us\nlocal 0.492656315568611 max 0.5408",
      "\nlocal [7, 0.67, 11] max [7, 0.66, 13]\n0:\tlearn: 0.4773577\ttotal: 34.9ms\tremaining: 210ms\n1:\tlearn: 0.4724552\ttotal: 38.5ms\tremaining: 96.3ms\n2:\tlearn: 0.4678832\ttotal: 79.3ms\tremaining: 106ms\n3:\tlearn: 0.4658239\ttotal: 83.9ms\tremaining: 62.9ms\n4:\tlearn: 0.4561126\ttotal: 122ms\tremaining: 49ms\n5:\tlearn: 0.4538330\ttotal: 170ms\tremaining: 28.3ms\n",
      "6:\tlearn: 0.4536837\ttotal: 173ms\tremaining: 0us\nlocal 0.49640591966173364 max 0.5408\nlocal [7, 0.67, 12] max [7, 0.66, 13]\n0:\tlearn: 0.4773577\ttotal: 60.5ms\tremaining: 363ms\n",
      "1:\tlearn: 0.4651416\ttotal: 124ms\tremaining: 310ms\n2:\tlearn: 0.4621557\ttotal: 158ms\tremaining: 211ms\n3:\tlearn: 0.4575755\ttotal: 220ms\tremaining: 165ms\n4:\tlearn: 0.4484470\ttotal: 292ms\tremaining: 117ms\n",
      "5:\tlearn: 0.4426349\ttotal: 370ms\tremaining: 61.7ms\n6:\tlearn: 0.4401360\ttotal: 436ms\tremaining: 0us\nlocal 0.539991879821356 max 0.5408\nlocal [7, 0.67, 13] max [7, 0.66, 13]\n0:\tlearn: 0.4772978\ttotal: 15.6ms\tremaining: 93.9ms\n",
      "1:\tlearn: 0.4723143\ttotal: 21.8ms\tremaining: 54.6ms\n2:\tlearn: 0.4667397\ttotal: 38.3ms\tremaining: 51ms\n3:\tlearn: 0.4658977\ttotal: 40.5ms\tremaining: 30.4ms\n4:\tlearn: 0.4616158\ttotal: 58.9ms\tremaining: 23.5ms\n5:\tlearn: 0.4589915\ttotal: 77.3ms\tremaining: 12.9ms\n6:\tlearn: 0.4551984\ttotal: 109ms\tremaining: 0us\n",
      "local 0.5046257359125315 max 0.5408\nlocal [7, 0.68, 11] max [7, 0.66, 13]\n0:\tlearn: 0.4772142\ttotal: 32.9ms\tremaining: 197ms\n1:\tlearn: 0.4723653\ttotal: 36.2ms\tremaining: 90.5ms\n2:\tlearn: 0.4694390\ttotal: 66ms\tremaining: 88ms\n3:\tlearn: 0.4606274\ttotal: 95.2ms\tremaining: 71.4ms\n4:\tlearn: 0.4582854\ttotal: 100ms\tremaining: 40.2ms\n5:\tlearn: 0.4539262\ttotal: 130ms\tremaining: 21.6ms\n",
      "6:\tlearn: 0.4475726\ttotal: 160ms\tremaining: 0us\nlocal 0.5359005214600883 max 0.5408\nlocal [7, 0.68, 12] max [7, 0.66, 13]\n",
      "0:\tlearn: 0.4772142\ttotal: 86.1ms\tremaining: 517ms\n1:\tlearn: 0.4650014\ttotal: 154ms\tremaining: 386ms\n2:\tlearn: 0.4602380\ttotal: 214ms\tremaining: 285ms\n3:\tlearn: 0.4511804\ttotal: 273ms\tremaining: 205ms\n4:\tlearn: 0.4466455\ttotal: 332ms\tremaining: 133ms\n",
      "5:\tlearn: 0.4432603\ttotal: 395ms\tremaining: 65.8ms\n6:\tlearn: 0.4410298\ttotal: 473ms\tremaining: 0us\n",
      "local 0.5261437908496731 max 0.5408\nlocal [7, 0.68, 13] max [7, 0.66, 13]\n0:\tlearn: 0.4771596\ttotal: 16.7ms\tremaining: 100ms\n1:\tlearn: 0.4722360\ttotal: 21.9ms\tremaining: 54.7ms\n2:\tlearn: 0.4624710\ttotal: 36.9ms\tremaining: 49.2ms\n3:\tlearn: 0.4619166\ttotal: 39.1ms\tremaining: 29.3ms\n4:\tlearn: 0.4590122\ttotal: 54.1ms\tremaining: 21.6ms\n5:\tlearn: 0.4547986\ttotal: 69.1ms\tremaining: 11.5ms\n6:\tlearn: 0.4527775\ttotal: 84ms\tremaining: 0us\n",
      "local 0.5069473684210527 max 0.5408\nlocal [7, 0.69, 11] max [7, 0.66, 13]\n0:\tlearn: 0.4770743\ttotal: 44.2ms\tremaining: 265ms\n1:\tlearn: 0.4722798\ttotal: 48.5ms\tremaining: 121ms\n2:\tlearn: 0.4693595\ttotal: 82.7ms\tremaining: 110ms\n3:\tlearn: 0.4605061\ttotal: 116ms\tremaining: 87ms\n4:\tlearn: 0.4581541\ttotal: 122ms\tremaining: 48.6ms\n",
      "5:\tlearn: 0.4537826\ttotal: 154ms\tremaining: 25.7ms\n6:\tlearn: 0.4473967\ttotal: 187ms\tremaining: 0us\nlocal 0.534510433386838 max 0.5408\nlocal [7, 0.69, 12] max [7, 0.66, 13]\n",
      "0:\tlearn: 0.4770743\ttotal: 61.2ms\tremaining: 367ms\n1:\tlearn: 0.4648668\ttotal: 123ms\tremaining: 307ms\n2:\tlearn: 0.4600796\ttotal: 189ms\tremaining: 252ms\n",
      "3:\tlearn: 0.4509670\ttotal: 267ms\tremaining: 200ms\n4:\tlearn: 0.4464220\ttotal: 335ms\tremaining: 134ms\n5:\tlearn: 0.4431800\ttotal: 393ms\tremaining: 65.5ms\n6:\tlearn: 0.4428670\ttotal: 451ms\tremaining: 0us\n",
      "local 0.5130326851468764 max 0.5408\nlocal [7, 0.69, 13] max [7, 0.66, 13]\n0:\tlearn: 0.4770252\ttotal: 18.7ms\tremaining: 112ms\n1:\tlearn: 0.4721619\ttotal: 25.4ms\tremaining: 63.5ms\n2:\tlearn: 0.4623269\ttotal: 45.4ms\tremaining: 60.5ms\n3:\tlearn: 0.4617782\ttotal: 47.6ms\tremaining: 35.7ms\n4:\tlearn: 0.4588817\ttotal: 65.2ms\tremaining: 26.1ms\n5:\tlearn: 0.4546494\ttotal: 86.4ms\tremaining: 14.4ms\n6:\tlearn: 0.4526269\ttotal: 105ms\tremaining: 0us\n",
      "local 0.5065208245687842 max 0.5408\nlocal [7, 0.7, 11] max [7, 0.66, 13]\n0:\tlearn: 0.4769382\ttotal: 29.4ms\tremaining: 176ms\n1:\tlearn: 0.4721984\ttotal: 32.7ms\tremaining: 81.7ms\n2:\tlearn: 0.4692838\ttotal: 61.8ms\tremaining: 82.5ms\n3:\tlearn: 0.4603897\ttotal: 91.2ms\tremaining: 68.4ms\n4:\tlearn: 0.4580277\ttotal: 96.1ms\tremaining: 38.4ms\n5:\tlearn: 0.4536440\ttotal: 126ms\tremaining: 20.9ms\n",
      "6:\tlearn: 0.4472264\ttotal: 155ms\tremaining: 0us\nlocal 0.534510433386838 max 0.5408\nlocal [7, 0.7, 12] max [7, 0.66, 13]\n",
      "0:\tlearn: 0.4769382\ttotal: 78.8ms\tremaining: 473ms\n1:\tlearn: 0.4647378\ttotal: 143ms\tremaining: 358ms\n2:\tlearn: 0.4599260\ttotal: 202ms\tremaining: 269ms\n3:\tlearn: 0.4507590\ttotal: 260ms\tremaining: 195ms\n",
      "4:\tlearn: 0.4462804\ttotal: 324ms\tremaining: 129ms\n5:\tlearn: 0.4428842\ttotal: 384ms\tremaining: 64ms\n",
      "6:\tlearn: 0.4409374\ttotal: 461ms\tremaining: 0us\nlocal 0.5230642504118617 max 0.5408\nlocal [7, 0.7, 13] max [7, 0.66, 13]\n0:\tlearn: 0.4768944\ttotal: 15.6ms\tremaining: 93.7ms\n1:\tlearn: 0.4720918\ttotal: 20.5ms\tremaining: 51.2ms\n2:\tlearn: 0.4613319\ttotal: 35.6ms\tremaining: 47.4ms\n3:\tlearn: 0.4607295\ttotal: 37.7ms\tremaining: 28.2ms\n4:\tlearn: 0.4578169\ttotal: 52.1ms\tremaining: 20.8ms\n5:\tlearn: 0.4541840\ttotal: 66.9ms\tremaining: 11.1ms\n6:\tlearn: 0.4516118\ttotal: 81.3ms\tremaining: 0us\n",
      "local 0.4936708860759493 max 0.5408\nlocal [7, 0.71, 11] max [7, 0.66, 13]\n0:\tlearn: 0.4768056\ttotal: 38.2ms\tremaining: 229ms\n1:\tlearn: 0.4721211\ttotal: 42.7ms\tremaining: 107ms\n",
      "2:\tlearn: 0.4692117\ttotal: 94.8ms\tremaining: 126ms\n3:\tlearn: 0.4588887\ttotal: 127ms\tremaining: 95.4ms\n4:\tlearn: 0.4572747\ttotal: 132ms\tremaining: 53ms\n5:\tlearn: 0.4532104\ttotal: 162ms\tremaining: 27ms\n6:\tlearn: 0.4460969\ttotal: 191ms\tremaining: 0us\nlocal 0.5113215314944421 max 0.5408",
      "\nlocal [7, 0.71, 12] max [7, 0.66, 13]\n0:\tlearn: 0.4768056\ttotal: 63.3ms\tremaining: 380ms\n1:\tlearn: 0.4648617\ttotal: 144ms\tremaining: 361ms\n",
      "2:\tlearn: 0.4597074\ttotal: 213ms\tremaining: 284ms\n3:\tlearn: 0.4541444\ttotal: 272ms\tremaining: 204ms\n4:\tlearn: 0.4502669\ttotal: 330ms\tremaining: 132ms\n5:\tlearn: 0.4458081\ttotal: 388ms\tremaining: 64.7ms\n",
      "6:\tlearn: 0.4448081\ttotal: 452ms\tremaining: 0us\nlocal 0.5303822937625755 max 0.5408\nlocal [7, 0.71, 13] max [7, 0.66, 13]\n0:\tlearn: 0.4767673\ttotal: 17.1ms\tremaining: 102ms\n1:\tlearn: 0.4724522\ttotal: 22.4ms\tremaining: 56ms\n2:\tlearn: 0.4625615\ttotal: 40.9ms\tremaining: 54.5ms\n",
      "3:\tlearn: 0.4616420\ttotal: 43.4ms\tremaining: 32.5ms\n4:\tlearn: 0.4610121\ttotal: 45.2ms\tremaining: 18.1ms\n5:\tlearn: 0.4575663\ttotal: 61.7ms\tremaining: 10.3ms\n6:\tlearn: 0.4543298\ttotal: 87.1ms\tremaining: 0us\nlocal 0.4962025316455695 max 0.5408\nlocal [7, 0.72, 11] max [7, 0.66, 13]\n0:\tlearn: 0.4766767\ttotal: 29.1ms\tremaining: 175ms\n",
      "1:\tlearn: 0.4720479\ttotal: 32.6ms\tremaining: 81.5ms\n2:\tlearn: 0.4681614\ttotal: 65.9ms\tremaining: 87.9ms\n3:\tlearn: 0.4560384\ttotal: 97ms\tremaining: 72.8ms\n4:\tlearn: 0.4543755\ttotal: 99.1ms\tremaining: 39.6ms\n5:\tlearn: 0.4522684\ttotal: 129ms\tremaining: 21.6ms\n6:\tlearn: 0.4492429\ttotal: 166ms\tremaining: 0us\n",
      "local 0.5181305398871877 max 0.5408\nlocal [7, 0.72, 12] max [7, 0.66, 13]\n0:\tlearn: 0.4766767\ttotal: 58.3ms\tremaining: 350ms\n1:\tlearn: 0.4647364\ttotal: 118ms\tremaining: 296ms\n",
      "2:\tlearn: 0.4595637\ttotal: 178ms\tremaining: 237ms\n3:\tlearn: 0.4521416\ttotal: 245ms\tremaining: 184ms\n4:\tlearn: 0.4479839\ttotal: 329ms\tremaining: 132ms\n",
      "5:\tlearn: 0.4433223\ttotal: 397ms\tremaining: 66.2ms\n6:\tlearn: 0.4429640\ttotal: 460ms\tremaining: 0us\n",
      "local 0.5170291341813705 max 0.5408\nlocal [7, 0.72, 13] max [7, 0.66, 13]\n0:\tlearn: 0.4766438\ttotal: 23.4ms\tremaining: 140ms\n1:\tlearn: 0.4702991\ttotal: 27.3ms\tremaining: 68.2ms\n2:\tlearn: 0.4650130\ttotal: 46.5ms\tremaining: 62ms\n3:\tlearn: 0.4611033\ttotal: 66.2ms\tremaining: 49.7ms\n4:\tlearn: 0.4573121\ttotal: 83.4ms\tremaining: 33.3ms\n5:\tlearn: 0.4551791\ttotal: 99.7ms\tremaining: 16.6ms\n6:\tlearn: 0.4499327\ttotal: 117ms\tremaining: 0us\n",
      "local 0.5311871227364185 max 0.5408\nlocal [7, 0.73, 11] max [7, 0.66, 13]\n0:\tlearn: 0.4765515\ttotal: 30.3ms\tremaining: 182ms\n1:\tlearn: 0.4719785\ttotal: 33.7ms\tremaining: 84.2ms\n2:\tlearn: 0.4680987\ttotal: 62.7ms\tremaining: 83.7ms\n3:\tlearn: 0.4559161\ttotal: 92ms\tremaining: 69ms\n4:\tlearn: 0.4542515\ttotal: 94.2ms\tremaining: 37.7ms\n5:\tlearn: 0.4521299\ttotal: 125ms\tremaining: 20.8ms\n",
      "6:\tlearn: 0.4490963\ttotal: 156ms\tremaining: 0us\nlocal 0.5181305398871877 max 0.5408\nlocal [7, 0.73, 12] max [7, 0.66, 13]\n",
      "0:\tlearn: 0.4765515\ttotal: 67ms\tremaining: 402ms\n1:\tlearn: 0.4646163\ttotal: 133ms\tremaining: 333ms\n2:\tlearn: 0.4594247\ttotal: 193ms\tremaining: 258ms\n3:\tlearn: 0.4519856\ttotal: 252ms\tremaining: 189ms\n",
      "4:\tlearn: 0.4478194\ttotal: 314ms\tremaining: 125ms\n5:\tlearn: 0.4431326\ttotal: 375ms\tremaining: 62.5ms\n",
      "6:\tlearn: 0.4427748\ttotal: 456ms\tremaining: 0us\nlocal 0.5170291341813705 max 0.5408\nlocal [7, 0.73, 13] max [7, 0.66, 13]\n0:\tlearn: 0.4765240\ttotal: 15.5ms\tremaining: 92.9ms\n1:\tlearn: 0.4702241\ttotal: 18.8ms\tremaining: 47ms\n2:\tlearn: 0.4649285\ttotal: 33.4ms\tremaining: 44.6ms\n3:\tlearn: 0.4610214\ttotal: 48.2ms\tremaining: 36.2ms\n4:\tlearn: 0.4572194\ttotal: 63ms\tremaining: 25.2ms\n",
      "5:\tlearn: 0.4550854\ttotal: 79.3ms\tremaining: 13.2ms\n6:\tlearn: 0.4505968\ttotal: 95.9ms\tremaining: 0us\nlocal 0.5372405372405372 max 0.5408\nlocal [7, 0.74, 11] max [7, 0.66, 13]\n0:\tlearn: 0.4764299\ttotal: 41.6ms\tremaining: 250ms\n",
      "1:\tlearn: 0.4719131\ttotal: 46.7ms\tremaining: 117ms\n2:\tlearn: 0.4680391\ttotal: 81.6ms\tremaining: 109ms\n3:\tlearn: 0.4557985\ttotal: 115ms\tremaining: 86.2ms\n4:\tlearn: 0.4541321\ttotal: 117ms\tremaining: 46.9ms\n5:\tlearn: 0.4519963\ttotal: 147ms\tremaining: 24.4ms\n6:\tlearn: 0.4489544\ttotal: 176ms\tremaining: 0us\n",
      "local 0.5210758731433159 max 0.5408\nlocal [7, 0.74, 12] max [7, 0.66, 13]\n0:\tlearn: 0.4764299\ttotal: 61.3ms\tremaining: 368ms\n1:\tlearn: 0.4645013\ttotal: 141ms\tremaining: 351ms\n",
      "2:\tlearn: 0.4607645\ttotal: 176ms\tremaining: 235ms\n3:\tlearn: 0.4568777\ttotal: 241ms\tremaining: 181ms\n4:\tlearn: 0.4510348\ttotal: 300ms\tremaining: 120ms\n",
      "5:\tlearn: 0.4466533\ttotal: 359ms\tremaining: 59.8ms\n6:\tlearn: 0.4427917\ttotal: 421ms\tremaining: 0us\nlocal 0.5189456342668863 max 0.5408\nlocal [7, 0.74, 13] max [7, 0.66, 13]\n",
      "0:\tlearn: 0.4764079\ttotal: 16.4ms\tremaining: 98.5ms\n1:\tlearn: 0.4701539\ttotal: 19.8ms\tremaining: 49.5ms\n2:\tlearn: 0.4648479\ttotal: 36.4ms\tremaining: 48.6ms\n3:\tlearn: 0.4609430\ttotal: 52.9ms\tremaining: 39.7ms\n4:\tlearn: 0.4565750\ttotal: 69.7ms\tremaining: 27.9ms\n5:\tlearn: 0.4538217\ttotal: 84.5ms\tremaining: 14.1ms\n6:\tlearn: 0.4495613\ttotal: 99.3ms\tremaining: 0us\n",
      "local 0.532953620829943 max 0.5408\nlocal [7, 0.75, 11] max [7, 0.66, 13]\n0:\tlearn: 0.4763119\ttotal: 41.5ms\tremaining: 249ms\n1:\tlearn: 0.4718514\ttotal: 45.4ms\tremaining: 113ms\n2:\tlearn: 0.4633347\ttotal: 84.8ms\tremaining: 113ms\n3:\tlearn: 0.4629131\ttotal: 88.8ms\tremaining: 66.6ms\n4:\tlearn: 0.4566377\ttotal: 126ms\tremaining: 50.4ms\n",
      "5:\tlearn: 0.4541713\ttotal: 160ms\tremaining: 26.6ms\n6:\tlearn: 0.4538916\ttotal: 162ms\tremaining: 0us\nlocal 0.5125462772521595 max 0.5408\nlocal [7, 0.75, 12] max [7, 0.66, 13]\n0:\tlearn: 0.4763119\ttotal: 58.4ms\tremaining: 350ms\n",
      "1:\tlearn: 0.4643913\ttotal: 122ms\tremaining: 306ms\n2:\tlearn: 0.4606441\ttotal: 152ms\tremaining: 202ms\n3:\tlearn: 0.4567513\ttotal: 219ms\tremaining: 164ms\n",
      "4:\tlearn: 0.4508790\ttotal: 292ms\tremaining: 117ms\n5:\tlearn: 0.4479544\ttotal: 356ms\tremaining: 59.3ms\n6:\tlearn: 0.4410288\ttotal: 414ms\tremaining: 0us\nlocal 0.5203252032520325 max 0.5408",
      "\nlocal [7, 0.75, 13] max [7, 0.66, 13]\n0:\tlearn: 0.4777340\ttotal: 17.4ms\tremaining: 122ms\n1:\tlearn: 0.4727204\ttotal: 20.7ms\tremaining: 62.2ms\n2:\tlearn: 0.4687604\ttotal: 38.7ms\tremaining: 64.5ms\n3:\tlearn: 0.4627353\ttotal: 62.3ms\tremaining: 62.3ms\n4:\tlearn: 0.4614475\ttotal: 66.4ms\tremaining: 39.8ms\n5:\tlearn: 0.4587690\ttotal: 87ms\tremaining: 29ms\n6:\tlearn: 0.4547921\ttotal: 107ms\tremaining: 15.3ms\n7:\tlearn: 0.4515734\ttotal: 133ms\tremaining: 0us\n",
      "local 0.49155405405405406 max 0.5408\nlocal [8, 0.65, 11] max [7, 0.66, 13]\n0:\tlearn: 0.4776555\ttotal: 30.5ms\tremaining: 214ms\n1:\tlearn: 0.4726483\ttotal: 33.9ms\tremaining: 102ms\n2:\tlearn: 0.4681062\ttotal: 64.7ms\tremaining: 108ms\n3:\tlearn: 0.4674185\ttotal: 66.6ms\tremaining: 66.6ms\n4:\tlearn: 0.4584173\ttotal: 97.4ms\tremaining: 58.4ms\n5:\tlearn: 0.4528915\ttotal: 130ms\tremaining: 43.5ms\n",
      "6:\tlearn: 0.4500015\ttotal: 160ms\tremaining: 22.8ms\n7:\tlearn: 0.4479083\ttotal: 199ms\tremaining: 0us\nlocal 0.4919423240033928 max 0.5408\nlocal [8, 0.65, 12] max [7, 0.66, 13]\n",
      "0:\tlearn: 0.4776555\ttotal: 64.9ms\tremaining: 454ms\n1:\tlearn: 0.4738265\ttotal: 67.6ms\tremaining: 203ms\n2:\tlearn: 0.4709404\ttotal: 97.1ms\tremaining: 162ms\n3:\tlearn: 0.4686342\ttotal: 100ms\tremaining: 100ms\n4:\tlearn: 0.4640420\ttotal: 109ms\tremaining: 65.2ms\n5:\tlearn: 0.4574834\ttotal: 168ms\tremaining: 56ms\n6:\tlearn: 0.4539445\ttotal: 228ms\tremaining: 32.6ms\n",
      "7:\tlearn: 0.4522791\ttotal: 300ms\tremaining: 0us\nlocal 0.5127993393889347 max 0.5408\nlocal [8, 0.65, 13] max [7, 0.66, 13]\n0:\tlearn: 0.4775849\ttotal: 18.4ms\tremaining: 129ms\n",
      "1:\tlearn: 0.4724838\ttotal: 24.1ms\tremaining: 72.3ms\n2:\tlearn: 0.4643268\ttotal: 41.3ms\tremaining: 68.9ms\n3:\tlearn: 0.4635479\ttotal: 43.5ms\tremaining: 43.5ms\n4:\tlearn: 0.4603032\ttotal: 60.6ms\tremaining: 36.4ms\n5:\tlearn: 0.4561928\ttotal: 77ms\tremaining: 25.7ms\n6:\tlearn: 0.4506288\ttotal: 93.9ms\tremaining: 13.4ms\n7:\tlearn: 0.4488723\ttotal: 109ms\tremaining: 0us\nlocal 0.5052454888795636 max 0.5408",
      "\nlocal [8, 0.66, 11] max [7, 0.66, 13]\n0:\tlearn: 0.4775048\ttotal: 32.3ms\tremaining: 226ms\n1:\tlearn: 0.4725495\ttotal: 35.8ms\tremaining: 107ms\n2:\tlearn: 0.4679926\ttotal: 65.6ms\tremaining: 109ms\n3:\tlearn: 0.4673105\ttotal: 67.4ms\tremaining: 67.4ms\n4:\tlearn: 0.4582367\ttotal: 103ms\tremaining: 61.7ms\n5:\tlearn: 0.4526820\ttotal: 143ms\tremaining: 47.8ms\n",
      "6:\tlearn: 0.4497871\ttotal: 195ms\tremaining: 27.8ms\n7:\tlearn: 0.4485474\ttotal: 227ms\tremaining: 0us\nlocal 0.4901287553648068 max 0.5408\nlocal [8, 0.66, 12] max [7, 0.66, 13]\n0:\tlearn: 0.4775048\ttotal: 59.4ms\tremaining: 416ms\n",
      "1:\tlearn: 0.4652876\ttotal: 125ms\tremaining: 375ms\n2:\tlearn: 0.4623467\ttotal: 156ms\tremaining: 260ms\n3:\tlearn: 0.4571291\ttotal: 245ms\tremaining: 245ms\n",
      "4:\tlearn: 0.4482198\ttotal: 315ms\tremaining: 189ms\n5:\tlearn: 0.4448113\ttotal: 374ms\tremaining: 125ms\n",
      "6:\tlearn: 0.4397341\ttotal: 434ms\tremaining: 61.9ms\n7:\tlearn: 0.4347927\ttotal: 498ms\tremaining: 0us\nlocal 0.5402576489533012 max 0.5408\nlocal [8, 0.66, 13] max [7, 0.66, 13]",
      "\n0:\tlearn: 0.4774395\ttotal: 15.4ms\tremaining: 108ms\n1:\tlearn: 0.4723969\ttotal: 20.5ms\tremaining: 61.4ms\n2:\tlearn: 0.4667359\ttotal: 35.8ms\tremaining: 59.6ms\n3:\tlearn: 0.4602246\ttotal: 50.3ms\tremaining: 50.3ms\n4:\tlearn: 0.4593231\ttotal: 53.5ms\tremaining: 32.1ms\n5:\tlearn: 0.4537017\ttotal: 69.6ms\tremaining: 23.2ms\n6:\tlearn: 0.4512473\ttotal: 84.6ms\tremaining: 12.1ms\n",
      "7:\tlearn: 0.4481539\ttotal: 101ms\tremaining: 0us\nlocal 0.5002063557573256 max 0.5408\nlocal [8, 0.67, 11] max [7, 0.66, 13]\n0:\tlearn: 0.4773577\ttotal: 41.4ms\tremaining: 290ms\n1:\tlearn: 0.4724552\ttotal: 46.5ms\tremaining: 139ms\n",
      "2:\tlearn: 0.4678832\ttotal: 85.3ms\tremaining: 142ms\n3:\tlearn: 0.4658239\ttotal: 89.2ms\tremaining: 89.2ms\n4:\tlearn: 0.4561126\ttotal: 123ms\tremaining: 73.6ms\n5:\tlearn: 0.4538330\ttotal: 155ms\tremaining: 51.7ms\n6:\tlearn: 0.4536837\ttotal: 157ms\tremaining: 22.4ms\n7:\tlearn: 0.4487331\ttotal: 187ms\tremaining: 0us\nlocal 0.5129257283545342 max 0.5408\nlocal [8, 0.67, 12] max [7, 0.66, 13]\n",
      "0:\tlearn: 0.4773577\ttotal: 66.3ms\tremaining: 464ms\n1:\tlearn: 0.4651416\ttotal: 154ms\tremaining: 462ms\n2:\tlearn: 0.4621557\ttotal: 211ms\tremaining: 351ms\n",
      "3:\tlearn: 0.4575755\ttotal: 276ms\tremaining: 276ms\n4:\tlearn: 0.4484470\ttotal: 346ms\tremaining: 208ms\n5:\tlearn: 0.4426349\ttotal: 409ms\tremaining: 136ms\n6:\tlearn: 0.4401360\ttotal: 467ms\tremaining: 66.8ms\n",
      "7:\tlearn: 0.4367162\ttotal: 531ms\tremaining: 0us\nlocal 0.5276422764227642 max 0.5408",
      "\nlocal [8, 0.67, 13] max [7, 0.66, 13]\n0:\tlearn: 0.4772978\ttotal: 17ms\tremaining: 119ms\n1:\tlearn: 0.4723143\ttotal: 22.1ms\tremaining: 66.2ms\n2:\tlearn: 0.4667397\ttotal: 36.7ms\tremaining: 61.2ms\n3:\tlearn: 0.4658977\ttotal: 38.8ms\tremaining: 38.8ms\n4:\tlearn: 0.4616158\ttotal: 53.4ms\tremaining: 32.1ms\n5:\tlearn: 0.4589915\ttotal: 69.6ms\tremaining: 23.2ms\n6:\tlearn: 0.4551984\ttotal: 84.4ms\tremaining: 12.1ms\n7:\tlearn: 0.4526413\ttotal: 99.1ms\tremaining: 0us\n",
      "local 0.5039966344131257 max 0.5408\nlocal [8, 0.68, 11] max [7, 0.66, 13]\n0:\tlearn: 0.4772142\ttotal: 33.3ms\tremaining: 233ms\n1:\tlearn: 0.4723653\ttotal: 37.8ms\tremaining: 113ms\n2:\tlearn: 0.4694390\ttotal: 72.8ms\tremaining: 121ms\n3:\tlearn: 0.4606274\ttotal: 112ms\tremaining: 112ms\n4:\tlearn: 0.4582854\ttotal: 119ms\tremaining: 71.3ms\n5:\tlearn: 0.4539262\ttotal: 159ms\tremaining: 53ms\n",
      "6:\tlearn: 0.4475726\ttotal: 192ms\tremaining: 27.4ms\n7:\tlearn: 0.4475285\ttotal: 194ms\tremaining: 0us\nlocal 0.5329581993569132 max 0.5408\nlocal [8, 0.68, 12] max [7, 0.66, 13]\n",
      "0:\tlearn: 0.4772142\ttotal: 59.8ms\tremaining: 418ms\n1:\tlearn: 0.4650014\ttotal: 123ms\tremaining: 368ms\n2:\tlearn: 0.4602380\ttotal: 184ms\tremaining: 306ms\n3:\tlearn: 0.4511804\ttotal: 257ms\tremaining: 257ms\n",
      "4:\tlearn: 0.4466455\ttotal: 328ms\tremaining: 197ms\n5:\tlearn: 0.4432603\ttotal: 387ms\tremaining: 129ms\n6:\tlearn: 0.4410298\ttotal: 446ms\tremaining: 63.7ms\n",
      "7:\tlearn: 0.4395872\ttotal: 511ms\tremaining: 0us\nlocal 0.5249386753883892 max 0.5408",
      "\nlocal [8, 0.68, 13] max [7, 0.66, 13]\n0:\tlearn: 0.4771596\ttotal: 16.9ms\tremaining: 119ms\n1:\tlearn: 0.4722360\ttotal: 22.4ms\tremaining: 67.2ms\n2:\tlearn: 0.4624710\ttotal: 38.5ms\tremaining: 64.1ms\n3:\tlearn: 0.4619166\ttotal: 40.8ms\tremaining: 40.8ms\n4:\tlearn: 0.4590122\ttotal: 55.7ms\tremaining: 33.4ms\n5:\tlearn: 0.4547986\ttotal: 71.2ms\tremaining: 23.7ms\n6:\tlearn: 0.4527775\ttotal: 85.9ms\tremaining: 12.3ms\n7:\tlearn: 0.4504715\ttotal: 101ms\tremaining: 0us\n",
      "local 0.5176862255513941 max 0.5408\nlocal [8, 0.69, 11] max [7, 0.66, 13]\n0:\tlearn: 0.4770743\ttotal: 30.9ms\tremaining: 216ms\n1:\tlearn: 0.4722798\ttotal: 34.2ms\tremaining: 102ms\n2:\tlearn: 0.4693595\ttotal: 77.4ms\tremaining: 129ms\n3:\tlearn: 0.4605061\ttotal: 111ms\tremaining: 111ms\n4:\tlearn: 0.4581541\ttotal: 118ms\tremaining: 70.6ms\n5:\tlearn: 0.4537826\ttotal: 156ms\tremaining: 51.9ms\n",
      "6:\tlearn: 0.4473967\ttotal: 190ms\tremaining: 27.1ms\n7:\tlearn: 0.4431403\ttotal: 225ms\tremaining: 0us\nlocal 0.5406907502977372 max 0.5408\nlocal [8, 0.69, 12] max [7, 0.66, 13]\n",
      "0:\tlearn: 0.4770743\ttotal: 64.3ms\tremaining: 450ms\n1:\tlearn: 0.4648668\ttotal: 124ms\tremaining: 373ms\n2:\tlearn: 0.4600796\ttotal: 205ms\tremaining: 341ms\n",
      "3:\tlearn: 0.4509670\ttotal: 273ms\tremaining: 273ms\n4:\tlearn: 0.4464220\ttotal: 337ms\tremaining: 202ms\n5:\tlearn: 0.4431800\ttotal: 396ms\tremaining: 132ms\n6:\tlearn: 0.4428670\ttotal: 455ms\tremaining: 65.1ms\n",
      "7:\tlearn: 0.4424436\ttotal: 461ms\tremaining: 0us\nlocal 0.5165016501650165 max 0.5408\nlocal [8, 0.69, 13] max [7, 0.66, 13]\n0:\tlearn: 0.4770252\ttotal: 18.3ms\tremaining: 128ms\n",
      "1:\tlearn: 0.4721619\ttotal: 25.6ms\tremaining: 76.7ms\n2:\tlearn: 0.4623269\ttotal: 43.3ms\tremaining: 72.2ms\n3:\tlearn: 0.4617782\ttotal: 45.9ms\tremaining: 45.9ms\n4:\tlearn: 0.4588817\ttotal: 62.5ms\tremaining: 37.5ms\n5:\tlearn: 0.4546494\ttotal: 80.6ms\tremaining: 26.9ms\n6:\tlearn: 0.4526269\ttotal: 96.9ms\tremaining: 13.8ms\n7:\tlearn: 0.4495100\ttotal: 112ms\tremaining: 0us\nlocal 0.5187011919441019 max 0.5408",
      "\nlocal [8, 0.7, 11] max [7, 0.66, 13]\n0:\tlearn: 0.4769382\ttotal: 30.5ms\tremaining: 214ms\n1:\tlearn: 0.4721984\ttotal: 33.8ms\tremaining: 101ms\n2:\tlearn: 0.4692838\ttotal: 65.8ms\tremaining: 110ms\n3:\tlearn: 0.4603897\ttotal: 118ms\tremaining: 118ms\n4:\tlearn: 0.4580277\ttotal: 123ms\tremaining: 73.9ms\n",
      "5:\tlearn: 0.4536440\ttotal: 170ms\tremaining: 56.8ms\n6:\tlearn: 0.4472264\ttotal: 205ms\tremaining: 29.3ms\n7:\tlearn: 0.4472136\ttotal: 207ms\tremaining: 0us\n",
      "local 0.5331724969843185 max 0.5408\nlocal [8, 0.7, 12] max [7, 0.66, 13]\n0:\tlearn: 0.4769382\ttotal: 69.5ms\tremaining: 486ms\n1:\tlearn: 0.4647378\ttotal: 136ms\tremaining: 408ms\n",
      "2:\tlearn: 0.4599260\ttotal: 205ms\tremaining: 342ms\n3:\tlearn: 0.4507590\ttotal: 265ms\tremaining: 265ms\n4:\tlearn: 0.4462804\ttotal: 325ms\tremaining: 195ms\n",
      "5:\tlearn: 0.4428842\ttotal: 388ms\tremaining: 129ms\n6:\tlearn: 0.4409374\ttotal: 466ms\tremaining: 66.5ms\n",
      "7:\tlearn: 0.4394824\ttotal: 537ms\tremaining: 0us\nlocal 0.5124584717607974 max 0.5408\nlocal [8, 0.7, 13] max [7, 0.66, 13]\n0:\tlearn: 0.4768944\ttotal: 15.4ms\tremaining: 108ms\n1:\tlearn: 0.4720918\ttotal: 20.4ms\tremaining: 61.2ms\n2:\tlearn: 0.4613319\ttotal: 35.2ms\tremaining: 58.7ms\n3:\tlearn: 0.4607295\ttotal: 37.5ms\tremaining: 37.5ms\n4:\tlearn: 0.4578169\ttotal: 52.7ms\tremaining: 31.6ms\n",
      "5:\tlearn: 0.4541840\ttotal: 69.7ms\tremaining: 23.2ms\n6:\tlearn: 0.4516118\ttotal: 87.9ms\tremaining: 12.6ms\n7:\tlearn: 0.4502220\ttotal: 92.3ms\tremaining: 0us\nlocal 0.49494097807757165 max 0.5408\nlocal [8, 0.71, 11] max [7, 0.66, 13]\n",
      "0:\tlearn: 0.4768056\ttotal: 34.9ms\tremaining: 244ms\n1:\tlearn: 0.4721211\ttotal: 38.6ms\tremaining: 116ms\n2:\tlearn: 0.4692117\ttotal: 68.7ms\tremaining: 115ms\n3:\tlearn: 0.4588887\ttotal: 98.5ms\tremaining: 98.5ms\n4:\tlearn: 0.4572747\ttotal: 104ms\tremaining: 62.2ms\n5:\tlearn: 0.4532104\ttotal: 134ms\tremaining: 44.7ms\n6:\tlearn: 0.4460969\ttotal: 163ms\tremaining: 23.3ms\n7:\tlearn: 0.4459516\ttotal: 165ms\tremaining: 0us\n",
      "local 0.514916223947691 max 0.5408\nlocal [8, 0.71, 12] max [7, 0.66, 13]\n0:\tlearn: 0.4768056\ttotal: 78.9ms\tremaining: 552ms\n",
      "1:\tlearn: 0.4648617\ttotal: 151ms\tremaining: 454ms\n2:\tlearn: 0.4597074\ttotal: 217ms\tremaining: 362ms\n3:\tlearn: 0.4541444\ttotal: 278ms\tremaining: 278ms\n4:\tlearn: 0.4502669\ttotal: 336ms\tremaining: 202ms\n",
      "5:\tlearn: 0.4458081\ttotal: 399ms\tremaining: 133ms\n6:\tlearn: 0.4448081\ttotal: 459ms\tremaining: 65.6ms\n",
      "7:\tlearn: 0.4416041\ttotal: 551ms\tremaining: 0us\nlocal 0.535483870967742 max 0.5408\nlocal [8, 0.71, 13] max [7, 0.66, 13]\n0:\tlearn: 0.4767673\ttotal: 16.3ms\tremaining: 114ms\n1:\tlearn: 0.4724522\ttotal: 21.4ms\tremaining: 64.3ms\n2:\tlearn: 0.4625615\ttotal: 36.4ms\tremaining: 60.6ms\n",
      "3:\tlearn: 0.4616420\ttotal: 38.7ms\tremaining: 38.7ms\n4:\tlearn: 0.4610121\ttotal: 40.6ms\tremaining: 24.3ms\n5:\tlearn: 0.4575663\ttotal: 57.4ms\tremaining: 19.1ms\n6:\tlearn: 0.4543298\ttotal: 73.1ms\tremaining: 10.4ms\n7:\tlearn: 0.4503017\ttotal: 90.3ms\tremaining: 0us\nlocal 0.5111847555923777 max 0.5408\nlocal [8, 0.72, 11] max [7, 0.66, 13]\n",
      "0:\tlearn: 0.4766767\ttotal: 33.2ms\tremaining: 233ms\n1:\tlearn: 0.4720479\ttotal: 36.6ms\tremaining: 110ms\n2:\tlearn: 0.4681614\ttotal: 66ms\tremaining: 110ms\n3:\tlearn: 0.4560384\ttotal: 95.8ms\tremaining: 95.8ms\n4:\tlearn: 0.4543755\ttotal: 98ms\tremaining: 58.8ms\n5:\tlearn: 0.4522684\ttotal: 128ms\tremaining: 42.7ms\n6:\tlearn: 0.4492429\ttotal: 159ms\tremaining: 22.7ms\n7:\tlearn: 0.4445949\ttotal: 190ms\tremaining: 0us\n",
      "local 0.5337078651685394 max 0.5408\nlocal [8, 0.72, 12] max [7, 0.66, 13]\n0:\tlearn: 0.4766767\ttotal: 68.3ms\tremaining: 478ms\n1:\tlearn: 0.4647364\ttotal: 133ms\tremaining: 399ms\n",
      "2:\tlearn: 0.4595637\ttotal: 212ms\tremaining: 354ms\n3:\tlearn: 0.4521416\ttotal: 274ms\tremaining: 274ms\n4:\tlearn: 0.4479839\ttotal: 334ms\tremaining: 200ms\n5:\tlearn: 0.4433223\ttotal: 393ms\tremaining: 131ms\n",
      "6:\tlearn: 0.4429640\ttotal: 460ms\tremaining: 65.7ms\n7:\tlearn: 0.4382057\ttotal: 539ms\tremaining: 0us\n",
      "local 0.5215973920130399 max 0.5408\nlocal [8, 0.72, 13] max [7, 0.66, 13]\n0:\tlearn: 0.4766438\ttotal: 15.5ms\tremaining: 109ms\n1:\tlearn: 0.4702991\ttotal: 19.2ms\tremaining: 57.7ms\n2:\tlearn: 0.4650130\ttotal: 34.3ms\tremaining: 57.1ms\n3:\tlearn: 0.4611033\ttotal: 48.9ms\tremaining: 48.9ms\n4:\tlearn: 0.4573121\ttotal: 63.9ms\tremaining: 38.3ms\n5:\tlearn: 0.4551791\ttotal: 78.6ms\tremaining: 26.2ms\n6:\tlearn: 0.4499327\ttotal: 93.8ms\tremaining: 13.4ms\n7:\tlearn: 0.4498134\ttotal: 95.4ms\tremaining: 0us\n",
      "local 0.5320952765442067 max 0.5408\nlocal [8, 0.73, 11] max [7, 0.66, 13]\n0:\tlearn: 0.4765515\ttotal: 38.9ms\tremaining: 272ms\n1:\tlearn: 0.4719785\ttotal: 43ms\tremaining: 129ms\n2:\tlearn: 0.4680987\ttotal: 87.6ms\tremaining: 146ms\n3:\tlearn: 0.4559161\ttotal: 129ms\tremaining: 129ms\n4:\tlearn: 0.4542515\ttotal: 131ms\tremaining: 78.6ms\n",
      "5:\tlearn: 0.4521299\ttotal: 163ms\tremaining: 54.2ms\n6:\tlearn: 0.4490963\ttotal: 197ms\tremaining: 28.1ms\n7:\tlearn: 0.4444312\ttotal: 227ms\tremaining: 0us\nlocal 0.5329052969502408 max 0.5408\n",
      "local [8, 0.73, 12] max [7, 0.66, 13]\n0:\tlearn: 0.4765515\ttotal: 63ms\tremaining: 441ms\n1:\tlearn: 0.4646163\ttotal: 146ms\tremaining: 439ms\n",
      "2:\tlearn: 0.4594247\ttotal: 223ms\tremaining: 372ms\n3:\tlearn: 0.4519856\ttotal: 286ms\tremaining: 286ms\n4:\tlearn: 0.4478194\ttotal: 346ms\tremaining: 208ms\n5:\tlearn: 0.4431326\ttotal: 408ms\tremaining: 136ms\n",
      "6:\tlearn: 0.4427748\ttotal: 473ms\tremaining: 67.6ms\n7:\tlearn: 0.4377483\ttotal: 556ms\tremaining: 0us\n",
      "local 0.5193861066235864 max 0.5408\nlocal [8, 0.73, 13] max [7, 0.66, 13]\n0:\tlearn: 0.4765240\ttotal: 18ms\tremaining: 126ms\n1:\tlearn: 0.4702241\ttotal: 21.6ms\tremaining: 64.9ms\n2:\tlearn: 0.4649285\ttotal: 36.5ms\tremaining: 60.9ms\n3:\tlearn: 0.4610214\ttotal: 50.8ms\tremaining: 50.8ms\n4:\tlearn: 0.4572194\ttotal: 66.1ms\tremaining: 39.7ms\n5:\tlearn: 0.4550854\ttotal: 80.5ms\tremaining: 26.8ms\n6:\tlearn: 0.4505968\ttotal: 95ms\tremaining: 13.6ms\n7:\tlearn: 0.4485673\ttotal: 103ms\tremaining: 0us\n",
      "local 0.5360323886639676 max 0.5408\nlocal [8, 0.74, 11] max [7, 0.66, 13]\n0:\tlearn: 0.4764299\ttotal: 33.4ms\tremaining: 234ms\n1:\tlearn: 0.4719131\ttotal: 36.8ms\tremaining: 110ms\n2:\tlearn: 0.4680391\ttotal: 77.7ms\tremaining: 130ms\n3:\tlearn: 0.4557985\ttotal: 115ms\tremaining: 115ms\n4:\tlearn: 0.4541321\ttotal: 119ms\tremaining: 71.1ms\n5:\tlearn: 0.4519963\ttotal: 157ms\tremaining: 52.3ms\n",
      "6:\tlearn: 0.4489544\ttotal: 191ms\tremaining: 27.3ms\n7:\tlearn: 0.4449985\ttotal: 224ms\tremaining: 0us\nlocal 0.5245237130117553 max 0.5408\nlocal [8, 0.74, 12] max [7, 0.66, 13]\n",
      "0:\tlearn: 0.4764299\ttotal: 58.7ms\tremaining: 411ms\n1:\tlearn: 0.4645013\ttotal: 125ms\tremaining: 374ms\n2:\tlearn: 0.4607645\ttotal: 156ms\tremaining: 260ms\n3:\tlearn: 0.4568777\ttotal: 231ms\tremaining: 231ms\n",
      "4:\tlearn: 0.4510348\ttotal: 301ms\tremaining: 180ms\n5:\tlearn: 0.4466533\ttotal: 362ms\tremaining: 121ms\n6:\tlearn: 0.4427917\ttotal: 420ms\tremaining: 60ms\n7:\tlearn: 0.4403710\ttotal: 478ms\tremaining: 0us\n",
      "local 0.5202453987730061 max 0.5408\nlocal [8, 0.74, 13] max [7, 0.66, 13]\n0:\tlearn: 0.4764079\ttotal: 19.3ms\tremaining: 135ms\n1:\tlearn: 0.4701539\ttotal: 25ms\tremaining: 75.1ms\n2:\tlearn: 0.4648479\ttotal: 44.7ms\tremaining: 74.5ms\n3:\tlearn: 0.4609430\ttotal: 62.5ms\tremaining: 62.5ms\n4:\tlearn: 0.4565750\ttotal: 78.7ms\tremaining: 47.2ms\n5:\tlearn: 0.4538217\ttotal: 94.5ms\tremaining: 31.5ms\n6:\tlearn: 0.4495613\ttotal: 111ms\tremaining: 15.9ms\n7:\tlearn: 0.4487127\ttotal: 121ms\tremaining: 0us\n",
      "local 0.5269168026101142 max 0.5408\nlocal [8, 0.75, 11] max [7, 0.66, 13]\n0:\tlearn: 0.4763119\ttotal: 29.1ms\tremaining: 204ms\n1:\tlearn: 0.4718514\ttotal: 32.4ms\tremaining: 97.2ms\n2:\tlearn: 0.4633347\ttotal: 61.8ms\tremaining: 103ms\n3:\tlearn: 0.4629131\ttotal: 63.6ms\tremaining: 63.6ms\n4:\tlearn: 0.4566377\ttotal: 92.4ms\tremaining: 55.4ms\n5:\tlearn: 0.4541713\ttotal: 124ms\tremaining: 41.3ms\n6:\tlearn: 0.4538916\ttotal: 126ms\tremaining: 17.9ms\n7:\tlearn: 0.4525541\ttotal: 140ms\tremaining: 0us\n",
      "local 0.5194805194805194 max 0.5408\nlocal [8, 0.75, 12] max [7, 0.66, 13]\n0:\tlearn: 0.4763119\ttotal: 81.9ms\tremaining: 573ms\n1:\tlearn: 0.4643913\ttotal: 146ms\tremaining: 438ms\n",
      "2:\tlearn: 0.4606441\ttotal: 177ms\tremaining: 294ms\n3:\tlearn: 0.4567513\ttotal: 241ms\tremaining: 241ms\n4:\tlearn: 0.4508790\ttotal: 299ms\tremaining: 179ms\n",
      "5:\tlearn: 0.4479544\ttotal: 358ms\tremaining: 119ms\n6:\tlearn: 0.4410288\ttotal: 422ms\tremaining: 60.2ms\n7:\tlearn: 0.4368460\ttotal: 493ms\tremaining: 0us\n",
      "local 0.5388017691998392 max 0.5408\nlocal [8, 0.75, 13] max [7, 0.66, 13]\n0:\tlearn: 0.4777340\ttotal: 21.2ms\tremaining: 170ms\n1:\tlearn: 0.4727204\ttotal: 24.9ms\tremaining: 87ms\n2:\tlearn: 0.4687604\ttotal: 39.5ms\tremaining: 79ms\n3:\tlearn: 0.4627353\ttotal: 54ms\tremaining: 67.5ms\n4:\tlearn: 0.4614475\ttotal: 57.4ms\tremaining: 46ms\n5:\tlearn: 0.4587690\ttotal: 72.2ms\tremaining: 36.1ms\n6:\tlearn: 0.4547921\ttotal: 86.8ms\tremaining: 24.8ms\n7:\tlearn: 0.4515734\ttotal: 102ms\tremaining: 12.7ms\n8:\tlearn: 0.4488231\ttotal: 116ms\tremaining: 0us\n",
      "local 0.5140728476821191 max 0.5408\nlocal [9, 0.65, 11] max [7, 0.66, 13]\n0:\tlearn: 0.4776555\ttotal: 36.5ms\tremaining: 292ms\n1:\tlearn: 0.4726483\ttotal: 40.4ms\tremaining: 141ms\n2:\tlearn: 0.4681062\ttotal: 105ms\tremaining: 211ms\n3:\tlearn: 0.4674185\ttotal: 108ms\tremaining: 135ms\n4:\tlearn: 0.4584173\ttotal: 142ms\tremaining: 114ms\n",
      "5:\tlearn: 0.4528915\ttotal: 177ms\tremaining: 88.3ms\n6:\tlearn: 0.4500015\ttotal: 209ms\tremaining: 59.6ms\n7:\tlearn: 0.4479083\ttotal: 238ms\tremaining: 29.8ms\n8:\tlearn: 0.4449713\ttotal: 267ms\tremaining: 0us\n",
      "local 0.5010455876202426 max 0.5408\nlocal [9, 0.65, 12] max [7, 0.66, 13]\n0:\tlearn: 0.4776555\ttotal: 74.2ms\tremaining: 594ms\n1:\tlearn: 0.4738265\ttotal: 77.5ms\tremaining: 271ms\n2:\tlearn: 0.4709404\ttotal: 112ms\tremaining: 224ms\n3:\tlearn: 0.4686342\ttotal: 119ms\tremaining: 148ms\n4:\tlearn: 0.4640420\ttotal: 137ms\tremaining: 110ms\n",
      "5:\tlearn: 0.4574834\ttotal: 206ms\tremaining: 103ms\n6:\tlearn: 0.4539445\ttotal: 265ms\tremaining: 75.7ms\n7:\tlearn: 0.4522791\ttotal: 324ms\tremaining: 40.5ms\n",
      "8:\tlearn: 0.4476240\ttotal: 387ms\tremaining: 0us\nlocal 0.5132890365448505 max 0.5408\nlocal [9, 0.65, 13] max [7, 0.66, 13]\n",
      "0:\tlearn: 0.4775849\ttotal: 21ms\tremaining: 168ms\n1:\tlearn: 0.4724838\ttotal: 27.4ms\tremaining: 95.9ms\n2:\tlearn: 0.4643268\ttotal: 45.7ms\tremaining: 91.4ms\n3:\tlearn: 0.4635479\ttotal: 47.9ms\tremaining: 59.9ms\n4:\tlearn: 0.4603032\ttotal: 64.6ms\tremaining: 51.6ms\n5:\tlearn: 0.4561928\ttotal: 81ms\tremaining: 40.5ms\n6:\tlearn: 0.4506288\ttotal: 96.9ms\tremaining: 27.7ms\n7:\tlearn: 0.4488723\ttotal: 112ms\tremaining: 14ms\n8:\tlearn: 0.4475375\ttotal: 120ms\tremaining: 0us\nlocal 0.5079764903442485 max 0.5408",
      "\nlocal [9, 0.66, 11] max [7, 0.66, 13]\n0:\tlearn: 0.4775048\ttotal: 29.6ms\tremaining: 237ms\n1:\tlearn: 0.4725495\ttotal: 33.1ms\tremaining: 116ms\n2:\tlearn: 0.4679926\ttotal: 67.4ms\tremaining: 135ms\n3:\tlearn: 0.4673105\ttotal: 72.1ms\tremaining: 90.1ms\n4:\tlearn: 0.4582367\ttotal: 106ms\tremaining: 84.7ms\n",
      "5:\tlearn: 0.4526820\ttotal: 147ms\tremaining: 73.7ms\n6:\tlearn: 0.4497871\ttotal: 181ms\tremaining: 51.7ms\n7:\tlearn: 0.4485474\ttotal: 213ms\tremaining: 26.6ms\n8:\tlearn: 0.4455504\ttotal: 242ms\tremaining: 0us\nlocal 0.49597968683876426 max 0.5408\nlocal [9, 0.66, 12] max [7, 0.66, 13]\n",
      "0:\tlearn: 0.4775048\ttotal: 67.7ms\tremaining: 542ms\n1:\tlearn: 0.4652876\ttotal: 140ms\tremaining: 489ms\n2:\tlearn: 0.4623467\ttotal: 191ms\tremaining: 383ms\n3:\tlearn: 0.4571291\ttotal: 258ms\tremaining: 322ms\n",
      "4:\tlearn: 0.4482198\ttotal: 322ms\tremaining: 257ms\n5:\tlearn: 0.4448113\ttotal: 380ms\tremaining: 190ms\n6:\tlearn: 0.4397341\ttotal: 439ms\tremaining: 125ms\n",
      "7:\tlearn: 0.4347927\ttotal: 514ms\tremaining: 64.2ms\n8:\tlearn: 0.4345099\ttotal: 519ms\tremaining: 0us\n",
      "local 0.5372168284789643 max 0.5408\nlocal [9, 0.66, 13] max [7, 0.66, 13]\n0:\tlearn: 0.4774395\ttotal: 17ms\tremaining: 136ms\n1:\tlearn: 0.4723969\ttotal: 21.9ms\tremaining: 76.7ms\n2:\tlearn: 0.4667359\ttotal: 36.5ms\tremaining: 73ms\n3:\tlearn: 0.4602246\ttotal: 50.8ms\tremaining: 63.5ms\n4:\tlearn: 0.4593231\ttotal: 54ms\tremaining: 43.2ms\n5:\tlearn: 0.4537017\ttotal: 69.4ms\tremaining: 34.7ms\n6:\tlearn: 0.4512473\ttotal: 83.8ms\tremaining: 23.9ms\n7:\tlearn: 0.4481539\ttotal: 98.3ms\tremaining: 12.3ms\n8:\tlearn: 0.4475474\ttotal: 101ms\tremaining: 0us\n",
      "local 0.4975288303130148 max 0.5408\nlocal [9, 0.67, 11] max [7, 0.66, 13]\n0:\tlearn: 0.4773577\ttotal: 36.6ms\tremaining: 293ms\n1:\tlearn: 0.4724552\ttotal: 40.8ms\tremaining: 143ms\n2:\tlearn: 0.4678832\ttotal: 74.6ms\tremaining: 149ms\n3:\tlearn: 0.4658239\ttotal: 78.6ms\tremaining: 98.2ms\n4:\tlearn: 0.4561126\ttotal: 118ms\tremaining: 94.2ms\n5:\tlearn: 0.4538330\ttotal: 159ms\tremaining: 79.5ms\n",
      "6:\tlearn: 0.4536837\ttotal: 161ms\tremaining: 45.9ms\n7:\tlearn: 0.4487331\ttotal: 193ms\tremaining: 24.1ms\n8:\tlearn: 0.4475768\ttotal: 225ms\tremaining: 0us\nlocal 0.5128205128205128 max 0.5408\nlocal [9, 0.67, 12] max [7, 0.66, 13]\n",
      "0:\tlearn: 0.4773577\ttotal: 61.4ms\tremaining: 491ms\n1:\tlearn: 0.4651416\ttotal: 123ms\tremaining: 429ms\n2:\tlearn: 0.4621557\ttotal: 160ms\tremaining: 321ms\n3:\tlearn: 0.4575755\ttotal: 255ms\tremaining: 319ms\n",
      "4:\tlearn: 0.4484470\ttotal: 319ms\tremaining: 255ms\n5:\tlearn: 0.4426349\ttotal: 379ms\tremaining: 190ms\n6:\tlearn: 0.4401360\ttotal: 438ms\tremaining: 125ms\n",
      "7:\tlearn: 0.4367162\ttotal: 504ms\tremaining: 63ms\n8:\tlearn: 0.4360759\ttotal: 509ms\tremaining: 0us\n",
      "local 0.5273023634881826 max 0.5408\nlocal [9, 0.67, 13] max [7, 0.66, 13]\n0:\tlearn: 0.4772978\ttotal: 16.5ms\tremaining: 132ms\n1:\tlearn: 0.4723143\ttotal: 23.1ms\tremaining: 80.7ms\n2:\tlearn: 0.4667397\ttotal: 39.6ms\tremaining: 79.2ms\n3:\tlearn: 0.4658977\ttotal: 41.8ms\tremaining: 52.3ms\n4:\tlearn: 0.4616158\ttotal: 56.6ms\tremaining: 45.3ms\n5:\tlearn: 0.4589915\ttotal: 71.7ms\tremaining: 35.8ms\n6:\tlearn: 0.4551984\ttotal: 86.3ms\tremaining: 24.7ms\n7:\tlearn: 0.4526413\ttotal: 101ms\tremaining: 12.6ms\n8:\tlearn: 0.4506609\ttotal: 116ms\tremaining: 0us\n",
      "local 0.5125418060200669 max 0.5408\nlocal [9, 0.68, 11] max [7, 0.66, 13]\n0:\tlearn: 0.4772142\ttotal: 32.1ms\tremaining: 257ms\n1:\tlearn: 0.4723653\ttotal: 37ms\tremaining: 130ms\n2:\tlearn: 0.4694390\ttotal: 79.3ms\tremaining: 159ms\n3:\tlearn: 0.4606274\ttotal: 115ms\tremaining: 143ms\n4:\tlearn: 0.4582854\ttotal: 121ms\tremaining: 97ms\n",
      "5:\tlearn: 0.4539262\ttotal: 156ms\tremaining: 77.9ms\n6:\tlearn: 0.4475726\ttotal: 189ms\tremaining: 53.9ms\n7:\tlearn: 0.4475285\ttotal: 190ms\tremaining: 23.8ms\n8:\tlearn: 0.4415934\ttotal: 222ms\tremaining: 0us\nlocal 0.5300324675324676 max 0.5408\nlocal [9, 0.68, 12] max [7, 0.66, 13]\n",
      "0:\tlearn: 0.4772142\ttotal: 66.1ms\tremaining: 529ms\n1:\tlearn: 0.4650014\ttotal: 128ms\tremaining: 448ms\n2:\tlearn: 0.4602380\ttotal: 204ms\tremaining: 408ms\n",
      "3:\tlearn: 0.4511804\ttotal: 277ms\tremaining: 347ms\n4:\tlearn: 0.4466455\ttotal: 341ms\tremaining: 273ms\n5:\tlearn: 0.4432603\ttotal: 401ms\tremaining: 201ms\n6:\tlearn: 0.4410298\ttotal: 459ms\tremaining: 131ms\n",
      "7:\tlearn: 0.4395872\ttotal: 524ms\tremaining: 65.5ms\n8:\tlearn: 0.4344081\ttotal: 583ms\tremaining: 0us\n",
      "local 0.5176663927691043 max 0.5408\nlocal [9, 0.68, 13] max [7, 0.66, 13]\n0:\tlearn: 0.4771596\ttotal: 15.6ms\tremaining: 124ms\n1:\tlearn: 0.4722360\ttotal: 20.4ms\tremaining: 71.4ms\n2:\tlearn: 0.4624710\ttotal: 34.9ms\tremaining: 69.7ms\n3:\tlearn: 0.4619166\ttotal: 37.2ms\tremaining: 46.5ms\n4:\tlearn: 0.4590122\ttotal: 51.7ms\tremaining: 41.3ms\n5:\tlearn: 0.4547986\ttotal: 66.6ms\tremaining: 33.3ms\n6:\tlearn: 0.4527775\ttotal: 80.9ms\tremaining: 23.1ms\n7:\tlearn: 0.4504715\ttotal: 95.6ms\tremaining: 11.9ms\n8:\tlearn: 0.4493076\ttotal: 104ms\tremaining: 0us\n",
      "local 0.5213815789473684 max 0.5408\nlocal [9, 0.69, 11] max [7, 0.66, 13]\n0:\tlearn: 0.4770743\ttotal: 37.3ms\tremaining: 298ms\n1:\tlearn: 0.4722798\ttotal: 41.3ms\tremaining: 145ms\n2:\tlearn: 0.4693595\ttotal: 76.5ms\tremaining: 153ms\n3:\tlearn: 0.4605061\ttotal: 127ms\tremaining: 158ms\n4:\tlearn: 0.4581541\ttotal: 133ms\tremaining: 106ms\n",
      "5:\tlearn: 0.4537826\ttotal: 166ms\tremaining: 83.2ms\n6:\tlearn: 0.4473967\ttotal: 200ms\tremaining: 57ms\n7:\tlearn: 0.4431403\ttotal: 234ms\tremaining: 29.2ms\n8:\tlearn: 0.4420063\ttotal: 248ms\tremaining: 0us\nlocal 0.5357856857257097 max 0.5408\nlocal [9, 0.69, 12] max [7, 0.66, 13]\n",
      "0:\tlearn: 0.4770743\ttotal: 71.6ms\tremaining: 573ms\n1:\tlearn: 0.4648668\ttotal: 140ms\tremaining: 490ms\n2:\tlearn: 0.4600796\ttotal: 210ms\tremaining: 420ms\n",
      "3:\tlearn: 0.4509670\ttotal: 280ms\tremaining: 351ms\n4:\tlearn: 0.4464220\ttotal: 343ms\tremaining: 274ms\n5:\tlearn: 0.4431800\ttotal: 402ms\tremaining: 201ms\n6:\tlearn: 0.4428670\ttotal: 460ms\tremaining: 131ms\n",
      "7:\tlearn: 0.4424436\ttotal: 465ms\tremaining: 58.2ms\n8:\tlearn: 0.4399740\ttotal: 530ms\tremaining: 0us\nlocal 0.5191910854312836 max 0.5408\nlocal [9, 0.69, 13] max [7, 0.66, 13]\n",
      "0:\tlearn: 0.4770252\ttotal: 19.8ms\tremaining: 158ms\n1:\tlearn: 0.4721619\ttotal: 25.4ms\tremaining: 89ms\n2:\tlearn: 0.4623269\ttotal: 40.4ms\tremaining: 80.9ms\n3:\tlearn: 0.4617782\ttotal: 42.5ms\tremaining: 53.1ms\n4:\tlearn: 0.4588817\ttotal: 57.8ms\tremaining: 46.2ms\n5:\tlearn: 0.4546494\ttotal: 72.2ms\tremaining: 36.1ms\n6:\tlearn: 0.4526269\ttotal: 86.6ms\tremaining: 24.7ms\n7:\tlearn: 0.4495100\ttotal: 102ms\tremaining: 12.7ms\n8:\tlearn: 0.4472388\ttotal: 117ms\tremaining: 0us\n",
      "local 0.5166051660516605 max 0.5408\nlocal [9, 0.7, 11] max [7, 0.66, 13]\n0:\tlearn: 0.4769382\ttotal: 40.8ms\tremaining: 326ms\n1:\tlearn: 0.4721984\ttotal: 46.8ms\tremaining: 164ms\n2:\tlearn: 0.4692838\ttotal: 83.2ms\tremaining: 166ms\n3:\tlearn: 0.4603897\ttotal: 119ms\tremaining: 149ms\n4:\tlearn: 0.4580277\ttotal: 125ms\tremaining: 100ms\n",
      "5:\tlearn: 0.4536440\ttotal: 157ms\tremaining: 78.6ms\n6:\tlearn: 0.4472264\ttotal: 190ms\tremaining: 54.1ms\n7:\tlearn: 0.4472136\ttotal: 191ms\tremaining: 23.9ms\n8:\tlearn: 0.4418285\ttotal: 224ms\tremaining: 0us\nlocal 0.5404978269458712 max 0.5408\nlocal [9, 0.7, 12] max [7, 0.66, 13]\n",
      "0:\tlearn: 0.4769382\ttotal: 68.7ms\tremaining: 549ms\n1:\tlearn: 0.4647378\ttotal: 138ms\tremaining: 482ms\n2:\tlearn: 0.4599260\ttotal: 208ms\tremaining: 416ms\n",
      "3:\tlearn: 0.4507590\ttotal: 284ms\tremaining: 355ms\n4:\tlearn: 0.4462804\ttotal: 349ms\tremaining: 279ms\n5:\tlearn: 0.4428842\ttotal: 408ms\tremaining: 204ms\n6:\tlearn: 0.4409374\ttotal: 467ms\tremaining: 134ms\n",
      "7:\tlearn: 0.4394824\ttotal: 530ms\tremaining: 66.2ms\n8:\tlearn: 0.4327869\ttotal: 596ms\tremaining: 0us\n",
      "local 0.527766518038103 max 0.5408\nlocal [9, 0.7, 13] max [7, 0.66, 13]\n0:\tlearn: 0.4768944\ttotal: 15ms\tremaining: 120ms\n1:\tlearn: 0.4720918\ttotal: 20.1ms\tremaining: 70.4ms\n2:\tlearn: 0.4613319\ttotal: 34.8ms\tremaining: 69.6ms\n3:\tlearn: 0.4607295\ttotal: 36.9ms\tremaining: 46.1ms\n4:\tlearn: 0.4578169\ttotal: 51.3ms\tremaining: 41.1ms\n5:\tlearn: 0.4541840\ttotal: 66.1ms\tremaining: 33ms\n6:\tlearn: 0.4516118\ttotal: 80.6ms\tremaining: 23ms\n7:\tlearn: 0.4502220\ttotal: 83.9ms\tremaining: 10.5ms\n8:\tlearn: 0.4494579\ttotal: 98.5ms\tremaining: 0us\n",
      "local 0.5176954732510288 max 0.5408\nlocal [9, 0.71, 11] max [7, 0.66, 13]\n0:\tlearn: 0.4768056\ttotal: 37.4ms\tremaining: 300ms\n1:\tlearn: 0.4721211\ttotal: 41.4ms\tremaining: 145ms\n2:\tlearn: 0.4692117\ttotal: 79.5ms\tremaining: 159ms\n3:\tlearn: 0.4588887\ttotal: 117ms\tremaining: 147ms\n4:\tlearn: 0.4572747\ttotal: 123ms\tremaining: 98.5ms\n5:\tlearn: 0.4532104\ttotal: 155ms\tremaining: 77.7ms\n",
      "6:\tlearn: 0.4460969\ttotal: 198ms\tremaining: 56.5ms\n7:\tlearn: 0.4459516\ttotal: 200ms\tremaining: 25ms\n8:\tlearn: 0.4454006\ttotal: 209ms\tremaining: 0us\nlocal 0.5204370700121409 max 0.5408\nlocal [9, 0.71, 12] max [7, 0.66, 13]\n",
      "0:\tlearn: 0.4768056\ttotal: 61.5ms\tremaining: 492ms\n1:\tlearn: 0.4648617\ttotal: 126ms\tremaining: 440ms\n2:\tlearn: 0.4597074\ttotal: 196ms\tremaining: 392ms\n",
      "3:\tlearn: 0.4541444\ttotal: 276ms\tremaining: 345ms\n4:\tlearn: 0.4502669\ttotal: 338ms\tremaining: 270ms\n5:\tlearn: 0.4458081\ttotal: 396ms\tremaining: 198ms\n6:\tlearn: 0.4448081\ttotal: 455ms\tremaining: 130ms\n",
      "7:\tlearn: 0.4416041\ttotal: 517ms\tremaining: 64.6ms\n8:\tlearn: 0.4412947\ttotal: 520ms\tremaining: 0us\nlocal 0.5355850422195416 max 0.5408\nlocal [9, 0.71, 13] max [7, 0.66, 13]\n",
      "0:\tlearn: 0.4767673\ttotal: 17.8ms\tremaining: 142ms\n1:\tlearn: 0.4724522\ttotal: 23.3ms\tremaining: 81.5ms\n2:\tlearn: 0.4625615\ttotal: 40.1ms\tremaining: 80.2ms\n3:\tlearn: 0.4616420\ttotal: 42.2ms\tremaining: 52.7ms\n4:\tlearn: 0.4610121\ttotal: 43.9ms\tremaining: 35.1ms\n5:\tlearn: 0.4575663\ttotal: 59.2ms\tremaining: 29.6ms\n6:\tlearn: 0.4543298\ttotal: 74.8ms\tremaining: 21.4ms\n7:\tlearn: 0.4503017\ttotal: 89.3ms\tremaining: 11.2ms\n8:\tlearn: 0.4495654\ttotal: 94.5ms\tremaining: 0us\n",
      "local 0.5122254455035227 max 0.5408\nlocal [9, 0.72, 11] max [7, 0.66, 13]\n0:\tlearn: 0.4766767\ttotal: 32.6ms\tremaining: 261ms\n",
      "1:\tlearn: 0.4720479\ttotal: 36.3ms\tremaining: 127ms\n2:\tlearn: 0.4681614\ttotal: 74ms\tremaining: 148ms\n3:\tlearn: 0.4560384\ttotal: 106ms\tremaining: 133ms\n4:\tlearn: 0.4543755\ttotal: 109ms\tremaining: 86.9ms\n5:\tlearn: 0.4522684\ttotal: 140ms\tremaining: 70.1ms\n6:\tlearn: 0.4492429\ttotal: 169ms\tremaining: 48.3ms\n7:\tlearn: 0.4445949\ttotal: 198ms\tremaining: 24.7ms\n8:\tlearn: 0.4445174\ttotal: 200ms\tremaining: 0us\n",
      "local 0.5329052969502408 max 0.5408\nlocal [9, 0.72, 12] max [7, 0.66, 13]\n0:\tlearn: 0.4766767\ttotal: 73.4ms\tremaining: 587ms\n1:\tlearn: 0.4647364\ttotal: 157ms\tremaining: 549ms\n",
      "2:\tlearn: 0.4595637\ttotal: 223ms\tremaining: 446ms\n3:\tlearn: 0.4521416\ttotal: 283ms\tremaining: 353ms\n4:\tlearn: 0.4479839\ttotal: 341ms\tremaining: 273ms\n",
      "5:\tlearn: 0.4433223\ttotal: 403ms\tremaining: 201ms\n6:\tlearn: 0.4429640\ttotal: 462ms\tremaining: 132ms\n7:\tlearn: 0.4382057\ttotal: 534ms\tremaining: 66.7ms\n",
      "8:\tlearn: 0.4361960\ttotal: 606ms\tremaining: 0us\nlocal 0.5123152709359606 max 0.5408\nlocal [9, 0.72, 13] max [7, 0.66, 13]\n",
      "0:\tlearn: 0.4766438\ttotal: 18.8ms\tremaining: 150ms\n1:\tlearn: 0.4702991\ttotal: 22.6ms\tremaining: 79ms\n2:\tlearn: 0.4650130\ttotal: 38.9ms\tremaining: 77.8ms\n3:\tlearn: 0.4611033\ttotal: 53.6ms\tremaining: 67.1ms\n4:\tlearn: 0.4573121\ttotal: 68.4ms\tremaining: 54.7ms\n5:\tlearn: 0.4551791\ttotal: 84.2ms\tremaining: 42.1ms\n6:\tlearn: 0.4499327\ttotal: 127ms\tremaining: 36.2ms\n7:\tlearn: 0.4498134\ttotal: 129ms\tremaining: 16.1ms\n8:\tlearn: 0.4492690\ttotal: 151ms\tremaining: 0us\n",
      "local 0.5326876513317191 max 0.5408\nlocal [9, 0.73, 11] max [7, 0.66, 13]\n0:\tlearn: 0.4765515\ttotal: 32.7ms\tremaining: 262ms\n1:\tlearn: 0.4719785\ttotal: 36.1ms\tremaining: 126ms\n2:\tlearn: 0.4680987\ttotal: 65.1ms\tremaining: 130ms\n3:\tlearn: 0.4559161\ttotal: 94.3ms\tremaining: 118ms\n4:\tlearn: 0.4542515\ttotal: 96.5ms\tremaining: 77.2ms\n5:\tlearn: 0.4521299\ttotal: 126ms\tremaining: 63ms\n",
      "6:\tlearn: 0.4490963\ttotal: 155ms\tremaining: 44.3ms\n7:\tlearn: 0.4444312\ttotal: 188ms\tremaining: 23.4ms\n8:\tlearn: 0.4443539\ttotal: 189ms\tremaining: 0us\nlocal 0.5318892900120337 max 0.5408\nlocal [9, 0.73, 12] max [7, 0.66, 13]\n",
      "0:\tlearn: 0.4765515\ttotal: 73.8ms\tremaining: 590ms\n1:\tlearn: 0.4646163\ttotal: 140ms\tremaining: 489ms\n2:\tlearn: 0.4594247\ttotal: 198ms\tremaining: 396ms\n3:\tlearn: 0.4519856\ttotal: 258ms\tremaining: 322ms\n",
      "4:\tlearn: 0.4478194\ttotal: 321ms\tremaining: 257ms\n5:\tlearn: 0.4431326\ttotal: 386ms\tremaining: 193ms\n",
      "6:\tlearn: 0.4427748\ttotal: 461ms\tremaining: 132ms\n7:\tlearn: 0.4377483\ttotal: 527ms\tremaining: 65.8ms\n8:\tlearn: 0.4370614\ttotal: 530ms\tremaining: 0us\nlocal 0.5219155844155844 max 0.5408\nlocal [9, 0.73, 13] max [7, 0.66, 13]\n",
      "0:\tlearn: 0.4765240\ttotal: 15.1ms\tremaining: 120ms\n1:\tlearn: 0.4702241\ttotal: 18.5ms\tremaining: 64.8ms\n2:\tlearn: 0.4649285\ttotal: 35.1ms\tremaining: 70.3ms\n3:\tlearn: 0.4610214\ttotal: 51.3ms\tremaining: 64.1ms\n4:\tlearn: 0.4572194\ttotal: 69.1ms\tremaining: 55.3ms\n5:\tlearn: 0.4550854\ttotal: 85.3ms\tremaining: 42.7ms\n6:\tlearn: 0.4505968\ttotal: 100ms\tremaining: 28.6ms\n7:\tlearn: 0.4485673\ttotal: 108ms\tremaining: 13.6ms\n8:\tlearn: 0.4460988\ttotal: 126ms\tremaining: 0us\n",
      "local 0.5244840145690004 max 0.5408\nlocal [9, 0.74, 11] max [7, 0.66, 13]\n0:\tlearn: 0.4764299\ttotal: 32.3ms\tremaining: 258ms\n1:\tlearn: 0.4719131\ttotal: 35.8ms\tremaining: 125ms\n2:\tlearn: 0.4680391\ttotal: 65.1ms\tremaining: 130ms\n3:\tlearn: 0.4557985\ttotal: 94.5ms\tremaining: 118ms\n4:\tlearn: 0.4541321\ttotal: 96.9ms\tremaining: 77.5ms\n5:\tlearn: 0.4519963\ttotal: 126ms\tremaining: 62.9ms\n6:\tlearn: 0.4489544\ttotal: 155ms\tremaining: 44.3ms\n",
      "7:\tlearn: 0.4449985\ttotal: 185ms\tremaining: 23.1ms\n8:\tlearn: 0.4408836\ttotal: 222ms\tremaining: 0us\nlocal 0.5304312777106006 max 0.5408\nlocal [9, 0.74, 12] max [7, 0.66, 13]\n",
      "0:\tlearn: 0.4764299\ttotal: 73.3ms\tremaining: 586ms\n1:\tlearn: 0.4645013\ttotal: 137ms\tremaining: 479ms\n2:\tlearn: 0.4607645\ttotal: 166ms\tremaining: 332ms\n3:\tlearn: 0.4568777\ttotal: 224ms\tremaining: 280ms\n",
      "4:\tlearn: 0.4510348\ttotal: 283ms\tremaining: 226ms\n5:\tlearn: 0.4466533\ttotal: 349ms\tremaining: 174ms\n6:\tlearn: 0.4427917\ttotal: 428ms\tremaining: 122ms\n",
      "7:\tlearn: 0.4403710\ttotal: 497ms\tremaining: 62.1ms\n8:\tlearn: 0.4352809\ttotal: 561ms\tremaining: 0us\nlocal 0.5112843660237998 max 0.5408\nlocal [9, 0.74, 13] max [7, 0.66, 13]\n0:\tlearn: 0.4764079\ttotal: 14.7ms\tremaining: 118ms\n",
      "1:\tlearn: 0.4701539\ttotal: 18.2ms\tremaining: 63.5ms\n2:\tlearn: 0.4648479\ttotal: 34.6ms\tremaining: 69.1ms\n3:\tlearn: 0.4609430\ttotal: 50.9ms\tremaining: 63.6ms\n4:\tlearn: 0.4565750\ttotal: 67.3ms\tremaining: 53.8ms\n5:\tlearn: 0.4538217\ttotal: 83.2ms\tremaining: 41.6ms\n6:\tlearn: 0.4495613\ttotal: 98.9ms\tremaining: 28.3ms\n7:\tlearn: 0.4487127\ttotal: 129ms\tremaining: 16.1ms\n8:\tlearn: 0.4472637\ttotal: 146ms\tremaining: 0us\n",
      "local 0.5233415233415233 max 0.5408\nlocal [9, 0.75, 11] max [7, 0.66, 13]\n0:\tlearn: 0.4763119\ttotal: 32.3ms\tremaining: 258ms\n1:\tlearn: 0.4718514\ttotal: 35.8ms\tremaining: 125ms\n2:\tlearn: 0.4633347\ttotal: 66.5ms\tremaining: 133ms\n3:\tlearn: 0.4629131\ttotal: 68.3ms\tremaining: 85.4ms\n4:\tlearn: 0.4566377\ttotal: 97.3ms\tremaining: 77.8ms\n5:\tlearn: 0.4541713\ttotal: 126ms\tremaining: 63.2ms\n6:\tlearn: 0.4538916\ttotal: 128ms\tremaining: 36.6ms\n7:\tlearn: 0.4525541\ttotal: 143ms\tremaining: 17.9ms\n",
      "8:\tlearn: 0.4511196\ttotal: 176ms\tremaining: 0us\nlocal 0.526230831315577 max 0.5408\nlocal [9, 0.75, 12] max [7, 0.66, 13]\n",
      "0:\tlearn: 0.4763119\ttotal: 73.2ms\tremaining: 586ms\n1:\tlearn: 0.4643913\ttotal: 138ms\tremaining: 482ms\n2:\tlearn: 0.4606441\ttotal: 166ms\tremaining: 333ms\n3:\tlearn: 0.4567513\ttotal: 225ms\tremaining: 281ms\n",
      "4:\tlearn: 0.4508790\ttotal: 283ms\tremaining: 227ms\n5:\tlearn: 0.4479544\ttotal: 349ms\tremaining: 174ms\n6:\tlearn: 0.4410288\ttotal: 430ms\tremaining: 123ms\n",
      "7:\tlearn: 0.4368460\ttotal: 497ms\tremaining: 62.1ms\n8:\tlearn: 0.4361371\ttotal: 503ms\tremaining: 0us\nlocal 0.5328467153284671 max 0.5408\nlocal [9, 0.75, 13] max [7, 0.66, 13]\ncontador = 70\n[7, 0.66, 13]\n0.5408\n"
     ],
     "output_type": "stream"
    }
   ],
   "source": [
    "resultados_de_prediccion = pd.read_csv('sample_submission.csv',index_col=['id'])\n",
    "cantidadDePredicciones = 0\n",
    "#catboost\n",
    "######verificacion de hiperparamentros\n",
    "hiperparametros_max = [0,0,0]\n",
    "res_max = 0\n",
    "contador = 0\n",
    "for iter in range(7,10,1):\n",
    "    for lR in range(65,76,1):\n",
    "        learningRate = lR / 100\n",
    "        for profundidad in range(11,14):\n",
    "            # Initialize CatBoostRegressor\n",
    "            model = CatBoostRegressor(iterations=iter,\n",
    "                                      learning_rate=learningRate,\n",
    "                                      depth=profundidad)\n",
    "            # Fit model\n",
    "            model.fit(train_set, train_label)\n",
    "            # Get predictions\n",
    "            predicion = model.predict(test_set)\n",
    "            #cantidadDePredicciones,resultados_de_prediccion = ensamble(resultados_de_prediccion,cantidadDePredicciones,predicion)\n",
    "            #print(\"prediccion = \",cantidadDePredicciones)\n",
    "            \n",
    "            ######verificacion de hiperparamentros\n",
    "            df = pd.DataFrame()\n",
    "            cantidadDePredicciones,resultados_de_prediccion = ensamble(resultados_de_prediccion,cantidadDePredicciones,predicion)\n",
    "            maximo_local = F1(resultados_de_prediccion)\n",
    "            if (maximo_local <= 0.53):\n",
    "                contador += 1\n",
    "            if(maximo_local > res_max):\n",
    "                hiperparametros_max = [iter,learningRate,profundidad]\n",
    "                res_max = maximo_local\n",
    "            print(\"local {} max {}\".format(maximo_local,res_max))\n",
    "            print(\"local {} max {}\".format([iter,learningRate,profundidad],hiperparametros_max))\n",
    "            resultados_de_prediccion = pd.read_csv('sample_submission.csv',index_col=['id'])\n",
    "            cantidadDePredicciones = 0\n",
    "print(\"contador = {}\".format(contador))\n",
    "print(hiperparametros_max)\n",
    "print(res_max)"
   ]
  },
  {
   "cell_type": "code",
   "execution_count": 35,
   "outputs": [
    {
     "name": "stdout",
     "text": [
      "0:\tlearn: 0.4796109\ttotal: 262ms\tremaining: 1.05s\n",
      "1:\tlearn: 0.4716950\ttotal: 467ms\tremaining: 701ms\n",
      "2:\tlearn: 0.4646606\ttotal: 676ms\tremaining: 451ms\n",
      "3:\tlearn: 0.4590462\ttotal: 969ms\tremaining: 242ms\n",
      "4:\tlearn: 0.4534719\ttotal: 1.19s\tremaining: 0us\n"
     ],
     "output_type": "stream"
    }
   ],
   "source": [
    "resultados_de_prediccion = pd.read_csv('sample_submission.csv',index_col=['id'])\n",
    "# Initialize CatBoostRegressor\n",
    "model = CatBoostRegressor(iterations=5,\n",
    "                          learning_rate=0.61,\n",
    "                          depth=10)\n",
    "# Fit model\n",
    "model.fit(train_set, train_label)\n",
    "# Get predictions\n",
    "predicion = model.predict(test_set)\n",
    "cantidadDePredicciones,resultados_de_prediccion = ensamble(resultados_de_prediccion,0,predicion)"
   ],
   "metadata": {
    "collapsed": false,
    "pycharm": {
     "name": "#%%\n",
     "is_executing": false
    }
   }
  },
  {
   "cell_type": "code",
   "execution_count": 36,
   "metadata": {
    "pycharm": {
     "is_executing": false,
     "name": "#%%\n"
    }
   },
   "outputs": [
    {
     "name": "stdout",
     "text": [
      "1\n"
     ],
     "output_type": "stream"
    },
    {
     "data": {
      "text/plain": "                    target\nid                        \n0                     0.00\n2                     0.00\n3                     1.00\n9                     0.00\n11                    0.00\n...                    ...\n10861                 0.00\n10865                 1.00\n10868                 0.00\n10874                 0.00\n10875                 0.00\n\n[3263 rows x 1 columns]",
      "text/html": "<div>\n<style scoped>\n    .dataframe tbody tr th:only-of-type {\n        vertical-align: middle;\n    }\n\n    .dataframe tbody tr th {\n        vertical-align: top;\n    }\n\n    .dataframe thead th {\n        text-align: right;\n    }\n</style>\n<table border=\"1\" class=\"dataframe\">\n  <thead>\n    <tr style=\"text-align: right;\">\n      <th></th>\n      <th>target</th>\n    </tr>\n    <tr>\n      <th>id</th>\n      <th></th>\n    </tr>\n  </thead>\n  <tbody>\n    <tr>\n      <th>0</th>\n      <td>0.00</td>\n    </tr>\n    <tr>\n      <th>2</th>\n      <td>0.00</td>\n    </tr>\n    <tr>\n      <th>3</th>\n      <td>1.00</td>\n    </tr>\n    <tr>\n      <th>9</th>\n      <td>0.00</td>\n    </tr>\n    <tr>\n      <th>11</th>\n      <td>0.00</td>\n    </tr>\n    <tr>\n      <th>...</th>\n      <td>...</td>\n    </tr>\n    <tr>\n      <th>10861</th>\n      <td>0.00</td>\n    </tr>\n    <tr>\n      <th>10865</th>\n      <td>1.00</td>\n    </tr>\n    <tr>\n      <th>10868</th>\n      <td>0.00</td>\n    </tr>\n    <tr>\n      <th>10874</th>\n      <td>0.00</td>\n    </tr>\n    <tr>\n      <th>10875</th>\n      <td>0.00</td>\n    </tr>\n  </tbody>\n</table>\n<p>3263 rows × 1 columns</p>\n</div>"
     },
     "metadata": {},
     "output_type": "execute_result",
     "execution_count": 36
    }
   ],
   "source": [
    "resultados_de_prediccion = calcular_resultado_de_prediccion(resultados_de_prediccion,cantidadDePredicciones)\n",
    "\n",
    "print(cantidadDePredicciones)\n",
    "resultados_de_prediccion"
   ]
  },
  {
   "cell_type": "code",
   "execution_count": 37,
   "metadata": {
    "pycharm": {
     "is_executing": false,
     "name": "#%%\n"
    }
   },
   "outputs": [
    {
     "name": "stdout",
     "text": [
      "0.4672806592341251\n"
     ],
     "output_type": "stream"
    }
   ],
   "source": [
    "print(F1(resultados_de_prediccion))\n"
   ]
  },
  {
   "cell_type": "code",
   "execution_count": 82,
   "metadata": {
    "pycharm": {
     "is_executing": false,
     "name": "#%%\n"
    },
    "scrolled": true
   },
   "outputs": [
    {
     "data": {
      "text/plain": "target\n0    4342\n1    3271\ndtype: int64"
     },
     "metadata": {},
     "output_type": "execute_result",
     "execution_count": 82
    }
   ],
   "source": [
    "#para arbol verificar si esta balanceado o no\n",
    "tweets_entrenamiento = tweets_original_entrenamiento\n",
    "tweets_entrenamiento.groupby([\"target\"]).size()"
   ]
  },
  {
   "cell_type": "markdown",
   "metadata": {},
   "source": [
    "# XGBoost"
   ]
  },
  {
   "cell_type": "code",
   "execution_count": 83,
   "outputs": [],
   "source": [
    "######verificacion de hiperparamentros\n",
    "hiperparametros_max = [0,0,0,0]\n",
    "res_max = 0\n",
    "contador = 0\n",
    "hiperparametros_max\n",
    "for profundidad in range(3,7,1):\n",
    "    for tree in range(40,81,10):\n",
    "        colsampleTree = tree / 100\n",
    "        for lR in range(10,81,20):\n",
    "            learningRate = lR / 100\n",
    "            for alpha in range(5,16,5):\n",
    "                xgb_reg = xgb.XGBRegressor(max_depth = profundidad, \n",
    "                                           colsample_bytree = colsampleTree, \n",
    "                                           learning_rate = learningRate, \n",
    "                                           alpha = alpha,\n",
    "                                           objetive = 'reg:squarederror')\n",
    "                \n",
    "                xgb_reg.fit(train_set, train_label)\n",
    "                result = pd.read_csv('sample_submission.csv')\n",
    "                predicts = xgb_reg.predict(test_set).round()\n",
    "                result['target'] = predicts\n",
    "                \n",
    "                maximo_local = F1(result)\n",
    "                if (maximo_local <= 0.528):\n",
    "                    contador += 1\n",
    "                if(maximo_local > res_max):\n",
    "                    hiperparametros_max = [iter,learningRate,profundidad]\n",
    "                    res_max = maximo_local\n",
    "                print(\"local {} max {}\".format(maximo_local,res_max))\n",
    "print(\"contador = {}\".format(contador))\n",
    "print(hiperparametros_max)\n",
    "print(res_max)"
   ],
   "metadata": {
    "collapsed": false,
    "pycharm": {
     "name": "#%%\n",
     "is_executing": false
    }
   }
  },
  {
   "cell_type": "code",
   "execution_count": 98,
   "metadata": {
    "pycharm": {
     "is_executing": false
    }
   },
   "outputs": [],
   "source": [
    "xgb_reg = xgb.XGBRegressor(max_depth = 5, \n",
    "                           colsample_bytree = 0.3, \n",
    "                           learning_rate = 0.1, \n",
    "                           alpha = 10,\n",
    "                           objetive = 'reg:squarederror')"
   ]
  },
  {
   "cell_type": "code",
   "execution_count": 100,
   "metadata": {
    "scrolled": false,
    "pycharm": {
     "is_executing": false
    }
   },
   "outputs": [
    {
     "name": "stdout",
     "text": [
      "[19:32:38] WARNING: C:\\Users\\Administrator\\workspace\\xgboost-win64_release_1.1.0\\src\\learner.cc:480: \nParameters: { objetive } might not be used.\n\n  This may not be accurate due to some parameters are only used in language bindings but\n  passed down to XGBoost core.  Or some parameters are not used but slip through this\n  verification. Please open an issue if you find above cases.\n\n\n"
     ],
     "output_type": "stream"
    },
    {
     "data": {
      "text/plain": "XGBRegressor(alpha=10, base_score=0.5, booster='gbtree', colsample_bylevel=1,\n             colsample_bynode=1, colsample_bytree=0.3, gamma=0, gpu_id=-1,\n             importance_type='gain', interaction_constraints='',\n             learning_rate=0.1, max_delta_step=0, max_depth=5,\n             min_child_weight=1, missing=nan, monotone_constraints='()',\n             n_estimators=100, n_jobs=0, num_parallel_tree=1,\n             objetive='reg:squarederror', random_state=0, reg_alpha=10,\n             reg_lambda=1, scale_pos_weight=1, subsample=1, tree_method='exact',\n             validate_parameters=1, verbosity=None)"
     },
     "metadata": {},
     "output_type": "execute_result",
     "execution_count": 100
    }
   ],
   "source": [
    "xgb_reg.fit(train_set, train_label)"
   ]
  },
  {
   "cell_type": "code",
   "execution_count": 101,
   "metadata": {
    "pycharm": {
     "is_executing": false
    }
   },
   "outputs": [],
   "source": [
    "result = pd.read_csv('sample_submission.csv',index_col=['id'])"
   ]
  },
  {
   "cell_type": "code",
   "execution_count": 102,
   "metadata": {
    "scrolled": false,
    "pycharm": {
     "is_executing": false
    }
   },
   "outputs": [
    {
     "name": "stdout",
     "text": [
      "0.5057276198557489\n"
     ],
     "output_type": "stream"
    }
   ],
   "source": [
    "predicts = xgb_reg.predict(test_set).round()\n",
    "result['target'] = predicts\n",
    "print(F1(result))"
   ]
  },
  {
   "cell_type": "markdown",
   "metadata": {},
   "source": [
    "Con K-FOLDS"
   ]
  },
  {
   "cell_type": "code",
   "execution_count": 103,
   "metadata": {
    "pycharm": {
     "is_executing": false
    }
   },
   "outputs": [
    {
     "name": "stdout",
     "text": [
      "49                   0.47\nName: test-rmse-mean, dtype: float64\n"
     ],
     "output_type": "stream"
    }
   ],
   "source": [
    "dmatrix = xgb.DMatrix(data=train_set,label=train_label)\n",
    "params = {'colsample_bytree': 0.3, 'learning_rate': 0.1, 'max_depth': 5, 'alpha': 10}\n",
    "\n",
    "cv_results = xgb.cv(dtrain=dmatrix, params=params, nfold=3,\n",
    "                    num_boost_round=50, early_stopping_rounds=10,\n",
    "                    metrics=\"rmse\", as_pandas=True, seed=123)\n",
    "#ultimo error\n",
    "print((cv_results[\"test-rmse-mean\"]).tail(1))"
   ]
  },
  {
   "cell_type": "code",
   "execution_count": 107,
   "metadata": {
    "scrolled": false,
    "pycharm": {
     "is_executing": false
    }
   },
   "outputs": [
    {
     "traceback": [
      "\u001b[1;31m---------------------------------------------------------------------------\u001b[0m",
      "\u001b[1;31mFileNotFoundError\u001b[0m                         Traceback (most recent call last)",
      "\u001b[1;32m~\\Miniconda3\\envs\\dato\\lib\\site-packages\\graphviz\\backend.py\u001b[0m in \u001b[0;36mrun\u001b[1;34m(cmd, input, capture_output, check, encoding, quiet, **kwargs)\u001b[0m\n\u001b[0;32m    163\u001b[0m     \u001b[1;32mtry\u001b[0m\u001b[1;33m:\u001b[0m\u001b[1;33m\u001b[0m\u001b[1;33m\u001b[0m\u001b[0m\n\u001b[1;32m--> 164\u001b[1;33m         \u001b[0mproc\u001b[0m \u001b[1;33m=\u001b[0m \u001b[0msubprocess\u001b[0m\u001b[1;33m.\u001b[0m\u001b[0mPopen\u001b[0m\u001b[1;33m(\u001b[0m\u001b[0mcmd\u001b[0m\u001b[1;33m,\u001b[0m \u001b[0mstartupinfo\u001b[0m\u001b[1;33m=\u001b[0m\u001b[0mget_startupinfo\u001b[0m\u001b[1;33m(\u001b[0m\u001b[1;33m)\u001b[0m\u001b[1;33m,\u001b[0m \u001b[1;33m**\u001b[0m\u001b[0mkwargs\u001b[0m\u001b[1;33m)\u001b[0m\u001b[1;33m\u001b[0m\u001b[1;33m\u001b[0m\u001b[0m\n\u001b[0m\u001b[0;32m    165\u001b[0m     \u001b[1;32mexcept\u001b[0m \u001b[0mOSError\u001b[0m \u001b[1;32mas\u001b[0m \u001b[0me\u001b[0m\u001b[1;33m:\u001b[0m\u001b[1;33m\u001b[0m\u001b[1;33m\u001b[0m\u001b[0m\n",
      "\u001b[1;32m~\\Miniconda3\\envs\\dato\\lib\\subprocess.py\u001b[0m in \u001b[0;36m__init__\u001b[1;34m(self, args, bufsize, executable, stdin, stdout, stderr, preexec_fn, close_fds, shell, cwd, env, universal_newlines, startupinfo, creationflags, restore_signals, start_new_session, pass_fds, encoding, errors, text)\u001b[0m\n\u001b[0;32m    799\u001b[0m                                 \u001b[0merrread\u001b[0m\u001b[1;33m,\u001b[0m \u001b[0merrwrite\u001b[0m\u001b[1;33m,\u001b[0m\u001b[1;33m\u001b[0m\u001b[1;33m\u001b[0m\u001b[0m\n\u001b[1;32m--> 800\u001b[1;33m                                 restore_signals, start_new_session)\n\u001b[0m\u001b[0;32m    801\u001b[0m         \u001b[1;32mexcept\u001b[0m\u001b[1;33m:\u001b[0m\u001b[1;33m\u001b[0m\u001b[1;33m\u001b[0m\u001b[0m\n",
      "\u001b[1;32m~\\Miniconda3\\envs\\dato\\lib\\subprocess.py\u001b[0m in \u001b[0;36m_execute_child\u001b[1;34m(self, args, executable, preexec_fn, close_fds, pass_fds, cwd, env, startupinfo, creationflags, shell, p2cread, p2cwrite, c2pread, c2pwrite, errread, errwrite, unused_restore_signals, unused_start_new_session)\u001b[0m\n\u001b[0;32m   1206\u001b[0m                                          \u001b[0mos\u001b[0m\u001b[1;33m.\u001b[0m\u001b[0mfspath\u001b[0m\u001b[1;33m(\u001b[0m\u001b[0mcwd\u001b[0m\u001b[1;33m)\u001b[0m \u001b[1;32mif\u001b[0m \u001b[0mcwd\u001b[0m \u001b[1;32mis\u001b[0m \u001b[1;32mnot\u001b[0m \u001b[1;32mNone\u001b[0m \u001b[1;32melse\u001b[0m \u001b[1;32mNone\u001b[0m\u001b[1;33m,\u001b[0m\u001b[1;33m\u001b[0m\u001b[1;33m\u001b[0m\u001b[0m\n\u001b[1;32m-> 1207\u001b[1;33m                                          startupinfo)\n\u001b[0m\u001b[0;32m   1208\u001b[0m             \u001b[1;32mfinally\u001b[0m\u001b[1;33m:\u001b[0m\u001b[1;33m\u001b[0m\u001b[1;33m\u001b[0m\u001b[0m\n",
      "\u001b[1;31mFileNotFoundError\u001b[0m: [WinError 2] El sistema no puede encontrar el archivo especificado",
      "\nDuring handling of the above exception, another exception occurred:\n",
      "\u001b[1;31mExecutableNotFound\u001b[0m                        Traceback (most recent call last)",
      "\u001b[1;32m~\\Miniconda3\\envs\\dato\\lib\\site-packages\\IPython\\core\\formatters.py\u001b[0m in \u001b[0;36m__call__\u001b[1;34m(self, obj)\u001b[0m\n\u001b[0;32m    343\u001b[0m             \u001b[0mmethod\u001b[0m \u001b[1;33m=\u001b[0m \u001b[0mget_real_method\u001b[0m\u001b[1;33m(\u001b[0m\u001b[0mobj\u001b[0m\u001b[1;33m,\u001b[0m \u001b[0mself\u001b[0m\u001b[1;33m.\u001b[0m\u001b[0mprint_method\u001b[0m\u001b[1;33m)\u001b[0m\u001b[1;33m\u001b[0m\u001b[1;33m\u001b[0m\u001b[0m\n\u001b[0;32m    344\u001b[0m             \u001b[1;32mif\u001b[0m \u001b[0mmethod\u001b[0m \u001b[1;32mis\u001b[0m \u001b[1;32mnot\u001b[0m \u001b[1;32mNone\u001b[0m\u001b[1;33m:\u001b[0m\u001b[1;33m\u001b[0m\u001b[1;33m\u001b[0m\u001b[0m\n\u001b[1;32m--> 345\u001b[1;33m                 \u001b[1;32mreturn\u001b[0m \u001b[0mmethod\u001b[0m\u001b[1;33m(\u001b[0m\u001b[1;33m)\u001b[0m\u001b[1;33m\u001b[0m\u001b[1;33m\u001b[0m\u001b[0m\n\u001b[0m\u001b[0;32m    346\u001b[0m             \u001b[1;32mreturn\u001b[0m \u001b[1;32mNone\u001b[0m\u001b[1;33m\u001b[0m\u001b[1;33m\u001b[0m\u001b[0m\n\u001b[0;32m    347\u001b[0m         \u001b[1;32melse\u001b[0m\u001b[1;33m:\u001b[0m\u001b[1;33m\u001b[0m\u001b[1;33m\u001b[0m\u001b[0m\n",
      "\u001b[1;32m~\\Miniconda3\\envs\\dato\\lib\\site-packages\\graphviz\\files.py\u001b[0m in \u001b[0;36m_repr_svg_\u001b[1;34m(self)\u001b[0m\n\u001b[0;32m    111\u001b[0m \u001b[1;33m\u001b[0m\u001b[0m\n\u001b[0;32m    112\u001b[0m     \u001b[1;32mdef\u001b[0m \u001b[0m_repr_svg_\u001b[0m\u001b[1;33m(\u001b[0m\u001b[0mself\u001b[0m\u001b[1;33m)\u001b[0m\u001b[1;33m:\u001b[0m\u001b[1;33m\u001b[0m\u001b[1;33m\u001b[0m\u001b[0m\n\u001b[1;32m--> 113\u001b[1;33m         \u001b[1;32mreturn\u001b[0m \u001b[0mself\u001b[0m\u001b[1;33m.\u001b[0m\u001b[0mpipe\u001b[0m\u001b[1;33m(\u001b[0m\u001b[0mformat\u001b[0m\u001b[1;33m=\u001b[0m\u001b[1;34m'svg'\u001b[0m\u001b[1;33m)\u001b[0m\u001b[1;33m.\u001b[0m\u001b[0mdecode\u001b[0m\u001b[1;33m(\u001b[0m\u001b[0mself\u001b[0m\u001b[1;33m.\u001b[0m\u001b[0m_encoding\u001b[0m\u001b[1;33m)\u001b[0m\u001b[1;33m\u001b[0m\u001b[1;33m\u001b[0m\u001b[0m\n\u001b[0m\u001b[0;32m    114\u001b[0m \u001b[1;33m\u001b[0m\u001b[0m\n\u001b[0;32m    115\u001b[0m     \u001b[1;32mdef\u001b[0m \u001b[0mpipe\u001b[0m\u001b[1;33m(\u001b[0m\u001b[0mself\u001b[0m\u001b[1;33m,\u001b[0m \u001b[0mformat\u001b[0m\u001b[1;33m=\u001b[0m\u001b[1;32mNone\u001b[0m\u001b[1;33m,\u001b[0m \u001b[0mrenderer\u001b[0m\u001b[1;33m=\u001b[0m\u001b[1;32mNone\u001b[0m\u001b[1;33m,\u001b[0m \u001b[0mformatter\u001b[0m\u001b[1;33m=\u001b[0m\u001b[1;32mNone\u001b[0m\u001b[1;33m,\u001b[0m \u001b[0mquiet\u001b[0m\u001b[1;33m=\u001b[0m\u001b[1;32mFalse\u001b[0m\u001b[1;33m)\u001b[0m\u001b[1;33m:\u001b[0m\u001b[1;33m\u001b[0m\u001b[1;33m\u001b[0m\u001b[0m\n",
      "\u001b[1;32m~\\Miniconda3\\envs\\dato\\lib\\site-packages\\graphviz\\files.py\u001b[0m in \u001b[0;36mpipe\u001b[1;34m(self, format, renderer, formatter, quiet)\u001b[0m\n\u001b[0;32m    136\u001b[0m         out = backend.pipe(self._engine, format, data,\n\u001b[0;32m    137\u001b[0m                            \u001b[0mrenderer\u001b[0m\u001b[1;33m=\u001b[0m\u001b[0mrenderer\u001b[0m\u001b[1;33m,\u001b[0m \u001b[0mformatter\u001b[0m\u001b[1;33m=\u001b[0m\u001b[0mformatter\u001b[0m\u001b[1;33m,\u001b[0m\u001b[1;33m\u001b[0m\u001b[1;33m\u001b[0m\u001b[0m\n\u001b[1;32m--> 138\u001b[1;33m                            quiet=quiet)\n\u001b[0m\u001b[0;32m    139\u001b[0m \u001b[1;33m\u001b[0m\u001b[0m\n\u001b[0;32m    140\u001b[0m         \u001b[1;32mreturn\u001b[0m \u001b[0mout\u001b[0m\u001b[1;33m\u001b[0m\u001b[1;33m\u001b[0m\u001b[0m\n",
      "\u001b[1;32m~\\Miniconda3\\envs\\dato\\lib\\site-packages\\graphviz\\backend.py\u001b[0m in \u001b[0;36mpipe\u001b[1;34m(engine, format, data, renderer, formatter, quiet)\u001b[0m\n\u001b[0;32m    242\u001b[0m     \"\"\"\n\u001b[0;32m    243\u001b[0m     \u001b[0mcmd\u001b[0m\u001b[1;33m,\u001b[0m \u001b[0m_\u001b[0m \u001b[1;33m=\u001b[0m \u001b[0mcommand\u001b[0m\u001b[1;33m(\u001b[0m\u001b[0mengine\u001b[0m\u001b[1;33m,\u001b[0m \u001b[0mformat\u001b[0m\u001b[1;33m,\u001b[0m \u001b[1;32mNone\u001b[0m\u001b[1;33m,\u001b[0m \u001b[0mrenderer\u001b[0m\u001b[1;33m,\u001b[0m \u001b[0mformatter\u001b[0m\u001b[1;33m)\u001b[0m\u001b[1;33m\u001b[0m\u001b[1;33m\u001b[0m\u001b[0m\n\u001b[1;32m--> 244\u001b[1;33m     \u001b[0mout\u001b[0m\u001b[1;33m,\u001b[0m \u001b[0m_\u001b[0m \u001b[1;33m=\u001b[0m \u001b[0mrun\u001b[0m\u001b[1;33m(\u001b[0m\u001b[0mcmd\u001b[0m\u001b[1;33m,\u001b[0m \u001b[0minput\u001b[0m\u001b[1;33m=\u001b[0m\u001b[0mdata\u001b[0m\u001b[1;33m,\u001b[0m \u001b[0mcapture_output\u001b[0m\u001b[1;33m=\u001b[0m\u001b[1;32mTrue\u001b[0m\u001b[1;33m,\u001b[0m \u001b[0mcheck\u001b[0m\u001b[1;33m=\u001b[0m\u001b[1;32mTrue\u001b[0m\u001b[1;33m,\u001b[0m \u001b[0mquiet\u001b[0m\u001b[1;33m=\u001b[0m\u001b[0mquiet\u001b[0m\u001b[1;33m)\u001b[0m\u001b[1;33m\u001b[0m\u001b[1;33m\u001b[0m\u001b[0m\n\u001b[0m\u001b[0;32m    245\u001b[0m     \u001b[1;32mreturn\u001b[0m \u001b[0mout\u001b[0m\u001b[1;33m\u001b[0m\u001b[1;33m\u001b[0m\u001b[0m\n\u001b[0;32m    246\u001b[0m \u001b[1;33m\u001b[0m\u001b[0m\n",
      "\u001b[1;32m~\\Miniconda3\\envs\\dato\\lib\\site-packages\\graphviz\\backend.py\u001b[0m in \u001b[0;36mrun\u001b[1;34m(cmd, input, capture_output, check, encoding, quiet, **kwargs)\u001b[0m\n\u001b[0;32m    165\u001b[0m     \u001b[1;32mexcept\u001b[0m \u001b[0mOSError\u001b[0m \u001b[1;32mas\u001b[0m \u001b[0me\u001b[0m\u001b[1;33m:\u001b[0m\u001b[1;33m\u001b[0m\u001b[1;33m\u001b[0m\u001b[0m\n\u001b[0;32m    166\u001b[0m         \u001b[1;32mif\u001b[0m \u001b[0me\u001b[0m\u001b[1;33m.\u001b[0m\u001b[0merrno\u001b[0m \u001b[1;33m==\u001b[0m \u001b[0merrno\u001b[0m\u001b[1;33m.\u001b[0m\u001b[0mENOENT\u001b[0m\u001b[1;33m:\u001b[0m\u001b[1;33m\u001b[0m\u001b[1;33m\u001b[0m\u001b[0m\n\u001b[1;32m--> 167\u001b[1;33m             \u001b[1;32mraise\u001b[0m \u001b[0mExecutableNotFound\u001b[0m\u001b[1;33m(\u001b[0m\u001b[0mcmd\u001b[0m\u001b[1;33m)\u001b[0m\u001b[1;33m\u001b[0m\u001b[1;33m\u001b[0m\u001b[0m\n\u001b[0m\u001b[0;32m    168\u001b[0m         \u001b[1;32melse\u001b[0m\u001b[1;33m:\u001b[0m\u001b[1;33m\u001b[0m\u001b[1;33m\u001b[0m\u001b[0m\n\u001b[0;32m    169\u001b[0m             \u001b[1;32mraise\u001b[0m\u001b[1;33m\u001b[0m\u001b[1;33m\u001b[0m\u001b[0m\n",
      "\u001b[1;31mExecutableNotFound\u001b[0m: failed to execute ['dot', '-Tsvg'], make sure the Graphviz executables are on your systems' PATH"
     ],
     "ename": "ExecutableNotFound",
     "evalue": "failed to execute ['dot', '-Tsvg'], make sure the Graphviz executables are on your systems' PATH",
     "output_type": "error"
    },
    {
     "data": {
      "text/plain": "<graphviz.files.Source at 0x151e1148>"
     },
     "metadata": {},
     "output_type": "execute_result",
     "execution_count": 107
    }
   ],
   "source": [
    "xg_reg = xgb.train(params=params, dtrain=dmatrix, num_boost_round=10)\n",
    "plt.rcParams['figure.figsize'] = [20, 20]\n",
    "xgb.to_graphviz(xg_reg,num_trees=0)"
   ]
  },
  {
   "cell_type": "markdown",
   "metadata": {},
   "source": [
    "Importancia de cada feature"
   ]
  },
  {
   "cell_type": "code",
   "execution_count": 106,
   "metadata": {
    "scrolled": true,
    "pycharm": {
     "is_executing": false
    }
   },
   "outputs": [
    {
     "data": {
      "text/plain": "<matplotlib.axes._subplots.AxesSubplot at 0x144c65c8>"
     },
     "metadata": {},
     "output_type": "execute_result",
     "execution_count": 106
    },
    {
     "data": {
      "text/plain": "<Figure size 864x504 with 1 Axes>",
      "image/png": "[encoded data removed]"
     },
     "metadata": {},
     "output_type": "display_data"
    }
   ],
   "source": [
    "plt.rcParams['figure.figsize'] = [12, 7]\n",
    "xgb.plot_importance(xg_reg)"
   ]
  },
  {
   "cell_type": "markdown",
   "metadata": {},
   "source": [
    "# Random Forest"
   ]
  },
  {
   "cell_type": "code",
   "execution_count": 92,
   "metadata": {
    "pycharm": {
     "is_executing": false
    }
   },
   "outputs": [
    {
     "data": {
      "text/plain": "RandomForestRegressor(max_features=4, n_estimators=10, random_state=1)"
     },
     "metadata": {},
     "output_type": "execute_result",
     "execution_count": 92
    }
   ],
   "source": [
    "from sklearn.ensemble import RandomForestRegressor\n",
    "rf = RandomForestRegressor(random_state=1, n_estimators = 20, max_features = 4)\n",
    "rf.fit(train_set, train_label)"
   ]
  },
  {
   "cell_type": "code",
   "execution_count": 93,
   "metadata": {
    "pycharm": {
     "is_executing": false
    }
   },
   "outputs": [
    {
     "name": "stdout",
     "text": [
      "0.5210585165859113\n"
     ],
     "output_type": "stream"
    }
   ],
   "source": [
    "predicts = rf.predict(test_set).round()\n",
    "result['target'] = predicts\n",
    "print(F1(result))"
   ]
  },
  {
   "cell_type": "code",
   "execution_count": 94,
   "metadata": {
    "pycharm": {
     "is_executing": false
    }
   },
   "outputs": [
    {
     "data": {
      "text/plain": "<Figure size 864x504 with 1 Axes>",
      "image/png": "[encoded data removed]"
     },
     "metadata": {},
     "output_type": "display_data"
    }
   ],
   "source": [
    "plt.barh(train_set.columns, rf.feature_importances_)\n",
    "plt.xlabel('Features de train')\n",
    "plt.ylabel('Importancia')\n",
    "plt.title('Importancia vs Features con Random Forest')\n",
    "plt.show()"
   ]
  },
  {
   "cell_type": "markdown",
   "metadata": {},
   "source": [
    "## ENTREGA"
   ]
  },
  {
   "cell_type": "code",
   "execution_count": 95,
   "metadata": {
    "pycharm": {
     "name": "#%%\n",
     "is_executing": false
    }
   },
   "outputs": [],
   "source": [
    "#cuando todo termina el archivo de entrega\n",
    "resultados_de_prediccion.to_csv('submit.csv', index=False)"
   ]
  }
 ],
 "metadata": {
  "kernelspec": {
   "name": "python3",
   "language": "python",
   "display_name": "Python 3"
  },
  "language_info": {
   "codemirror_mode": {
    "name": "ipython",
    "version": 2
   },
   "file_extension": ".py",
   "mimetype": "text/x-python",
   "name": "python",
   "nbconvert_exporter": "python",
   "pygments_lexer": "ipython2",
   "version": "2.7.6"
  },
  "pycharm": {
   "stem_cell": {
    "cell_type": "raw",
    "source": [],
    "metadata": {
     "collapsed": false
    }
   }
  }
 },
 "nbformat": 4,
 "nbformat_minor": 1
}