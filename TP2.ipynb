{
 "cells": [
  {
   "cell_type": "markdown",
   "metadata": {
    "collapsed": true,
    "pycharm": {
     "name": "#%% md\n"
    }
   },
   "source": [
    "# 75.06/95.58 Organización de Datos\n",
    "# Primer Cuatrimestre de 2020\n",
    "# Trabajo Práctico 2: Enunciado\n",
    "\n",
    "\n",
    "El segundo TP es una competencia de Machine Learning en donde cada grupo debe intentar determinar, para cada tweet brindado, si el mismo esta basado en un hecho real o no.\n",
    "\n",
    "La competencia se desarrolla en la plataforma de Kaggle  https://www.kaggle.com/c/nlp-getting-started.  \n",
    "\n",
    "El dataset consta de una serie de tweets, para los cuales se informa:\n",
    "\n",
    "- id - identificador unico para cada  tweet\n",
    "- text - el texto del tweet\n",
    "- location - ubicación desde donde fue enviado (podría no estar)\n",
    "- keyword - un keyword para el tweet  (podría faltar)\n",
    "- target - en train.csv, indica si se trata de un desastre real  (1) o no (0)\n",
    " \n",
    "\n",
    "\n",
    "Los submits con el resultado deben tener el formato:\n",
    "\n",
    "Id: Un id numérico para identificar el tweet\n",
    "target: 1 / 0 según se crea que el tweet se trata sobre un desastre real, o no.\n",
    "\n",
    "Los grupos deberán probar distintos algoritmos de Machine Learning para intentar predecir si el tweet está basado en hechos reales o no. A medida que los grupos realicen pruebas deben realizar el correspondiente submit en Kaggle para evaluar el resultado de los mismos.\n",
    "\n",
    "Al finalizar la competencia el grupo que mejor resultado tenga obtendrá 10 puntos para cada uno de sus integrantes que podrán ser usados en el examen por promoción o segundo recuperatorio.\n",
    "\n",
    "## Requisitos para la entrega del TP2:\n",
    "\n",
    "- El TP debe programarse en Python o R.\n",
    "- Debe entregarse un pdf con el informe de algoritmos probados, algoritmo final utilizado, transformaciones realizadas a los datos, feature engineering, etc. \n",
    "- El informe debe incluir también un link a github con el informe presentado en pdf, y todo el código.\n",
    "- El grupo debe presentar el TP en una computadora en la fecha indicada por la cátedra, el TP debe correr en un lapso de tiempo razonable (inferior a 1 hora) y generar un submission válido que iguale el mejor resultado obtenido por el grupo en Kaggle. (mas detalles a definir)\n",
    "\n",
    "## El TP2 se va a evaluar en función del siguiente criterio:\n",
    "\n",
    "- Cantidad de trabajo (esfuerzo) del grupo: ¿Probaron muchos algoritmos? ¿Hicieron un buen trabajo de pre-procesamiento de los datos y feature engineering?\n",
    "- Resultado obtenido en Kaggle (obviamente cuanto mejor resultado mejor nota)\n",
    "- Presentación final del informe, calidad de la redacción, uso de información obtenida en el TP1, conclusiones presentadas.\n",
    "- Performance de la solución final."
   ]
  },
  {
   "cell_type": "markdown",
   "metadata": {},
   "source": [
    "## Forma de evaluar kaggle\n",
    "\n",
    "Las presentaciones se evalúan utilizando F1 entre las respuestas previstas y esperadas.\n",
    "\n",
    "F1 se calcula de la siguiente manera:\n",
    "$ F1=(2∗precision∗recall)/(precision+recall) $\n",
    "\n",
    "donde:\n",
    "\n",
    "$precision=TP/(TP+FP)$\n",
    "\n",
    "$recall=TP/(TP+FN)$\n",
    "\n",
    "\n",
    "con:\n",
    "\n",
    "- Verdadero positivo [TP] = your prediction is 1, and the ground truth is also 1 - you predicted a positive and that's true!\n",
    "- Falso positivo [FP] = your prediction is 1, and the ground truth is 0 - you predicted a positive, and that's false.\n",
    "- Falso Negativo [FN] = your prediction is 0, and the ground truth is 1 - you predicted a negative, and that's false."
   ]
  },
  {
   "cell_type": "markdown",
   "metadata": {},
   "source": [
    "importaciones"
   ]
  },
  {
   "cell_type": "code",
   "execution_count": 101,
   "metadata": {
    "pycharm": {
     "is_executing": false,
     "name": "#%%\n"
    },
    "scrolled": false
   },
   "outputs": [],
   "source": [
    "#IMPORTS\n",
    "import pandas as pd\n",
    "import numpy as np\n",
    "import matplotlib.pyplot as plt\n",
    "import seaborn as sns\n",
    "#import plotly.graph_objects as go\n",
    "\n",
    "#plt.style.use('default')\n",
    "from gensim.sklearn_api import tfidf\n",
    "\n",
    "sns.set(style=\"whitegrid\")\n",
    "\n",
    "pd.options.display.float_format = '{:20,.2f}'.format \n",
    "\n",
    "import warnings\n",
    "warnings.filterwarnings('ignore')\n",
    "\n",
    "from matplotlib.colors import ListedColormap\n",
    "import matplotlib.patches as mpatches\n",
    "import re\n",
    "%matplotlib inline\n",
    "plt.rcParams['figure.figsize'] = (16, 9)\n",
    "plt.style.use('ggplot')\n",
    "import math\n",
    "#librerias para KNN\n",
    "from sklearn.model_selection import train_test_split\n",
    "from sklearn.preprocessing import MinMaxScaler\n",
    "from sklearn.neighbors import KNeighborsClassifier\n",
    "from sklearn.metrics import classification_report\n",
    "from sklearn.metrics import confusion_matrix\n",
    "#red neuronal\n",
    "from keras.models import Sequential\n",
    "from keras.layers.core import Dense\n",
    "#arboles de decicion\n",
    "plt.rcParams['figure.figsize'] = (16, 9)\n",
    "plt.style.use('ggplot')\n",
    "from sklearn import tree\n",
    "from sklearn.metrics import accuracy_score\n",
    "from sklearn.model_selection import KFold\n",
    "from sklearn.model_selection import cross_val_score\n",
    "from IPython.display import Image as PImage\n",
    "from subprocess import check_call\n",
    "from PIL import Image, ImageDraw, ImageFont\n",
    "from sklearn.ensemble import RandomForestClassifier\n",
    "from sklearn.tree import DecisionTreeClassifier\n",
    "#catboost\n",
    "from catboost import CatBoostRegressor\n",
    "#xgb\n",
    "import xgboost as xgb\n",
    "\n",
    "#palabras\n",
    "import nltk\n",
    "#nltk.download('stopwords')#si no tiene stopword habilitar esta linea\n",
    "from nltk.corpus import stopwords\n",
    "import gensim \n",
    "from gensim.models import Word2Vec \n",
    "#tf-idf\n",
    "from sklearn.feature_extraction.text import TfidfVectorizer"
   ]
  },
  {
   "cell_type": "code",
   "execution_count": 54,
   "metadata": {
    "pycharm": {
     "is_executing": false,
     "name": "#%%\n"
    },
    "scrolled": false
   },
   "outputs": [],
   "source": [
    "import nltk\n",
    "#nltk.download('stopwords')\n",
    "from nltk.corpus import stopwords\n",
    "stopwordEnglis = stopwords.words('english')\n",
    "#tfidf = TfidfVectorizer()"
   ]
  },
  {
   "cell_type": "markdown",
   "metadata": {},
   "source": [
    "inicio de csv"
   ]
  },
  {
   "cell_type": "code",
   "execution_count": 3,
   "metadata": {
    "pycharm": {
     "is_executing": false,
     "name": "#%%\n"
    },
    "scrolled": true
   },
   "outputs": [
    {
     "data": {
      "text/plain": "   keyword location                                               text  target\nid                                                                            \n1      NaN      NaN  Our Deeds are the Reason of this #earthquake M...       1\n4      NaN      NaN             Forest fire near La Ronge Sask. Canada       1\n5      NaN      NaN  All residents asked to 'shelter in place' are ...       1\n6      NaN      NaN  13,000 people receive #wildfires evacuation or...       1\n7      NaN      NaN  Just got sent this photo from Ruby #Alaska as ...       1",
      "text/html": "<div>\n<style scoped>\n    .dataframe tbody tr th:only-of-type {\n        vertical-align: middle;\n    }\n\n    .dataframe tbody tr th {\n        vertical-align: top;\n    }\n\n    .dataframe thead th {\n        text-align: right;\n    }\n</style>\n<table border=\"1\" class=\"dataframe\">\n  <thead>\n    <tr style=\"text-align: right;\">\n      <th></th>\n      <th>keyword</th>\n      <th>location</th>\n      <th>text</th>\n      <th>target</th>\n    </tr>\n    <tr>\n      <th>id</th>\n      <th></th>\n      <th></th>\n      <th></th>\n      <th></th>\n    </tr>\n  </thead>\n  <tbody>\n    <tr>\n      <th>1</th>\n      <td>NaN</td>\n      <td>NaN</td>\n      <td>Our Deeds are the Reason of this #earthquake M...</td>\n      <td>1</td>\n    </tr>\n    <tr>\n      <th>4</th>\n      <td>NaN</td>\n      <td>NaN</td>\n      <td>Forest fire near La Ronge Sask. Canada</td>\n      <td>1</td>\n    </tr>\n    <tr>\n      <th>5</th>\n      <td>NaN</td>\n      <td>NaN</td>\n      <td>All residents asked to 'shelter in place' are ...</td>\n      <td>1</td>\n    </tr>\n    <tr>\n      <th>6</th>\n      <td>NaN</td>\n      <td>NaN</td>\n      <td>13,000 people receive #wildfires evacuation or...</td>\n      <td>1</td>\n    </tr>\n    <tr>\n      <th>7</th>\n      <td>NaN</td>\n      <td>NaN</td>\n      <td>Just got sent this photo from Ruby #Alaska as ...</td>\n      <td>1</td>\n    </tr>\n  </tbody>\n</table>\n</div>"
     },
     "metadata": {},
     "output_type": "execute_result",
     "execution_count": 3
    }
   ],
   "source": [
    "tweets_original_entrenamiento = pd.read_csv('train.csv',index_col=['id'])\n",
    "tweets_original_entrenamiento.head()"
   ]
  },
  {
   "cell_type": "code",
   "execution_count": 4,
   "metadata": {
    "pycharm": {
     "is_executing": false,
     "name": "#%%\n"
    },
    "scrolled": true
   },
   "outputs": [
    {
     "data": {
      "text/plain": "   keyword location                                               text\nid                                                                    \n0      NaN      NaN                 Just happened a terrible car crash\n2      NaN      NaN  Heard about #earthquake is different cities, s...\n3      NaN      NaN  there is a forest fire at spot pond, geese are...\n9      NaN      NaN           Apocalypse lighting. #Spokane #wildfires\n11     NaN      NaN      Typhoon Soudelor kills 28 in China and Taiwan",
      "text/html": "<div>\n<style scoped>\n    .dataframe tbody tr th:only-of-type {\n        vertical-align: middle;\n    }\n\n    .dataframe tbody tr th {\n        vertical-align: top;\n    }\n\n    .dataframe thead th {\n        text-align: right;\n    }\n</style>\n<table border=\"1\" class=\"dataframe\">\n  <thead>\n    <tr style=\"text-align: right;\">\n      <th></th>\n      <th>keyword</th>\n      <th>location</th>\n      <th>text</th>\n    </tr>\n    <tr>\n      <th>id</th>\n      <th></th>\n      <th></th>\n      <th></th>\n    </tr>\n  </thead>\n  <tbody>\n    <tr>\n      <th>0</th>\n      <td>NaN</td>\n      <td>NaN</td>\n      <td>Just happened a terrible car crash</td>\n    </tr>\n    <tr>\n      <th>2</th>\n      <td>NaN</td>\n      <td>NaN</td>\n      <td>Heard about #earthquake is different cities, s...</td>\n    </tr>\n    <tr>\n      <th>3</th>\n      <td>NaN</td>\n      <td>NaN</td>\n      <td>there is a forest fire at spot pond, geese are...</td>\n    </tr>\n    <tr>\n      <th>9</th>\n      <td>NaN</td>\n      <td>NaN</td>\n      <td>Apocalypse lighting. #Spokane #wildfires</td>\n    </tr>\n    <tr>\n      <th>11</th>\n      <td>NaN</td>\n      <td>NaN</td>\n      <td>Typhoon Soudelor kills 28 in China and Taiwan</td>\n    </tr>\n  </tbody>\n</table>\n</div>"
     },
     "metadata": {},
     "output_type": "execute_result",
     "execution_count": 4
    }
   ],
   "source": [
    "tweets_original_prueba = pd.read_csv('test.csv',index_col=['id'])\n",
    "tweets_original_prueba.head()"
   ]
  },
  {
   "cell_type": "markdown",
   "metadata": {},
   "source": [
    "calculo resultado"
   ]
  },
  {
   "cell_type": "code",
   "execution_count": 5,
   "metadata": {
    "pycharm": {
     "is_executing": false,
     "name": "#%%\n"
    }
   },
   "outputs": [],
   "source": [
    "#resultados\n",
    "resultados_de_test = pd.read_csv('respuestas.csv',index_col=['id'])\n",
    "#revisar los resultados\n",
    "def calclarPresicionYRecall(df):\n",
    "    respuestas = pd.read_csv('respuestas.csv',index_col=['id'])\n",
    "    respuestas['prediccion'] = df['target']\n",
    "    #respuestas['TP'] = [1 if (respuestas['target'] == 1 and respuestas['prediccion'] == 1) else 0]\n",
    "    #respuestas['FP'] = [1 if (respuestas['target'] == 0 and respuestas['prediccion'] == 1) else 0]\n",
    "    #respuestas['FN'] = [1 if (respuestas['target'] == 1 and respuestas['prediccion'] == 0) else 0]\n",
    "    \n",
    "    respuestas.loc[respuestas['prediccion'] + respuestas['target'] == 2 , 'TP'] = 1\n",
    "    respuestas.loc[respuestas['prediccion'] + (respuestas['target'] * 2) == 1 , 'FP'] = 1\n",
    "    respuestas.loc[respuestas['prediccion'] + (respuestas['target'] * 2) == 2 , 'FN'] = 1\n",
    "    respuestas['TP'].fillna(0, inplace=True)\n",
    "    respuestas['FP'].fillna(0, inplace=True)\n",
    "    respuestas['FN'].fillna(0, inplace=True)\n",
    "\n",
    "    tp = respuestas['TP'].sum()\n",
    "    fp = respuestas['FP'].sum()\n",
    "    fn = respuestas['FN'].sum()\n",
    "    \n",
    "    #print(tp,fp,fn)\n",
    "    #print(respuestas.head())\n",
    "    \n",
    "    sumaPresicion = tp + fp\n",
    "    sumaRecall = tp + fn\n",
    "    presicion = tp / sumaPresicion\n",
    "    recall = tp / sumaRecall\n",
    "    return (presicion,recall)\n",
    "\n",
    "def F1(df):\n",
    "    presicion,recall = calclarPresicionYRecall(df)\n",
    "    resultado = 2 * presicion * recall\n",
    "    resultado /= (presicion + recall)\n",
    "    return resultado"
   ]
  },
  {
   "cell_type": "markdown",
   "metadata": {},
   "source": [
    "inicio de problema"
   ]
  },
  {
   "cell_type": "markdown",
   "metadata": {},
   "source": [
    "## CATBOOST"
   ]
  },
  {
   "cell_type": "code",
   "execution_count": 6,
   "outputs": [],
   "source": [
    "#esto deberia ahorrar columnas al hacer un BOW\n",
    "def digitos_en_binario(numero):\n",
    "    logaritmo2 = math.log2(numero)\n",
    "    entero = int(logaritmo2)\n",
    "    entero += 1\n",
    "    return entero\n",
    "\n",
    "def transformar_a_vector_binario(numero,digitos):\n",
    "    nBinario = aBinario(numero)\n",
    "    digit = len(nBinario)\n",
    "    while (digit < digitos):\n",
    "        digit = len(nBinario)\n",
    "        nBinario.insert(0,0)\n",
    "    return nBinario\n",
    "\n",
    "def aBinario(numero):\n",
    "    numeroDecimal = numero\n",
    "    numeroBinario = []\n",
    "    if (numeroDecimal < 2):\n",
    "        numeroBinario.append(numeroDecimal)\n",
    "        return numeroBinario\n",
    "    while numeroDecimal >=2:\n",
    "        numeroBinario.append(numeroDecimal % 2)\n",
    "        numeroDecimal //= 2\n",
    "    numeroBinario.append(numeroDecimal)\n",
    "    numeroBinario.reverse()\n",
    "    return numeroBinario\n",
    "\n",
    "#PRUEVA\n",
    "#if (digitos_en_binario(63) != 6):\n",
    "#    print(\"error en digitos_en_binario\")\n",
    "#bina = aBinario(64)\n",
    "#if (bina != 6 and bina[0] != 1 and bina[1] != 0 and bina[2] != 0 and bina[3] != 0 and bina[4] != 0 and bina[5] != 0):\n",
    "#    print(\"error en aBinario\")\n",
    "#print(transformar_a_vector_binario(64,8))\n",
    "#TODO OK"
   ],
   "metadata": {
    "collapsed": false,
    "pycharm": {
     "name": "#%% \n",
     "is_executing": false
    }
   }
  },
  {
   "cell_type": "code",
   "execution_count": 7,
   "metadata": {
    "pycharm": {
     "is_executing": false,
     "name": "#%%\n"
    }
   },
   "outputs": [],
   "source": [
    "\"\"\"\n",
    "vacio = 0000\n",
    "a = 0001\n",
    "b = 0010\n",
    "c = 0011\n",
    "d = 0100\n",
    "e = 0101\n",
    "f = 0110\n",
    "h = 0111\n",
    "r = 1000\n",
    "s = 1001\n",
    "t = 1010\n",
    "w = 1011\n",
    "\"\"\"\n",
    "LETRAS_0 = ['a','c','e','h','s','w']\n",
    "def letra0(x):\n",
    "    if (x in LETRAS_0):\n",
    "        return 1\n",
    "    return 0\n",
    "LETRAS_1 = ['b','c','f','h','t','w']\n",
    "def letra1(x):\n",
    "    if (x in LETRAS_1):\n",
    "        return 1\n",
    "    return 0\n",
    "LETRAS_2 = ['d','e','f','h']\n",
    "def letra2(x):\n",
    "    if (x in LETRAS_2):\n",
    "        return 1\n",
    "    return 0\n",
    "LETRAS_3 = ['r','s','t','w']\n",
    "def letra3(x):\n",
    "    if (x in LETRAS_3):\n",
    "        return 1\n",
    "    return 0\n",
    "def letra_inicial_Keyword_BOW(df):\n",
    "    #for i in range(0,4):\n",
    "    #    texto = 'letra_' + str(i)\n",
    "    #    df[texto] = 0\n",
    "    df['letra_0'] = 0\n",
    "    df['letra_1'] = 0\n",
    "    df['letra_2'] = 0\n",
    "    df['letra_3'] = 0\n",
    "    df['letra_0'] = df['keyword'].str.strip().str[0].map(lambda x:letra0(x))\n",
    "    df['letra_1'] = df['keyword'].str.strip().str[0].map(lambda x:letra0(x))\n",
    "    df['letra_2'] = df['keyword'].str.strip().str[0].map(lambda x:letra0(x))\n",
    "    df['letra_3'] = df['keyword'].str.strip().str[0].map(lambda x:letra0(x))\n",
    "    return df\n",
    "     "
   ]
  },
  {
   "cell_type": "code",
   "execution_count": 26,
   "metadata": {
    "pycharm": {
     "is_executing": false,
     "name": "#%%   \n"
    }
   },
   "outputs": [],
   "source": [
    "\n",
    "def set_palabras_del_train(df):\n",
    "    palabrasTexto = []\n",
    "    palabrasKeyword = []\n",
    "    \n",
    "    df['palabras_de_texto'] = df['text'].str.lower().str.split().apply(lambda x: [item for item in x if item not in stopwordEnglis])\n",
    "    df['palabras_de_keyword'] = df['text'].str.lower().str.split().apply(lambda x: [item for item in x if item not in stopwordEnglis])\n",
    "    \n",
    "    return (palabrasTexto,palabrasKeyword)\n",
    "\n",
    "def hashtag_en_tweet(listado):\n",
    "    \"\"\"defino hashtag como un numeral seguido por una cadena de texto\"\"\"\n",
    "    contador = 0\n",
    "    for palabra in listado:\n",
    "        if (palabra[0] == '#'):\n",
    "            contador += 1\n",
    "    return contador\n",
    "\n",
    "def cantidad_de_palabras_en_texto(lista,palabra):\n",
    "    contador = 0\n",
    "    for elemento in lista:\n",
    "        if (elemento == palabra):\n",
    "            contador += 1\n",
    "    return contador\n",
    "\n",
    "def localizacion(x,lista):\n",
    "    if (x == \"\"):\n",
    "        return 0\n",
    "    for i in range(len(lista)):\n",
    "        palabra = lista[i]\n",
    "        if (palabra == x):\n",
    "            return (i + 1)\n",
    "    return 0\n",
    "\n",
    "def ubicacionEnLista(x,pos):\n",
    "    return x[pos]\n",
    "\n",
    "def BOW_locacion(df,lista,columna):\n",
    "    cantidadDePalabras = len(lista)\n",
    "    if (cantidadDePalabras == 0):\n",
    "        return df\n",
    "    binarioMaximo = cantidadDePalabras + 1\n",
    "    digitosBinario = digitos_en_binario(binarioMaximo)\n",
    "    #for i in range(digitosBinario):\n",
    "    #    df[\"palabra_{}\".format(i)] = 0\n",
    "    #df['location'] = df['location'].map(lambda x: transformar_a_vector_binario(localizacion(x,lista),digitosBinario))\n",
    "    #for j in range(digitosBinario):\n",
    "    #    df[\"loc_palabra_{}\".format(j)] = df['location'].map(lambda x: ubicacionEnLista(x,j))\n",
    "    df[columna] = df[columna].map(lambda x: transformar_a_vector_binario(localizacion(x,lista),digitosBinario))\n",
    "    for j in range(digitosBinario):\n",
    "        df[\"{}_palabra_{}\".format(columna,j)] = df[columna].map(lambda x: ubicacionEnLista(x,j))\n",
    "    return df\n",
    "\n",
    "def preparar_df(df,listadoDePalabrasDelTextoDelSetDeEntrenamiento=[],listadoDePalabrasDeLocalizacionesDelSetDeEntrenamiento=[],listadoDePalabrasDelKeywordDelSetDeEntrenamiento=[]):\n",
    "    df['text'].fillna(\"\", inplace=True)\n",
    "    df['keyword'].fillna(\"\", inplace=True)\n",
    "    df['location'].fillna(\"\", inplace=True)\n",
    "    \n",
    "    df['longitud_de_texto'] = df['text'].str.len()\n",
    "    df['longitud_de_keyword'] = df['keyword'].str.len()\n",
    "    \n",
    "    df['palabras_de_texto'] = df['text'].str.lower().str.split().apply(lambda x: [item for item in x if item not in stopwordEnglis])\n",
    "    df['palabras_de_keyword'] = df['keyword'].str.lower().str.split().apply(lambda x: [item for item in x if item not in stopwordEnglis])\n",
    "    \n",
    "    df['cantidad_de_palabras_texto'] = df['palabras_de_texto'].map(len)\n",
    "    df['cantidad_de_palabras_keyword'] = df['palabras_de_keyword'].map(len)\n",
    "    \n",
    "    df['cantidad_de_hashtag_en_texto'] = df['palabras_de_texto'].map(hashtag_en_tweet)\n",
    "    \n",
    "    df['palabras_de_texto'] = df['palabras_de_texto'].apply(lambda x: [item for item in x if item in listadoDePalabrasDelTextoDelSetDeEntrenamiento])\n",
    "    #df['palabras_de_keyword'] = df['palabras_de_keyword'].apply(lambda x: [item for item in x if item in listadoDePalabrasDelKeywordDelSetDeEntrenamiento])\n",
    "    \n",
    "    #Se requiere pensarlo mas\n",
    "    #cantidadDePalabrasDelTexto = len(listadoDePalabrasDelTextoDelSetDeEntrenamiento)\n",
    "    #for i in range(cantidadDePalabrasDelTexto):\n",
    "    #    df[\"palabra_{}\".format(i)] = 0\n",
    "    \n",
    "    df = letra_inicial_Keyword_BOW(df)\n",
    "    \n",
    "    for palabra in listadoDePalabrasDelTextoDelSetDeEntrenamiento:\n",
    "        df[palabra] = df['palabras_de_texto'].map(lambda x: cantidad_de_palabras_en_texto(x,palabra))\n",
    "    \n",
    "    df = BOW_locacion(df,listadoDePalabrasDeLocalizacionesDelSetDeEntrenamiento,'location')\n",
    "    df = BOW_locacion(df,listadoDePalabrasDelKeywordDelSetDeEntrenamiento,'keyword')\n",
    "    \n",
    "    #df['text'] = df['text'].str.replace(r' ', '')\n",
    "    #df['keyword'] = df['keyword'].str.replace(r' ', '')\n",
    "    #df['location'] = df['location'].str.replace(r' ', '')\n",
    "    \n",
    "    #TF-IDF\n",
    "    #x = TfidfVectorizer.fit_transform(df['palabras_de_texto'])\n",
    "    #df_tfidf = pd.DataFrame(x.toarray(), columns=tfidf.get_feature_names())\n",
    "    #for col in df_tfidf.columns():\n",
    "    #    df = df.join(df_tfidf[col])\n",
    "    #df.join(df_tfidf)#mal planteado\n",
    "    \n",
    "    df = df.drop(columns=['keyword','text','location'])\n",
    "    df = df.drop(columns=['palabras_de_texto','palabras_de_keyword'])\n",
    "    \n",
    "    return df"
   ]
  },
  {
   "cell_type": "code",
   "execution_count": 9,
   "outputs": [],
   "source": [
    "def extraer_palabras(serie):\n",
    "    lista = []\n",
    "    #dic = {}\n",
    "    for listado in serie:\n",
    "        for elemento in listado:\n",
    "            #la mayoria de las palabras en ingles tienen una esperansa de 4.8773 caracteres con varianza de 2.6171\n",
    "            longitud = len(elemento)\n",
    "            simbolos = ('0','1','2','3','4','5','6','7','8','9','#','/','','\"','@',';','?','[','(','{','.','!','$','&','*','-')\n",
    "            if (elemento in lista or longitud > 7 or longitud < 2 or elemento[0] in simbolos or elemento[-1] in simbolos):\n",
    "                #dic[elemento] += 1\n",
    "                continue\n",
    "            #dic[elemento] = 1\n",
    "            lista.append(elemento)\n",
    "    #resultado = []\n",
    "    #max = 0\n",
    "    #for palabra in lista:\n",
    "    #    max = dic[palabra]\n",
    "    #    if (dic[palabra] < 800):\n",
    "    #        continue\n",
    "    #    resultado.append(palabra)\n",
    "    return lista\n",
    "\n",
    "def generar_lista(x,lista):\n",
    "    if (x in lista or x == \"\"):\n",
    "        return\n",
    "    lista.append(x)\n",
    "    return"
   ],
   "metadata": {
    "collapsed": false,
    "pycharm": {
     "name": "#%% \n",
     "is_executing": false
    }
   }
  },
  {
   "cell_type": "code",
   "execution_count": 22,
   "outputs": [],
   "source": [
    "train_label = tweets_original_entrenamiento['target']\n",
    "train_set = tweets_original_entrenamiento\n",
    "train_set = train_set.drop(columns=['target'])"
   ],
   "metadata": {
    "collapsed": false,
    "pycharm": {
     "name": "#%% \n",
     "is_executing": false
    }
   }
  },
  {
   "cell_type": "code",
   "execution_count": 24,
   "outputs": [],
   "source": [
    "train_set['location'].fillna(\"\", inplace=True)\n",
    "train_set['text'].fillna(\"\", inplace=True)\n",
    "\n",
    "seriePalabrasTexto = train_set['text'].str.lower().str.split().apply(lambda x: [item for item in x if item not in stopwordEnglis])\n",
    "seriePalabrasLocation = []\n",
    "train_set['location'].str.lower().apply(lambda x: generar_lista(x,seriePalabrasLocation))\n",
    "seriePalabrasKeyword = []\n",
    "train_set['keyword'].str.lower().apply(lambda x: generar_lista(x,seriePalabrasKeyword))\n",
    "\n",
    "listadoDePalabrasDelTextoDelSetDeEntrenamiento = extraer_palabras(seriePalabrasTexto)\n",
    "listadoDePalabrasDeLocalizacionesDelSetDeEntrenamiento = seriePalabrasLocation\n",
    "listadoDePalabrasDelKeywordDelSetDeEntrenamiento = seriePalabrasKeyword"
   ],
   "metadata": {
    "collapsed": false,
    "pycharm": {
     "name": "#%% \n",
     "is_executing": false
    }
   }
  },
  {
   "cell_type": "code",
   "execution_count": 27,
   "outputs": [
    {
     "data": {
      "text/plain": "    longitud_de_texto  longitud_de_keyword  cantidad_de_palabras_texto  \\\nid                                                                       \n1                  69                    0                           7   \n4                  38                    0                           7   \n5                 133                    0                          11   \n6                  65                    0                           7   \n7                  88                    0                           9   \n\n    cantidad_de_palabras_keyword  cantidad_de_hashtag_en_texto  letra_0  \\\nid                                                                        \n1                              0                             1        0   \n4                              0                             0        0   \n5                              0                             0        0   \n6                              0                             1        0   \n7                              0                             2        0   \n\n    letra_1  letra_2  letra_3  deeds  ...  location_palabra_10  \\\nid                                    ...                        \n1         0        0        0      1  ...                    0   \n4         0        0        0      0  ...                    0   \n5         0        0        0      0  ...                    0   \n6         0        0        0      0  ...                    0   \n7         0        0        0      0  ...                    0   \n\n    location_palabra_11  keyword_palabra_0  keyword_palabra_1  \\\nid                                                              \n1                     0                  0                  0   \n4                     0                  0                  0   \n5                     0                  0                  0   \n6                     0                  0                  0   \n7                     0                  0                  0   \n\n    keyword_palabra_2  keyword_palabra_3  keyword_palabra_4  \\\nid                                                            \n1                   0                  0                  0   \n4                   0                  0                  0   \n5                   0                  0                  0   \n6                   0                  0                  0   \n7                   0                  0                  0   \n\n    keyword_palabra_5  keyword_palabra_6  keyword_palabra_7  \nid                                                           \n1                   0                  0                  0  \n4                   0                  0                  0  \n5                   0                  0                  0  \n6                   0                  0                  0  \n7                   0                  0                  0  \n\n[5 rows x 8876 columns]",
      "text/html": "<div>\n<style scoped>\n    .dataframe tbody tr th:only-of-type {\n        vertical-align: middle;\n    }\n\n    .dataframe tbody tr th {\n        vertical-align: top;\n    }\n\n    .dataframe thead th {\n        text-align: right;\n    }\n</style>\n<table border=\"1\" class=\"dataframe\">\n  <thead>\n    <tr style=\"text-align: right;\">\n      <th></th>\n      <th>longitud_de_texto</th>\n      <th>longitud_de_keyword</th>\n      <th>cantidad_de_palabras_texto</th>\n      <th>cantidad_de_palabras_keyword</th>\n      <th>cantidad_de_hashtag_en_texto</th>\n      <th>letra_0</th>\n      <th>letra_1</th>\n      <th>letra_2</th>\n      <th>letra_3</th>\n      <th>deeds</th>\n      <th>...</th>\n      <th>location_palabra_10</th>\n      <th>location_palabra_11</th>\n      <th>keyword_palabra_0</th>\n      <th>keyword_palabra_1</th>\n      <th>keyword_palabra_2</th>\n      <th>keyword_palabra_3</th>\n      <th>keyword_palabra_4</th>\n      <th>keyword_palabra_5</th>\n      <th>keyword_palabra_6</th>\n      <th>keyword_palabra_7</th>\n    </tr>\n    <tr>\n      <th>id</th>\n      <th></th>\n      <th></th>\n      <th></th>\n      <th></th>\n      <th></th>\n      <th></th>\n      <th></th>\n      <th></th>\n      <th></th>\n      <th></th>\n      <th></th>\n      <th></th>\n      <th></th>\n      <th></th>\n      <th></th>\n      <th></th>\n      <th></th>\n      <th></th>\n      <th></th>\n      <th></th>\n      <th></th>\n    </tr>\n  </thead>\n  <tbody>\n    <tr>\n      <th>1</th>\n      <td>69</td>\n      <td>0</td>\n      <td>7</td>\n      <td>0</td>\n      <td>1</td>\n      <td>0</td>\n      <td>0</td>\n      <td>0</td>\n      <td>0</td>\n      <td>1</td>\n      <td>...</td>\n      <td>0</td>\n      <td>0</td>\n      <td>0</td>\n      <td>0</td>\n      <td>0</td>\n      <td>0</td>\n      <td>0</td>\n      <td>0</td>\n      <td>0</td>\n      <td>0</td>\n    </tr>\n    <tr>\n      <th>4</th>\n      <td>38</td>\n      <td>0</td>\n      <td>7</td>\n      <td>0</td>\n      <td>0</td>\n      <td>0</td>\n      <td>0</td>\n      <td>0</td>\n      <td>0</td>\n      <td>0</td>\n      <td>...</td>\n      <td>0</td>\n      <td>0</td>\n      <td>0</td>\n      <td>0</td>\n      <td>0</td>\n      <td>0</td>\n      <td>0</td>\n      <td>0</td>\n      <td>0</td>\n      <td>0</td>\n    </tr>\n    <tr>\n      <th>5</th>\n      <td>133</td>\n      <td>0</td>\n      <td>11</td>\n      <td>0</td>\n      <td>0</td>\n      <td>0</td>\n      <td>0</td>\n      <td>0</td>\n      <td>0</td>\n      <td>0</td>\n      <td>...</td>\n      <td>0</td>\n      <td>0</td>\n      <td>0</td>\n      <td>0</td>\n      <td>0</td>\n      <td>0</td>\n      <td>0</td>\n      <td>0</td>\n      <td>0</td>\n      <td>0</td>\n    </tr>\n    <tr>\n      <th>6</th>\n      <td>65</td>\n      <td>0</td>\n      <td>7</td>\n      <td>0</td>\n      <td>1</td>\n      <td>0</td>\n      <td>0</td>\n      <td>0</td>\n      <td>0</td>\n      <td>0</td>\n      <td>...</td>\n      <td>0</td>\n      <td>0</td>\n      <td>0</td>\n      <td>0</td>\n      <td>0</td>\n      <td>0</td>\n      <td>0</td>\n      <td>0</td>\n      <td>0</td>\n      <td>0</td>\n    </tr>\n    <tr>\n      <th>7</th>\n      <td>88</td>\n      <td>0</td>\n      <td>9</td>\n      <td>0</td>\n      <td>2</td>\n      <td>0</td>\n      <td>0</td>\n      <td>0</td>\n      <td>0</td>\n      <td>0</td>\n      <td>...</td>\n      <td>0</td>\n      <td>0</td>\n      <td>0</td>\n      <td>0</td>\n      <td>0</td>\n      <td>0</td>\n      <td>0</td>\n      <td>0</td>\n      <td>0</td>\n      <td>0</td>\n    </tr>\n  </tbody>\n</table>\n<p>5 rows × 8876 columns</p>\n</div>"
     },
     "metadata": {},
     "output_type": "execute_result",
     "execution_count": 27
    }
   ],
   "source": [
    "train_set = preparar_df(train_set,listadoDePalabrasDelTextoDelSetDeEntrenamiento,listadoDePalabrasDeLocalizacionesDelSetDeEntrenamiento,listadoDePalabrasDelKeywordDelSetDeEntrenamiento)\n",
    "train_set.head()"
   ],
   "metadata": {
    "collapsed": false,
    "pycharm": {
     "name": "#%% \n",
     "is_executing": false
    }
   }
  },
  {
   "cell_type": "code",
   "execution_count": 32,
   "metadata": {
    "pycharm": {
     "is_executing": false,
     "name": "#%%\n"
    }
   },
   "outputs": [
    {
     "data": {
      "text/plain": "    longitud_de_texto  longitud_de_keyword  cantidad_de_palabras_texto  \\\nid                                                                       \n0                  34                    0                           4   \n2                  64                    0                           7   \n3                  96                    0                          10   \n9                  40                    0                           4   \n11                 45                    0                           6   \n\n    cantidad_de_palabras_keyword  cantidad_de_hashtag_en_texto  letra_0  \\\nid                                                                        \n0                              0                             0        0   \n2                              0                             1        0   \n3                              0                             0        0   \n9                              0                             2        0   \n11                             0                             0        0   \n\n    letra_1  letra_2  letra_3  deeds  ...  location_palabra_10  \\\nid                                    ...                        \n0         0        0        0      0  ...                    0   \n2         0        0        0      0  ...                    0   \n3         0        0        0      0  ...                    0   \n9         0        0        0      0  ...                    0   \n11        0        0        0      0  ...                    0   \n\n    location_palabra_11  keyword_palabra_0  keyword_palabra_1  \\\nid                                                              \n0                     0                  0                  0   \n2                     0                  0                  0   \n3                     0                  0                  0   \n9                     0                  0                  0   \n11                    0                  0                  0   \n\n    keyword_palabra_2  keyword_palabra_3  keyword_palabra_4  \\\nid                                                            \n0                   0                  0                  0   \n2                   0                  0                  0   \n3                   0                  0                  0   \n9                   0                  0                  0   \n11                  0                  0                  0   \n\n    keyword_palabra_5  keyword_palabra_6  keyword_palabra_7  \nid                                                           \n0                   0                  0                  0  \n2                   0                  0                  0  \n3                   0                  0                  0  \n9                   0                  0                  0  \n11                  0                  0                  0  \n\n[5 rows x 8876 columns]",
      "text/html": "<div>\n<style scoped>\n    .dataframe tbody tr th:only-of-type {\n        vertical-align: middle;\n    }\n\n    .dataframe tbody tr th {\n        vertical-align: top;\n    }\n\n    .dataframe thead th {\n        text-align: right;\n    }\n</style>\n<table border=\"1\" class=\"dataframe\">\n  <thead>\n    <tr style=\"text-align: right;\">\n      <th></th>\n      <th>longitud_de_texto</th>\n      <th>longitud_de_keyword</th>\n      <th>cantidad_de_palabras_texto</th>\n      <th>cantidad_de_palabras_keyword</th>\n      <th>cantidad_de_hashtag_en_texto</th>\n      <th>letra_0</th>\n      <th>letra_1</th>\n      <th>letra_2</th>\n      <th>letra_3</th>\n      <th>deeds</th>\n      <th>...</th>\n      <th>location_palabra_10</th>\n      <th>location_palabra_11</th>\n      <th>keyword_palabra_0</th>\n      <th>keyword_palabra_1</th>\n      <th>keyword_palabra_2</th>\n      <th>keyword_palabra_3</th>\n      <th>keyword_palabra_4</th>\n      <th>keyword_palabra_5</th>\n      <th>keyword_palabra_6</th>\n      <th>keyword_palabra_7</th>\n    </tr>\n    <tr>\n      <th>id</th>\n      <th></th>\n      <th></th>\n      <th></th>\n      <th></th>\n      <th></th>\n      <th></th>\n      <th></th>\n      <th></th>\n      <th></th>\n      <th></th>\n      <th></th>\n      <th></th>\n      <th></th>\n      <th></th>\n      <th></th>\n      <th></th>\n      <th></th>\n      <th></th>\n      <th></th>\n      <th></th>\n      <th></th>\n    </tr>\n  </thead>\n  <tbody>\n    <tr>\n      <th>0</th>\n      <td>34</td>\n      <td>0</td>\n      <td>4</td>\n      <td>0</td>\n      <td>0</td>\n      <td>0</td>\n      <td>0</td>\n      <td>0</td>\n      <td>0</td>\n      <td>0</td>\n      <td>...</td>\n      <td>0</td>\n      <td>0</td>\n      <td>0</td>\n      <td>0</td>\n      <td>0</td>\n      <td>0</td>\n      <td>0</td>\n      <td>0</td>\n      <td>0</td>\n      <td>0</td>\n    </tr>\n    <tr>\n      <th>2</th>\n      <td>64</td>\n      <td>0</td>\n      <td>7</td>\n      <td>0</td>\n      <td>1</td>\n      <td>0</td>\n      <td>0</td>\n      <td>0</td>\n      <td>0</td>\n      <td>0</td>\n      <td>...</td>\n      <td>0</td>\n      <td>0</td>\n      <td>0</td>\n      <td>0</td>\n      <td>0</td>\n      <td>0</td>\n      <td>0</td>\n      <td>0</td>\n      <td>0</td>\n      <td>0</td>\n    </tr>\n    <tr>\n      <th>3</th>\n      <td>96</td>\n      <td>0</td>\n      <td>10</td>\n      <td>0</td>\n      <td>0</td>\n      <td>0</td>\n      <td>0</td>\n      <td>0</td>\n      <td>0</td>\n      <td>0</td>\n      <td>...</td>\n      <td>0</td>\n      <td>0</td>\n      <td>0</td>\n      <td>0</td>\n      <td>0</td>\n      <td>0</td>\n      <td>0</td>\n      <td>0</td>\n      <td>0</td>\n      <td>0</td>\n    </tr>\n    <tr>\n      <th>9</th>\n      <td>40</td>\n      <td>0</td>\n      <td>4</td>\n      <td>0</td>\n      <td>2</td>\n      <td>0</td>\n      <td>0</td>\n      <td>0</td>\n      <td>0</td>\n      <td>0</td>\n      <td>...</td>\n      <td>0</td>\n      <td>0</td>\n      <td>0</td>\n      <td>0</td>\n      <td>0</td>\n      <td>0</td>\n      <td>0</td>\n      <td>0</td>\n      <td>0</td>\n      <td>0</td>\n    </tr>\n    <tr>\n      <th>11</th>\n      <td>45</td>\n      <td>0</td>\n      <td>6</td>\n      <td>0</td>\n      <td>0</td>\n      <td>0</td>\n      <td>0</td>\n      <td>0</td>\n      <td>0</td>\n      <td>0</td>\n      <td>...</td>\n      <td>0</td>\n      <td>0</td>\n      <td>0</td>\n      <td>0</td>\n      <td>0</td>\n      <td>0</td>\n      <td>0</td>\n      <td>0</td>\n      <td>0</td>\n      <td>0</td>\n    </tr>\n  </tbody>\n</table>\n<p>5 rows × 8876 columns</p>\n</div>"
     },
     "metadata": {},
     "output_type": "execute_result",
     "execution_count": 32
    }
   ],
   "source": [
    "test_set = tweets_original_prueba\n",
    "test_set = preparar_df(test_set,listadoDePalabrasDelTextoDelSetDeEntrenamiento,listadoDePalabrasDeLocalizacionesDelSetDeEntrenamiento,listadoDePalabrasDelKeywordDelSetDeEntrenamiento)\n",
    "test_set.head()"
   ]
  },
  {
   "cell_type": "code",
   "execution_count": 97,
   "outputs": [],
   "source": [
    "for n in test_set.columns:\n",
    "    try:\n",
    "        #test_set[n] = pd.to_numeric(test_set[n])\n",
    "        test_set[n].astype(int)\n",
    "    except:\n",
    "        print(n)\n",
    "for n in train_set.columns:\n",
    "    try:\n",
    "        #train_set[n] = pd.to_numeric(train_set[n])\n",
    "        train_set[n].astype(int)\n",
    "    except:\n",
    "        print(n)\n",
    "if (len(test_set.columns) != len(train_set.columns)):\n",
    "    print(\"Error en columnas\")"
   ],
   "metadata": {
    "collapsed": false,
    "pycharm": {
     "name": "#%% \n",
     "is_executing": false
    }
   }
  },
  {
   "cell_type": "code",
   "execution_count": 96,
   "outputs": [
    {
     "data": {
      "text/plain": "    longitud_de_texto  longitud_de_keyword  cantidad_de_palabras_texto  \\\nid                                                                       \n1                  69                    0                           7   \n4                  38                    0                           7   \n5                 133                    0                          11   \n6                  65                    0                           7   \n7                  88                    0                           9   \n\n    cantidad_de_palabras_keyword  cantidad_de_hashtag_en_texto  letra_0  \\\nid                                                                        \n1                              0                             1        0   \n4                              0                             0        0   \n5                              0                             0        0   \n6                              0                             1        0   \n7                              0                             2        0   \n\n    letra_1  letra_2  letra_3  deeds  ...  location_palabra_10  \\\nid                                    ...                        \n1         0        0        0      1  ...                    0   \n4         0        0        0      0  ...                    0   \n5         0        0        0      0  ...                    0   \n6         0        0        0      0  ...                    0   \n7         0        0        0      0  ...                    0   \n\n    location_palabra_11  keyword_palabra_0  keyword_palabra_1  \\\nid                                                              \n1                     0                  0                  0   \n4                     0                  0                  0   \n5                     0                  0                  0   \n6                     0                  0                  0   \n7                     0                  0                  0   \n\n    keyword_palabra_2  keyword_palabra_3  keyword_palabra_4  \\\nid                                                            \n1                   0                  0                  0   \n4                   0                  0                  0   \n5                   0                  0                  0   \n6                   0                  0                  0   \n7                   0                  0                  0   \n\n    keyword_palabra_5  keyword_palabra_6  keyword_palabra_7  \nid                                                           \n1                   0                  0                  0  \n4                   0                  0                  0  \n5                   0                  0                  0  \n6                   0                  0                  0  \n7                   0                  0                  0  \n\n[5 rows x 8876 columns]",
      "text/html": "<div>\n<style scoped>\n    .dataframe tbody tr th:only-of-type {\n        vertical-align: middle;\n    }\n\n    .dataframe tbody tr th {\n        vertical-align: top;\n    }\n\n    .dataframe thead th {\n        text-align: right;\n    }\n</style>\n<table border=\"1\" class=\"dataframe\">\n  <thead>\n    <tr style=\"text-align: right;\">\n      <th></th>\n      <th>longitud_de_texto</th>\n      <th>longitud_de_keyword</th>\n      <th>cantidad_de_palabras_texto</th>\n      <th>cantidad_de_palabras_keyword</th>\n      <th>cantidad_de_hashtag_en_texto</th>\n      <th>letra_0</th>\n      <th>letra_1</th>\n      <th>letra_2</th>\n      <th>letra_3</th>\n      <th>deeds</th>\n      <th>...</th>\n      <th>location_palabra_10</th>\n      <th>location_palabra_11</th>\n      <th>keyword_palabra_0</th>\n      <th>keyword_palabra_1</th>\n      <th>keyword_palabra_2</th>\n      <th>keyword_palabra_3</th>\n      <th>keyword_palabra_4</th>\n      <th>keyword_palabra_5</th>\n      <th>keyword_palabra_6</th>\n      <th>keyword_palabra_7</th>\n    </tr>\n    <tr>\n      <th>id</th>\n      <th></th>\n      <th></th>\n      <th></th>\n      <th></th>\n      <th></th>\n      <th></th>\n      <th></th>\n      <th></th>\n      <th></th>\n      <th></th>\n      <th></th>\n      <th></th>\n      <th></th>\n      <th></th>\n      <th></th>\n      <th></th>\n      <th></th>\n      <th></th>\n      <th></th>\n      <th></th>\n      <th></th>\n    </tr>\n  </thead>\n  <tbody>\n    <tr>\n      <th>1</th>\n      <td>69</td>\n      <td>0</td>\n      <td>7</td>\n      <td>0</td>\n      <td>1</td>\n      <td>0</td>\n      <td>0</td>\n      <td>0</td>\n      <td>0</td>\n      <td>1</td>\n      <td>...</td>\n      <td>0</td>\n      <td>0</td>\n      <td>0</td>\n      <td>0</td>\n      <td>0</td>\n      <td>0</td>\n      <td>0</td>\n      <td>0</td>\n      <td>0</td>\n      <td>0</td>\n    </tr>\n    <tr>\n      <th>4</th>\n      <td>38</td>\n      <td>0</td>\n      <td>7</td>\n      <td>0</td>\n      <td>0</td>\n      <td>0</td>\n      <td>0</td>\n      <td>0</td>\n      <td>0</td>\n      <td>0</td>\n      <td>...</td>\n      <td>0</td>\n      <td>0</td>\n      <td>0</td>\n      <td>0</td>\n      <td>0</td>\n      <td>0</td>\n      <td>0</td>\n      <td>0</td>\n      <td>0</td>\n      <td>0</td>\n    </tr>\n    <tr>\n      <th>5</th>\n      <td>133</td>\n      <td>0</td>\n      <td>11</td>\n      <td>0</td>\n      <td>0</td>\n      <td>0</td>\n      <td>0</td>\n      <td>0</td>\n      <td>0</td>\n      <td>0</td>\n      <td>...</td>\n      <td>0</td>\n      <td>0</td>\n      <td>0</td>\n      <td>0</td>\n      <td>0</td>\n      <td>0</td>\n      <td>0</td>\n      <td>0</td>\n      <td>0</td>\n      <td>0</td>\n    </tr>\n    <tr>\n      <th>6</th>\n      <td>65</td>\n      <td>0</td>\n      <td>7</td>\n      <td>0</td>\n      <td>1</td>\n      <td>0</td>\n      <td>0</td>\n      <td>0</td>\n      <td>0</td>\n      <td>0</td>\n      <td>...</td>\n      <td>0</td>\n      <td>0</td>\n      <td>0</td>\n      <td>0</td>\n      <td>0</td>\n      <td>0</td>\n      <td>0</td>\n      <td>0</td>\n      <td>0</td>\n      <td>0</td>\n    </tr>\n    <tr>\n      <th>7</th>\n      <td>88</td>\n      <td>0</td>\n      <td>9</td>\n      <td>0</td>\n      <td>2</td>\n      <td>0</td>\n      <td>0</td>\n      <td>0</td>\n      <td>0</td>\n      <td>0</td>\n      <td>...</td>\n      <td>0</td>\n      <td>0</td>\n      <td>0</td>\n      <td>0</td>\n      <td>0</td>\n      <td>0</td>\n      <td>0</td>\n      <td>0</td>\n      <td>0</td>\n      <td>0</td>\n    </tr>\n  </tbody>\n</table>\n<p>5 rows × 8876 columns</p>\n</div>"
     },
     "metadata": {},
     "output_type": "execute_result",
     "execution_count": 96
    }
   ],
   "source": [
    "train_set.head()"
   ],
   "metadata": {
    "collapsed": false,
    "pycharm": {
     "name": "#%% \n",
     "is_executing": false
    }
   }
  },
  {
   "cell_type": "code",
   "execution_count": 33,
   "metadata": {
    "pycharm": {
     "is_executing": false,
     "name": "#%%\n"
    }
   },
   "outputs": [],
   "source": [
    "def ensamble(df,n,prediccion):\n",
    "    #df['prediccion'] = prediccion\n",
    "    #df['prediccion'] = df['prediccion'].round()\n",
    "    df['target'] = df['target'] + prediccion.round()\n",
    "    n += 1\n",
    "    return (n,df)\n",
    "\n",
    "def calcular_resultado_de_prediccion(df,n):\n",
    "    df['target'] = df['target'].div(n).round()\n",
    "    return df"
   ]
  },
  {
   "cell_type": "code",
   "execution_count": 89,
   "metadata": {
    "pycharm": {
     "is_executing": false,
     "name": "#%%\n"
    }
   },
   "outputs": [
    {
     "name": "stdout",
     "text": [
      "0:\tlearn: 0.4735122\ttotal: 335ms\tremaining: 1s\n",
      "1:\tlearn: 0.4633167\ttotal: 685ms\tremaining: 685ms\n",
      "2:\tlearn: 0.4563104\ttotal: 1.09s\tremaining: 364ms\n",
      "3:\tlearn: 0.4500376\ttotal: 1.46s\tremaining: 0us\n",
      "local 0.5206208425720621 max 0.5206208425720621\nlocal [4, 0.65, 11] max [4, 0.65, 11]\n",
      "0:\tlearn: 0.4722061\ttotal: 731ms\tremaining: 2.19s\n",
      "1:\tlearn: 0.4606917\ttotal: 1.48s\tremaining: 1.48s\n",
      "2:\tlearn: 0.4540324\ttotal: 2.44s\tremaining: 814ms\n",
      "3:\tlearn: 0.4471099\ttotal: 3.21s\tremaining: 0us\n",
      "local 0.5104022191400832 max 0.5206208425720621\nlocal [4, 0.65, 12] max [4, 0.65, 11]\n",
      "0:\tlearn: 0.4722077\ttotal: 1.34s\tremaining: 4.02s\n",
      "1:\tlearn: 0.4623248\ttotal: 2.78s\tremaining: 2.78s\n",
      "2:\tlearn: 0.4534854\ttotal: 4.32s\tremaining: 1.44s\n",
      "3:\tlearn: 0.4481993\ttotal: 5.78s\tremaining: 0us\n",
      "local 0.5070422535211268 max 0.5206208425720621\nlocal [4, 0.65, 13] max [4, 0.65, 11]\n",
      "0:\tlearn: 0.4733306\ttotal: 402ms\tremaining: 1.21s\n",
      "1:\tlearn: 0.4631034\ttotal: 752ms\tremaining: 752ms\n",
      "2:\tlearn: 0.4558911\ttotal: 1.13s\tremaining: 376ms\n",
      "3:\tlearn: 0.4495038\ttotal: 1.51s\tremaining: 0us\n",
      "local 0.5327433628318585 max 0.5327433628318585\nlocal [4, 0.66, 11] max [4, 0.66, 11]\n",
      "0:\tlearn: 0.4720109\ttotal: 665ms\tremaining: 2s\n",
      "1:\tlearn: 0.4604696\ttotal: 1.39s\tremaining: 1.39s\n",
      "2:\tlearn: 0.4537692\ttotal: 2.27s\tremaining: 756ms\n",
      "3:\tlearn: 0.4468300\ttotal: 3.13s\tremaining: 0us\n",
      "local 0.5104022191400832 max 0.5327433628318585\nlocal [4, 0.66, 12] max [4, 0.66, 11]\n",
      "0:\tlearn: 0.4720125\ttotal: 1.43s\tremaining: 4.28s\n",
      "1:\tlearn: 0.4621178\ttotal: 2.93s\tremaining: 2.93s\n",
      "2:\tlearn: 0.4532422\ttotal: 4.4s\tremaining: 1.47s\n",
      "3:\tlearn: 0.4465014\ttotal: 5.9s\tremaining: 0us\n",
      "local 0.5283687943262411 max 0.5327433628318585\nlocal [4, 0.66, 13] max [4, 0.66, 11]\n",
      "0:\tlearn: 0.4731537\ttotal: 408ms\tremaining: 1.22s\n",
      "1:\tlearn: 0.4628972\ttotal: 774ms\tremaining: 774ms\n",
      "2:\tlearn: 0.4556571\ttotal: 1.14s\tremaining: 381ms\n",
      "3:\tlearn: 0.4492686\ttotal: 1.52s\tremaining: 0us\n",
      "local 0.53315649867374 max 0.53315649867374\nlocal [4, 0.67, 11] max [4, 0.67, 11]\n",
      "0:\tlearn: 0.4718206\ttotal: 772ms\tremaining: 2.32s\n",
      "1:\tlearn: 0.4602551\ttotal: 1.52s\tremaining: 1.52s\n",
      "2:\tlearn: 0.4535150\ttotal: 2.37s\tremaining: 788ms\n",
      "3:\tlearn: 0.4465605\ttotal: 3.31s\tremaining: 0us\n",
      "local 0.5104022191400832 max 0.53315649867374\nlocal [4, 0.67, 12] max [4, 0.67, 11]\n",
      "0:\tlearn: 0.4718221\ttotal: 1.36s\tremaining: 4.09s\n",
      "1:\tlearn: 0.4619183\ttotal: 2.8s\tremaining: 2.8s\n",
      "2:\tlearn: 0.4530082\ttotal: 4.26s\tremaining: 1.42s\n",
      "3:\tlearn: 0.4462691\ttotal: 5.71s\tremaining: 0us\n",
      "local 0.5283185840707965 max 0.53315649867374\nlocal [4, 0.67, 13] max [4, 0.67, 11]\n",
      "0:\tlearn: 0.4729815\ttotal: 365ms\tremaining: 1.1s\n",
      "1:\tlearn: 0.4626980\ttotal: 717ms\tremaining: 717ms\n",
      "2:\tlearn: 0.4554318\ttotal: 1.08s\tremaining: 361ms\n",
      "3:\tlearn: 0.4481243\ttotal: 1.46s\tremaining: 0us\n",
      "local 0.5398502862175254 max 0.5398502862175254\nlocal [4, 0.68, 11] max [4, 0.68, 11]\n",
      "0:\tlearn: 0.4716353\ttotal: 740ms\tremaining: 2.22s\n",
      "1:\tlearn: 0.4600480\ttotal: 1.48s\tremaining: 1.48s\n",
      "2:\tlearn: 0.4532697\ttotal: 2.33s\tremaining: 775ms\n",
      "3:\tlearn: 0.4463012\ttotal: 3.24s\tremaining: 0us\n",
      "local 0.5104022191400832 max 0.5398502862175254\nlocal [4, 0.68, 12] max [4, 0.68, 11]\n",
      "0:\tlearn: 0.4716367\ttotal: 1.32s\tremaining: 3.96s\n",
      "1:\tlearn: 0.4617260\ttotal: 2.78s\tremaining: 2.78s\n",
      "2:\tlearn: 0.4527833\ttotal: 4.22s\tremaining: 1.41s\n",
      "3:\tlearn: 0.4460464\ttotal: 5.68s\tremaining: 0us\n",
      "local 0.5283185840707965 max 0.5398502862175254\nlocal [4, 0.68, 13] max [4, 0.68, 11]\n",
      "0:\tlearn: 0.4728140\ttotal: 407ms\tremaining: 1.22s\n",
      "1:\tlearn: 0.4625059\ttotal: 751ms\tremaining: 751ms\n",
      "2:\tlearn: 0.4552152\ttotal: 1.12s\tremaining: 374ms\n",
      "3:\tlearn: 0.4479005\ttotal: 1.5s\tremaining: 0us\n",
      "local 0.5398502862175254 max 0.5398502862175254\nlocal [4, 0.69, 11] max [4, 0.68, 11]\n",
      "0:\tlearn: 0.4714548\ttotal: 678ms\tremaining: 2.03s\n",
      "1:\tlearn: 0.4614758\ttotal: 1.44s\tremaining: 1.44s\n",
      "2:\tlearn: 0.4548409\ttotal: 2.26s\tremaining: 753ms\n",
      "3:\tlearn: 0.4483227\ttotal: 3.15s\tremaining: 0us\n",
      "local 0.499532273152479 max 0.5398502862175254\nlocal [4, 0.69, 12] max [4, 0.68, 11]\n",
      "0:\tlearn: 0.4714562\ttotal: 1.37s\tremaining: 4.12s\n",
      "1:\tlearn: 0.4615409\ttotal: 2.82s\tremaining: 2.82s\n",
      "2:\tlearn: 0.4525672\ttotal: 4.31s\tremaining: 1.44s\n",
      "3:\tlearn: 0.4458331\ttotal: 5.85s\tremaining: 0us\n",
      "local 0.5285524568393094 max 0.5398502862175254\nlocal [4, 0.69, 13] max [4, 0.68, 11]\n",
      "0:\tlearn: 0.4726512\ttotal: 451ms\tremaining: 1.35s\n",
      "1:\tlearn: 0.4619300\ttotal: 804ms\tremaining: 804ms\n",
      "2:\tlearn: 0.4545477\ttotal: 1.18s\tremaining: 393ms\n",
      "3:\tlearn: 0.4471210\ttotal: 1.57s\tremaining: 0us\n",
      "local 0.54046881910659 max 0.54046881910659\nlocal [4, 0.7, 11] max [4, 0.7, 11]\n",
      "0:\tlearn: 0.4712793\ttotal: 674ms\tremaining: 2.02s\n",
      "1:\tlearn: 0.4596559\ttotal: 1.47s\tremaining: 1.47s\n",
      "2:\tlearn: 0.4530182\ttotal: 2.37s\tremaining: 789ms\n",
      "3:\tlearn: 0.4447287\ttotal: 3.18s\tremaining: 0us\n",
      "local 0.5111524163568774 max 0.54046881910659\nlocal [4, 0.7, 12] max [4, 0.7, 11]\n",
      "0:\tlearn: 0.4712806\ttotal: 1.31s\tremaining: 3.93s\n",
      "1:\tlearn: 0.4613629\ttotal: 2.74s\tremaining: 2.74s\n",
      "2:\tlearn: 0.4523601\ttotal: 4.23s\tremaining: 1.41s\n",
      "3:\tlearn: 0.4456292\ttotal: 5.69s\tremaining: 0us\n",
      "local 0.5287356321839082 max 0.54046881910659\nlocal [4, 0.7, 13] max [4, 0.7, 11]\n",
      "0:\tlearn: 0.4724931\ttotal: 396ms\tremaining: 1.19s\n",
      "1:\tlearn: 0.4627823\ttotal: 756ms\tremaining: 756ms\n",
      "2:\tlearn: 0.4548902\ttotal: 1.13s\tremaining: 377ms\n",
      "3:\tlearn: 0.4487752\ttotal: 1.52s\tremaining: 0us\n",
      "local 0.5037174721189591 max 0.54046881910659\nlocal [4, 0.71, 11] max [4, 0.7, 11]\n",
      "0:\tlearn: 0.4711088\ttotal: 713ms\tremaining: 2.14s\n",
      "1:\tlearn: 0.4600603\ttotal: 1.53s\tremaining: 1.53s\n",
      "2:\tlearn: 0.4526668\ttotal: 2.34s\tremaining: 782ms\n",
      "3:\tlearn: 0.4132359\ttotal: 3.27s\tremaining: 0us\n",
      "local 0.629570747217806 max 0.629570747217806\nlocal [4, 0.71, 12] max [4, 0.71, 12]\n",
      "0:\tlearn: 0.4711099\ttotal: 1.35s\tremaining: 4.06s\n",
      "1:\tlearn: 0.4611921\ttotal: 2.82s\tremaining: 2.82s\n",
      "2:\tlearn: 0.4523992\ttotal: 4.28s\tremaining: 1.43s\n",
      "3:\tlearn: 0.4459375\ttotal: 5.79s\tremaining: 0us\n",
      "local 0.5080385852090031 max 0.629570747217806\nlocal [4, 0.71, 13] max [4, 0.71, 12]\n",
      "0:\tlearn: 0.4723398\ttotal: 377ms\tremaining: 1.13s\n",
      "1:\tlearn: 0.4615717\ttotal: 744ms\tremaining: 744ms\n",
      "2:\tlearn: 0.4533642\ttotal: 1.13s\tremaining: 378ms\n",
      "3:\tlearn: 0.4472810\ttotal: 1.52s\tremaining: 0us\n",
      "local 0.504881450488145 max 0.629570747217806\nlocal [4, 0.72, 11] max [4, 0.71, 12]\n",
      "0:\tlearn: 0.4709431\ttotal: 660ms\tremaining: 1.98s\n",
      "1:\tlearn: 0.4598108\ttotal: 1.4s\tremaining: 1.4s\n",
      "2:\tlearn: 0.4521276\ttotal: 2.33s\tremaining: 777ms\n",
      "3:\tlearn: 0.4452162\ttotal: 3.12s\tremaining: 0us\n",
      "local 0.5004721435316336 max 0.629570747217806\nlocal [4, 0.72, 12] max [4, 0.71, 12]\n",
      "0:\tlearn: 0.4709442\ttotal: 1.34s\tremaining: 4.04s\n",
      "1:\tlearn: 0.4610283\ttotal: 2.77s\tremaining: 2.77s\n",
      "2:\tlearn: 0.4522159\ttotal: 4.21s\tremaining: 1.4s\n",
      "3:\tlearn: 0.4457379\ttotal: 5.68s\tremaining: 0us\n",
      "local 0.5087235996326905 max 0.629570747217806\nlocal [4, 0.72, 13] max [4, 0.71, 12]\n",
      "0:\tlearn: 0.4721911\ttotal: 366ms\tremaining: 1.1s\n",
      "1:\tlearn: 0.4614028\ttotal: 708ms\tremaining: 708ms\n",
      "2:\tlearn: 0.4531433\ttotal: 1.08s\tremaining: 361ms\n",
      "3:\tlearn: 0.4470510\ttotal: 1.46s\tremaining: 0us\n",
      "local 0.504881450488145 max 0.629570747217806\nlocal [4, 0.73, 11] max [4, 0.71, 12]\n",
      "0:\tlearn: 0.4707824\ttotal: 683ms\tremaining: 2.05s\n",
      "1:\tlearn: 0.4594797\ttotal: 1.47s\tremaining: 1.47s\n",
      "2:\tlearn: 0.4522226\ttotal: 2.3s\tremaining: 766ms\n",
      "3:\tlearn: 0.4467699\ttotal: 3.18s\tremaining: 0us\n",
      "local 0.5065298507462687 max 0.629570747217806\nlocal [4, 0.73, 12] max [4, 0.71, 12]\n",
      "0:\tlearn: 0.4707833\ttotal: 1.33s\tremaining: 4s\n",
      "1:\tlearn: 0.4608714\ttotal: 2.75s\tremaining: 2.75s\n",
      "2:\tlearn: 0.4520413\ttotal: 4.23s\tremaining: 1.41s\n",
      "3:\tlearn: 0.4470495\ttotal: 5.9s\tremaining: 0us\n",
      "local 0.5320623916811092 max 0.629570747217806\nlocal [4, 0.73, 13] max [4, 0.71, 12]\n",
      "0:\tlearn: 0.4720472\ttotal: 409ms\tremaining: 1.23s\n",
      "1:\tlearn: 0.4624100\ttotal: 768ms\tremaining: 768ms\n",
      "2:\tlearn: 0.4547241\ttotal: 1.15s\tremaining: 384ms\n",
      "3:\tlearn: 0.4491801\ttotal: 1.53s\tremaining: 0us\n",
      "local 0.5023342670401494 max 0.629570747217806\nlocal [4, 0.74, 11] max [4, 0.71, 12]\n",
      "0:\tlearn: 0.4706267\ttotal: 710ms\tremaining: 2.13s\n",
      "1:\tlearn: 0.4584676\ttotal: 1.47s\tremaining: 1.47s\n",
      "2:\tlearn: 0.4504626\ttotal: 2.32s\tremaining: 773ms\n",
      "3:\tlearn: 0.4442616\ttotal: 3.15s\tremaining: 0us\n",
      "local 0.5237875288683603 max 0.629570747217806\nlocal [4, 0.74, 12] max [4, 0.71, 12]\n",
      "0:\tlearn: 0.4706275\ttotal: 1.4s\tremaining: 4.21s\n",
      "1:\tlearn: 0.4607215\ttotal: 2.82s\tremaining: 2.82s\n",
      "2:\tlearn: 0.4520524\ttotal: 4.31s\tremaining: 1.44s\n",
      "3:\tlearn: 0.4445725\ttotal: 5.85s\tremaining: 0us\n",
      "local 0.49860465116279074 max 0.629570747217806\nlocal [4, 0.74, 13] max [4, 0.71, 12]\n",
      "0:\tlearn: 0.4719080\ttotal: 366ms\tremaining: 1.1s\n",
      "1:\tlearn: 0.4630232\ttotal: 714ms\tremaining: 714ms\n",
      "2:\tlearn: 0.4547020\ttotal: 1.1s\tremaining: 368ms\n",
      "3:\tlearn: 0.4491460\ttotal: 1.49s\tremaining: 0us\n",
      "local 0.503021850302185 max 0.629570747217806\nlocal [4, 0.75, 11] max [4, 0.71, 12]\n",
      "0:\tlearn: 0.4704759\ttotal: 690ms\tremaining: 2.07s\n",
      "1:\tlearn: 0.4590076\ttotal: 1.41s\tremaining: 1.41s\n",
      "2:\tlearn: 0.4511647\ttotal: 2.27s\tremaining: 757ms\n",
      "3:\tlearn: 0.4448907\ttotal: 3.19s\tremaining: 0us\n",
      "local 0.5181776346065348 max 0.629570747217806\nlocal [4, 0.75, 12] max [4, 0.71, 12]\n",
      "0:\tlearn: 0.4704766\ttotal: 1.34s\tremaining: 4.03s\n",
      "1:\tlearn: 0.4605784\ttotal: 2.81s\tremaining: 2.81s\n",
      "2:\tlearn: 0.4518803\ttotal: 4.25s\tremaining: 1.42s\n",
      "3:\tlearn: 0.4443873\ttotal: 5.73s\tremaining: 0us\n",
      "local 0.49860465116279074 max 0.629570747217806\nlocal [4, 0.75, 13] max [4, 0.71, 12]\n",
      "0:\tlearn: 0.4735122\ttotal: 362ms\tremaining: 1.45s\n",
      "1:\tlearn: 0.4633167\ttotal: 711ms\tremaining: 1.07s\n",
      "2:\tlearn: 0.4563104\ttotal: 1.09s\tremaining: 729ms\n",
      "3:\tlearn: 0.4500376\ttotal: 1.49s\tremaining: 373ms\n",
      "4:\tlearn: 0.4447371\ttotal: 1.88s\tremaining: 0us\n",
      "local 0.5248291571753986 max 0.629570747217806\nlocal [5, 0.65, 11] max [4, 0.71, 12]\n",
      "0:\tlearn: 0.4722061\ttotal: 679ms\tremaining: 2.71s\n",
      "1:\tlearn: 0.4606917\ttotal: 1.45s\tremaining: 2.17s\n",
      "2:\tlearn: 0.4540324\ttotal: 2.26s\tremaining: 1.51s\n",
      "3:\tlearn: 0.4471099\ttotal: 3.14s\tremaining: 786ms\n",
      "4:\tlearn: 0.4404747\ttotal: 3.99s\tremaining: 0us\n",
      "local 0.5419813416259439 max 0.629570747217806\nlocal [5, 0.65, 12] max [4, 0.71, 12]\n",
      "0:\tlearn: 0.4722077\ttotal: 1.3s\tremaining: 5.22s\n",
      "1:\tlearn: 0.4623248\ttotal: 2.75s\tremaining: 4.12s\n",
      "2:\tlearn: 0.4534854\ttotal: 4.18s\tremaining: 2.78s\n",
      "3:\tlearn: 0.4481993\ttotal: 5.6s\tremaining: 1.4s\n",
      "4:\tlearn: 0.4445205\ttotal: 7.19s\tremaining: 0us\n",
      "local 0.5254237288135594 max 0.629570747217806\nlocal [5, 0.65, 13] max [4, 0.71, 12]\n",
      "0:\tlearn: 0.4733306\ttotal: 365ms\tremaining: 1.46s\n",
      "1:\tlearn: 0.4631034\ttotal: 706ms\tremaining: 1.06s\n",
      "2:\tlearn: 0.4558911\ttotal: 1.06s\tremaining: 707ms\n",
      "3:\tlearn: 0.4495038\ttotal: 1.42s\tremaining: 356ms\n",
      "4:\tlearn: 0.4440825\ttotal: 1.82s\tremaining: 0us\n",
      "local 0.5578172368990906 max 0.629570747217806\nlocal [5, 0.66, 11] max [4, 0.71, 12]\n",
      "0:\tlearn: 0.4720109\ttotal: 740ms\tremaining: 2.96s\n",
      "1:\tlearn: 0.4604696\ttotal: 1.47s\tremaining: 2.21s\n",
      "2:\tlearn: 0.4537692\ttotal: 2.33s\tremaining: 1.55s\n",
      "3:\tlearn: 0.4468300\ttotal: 3.22s\tremaining: 805ms\n",
      "4:\tlearn: 0.4404388\ttotal: 4.08s\tremaining: 0us\n",
      "local 0.5404676258992805 max 0.629570747217806\nlocal [5, 0.66, 12] max [4, 0.71, 12]\n",
      "0:\tlearn: 0.4720125\ttotal: 1.32s\tremaining: 5.29s\n",
      "1:\tlearn: 0.4621178\ttotal: 2.75s\tremaining: 4.13s\n",
      "2:\tlearn: 0.4532422\ttotal: 4.21s\tremaining: 2.81s\n",
      "3:\tlearn: 0.4465014\ttotal: 5.68s\tremaining: 1.42s\n",
      "4:\tlearn: 0.4424986\ttotal: 7.14s\tremaining: 0us\n",
      "local 0.5336322869955157 max 0.629570747217806\nlocal [5, 0.66, 13] max [4, 0.71, 12]\n",
      "0:\tlearn: 0.4731537\ttotal: 354ms\tremaining: 1.42s\n",
      "1:\tlearn: 0.4628972\ttotal: 712ms\tremaining: 1.07s\n",
      "2:\tlearn: 0.4556571\ttotal: 1.08s\tremaining: 723ms\n",
      "3:\tlearn: 0.4492686\ttotal: 1.46s\tremaining: 365ms\n",
      "4:\tlearn: 0.4438242\ttotal: 1.83s\tremaining: 0us\n",
      "local 0.5578172368990906 max 0.629570747217806\nlocal [5, 0.67, 11] max [4, 0.71, 12]\n",
      "0:\tlearn: 0.4718206\ttotal: 796ms\tremaining: 3.18s\n",
      "1:\tlearn: 0.4602551\ttotal: 1.6s\tremaining: 2.39s\n",
      "2:\tlearn: 0.4535150\ttotal: 2.53s\tremaining: 1.69s\n",
      "3:\tlearn: 0.4465605\ttotal: 3.41s\tremaining: 853ms\n",
      "4:\tlearn: 0.4401679\ttotal: 4.38s\tremaining: 0us\n",
      "local 0.5404676258992805 max 0.629570747217806\nlocal [5, 0.67, 12] max [4, 0.71, 12]\n",
      "0:\tlearn: 0.4718221\ttotal: 1.48s\tremaining: 5.94s\n",
      "1:\tlearn: 0.4619183\ttotal: 3.14s\tremaining: 4.7s\n",
      "2:\tlearn: 0.4530082\ttotal: 4.74s\tremaining: 3.16s\n",
      "3:\tlearn: 0.4462691\ttotal: 6.45s\tremaining: 1.61s\n",
      "4:\tlearn: 0.4422566\ttotal: 8.09s\tremaining: 0us\n",
      "local 0.5335720680393913 max 0.629570747217806\nlocal [5, 0.67, 13] max [4, 0.71, 12]\n",
      "0:\tlearn: 0.4729815\ttotal: 418ms\tremaining: 1.67s\n",
      "1:\tlearn: 0.4626980\ttotal: 827ms\tremaining: 1.24s\n",
      "2:\tlearn: 0.4554318\ttotal: 1.26s\tremaining: 840ms\n",
      "3:\tlearn: 0.4481243\ttotal: 1.64s\tremaining: 410ms\n",
      "4:\tlearn: 0.4422756\ttotal: 2.02s\tremaining: 0us\n",
      "local 0.5549283543204515 max 0.629570747217806\nlocal [5, 0.68, 11] max [4, 0.71, 12]\n",
      "0:\tlearn: 0.4716353\ttotal: 832ms\tremaining: 3.33s\n",
      "1:\tlearn: 0.4600480\ttotal: 1.52s\tremaining: 2.28s\n",
      "2:\tlearn: 0.4532697\ttotal: 2.28s\tremaining: 1.52s\n",
      "3:\tlearn: 0.4463012\ttotal: 3.07s\tremaining: 768ms\n",
      "4:\tlearn: 0.4399083\ttotal: 3.85s\tremaining: 0us\n",
      "local 0.5404676258992805 max 0.629570747217806\nlocal [5, 0.68, 12] max [4, 0.71, 12]\n",
      "0:\tlearn: 0.4716367\ttotal: 1.51s\tremaining: 6.03s\n",
      "1:\tlearn: 0.4617260\ttotal: 3.02s\tremaining: 4.54s\n",
      "2:\tlearn: 0.4527833\ttotal: 4.43s\tremaining: 2.96s\n",
      "3:\tlearn: 0.4460464\ttotal: 5.87s\tremaining: 1.47s\n",
      "4:\tlearn: 0.4420250\ttotal: 7.32s\tremaining: 0us\n",
      "local 0.5335720680393913 max 0.629570747217806\nlocal [5, 0.68, 13] max [4, 0.71, 12]\n",
      "0:\tlearn: 0.4728140\ttotal: 439ms\tremaining: 1.76s\n",
      "1:\tlearn: 0.4625059\ttotal: 798ms\tremaining: 1.2s\n",
      "2:\tlearn: 0.4552152\ttotal: 1.15s\tremaining: 765ms\n",
      "3:\tlearn: 0.4479005\ttotal: 1.51s\tremaining: 377ms\n",
      "4:\tlearn: 0.4420239\ttotal: 1.88s\tremaining: 0us\n",
      "local 0.5543006081668115 max 0.629570747217806\nlocal [5, 0.69, 11] max [4, 0.71, 12]\n",
      "0:\tlearn: 0.4714548\ttotal: 787ms\tremaining: 3.15s\n",
      "1:\tlearn: 0.4614758\ttotal: 1.6s\tremaining: 2.4s\n",
      "2:\tlearn: 0.4548409\ttotal: 2.42s\tremaining: 1.61s\n",
      "3:\tlearn: 0.4483227\ttotal: 3.42s\tremaining: 855ms\n",
      "4:\tlearn: 0.4407298\ttotal: 4.24s\tremaining: 0us\n",
      "local 0.5430879712746859 max 0.629570747217806\nlocal [5, 0.69, 12] max [4, 0.71, 12]\n",
      "0:\tlearn: 0.4714562\ttotal: 1.41s\tremaining: 5.63s\n",
      "1:\tlearn: 0.4615409\ttotal: 2.83s\tremaining: 4.25s\n",
      "2:\tlearn: 0.4525672\ttotal: 4.3s\tremaining: 2.87s\n",
      "3:\tlearn: 0.4458331\ttotal: 5.75s\tremaining: 1.44s\n",
      "4:\tlearn: 0.4418187\ttotal: 7.22s\tremaining: 0us\n",
      "local 0.5441048034934498 max 0.629570747217806\nlocal [5, 0.69, 13] max [4, 0.71, 12]\n",
      "0:\tlearn: 0.4726512\ttotal: 422ms\tremaining: 1.69s\n",
      "1:\tlearn: 0.4619300\ttotal: 786ms\tremaining: 1.18s\n",
      "2:\tlearn: 0.4545477\ttotal: 1.14s\tremaining: 759ms\n",
      "3:\tlearn: 0.4471210\ttotal: 1.5s\tremaining: 375ms\n",
      "4:\tlearn: 0.4404128\ttotal: 1.86s\tremaining: 0us\n",
      "local 0.5619621342512908 max 0.629570747217806\nlocal [5, 0.7, 11] max [4, 0.71, 12]\n",
      "0:\tlearn: 0.4712793\ttotal: 785ms\tremaining: 3.14s\n",
      "1:\tlearn: 0.4596559\ttotal: 1.48s\tremaining: 2.22s\n",
      "2:\tlearn: 0.4530182\ttotal: 2.22s\tremaining: 1.48s\n",
      "3:\tlearn: 0.4447287\ttotal: 3s\tremaining: 751ms\n",
      "4:\tlearn: 0.4391884\ttotal: 3.85s\tremaining: 0us\n",
      "local 0.5277903298689561 max 0.629570747217806\nlocal [5, 0.7, 12] max [4, 0.71, 12]\n",
      "0:\tlearn: 0.4712806\ttotal: 1.59s\tremaining: 6.37s\n",
      "1:\tlearn: 0.4613629\ttotal: 3.24s\tremaining: 4.87s\n",
      "2:\tlearn: 0.4523601\ttotal: 4.9s\tremaining: 3.27s\n",
      "3:\tlearn: 0.4456292\ttotal: 6.46s\tremaining: 1.61s\n",
      "4:\tlearn: 0.4416048\ttotal: 7.96s\tremaining: 0us\n",
      "local 0.543630017452007 max 0.629570747217806\nlocal [5, 0.7, 13] max [4, 0.71, 12]\n",
      "0:\tlearn: 0.4724931\ttotal: 446ms\tremaining: 1.78s\n",
      "1:\tlearn: 0.4627823\ttotal: 819ms\tremaining: 1.23s\n",
      "2:\tlearn: 0.4548902\ttotal: 1.19s\tremaining: 790ms\n",
      "3:\tlearn: 0.4487752\ttotal: 1.55s\tremaining: 389ms\n",
      "4:\tlearn: 0.4421409\ttotal: 1.97s\tremaining: 0us\n",
      "local 0.5337562301767105 max 0.629570747217806\nlocal [5, 0.71, 11] max [4, 0.71, 12]\n",
      "0:\tlearn: 0.4711088\ttotal: 771ms\tremaining: 3.08s\n",
      "1:\tlearn: 0.4600603\ttotal: 1.48s\tremaining: 2.22s\n",
      "2:\tlearn: 0.4526668\ttotal: 2.25s\tremaining: 1.5s\n",
      "3:\tlearn: 0.4132359\ttotal: 3.06s\tremaining: 766ms\n",
      "4:\tlearn: 0.4095767\ttotal: 3.84s\tremaining: 0us\n",
      "local 0.6362204724409448 max 0.6362204724409448\nlocal [5, 0.71, 12] max [5, 0.71, 12]\n",
      "0:\tlearn: 0.4711099\ttotal: 1.36s\tremaining: 5.46s\n",
      "1:\tlearn: 0.4611921\ttotal: 2.82s\tremaining: 4.23s\n",
      "2:\tlearn: 0.4523992\ttotal: 4.26s\tremaining: 2.84s\n",
      "3:\tlearn: 0.4459375\ttotal: 5.69s\tremaining: 1.42s\n",
      "4:\tlearn: 0.4422971\ttotal: 7.14s\tremaining: 0us\n",
      "local 0.5243243243243243 max 0.6362204724409448\nlocal [5, 0.71, 13] max [5, 0.71, 12]\n",
      "0:\tlearn: 0.4723398\ttotal: 405ms\tremaining: 1.62s\n",
      "1:\tlearn: 0.4615717\ttotal: 766ms\tremaining: 1.15s\n",
      "2:\tlearn: 0.4533642\ttotal: 1.12s\tremaining: 749ms\n",
      "3:\tlearn: 0.4472810\ttotal: 1.47s\tremaining: 368ms\n",
      "4:\tlearn: 0.4211699\ttotal: 1.83s\tremaining: 0us\n",
      "local 0.6405331242649942 max 0.6405331242649942\nlocal [5, 0.72, 11] max [5, 0.72, 11]\n",
      "0:\tlearn: 0.4709431\ttotal: 779ms\tremaining: 3.12s\n",
      "1:\tlearn: 0.4598108\ttotal: 1.48s\tremaining: 2.22s\n",
      "2:\tlearn: 0.4521276\ttotal: 2.26s\tremaining: 1.51s\n",
      "3:\tlearn: 0.4452162\ttotal: 3.03s\tremaining: 757ms\n",
      "4:\tlearn: 0.4392365\ttotal: 3.85s\tremaining: 0us\n",
      "local 0.5319926873857403 max 0.6405331242649942\nlocal [5, 0.72, 12] max [5, 0.72, 11]\n",
      "0:\tlearn: 0.4709442\ttotal: 1.54s\tremaining: 6.15s\n",
      "1:\tlearn: 0.4610283\ttotal: 3.12s\tremaining: 4.67s\n",
      "2:\tlearn: 0.4522159\ttotal: 4.72s\tremaining: 3.14s\n",
      "3:\tlearn: 0.4457379\ttotal: 6.3s\tremaining: 1.58s\n",
      "4:\tlearn: 0.4420837\ttotal: 7.83s\tremaining: 0us\n",
      "local 0.5243243243243243 max 0.6405331242649942\nlocal [5, 0.72, 13] max [5, 0.72, 11]\n",
      "0:\tlearn: 0.4721911\ttotal: 461ms\tremaining: 1.84s\n",
      "1:\tlearn: 0.4614028\ttotal: 835ms\tremaining: 1.25s\n",
      "2:\tlearn: 0.4531433\ttotal: 1.25s\tremaining: 833ms\n",
      "3:\tlearn: 0.4470510\ttotal: 1.65s\tremaining: 411ms\n",
      "4:\tlearn: 0.4208641\ttotal: 2.04s\tremaining: 0us\n",
      "local 0.6405638214565388 max 0.6405638214565388\nlocal [5, 0.73, 11] max [5, 0.73, 11]\n",
      "0:\tlearn: 0.4707824\ttotal: 776ms\tremaining: 3.1s\n",
      "1:\tlearn: 0.4594797\ttotal: 1.57s\tremaining: 2.35s\n",
      "2:\tlearn: 0.4522226\ttotal: 2.39s\tremaining: 1.59s\n",
      "3:\tlearn: 0.4467699\ttotal: 3.33s\tremaining: 832ms\n",
      "4:\tlearn: 0.4406821\ttotal: 4.23s\tremaining: 0us\n",
      "local 0.5464333781965006 max 0.6405638214565388\nlocal [5, 0.73, 12] max [5, 0.73, 11]\n",
      "0:\tlearn: 0.4707833\ttotal: 1.38s\tremaining: 5.51s\n",
      "1:\tlearn: 0.4608714\ttotal: 2.81s\tremaining: 4.22s\n",
      "2:\tlearn: 0.4520413\ttotal: 4.38s\tremaining: 2.92s\n",
      "3:\tlearn: 0.4470495\ttotal: 5.93s\tremaining: 1.48s\n",
      "4:\tlearn: 0.4426351\ttotal: 7.46s\tremaining: 0us\n",
      "local 0.5270209915140688 max 0.6405638214565388\nlocal [5, 0.73, 13] max [5, 0.73, 11]\n",
      "0:\tlearn: 0.4720472\ttotal: 391ms\tremaining: 1.56s\n",
      "1:\tlearn: 0.4624100\ttotal: 742ms\tremaining: 1.11s\n",
      "2:\tlearn: 0.4547241\ttotal: 1.15s\tremaining: 765ms\n",
      "3:\tlearn: 0.4491801\ttotal: 1.56s\tremaining: 390ms\n",
      "4:\tlearn: 0.4218287\ttotal: 1.97s\tremaining: 0us\n",
      "local 0.636983553951063 max 0.6405638214565388\nlocal [5, 0.74, 11] max [5, 0.73, 11]\n",
      "0:\tlearn: 0.4706267\ttotal: 733ms\tremaining: 2.93s\n",
      "1:\tlearn: 0.4584676\ttotal: 1.5s\tremaining: 2.25s\n",
      "2:\tlearn: 0.4504626\ttotal: 2.46s\tremaining: 1.64s\n",
      "3:\tlearn: 0.4442616\ttotal: 3.37s\tremaining: 843ms\n",
      "4:\tlearn: 0.4390065\ttotal: 4.22s\tremaining: 0us\n",
      "local 0.5438202247191011 max 0.6405638214565388\nlocal [5, 0.74, 12] max [5, 0.73, 11]\n",
      "0:\tlearn: 0.4706275\ttotal: 1.4s\tremaining: 5.62s\n",
      "1:\tlearn: 0.4607215\ttotal: 2.94s\tremaining: 4.41s\n",
      "2:\tlearn: 0.4520524\ttotal: 4.46s\tremaining: 2.97s\n",
      "3:\tlearn: 0.4445725\ttotal: 5.96s\tremaining: 1.49s\n",
      "4:\tlearn: 0.4406375\ttotal: 7.47s\tremaining: 0us\n",
      "local 0.5111821086261981 max 0.6405638214565388\nlocal [5, 0.74, 13] max [5, 0.73, 11]\n",
      "0:\tlearn: 0.4719080\ttotal: 404ms\tremaining: 1.61s\n",
      "1:\tlearn: 0.4630232\ttotal: 774ms\tremaining: 1.16s\n",
      "2:\tlearn: 0.4547020\ttotal: 1.17s\tremaining: 780ms\n",
      "3:\tlearn: 0.4491460\ttotal: 1.56s\tremaining: 390ms\n",
      "4:\tlearn: 0.4212070\ttotal: 1.96s\tremaining: 0us\n",
      "local 0.6374501992031874 max 0.6405638214565388\nlocal [5, 0.75, 11] max [5, 0.73, 11]\n",
      "0:\tlearn: 0.4704759\ttotal: 706ms\tremaining: 2.82s\n",
      "1:\tlearn: 0.4590076\ttotal: 1.47s\tremaining: 2.21s\n",
      "2:\tlearn: 0.4511647\ttotal: 2.3s\tremaining: 1.53s\n",
      "3:\tlearn: 0.4448907\ttotal: 3.23s\tremaining: 807ms\n",
      "4:\tlearn: 0.4391578\ttotal: 4.15s\tremaining: 0us\n",
      "local 0.5374607447285779 max 0.6405638214565388\nlocal [5, 0.75, 12] max [5, 0.73, 11]\n",
      "0:\tlearn: 0.4704766\ttotal: 1.41s\tremaining: 5.62s\n",
      "1:\tlearn: 0.4605784\ttotal: 2.92s\tremaining: 4.38s\n",
      "2:\tlearn: 0.4518803\ttotal: 4.41s\tremaining: 2.94s\n",
      "3:\tlearn: 0.4443873\ttotal: 5.9s\tremaining: 1.47s\n",
      "4:\tlearn: 0.4404727\ttotal: 7.38s\tremaining: 0us\n",
      "local 0.5138699408822193 max 0.6405638214565388\nlocal [5, 0.75, 13] max [5, 0.73, 11]\n",
      "0:\tlearn: 0.4735122\ttotal: 362ms\tremaining: 1.81s\n",
      "1:\tlearn: 0.4633167\ttotal: 724ms\tremaining: 1.45s\n",
      "2:\tlearn: 0.4563104\ttotal: 1.13s\tremaining: 1.13s\n",
      "3:\tlearn: 0.4500376\ttotal: 1.55s\tremaining: 773ms\n",
      "4:\tlearn: 0.4447371\ttotal: 1.96s\tremaining: 392ms\n",
      "5:\tlearn: 0.4406234\ttotal: 2.37s\tremaining: 0us\n",
      "local 0.5359240849525532 max 0.6405638214565388\nlocal [6, 0.65, 11] max [5, 0.73, 11]\n",
      "0:\tlearn: 0.4722061\ttotal: 661ms\tremaining: 3.31s\n",
      "1:\tlearn: 0.4606917\ttotal: 1.4s\tremaining: 2.79s\n",
      "2:\tlearn: 0.4540324\ttotal: 2.33s\tremaining: 2.33s\n",
      "3:\tlearn: 0.4471099\ttotal: 3.09s\tremaining: 1.54s\n",
      "4:\tlearn: 0.4404747\ttotal: 3.98s\tremaining: 796ms\n",
      "5:\tlearn: 0.4358035\ttotal: 4.82s\tremaining: 0us\n",
      "local 0.5669969840585956 max 0.6405638214565388\nlocal [6, 0.65, 12] max [5, 0.73, 11]\n",
      "0:\tlearn: 0.4722077\ttotal: 1.34s\tremaining: 6.69s\n",
      "1:\tlearn: 0.4623248\ttotal: 2.9s\tremaining: 5.8s\n",
      "2:\tlearn: 0.4534854\ttotal: 4.38s\tremaining: 4.38s\n",
      "3:\tlearn: 0.4481993\ttotal: 5.9s\tremaining: 2.95s\n",
      "4:\tlearn: 0.4445205\ttotal: 7.41s\tremaining: 1.48s\n",
      "5:\tlearn: 0.4409515\ttotal: 8.91s\tremaining: 0us\n",
      "local 0.5403973509933774 max 0.6405638214565388\nlocal [6, 0.65, 13] max [5, 0.73, 11]\n",
      "0:\tlearn: 0.4733306\ttotal: 385ms\tremaining: 1.92s\n",
      "1:\tlearn: 0.4631034\ttotal: 738ms\tremaining: 1.48s\n",
      "2:\tlearn: 0.4558911\ttotal: 1.14s\tremaining: 1.14s\n",
      "3:\tlearn: 0.4495038\ttotal: 1.51s\tremaining: 756ms\n",
      "4:\tlearn: 0.4440825\ttotal: 1.92s\tremaining: 383ms\n",
      "5:\tlearn: 0.4395057\ttotal: 2.31s\tremaining: 0us\n",
      "local 0.5717970765262254 max 0.6405638214565388\nlocal [6, 0.66, 11] max [5, 0.73, 11]\n",
      "0:\tlearn: 0.4720109\ttotal: 711ms\tremaining: 3.56s\n",
      "1:\tlearn: 0.4604696\ttotal: 1.45s\tremaining: 2.89s\n",
      "2:\tlearn: 0.4537692\ttotal: 2.36s\tremaining: 2.36s\n",
      "3:\tlearn: 0.4468300\ttotal: 3.26s\tremaining: 1.63s\n",
      "4:\tlearn: 0.4404388\ttotal: 4.03s\tremaining: 805ms\n",
      "5:\tlearn: 0.4365508\ttotal: 4.94s\tremaining: 0us\n",
      "local 0.5599999999999999 max 0.6405638214565388\nlocal [6, 0.66, 12] max [5, 0.73, 11]\n",
      "0:\tlearn: 0.4720125\ttotal: 1.4s\tremaining: 6.98s\n",
      "1:\tlearn: 0.4621178\ttotal: 2.88s\tremaining: 5.75s\n",
      "2:\tlearn: 0.4532422\ttotal: 4.36s\tremaining: 4.36s\n",
      "3:\tlearn: 0.4465014\ttotal: 5.83s\tremaining: 2.91s\n",
      "4:\tlearn: 0.4424986\ttotal: 7.34s\tremaining: 1.47s\n",
      "5:\tlearn: 0.4397366\ttotal: 8.81s\tremaining: 0us\n",
      "local 0.5350089766606823 max 0.6405638214565388\nlocal [6, 0.66, 13] max [5, 0.73, 11]\n",
      "0:\tlearn: 0.4731537\ttotal: 381ms\tremaining: 1.91s\n",
      "1:\tlearn: 0.4628972\ttotal: 736ms\tremaining: 1.47s\n",
      "2:\tlearn: 0.4556571\ttotal: 1.14s\tremaining: 1.14s\n",
      "3:\tlearn: 0.4492686\ttotal: 1.56s\tremaining: 780ms\n",
      "4:\tlearn: 0.4438242\ttotal: 1.96s\tremaining: 392ms\n",
      "5:\tlearn: 0.4397838\ttotal: 2.36s\tremaining: 0us\n",
      "local 0.572894399315947 max 0.6405638214565388\nlocal [6, 0.67, 11] max [5, 0.73, 11]\n",
      "0:\tlearn: 0.4718206\ttotal: 725ms\tremaining: 3.63s\n",
      "1:\tlearn: 0.4602551\ttotal: 1.51s\tremaining: 3.02s\n",
      "2:\tlearn: 0.4535150\ttotal: 2.41s\tremaining: 2.41s\n",
      "3:\tlearn: 0.4465605\ttotal: 3.29s\tremaining: 1.65s\n",
      "4:\tlearn: 0.4401679\ttotal: 4.15s\tremaining: 831ms\n",
      "5:\tlearn: 0.4363339\ttotal: 5.03s\tremaining: 0us\n",
      "local 0.5602435841670291 max 0.6405638214565388\nlocal [6, 0.67, 12] max [5, 0.73, 11]\n",
      "0:\tlearn: 0.4718221\ttotal: 1.32s\tremaining: 6.6s\n",
      "1:\tlearn: 0.4619183\ttotal: 2.81s\tremaining: 5.62s\n",
      "2:\tlearn: 0.4530082\ttotal: 4.34s\tremaining: 4.34s\n",
      "3:\tlearn: 0.4462691\ttotal: 5.84s\tremaining: 2.92s\n",
      "4:\tlearn: 0.4422566\ttotal: 7.37s\tremaining: 1.47s\n",
      "5:\tlearn: 0.4394038\ttotal: 8.85s\tremaining: 0us\n",
      "local 0.5341113105924595 max 0.6405638214565388\nlocal [6, 0.67, 13] max [5, 0.73, 11]\n",
      "0:\tlearn: 0.4729815\ttotal: 393ms\tremaining: 1.97s\n",
      "1:\tlearn: 0.4626980\ttotal: 795ms\tremaining: 1.59s\n",
      "2:\tlearn: 0.4554318\ttotal: 1.21s\tremaining: 1.21s\n",
      "3:\tlearn: 0.4481243\ttotal: 1.65s\tremaining: 825ms\n",
      "4:\tlearn: 0.4422756\ttotal: 2.08s\tremaining: 416ms\n",
      "5:\tlearn: 0.4377843\ttotal: 2.52s\tremaining: 0us\n",
      "local 0.5643478260869565 max 0.6405638214565388\nlocal [6, 0.68, 11] max [5, 0.73, 11]\n",
      "0:\tlearn: 0.4716353\ttotal: 698ms\tremaining: 3.49s\n",
      "1:\tlearn: 0.4600480\ttotal: 1.45s\tremaining: 2.9s\n",
      "2:\tlearn: 0.4532697\ttotal: 2.3s\tremaining: 2.3s\n",
      "3:\tlearn: 0.4463012\ttotal: 3.13s\tremaining: 1.57s\n",
      "4:\tlearn: 0.4399083\ttotal: 4.01s\tremaining: 802ms\n",
      "5:\tlearn: 0.4349997\ttotal: 4.86s\tremaining: 0us\n",
      "local 0.5759251382390471 max 0.6405638214565388\nlocal [6, 0.68, 12] max [5, 0.73, 11]\n",
      "0:\tlearn: 0.4716367\ttotal: 1.39s\tremaining: 6.94s\n",
      "1:\tlearn: 0.4617260\ttotal: 2.99s\tremaining: 5.99s\n",
      "2:\tlearn: 0.4527833\ttotal: 4.51s\tremaining: 4.51s\n",
      "3:\tlearn: 0.4460464\ttotal: 6.03s\tremaining: 3.02s\n",
      "4:\tlearn: 0.4420250\ttotal: 7.57s\tremaining: 1.51s\n",
      "5:\tlearn: 0.4391396\ttotal: 9.16s\tremaining: 0us\n",
      "local 0.5338716913414087 max 0.6405638214565388\nlocal [6, 0.68, 13] max [5, 0.73, 11]\n",
      "0:\tlearn: 0.4728140\ttotal: 364ms\tremaining: 1.82s\n",
      "1:\tlearn: 0.4625059\ttotal: 713ms\tremaining: 1.43s\n",
      "2:\tlearn: 0.4552152\ttotal: 1.13s\tremaining: 1.13s\n",
      "3:\tlearn: 0.4479005\ttotal: 1.53s\tremaining: 766ms\n",
      "4:\tlearn: 0.4420239\ttotal: 1.93s\tremaining: 386ms\n",
      "5:\tlearn: 0.4375334\ttotal: 2.34s\tremaining: 0us\n",
      "local 0.5638575152041702 max 0.6405638214565388\nlocal [6, 0.69, 11] max [5, 0.73, 11]\n",
      "0:\tlearn: 0.4714548\ttotal: 708ms\tremaining: 3.54s\n",
      "1:\tlearn: 0.4614758\ttotal: 1.52s\tremaining: 3.04s\n",
      "2:\tlearn: 0.4548409\ttotal: 2.4s\tremaining: 2.4s\n",
      "3:\tlearn: 0.4483227\ttotal: 3.2s\tremaining: 1.6s\n",
      "4:\tlearn: 0.4407298\ttotal: 4.09s\tremaining: 819ms\n",
      "5:\tlearn: 0.4372861\ttotal: 4.97s\tremaining: 0us\n",
      "local 0.558181007579135 max 0.6405638214565388\nlocal [6, 0.69, 12] max [5, 0.73, 11]\n",
      "0:\tlearn: 0.4714562\ttotal: 1.38s\tremaining: 6.88s\n",
      "1:\tlearn: 0.4615409\ttotal: 2.87s\tremaining: 5.73s\n",
      "2:\tlearn: 0.4525672\ttotal: 4.38s\tremaining: 4.38s\n",
      "3:\tlearn: 0.4458331\ttotal: 5.91s\tremaining: 2.95s\n",
      "4:\tlearn: 0.4418187\ttotal: 7.38s\tremaining: 1.48s\n",
      "5:\tlearn: 0.4392533\ttotal: 8.89s\tremaining: 0us\n",
      "local 0.552951388888889 max 0.6405638214565388\nlocal [6, 0.69, 13] max [5, 0.73, 11]\n",
      "0:\tlearn: 0.4726512\ttotal: 381ms\tremaining: 1.9s\n",
      "1:\tlearn: 0.4619300\ttotal: 803ms\tremaining: 1.6s\n",
      "2:\tlearn: 0.4545477\ttotal: 1.27s\tremaining: 1.27s\n",
      "3:\tlearn: 0.4471210\ttotal: 1.68s\tremaining: 840ms\n",
      "4:\tlearn: 0.4404128\ttotal: 2.09s\tremaining: 418ms\n",
      "5:\tlearn: 0.4365608\ttotal: 2.47s\tremaining: 0us\n",
      "local 0.5714285714285714 max 0.6405638214565388\nlocal [6, 0.7, 11] max [5, 0.73, 11]\n",
      "0:\tlearn: 0.4712793\ttotal: 692ms\tremaining: 3.46s\n",
      "1:\tlearn: 0.4596559\ttotal: 1.56s\tremaining: 3.12s\n",
      "2:\tlearn: 0.4530182\ttotal: 2.41s\tremaining: 2.41s\n",
      "3:\tlearn: 0.4447287\ttotal: 3.22s\tremaining: 1.61s\n",
      "4:\tlearn: 0.4391884\ttotal: 4.09s\tremaining: 817ms\n",
      "5:\tlearn: 0.4338231\ttotal: 4.98s\tremaining: 0us\n",
      "local 0.5553107095636843 max 0.6405638214565388\nlocal [6, 0.7, 12] max [5, 0.73, 11]\n",
      "0:\tlearn: 0.4712806\ttotal: 1.41s\tremaining: 7.05s\n",
      "1:\tlearn: 0.4613629\ttotal: 2.96s\tremaining: 5.93s\n",
      "2:\tlearn: 0.4523601\ttotal: 4.44s\tremaining: 4.44s\n",
      "3:\tlearn: 0.4456292\ttotal: 5.93s\tremaining: 2.96s\n",
      "4:\tlearn: 0.4416048\ttotal: 7.46s\tremaining: 1.49s\n",
      "5:\tlearn: 0.4390249\ttotal: 8.97s\tremaining: 0us\n",
      "local 0.5533938607868569 max 0.6405638214565388\nlocal [6, 0.7, 13] max [5, 0.73, 11]\n",
      "0:\tlearn: 0.4724931\ttotal: 414ms\tremaining: 2.07s\n",
      "1:\tlearn: 0.4627823\ttotal: 776ms\tremaining: 1.55s\n",
      "2:\tlearn: 0.4548902\ttotal: 1.17s\tremaining: 1.17s\n",
      "3:\tlearn: 0.4487752\ttotal: 1.55s\tremaining: 776ms\n",
      "4:\tlearn: 0.4421409\ttotal: 1.96s\tremaining: 392ms\n",
      "5:\tlearn: 0.4371537\ttotal: 2.36s\tremaining: 0us\n",
      "local 0.5438991445294913 max 0.6405638214565388\nlocal [6, 0.71, 11] max [5, 0.73, 11]\n",
      "0:\tlearn: 0.4711088\ttotal: 706ms\tremaining: 3.53s\n",
      "1:\tlearn: 0.4600603\ttotal: 1.49s\tremaining: 2.99s\n",
      "2:\tlearn: 0.4526668\ttotal: 2.24s\tremaining: 2.24s\n",
      "3:\tlearn: 0.4132359\ttotal: 3.05s\tremaining: 1.52s\n",
      "4:\tlearn: 0.4095767\ttotal: 3.83s\tremaining: 766ms\n",
      "5:\tlearn: 0.4062378\ttotal: 4.65s\tremaining: 0us\n",
      "local 0.6416275430359938 max 0.6416275430359938\nlocal [6, 0.71, 12] max [6, 0.71, 12]\n",
      "0:\tlearn: 0.4711099\ttotal: 1.45s\tremaining: 7.26s\n",
      "1:\tlearn: 0.4611921\ttotal: 2.99s\tremaining: 5.99s\n",
      "2:\tlearn: 0.4523992\ttotal: 4.54s\tremaining: 4.54s\n",
      "3:\tlearn: 0.4459375\ttotal: 6.09s\tremaining: 3.05s\n",
      "4:\tlearn: 0.4422971\ttotal: 7.54s\tremaining: 1.51s\n",
      "5:\tlearn: 0.4383969\ttotal: 9.02s\tremaining: 0us\n",
      "local 0.546971027216857 max 0.6416275430359938\nlocal [6, 0.71, 13] max [6, 0.71, 12]\n",
      "0:\tlearn: 0.4723398\ttotal: 424ms\tremaining: 2.12s\n",
      "1:\tlearn: 0.4615717\ttotal: 793ms\tremaining: 1.59s\n",
      "2:\tlearn: 0.4533642\ttotal: 1.16s\tremaining: 1.16s\n",
      "3:\tlearn: 0.4472810\ttotal: 1.54s\tremaining: 768ms\n",
      "4:\tlearn: 0.4211699\ttotal: 1.91s\tremaining: 382ms\n",
      "5:\tlearn: 0.4185529\ttotal: 2.29s\tremaining: 0us\n",
      "local 0.6420722135007848 max 0.6420722135007848\nlocal [6, 0.72, 11] max [6, 0.72, 11]\n",
      "0:\tlearn: 0.4709431\ttotal: 768ms\tremaining: 3.84s\n",
      "1:\tlearn: 0.4598108\ttotal: 1.54s\tremaining: 3.08s\n",
      "2:\tlearn: 0.4521276\ttotal: 2.33s\tremaining: 2.33s\n",
      "3:\tlearn: 0.4452162\ttotal: 3.1s\tremaining: 1.55s\n",
      "4:\tlearn: 0.4392365\ttotal: 3.91s\tremaining: 783ms\n",
      "5:\tlearn: 0.4348057\ttotal: 4.71s\tremaining: 0us\n",
      "local 0.550179211469534 max 0.6420722135007848\nlocal [6, 0.72, 12] max [6, 0.72, 11]\n",
      "0:\tlearn: 0.4709442\ttotal: 1.44s\tremaining: 7.21s\n",
      "1:\tlearn: 0.4610283\ttotal: 2.9s\tremaining: 5.81s\n",
      "2:\tlearn: 0.4522159\ttotal: 4.38s\tremaining: 4.38s\n",
      "3:\tlearn: 0.4457379\ttotal: 5.93s\tremaining: 2.97s\n",
      "4:\tlearn: 0.4420837\ttotal: 7.42s\tremaining: 1.48s\n",
      "5:\tlearn: 0.4299340\ttotal: 8.89s\tremaining: 0us\n",
      "local 0.577476714648603 max 0.6420722135007848\nlocal [6, 0.72, 13] max [6, 0.72, 11]\n",
      "0:\tlearn: 0.4721911\ttotal: 435ms\tremaining: 2.17s\n",
      "1:\tlearn: 0.4614028\ttotal: 803ms\tremaining: 1.61s\n",
      "2:\tlearn: 0.4531433\ttotal: 1.18s\tremaining: 1.18s\n",
      "3:\tlearn: 0.4470510\ttotal: 1.55s\tremaining: 777ms\n",
      "4:\tlearn: 0.4208641\ttotal: 1.93s\tremaining: 386ms\n",
      "5:\tlearn: 0.4184599\ttotal: 2.3s\tremaining: 0us\n",
      "local 0.6428851430811447 max 0.6428851430811447\nlocal [6, 0.73, 11] max [6, 0.73, 11]\n",
      "0:\tlearn: 0.4707824\ttotal: 765ms\tremaining: 3.83s\n",
      "1:\tlearn: 0.4594797\ttotal: 1.5s\tremaining: 3s\n",
      "2:\tlearn: 0.4522226\ttotal: 2.26s\tremaining: 2.26s\n",
      "3:\tlearn: 0.4467699\ttotal: 3.06s\tremaining: 1.53s\n",
      "4:\tlearn: 0.4406821\ttotal: 3.88s\tremaining: 775ms\n",
      "5:\tlearn: 0.4358557\ttotal: 4.67s\tremaining: 0us\n",
      "local 0.5557046979865772 max 0.6428851430811447\nlocal [6, 0.73, 12] max [6, 0.73, 11]\n",
      "0:\tlearn: 0.4707833\ttotal: 1.44s\tremaining: 7.21s\n",
      "1:\tlearn: 0.4608714\ttotal: 2.9s\tremaining: 5.8s\n",
      "2:\tlearn: 0.4520413\ttotal: 4.4s\tremaining: 4.4s\n",
      "3:\tlearn: 0.4470495\ttotal: 5.86s\tremaining: 2.93s\n",
      "4:\tlearn: 0.4426351\ttotal: 7.37s\tremaining: 1.47s\n",
      "5:\tlearn: 0.4382979\ttotal: 8.83s\tremaining: 0us\n",
      "local 0.5479808944854538 max 0.6428851430811447\nlocal [6, 0.73, 13] max [6, 0.73, 11]\n",
      "0:\tlearn: 0.4720472\ttotal: 430ms\tremaining: 2.15s\n",
      "1:\tlearn: 0.4624100\ttotal: 802ms\tremaining: 1.6s\n",
      "2:\tlearn: 0.4547241\ttotal: 1.18s\tremaining: 1.18s\n",
      "3:\tlearn: 0.4491801\ttotal: 1.55s\tremaining: 777ms\n",
      "4:\tlearn: 0.4218287\ttotal: 1.93s\tremaining: 385ms\n",
      "5:\tlearn: 0.4185720\ttotal: 2.3s\tremaining: 0us\n",
      "local 0.6374340235485181 max 0.6428851430811447\nlocal [6, 0.74, 11] max [6, 0.73, 11]\n",
      "0:\tlearn: 0.4706267\ttotal: 790ms\tremaining: 3.95s\n",
      "1:\tlearn: 0.4584676\ttotal: 1.52s\tremaining: 3.05s\n",
      "2:\tlearn: 0.4504626\ttotal: 2.28s\tremaining: 2.28s\n",
      "3:\tlearn: 0.4442616\ttotal: 3.07s\tremaining: 1.53s\n",
      "4:\tlearn: 0.4390065\ttotal: 3.86s\tremaining: 773ms\n",
      "5:\tlearn: 0.4336468\ttotal: 4.65s\tremaining: 0us\n",
      "local 0.5821517931609675 max 0.6428851430811447\nlocal [6, 0.74, 12] max [6, 0.73, 11]\n",
      "0:\tlearn: 0.4706275\ttotal: 1.48s\tremaining: 7.39s\n",
      "1:\tlearn: 0.4607215\ttotal: 3s\tremaining: 6s\n",
      "2:\tlearn: 0.4520524\ttotal: 4.53s\tremaining: 4.53s\n",
      "3:\tlearn: 0.4445725\ttotal: 6.01s\tremaining: 3.01s\n",
      "4:\tlearn: 0.4406375\ttotal: 7.53s\tremaining: 1.5s\n",
      "5:\tlearn: 0.4351756\ttotal: 8.97s\tremaining: 0us\n",
      "local 0.5295444294091114 max 0.6428851430811447\nlocal [6, 0.74, 13] max [6, 0.73, 11]\n",
      "0:\tlearn: 0.4719080\ttotal: 429ms\tremaining: 2.14s\n",
      "1:\tlearn: 0.4630232\ttotal: 818ms\tremaining: 1.64s\n",
      "2:\tlearn: 0.4547020\ttotal: 1.19s\tremaining: 1.19s\n",
      "3:\tlearn: 0.4491460\ttotal: 1.57s\tremaining: 785ms\n",
      "4:\tlearn: 0.4212070\ttotal: 1.95s\tremaining: 390ms\n",
      "5:\tlearn: 0.4178335\ttotal: 2.35s\tremaining: 0us\n",
      "local 0.6325203252032521 max 0.6428851430811447\nlocal [6, 0.75, 11] max [6, 0.73, 11]\n",
      "0:\tlearn: 0.4704759\ttotal: 768ms\tremaining: 3.84s\n",
      "1:\tlearn: 0.4590076\ttotal: 1.52s\tremaining: 3.05s\n",
      "2:\tlearn: 0.4511647\ttotal: 2.37s\tremaining: 2.37s\n",
      "3:\tlearn: 0.4448907\ttotal: 3.23s\tremaining: 1.62s\n",
      "4:\tlearn: 0.4391578\ttotal: 4.02s\tremaining: 804ms\n",
      "5:\tlearn: 0.4345113\ttotal: 4.79s\tremaining: 0us\n",
      "local 0.5666666666666667 max 0.6428851430811447\nlocal [6, 0.75, 12] max [6, 0.73, 11]\n",
      "0:\tlearn: 0.4704766\ttotal: 1.38s\tremaining: 6.92s\n",
      "1:\tlearn: 0.4605784\ttotal: 2.9s\tremaining: 5.8s\n",
      "2:\tlearn: 0.4518803\ttotal: 4.36s\tremaining: 4.36s\n",
      "3:\tlearn: 0.4443873\ttotal: 5.91s\tremaining: 2.95s\n",
      "4:\tlearn: 0.4404727\ttotal: 7.4s\tremaining: 1.48s\n",
      "5:\tlearn: 0.4372115\ttotal: 8.89s\tremaining: 0us\n",
      "local 0.5374449339207048 max 0.6428851430811447\nlocal [6, 0.75, 13] max [6, 0.73, 11]\n",
      "0:\tlearn: 0.4735122\ttotal: 406ms\tremaining: 2.44s\n",
      "1:\tlearn: 0.4633167\ttotal: 776ms\tremaining: 1.94s\n",
      "2:\tlearn: 0.4563104\ttotal: 1.19s\tremaining: 1.59s\n",
      "3:\tlearn: 0.4500376\ttotal: 1.61s\tremaining: 1.21s\n",
      "4:\tlearn: 0.4447371\ttotal: 2.02s\tremaining: 810ms\n",
      "5:\tlearn: 0.4406234\ttotal: 2.45s\tremaining: 409ms\n",
      "6:\tlearn: 0.4372324\ttotal: 2.89s\tremaining: 0us\n",
      "local 0.5508284818629646 max 0.6428851430811447\nlocal [7, 0.65, 11] max [6, 0.73, 11]\n",
      "0:\tlearn: 0.4722061\ttotal: 713ms\tremaining: 4.28s\n",
      "1:\tlearn: 0.4606917\ttotal: 1.51s\tremaining: 3.78s\n",
      "2:\tlearn: 0.4540324\ttotal: 2.39s\tremaining: 3.18s\n",
      "3:\tlearn: 0.4471099\ttotal: 3.33s\tremaining: 2.5s\n",
      "4:\tlearn: 0.4404747\ttotal: 4.19s\tremaining: 1.68s\n",
      "5:\tlearn: 0.4358035\ttotal: 5.03s\tremaining: 839ms\n",
      "6:\tlearn: 0.4307241\ttotal: 5.92s\tremaining: 0us\n",
      "local 0.5630728939327805 max 0.6428851430811447\nlocal [7, 0.65, 12] max [6, 0.73, 11]\n",
      "0:\tlearn: 0.4722077\ttotal: 1.34s\tremaining: 8.04s\n",
      "1:\tlearn: 0.4623248\ttotal: 2.84s\tremaining: 7.1s\n",
      "2:\tlearn: 0.4534854\ttotal: 4.35s\tremaining: 5.8s\n",
      "3:\tlearn: 0.4481993\ttotal: 5.91s\tremaining: 4.43s\n",
      "4:\tlearn: 0.4445205\ttotal: 7.48s\tremaining: 2.99s\n",
      "5:\tlearn: 0.4409515\ttotal: 8.96s\tremaining: 1.49s\n",
      "6:\tlearn: 0.4366605\ttotal: 10.5s\tremaining: 0us\n",
      "local 0.55324790101635 max 0.6428851430811447\nlocal [7, 0.65, 13] max [6, 0.73, 11]\n",
      "0:\tlearn: 0.4733306\ttotal: 371ms\tremaining: 2.22s\n",
      "1:\tlearn: 0.4631034\ttotal: 727ms\tremaining: 1.82s\n",
      "2:\tlearn: 0.4558911\ttotal: 1.11s\tremaining: 1.48s\n",
      "3:\tlearn: 0.4495038\ttotal: 1.53s\tremaining: 1.14s\n",
      "4:\tlearn: 0.4440825\ttotal: 1.94s\tremaining: 775ms\n",
      "5:\tlearn: 0.4395057\ttotal: 2.35s\tremaining: 392ms\n",
      "6:\tlearn: 0.4356416\ttotal: 2.76s\tremaining: 0us\n",
      "local 0.5846414934238439 max 0.6428851430811447\nlocal [7, 0.66, 11] max [6, 0.73, 11]\n",
      "0:\tlearn: 0.4720109\ttotal: 735ms\tremaining: 4.41s\n",
      "1:\tlearn: 0.4604696\ttotal: 1.5s\tremaining: 3.74s\n",
      "2:\tlearn: 0.4537692\ttotal: 2.39s\tremaining: 3.19s\n",
      "3:\tlearn: 0.4468300\ttotal: 3.24s\tremaining: 2.43s\n",
      "4:\tlearn: 0.4404388\ttotal: 4.11s\tremaining: 1.64s\n",
      "5:\tlearn: 0.4365508\ttotal: 5.01s\tremaining: 835ms\n",
      "6:\tlearn: 0.4064830\ttotal: 5.85s\tremaining: 0us\n",
      "local 0.6497175141242938 max 0.6497175141242938\nlocal [7, 0.66, 12] max [7, 0.66, 12]\n",
      "0:\tlearn: 0.4720125\ttotal: 1.35s\tremaining: 8.13s\n",
      "1:\tlearn: 0.4621178\ttotal: 2.85s\tremaining: 7.13s\n",
      "2:\tlearn: 0.4532422\ttotal: 4.39s\tremaining: 5.85s\n",
      "3:\tlearn: 0.4465014\ttotal: 5.87s\tremaining: 4.4s\n",
      "4:\tlearn: 0.4424986\ttotal: 7.37s\tremaining: 2.95s\n",
      "5:\tlearn: 0.4397366\ttotal: 8.91s\tremaining: 1.48s\n",
      "6:\tlearn: 0.4356062\ttotal: 10.4s\tremaining: 0us\n",
      "local 0.5597897503285152 max 0.6497175141242938\nlocal [7, 0.66, 13] max [7, 0.66, 12]\n",
      "0:\tlearn: 0.4731537\ttotal: 369ms\tremaining: 2.21s\n",
      "1:\tlearn: 0.4628972\ttotal: 717ms\tremaining: 1.79s\n",
      "2:\tlearn: 0.4556571\ttotal: 1.09s\tremaining: 1.46s\n",
      "3:\tlearn: 0.4492686\ttotal: 1.5s\tremaining: 1.13s\n",
      "4:\tlearn: 0.4438242\ttotal: 1.93s\tremaining: 771ms\n",
      "5:\tlearn: 0.4397838\ttotal: 2.34s\tremaining: 390ms\n",
      "6:\tlearn: 0.4363745\ttotal: 2.73s\tremaining: 0us\n",
      "local 0.5737564322469983 max 0.6497175141242938\nlocal [7, 0.67, 11] max [7, 0.66, 12]\n",
      "0:\tlearn: 0.4718206\ttotal: 721ms\tremaining: 4.33s\n",
      "1:\tlearn: 0.4602551\ttotal: 1.5s\tremaining: 3.74s\n",
      "2:\tlearn: 0.4535150\ttotal: 2.4s\tremaining: 3.21s\n",
      "3:\tlearn: 0.4465605\ttotal: 3.27s\tremaining: 2.45s\n",
      "4:\tlearn: 0.4401679\ttotal: 4.14s\tremaining: 1.66s\n",
      "5:\tlearn: 0.4363339\ttotal: 5.04s\tremaining: 840ms\n",
      "6:\tlearn: 0.4328411\ttotal: 5.83s\tremaining: 0us\n",
      "local 0.5641906397595534 max 0.6497175141242938\nlocal [7, 0.67, 12] max [7, 0.66, 12]\n",
      "0:\tlearn: 0.4718221\ttotal: 1.36s\tremaining: 8.19s\n",
      "1:\tlearn: 0.4619183\ttotal: 2.84s\tremaining: 7.1s\n",
      "2:\tlearn: 0.4530082\ttotal: 4.36s\tremaining: 5.82s\n",
      "3:\tlearn: 0.4462691\ttotal: 5.9s\tremaining: 4.43s\n",
      "4:\tlearn: 0.4422566\ttotal: 7.45s\tremaining: 2.98s\n",
      "5:\tlearn: 0.4394038\ttotal: 8.96s\tremaining: 1.49s\n",
      "6:\tlearn: 0.4353076\ttotal: 10.5s\tremaining: 0us\n",
      "local 0.5596851770878881 max 0.6497175141242938\nlocal [7, 0.67, 13] max [7, 0.66, 12]\n",
      "0:\tlearn: 0.4729815\ttotal: 378ms\tremaining: 2.27s\n",
      "1:\tlearn: 0.4626980\ttotal: 736ms\tremaining: 1.84s\n",
      "2:\tlearn: 0.4554318\ttotal: 1.12s\tremaining: 1.5s\n",
      "3:\tlearn: 0.4481243\ttotal: 1.54s\tremaining: 1.15s\n",
      "4:\tlearn: 0.4422756\ttotal: 1.94s\tremaining: 777ms\n",
      "5:\tlearn: 0.4377843\ttotal: 2.35s\tremaining: 392ms\n",
      "6:\tlearn: 0.4349418\ttotal: 2.76s\tremaining: 0us\n",
      "local 0.5774345774345774 max 0.6497175141242938\nlocal [7, 0.68, 11] max [7, 0.66, 12]\n",
      "0:\tlearn: 0.4716353\ttotal: 724ms\tremaining: 4.34s\n",
      "1:\tlearn: 0.4600480\ttotal: 1.53s\tremaining: 3.82s\n",
      "2:\tlearn: 0.4532697\ttotal: 2.49s\tremaining: 3.32s\n",
      "3:\tlearn: 0.4463012\ttotal: 3.29s\tremaining: 2.47s\n",
      "4:\tlearn: 0.4399083\ttotal: 4.14s\tremaining: 1.66s\n",
      "5:\tlearn: 0.4349997\ttotal: 5.06s\tremaining: 843ms\n",
      "6:\tlearn: 0.4309196\ttotal: 5.97s\tremaining: 0us\n",
      "local 0.5863521482729571 max 0.6497175141242938\nlocal [7, 0.68, 12] max [7, 0.66, 12]\n",
      "0:\tlearn: 0.4716367\ttotal: 1.37s\tremaining: 8.23s\n",
      "1:\tlearn: 0.4617260\ttotal: 2.85s\tremaining: 7.12s\n",
      "2:\tlearn: 0.4527833\ttotal: 4.4s\tremaining: 5.87s\n",
      "3:\tlearn: 0.4460464\ttotal: 5.89s\tremaining: 4.42s\n",
      "4:\tlearn: 0.4420250\ttotal: 7.43s\tremaining: 2.97s\n",
      "5:\tlearn: 0.4391396\ttotal: 8.97s\tremaining: 1.5s\n",
      "6:\tlearn: 0.4349878\ttotal: 10.5s\tremaining: 0us\n",
      "local 0.5606986899563319 max 0.6497175141242938\nlocal [7, 0.68, 13] max [7, 0.66, 12]\n",
      "0:\tlearn: 0.4728140\ttotal: 370ms\tremaining: 2.22s\n",
      "1:\tlearn: 0.4625059\ttotal: 712ms\tremaining: 1.78s\n",
      "2:\tlearn: 0.4552152\ttotal: 1.09s\tremaining: 1.46s\n",
      "3:\tlearn: 0.4479005\ttotal: 1.49s\tremaining: 1.12s\n",
      "4:\tlearn: 0.4420239\ttotal: 1.92s\tremaining: 769ms\n",
      "5:\tlearn: 0.4375334\ttotal: 2.33s\tremaining: 389ms\n",
      "6:\tlearn: 0.4346749\ttotal: 2.74s\tremaining: 0us\n",
      "local 0.5774345774345774 max 0.6497175141242938\nlocal [7, 0.69, 11] max [7, 0.66, 12]\n",
      "0:\tlearn: 0.4714548\ttotal: 688ms\tremaining: 4.13s\n",
      "1:\tlearn: 0.4614758\ttotal: 1.5s\tremaining: 3.74s\n",
      "2:\tlearn: 0.4548409\ttotal: 2.37s\tremaining: 3.16s\n",
      "3:\tlearn: 0.4483227\ttotal: 3.28s\tremaining: 2.46s\n",
      "4:\tlearn: 0.4407298\ttotal: 4.09s\tremaining: 1.64s\n",
      "5:\tlearn: 0.4372861\ttotal: 4.96s\tremaining: 826ms\n",
      "6:\tlearn: 0.4318322\ttotal: 5.87s\tremaining: 0us\n",
      "local 0.5610184372256366 max 0.6497175141242938\nlocal [7, 0.69, 12] max [7, 0.66, 12]\n",
      "0:\tlearn: 0.4714562\ttotal: 1.35s\tremaining: 8.12s\n",
      "1:\tlearn: 0.4615409\ttotal: 2.89s\tremaining: 7.23s\n",
      "2:\tlearn: 0.4525672\ttotal: 4.41s\tremaining: 5.87s\n",
      "3:\tlearn: 0.4458331\ttotal: 5.88s\tremaining: 4.41s\n",
      "4:\tlearn: 0.4418187\ttotal: 7.39s\tremaining: 2.95s\n",
      "5:\tlearn: 0.4392533\ttotal: 8.9s\tremaining: 1.48s\n",
      "6:\tlearn: 0.4343978\ttotal: 10.4s\tremaining: 0us\n",
      "local 0.5668541756815232 max 0.6497175141242938\nlocal [7, 0.69, 13] max [7, 0.66, 12]\n",
      "0:\tlearn: 0.4726512\ttotal: 372ms\tremaining: 2.23s\n",
      "1:\tlearn: 0.4619300\ttotal: 782ms\tremaining: 1.95s\n",
      "2:\tlearn: 0.4545477\ttotal: 1.2s\tremaining: 1.6s\n",
      "3:\tlearn: 0.4471210\ttotal: 1.61s\tremaining: 1.21s\n",
      "4:\tlearn: 0.4404128\ttotal: 2.03s\tremaining: 813ms\n",
      "5:\tlearn: 0.4365608\ttotal: 2.44s\tremaining: 407ms\n",
      "6:\tlearn: 0.4331735\ttotal: 2.85s\tremaining: 0us\n",
      "local 0.5798969072164949 max 0.6497175141242938\nlocal [7, 0.7, 11] max [7, 0.66, 12]\n",
      "0:\tlearn: 0.4712793\ttotal: 710ms\tremaining: 4.26s\n",
      "1:\tlearn: 0.4596559\ttotal: 1.58s\tremaining: 3.96s\n",
      "2:\tlearn: 0.4530182\ttotal: 2.44s\tremaining: 3.25s\n",
      "3:\tlearn: 0.4447287\ttotal: 3.25s\tremaining: 2.44s\n",
      "4:\tlearn: 0.4391884\ttotal: 4.12s\tremaining: 1.65s\n",
      "5:\tlearn: 0.4338231\ttotal: 4.99s\tremaining: 832ms\n",
      "6:\tlearn: 0.4287046\ttotal: 5.76s\tremaining: 0us\n",
      "local 0.5653710247349824 max 0.6497175141242938\nlocal [7, 0.7, 12] max [7, 0.66, 12]\n",
      "0:\tlearn: 0.4712806\ttotal: 1.45s\tremaining: 8.69s\n",
      "1:\tlearn: 0.4613629\ttotal: 2.91s\tremaining: 7.27s\n",
      "2:\tlearn: 0.4523601\ttotal: 4.43s\tremaining: 5.91s\n",
      "3:\tlearn: 0.4456292\ttotal: 5.95s\tremaining: 4.46s\n",
      "4:\tlearn: 0.4416048\ttotal: 7.52s\tremaining: 3.01s\n",
      "5:\tlearn: 0.4390249\ttotal: 9.01s\tremaining: 1.5s\n",
      "6:\tlearn: 0.4341717\ttotal: 10.6s\tremaining: 0us\n",
      "local 0.5672287073065283 max 0.6497175141242938\nlocal [7, 0.7, 13] max [7, 0.66, 12]\n",
      "0:\tlearn: 0.4724931\ttotal: 372ms\tremaining: 2.23s\n",
      "1:\tlearn: 0.4627823\ttotal: 737ms\tremaining: 1.84s\n",
      "2:\tlearn: 0.4548902\ttotal: 1.12s\tremaining: 1.49s\n",
      "3:\tlearn: 0.4487752\ttotal: 1.5s\tremaining: 1.13s\n",
      "4:\tlearn: 0.4421409\ttotal: 1.91s\tremaining: 763ms\n",
      "5:\tlearn: 0.4371537\ttotal: 2.29s\tremaining: 382ms\n",
      "6:\tlearn: 0.4340581\ttotal: 2.68s\tremaining: 0us\n",
      "local 0.554561717352415 max 0.6497175141242938\nlocal [7, 0.71, 11] max [7, 0.66, 12]\n",
      "0:\tlearn: 0.4711088\ttotal: 724ms\tremaining: 4.34s\n",
      "1:\tlearn: 0.4600603\ttotal: 1.56s\tremaining: 3.9s\n",
      "2:\tlearn: 0.4526668\ttotal: 2.38s\tremaining: 3.18s\n",
      "3:\tlearn: 0.4132359\ttotal: 3.38s\tremaining: 2.53s\n",
      "4:\tlearn: 0.4095767\ttotal: 4.25s\tremaining: 1.7s\n",
      "5:\tlearn: 0.4062378\ttotal: 5.05s\tremaining: 841ms\n",
      "6:\tlearn: 0.4032814\ttotal: 5.92s\tremaining: 0us\n",
      "local 0.6460211681693453 max 0.6497175141242938\nlocal [7, 0.71, 12] max [7, 0.66, 12]\n",
      "0:\tlearn: 0.4711099\ttotal: 1.42s\tremaining: 8.52s\n",
      "1:\tlearn: 0.4611921\ttotal: 2.9s\tremaining: 7.26s\n",
      "2:\tlearn: 0.4523992\ttotal: 4.44s\tremaining: 5.93s\n",
      "3:\tlearn: 0.4459375\ttotal: 6s\tremaining: 4.5s\n",
      "4:\tlearn: 0.4422971\ttotal: 7.5s\tremaining: 3s\n",
      "5:\tlearn: 0.4383969\ttotal: 9.11s\tremaining: 1.52s\n",
      "6:\tlearn: 0.4341062\ttotal: 10.6s\tremaining: 0us\n",
      "local 0.5540897097625329 max 0.6497175141242938\nlocal [7, 0.71, 13] max [7, 0.66, 12]\n",
      "0:\tlearn: 0.4723398\ttotal: 441ms\tremaining: 2.64s\n",
      "1:\tlearn: 0.4615717\ttotal: 803ms\tremaining: 2.01s\n",
      "2:\tlearn: 0.4533642\ttotal: 1.19s\tremaining: 1.58s\n",
      "3:\tlearn: 0.4472810\ttotal: 1.59s\tremaining: 1.19s\n",
      "4:\tlearn: 0.4211699\ttotal: 1.98s\tremaining: 791ms\n",
      "5:\tlearn: 0.4185529\ttotal: 2.35s\tremaining: 393ms\n",
      "6:\tlearn: 0.4156067\ttotal: 2.75s\tremaining: 0us\n",
      "local 0.6409752261108927 max 0.6497175141242938\nlocal [7, 0.72, 11] max [7, 0.66, 12]\n",
      "0:\tlearn: 0.4709431\ttotal: 756ms\tremaining: 4.54s\n",
      "1:\tlearn: 0.4598108\ttotal: 1.54s\tremaining: 3.85s\n",
      "2:\tlearn: 0.4521276\ttotal: 2.38s\tremaining: 3.17s\n",
      "3:\tlearn: 0.4452162\ttotal: 3.22s\tremaining: 2.41s\n",
      "4:\tlearn: 0.4392365\ttotal: 4.13s\tremaining: 1.65s\n",
      "5:\tlearn: 0.4348057\ttotal: 4.95s\tremaining: 824ms\n",
      "6:\tlearn: 0.4164194\ttotal: 5.84s\tremaining: 0us\n",
      "local 0.6280857952246054 max 0.6497175141242938\nlocal [7, 0.72, 12] max [7, 0.66, 12]\n",
      "0:\tlearn: 0.4709442\ttotal: 1.41s\tremaining: 8.46s\n",
      "1:\tlearn: 0.4610283\ttotal: 2.9s\tremaining: 7.26s\n",
      "2:\tlearn: 0.4522159\ttotal: 4.41s\tremaining: 5.88s\n",
      "3:\tlearn: 0.4457379\ttotal: 5.88s\tremaining: 4.41s\n",
      "4:\tlearn: 0.4420837\ttotal: 7.38s\tremaining: 2.95s\n",
      "5:\tlearn: 0.4299340\ttotal: 8.86s\tremaining: 1.48s\n",
      "6:\tlearn: 0.4262388\ttotal: 10.3s\tremaining: 0us\n",
      "local 0.5831570038087177 max 0.6497175141242938\nlocal [7, 0.72, 13] max [7, 0.66, 12]\n",
      "0:\tlearn: 0.4721911\ttotal: 374ms\tremaining: 2.25s\n",
      "1:\tlearn: 0.4614028\ttotal: 723ms\tremaining: 1.81s\n",
      "2:\tlearn: 0.4531433\ttotal: 1.1s\tremaining: 1.46s\n",
      "3:\tlearn: 0.4470510\ttotal: 1.49s\tremaining: 1.12s\n",
      "4:\tlearn: 0.4208641\ttotal: 1.9s\tremaining: 759ms\n",
      "5:\tlearn: 0.4184599\ttotal: 2.28s\tremaining: 380ms\n",
      "6:\tlearn: 0.4154877\ttotal: 2.68s\tremaining: 0us\n",
      "local 0.6428571428571428 max 0.6497175141242938\nlocal [7, 0.73, 11] max [7, 0.66, 12]\n",
      "0:\tlearn: 0.4707824\ttotal: 762ms\tremaining: 4.57s\n",
      "1:\tlearn: 0.4594797\ttotal: 1.61s\tremaining: 4.02s\n",
      "2:\tlearn: 0.4522226\ttotal: 2.43s\tremaining: 3.24s\n",
      "3:\tlearn: 0.4467699\ttotal: 3.28s\tremaining: 2.46s\n",
      "4:\tlearn: 0.4406821\ttotal: 4.07s\tremaining: 1.63s\n",
      "5:\tlearn: 0.4358557\ttotal: 4.95s\tremaining: 824ms\n",
      "6:\tlearn: 0.4322214\ttotal: 5.81s\tremaining: 0us\n",
      "local 0.5616377392078327 max 0.6497175141242938\nlocal [7, 0.73, 12] max [7, 0.66, 12]\n",
      "0:\tlearn: 0.4707833\ttotal: 1.37s\tremaining: 8.23s\n",
      "1:\tlearn: 0.4608714\ttotal: 2.85s\tremaining: 7.13s\n",
      "2:\tlearn: 0.4520413\ttotal: 4.38s\tremaining: 5.83s\n",
      "3:\tlearn: 0.4470495\ttotal: 5.97s\tremaining: 4.48s\n",
      "4:\tlearn: 0.4426351\ttotal: 7.47s\tremaining: 2.99s\n",
      "5:\tlearn: 0.4382979\ttotal: 8.97s\tremaining: 1.5s\n",
      "6:\tlearn: 0.4351063\ttotal: 10.5s\tremaining: 0us\n",
      "local 0.5624461670973299 max 0.6497175141242938\nlocal [7, 0.73, 13] max [7, 0.66, 12]\n",
      "0:\tlearn: 0.4720472\ttotal: 381ms\tremaining: 2.28s\n",
      "1:\tlearn: 0.4624100\ttotal: 736ms\tremaining: 1.84s\n",
      "2:\tlearn: 0.4547241\ttotal: 1.14s\tremaining: 1.52s\n",
      "3:\tlearn: 0.4491801\ttotal: 1.55s\tremaining: 1.16s\n",
      "4:\tlearn: 0.4218287\ttotal: 1.93s\tremaining: 772ms\n",
      "5:\tlearn: 0.4185720\ttotal: 2.33s\tremaining: 388ms\n",
      "6:\tlearn: 0.4166413\ttotal: 2.73s\tremaining: 0us\n",
      "local 0.6375510204081632 max 0.6497175141242938\nlocal [7, 0.74, 11] max [7, 0.66, 12]\n",
      "0:\tlearn: 0.4706267\ttotal: 716ms\tremaining: 4.29s\n",
      "1:\tlearn: 0.4584676\ttotal: 1.46s\tremaining: 3.66s\n",
      "2:\tlearn: 0.4504626\ttotal: 2.43s\tremaining: 3.24s\n",
      "3:\tlearn: 0.4442616\ttotal: 3.2s\tremaining: 2.4s\n",
      "4:\tlearn: 0.4390065\ttotal: 4.16s\tremaining: 1.66s\n",
      "5:\tlearn: 0.4336468\ttotal: 4.99s\tremaining: 832ms\n",
      "6:\tlearn: 0.4303722\ttotal: 5.92s\tremaining: 0us\n",
      "local 0.5902602854743914 max 0.6497175141242938\nlocal [7, 0.74, 12] max [7, 0.66, 12]\n",
      "0:\tlearn: 0.4706275\ttotal: 1.37s\tremaining: 8.23s\n",
      "1:\tlearn: 0.4607215\ttotal: 2.85s\tremaining: 7.12s\n",
      "2:\tlearn: 0.4520524\ttotal: 4.38s\tremaining: 5.83s\n",
      "3:\tlearn: 0.4445725\ttotal: 5.88s\tremaining: 4.41s\n",
      "4:\tlearn: 0.4406375\ttotal: 7.35s\tremaining: 2.94s\n",
      "5:\tlearn: 0.4351756\ttotal: 8.86s\tremaining: 1.48s\n",
      "6:\tlearn: 0.4303704\ttotal: 10.4s\tremaining: 0us\n",
      "local 0.5497335701598579 max 0.6497175141242938\nlocal [7, 0.74, 13] max [7, 0.66, 12]\n",
      "0:\tlearn: 0.4719080\ttotal: 390ms\tremaining: 2.34s\n",
      "1:\tlearn: 0.4630232\ttotal: 762ms\tremaining: 1.9s\n",
      "2:\tlearn: 0.4547020\ttotal: 1.14s\tremaining: 1.52s\n",
      "3:\tlearn: 0.4491460\ttotal: 1.52s\tremaining: 1.14s\n",
      "4:\tlearn: 0.4212070\ttotal: 1.91s\tremaining: 764ms\n",
      "5:\tlearn: 0.4178335\ttotal: 2.3s\tremaining: 384ms\n",
      "6:\tlearn: 0.4159369\ttotal: 2.7s\tremaining: 0us\n",
      "local 0.6397388820889434 max 0.6497175141242938\nlocal [7, 0.75, 11] max [7, 0.66, 12]\n",
      "0:\tlearn: 0.4704759\ttotal: 729ms\tremaining: 4.38s\n",
      "1:\tlearn: 0.4590076\ttotal: 1.55s\tremaining: 3.87s\n",
      "2:\tlearn: 0.4511647\ttotal: 2.36s\tremaining: 3.15s\n",
      "3:\tlearn: 0.4448907\ttotal: 3.22s\tremaining: 2.41s\n",
      "4:\tlearn: 0.4391578\ttotal: 4.14s\tremaining: 1.66s\n",
      "5:\tlearn: 0.4345113\ttotal: 5s\tremaining: 833ms\n",
      "6:\tlearn: 0.4309205\ttotal: 5.89s\tremaining: 0us\n",
      "local 0.5760407816482583 max 0.6497175141242938\nlocal [7, 0.75, 12] max [7, 0.66, 12]\n",
      "0:\tlearn: 0.4704766\ttotal: 1.41s\tremaining: 8.48s\n",
      "1:\tlearn: 0.4605784\ttotal: 2.89s\tremaining: 7.22s\n",
      "2:\tlearn: 0.4518803\ttotal: 4.4s\tremaining: 5.87s\n",
      "3:\tlearn: 0.4443873\ttotal: 6.03s\tremaining: 4.52s\n",
      "4:\tlearn: 0.4404727\ttotal: 7.66s\tremaining: 3.06s\n",
      "5:\tlearn: 0.4372115\ttotal: 9.21s\tremaining: 1.53s\n",
      "6:\tlearn: 0.4321801\ttotal: 10.8s\tremaining: 0us\n",
      "local 0.5481874447391689 max 0.6497175141242938\nlocal [7, 0.75, 13] max [7, 0.66, 12]\ncontador = 35\n[7, 0.66, 12]\n0.6497175141242938\n"
     ],
     "output_type": "stream"
    }
   ],
   "source": [
    "resultados_de_prediccion = pd.read_csv('sample_submission.csv',index_col=['id'])\n",
    "cantidadDePredicciones = 0\n",
    "#catboost\n",
    "######verificacion de hiperparamentros\n",
    "hiperparametros_max = [0,0,0]\n",
    "res_max = 0\n",
    "contador = 0\n",
    "for iter in range(4,8,1):\n",
    "    for lR in range(65,76,1):\n",
    "        learningRate = lR / 100\n",
    "        for profundidad in range(11,14):\n",
    "            # Initialize CatBoostRegressor\n",
    "            model = CatBoostRegressor(iterations=iter,\n",
    "                                      learning_rate=learningRate,\n",
    "                                      depth=profundidad)\n",
    "            # Fit model\n",
    "            model.fit(train_set, train_label)\n",
    "            # Get predictions\n",
    "            predicion = model.predict(test_set)\n",
    "            #cantidadDePredicciones,resultados_de_prediccion = ensamble(resultados_de_prediccion,cantidadDePredicciones,predicion)\n",
    "            #print(\"prediccion = \",cantidadDePredicciones)\n",
    "            \n",
    "            ######verificacion de hiperparamentros\n",
    "            df = pd.DataFrame()\n",
    "            cantidadDePredicciones,resultados_de_prediccion = ensamble(resultados_de_prediccion,cantidadDePredicciones,predicion)\n",
    "            maximo_local = F1(resultados_de_prediccion)\n",
    "            if (maximo_local <= 0.53):\n",
    "                contador += 1\n",
    "            if(maximo_local > res_max):\n",
    "                hiperparametros_max = [iter,learningRate,profundidad]\n",
    "                res_max = maximo_local\n",
    "            print(\"local {} max {}\".format(maximo_local,res_max))\n",
    "            print(\"local {} max {}\".format([iter,learningRate,profundidad],hiperparametros_max))\n",
    "            resultados_de_prediccion = pd.read_csv('sample_submission.csv',index_col=['id'])\n",
    "            cantidadDePredicciones = 0\n",
    "print(\"contador = {}\".format(contador))\n",
    "print(hiperparametros_max)\n",
    "print(res_max)"
   ]
  },
  {
   "cell_type": "code",
   "execution_count": 90,
   "outputs": [
    {
     "name": "stdout",
     "text": [
      "0:\tlearn: 0.4720109\ttotal: 652ms\tremaining: 3.91s\n",
      "1:\tlearn: 0.4604696\ttotal: 1.48s\tremaining: 3.69s\n",
      "2:\tlearn: 0.4537692\ttotal: 2.25s\tremaining: 3.01s\n",
      "3:\tlearn: 0.4468300\ttotal: 3.21s\tremaining: 2.41s\n",
      "4:\tlearn: 0.4404388\ttotal: 3.99s\tremaining: 1.6s\n",
      "5:\tlearn: 0.4365508\ttotal: 4.93s\tremaining: 821ms\n",
      "6:\tlearn: 0.4064830\ttotal: 5.81s\tremaining: 0us\n"
     ],
     "output_type": "stream"
    }
   ],
   "source": [
    "resultados_de_prediccion = pd.read_csv('sample_submission.csv',index_col=['id'])\n",
    "# Initialize CatBoostRegressor\n",
    "model = CatBoostRegressor(iterations=7,\n",
    "                          learning_rate=0.66,\n",
    "                          depth=12)\n",
    "# Fit model\n",
    "model.fit(train_set, train_label)\n",
    "# Get predictions\n",
    "predicion = model.predict(test_set)\n",
    "cantidadDePredicciones,resultados_de_prediccion = ensamble(resultados_de_prediccion,0,predicion)"
   ],
   "metadata": {
    "collapsed": false,
    "pycharm": {
     "name": "#%%\n",
     "is_executing": false
    }
   }
  },
  {
   "cell_type": "code",
   "execution_count": 91,
   "outputs": [
    {
     "name": "stdout",
     "text": [
      "1\n"
     ],
     "output_type": "stream"
    },
    {
     "data": {
      "text/plain": "                    target\nid                        \n0                     0.00\n2                     1.00\n3                     1.00\n9                     0.00\n11                    0.00\n...                    ...\n10861                 1.00\n10865                 1.00\n10868                 1.00\n10874                 1.00\n10875                 1.00\n\n[3263 rows x 1 columns]",
      "text/html": "<div>\n<style scoped>\n    .dataframe tbody tr th:only-of-type {\n        vertical-align: middle;\n    }\n\n    .dataframe tbody tr th {\n        vertical-align: top;\n    }\n\n    .dataframe thead th {\n        text-align: right;\n    }\n</style>\n<table border=\"1\" class=\"dataframe\">\n  <thead>\n    <tr style=\"text-align: right;\">\n      <th></th>\n      <th>target</th>\n    </tr>\n    <tr>\n      <th>id</th>\n      <th></th>\n    </tr>\n  </thead>\n  <tbody>\n    <tr>\n      <th>0</th>\n      <td>0.00</td>\n    </tr>\n    <tr>\n      <th>2</th>\n      <td>1.00</td>\n    </tr>\n    <tr>\n      <th>3</th>\n      <td>1.00</td>\n    </tr>\n    <tr>\n      <th>9</th>\n      <td>0.00</td>\n    </tr>\n    <tr>\n      <th>11</th>\n      <td>0.00</td>\n    </tr>\n    <tr>\n      <th>...</th>\n      <td>...</td>\n    </tr>\n    <tr>\n      <th>10861</th>\n      <td>1.00</td>\n    </tr>\n    <tr>\n      <th>10865</th>\n      <td>1.00</td>\n    </tr>\n    <tr>\n      <th>10868</th>\n      <td>1.00</td>\n    </tr>\n    <tr>\n      <th>10874</th>\n      <td>1.00</td>\n    </tr>\n    <tr>\n      <th>10875</th>\n      <td>1.00</td>\n    </tr>\n  </tbody>\n</table>\n<p>3263 rows × 1 columns</p>\n</div>"
     },
     "metadata": {},
     "output_type": "execute_result",
     "execution_count": 91
    }
   ],
   "source": [
    "resultados_de_prediccion = calcular_resultado_de_prediccion(resultados_de_prediccion,cantidadDePredicciones)\n",
    "print(cantidadDePredicciones)\n",
    "resultados_de_prediccion"
   ],
   "metadata": {
    "collapsed": false,
    "pycharm": {
     "name": "#%%\n",
     "is_executing": false
    }
   }
  },
  {
   "cell_type": "code",
   "execution_count": 92,
   "metadata": {
    "pycharm": {
     "is_executing": false,
     "name": "#%%\n"
    }
   },
   "outputs": [
    {
     "name": "stdout",
     "text": [
      "0.6497175141242938\n"
     ],
     "output_type": "stream"
    }
   ],
   "source": [
    "print(F1(resultados_de_prediccion))\n"
   ]
  },
  {
   "cell_type": "code",
   "execution_count": 82,
   "metadata": {
    "pycharm": {
     "is_executing": false,
     "name": "#%%\n"
    },
    "scrolled": true
   },
   "outputs": [
    {
     "data": {
      "text/plain": "target\n0    4342\n1    3271\ndtype: int64"
     },
     "metadata": {},
     "output_type": "execute_result",
     "execution_count": 82
    }
   ],
   "source": [
    "#para arbol verificar si esta balanceado o no\n",
    "tweets_entrenamiento = tweets_original_entrenamiento\n",
    "tweets_entrenamiento.groupby([\"target\"]).size()"
   ]
  },
  {
   "cell_type": "markdown",
   "metadata": {},
   "source": [
    "# XGBoost"
   ]
  },
  {
   "cell_type": "code",
   "execution_count": 102,
   "outputs": [],
   "source": [
    "regex = re.compile(r\"\\[|\\]|<\", re.IGNORECASE)\n",
    "def eliminarErrorDeValores(df):\n",
    "    df.columns = [regex.sub(\"_\", col) if any(x in str(col) for x in set(('[', ']', '<'))) else col for col in df.columns.values]\n",
    "    return df"
   ],
   "metadata": {
    "collapsed": false,
    "pycharm": {
     "name": "#%%\n",
     "is_executing": false
    }
   }
  },
  {
   "cell_type": "code",
   "execution_count": 103,
   "outputs": [],
   "source": [
    "test_set = eliminarErrorDeValores(test_set)\n",
    "train_set = eliminarErrorDeValores(train_set)"
   ],
   "metadata": {
    "collapsed": false,
    "pycharm": {
     "name": "#%%\n",
     "is_executing": false
    }
   }
  },
  {
   "cell_type": "code",
   "execution_count": 121,
   "outputs": [
    {
     "name": "stdout",
     "text": [
      "[23:52:21] WARNING: C:\\Users\\Administrator\\workspace\\xgboost-win64_release_1.1.0\\src\\learner.cc:480: \nParameters: { objetive } might not be used.\n\n  This may not be accurate due to some parameters are only used in language bindings but\n  passed down to XGBoost core.  Or some parameters are not used but slip through this\n  verification. Please open an issue if you find above cases.\n\n\n",
      "local 0.3649851632047478 max 0.3649851632047478\n",
      "[23:53:22] WARNING: C:\\Users\\Administrator\\workspace\\xgboost-win64_release_1.1.0\\src\\learner.cc:480: \nParameters: { objetive } might not be used.\n\n  This may not be accurate due to some parameters are only used in language bindings but\n  passed down to XGBoost core.  Or some parameters are not used but slip through this\n  verification. Please open an issue if you find above cases.\n\n\n",
      "local 0.363103953147877 max 0.3649851632047478\n",
      "[23:54:26] WARNING: C:\\Users\\Administrator\\workspace\\xgboost-win64_release_1.1.0\\src\\learner.cc:480: \nParameters: { objetive } might not be used.\n\n  This may not be accurate due to some parameters are only used in language bindings but\n  passed down to XGBoost core.  Or some parameters are not used but slip through this\n  verification. Please open an issue if you find above cases.\n\n\n",
      "local 0.3652173913043478 max 0.3652173913043478\n",
      "[23:55:31] WARNING: C:\\Users\\Administrator\\workspace\\xgboost-win64_release_1.1.0\\src\\learner.cc:480: \nParameters: { objetive } might not be used.\n\n  This may not be accurate due to some parameters are only used in language bindings but\n  passed down to XGBoost core.  Or some parameters are not used but slip through this\n  verification. Please open an issue if you find above cases.\n\n\n",
      "local 0.3590462833099579 max 0.3652173913043478\n",
      "[23:56:36] WARNING: C:\\Users\\Administrator\\workspace\\xgboost-win64_release_1.1.0\\src\\learner.cc:480: \nParameters: { objetive } might not be used.\n\n  This may not be accurate due to some parameters are only used in language bindings but\n  passed down to XGBoost core.  Or some parameters are not used but slip through this\n  verification. Please open an issue if you find above cases.\n\n\n",
      "local 0.3605150214592275 max 0.3652173913043478\n",
      "[23:57:29] WARNING: C:\\Users\\Administrator\\workspace\\xgboost-win64_release_1.1.0\\src\\learner.cc:480: \nParameters: { objetive } might not be used.\n\n  This may not be accurate due to some parameters are only used in language bindings but\n  passed down to XGBoost core.  Or some parameters are not used but slip through this\n  verification. Please open an issue if you find above cases.\n\n\n",
      "local 0.3705799151343706 max 0.3705799151343706\n",
      "[23:58:12] WARNING: C:\\Users\\Administrator\\workspace\\xgboost-win64_release_1.1.0\\src\\learner.cc:480: \nParameters: { objetive } might not be used.\n\n  This may not be accurate due to some parameters are only used in language bindings but\n  passed down to XGBoost core.  Or some parameters are not used but slip through this\n  verification. Please open an issue if you find above cases.\n\n\n",
      "local 0.35112359550561795 max 0.3705799151343706\n",
      "[23:59:16] WARNING: C:\\Users\\Administrator\\workspace\\xgboost-win64_release_1.1.0\\src\\learner.cc:480: \nParameters: { objetive } might not be used.\n\n  This may not be accurate due to some parameters are only used in language bindings but\n  passed down to XGBoost core.  Or some parameters are not used but slip through this\n  verification. Please open an issue if you find above cases.\n\n\n",
      "local 0.3776223776223776 max 0.3776223776223776\n",
      "[00:00:00] WARNING: C:\\Users\\Administrator\\workspace\\xgboost-win64_release_1.1.0\\src\\learner.cc:480: \nParameters: { objetive } might not be used.\n\n  This may not be accurate due to some parameters are only used in language bindings but\n  passed down to XGBoost core.  Or some parameters are not used but slip through this\n  verification. Please open an issue if you find above cases.\n\n\n",
      "local 0.3912448700410397 max 0.3912448700410397\n",
      "[00:00:42] WARNING: C:\\Users\\Administrator\\workspace\\xgboost-win64_release_1.1.0\\src\\learner.cc:480: \nParameters: { objetive } might not be used.\n\n  This may not be accurate due to some parameters are only used in language bindings but\n  passed down to XGBoost core.  Or some parameters are not used but slip through this\n  verification. Please open an issue if you find above cases.\n\n\n",
      "local 0.3590462833099579 max 0.3912448700410397\n",
      "[00:01:48] WARNING: C:\\Users\\Administrator\\workspace\\xgboost-win64_release_1.1.0\\src\\learner.cc:480: \nParameters: { objetive } might not be used.\n\n  This may not be accurate due to some parameters are only used in language bindings but\n  passed down to XGBoost core.  Or some parameters are not used but slip through this\n  verification. Please open an issue if you find above cases.\n\n\n",
      "local 0.37222222222222223 max 0.3912448700410397\n",
      "[00:02:54] WARNING: C:\\Users\\Administrator\\workspace\\xgboost-win64_release_1.1.0\\src\\learner.cc:480: \nParameters: { objetive } might not be used.\n\n  This may not be accurate due to some parameters are only used in language bindings but\n  passed down to XGBoost core.  Or some parameters are not used but slip through this\n  verification. Please open an issue if you find above cases.\n\n\n",
      "local 0.3492063492063492 max 0.3912448700410397\n",
      "[00:03:59] WARNING: C:\\Users\\Administrator\\workspace\\xgboost-win64_release_1.1.0\\src\\learner.cc:480: \nParameters: { objetive } might not be used.\n\n  This may not be accurate due to some parameters are only used in language bindings but\n  passed down to XGBoost core.  Or some parameters are not used but slip through this\n  verification. Please open an issue if you find above cases.\n\n\n",
      "local 0.3595166163141994 max 0.3912448700410397\n",
      "[00:05:30] WARNING: C:\\Users\\Administrator\\workspace\\xgboost-win64_release_1.1.0\\src\\learner.cc:480: \nParameters: { objetive } might not be used.\n\n  This may not be accurate due to some parameters are only used in language bindings but\n  passed down to XGBoost core.  Or some parameters are not used but slip through this\n  verification. Please open an issue if you find above cases.\n\n\n",
      "local 0.3609898107714702 max 0.3912448700410397\n",
      "[00:07:01] WARNING: C:\\Users\\Administrator\\workspace\\xgboost-win64_release_1.1.0\\src\\learner.cc:480: \nParameters: { objetive } might not be used.\n\n  This may not be accurate due to some parameters are only used in language bindings but\n  passed down to XGBoost core.  Or some parameters are not used but slip through this\n  verification. Please open an issue if you find above cases.\n\n\n",
      "local 0.37321937321937326 max 0.3912448700410397\n",
      "[00:08:33] WARNING: C:\\Users\\Administrator\\workspace\\xgboost-win64_release_1.1.0\\src\\learner.cc:480: \nParameters: { objetive } might not be used.\n\n  This may not be accurate due to some parameters are only used in language bindings but\n  passed down to XGBoost core.  Or some parameters are not used but slip through this\n  verification. Please open an issue if you find above cases.\n\n\n",
      "local 0.3507779349363508 max 0.3912448700410397\n",
      "[00:10:05] WARNING: C:\\Users\\Administrator\\workspace\\xgboost-win64_release_1.1.0\\src\\learner.cc:480: \nParameters: { objetive } might not be used.\n\n  This may not be accurate due to some parameters are only used in language bindings but\n  passed down to XGBoost core.  Or some parameters are not used but slip through this\n  verification. Please open an issue if you find above cases.\n\n\n",
      "local 0.3542857142857142 max 0.3912448700410397\n",
      "[00:11:35] WARNING: C:\\Users\\Administrator\\workspace\\xgboost-win64_release_1.1.0\\src\\learner.cc:480: \nParameters: { objetive } might not be used.\n\n  This may not be accurate due to some parameters are only used in language bindings but\n  passed down to XGBoost core.  Or some parameters are not used but slip through this\n  verification. Please open an issue if you find above cases.\n\n\n",
      "local 0.3651685393258427 max 0.3912448700410397\n",
      "[00:12:45] WARNING: C:\\Users\\Administrator\\workspace\\xgboost-win64_release_1.1.0\\src\\learner.cc:480: \nParameters: { objetive } might not be used.\n\n  This may not be accurate due to some parameters are only used in language bindings but\n  passed down to XGBoost core.  Or some parameters are not used but slip through this\n  verification. Please open an issue if you find above cases.\n\n\n",
      "local 0.3664335664335664 max 0.3912448700410397\n",
      "[00:14:15] WARNING: C:\\Users\\Administrator\\workspace\\xgboost-win64_release_1.1.0\\src\\learner.cc:480: \nParameters: { objetive } might not be used.\n\n  This may not be accurate due to some parameters are only used in language bindings but\n  passed down to XGBoost core.  Or some parameters are not used but slip through this\n  verification. Please open an issue if you find above cases.\n\n\n",
      "local 0.3661971830985915 max 0.3912448700410397\n",
      "[00:15:43] WARNING: C:\\Users\\Administrator\\workspace\\xgboost-win64_release_1.1.0\\src\\learner.cc:480: \nParameters: { objetive } might not be used.\n\n  This may not be accurate due to some parameters are only used in language bindings but\n  passed down to XGBoost core.  Or some parameters are not used but slip through this\n  verification. Please open an issue if you find above cases.\n\n\n",
      "local 0.37047353760445684 max 0.3912448700410397\n",
      "[00:16:56] WARNING: C:\\Users\\Administrator\\workspace\\xgboost-win64_release_1.1.0\\src\\learner.cc:480: \nParameters: { objetive } might not be used.\n\n  This may not be accurate due to some parameters are only used in language bindings but\n  passed down to XGBoost core.  Or some parameters are not used but slip through this\n  verification. Please open an issue if you find above cases.\n\n\n",
      "local 0.3676268861454046 max 0.3912448700410397\n",
      "[00:18:25] WARNING: C:\\Users\\Administrator\\workspace\\xgboost-win64_release_1.1.0\\src\\learner.cc:480: \nParameters: { objetive } might not be used.\n\n  This may not be accurate due to some parameters are only used in language bindings but\n  passed down to XGBoost core.  Or some parameters are not used but slip through this\n  verification. Please open an issue if you find above cases.\n\n\n",
      "local 0.373113854595336 max 0.3912448700410397\n",
      "[00:19:24] WARNING: C:\\Users\\Administrator\\workspace\\xgboost-win64_release_1.1.0\\src\\learner.cc:480: \nParameters: { objetive } might not be used.\n\n  This may not be accurate due to some parameters are only used in language bindings but\n  passed down to XGBoost core.  Or some parameters are not used but slip through this\n  verification. Please open an issue if you find above cases.\n\n\n",
      "local 0.3756756756756757 max 0.3912448700410397\n",
      "[00:20:54] WARNING: C:\\Users\\Administrator\\workspace\\xgboost-win64_release_1.1.0\\src\\learner.cc:480: \nParameters: { objetive } might not be used.\n\n  This may not be accurate due to some parameters are only used in language bindings but\n  passed down to XGBoost core.  Or some parameters are not used but slip through this\n  verification. Please open an issue if you find above cases.\n\n\n",
      "local 0.35098335854765506 max 0.3912448700410397\n",
      "[00:22:52] WARNING: C:\\Users\\Administrator\\workspace\\xgboost-win64_release_1.1.0\\src\\learner.cc:480: \nParameters: { objetive } might not be used.\n\n  This may not be accurate due to some parameters are only used in language bindings but\n  passed down to XGBoost core.  Or some parameters are not used but slip through this\n  verification. Please open an issue if you find above cases.\n\n\n",
      "local 0.36676217765042984 max 0.3912448700410397\n",
      "[00:24:47] WARNING: C:\\Users\\Administrator\\workspace\\xgboost-win64_release_1.1.0\\src\\learner.cc:480: \nParameters: { objetive } might not be used.\n\n  This may not be accurate due to some parameters are only used in language bindings but\n  passed down to XGBoost core.  Or some parameters are not used but slip through this\n  verification. Please open an issue if you find above cases.\n\n\n",
      "local 0.3851640513552068 max 0.3912448700410397\n",
      "[00:26:44] WARNING: C:\\Users\\Administrator\\workspace\\xgboost-win64_release_1.1.0\\src\\learner.cc:480: \nParameters: { objetive } might not be used.\n\n  This may not be accurate due to some parameters are only used in language bindings but\n  passed down to XGBoost core.  Or some parameters are not used but slip through this\n  verification. Please open an issue if you find above cases.\n\n\n",
      "local 0.3616133518776078 max 0.3912448700410397\n",
      "[00:28:37] WARNING: C:\\Users\\Administrator\\workspace\\xgboost-win64_release_1.1.0\\src\\learner.cc:480: \nParameters: { objetive } might not be used.\n\n  This may not be accurate due to some parameters are only used in language bindings but\n  passed down to XGBoost core.  Or some parameters are not used but slip through this\n  verification. Please open an issue if you find above cases.\n\n\n",
      "local 0.3703703703703704 max 0.3912448700410397\n",
      "[00:30:28] WARNING: C:\\Users\\Administrator\\workspace\\xgboost-win64_release_1.1.0\\src\\learner.cc:480: \nParameters: { objetive } might not be used.\n\n  This may not be accurate due to some parameters are only used in language bindings but\n  passed down to XGBoost core.  Or some parameters are not used but slip through this\n  verification. Please open an issue if you find above cases.\n\n\n",
      "local 0.391123439667129 max 0.3912448700410397\n",
      "[00:31:50] WARNING: C:\\Users\\Administrator\\workspace\\xgboost-win64_release_1.1.0\\src\\learner.cc:480: \nParameters: { objetive } might not be used.\n\n  This may not be accurate due to some parameters are only used in language bindings but\n  passed down to XGBoost core.  Or some parameters are not used but slip through this\n  verification. Please open an issue if you find above cases.\n\n\n",
      "local 0.36235955056179775 max 0.3912448700410397\n",
      "[00:33:43] WARNING: C:\\Users\\Administrator\\workspace\\xgboost-win64_release_1.1.0\\src\\learner.cc:480: \nParameters: { objetive } might not be used.\n\n  This may not be accurate due to some parameters are only used in language bindings but\n  passed down to XGBoost core.  Or some parameters are not used but slip through this\n  verification. Please open an issue if you find above cases.\n\n\n",
      "local 0.4016506189821183 max 0.4016506189821183\n",
      "[00:34:50] WARNING: C:\\Users\\Administrator\\workspace\\xgboost-win64_release_1.1.0\\src\\learner.cc:480: \nParameters: { objetive } might not be used.\n\n  This may not be accurate due to some parameters are only used in language bindings but\n  passed down to XGBoost core.  Or some parameters are not used but slip through this\n  verification. Please open an issue if you find above cases.\n\n\n",
      "local 0.3800277392510402 max 0.4016506189821183\n",
      "[00:36:18] WARNING: C:\\Users\\Administrator\\workspace\\xgboost-win64_release_1.1.0\\src\\learner.cc:480: \nParameters: { objetive } might not be used.\n\n  This may not be accurate due to some parameters are only used in language bindings but\n  passed down to XGBoost core.  Or some parameters are not used but slip through this\n  verification. Please open an issue if you find above cases.\n\n\n",
      "local 0.36512261580381467 max 0.4016506189821183\n",
      "[00:38:14] WARNING: C:\\Users\\Administrator\\workspace\\xgboost-win64_release_1.1.0\\src\\learner.cc:480: \nParameters: { objetive } might not be used.\n\n  This may not be accurate due to some parameters are only used in language bindings but\n  passed down to XGBoost core.  Or some parameters are not used but slip through this\n  verification. Please open an issue if you find above cases.\n\n\n",
      "local 0.3767313019390582 max 0.4016506189821183\n",
      "[00:39:14] WARNING: C:\\Users\\Administrator\\workspace\\xgboost-win64_release_1.1.0\\src\\learner.cc:480: \nParameters: { objetive } might not be used.\n\n  This may not be accurate due to some parameters are only used in language bindings but\n  passed down to XGBoost core.  Or some parameters are not used but slip through this\n  verification. Please open an issue if you find above cases.\n\n\n",
      "local 0.37119113573407203 max 0.4016506189821183\n",
      "[00:40:50] WARNING: C:\\Users\\Administrator\\workspace\\xgboost-win64_release_1.1.0\\src\\learner.cc:480: \nParameters: { objetive } might not be used.\n\n  This may not be accurate due to some parameters are only used in language bindings but\n  passed down to XGBoost core.  Or some parameters are not used but slip through this\n  verification. Please open an issue if you find above cases.\n\n\n",
      "local 0.36896046852122993 max 0.4016506189821183\n",
      "[00:42:04] WARNING: C:\\Users\\Administrator\\workspace\\xgboost-win64_release_1.1.0\\src\\learner.cc:480: \nParameters: { objetive } might not be used.\n\n  This may not be accurate due to some parameters are only used in language bindings but\n  passed down to XGBoost core.  Or some parameters are not used but slip through this\n  verification. Please open an issue if you find above cases.\n\n\n",
      "local 0.3646723646723647 max 0.4016506189821183\n",
      "[00:43:16] WARNING: C:\\Users\\Administrator\\workspace\\xgboost-win64_release_1.1.0\\src\\learner.cc:480: \nParameters: { objetive } might not be used.\n\n  This may not be accurate due to some parameters are only used in language bindings but\n  passed down to XGBoost core.  Or some parameters are not used but slip through this\n  verification. Please open an issue if you find above cases.\n\n\n",
      "local 0.3551136363636364 max 0.4016506189821183\n",
      "[00:44:29] WARNING: C:\\Users\\Administrator\\workspace\\xgboost-win64_release_1.1.0\\src\\learner.cc:480: \nParameters: { objetive } might not be used.\n\n  This may not be accurate due to some parameters are only used in language bindings but\n  passed down to XGBoost core.  Or some parameters are not used but slip through this\n  verification. Please open an issue if you find above cases.\n\n\n",
      "local 0.3686382393397524 max 0.4016506189821183\n",
      "[00:45:41] WARNING: C:\\Users\\Administrator\\workspace\\xgboost-win64_release_1.1.0\\src\\learner.cc:480: \nParameters: { objetive } might not be used.\n\n  This may not be accurate due to some parameters are only used in language bindings but\n  passed down to XGBoost core.  Or some parameters are not used but slip through this\n  verification. Please open an issue if you find above cases.\n\n\n",
      "local 0.35127478753541075 max 0.4016506189821183\n",
      "[00:46:40] WARNING: C:\\Users\\Administrator\\workspace\\xgboost-win64_release_1.1.0\\src\\learner.cc:480: \nParameters: { objetive } might not be used.\n\n  This may not be accurate due to some parameters are only used in language bindings but\n  passed down to XGBoost core.  Or some parameters are not used but slip through this\n  verification. Please open an issue if you find above cases.\n\n\n",
      "local 0.3561253561253561 max 0.4016506189821183\n",
      "[00:47:39] WARNING: C:\\Users\\Administrator\\workspace\\xgboost-win64_release_1.1.0\\src\\learner.cc:480: \nParameters: { objetive } might not be used.\n\n  This may not be accurate due to some parameters are only used in language bindings but\n  passed down to XGBoost core.  Or some parameters are not used but slip through this\n  verification. Please open an issue if you find above cases.\n\n\n",
      "local 0.35833333333333334 max 0.4016506189821183\n",
      "[00:48:53] WARNING: C:\\Users\\Administrator\\workspace\\xgboost-win64_release_1.1.0\\src\\learner.cc:480: \nParameters: { objetive } might not be used.\n\n  This may not be accurate due to some parameters are only used in language bindings but\n  passed down to XGBoost core.  Or some parameters are not used but slip through this\n  verification. Please open an issue if you find above cases.\n\n\n",
      "local 0.3575418994413408 max 0.4016506189821183\n",
      "[00:49:48] WARNING: C:\\Users\\Administrator\\workspace\\xgboost-win64_release_1.1.0\\src\\learner.cc:480: \nParameters: { objetive } might not be used.\n\n  This may not be accurate due to some parameters are only used in language bindings but\n  passed down to XGBoost core.  Or some parameters are not used but slip through this\n  verification. Please open an issue if you find above cases.\n\n\n",
      "local 0.3955739972337483 max 0.4016506189821183\n",
      "[00:50:31] WARNING: C:\\Users\\Administrator\\workspace\\xgboost-win64_release_1.1.0\\src\\learner.cc:480: \nParameters: { objetive } might not be used.\n\n  This may not be accurate due to some parameters are only used in language bindings but\n  passed down to XGBoost core.  Or some parameters are not used but slip through this\n  verification. Please open an issue if you find above cases.\n\n\n",
      "local 0.36187845303867405 max 0.4016506189821183\n",
      "[00:51:43] WARNING: C:\\Users\\Administrator\\workspace\\xgboost-win64_release_1.1.0\\src\\learner.cc:480: \nParameters: { objetive } might not be used.\n\n  This may not be accurate due to some parameters are only used in language bindings but\n  passed down to XGBoost core.  Or some parameters are not used but slip through this\n  verification. Please open an issue if you find above cases.\n\n\n",
      "local 0.3810848400556328 max 0.4016506189821183\n",
      "[00:52:58] WARNING: C:\\Users\\Administrator\\workspace\\xgboost-win64_release_1.1.0\\src\\learner.cc:480: \nParameters: { objetive } might not be used.\n\n  This may not be accurate due to some parameters are only used in language bindings but\n  passed down to XGBoost core.  Or some parameters are not used but slip through this\n  verification. Please open an issue if you find above cases.\n\n\n",
      "local 0.37709497206703907 max 0.4016506189821183\n",
      "[00:54:01] WARNING: C:\\Users\\Administrator\\workspace\\xgboost-win64_release_1.1.0\\src\\learner.cc:480: \nParameters: { objetive } might not be used.\n\n  This may not be accurate due to some parameters are only used in language bindings but\n  passed down to XGBoost core.  Or some parameters are not used but slip through this\n  verification. Please open an issue if you find above cases.\n\n\n",
      "local 0.36390101892285304 max 0.4016506189821183\n",
      "[00:55:43] WARNING: C:\\Users\\Administrator\\workspace\\xgboost-win64_release_1.1.0\\src\\learner.cc:480: \nParameters: { objetive } might not be used.\n\n  This may not be accurate due to some parameters are only used in language bindings but\n  passed down to XGBoost core.  Or some parameters are not used but slip through this\n  verification. Please open an issue if you find above cases.\n\n\n",
      "local 0.375896700143472 max 0.4016506189821183\n",
      "[00:57:27] WARNING: C:\\Users\\Administrator\\workspace\\xgboost-win64_release_1.1.0\\src\\learner.cc:480: \nParameters: { objetive } might not be used.\n\n  This may not be accurate due to some parameters are only used in language bindings but\n  passed down to XGBoost core.  Or some parameters are not used but slip through this\n  verification. Please open an issue if you find above cases.\n\n\n",
      "local 0.37500000000000006 max 0.4016506189821183\n",
      "[00:59:08] WARNING: C:\\Users\\Administrator\\workspace\\xgboost-win64_release_1.1.0\\src\\learner.cc:480: \nParameters: { objetive } might not be used.\n\n  This may not be accurate due to some parameters are only used in language bindings but\n  passed down to XGBoost core.  Or some parameters are not used but slip through this\n  verification. Please open an issue if you find above cases.\n\n\n",
      "local 0.3641379310344828 max 0.4016506189821183\n",
      "[01:00:51] WARNING: C:\\Users\\Administrator\\workspace\\xgboost-win64_release_1.1.0\\src\\learner.cc:480: \nParameters: { objetive } might not be used.\n\n  This may not be accurate due to some parameters are only used in language bindings but\n  passed down to XGBoost core.  Or some parameters are not used but slip through this\n  verification. Please open an issue if you find above cases.\n\n\n",
      "local 0.36538461538461536 max 0.4016506189821183\n",
      "[01:02:33] WARNING: C:\\Users\\Administrator\\workspace\\xgboost-win64_release_1.1.0\\src\\learner.cc:480: \nParameters: { objetive } might not be used.\n\n  This may not be accurate due to some parameters are only used in language bindings but\n  passed down to XGBoost core.  Or some parameters are not used but slip through this\n  verification. Please open an issue if you find above cases.\n\n\n",
      "local 0.3767313019390582 max 0.4016506189821183\n",
      "[01:03:43] WARNING: C:\\Users\\Administrator\\workspace\\xgboost-win64_release_1.1.0\\src\\learner.cc:480: \nParameters: { objetive } might not be used.\n\n  This may not be accurate due to some parameters are only used in language bindings but\n  passed down to XGBoost core.  Or some parameters are not used but slip through this\n  verification. Please open an issue if you find above cases.\n\n\n",
      "local 0.3579234972677595 max 0.4016506189821183\n",
      "[01:05:26] WARNING: C:\\Users\\Administrator\\workspace\\xgboost-win64_release_1.1.0\\src\\learner.cc:480: \nParameters: { objetive } might not be used.\n\n  This may not be accurate due to some parameters are only used in language bindings but\n  passed down to XGBoost core.  Or some parameters are not used but slip through this\n  verification. Please open an issue if you find above cases.\n\n\n",
      "local 0.3641379310344828 max 0.4016506189821183\n",
      "[01:06:44] WARNING: C:\\Users\\Administrator\\workspace\\xgboost-win64_release_1.1.0\\src\\learner.cc:480: \nParameters: { objetive } might not be used.\n\n  This may not be accurate due to some parameters are only used in language bindings but\n  passed down to XGBoost core.  Or some parameters are not used but slip through this\n  verification. Please open an issue if you find above cases.\n\n\n",
      "local 0.373806275579809 max 0.4016506189821183\n",
      "[01:08:09] WARNING: C:\\Users\\Administrator\\workspace\\xgboost-win64_release_1.1.0\\src\\learner.cc:480: \nParameters: { objetive } might not be used.\n\n  This may not be accurate due to some parameters are only used in language bindings but\n  passed down to XGBoost core.  Or some parameters are not used but slip through this\n  verification. Please open an issue if you find above cases.\n\n\n",
      "local 0.368064952638701 max 0.4016506189821183\n",
      "[01:09:51] WARNING: C:\\Users\\Administrator\\workspace\\xgboost-win64_release_1.1.0\\src\\learner.cc:480: \nParameters: { objetive } might not be used.\n\n  This may not be accurate due to some parameters are only used in language bindings but\n  passed down to XGBoost core.  Or some parameters are not used but slip through this\n  verification. Please open an issue if you find above cases.\n\n\n",
      "local 0.3698630136986301 max 0.4016506189821183\n",
      "[01:11:23] WARNING: C:\\Users\\Administrator\\workspace\\xgboost-win64_release_1.1.0\\src\\learner.cc:480: \nParameters: { objetive } might not be used.\n\n  This may not be accurate due to some parameters are only used in language bindings but\n  passed down to XGBoost core.  Or some parameters are not used but slip through this\n  verification. Please open an issue if you find above cases.\n\n\n",
      "local 0.3770491803278688 max 0.4016506189821183\n",
      "[01:13:04] WARNING: C:\\Users\\Administrator\\workspace\\xgboost-win64_release_1.1.0\\src\\learner.cc:480: \nParameters: { objetive } might not be used.\n\n  This may not be accurate due to some parameters are only used in language bindings but\n  passed down to XGBoost core.  Or some parameters are not used but slip through this\n  verification. Please open an issue if you find above cases.\n\n\n",
      "local 0.3713450292397661 max 0.4016506189821183\n",
      "[01:15:14] WARNING: C:\\Users\\Administrator\\workspace\\xgboost-win64_release_1.1.0\\src\\learner.cc:480: \nParameters: { objetive } might not be used.\n\n  This may not be accurate due to some parameters are only used in language bindings but\n  passed down to XGBoost core.  Or some parameters are not used but slip through this\n  verification. Please open an issue if you find above cases.\n\n\n",
      "local 0.3602836879432624 max 0.4016506189821183\n",
      "[01:17:27] WARNING: C:\\Users\\Administrator\\workspace\\xgboost-win64_release_1.1.0\\src\\learner.cc:480: \nParameters: { objetive } might not be used.\n\n  This may not be accurate due to some parameters are only used in language bindings but\n  passed down to XGBoost core.  Or some parameters are not used but slip through this\n  verification. Please open an issue if you find above cases.\n\n\n",
      "local 0.37412095639943743 max 0.4016506189821183\n",
      "[01:19:32] WARNING: C:\\Users\\Administrator\\workspace\\xgboost-win64_release_1.1.0\\src\\learner.cc:480: \nParameters: { objetive } might not be used.\n\n  This may not be accurate due to some parameters are only used in language bindings but\n  passed down to XGBoost core.  Or some parameters are not used but slip through this\n  verification. Please open an issue if you find above cases.\n\n\n",
      "local 0.35277777777777775 max 0.4016506189821183\n",
      "[01:21:44] WARNING: C:\\Users\\Administrator\\workspace\\xgboost-win64_release_1.1.0\\src\\learner.cc:480: \nParameters: { objetive } might not be used.\n\n  This may not be accurate due to some parameters are only used in language bindings but\n  passed down to XGBoost core.  Or some parameters are not used but slip through this\n  verification. Please open an issue if you find above cases.\n\n\n",
      "local 0.37268847795163584 max 0.4016506189821183\n",
      "[01:23:00] WARNING: C:\\Users\\Administrator\\workspace\\xgboost-win64_release_1.1.0\\src\\learner.cc:480: \nParameters: { objetive } might not be used.\n\n  This may not be accurate due to some parameters are only used in language bindings but\n  passed down to XGBoost core.  Or some parameters are not used but slip through this\n  verification. Please open an issue if you find above cases.\n\n\n",
      "local 0.3737796373779637 max 0.4016506189821183\n",
      "[01:24:23] WARNING: C:\\Users\\Administrator\\workspace\\xgboost-win64_release_1.1.0\\src\\learner.cc:480: \nParameters: { objetive } might not be used.\n\n  This may not be accurate due to some parameters are only used in language bindings but\n  passed down to XGBoost core.  Or some parameters are not used but slip through this\n  verification. Please open an issue if you find above cases.\n\n\n",
      "local 0.3576341127922971 max 0.4016506189821183\n",
      "[01:26:37] WARNING: C:\\Users\\Administrator\\workspace\\xgboost-win64_release_1.1.0\\src\\learner.cc:480: \nParameters: { objetive } might not be used.\n\n  This may not be accurate due to some parameters are only used in language bindings but\n  passed down to XGBoost core.  Or some parameters are not used but slip through this\n  verification. Please open an issue if you find above cases.\n\n\n",
      "local 0.3856749311294766 max 0.4016506189821183\n",
      "[01:28:27] WARNING: C:\\Users\\Administrator\\workspace\\xgboost-win64_release_1.1.0\\src\\learner.cc:480: \nParameters: { objetive } might not be used.\n\n  This may not be accurate due to some parameters are only used in language bindings but\n  passed down to XGBoost core.  Or some parameters are not used but slip through this\n  verification. Please open an issue if you find above cases.\n\n\n",
      "local 0.3746630727762803 max 0.4016506189821183\n",
      "[01:29:30] WARNING: C:\\Users\\Administrator\\workspace\\xgboost-win64_release_1.1.0\\src\\learner.cc:480: \nParameters: { objetive } might not be used.\n\n  This may not be accurate due to some parameters are only used in language bindings but\n  passed down to XGBoost core.  Or some parameters are not used but slip through this\n  verification. Please open an issue if you find above cases.\n\n\n",
      "local 0.37600000000000006 max 0.4016506189821183\n",
      "[01:31:40] WARNING: C:\\Users\\Administrator\\workspace\\xgboost-win64_release_1.1.0\\src\\learner.cc:480: \nParameters: { objetive } might not be used.\n\n  This may not be accurate due to some parameters are only used in language bindings but\n  passed down to XGBoost core.  Or some parameters are not used but slip through this\n  verification. Please open an issue if you find above cases.\n\n\n",
      "local 0.3768913342503439 max 0.4016506189821183\n",
      "[01:33:01] WARNING: C:\\Users\\Administrator\\workspace\\xgboost-win64_release_1.1.0\\src\\learner.cc:480: \nParameters: { objetive } might not be used.\n\n  This may not be accurate due to some parameters are only used in language bindings but\n  passed down to XGBoost core.  Or some parameters are not used but slip through this\n  verification. Please open an issue if you find above cases.\n\n\n",
      "local 0.3796423658872077 max 0.4016506189821183\ncontador = 72\n[7, 0.5, 6]\n0.4016506189821183\n"
     ],
     "output_type": "stream"
    }
   ],
   "source": [
    "######verificacion de hiperparamentros\n",
    "hiperparametros_max = [0,0,0,0]\n",
    "res_max = 0\n",
    "contador = 0\n",
    "hiperparametros_max\n",
    "for profundidad in range(6,8,1):\n",
    "    for tree in range(40,81,20):\n",
    "        colsampleTree = tree / 100\n",
    "        for lR in range(10,81,20):\n",
    "            learningRate = lR / 100\n",
    "            for alpha in range(5,16,5):\n",
    "                xgb_reg = xgb.XGBRegressor(max_depth = profundidad, \n",
    "                                           colsample_bytree = colsampleTree, \n",
    "                                           learning_rate = learningRate, \n",
    "                                           alpha = alpha,\n",
    "                                           objetive = 'reg:squarederror')\n",
    "                \n",
    "                xgb_reg.fit(train_set, train_label)\n",
    "                result = pd.read_csv('sample_submission.csv')\n",
    "                predicts = xgb_reg.predict(test_set).round()\n",
    "                result['target'] = predicts\n",
    "                \n",
    "                maximo_local = F1(result)\n",
    "                if (maximo_local <= 0.528):\n",
    "                    contador += 1\n",
    "                if(maximo_local > res_max):\n",
    "                    hiperparametros_max = [iter,learningRate,profundidad]\n",
    "                    res_max = maximo_local\n",
    "                print(\"local {} max {}\".format(maximo_local,res_max))\n",
    "print(\"contador = {}\".format(contador))\n",
    "print(hiperparametros_max)\n",
    "print(res_max)"
   ],
   "metadata": {
    "collapsed": false,
    "pycharm": {
     "name": "#%%\n",
     "is_executing": false
    }
   }
  },
  {
   "cell_type": "code",
   "execution_count": 117,
   "metadata": {
    "pycharm": {
     "is_executing": false
    }
   },
   "outputs": [],
   "source": [
    "xgb_reg = xgb.XGBRegressor(max_depth = 7, \n",
    "                           colsample_bytree = 0.5, \n",
    "                           learning_rate = 0.6, \n",
    "                           alpha = 10,\n",
    "                           objetive = 'reg:squarederror')"
   ]
  },
  {
   "cell_type": "code",
   "execution_count": 118,
   "metadata": {
    "scrolled": false,
    "pycharm": {
     "is_executing": false
    }
   },
   "outputs": [
    {
     "name": "stdout",
     "text": [
      "[23:49:27] WARNING: C:\\Users\\Administrator\\workspace\\xgboost-win64_release_1.1.0\\src\\learner.cc:480: \nParameters: { objetive } might not be used.\n\n  This may not be accurate due to some parameters are only used in language bindings but\n  passed down to XGBoost core.  Or some parameters are not used but slip through this\n  verification. Please open an issue if you find above cases.\n\n\n"
     ],
     "output_type": "stream"
    },
    {
     "data": {
      "text/plain": "XGBRegressor(alpha=10, base_score=0.5, booster='gbtree', colsample_bylevel=1,\n             colsample_bynode=1, colsample_bytree=0.5, gamma=0, gpu_id=-1,\n             importance_type='gain', interaction_constraints='',\n             learning_rate=0.6, max_delta_step=0, max_depth=7,\n             min_child_weight=1, missing=nan, monotone_constraints='()',\n             n_estimators=100, n_jobs=0, num_parallel_tree=1,\n             objetive='reg:squarederror', random_state=0, reg_alpha=10,\n             reg_lambda=1, scale_pos_weight=1, subsample=1, tree_method='exact',\n             validate_parameters=1, verbosity=None)"
     },
     "metadata": {},
     "output_type": "execute_result",
     "execution_count": 118
    }
   ],
   "source": [
    "xgb_reg.fit(train_set, train_label)"
   ]
  },
  {
   "cell_type": "code",
   "execution_count": 119,
   "metadata": {
    "pycharm": {
     "is_executing": false
    }
   },
   "outputs": [],
   "source": [
    "result = pd.read_csv('sample_submission.csv',index_col=['id'])"
   ]
  },
  {
   "cell_type": "code",
   "execution_count": 120,
   "metadata": {
    "scrolled": false,
    "pycharm": {
     "is_executing": false
    }
   },
   "outputs": [
    {
     "name": "stdout",
     "text": [
      "0.6698224852071006\n"
     ],
     "output_type": "stream"
    }
   ],
   "source": [
    "predicts = xgb_reg.predict(test_set).round()\n",
    "result['target'] = predicts\n",
    "print(F1(result))"
   ]
  },
  {
   "cell_type": "markdown",
   "metadata": {},
   "source": [
    "Con K-FOLDS"
   ]
  },
  {
   "cell_type": "code",
   "execution_count": 100,
   "metadata": {
    "pycharm": {
     "is_executing": false
    }
   },
   "outputs": [
    {
     "traceback": [
      "\u001b[1;31m---------------------------------------------------------------------------\u001b[0m",
      "\u001b[1;31mValueError\u001b[0m                                Traceback (most recent call last)",
      "\u001b[1;32m<ipython-input-100-9952463990ff>\u001b[0m in \u001b[0;36m<module>\u001b[1;34m\u001b[0m\n\u001b[1;32m----> 1\u001b[1;33m \u001b[0mdmatrix\u001b[0m \u001b[1;33m=\u001b[0m \u001b[0mxgb\u001b[0m\u001b[1;33m.\u001b[0m\u001b[0mDMatrix\u001b[0m\u001b[1;33m(\u001b[0m\u001b[0mdata\u001b[0m\u001b[1;33m=\u001b[0m\u001b[0mtrain_set\u001b[0m\u001b[1;33m,\u001b[0m\u001b[0mlabel\u001b[0m\u001b[1;33m=\u001b[0m\u001b[0mtrain_label\u001b[0m\u001b[1;33m)\u001b[0m\u001b[1;33m\u001b[0m\u001b[1;33m\u001b[0m\u001b[0m\n\u001b[0m\u001b[0;32m      2\u001b[0m \u001b[0mparams\u001b[0m \u001b[1;33m=\u001b[0m \u001b[1;33m{\u001b[0m\u001b[1;34m'colsample_bytree'\u001b[0m\u001b[1;33m:\u001b[0m \u001b[1;36m0.3\u001b[0m\u001b[1;33m,\u001b[0m \u001b[1;34m'learning_rate'\u001b[0m\u001b[1;33m:\u001b[0m \u001b[1;36m0.1\u001b[0m\u001b[1;33m,\u001b[0m \u001b[1;34m'max_depth'\u001b[0m\u001b[1;33m:\u001b[0m \u001b[1;36m5\u001b[0m\u001b[1;33m,\u001b[0m \u001b[1;34m'alpha'\u001b[0m\u001b[1;33m:\u001b[0m \u001b[1;36m10\u001b[0m\u001b[1;33m}\u001b[0m\u001b[1;33m\u001b[0m\u001b[1;33m\u001b[0m\u001b[0m\n\u001b[0;32m      3\u001b[0m \u001b[1;33m\u001b[0m\u001b[0m\n\u001b[0;32m      4\u001b[0m cv_results = xgb.cv(dtrain=dmatrix, params=params, nfold=3,\n\u001b[0;32m      5\u001b[0m                     \u001b[0mnum_boost_round\u001b[0m\u001b[1;33m=\u001b[0m\u001b[1;36m50\u001b[0m\u001b[1;33m,\u001b[0m \u001b[0mearly_stopping_rounds\u001b[0m\u001b[1;33m=\u001b[0m\u001b[1;36m10\u001b[0m\u001b[1;33m,\u001b[0m\u001b[1;33m\u001b[0m\u001b[1;33m\u001b[0m\u001b[0m\n",
      "\u001b[1;32m~\\Miniconda3\\envs\\dato\\lib\\site-packages\\xgboost\\core.py\u001b[0m in \u001b[0;36m__init__\u001b[1;34m(self, data, label, weight, base_margin, missing, silent, feature_names, feature_types, nthread)\u001b[0m\n\u001b[0;32m    556\u001b[0m             \u001b[0mself\u001b[0m\u001b[1;33m.\u001b[0m\u001b[0mset_base_margin\u001b[0m\u001b[1;33m(\u001b[0m\u001b[0mbase_margin\u001b[0m\u001b[1;33m)\u001b[0m\u001b[1;33m\u001b[0m\u001b[1;33m\u001b[0m\u001b[0m\n\u001b[0;32m    557\u001b[0m \u001b[1;33m\u001b[0m\u001b[0m\n\u001b[1;32m--> 558\u001b[1;33m         \u001b[0mself\u001b[0m\u001b[1;33m.\u001b[0m\u001b[0mfeature_names\u001b[0m \u001b[1;33m=\u001b[0m \u001b[0mfeature_names\u001b[0m\u001b[1;33m\u001b[0m\u001b[1;33m\u001b[0m\u001b[0m\n\u001b[0m\u001b[0;32m    559\u001b[0m         \u001b[0mself\u001b[0m\u001b[1;33m.\u001b[0m\u001b[0mfeature_types\u001b[0m \u001b[1;33m=\u001b[0m \u001b[0mfeature_types\u001b[0m\u001b[1;33m\u001b[0m\u001b[1;33m\u001b[0m\u001b[0m\n\u001b[0;32m    560\u001b[0m \u001b[1;33m\u001b[0m\u001b[0m\n",
      "\u001b[1;32m~\\Miniconda3\\envs\\dato\\lib\\site-packages\\xgboost\\core.py\u001b[0m in \u001b[0;36mfeature_names\u001b[1;34m(self, feature_names)\u001b[0m\n\u001b[0;32m   1009\u001b[0m                        \u001b[1;32mnot\u001b[0m \u001b[0many\u001b[0m\u001b[1;33m(\u001b[0m\u001b[0mx\u001b[0m \u001b[1;32min\u001b[0m \u001b[0mf\u001b[0m \u001b[1;32mfor\u001b[0m \u001b[0mx\u001b[0m \u001b[1;32min\u001b[0m \u001b[0mset\u001b[0m\u001b[1;33m(\u001b[0m\u001b[1;33m(\u001b[0m\u001b[1;34m'['\u001b[0m\u001b[1;33m,\u001b[0m \u001b[1;34m']'\u001b[0m\u001b[1;33m,\u001b[0m \u001b[1;34m'<'\u001b[0m\u001b[1;33m)\u001b[0m\u001b[1;33m)\u001b[0m\u001b[1;33m)\u001b[0m\u001b[1;33m\u001b[0m\u001b[1;33m\u001b[0m\u001b[0m\n\u001b[0;32m   1010\u001b[0m                        for f in feature_names):\n\u001b[1;32m-> 1011\u001b[1;33m                 \u001b[1;32mraise\u001b[0m \u001b[0mValueError\u001b[0m\u001b[1;33m(\u001b[0m\u001b[1;34m'feature_names must be string, and may not contain [, ] or <'\u001b[0m\u001b[1;33m)\u001b[0m\u001b[1;33m\u001b[0m\u001b[1;33m\u001b[0m\u001b[0m\n\u001b[0m\u001b[0;32m   1012\u001b[0m         \u001b[1;32melse\u001b[0m\u001b[1;33m:\u001b[0m\u001b[1;33m\u001b[0m\u001b[1;33m\u001b[0m\u001b[0m\n\u001b[0;32m   1013\u001b[0m             \u001b[1;31m# reset feature_types also\u001b[0m\u001b[1;33m\u001b[0m\u001b[1;33m\u001b[0m\u001b[1;33m\u001b[0m\u001b[0m\n",
      "\u001b[1;31mValueError\u001b[0m: feature_names must be string, and may not contain [, ] or <"
     ],
     "ename": "ValueError",
     "evalue": "feature_names must be string, and may not contain [, ] or <",
     "output_type": "error"
    }
   ],
   "source": [
    "dmatrix = xgb.DMatrix(data=train_set,label=train_label)\n",
    "params = {'colsample_bytree': 0.3, 'learning_rate': 0.1, 'max_depth': 5, 'alpha': 10}\n",
    "\n",
    "cv_results = xgb.cv(dtrain=dmatrix, params=params, nfold=3,\n",
    "                    num_boost_round=50, early_stopping_rounds=10,\n",
    "                    metrics=\"rmse\", as_pandas=True, seed=123)\n",
    "#ultimo error\n",
    "print((cv_results[\"test-rmse-mean\"]).tail(1))"
   ]
  },
  {
   "cell_type": "code",
   "execution_count": 107,
   "metadata": {
    "scrolled": false,
    "pycharm": {
     "is_executing": false
    }
   },
   "outputs": [
    {
     "traceback": [
      "\u001b[1;31m---------------------------------------------------------------------------\u001b[0m",
      "\u001b[1;31mFileNotFoundError\u001b[0m                         Traceback (most recent call last)",
      "\u001b[1;32m~\\Miniconda3\\envs\\dato\\lib\\site-packages\\graphviz\\backend.py\u001b[0m in \u001b[0;36mrun\u001b[1;34m(cmd, input, capture_output, check, encoding, quiet, **kwargs)\u001b[0m\n\u001b[0;32m    163\u001b[0m     \u001b[1;32mtry\u001b[0m\u001b[1;33m:\u001b[0m\u001b[1;33m\u001b[0m\u001b[1;33m\u001b[0m\u001b[0m\n\u001b[1;32m--> 164\u001b[1;33m         \u001b[0mproc\u001b[0m \u001b[1;33m=\u001b[0m \u001b[0msubprocess\u001b[0m\u001b[1;33m.\u001b[0m\u001b[0mPopen\u001b[0m\u001b[1;33m(\u001b[0m\u001b[0mcmd\u001b[0m\u001b[1;33m,\u001b[0m \u001b[0mstartupinfo\u001b[0m\u001b[1;33m=\u001b[0m\u001b[0mget_startupinfo\u001b[0m\u001b[1;33m(\u001b[0m\u001b[1;33m)\u001b[0m\u001b[1;33m,\u001b[0m \u001b[1;33m**\u001b[0m\u001b[0mkwargs\u001b[0m\u001b[1;33m)\u001b[0m\u001b[1;33m\u001b[0m\u001b[1;33m\u001b[0m\u001b[0m\n\u001b[0m\u001b[0;32m    165\u001b[0m     \u001b[1;32mexcept\u001b[0m \u001b[0mOSError\u001b[0m \u001b[1;32mas\u001b[0m \u001b[0me\u001b[0m\u001b[1;33m:\u001b[0m\u001b[1;33m\u001b[0m\u001b[1;33m\u001b[0m\u001b[0m\n",
      "\u001b[1;32m~\\Miniconda3\\envs\\dato\\lib\\subprocess.py\u001b[0m in \u001b[0;36m__init__\u001b[1;34m(self, args, bufsize, executable, stdin, stdout, stderr, preexec_fn, close_fds, shell, cwd, env, universal_newlines, startupinfo, creationflags, restore_signals, start_new_session, pass_fds, encoding, errors, text)\u001b[0m\n\u001b[0;32m    799\u001b[0m                                 \u001b[0merrread\u001b[0m\u001b[1;33m,\u001b[0m \u001b[0merrwrite\u001b[0m\u001b[1;33m,\u001b[0m\u001b[1;33m\u001b[0m\u001b[1;33m\u001b[0m\u001b[0m\n\u001b[1;32m--> 800\u001b[1;33m                                 restore_signals, start_new_session)\n\u001b[0m\u001b[0;32m    801\u001b[0m         \u001b[1;32mexcept\u001b[0m\u001b[1;33m:\u001b[0m\u001b[1;33m\u001b[0m\u001b[1;33m\u001b[0m\u001b[0m\n",
      "\u001b[1;32m~\\Miniconda3\\envs\\dato\\lib\\subprocess.py\u001b[0m in \u001b[0;36m_execute_child\u001b[1;34m(self, args, executable, preexec_fn, close_fds, pass_fds, cwd, env, startupinfo, creationflags, shell, p2cread, p2cwrite, c2pread, c2pwrite, errread, errwrite, unused_restore_signals, unused_start_new_session)\u001b[0m\n\u001b[0;32m   1206\u001b[0m                                          \u001b[0mos\u001b[0m\u001b[1;33m.\u001b[0m\u001b[0mfspath\u001b[0m\u001b[1;33m(\u001b[0m\u001b[0mcwd\u001b[0m\u001b[1;33m)\u001b[0m \u001b[1;32mif\u001b[0m \u001b[0mcwd\u001b[0m \u001b[1;32mis\u001b[0m \u001b[1;32mnot\u001b[0m \u001b[1;32mNone\u001b[0m \u001b[1;32melse\u001b[0m \u001b[1;32mNone\u001b[0m\u001b[1;33m,\u001b[0m\u001b[1;33m\u001b[0m\u001b[1;33m\u001b[0m\u001b[0m\n\u001b[1;32m-> 1207\u001b[1;33m                                          startupinfo)\n\u001b[0m\u001b[0;32m   1208\u001b[0m             \u001b[1;32mfinally\u001b[0m\u001b[1;33m:\u001b[0m\u001b[1;33m\u001b[0m\u001b[1;33m\u001b[0m\u001b[0m\n",
      "\u001b[1;31mFileNotFoundError\u001b[0m: [WinError 2] El sistema no puede encontrar el archivo especificado",
      "\nDuring handling of the above exception, another exception occurred:\n",
      "\u001b[1;31mExecutableNotFound\u001b[0m                        Traceback (most recent call last)",
      "\u001b[1;32m~\\Miniconda3\\envs\\dato\\lib\\site-packages\\IPython\\core\\formatters.py\u001b[0m in \u001b[0;36m__call__\u001b[1;34m(self, obj)\u001b[0m\n\u001b[0;32m    343\u001b[0m             \u001b[0mmethod\u001b[0m \u001b[1;33m=\u001b[0m \u001b[0mget_real_method\u001b[0m\u001b[1;33m(\u001b[0m\u001b[0mobj\u001b[0m\u001b[1;33m,\u001b[0m \u001b[0mself\u001b[0m\u001b[1;33m.\u001b[0m\u001b[0mprint_method\u001b[0m\u001b[1;33m)\u001b[0m\u001b[1;33m\u001b[0m\u001b[1;33m\u001b[0m\u001b[0m\n\u001b[0;32m    344\u001b[0m             \u001b[1;32mif\u001b[0m \u001b[0mmethod\u001b[0m \u001b[1;32mis\u001b[0m \u001b[1;32mnot\u001b[0m \u001b[1;32mNone\u001b[0m\u001b[1;33m:\u001b[0m\u001b[1;33m\u001b[0m\u001b[1;33m\u001b[0m\u001b[0m\n\u001b[1;32m--> 345\u001b[1;33m                 \u001b[1;32mreturn\u001b[0m \u001b[0mmethod\u001b[0m\u001b[1;33m(\u001b[0m\u001b[1;33m)\u001b[0m\u001b[1;33m\u001b[0m\u001b[1;33m\u001b[0m\u001b[0m\n\u001b[0m\u001b[0;32m    346\u001b[0m             \u001b[1;32mreturn\u001b[0m \u001b[1;32mNone\u001b[0m\u001b[1;33m\u001b[0m\u001b[1;33m\u001b[0m\u001b[0m\n\u001b[0;32m    347\u001b[0m         \u001b[1;32melse\u001b[0m\u001b[1;33m:\u001b[0m\u001b[1;33m\u001b[0m\u001b[1;33m\u001b[0m\u001b[0m\n",
      "\u001b[1;32m~\\Miniconda3\\envs\\dato\\lib\\site-packages\\graphviz\\files.py\u001b[0m in \u001b[0;36m_repr_svg_\u001b[1;34m(self)\u001b[0m\n\u001b[0;32m    111\u001b[0m \u001b[1;33m\u001b[0m\u001b[0m\n\u001b[0;32m    112\u001b[0m     \u001b[1;32mdef\u001b[0m \u001b[0m_repr_svg_\u001b[0m\u001b[1;33m(\u001b[0m\u001b[0mself\u001b[0m\u001b[1;33m)\u001b[0m\u001b[1;33m:\u001b[0m\u001b[1;33m\u001b[0m\u001b[1;33m\u001b[0m\u001b[0m\n\u001b[1;32m--> 113\u001b[1;33m         \u001b[1;32mreturn\u001b[0m \u001b[0mself\u001b[0m\u001b[1;33m.\u001b[0m\u001b[0mpipe\u001b[0m\u001b[1;33m(\u001b[0m\u001b[0mformat\u001b[0m\u001b[1;33m=\u001b[0m\u001b[1;34m'svg'\u001b[0m\u001b[1;33m)\u001b[0m\u001b[1;33m.\u001b[0m\u001b[0mdecode\u001b[0m\u001b[1;33m(\u001b[0m\u001b[0mself\u001b[0m\u001b[1;33m.\u001b[0m\u001b[0m_encoding\u001b[0m\u001b[1;33m)\u001b[0m\u001b[1;33m\u001b[0m\u001b[1;33m\u001b[0m\u001b[0m\n\u001b[0m\u001b[0;32m    114\u001b[0m \u001b[1;33m\u001b[0m\u001b[0m\n\u001b[0;32m    115\u001b[0m     \u001b[1;32mdef\u001b[0m \u001b[0mpipe\u001b[0m\u001b[1;33m(\u001b[0m\u001b[0mself\u001b[0m\u001b[1;33m,\u001b[0m \u001b[0mformat\u001b[0m\u001b[1;33m=\u001b[0m\u001b[1;32mNone\u001b[0m\u001b[1;33m,\u001b[0m \u001b[0mrenderer\u001b[0m\u001b[1;33m=\u001b[0m\u001b[1;32mNone\u001b[0m\u001b[1;33m,\u001b[0m \u001b[0mformatter\u001b[0m\u001b[1;33m=\u001b[0m\u001b[1;32mNone\u001b[0m\u001b[1;33m,\u001b[0m \u001b[0mquiet\u001b[0m\u001b[1;33m=\u001b[0m\u001b[1;32mFalse\u001b[0m\u001b[1;33m)\u001b[0m\u001b[1;33m:\u001b[0m\u001b[1;33m\u001b[0m\u001b[1;33m\u001b[0m\u001b[0m\n",
      "\u001b[1;32m~\\Miniconda3\\envs\\dato\\lib\\site-packages\\graphviz\\files.py\u001b[0m in \u001b[0;36mpipe\u001b[1;34m(self, format, renderer, formatter, quiet)\u001b[0m\n\u001b[0;32m    136\u001b[0m         out = backend.pipe(self._engine, format, data,\n\u001b[0;32m    137\u001b[0m                            \u001b[0mrenderer\u001b[0m\u001b[1;33m=\u001b[0m\u001b[0mrenderer\u001b[0m\u001b[1;33m,\u001b[0m \u001b[0mformatter\u001b[0m\u001b[1;33m=\u001b[0m\u001b[0mformatter\u001b[0m\u001b[1;33m,\u001b[0m\u001b[1;33m\u001b[0m\u001b[1;33m\u001b[0m\u001b[0m\n\u001b[1;32m--> 138\u001b[1;33m                            quiet=quiet)\n\u001b[0m\u001b[0;32m    139\u001b[0m \u001b[1;33m\u001b[0m\u001b[0m\n\u001b[0;32m    140\u001b[0m         \u001b[1;32mreturn\u001b[0m \u001b[0mout\u001b[0m\u001b[1;33m\u001b[0m\u001b[1;33m\u001b[0m\u001b[0m\n",
      "\u001b[1;32m~\\Miniconda3\\envs\\dato\\lib\\site-packages\\graphviz\\backend.py\u001b[0m in \u001b[0;36mpipe\u001b[1;34m(engine, format, data, renderer, formatter, quiet)\u001b[0m\n\u001b[0;32m    242\u001b[0m     \"\"\"\n\u001b[0;32m    243\u001b[0m     \u001b[0mcmd\u001b[0m\u001b[1;33m,\u001b[0m \u001b[0m_\u001b[0m \u001b[1;33m=\u001b[0m \u001b[0mcommand\u001b[0m\u001b[1;33m(\u001b[0m\u001b[0mengine\u001b[0m\u001b[1;33m,\u001b[0m \u001b[0mformat\u001b[0m\u001b[1;33m,\u001b[0m \u001b[1;32mNone\u001b[0m\u001b[1;33m,\u001b[0m \u001b[0mrenderer\u001b[0m\u001b[1;33m,\u001b[0m \u001b[0mformatter\u001b[0m\u001b[1;33m)\u001b[0m\u001b[1;33m\u001b[0m\u001b[1;33m\u001b[0m\u001b[0m\n\u001b[1;32m--> 244\u001b[1;33m     \u001b[0mout\u001b[0m\u001b[1;33m,\u001b[0m \u001b[0m_\u001b[0m \u001b[1;33m=\u001b[0m \u001b[0mrun\u001b[0m\u001b[1;33m(\u001b[0m\u001b[0mcmd\u001b[0m\u001b[1;33m,\u001b[0m \u001b[0minput\u001b[0m\u001b[1;33m=\u001b[0m\u001b[0mdata\u001b[0m\u001b[1;33m,\u001b[0m \u001b[0mcapture_output\u001b[0m\u001b[1;33m=\u001b[0m\u001b[1;32mTrue\u001b[0m\u001b[1;33m,\u001b[0m \u001b[0mcheck\u001b[0m\u001b[1;33m=\u001b[0m\u001b[1;32mTrue\u001b[0m\u001b[1;33m,\u001b[0m \u001b[0mquiet\u001b[0m\u001b[1;33m=\u001b[0m\u001b[0mquiet\u001b[0m\u001b[1;33m)\u001b[0m\u001b[1;33m\u001b[0m\u001b[1;33m\u001b[0m\u001b[0m\n\u001b[0m\u001b[0;32m    245\u001b[0m     \u001b[1;32mreturn\u001b[0m \u001b[0mout\u001b[0m\u001b[1;33m\u001b[0m\u001b[1;33m\u001b[0m\u001b[0m\n\u001b[0;32m    246\u001b[0m \u001b[1;33m\u001b[0m\u001b[0m\n",
      "\u001b[1;32m~\\Miniconda3\\envs\\dato\\lib\\site-packages\\graphviz\\backend.py\u001b[0m in \u001b[0;36mrun\u001b[1;34m(cmd, input, capture_output, check, encoding, quiet, **kwargs)\u001b[0m\n\u001b[0;32m    165\u001b[0m     \u001b[1;32mexcept\u001b[0m \u001b[0mOSError\u001b[0m \u001b[1;32mas\u001b[0m \u001b[0me\u001b[0m\u001b[1;33m:\u001b[0m\u001b[1;33m\u001b[0m\u001b[1;33m\u001b[0m\u001b[0m\n\u001b[0;32m    166\u001b[0m         \u001b[1;32mif\u001b[0m \u001b[0me\u001b[0m\u001b[1;33m.\u001b[0m\u001b[0merrno\u001b[0m \u001b[1;33m==\u001b[0m \u001b[0merrno\u001b[0m\u001b[1;33m.\u001b[0m\u001b[0mENOENT\u001b[0m\u001b[1;33m:\u001b[0m\u001b[1;33m\u001b[0m\u001b[1;33m\u001b[0m\u001b[0m\n\u001b[1;32m--> 167\u001b[1;33m             \u001b[1;32mraise\u001b[0m \u001b[0mExecutableNotFound\u001b[0m\u001b[1;33m(\u001b[0m\u001b[0mcmd\u001b[0m\u001b[1;33m)\u001b[0m\u001b[1;33m\u001b[0m\u001b[1;33m\u001b[0m\u001b[0m\n\u001b[0m\u001b[0;32m    168\u001b[0m         \u001b[1;32melse\u001b[0m\u001b[1;33m:\u001b[0m\u001b[1;33m\u001b[0m\u001b[1;33m\u001b[0m\u001b[0m\n\u001b[0;32m    169\u001b[0m             \u001b[1;32mraise\u001b[0m\u001b[1;33m\u001b[0m\u001b[1;33m\u001b[0m\u001b[0m\n",
      "\u001b[1;31mExecutableNotFound\u001b[0m: failed to execute ['dot', '-Tsvg'], make sure the Graphviz executables are on your systems' PATH"
     ],
     "ename": "ExecutableNotFound",
     "evalue": "failed to execute ['dot', '-Tsvg'], make sure the Graphviz executables are on your systems' PATH",
     "output_type": "error"
    },
    {
     "data": {
      "text/plain": "<graphviz.files.Source at 0x151e1148>"
     },
     "metadata": {},
     "output_type": "execute_result",
     "execution_count": 107
    }
   ],
   "source": [
    "xg_reg = xgb.train(params=params, dtrain=dmatrix, num_boost_round=10)\n",
    "plt.rcParams['figure.figsize'] = [20, 20]\n",
    "xgb.to_graphviz(xg_reg,num_trees=0)"
   ]
  },
  {
   "cell_type": "markdown",
   "metadata": {},
   "source": [
    "Importancia de cada feature"
   ]
  },
  {
   "cell_type": "code",
   "execution_count": 106,
   "metadata": {
    "scrolled": true,
    "pycharm": {
     "is_executing": false
    }
   },
   "outputs": [
    {
     "data": {
      "text/plain": "<matplotlib.axes._subplots.AxesSubplot at 0x144c65c8>"
     },
     "metadata": {},
     "output_type": "execute_result",
     "execution_count": 106
    },
    {
     "data": {
      "text/plain": "<Figure size 864x504 with 1 Axes>",
      "image/png": "[encoded data removed]"
     },
     "metadata": {},
     "output_type": "display_data"
    }
   ],
   "source": [
    "plt.rcParams['figure.figsize'] = [12, 7]\n",
    "xgb.plot_importance(xg_reg)"
   ]
  },
  {
   "cell_type": "markdown",
   "metadata": {},
   "source": [
    "# Random Forest"
   ]
  },
  {
   "cell_type": "code",
   "execution_count": 92,
   "metadata": {
    "pycharm": {
     "is_executing": false
    }
   },
   "outputs": [
    {
     "data": {
      "text/plain": "RandomForestRegressor(max_features=4, n_estimators=10, random_state=1)"
     },
     "metadata": {},
     "output_type": "execute_result",
     "execution_count": 92
    }
   ],
   "source": [
    "from sklearn.ensemble import RandomForestRegressor\n",
    "rf = RandomForestRegressor(random_state=1, n_estimators = 20, max_features = 4)\n",
    "rf.fit(train_set, train_label)"
   ]
  },
  {
   "cell_type": "code",
   "execution_count": 93,
   "metadata": {
    "pycharm": {
     "is_executing": false
    }
   },
   "outputs": [
    {
     "name": "stdout",
     "text": [
      "0.5210585165859113\n"
     ],
     "output_type": "stream"
    }
   ],
   "source": [
    "predicts = rf.predict(test_set).round()\n",
    "result['target'] = predicts\n",
    "print(F1(result))"
   ]
  },
  {
   "cell_type": "code",
   "execution_count": 94,
   "metadata": {
    "pycharm": {
     "is_executing": false
    }
   },
   "outputs": [
    {
     "data": {
      "text/plain": "<Figure size 864x504 with 1 Axes>",
      "image/png": "[encoded data removed]"
     },
     "metadata": {},
     "output_type": "display_data"
    }
   ],
   "source": [
    "plt.barh(train_set.columns, rf.feature_importances_)\n",
    "plt.xlabel('Features de train')\n",
    "plt.ylabel('Importancia')\n",
    "plt.title('Importancia vs Features con Random Forest')\n",
    "plt.show()"
   ]
  },
  {
   "cell_type": "markdown",
   "metadata": {},
   "source": [
    "## ENTREGA"
   ]
  },
  {
   "cell_type": "code",
   "execution_count": null,
   "outputs": [],
   "source": [
    "resultados_de_prediccion.columns = ['id','target']\n",
    "resultados_de_prediccion.head()"
   ],
   "metadata": {
    "collapsed": false,
    "pycharm": {
     "name": "#%%\n"
    }
   }
  },
  {
   "cell_type": "code",
   "execution_count": 95,
   "metadata": {
    "pycharm": {
     "name": "#%%\n",
     "is_executing": false
    }
   },
   "outputs": [],
   "source": [
    "#cuando todo termina el archivo de entrega\n",
    "resultados_de_prediccion.to_csv('submit.csv', index=False)"
   ]
  }
 ],
 "metadata": {
  "kernelspec": {
   "name": "python3",
   "language": "python",
   "display_name": "Python 3"
  },
  "language_info": {
   "codemirror_mode": {
    "name": "ipython",
    "version": 2
   },
   "file_extension": ".py",
   "mimetype": "text/x-python",
   "name": "python",
   "nbconvert_exporter": "python",
   "pygments_lexer": "ipython2",
   "version": "2.7.6"
  },
  "pycharm": {
   "stem_cell": {
    "cell_type": "raw",
    "source": [],
    "metadata": {
     "collapsed": false
    }
   }
  }
 },
 "nbformat": 4,
 "nbformat_minor": 1
}