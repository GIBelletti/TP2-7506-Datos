{
 "cells": [
  {
   "cell_type": "markdown",
   "metadata": {
    "collapsed": true,
    "pycharm": {
     "name": "#%% md\n"
    }
   },
   "source": [
    "# 75.06/95.58 Organización de Datos\n",
    "# Primer Cuatrimestre de 2020\n",
    "# Trabajo Práctico 2: Enunciado\n",
    "\n",
    "\n",
    "El segundo TP es una competencia de Machine Learning en donde cada grupo debe intentar determinar, para cada tweet brindado, si el mismo esta basado en un hecho real o no.\n",
    "\n",
    "La competencia se desarrolla en la plataforma de Kaggle  https://www.kaggle.com/c/nlp-getting-started.  \n",
    "\n",
    "El dataset consta de una serie de tweets, para los cuales se informa:\n",
    "\n",
    "- id - identificador unico para cada  tweet\n",
    "- text - el texto del tweet\n",
    "- location - ubicación desde donde fue enviado (podría no estar)\n",
    "- keyword - un keyword para el tweet  (podría faltar)\n",
    "- target - en train.csv, indica si se trata de un desastre real  (1) o no (0)\n",
    " \n",
    "\n",
    "\n",
    "Los submits con el resultado deben tener el formato:\n",
    "\n",
    "Id: Un id numérico para identificar el tweet\n",
    "target: 1 / 0 según se crea que el tweet se trata sobre un desastre real, o no.\n",
    "\n",
    "Los grupos deberán probar distintos algoritmos de Machine Learning para intentar predecir si el tweet está basado en hechos reales o no. A medida que los grupos realicen pruebas deben realizar el correspondiente submit en Kaggle para evaluar el resultado de los mismos.\n",
    "\n",
    "Al finalizar la competencia el grupo que mejor resultado tenga obtendrá 10 puntos para cada uno de sus integrantes que podrán ser usados en el examen por promoción o segundo recuperatorio.\n",
    "\n",
    "## Requisitos para la entrega del TP2:\n",
    "\n",
    "- El TP debe programarse en Python o R.\n",
    "- Debe entregarse un pdf con el informe de algoritmos probados, algoritmo final utilizado, transformaciones realizadas a los datos, feature engineering, etc. \n",
    "- El informe debe incluir también un link a github con el informe presentado en pdf, y todo el código.\n",
    "- El grupo debe presentar el TP en una computadora en la fecha indicada por la cátedra, el TP debe correr en un lapso de tiempo razonable (inferior a 1 hora) y generar un submission válido que iguale el mejor resultado obtenido por el grupo en Kaggle. (mas detalles a definir)\n",
    "\n",
    "## El TP2 se va a evaluar en función del siguiente criterio:\n",
    "\n",
    "- Cantidad de trabajo (esfuerzo) del grupo: ¿Probaron muchos algoritmos? ¿Hicieron un buen trabajo de pre-procesamiento de los datos y feature engineering?\n",
    "- Resultado obtenido en Kaggle (obviamente cuanto mejor resultado mejor nota)\n",
    "- Presentación final del informe, calidad de la redacción, uso de información obtenida en el TP1, conclusiones presentadas.\n",
    "- Performance de la solución final."
   ]
  },
  {
   "cell_type": "markdown",
   "source": [
    "## Forma de evaluar kaggle\n",
    "\n",
    "Las presentaciones se evalúan utilizando F1 entre las respuestas previstas y esperadas.\n",
    "\n",
    "F1 se calcula de la siguiente manera:\n",
    "$ F1=(2∗precision∗recall)/(precision+recall) $\n",
    "\n",
    "donde:\n",
    "\n",
    "$precision=TP/(TP+FP)$\n",
    "\n",
    "$recall=TP/(TP+FN)$\n",
    "\n",
    "\n",
    "con:\n",
    "\n",
    "- Verdadero positivo [TP] = your prediction is 1, and the ground truth is also 1 - you predicted a positive and that's true!\n",
    "- Falso positivo [FP] = your prediction is 1, and the ground truth is 0 - you predicted a positive, and that's false.\n",
    "- Falso Negativo [FN] = your prediction is 0, and the ground truth is 1 - you predicted a negative, and that's false."
   ],
   "metadata": {
    "collapsed": false
   }
  },
  {
   "cell_type": "markdown",
   "source": [
    "importaciones"
   ],
   "metadata": {
    "collapsed": false
   }
  },
  {
   "cell_type": "code",
   "execution_count": 1,
   "outputs": [
    {
     "name": "stderr",
     "text": [
      "Using TensorFlow backend.\n"
     ],
     "output_type": "stream"
    }
   ],
   "source": [
    "#IMPORTS\n",
    "import pandas as pd\n",
    "import numpy as np\n",
    "import matplotlib.pyplot as plt\n",
    "import seaborn as sns\n",
    "import plotly.graph_objects as go\n",
    "\n",
    "#plt.style.use('default')\n",
    "\n",
    "sns.set(style=\"whitegrid\")\n",
    "\n",
    "pd.options.display.float_format = '{:20,.2f}'.format \n",
    "\n",
    "import warnings\n",
    "warnings.filterwarnings('ignore')\n",
    "\n",
    "from matplotlib.colors import ListedColormap\n",
    "import matplotlib.patches as mpatches\n",
    " \n",
    "%matplotlib inline\n",
    "plt.rcParams['figure.figsize'] = (16, 9)\n",
    "plt.style.use('ggplot')\n",
    " \n",
    "#librerias para KNN\n",
    "from sklearn.model_selection import train_test_split\n",
    "from sklearn.preprocessing import MinMaxScaler\n",
    "from sklearn.neighbors import KNeighborsClassifier\n",
    "from sklearn.metrics import classification_report\n",
    "from sklearn.metrics import confusion_matrix\n",
    "#red neuronal\n",
    "from keras.models import Sequential\n",
    "from keras.layers.core import Dense\n",
    "#arboles de decicion\n",
    "plt.rcParams['figure.figsize'] = (16, 9)\n",
    "plt.style.use('ggplot')\n",
    "from sklearn import tree\n",
    "from sklearn.metrics import accuracy_score\n",
    "from sklearn.model_selection import KFold\n",
    "from sklearn.model_selection import cross_val_score\n",
    "from IPython.display import Image as PImage\n",
    "from subprocess import check_call\n",
    "from PIL import Image, ImageDraw, ImageFont\n",
    "from sklearn.ensemble import RandomForestClassifier\n",
    "from sklearn.tree import DecisionTreeClassifier\n",
    "#catboost\n",
    "from catboost import CatBoostRegressor\n",
    "\n",
    "#palabras\n",
    "import nltk\n",
    "#nltk.download('stopwords')#si no tiene stopword habilitar esta linea\n",
    "from nltk.corpus import stopwords\n",
    "import gensim \n",
    "from gensim.models import Word2Vec \n",
    "#tf-idf\n",
    "from sklearn.feature_extraction.text import TfidfVectorizer"
   ],
   "metadata": {
    "collapsed": false,
    "pycharm": {
     "name": "#%%\n",
     "is_executing": false
    }
   }
  },
  {
   "cell_type": "code",
   "execution_count": 2,
   "outputs": [],
   "source": [
    "stopwordEnglis = stopwords.words('english')\n",
    "tfidf = TfidfVectorizer()"
   ],
   "metadata": {
    "collapsed": false,
    "pycharm": {
     "name": "#%%\n",
     "is_executing": false
    }
   }
  },
  {
   "cell_type": "markdown",
   "source": [
    "inicio de csv"
   ],
   "metadata": {
    "collapsed": false
   }
  },
  {
   "cell_type": "code",
   "source": [
    "tweets_original_entrenamiento = pd.read_csv('train.csv',index_col=['id'])\n",
    "tweets_original_entrenamiento.head()"
   ],
   "metadata": {
    "collapsed": false,
    "pycharm": {
     "name": "#%%\n",
     "is_executing": false
    }
   },
   "execution_count": 3,
   "outputs": [
    {
     "data": {
      "text/plain": "   keyword location                                               text  target\nid                                                                            \n1      NaN      NaN  Our Deeds are the Reason of this #earthquake M...       1\n4      NaN      NaN             Forest fire near La Ronge Sask. Canada       1\n5      NaN      NaN  All residents asked to 'shelter in place' are ...       1\n6      NaN      NaN  13,000 people receive #wildfires evacuation or...       1\n7      NaN      NaN  Just got sent this photo from Ruby #Alaska as ...       1",
      "text/html": "<div>\n<style scoped>\n    .dataframe tbody tr th:only-of-type {\n        vertical-align: middle;\n    }\n\n    .dataframe tbody tr th {\n        vertical-align: top;\n    }\n\n    .dataframe thead th {\n        text-align: right;\n    }\n</style>\n<table border=\"1\" class=\"dataframe\">\n  <thead>\n    <tr style=\"text-align: right;\">\n      <th></th>\n      <th>keyword</th>\n      <th>location</th>\n      <th>text</th>\n      <th>target</th>\n    </tr>\n    <tr>\n      <th>id</th>\n      <th></th>\n      <th></th>\n      <th></th>\n      <th></th>\n    </tr>\n  </thead>\n  <tbody>\n    <tr>\n      <th>1</th>\n      <td>NaN</td>\n      <td>NaN</td>\n      <td>Our Deeds are the Reason of this #earthquake M...</td>\n      <td>1</td>\n    </tr>\n    <tr>\n      <th>4</th>\n      <td>NaN</td>\n      <td>NaN</td>\n      <td>Forest fire near La Ronge Sask. Canada</td>\n      <td>1</td>\n    </tr>\n    <tr>\n      <th>5</th>\n      <td>NaN</td>\n      <td>NaN</td>\n      <td>All residents asked to 'shelter in place' are ...</td>\n      <td>1</td>\n    </tr>\n    <tr>\n      <th>6</th>\n      <td>NaN</td>\n      <td>NaN</td>\n      <td>13,000 people receive #wildfires evacuation or...</td>\n      <td>1</td>\n    </tr>\n    <tr>\n      <th>7</th>\n      <td>NaN</td>\n      <td>NaN</td>\n      <td>Just got sent this photo from Ruby #Alaska as ...</td>\n      <td>1</td>\n    </tr>\n  </tbody>\n</table>\n</div>"
     },
     "metadata": {},
     "output_type": "execute_result",
     "execution_count": 3
    }
   ]
  },
  {
   "cell_type": "code",
   "execution_count": 4,
   "outputs": [
    {
     "data": {
      "text/plain": "   keyword location                                               text\nid                                                                    \n0      NaN      NaN                 Just happened a terrible car crash\n2      NaN      NaN  Heard about #earthquake is different cities, s...\n3      NaN      NaN  there is a forest fire at spot pond, geese are...\n9      NaN      NaN           Apocalypse lighting. #Spokane #wildfires\n11     NaN      NaN      Typhoon Soudelor kills 28 in China and Taiwan",
      "text/html": "<div>\n<style scoped>\n    .dataframe tbody tr th:only-of-type {\n        vertical-align: middle;\n    }\n\n    .dataframe tbody tr th {\n        vertical-align: top;\n    }\n\n    .dataframe thead th {\n        text-align: right;\n    }\n</style>\n<table border=\"1\" class=\"dataframe\">\n  <thead>\n    <tr style=\"text-align: right;\">\n      <th></th>\n      <th>keyword</th>\n      <th>location</th>\n      <th>text</th>\n    </tr>\n    <tr>\n      <th>id</th>\n      <th></th>\n      <th></th>\n      <th></th>\n    </tr>\n  </thead>\n  <tbody>\n    <tr>\n      <th>0</th>\n      <td>NaN</td>\n      <td>NaN</td>\n      <td>Just happened a terrible car crash</td>\n    </tr>\n    <tr>\n      <th>2</th>\n      <td>NaN</td>\n      <td>NaN</td>\n      <td>Heard about #earthquake is different cities, s...</td>\n    </tr>\n    <tr>\n      <th>3</th>\n      <td>NaN</td>\n      <td>NaN</td>\n      <td>there is a forest fire at spot pond, geese are...</td>\n    </tr>\n    <tr>\n      <th>9</th>\n      <td>NaN</td>\n      <td>NaN</td>\n      <td>Apocalypse lighting. #Spokane #wildfires</td>\n    </tr>\n    <tr>\n      <th>11</th>\n      <td>NaN</td>\n      <td>NaN</td>\n      <td>Typhoon Soudelor kills 28 in China and Taiwan</td>\n    </tr>\n  </tbody>\n</table>\n</div>"
     },
     "metadata": {},
     "output_type": "execute_result",
     "execution_count": 4
    }
   ],
   "source": [
    "tweets_original_prueva = pd.read_csv('test.csv',index_col=['id'])\n",
    "tweets_original_prueva.head()"
   ],
   "metadata": {
    "collapsed": false,
    "pycharm": {
     "name": "#%%\n",
     "is_executing": false
    }
   }
  },
  {
   "cell_type": "markdown",
   "source": [
    "calculo resultado"
   ],
   "metadata": {
    "collapsed": false
   }
  },
  {
   "cell_type": "code",
   "execution_count": 5,
   "outputs": [],
   "source": [
    "#resultados\n",
    "resultados_de_test = pd.read_csv('respuestas.csv',index_col=['id'])\n",
    "#revisar los resultados\n",
    "def calclarPresicionYRecall(df):\n",
    "    respuestas = resultados_de_test\n",
    "    respuestas['prediccion'] = df['target']\n",
    "    #respuestas['TP'] = [1 if (respuestas['target'] == 1 and respuestas['prediccion'] == 1) else 0]\n",
    "    #respuestas['FP'] = [1 if (respuestas['target'] == 0 and respuestas['prediccion'] == 1) else 0]\n",
    "    #respuestas['FN'] = [1 if (respuestas['target'] == 1 and respuestas['prediccion'] == 0) else 0]\n",
    "    \n",
    "    respuestas.loc[respuestas['prediccion'] + respuestas['target'] == 2 , 'TP'] = 1\n",
    "    respuestas.loc[respuestas['prediccion'] + (respuestas['target'] * 2) == 1 , 'FP'] = 1\n",
    "    respuestas.loc[respuestas['prediccion'] + (respuestas['target'] * 2) == 2 , 'FN'] = 1\n",
    "    respuestas['TP'].fillna(0, inplace=True)\n",
    "    respuestas['FP'].fillna(0, inplace=True)\n",
    "    respuestas['FN'].fillna(0, inplace=True)\n",
    "\n",
    "    tp = respuestas['TP'].sum()\n",
    "    fp = respuestas['FP'].sum()\n",
    "    fn = respuestas['FN'].sum()\n",
    "    \n",
    "    #print(tp,fp,fn)\n",
    "    #print(respuestas.head())\n",
    "    \n",
    "    sumaPresicion = tp + fp\n",
    "    sumaRecall = tp + fn\n",
    "    presicion = tp / sumaPresicion\n",
    "    recall = tp / sumaRecall\n",
    "    return (presicion,recall)\n",
    "\n",
    "def F1(df):\n",
    "    presicion,recall = calclarPresicionYRecall(df)\n",
    "    resultado = 2 * presicion * recall\n",
    "    resultado /= (presicion + recall)\n",
    "    return resultado"
   ],
   "metadata": {
    "collapsed": false,
    "pycharm": {
     "name": "#%%\n",
     "is_executing": false
    }
   }
  },
  {
   "cell_type": "markdown",
   "source": [
    "inicio de problema"
   ],
   "metadata": {
    "collapsed": false
   }
  },
  {
   "cell_type": "markdown",
   "source": [
    "## CATBOOST"
   ],
   "metadata": {
    "collapsed": false
   }
  },
  {
   "cell_type": "code",
   "execution_count": 36,
   "outputs": [],
   "source": [
    "\"\"\"\n",
    "vacio = 0000\n",
    "a = 0001\n",
    "b = 0010\n",
    "c = 0011\n",
    "d = 0100\n",
    "e = 0101\n",
    "f = 0110\n",
    "h = 0111\n",
    "r = 1000\n",
    "s = 1001\n",
    "t = 1010\n",
    "w = 1011\n",
    "\"\"\"\n",
    "LETRAS_0 = ['a','c','e','h','s','w']\n",
    "def letra0(x):\n",
    "    if (x in LETRAS_0):\n",
    "        return 1\n",
    "    return 0\n",
    "LETRAS_1 = ['b','c','f','h','t','w']\n",
    "def letra1(x):\n",
    "    if (x in LETRAS_1):\n",
    "        return 1\n",
    "    return 0\n",
    "LETRAS_2 = ['d','e','f','h']\n",
    "def letra2(x):\n",
    "    if (x in LETRAS_2):\n",
    "        return 1\n",
    "    return 0\n",
    "LETRAS_3 = ['r','s','t','w']\n",
    "def letra3(x):\n",
    "    if (x in LETRAS_3):\n",
    "        return 1\n",
    "    return 0\n",
    "def letra_inicial_Keyword_BOW(df):\n",
    "    #for i in range(0,4):\n",
    "    #    texto = 'letra_' + str(i)\n",
    "    #    df[texto] = 0\n",
    "    df['letra_0'] = 0\n",
    "    df['letra_1'] = 0\n",
    "    df['letra_2'] = 0\n",
    "    df['letra_3'] = 0\n",
    "    df['letra_0'] = df['keyword'].str.strip().str[0].map(lambda x:letra0(x))\n",
    "    df['letra_1'] = df['keyword'].str.strip().str[0].map(lambda x:letra0(x))\n",
    "    df['letra_2'] = df['keyword'].str.strip().str[0].map(lambda x:letra0(x))\n",
    "    df['letra_3'] = df['keyword'].str.strip().str[0].map(lambda x:letra0(x))\n",
    "    return df\n",
    "     "
   ],
   "metadata": {
    "collapsed": false,
    "pycharm": {
     "name": "#%%\n",
     "is_executing": false
    }
   }
  },
  {
   "cell_type": "code",
   "execution_count": 35,
   "outputs": [],
   "source": [
    "\n",
    "def set_palabras_del_train(df):\n",
    "    palabrasTexto = []\n",
    "    palabrasKeyword = []\n",
    "    \n",
    "    df['palabras_de_texto'] = df['text'].str.lower().str.split().apply(lambda x: [item for item in x if item not in stopwordEnglis])\n",
    "    df['palabras_de_keyword'] = df['text'].str.lower().str.split().apply(lambda x: [item for item in x if item not in stopwordEnglis])\n",
    "    \n",
    "    return (palabrasTexto,palabrasKeyword)\n",
    "\n",
    "def preparar_df(df,listadoDePalabrasDelTextoDelSetDeEntrenamiento=[],listadoDePalabrasDelKeywordDelSetDeEntrenamiento=[]):\n",
    "    df['text'].fillna(\"\", inplace=True)\n",
    "    df['keyword'].fillna(\"\", inplace=True)\n",
    "    df['location'].fillna(\"\", inplace=True)\n",
    "    \n",
    "    df['longitud_de_texto'] = df['text'].str.len()\n",
    "    df['longitud_de_keyword'] = df['keyword'].str.len()\n",
    "    \n",
    "    df['palabras_de_texto'] = df['text'].str.lower().str.split().apply(lambda x: [item for item in x if item not in stopwordEnglis])\n",
    "    df['palabras_de_keyword'] = df['text'].str.lower().str.split().apply(lambda x: [item for item in x if item not in stopwordEnglis])\n",
    "    \n",
    "    df['cantidad_de_palabras_texto'] = df['palabras_de_texto'].map(len)\n",
    "    df['cantidad_de_palabras_keyword'] = df['palabras_de_keyword'].map(len)\n",
    "    \n",
    "    #df['palabras_de_texto'] = df['palabras_de_texto'].apply(lambda x: [item for item in x if item in listadoDePalabrasDelTextoDelSetDeEntrenamiento])\n",
    "    #df['palabras_de_keyword'] = df['palabras_de_keyword'].apply(lambda x: [item for item in x if item in listadoDePalabrasDelKeywordDelSetDeEntrenamiento])\n",
    "    \n",
    "    #df['text'] = df['text'].str.replace(r' ', '')\n",
    "    #df['keyword'] = df['keyword'].str.replace(r' ', '')\n",
    "    #df['location'] = df['location'].str.replace(r' ', '')\n",
    "    \n",
    "    #TF-IDF\n",
    "    #x = tfidf.fit_transform(df['palabras_de_texto'])\n",
    "    #df_tfidf = pd.DataFrame(x.toarray(), columns=tfidf.get_feature_names())\n",
    "    #df.join(df_tfidf)#mal planteado\n",
    "    \n",
    "    df = letra_inicial_Keyword_BOW(df)   \n",
    "    df = df.drop(columns=['keyword','text','location'])\n",
    "    df = df.drop(columns=['palabras_de_texto','palabras_de_keyword'])\n",
    "    \n",
    "    return df"
   ],
   "metadata": {
    "collapsed": false,
    "pycharm": {
     "name": "#%%   \n",
     "is_executing": false
    }
   }
  },
  {
   "cell_type": "code",
   "execution_count": 41,
   "outputs": [
    {
     "data": {
      "text/plain": "    longitud_de_texto  longitud_de_keyword  cantidad_de_palabras_texto  \\\nid                                                                       \n1                  69                    0                           7   \n4                  38                    0                           7   \n5                 133                    0                          11   \n6                  65                    0                           7   \n7                  88                    0                           9   \n\n    cantidad_de_palabras_keyword  letra_0  letra_1  letra_2  letra_3  \nid                                                                    \n1                              7        0        0        0        0  \n4                              7        0        0        0        0  \n5                             11        0        0        0        0  \n6                              7        0        0        0        0  \n7                              9        0        0        0        0  ",
      "text/html": "<div>\n<style scoped>\n    .dataframe tbody tr th:only-of-type {\n        vertical-align: middle;\n    }\n\n    .dataframe tbody tr th {\n        vertical-align: top;\n    }\n\n    .dataframe thead th {\n        text-align: right;\n    }\n</style>\n<table border=\"1\" class=\"dataframe\">\n  <thead>\n    <tr style=\"text-align: right;\">\n      <th></th>\n      <th>longitud_de_texto</th>\n      <th>longitud_de_keyword</th>\n      <th>cantidad_de_palabras_texto</th>\n      <th>cantidad_de_palabras_keyword</th>\n      <th>letra_0</th>\n      <th>letra_1</th>\n      <th>letra_2</th>\n      <th>letra_3</th>\n    </tr>\n    <tr>\n      <th>id</th>\n      <th></th>\n      <th></th>\n      <th></th>\n      <th></th>\n      <th></th>\n      <th></th>\n      <th></th>\n      <th></th>\n    </tr>\n  </thead>\n  <tbody>\n    <tr>\n      <th>1</th>\n      <td>69</td>\n      <td>0</td>\n      <td>7</td>\n      <td>7</td>\n      <td>0</td>\n      <td>0</td>\n      <td>0</td>\n      <td>0</td>\n    </tr>\n    <tr>\n      <th>4</th>\n      <td>38</td>\n      <td>0</td>\n      <td>7</td>\n      <td>7</td>\n      <td>0</td>\n      <td>0</td>\n      <td>0</td>\n      <td>0</td>\n    </tr>\n    <tr>\n      <th>5</th>\n      <td>133</td>\n      <td>0</td>\n      <td>11</td>\n      <td>11</td>\n      <td>0</td>\n      <td>0</td>\n      <td>0</td>\n      <td>0</td>\n    </tr>\n    <tr>\n      <th>6</th>\n      <td>65</td>\n      <td>0</td>\n      <td>7</td>\n      <td>7</td>\n      <td>0</td>\n      <td>0</td>\n      <td>0</td>\n      <td>0</td>\n    </tr>\n    <tr>\n      <th>7</th>\n      <td>88</td>\n      <td>0</td>\n      <td>9</td>\n      <td>9</td>\n      <td>0</td>\n      <td>0</td>\n      <td>0</td>\n      <td>0</td>\n    </tr>\n  </tbody>\n</table>\n</div>"
     },
     "metadata": {},
     "output_type": "execute_result",
     "execution_count": 41
    }
   ],
   "source": [
    "train_label = tweets_original_entrenamiento['target']\n",
    "train_set = tweets_original_entrenamiento.drop(columns=['target'])\n",
    "train_set = preparar_df(train_set)\n",
    "train_set.head()"
   ],
   "metadata": {
    "collapsed": false,
    "pycharm": {
     "name": "#%%\n",
     "is_executing": false
    }
   }
  },
  {
   "cell_type": "code",
   "execution_count": 42,
   "outputs": [
    {
     "data": {
      "text/plain": "    longitud_de_texto  longitud_de_keyword  cantidad_de_palabras_texto  \\\nid                                                                       \n0                  34                    0                           4   \n2                  64                    0                           7   \n3                  96                    0                          10   \n9                  40                    0                           4   \n11                 45                    0                           6   \n\n    cantidad_de_palabras_keyword  letra_0  letra_1  letra_2  letra_3  \nid                                                                    \n0                              4        0        0        0        0  \n2                              7        0        0        0        0  \n3                             10        0        0        0        0  \n9                              4        0        0        0        0  \n11                             6        0        0        0        0  ",
      "text/html": "<div>\n<style scoped>\n    .dataframe tbody tr th:only-of-type {\n        vertical-align: middle;\n    }\n\n    .dataframe tbody tr th {\n        vertical-align: top;\n    }\n\n    .dataframe thead th {\n        text-align: right;\n    }\n</style>\n<table border=\"1\" class=\"dataframe\">\n  <thead>\n    <tr style=\"text-align: right;\">\n      <th></th>\n      <th>longitud_de_texto</th>\n      <th>longitud_de_keyword</th>\n      <th>cantidad_de_palabras_texto</th>\n      <th>cantidad_de_palabras_keyword</th>\n      <th>letra_0</th>\n      <th>letra_1</th>\n      <th>letra_2</th>\n      <th>letra_3</th>\n    </tr>\n    <tr>\n      <th>id</th>\n      <th></th>\n      <th></th>\n      <th></th>\n      <th></th>\n      <th></th>\n      <th></th>\n      <th></th>\n      <th></th>\n    </tr>\n  </thead>\n  <tbody>\n    <tr>\n      <th>0</th>\n      <td>34</td>\n      <td>0</td>\n      <td>4</td>\n      <td>4</td>\n      <td>0</td>\n      <td>0</td>\n      <td>0</td>\n      <td>0</td>\n    </tr>\n    <tr>\n      <th>2</th>\n      <td>64</td>\n      <td>0</td>\n      <td>7</td>\n      <td>7</td>\n      <td>0</td>\n      <td>0</td>\n      <td>0</td>\n      <td>0</td>\n    </tr>\n    <tr>\n      <th>3</th>\n      <td>96</td>\n      <td>0</td>\n      <td>10</td>\n      <td>10</td>\n      <td>0</td>\n      <td>0</td>\n      <td>0</td>\n      <td>0</td>\n    </tr>\n    <tr>\n      <th>9</th>\n      <td>40</td>\n      <td>0</td>\n      <td>4</td>\n      <td>4</td>\n      <td>0</td>\n      <td>0</td>\n      <td>0</td>\n      <td>0</td>\n    </tr>\n    <tr>\n      <th>11</th>\n      <td>45</td>\n      <td>0</td>\n      <td>6</td>\n      <td>6</td>\n      <td>0</td>\n      <td>0</td>\n      <td>0</td>\n      <td>0</td>\n    </tr>\n  </tbody>\n</table>\n</div>"
     },
     "metadata": {},
     "output_type": "execute_result",
     "execution_count": 42
    }
   ],
   "source": [
    "test_set = tweets_original_prueva\n",
    "test_set = preparar_df(test_set)\n",
    "test_set.head()"
   ],
   "metadata": {
    "collapsed": false,
    "pycharm": {
     "name": "#%%\n",
     "is_executing": false
    }
   }
  },
  {
   "cell_type": "code",
   "execution_count": 43,
   "outputs": [],
   "source": [
    "def ensamble(df,n,prediccion):\n",
    "    #df['prediccion'] = prediccion\n",
    "    #df['prediccion'] = df['prediccion'].round()\n",
    "    df['target'] = df['target'] + prediccion.round()\n",
    "    n += 1\n",
    "    return (n,df)\n",
    "\n",
    "def calcular_resultado_de_prediccion(df,n):\n",
    "    df['target'] = df['target'].div(n).round()\n",
    "    return df"
   ],
   "metadata": {
    "collapsed": false,
    "pycharm": {
     "name": "#%%\n",
     "is_executing": false
    }
   }
  },
  {
   "cell_type": "code",
   "execution_count": 44,
   "outputs": [
    {
     "name": "stdout",
     "text": [
      "0:\tlearn: 0.4857652\ttotal: 56.5ms\tremaining: 282ms\n1:\tlearn: 0.4799957\ttotal: 60.1ms\tremaining: 120ms\n2:\tlearn: 0.4778259\ttotal: 62ms\tremaining: 62ms\n3:\tlearn: 0.4748560\ttotal: 65.5ms\tremaining: 32.7ms\n4:\tlearn: 0.4717930\ttotal: 69.2ms\tremaining: 13.8ms\n5:\tlearn: 0.4706753\ttotal: 72.7ms\tremaining: 0us\n",
      "prediccion =  1\n0:\tlearn: 0.4853760\ttotal: 5.56ms\tremaining: 27.8ms\n1:\tlearn: 0.4800079\ttotal: 10.6ms\tremaining: 21.3ms\n2:\tlearn: 0.4771473\ttotal: 13.5ms\tremaining: 13.5ms\n3:\tlearn: 0.4748739\ttotal: 17.3ms\tremaining: 8.66ms\n4:\tlearn: 0.4730736\ttotal: 26.5ms\tremaining: 5.31ms\n5:\tlearn: 0.4710886\ttotal: 29.6ms\tremaining: 0us\nprediccion =  2\n0:\tlearn: 0.4851526\ttotal: 8.83ms\tremaining: 44.2ms\n",
      "1:\tlearn: 0.4778700\ttotal: 17.6ms\tremaining: 35.2ms\n2:\tlearn: 0.4756644\ttotal: 19.4ms\tremaining: 19.4ms\n3:\tlearn: 0.4717735\ttotal: 27.5ms\tremaining: 13.8ms\n4:\tlearn: 0.4696724\ttotal: 36.3ms\tremaining: 7.27ms\n5:\tlearn: 0.4678031\ttotal: 44.9ms\tremaining: 0us\nprediccion =  3\n",
      "0:\tlearn: 0.4843323\ttotal: 14.4ms\tremaining: 71.8ms\n1:\tlearn: 0.4775997\ttotal: 58.7ms\tremaining: 117ms\n2:\tlearn: 0.4745241\ttotal: 62.5ms\tremaining: 62.5ms\n3:\tlearn: 0.4698350\ttotal: 83.1ms\tremaining: 41.6ms\n4:\tlearn: 0.4666102\ttotal: 102ms\tremaining: 20.3ms\n5:\tlearn: 0.4663211\ttotal: 105ms\tremaining: 0us\n",
      "prediccion =  4\n0:\tlearn: 0.4832060\ttotal: 28.3ms\tremaining: 142ms\n1:\tlearn: 0.4755224\ttotal: 56.2ms\tremaining: 112ms\n2:\tlearn: 0.4706099\ttotal: 84.3ms\tremaining: 84.3ms\n3:\tlearn: 0.4694721\ttotal: 85.9ms\tremaining: 42.9ms\n4:\tlearn: 0.4654877\ttotal: 114ms\tremaining: 22.8ms\n5:\tlearn: 0.4651521\ttotal: 115ms\tremaining: 0us\n",
      "prediccion =  5\n0:\tlearn: 0.4827801\ttotal: 80.8ms\tremaining: 404ms\n1:\tlearn: 0.4778336\ttotal: 83.4ms\tremaining: 167ms\n2:\tlearn: 0.4694253\ttotal: 164ms\tremaining: 164ms\n",
      "3:\tlearn: 0.4668008\ttotal: 176ms\tremaining: 88.2ms\n4:\tlearn: 0.4658241\ttotal: 179ms\tremaining: 35.7ms\n5:\tlearn: 0.4626286\ttotal: 240ms\tremaining: 0us\nprediccion =  6\n",
      "0:\tlearn: 0.4818237\ttotal: 118ms\tremaining: 588ms\n1:\tlearn: 0.4780375\ttotal: 121ms\tremaining: 243ms\n2:\tlearn: 0.4751810\ttotal: 127ms\tremaining: 127ms\n3:\tlearn: 0.4730983\ttotal: 133ms\tremaining: 66.3ms\n4:\tlearn: 0.4680186\ttotal: 281ms\tremaining: 56.3ms\n",
      "5:\tlearn: 0.4647777\ttotal: 409ms\tremaining: 0us\nprediccion =  7\n",
      "0:\tlearn: 0.4818237\ttotal: 265ms\tremaining: 1.33s\n1:\tlearn: 0.4761593\ttotal: 285ms\tremaining: 569ms\n2:\tlearn: 0.4693870\ttotal: 411ms\tremaining: 411ms\n",
      "3:\tlearn: 0.4652046\ttotal: 642ms\tremaining: 321ms\n",
      "4:\tlearn: 0.4599677\ttotal: 878ms\tremaining: 176ms\n",
      "5:\tlearn: 0.4572464\ttotal: 1.11s\tremaining: 0us\nprediccion =  8\n0:\tlearn: 0.4833450\ttotal: 11.4ms\tremaining: 57.1ms\n1:\tlearn: 0.4775172\ttotal: 15.7ms\tremaining: 31.4ms\n",
      "2:\tlearn: 0.4754729\ttotal: 18.2ms\tremaining: 18.2ms\n3:\tlearn: 0.4723507\ttotal: 22.4ms\tremaining: 11.2ms\n4:\tlearn: 0.4709283\ttotal: 26.2ms\tremaining: 5.24ms\n5:\tlearn: 0.4692211\ttotal: 30.1ms\tremaining: 0us\nprediccion =  9\n0:\tlearn: 0.4828370\ttotal: 5.59ms\tremaining: 27.9ms\n1:\tlearn: 0.4771460\ttotal: 10.8ms\tremaining: 21.5ms\n2:\tlearn: 0.4742042\ttotal: 13.6ms\tremaining: 13.6ms\n3:\tlearn: 0.4726663\ttotal: 17.1ms\tremaining: 8.55ms\n4:\tlearn: 0.4706452\ttotal: 22.1ms\tremaining: 4.41ms\n5:\tlearn: 0.4664767\ttotal: 27.2ms\tremaining: 0us\n",
      "prediccion =  10\n0:\tlearn: 0.4825458\ttotal: 8ms\tremaining: 40ms\n1:\tlearn: 0.4745595\ttotal: 16.1ms\tremaining: 32.1ms\n2:\tlearn: 0.4715347\ttotal: 23.8ms\tremaining: 23.8ms\n3:\tlearn: 0.4671247\ttotal: 32.3ms\tremaining: 16.1ms\n4:\tlearn: 0.4645651\ttotal: 70.2ms\tremaining: 14ms\n5:\tlearn: 0.4620967\ttotal: 80.1ms\tremaining: 0us\n",
      "prediccion =  11\n0:\tlearn: 0.4814948\ttotal: 16.3ms\tremaining: 81.6ms\n1:\tlearn: 0.4743194\ttotal: 31.6ms\tremaining: 63.2ms\n2:\tlearn: 0.4715698\ttotal: 34.8ms\tremaining: 34.8ms\n3:\tlearn: 0.4707266\ttotal: 36.3ms\tremaining: 18.2ms\n4:\tlearn: 0.4679321\ttotal: 38.4ms\tremaining: 7.67ms\n5:\tlearn: 0.4672134\ttotal: 41.5ms\tremaining: 0us\nprediccion =  12\n0:\tlearn: 0.4800614\ttotal: 28.5ms\tremaining: 142ms\n",
      "1:\tlearn: 0.4734131\ttotal: 59.5ms\tremaining: 119ms\n2:\tlearn: 0.4713386\ttotal: 61.6ms\tremaining: 61.6ms\n3:\tlearn: 0.4688580\ttotal: 64.4ms\tremaining: 32.2ms\n4:\tlearn: 0.4682555\ttotal: 66.3ms\tremaining: 13.3ms\n5:\tlearn: 0.4619478\ttotal: 95.4ms\tremaining: 0us\nprediccion =  13\n",
      "0:\tlearn: 0.4795103\ttotal: 64.5ms\tremaining: 323ms\n1:\tlearn: 0.4746446\ttotal: 67.1ms\tremaining: 134ms\n2:\tlearn: 0.4717714\ttotal: 68.8ms\tremaining: 68.8ms\n3:\tlearn: 0.4690820\ttotal: 72.2ms\tremaining: 36.1ms\n4:\tlearn: 0.4644526\ttotal: 131ms\tremaining: 26.2ms\n5:\tlearn: 0.4630830\ttotal: 136ms\tremaining: 0us\nprediccion =  14\n",
      "0:\tlearn: 0.4782868\ttotal: 143ms\tremaining: 713ms\n1:\tlearn: 0.4706470\ttotal: 187ms\tremaining: 373ms\n2:\tlearn: 0.4644888\ttotal: 316ms\tremaining: 316ms\n3:\tlearn: 0.4637676\ttotal: 319ms\tremaining: 160ms\n",
      "4:\tlearn: 0.4631003\ttotal: 322ms\tremaining: 64.3ms\n5:\tlearn: 0.4587941\ttotal: 439ms\tremaining: 0us\nprediccion =  15\n",
      "0:\tlearn: 0.4782868\ttotal: 260ms\tremaining: 1.3s\n1:\tlearn: 0.4726258\ttotal: 277ms\tremaining: 553ms\n2:\tlearn: 0.4656388\ttotal: 398ms\tremaining: 398ms\n3:\tlearn: 0.4649525\ttotal: 402ms\tremaining: 201ms\n",
      "4:\tlearn: 0.4610180\ttotal: 634ms\tremaining: 127ms\n5:\tlearn: 0.4602026\ttotal: 639ms\tremaining: 0us\nprediccion =  16\n0:\tlearn: 0.4812673\ttotal: 3.98ms\tremaining: 19.9ms\n1:\tlearn: 0.4756179\ttotal: 7.61ms\tremaining: 15.2ms\n2:\tlearn: 0.4729407\ttotal: 11.2ms\tremaining: 11.2ms\n3:\tlearn: 0.4709523\ttotal: 14.9ms\tremaining: 7.45ms\n4:\tlearn: 0.4699331\ttotal: 18.5ms\tremaining: 3.69ms\n5:\tlearn: 0.4670042\ttotal: 22.1ms\tremaining: 0us\n",
      "prediccion =  17\n0:\tlearn: 0.4806466\ttotal: 6ms\tremaining: 30ms\n1:\tlearn: 0.4731445\ttotal: 11.5ms\tremaining: 23.1ms\n2:\tlearn: 0.4704871\ttotal: 14.4ms\tremaining: 14.4ms\n3:\tlearn: 0.4685487\ttotal: 20ms\tremaining: 9.99ms\n4:\tlearn: 0.4652232\ttotal: 25.2ms\tremaining: 5.04ms\n5:\tlearn: 0.4630132\ttotal: 30.4ms\tremaining: 0us\nprediccion =  18\n0:\tlearn: 0.4802913\ttotal: 7.96ms\tremaining: 39.8ms\n1:\tlearn: 0.4719404\ttotal: 15.7ms\tremaining: 31.4ms\n2:\tlearn: 0.4690114\ttotal: 23.5ms\tremaining: 23.5ms\n3:\tlearn: 0.4642370\ttotal: 28.3ms\tremaining: 14.1ms\n4:\tlearn: 0.4635709\ttotal: 31.5ms\tremaining: 6.29ms\n5:\tlearn: 0.4624557\ttotal: 39.6ms\tremaining: 0us\n",
      "prediccion =  19\n0:\tlearn: 0.4790326\ttotal: 15.1ms\tremaining: 75.3ms\n1:\tlearn: 0.4713354\ttotal: 29.7ms\tremaining: 59.4ms\n2:\tlearn: 0.4647800\ttotal: 43.8ms\tremaining: 43.8ms\n3:\tlearn: 0.4621271\ttotal: 58.9ms\tremaining: 29.4ms\n4:\tlearn: 0.4598835\ttotal: 80.1ms\tremaining: 16ms\n5:\tlearn: 0.4564525\ttotal: 99.1ms\tremaining: 0us\n",
      "prediccion =  20\n0:\tlearn: 0.4773287\ttotal: 28ms\tremaining: 140ms\n1:\tlearn: 0.4695181\ttotal: 86.2ms\tremaining: 172ms\n2:\tlearn: 0.4676290\ttotal: 88.4ms\tremaining: 88.4ms\n3:\tlearn: 0.4661734\ttotal: 91ms\tremaining: 45.5ms\n4:\tlearn: 0.4652802\ttotal: 92.8ms\tremaining: 18.6ms\n5:\tlearn: 0.4611483\ttotal: 129ms\tremaining: 0us\n",
      "prediccion =  21\n0:\tlearn: 0.4766617\ttotal: 57.4ms\tremaining: 287ms\n1:\tlearn: 0.4702175\ttotal: 114ms\tremaining: 229ms\n2:\tlearn: 0.4619166\ttotal: 172ms\tremaining: 172ms\n",
      "3:\tlearn: 0.4582369\ttotal: 232ms\tremaining: 116ms\n4:\tlearn: 0.4563564\ttotal: 322ms\tremaining: 64.4ms\n5:\tlearn: 0.4561044\ttotal: 325ms\tremaining: 0us\n",
      "prediccion =  22\n0:\tlearn: 0.4751991\ttotal: 116ms\tremaining: 582ms\n1:\tlearn: 0.4669630\ttotal: 145ms\tremaining: 289ms\n",
      "2:\tlearn: 0.4607201\ttotal: 262ms\tremaining: 262ms\n3:\tlearn: 0.4601538\ttotal: 265ms\tremaining: 133ms\n4:\tlearn: 0.4580116\ttotal: 413ms\tremaining: 82.6ms\n",
      "5:\tlearn: 0.4539290\ttotal: 544ms\tremaining: 0us\nprediccion =  23\n",
      "0:\tlearn: 0.4751991\ttotal: 259ms\tremaining: 1.29s\n1:\tlearn: 0.4695340\ttotal: 283ms\tremaining: 566ms\n2:\tlearn: 0.4622501\ttotal: 403ms\tremaining: 403ms\n3:\tlearn: 0.4611008\ttotal: 407ms\tremaining: 203ms\n",
      "4:\tlearn: 0.4570576\ttotal: 639ms\tremaining: 128ms\n5:\tlearn: 0.4561401\ttotal: 648ms\tremaining: 0us\nprediccion =  24\n0:\tlearn: 0.4795367\ttotal: 4.03ms\tremaining: 20.2ms\n1:\tlearn: 0.4743364\ttotal: 7.64ms\tremaining: 15.3ms\n2:\tlearn: 0.4726696\ttotal: 9.58ms\tremaining: 9.58ms\n3:\tlearn: 0.4700932\ttotal: 12.1ms\tremaining: 6.04ms\n4:\tlearn: 0.4681234\ttotal: 16.1ms\tremaining: 3.21ms\n5:\tlearn: 0.4661640\ttotal: 21.2ms\tremaining: 0us\nprediccion =  25\n0:\tlearn: 0.4788097\ttotal: 8.86ms\tremaining: 44.3ms\n",
      "1:\tlearn: 0.4724596\ttotal: 15.7ms\tremaining: 31.4ms\n2:\tlearn: 0.4686685\ttotal: 18.9ms\tremaining: 18.9ms\n3:\tlearn: 0.4666294\ttotal: 24.2ms\tremaining: 12.1ms\n4:\tlearn: 0.4648961\ttotal: 29.8ms\tremaining: 5.96ms\n5:\tlearn: 0.4639392\ttotal: 35.3ms\tremaining: 0us\nprediccion =  26\n0:\tlearn: 0.4783942\ttotal: 8.66ms\tremaining: 43.3ms\n1:\tlearn: 0.4701757\ttotal: 16.5ms\tremaining: 32.9ms\n2:\tlearn: 0.4672083\ttotal: 24.4ms\tremaining: 24.4ms\n3:\tlearn: 0.4631881\ttotal: 29.2ms\tremaining: 14.6ms\n4:\tlearn: 0.4624166\ttotal: 32.5ms\tremaining: 6.5ms\n5:\tlearn: 0.4621860\ttotal: 34.5ms\tremaining: 0us\n",
      "prediccion =  27\n0:\tlearn: 0.4769515\ttotal: 17.5ms\tremaining: 87.3ms\n1:\tlearn: 0.4693474\ttotal: 32.9ms\tremaining: 65.7ms\n2:\tlearn: 0.4669053\ttotal: 36.3ms\tremaining: 36.3ms\n3:\tlearn: 0.4650520\ttotal: 38.8ms\tremaining: 19.4ms\n4:\tlearn: 0.4627052\ttotal: 47.1ms\tremaining: 9.43ms\n5:\tlearn: 0.4624420\ttotal: 49.2ms\tremaining: 0us\n",
      "prediccion =  28\n0:\tlearn: 0.4750150\ttotal: 32.1ms\tremaining: 161ms\n1:\tlearn: 0.4667519\ttotal: 60.4ms\tremaining: 121ms\n2:\tlearn: 0.4649358\ttotal: 62.5ms\tremaining: 62.5ms\n3:\tlearn: 0.4639765\ttotal: 63.9ms\tremaining: 32ms\n4:\tlearn: 0.4582985\ttotal: 92ms\tremaining: 18.4ms\n5:\tlearn: 0.4555369\ttotal: 120ms\tremaining: 0us\n",
      "prediccion =  29\n0:\tlearn: 0.4742418\ttotal: 61ms\tremaining: 305ms\n1:\tlearn: 0.4684519\ttotal: 151ms\tremaining: 302ms\n",
      "2:\tlearn: 0.4605709\ttotal: 213ms\tremaining: 213ms\n3:\tlearn: 0.4557465\ttotal: 271ms\tremaining: 136ms\n4:\tlearn: 0.4526547\ttotal: 329ms\tremaining: 65.8ms\n5:\tlearn: 0.4524852\ttotal: 331ms\tremaining: 0us\nprediccion = ",
      " 30\n0:\tlearn: 0.4725694\ttotal: 141ms\tremaining: 704ms\n1:\tlearn: 0.4643978\ttotal: 174ms\tremaining: 347ms\n",
      "2:\tlearn: 0.4594562\ttotal: 292ms\tremaining: 292ms\n3:\tlearn: 0.4590912\ttotal: 296ms\tremaining: 148ms\n",
      "4:\tlearn: 0.4560916\ttotal: 411ms\tremaining: 82.1ms\n5:\tlearn: 0.4512268\ttotal: 555ms\tremaining: 0us\n",
      "prediccion =  31\n",
      "0:\tlearn: 0.4725694\ttotal: 281ms\tremaining: 1.41s\n1:\tlearn: 0.4649560\ttotal: 302ms\tremaining: 604ms\n2:\tlearn: 0.4600711\ttotal: 426ms\tremaining: 426ms\n3:\tlearn: 0.4595972\ttotal: 429ms\tremaining: 215ms\n",
      "4:\tlearn: 0.4563485\ttotal: 668ms\tremaining: 134ms\n5:\tlearn: 0.4552763\ttotal: 673ms\tremaining: 0us\nprediccion =  32\n0:\tlearn: 0.4781569\ttotal: 4.02ms\tremaining: 20.1ms\n1:\tlearn: 0.4712619\ttotal: 7.75ms\tremaining: 15.5ms\n2:\tlearn: 0.4695414\ttotal: 9.66ms\tremaining: 9.66ms\n3:\tlearn: 0.4654011\ttotal: 13.3ms\tremaining: 6.64ms\n4:\tlearn: 0.4632066\ttotal: 16.8ms\tremaining: 3.37ms\n5:\tlearn: 0.4620259\ttotal: 20.4ms\tremaining: 0us\nprediccion =  33\n",
      "0:\tlearn: 0.4773302\ttotal: 11.8ms\tremaining: 59.2ms\n1:\tlearn: 0.4709252\ttotal: 21.9ms\tremaining: 43.8ms\n2:\tlearn: 0.4690268\ttotal: 24.3ms\tremaining: 24.3ms\n3:\tlearn: 0.4663591\ttotal: 30.3ms\tremaining: 15.1ms\n4:\tlearn: 0.4645381\ttotal: 35.7ms\tremaining: 7.13ms\n5:\tlearn: 0.4610121\ttotal: 41.6ms\tremaining: 0us\nprediccion =  34\n0:\tlearn: 0.4768586\ttotal: 8.34ms\tremaining: 41.7ms\n1:\tlearn: 0.4689689\ttotal: 16.3ms\tremaining: 32.7ms\n2:\tlearn: 0.4681978\ttotal: 18.1ms\tremaining: 18.1ms\n3:\tlearn: 0.4646783\ttotal: 26.1ms\tremaining: 13ms\n4:\tlearn: 0.4615175\ttotal: 34.5ms\tremaining: 6.91ms\n5:\tlearn: 0.4586685\ttotal: 42.4ms\tremaining: 0us\n",
      "prediccion =  35\n0:\tlearn: 0.4752564\ttotal: 14.3ms\tremaining: 71.4ms\n1:\tlearn: 0.4662406\ttotal: 29ms\tremaining: 58ms\n2:\tlearn: 0.4640837\ttotal: 32.2ms\tremaining: 32.2ms\n3:\tlearn: 0.4624980\ttotal: 34.7ms\tremaining: 17.4ms\n4:\tlearn: 0.4613537\ttotal: 36.4ms\tremaining: 7.28ms\n5:\tlearn: 0.4575181\ttotal: 68.9ms\tremaining: 0us\nprediccion =  36\n",
      "0:\tlearn: 0.4731265\ttotal: 29.5ms\tremaining: 147ms\n1:\tlearn: 0.4636190\ttotal: 57.8ms\tremaining: 116ms\n2:\tlearn: 0.4594887\ttotal: 87.1ms\tremaining: 87.1ms\n3:\tlearn: 0.4552693\ttotal: 117ms\tremaining: 58.7ms\n4:\tlearn: 0.4535406\ttotal: 148ms\tremaining: 29.7ms\n5:\tlearn: 0.4511423\ttotal: 177ms\tremaining: 0us\n",
      "prediccion =  37\n0:\tlearn: 0.4722572\ttotal: 62.5ms\tremaining: 312ms\n1:\tlearn: 0.4616970\ttotal: 120ms\tremaining: 241ms\n",
      "2:\tlearn: 0.4556153\ttotal: 178ms\tremaining: 178ms\n3:\tlearn: 0.4527672\ttotal: 241ms\tremaining: 120ms\n4:\tlearn: 0.4501277\ttotal: 328ms\tremaining: 65.7ms\n5:\tlearn: 0.4500514\ttotal: 330ms\tremaining: 0us\n",
      "prediccion =  38\n0:\tlearn: 0.4704054\ttotal: 120ms\tremaining: 601ms\n1:\tlearn: 0.4617864\ttotal: 150ms\tremaining: 299ms\n",
      "2:\tlearn: 0.4585240\ttotal: 275ms\tremaining: 275ms\n3:\tlearn: 0.4579758\ttotal: 279ms\tremaining: 140ms\n",
      "4:\tlearn: 0.4551750\ttotal: 410ms\tremaining: 82ms\n5:\tlearn: 0.4504471\ttotal: 531ms\tremaining: 0us\n",
      "prediccion =  39\n",
      "0:\tlearn: 0.4704054\ttotal: 312ms\tremaining: 1.56s\n1:\tlearn: 0.4636170\ttotal: 327ms\tremaining: 654ms\n2:\tlearn: 0.4580144\ttotal: 443ms\tremaining: 443ms\n3:\tlearn: 0.4574764\ttotal: 446ms\tremaining: 223ms\n",
      "4:\tlearn: 0.4548813\ttotal: 696ms\tremaining: 139ms\n5:\tlearn: 0.4540114\ttotal: 702ms\tremaining: 0us\nprediccion =  40\n0:\tlearn: 0.4857652\ttotal: 3.93ms\tremaining: 27.5ms\n1:\tlearn: 0.4799957\ttotal: 7.73ms\tremaining: 23.2ms\n2:\tlearn: 0.4778259\ttotal: 9.62ms\tremaining: 16ms\n3:\tlearn: 0.4748560\ttotal: 17.7ms\tremaining: 17.7ms\n4:\tlearn: 0.4717930\ttotal: 22.3ms\tremaining: 13.4ms\n5:\tlearn: 0.4706753\ttotal: 27ms\tremaining: 9ms\n6:\tlearn: 0.4694383\ttotal: 32.2ms\tremaining: 4.59ms\n7:\tlearn: 0.4686971\ttotal: 36.6ms\tremaining: 0us\n",
      "prediccion =  41\n0:\tlearn: 0.4853760\ttotal: 5.77ms\tremaining: 40.4ms\n1:\tlearn: 0.4800079\ttotal: 10.8ms\tremaining: 32.3ms\n2:\tlearn: 0.4771473\ttotal: 13.7ms\tremaining: 22.8ms\n3:\tlearn: 0.4748739\ttotal: 17.6ms\tremaining: 17.6ms\n4:\tlearn: 0.4730736\ttotal: 22.9ms\tremaining: 13.7ms\n5:\tlearn: 0.4710886\ttotal: 25ms\tremaining: 8.33ms\n6:\tlearn: 0.4700556\ttotal: 30.1ms\tremaining: 4.3ms\n7:\tlearn: 0.4682376\ttotal: 35.4ms\tremaining: 0us\n",
      "prediccion =  42\n0:\tlearn: 0.4851526\ttotal: 9.27ms\tremaining: 64.9ms\n1:\tlearn: 0.4778700\ttotal: 18.4ms\tremaining: 55.1ms\n2:\tlearn: 0.4756644\ttotal: 20.2ms\tremaining: 33.7ms\n3:\tlearn: 0.4717735\ttotal: 28.4ms\tremaining: 28.4ms\n4:\tlearn: 0.4696724\ttotal: 36.2ms\tremaining: 21.7ms\n5:\tlearn: 0.4678031\ttotal: 44.6ms\tremaining: 14.9ms\n6:\tlearn: 0.4651252\ttotal: 53ms\tremaining: 7.58ms\n7:\tlearn: 0.4619432\ttotal: 61.6ms\tremaining: 0us\nprediccion =  43\n0:\tlearn: 0.4843323\ttotal: 14.7ms\tremaining: 103ms\n",
      "1:\tlearn: 0.4775997\ttotal: 30.7ms\tremaining: 92.2ms\n2:\tlearn: 0.4745241\ttotal: 34.4ms\tremaining: 57.3ms\n3:\tlearn: 0.4698350\ttotal: 51.1ms\tremaining: 51.1ms\n4:\tlearn: 0.4666102\ttotal: 66.6ms\tremaining: 40ms\n5:\tlearn: 0.4663211\ttotal: 68.2ms\tremaining: 22.7ms\n6:\tlearn: 0.4655018\ttotal: 70.3ms\tremaining: 10ms\n7:\tlearn: 0.4637755\ttotal: 85.5ms\tremaining: 0us\nprediccion =  44\n",
      "0:\tlearn: 0.4832060\ttotal: 45.3ms\tremaining: 317ms\n1:\tlearn: 0.4755224\ttotal: 77ms\tremaining: 231ms\n2:\tlearn: 0.4706099\ttotal: 108ms\tremaining: 180ms\n3:\tlearn: 0.4694721\ttotal: 110ms\tremaining: 110ms\n4:\tlearn: 0.4654877\ttotal: 139ms\tremaining: 83.2ms\n5:\tlearn: 0.4651521\ttotal: 140ms\tremaining: 46.7ms\n6:\tlearn: 0.4617394\ttotal: 169ms\tremaining: 24.2ms\n7:\tlearn: 0.4609142\ttotal: 173ms\tremaining: 0us\nprediccion =  45\n",
      "0:\tlearn: 0.4827801\ttotal: 62.3ms\tremaining: 436ms\n1:\tlearn: 0.4778336\ttotal: 64.9ms\tremaining: 195ms\n2:\tlearn: 0.4694253\ttotal: 131ms\tremaining: 218ms\n3:\tlearn: 0.4668008\ttotal: 137ms\tremaining: 137ms\n4:\tlearn: 0.4658241\ttotal: 139ms\tremaining: 83.2ms\n5:\tlearn: 0.4626286\ttotal: 239ms\tremaining: 79.8ms\n",
      "6:\tlearn: 0.4600602\ttotal: 301ms\tremaining: 43ms\n7:\tlearn: 0.4580628\ttotal: 360ms\tremaining: 0us\nprediccion =  46\n",
      "0:\tlearn: 0.4818237\ttotal: 146ms\tremaining: 1.02s\n1:\tlearn: 0.4780375\ttotal: 148ms\tremaining: 445ms\n2:\tlearn: 0.4751810\ttotal: 151ms\tremaining: 252ms\n3:\tlearn: 0.4730983\ttotal: 155ms\tremaining: 155ms\n4:\tlearn: 0.4680186\ttotal: 301ms\tremaining: 181ms\n",
      "5:\tlearn: 0.4647777\ttotal: 425ms\tremaining: 142ms\n6:\tlearn: 0.4625415\ttotal: 540ms\tremaining: 77.2ms\n",
      "7:\tlearn: 0.4599514\ttotal: 690ms\tremaining: 0us\n",
      "prediccion =  47\n",
      "0:\tlearn: 0.4818237\ttotal: 268ms\tremaining: 1.87s\n1:\tlearn: 0.4761593\ttotal: 282ms\tremaining: 847ms\n2:\tlearn: 0.4693870\ttotal: 396ms\tremaining: 661ms\n",
      "3:\tlearn: 0.4652046\ttotal: 670ms\tremaining: 670ms\n",
      "4:\tlearn: 0.4599677\ttotal: 913ms\tremaining: 548ms\n",
      "5:\tlearn: 0.4572464\ttotal: 1.15s\tremaining: 383ms\n",
      "6:\tlearn: 0.4546497\ttotal: 1.43s\tremaining: 204ms\n7:\tlearn: 0.4545229\ttotal: 1.43s\tremaining: 0us\nprediccion =  48\n0:\tlearn: 0.4833450\ttotal: 4.08ms\tremaining: 28.6ms\n1:\tlearn: 0.4775172\ttotal: 7.96ms\tremaining: 23.9ms\n2:\tlearn: 0.4754729\ttotal: 10.1ms\tremaining: 16.9ms\n3:\tlearn: 0.4723507\ttotal: 13.9ms\tremaining: 13.9ms\n4:\tlearn: 0.4709283\ttotal: 17.9ms\tremaining: 10.8ms\n5:\tlearn: 0.4692211\ttotal: 21.8ms\tremaining: 7.28ms\n6:\tlearn: 0.4665751\ttotal: 25.4ms\tremaining: 3.63ms\n7:\tlearn: 0.4658545\ttotal: 29.1ms\tremaining: 0us\n",
      "prediccion =  49\n0:\tlearn: 0.4828370\ttotal: 6.96ms\tremaining: 48.7ms\n1:\tlearn: 0.4771460\ttotal: 12.5ms\tremaining: 37.5ms\n2:\tlearn: 0.4742042\ttotal: 15.6ms\tremaining: 25.9ms\n3:\tlearn: 0.4726663\ttotal: 19.6ms\tremaining: 19.6ms\n4:\tlearn: 0.4706452\ttotal: 25ms\tremaining: 15ms\n5:\tlearn: 0.4664767\ttotal: 30.6ms\tremaining: 10.2ms\n6:\tlearn: 0.4650046\ttotal: 36.9ms\tremaining: 5.28ms\n7:\tlearn: 0.4619038\ttotal: 43.5ms\tremaining: 0us\nprediccion =  50\n0:\tlearn: 0.4825458\ttotal: 9.01ms\tremaining: 63.1ms\n1:\tlearn: 0.4745595\ttotal: 18.6ms\tremaining: 55.9ms\n",
      "2:\tlearn: 0.4715347\ttotal: 27.9ms\tremaining: 46.5ms\n3:\tlearn: 0.4671247\ttotal: 36.3ms\tremaining: 36.3ms\n4:\tlearn: 0.4645651\ttotal: 45.2ms\tremaining: 27.1ms\n5:\tlearn: 0.4620967\ttotal: 54.3ms\tremaining: 18.1ms\n6:\tlearn: 0.4601848\ttotal: 63.5ms\tremaining: 9.07ms\n7:\tlearn: 0.4587319\ttotal: 72.5ms\tremaining: 0us\nprediccion =  51\n0:\tlearn: 0.4814948\ttotal: 14.5ms\tremaining: 101ms\n1:\tlearn: 0.4743194\ttotal: 28.7ms\tremaining: 86.2ms\n2:\tlearn: 0.4715698\ttotal: 32ms\tremaining: 53.3ms\n3:\tlearn: 0.4707266\ttotal: 33.4ms\tremaining: 33.4ms\n4:\tlearn: 0.4679321\ttotal: 35.4ms\tremaining: 21.3ms\n5:\tlearn: 0.4672134\ttotal: 38.7ms\tremaining: 12.9ms\n6:\tlearn: 0.4656796\ttotal: 53.9ms\tremaining: 7.7ms\n",
      "7:\tlearn: 0.4628840\ttotal: 70ms\tremaining: 0us\nprediccion =  52\n0:\tlearn: 0.4800614\ttotal: 40.2ms\tremaining: 281ms\n1:\tlearn: 0.4734131\ttotal: 89.5ms\tremaining: 269ms\n",
      "2:\tlearn: 0.4713386\ttotal: 91.7ms\tremaining: 153ms\n3:\tlearn: 0.4688580\ttotal: 94.3ms\tremaining: 94.3ms\n4:\tlearn: 0.4682555\ttotal: 96ms\tremaining: 57.6ms\n5:\tlearn: 0.4619478\ttotal: 132ms\tremaining: 44ms\n6:\tlearn: 0.4582503\ttotal: 163ms\tremaining: 23.2ms\n7:\tlearn: 0.4566747\ttotal: 192ms\tremaining: 0us\nprediccion =  53\n",
      "0:\tlearn: 0.4795103\ttotal: 59.8ms\tremaining: 418ms\n1:\tlearn: 0.4746446\ttotal: 63.5ms\tremaining: 190ms\n2:\tlearn: 0.4717714\ttotal: 65.3ms\tremaining: 109ms\n3:\tlearn: 0.4690820\ttotal: 69ms\tremaining: 69ms\n4:\tlearn: 0.4644526\ttotal: 149ms\tremaining: 89.3ms\n5:\tlearn: 0.4630830\ttotal: 156ms\tremaining: 51.9ms\n",
      "6:\tlearn: 0.4586023\ttotal: 261ms\tremaining: 37.4ms\n7:\tlearn: 0.4562978\ttotal: 334ms\tremaining: 0us\nprediccion =  54\n",
      "0:\tlearn: 0.4782868\ttotal: 124ms\tremaining: 866ms\n1:\tlearn: 0.4706470\ttotal: 154ms\tremaining: 461ms\n2:\tlearn: 0.4644888\ttotal: 301ms\tremaining: 502ms\n",
      "3:\tlearn: 0.4637676\ttotal: 307ms\tremaining: 307ms\n4:\tlearn: 0.4631003\ttotal: 309ms\tremaining: 185ms\n5:\tlearn: 0.4587941\ttotal: 434ms\tremaining: 145ms\n6:\tlearn: 0.4582281\ttotal: 436ms\tremaining: 62.3ms\n",
      "7:\tlearn: 0.4529640\ttotal: 558ms\tremaining: 0us\nprediccion =  55\n",
      "0:\tlearn: 0.4782868\ttotal: 275ms\tremaining: 1.92s\n1:\tlearn: 0.4726258\ttotal: 291ms\tremaining: 872ms\n2:\tlearn: 0.4656388\ttotal: 443ms\tremaining: 739ms\n3:\tlearn: 0.4649525\ttotal: 448ms\tremaining: 448ms\n",
      "4:\tlearn: 0.4610180\ttotal: 704ms\tremaining: 423ms\n5:\tlearn: 0.4602026\ttotal: 710ms\tremaining: 237ms\n",
      "6:\tlearn: 0.4574583\ttotal: 1s\tremaining: 143ms\n",
      "7:\tlearn: 0.4549662\ttotal: 1.24s\tremaining: 0us\nprediccion =  56\n0:\tlearn: 0.4812673\ttotal: 4.01ms\tremaining: 28.1ms\n1:\tlearn: 0.4756179\ttotal: 7.62ms\tremaining: 22.9ms\n2:\tlearn: 0.4729407\ttotal: 11.2ms\tremaining: 18.7ms\n3:\tlearn: 0.4709523\ttotal: 14.9ms\tremaining: 14.9ms\n4:\tlearn: 0.4699331\ttotal: 18.4ms\tremaining: 11.1ms\n5:\tlearn: 0.4670042\ttotal: 22.1ms\tremaining: 7.35ms\n6:\tlearn: 0.4653880\ttotal: 25.6ms\tremaining: 3.66ms\n7:\tlearn: 0.4644019\ttotal: 29.2ms\tremaining: 0us\nprediccion =  57\n0:\tlearn: 0.4806466\ttotal: 5.8ms\tremaining: 40.6ms\n",
      "1:\tlearn: 0.4731445\ttotal: 11.4ms\tremaining: 34.1ms\n2:\tlearn: 0.4704871\ttotal: 14.4ms\tremaining: 23.9ms\n3:\tlearn: 0.4685487\ttotal: 19.5ms\tremaining: 19.5ms\n4:\tlearn: 0.4652232\ttotal: 24.6ms\tremaining: 14.7ms\n5:\tlearn: 0.4630132\ttotal: 30.5ms\tremaining: 10.2ms\n6:\tlearn: 0.4619493\ttotal: 41.2ms\tremaining: 5.89ms\n7:\tlearn: 0.4601631\ttotal: 53.5ms\tremaining: 0us\n",
      "prediccion =  58\n0:\tlearn: 0.4802913\ttotal: 8.32ms\tremaining: 58.3ms\n1:\tlearn: 0.4719404\ttotal: 16.3ms\tremaining: 48.8ms\n2:\tlearn: 0.4690114\ttotal: 24.1ms\tremaining: 40.1ms\n3:\tlearn: 0.4642370\ttotal: 29ms\tremaining: 29ms\n4:\tlearn: 0.4635709\ttotal: 32.2ms\tremaining: 19.3ms\n5:\tlearn: 0.4624557\ttotal: 40.2ms\tremaining: 13.4ms\n6:\tlearn: 0.4594319\ttotal: 48.1ms\tremaining: 6.87ms\n7:\tlearn: 0.4588611\ttotal: 49.7ms\tremaining: 0us\nprediccion =  59\n0:\tlearn: 0.4790326\ttotal: 16.1ms\tremaining: 113ms\n",
      "1:\tlearn: 0.4713354\ttotal: 34.5ms\tremaining: 103ms\n2:\tlearn: 0.4647800\ttotal: 51.3ms\tremaining: 85.5ms\n3:\tlearn: 0.4621271\ttotal: 67.8ms\tremaining: 67.8ms\n4:\tlearn: 0.4598835\ttotal: 83.6ms\tremaining: 50.1ms\n5:\tlearn: 0.4564525\ttotal: 118ms\tremaining: 39.5ms\n6:\tlearn: 0.4557979\ttotal: 142ms\tremaining: 20.3ms\n7:\tlearn: 0.4534083\ttotal: 158ms\tremaining: 0us\n",
      "prediccion =  60\n0:\tlearn: 0.4773287\ttotal: 29.8ms\tremaining: 208ms\n1:\tlearn: 0.4695181\ttotal: 58.7ms\tremaining: 176ms\n2:\tlearn: 0.4676290\ttotal: 60.7ms\tremaining: 101ms\n3:\tlearn: 0.4661734\ttotal: 63.2ms\tremaining: 63.2ms\n4:\tlearn: 0.4652802\ttotal: 65ms\tremaining: 39ms\n5:\tlearn: 0.4611483\ttotal: 94.1ms\tremaining: 31.4ms\n6:\tlearn: 0.4580559\ttotal: 122ms\tremaining: 17.4ms\n7:\tlearn: 0.4564915\ttotal: 136ms\tremaining: 0us\n",
      "prediccion =  61\n0:\tlearn: 0.4766617\ttotal: 81.7ms\tremaining: 572ms\n",
      "1:\tlearn: 0.4702175\ttotal: 160ms\tremaining: 479ms\n2:\tlearn: 0.4619166\ttotal: 224ms\tremaining: 373ms\n3:\tlearn: 0.4582369\ttotal: 282ms\tremaining: 282ms\n4:\tlearn: 0.4563564\ttotal: 342ms\tremaining: 205ms\n",
      "5:\tlearn: 0.4561044\ttotal: 344ms\tremaining: 115ms\n6:\tlearn: 0.4511954\ttotal: 411ms\tremaining: 58.7ms\n7:\tlearn: 0.4503808\ttotal: 426ms\tremaining: 0us\nprediccion =  62\n",
      "0:\tlearn: 0.4751991\ttotal: 122ms\tremaining: 852ms\n1:\tlearn: 0.4669630\ttotal: 151ms\tremaining: 452ms\n2:\tlearn: 0.4607201\ttotal: 265ms\tremaining: 441ms\n3:\tlearn: 0.4601538\ttotal: 268ms\tremaining: 268ms\n",
      "4:\tlearn: 0.4580116\ttotal: 397ms\tremaining: 238ms\n5:\tlearn: 0.4539290\ttotal: 511ms\tremaining: 170ms\n",
      "6:\tlearn: 0.4513213\ttotal: 634ms\tremaining: 90.6ms\n7:\tlearn: 0.4458490\ttotal: 815ms\tremaining: 0us\n",
      "prediccion =  63\n",
      "0:\tlearn: 0.4751991\ttotal: 237ms\tremaining: 1.66s\n1:\tlearn: 0.4695340\ttotal: 261ms\tremaining: 782ms\n2:\tlearn: 0.4622501\ttotal: 431ms\tremaining: 718ms\n",
      "3:\tlearn: 0.4611008\ttotal: 435ms\tremaining: 435ms\n",
      "4:\tlearn: 0.4570576\ttotal: 688ms\tremaining: 413ms\n5:\tlearn: 0.4561401\ttotal: 697ms\tremaining: 232ms\n6:\tlearn: 0.4526802\ttotal: 727ms\tremaining: 104ms\n7:\tlearn: 0.4523968\ttotal: 729ms\tremaining: 0us\nprediccion =  64\n0:\tlearn: 0.4795367\ttotal: 5.57ms\tremaining: 39ms\n1:\tlearn: 0.4743364\ttotal: 10.7ms\tremaining: 32.2ms\n2:\tlearn: 0.4726696\ttotal: 13ms\tremaining: 21.7ms\n3:\tlearn: 0.4700932\ttotal: 16ms\tremaining: 16ms\n4:\tlearn: 0.4681234\ttotal: 20.3ms\tremaining: 12.2ms\n5:\tlearn: 0.4661640\ttotal: 24ms\tremaining: 8ms\n6:\tlearn: 0.4626593\ttotal: 28ms\tremaining: 4.01ms\n7:\tlearn: 0.4617871\ttotal: 30.5ms\tremaining: 0us\n",
      "prediccion =  65\n0:\tlearn: 0.4788097\ttotal: 6.5ms\tremaining: 45.5ms\n1:\tlearn: 0.4724596\ttotal: 11.7ms\tremaining: 35.2ms\n2:\tlearn: 0.4686685\ttotal: 14.6ms\tremaining: 24.3ms\n3:\tlearn: 0.4666294\ttotal: 22.3ms\tremaining: 22.3ms\n4:\tlearn: 0.4648961\ttotal: 28.6ms\tremaining: 17.2ms\n5:\tlearn: 0.4639392\ttotal: 34ms\tremaining: 11.3ms\n6:\tlearn: 0.4633990\ttotal: 37.2ms\tremaining: 5.32ms\n7:\tlearn: 0.4616444\ttotal: 41ms\tremaining: 0us\nprediccion =  66\n0:\tlearn: 0.4783942\ttotal: 7.99ms\tremaining: 56ms\n1:\tlearn: 0.4701757\ttotal: 15.8ms\tremaining: 47.4ms\n2:\tlearn: 0.4672083\ttotal: 23.7ms\tremaining: 39.5ms\n3:\tlearn: 0.4631881\ttotal: 28.6ms\tremaining: 28.6ms\n4:\tlearn: 0.4624166\ttotal: 31.8ms\tremaining: 19.1ms\n5:\tlearn: 0.4621860\ttotal: 33.9ms\tremaining: 11.3ms\n6:\tlearn: 0.4605154\ttotal: 42.8ms\tremaining: 6.11ms\n",
      "7:\tlearn: 0.4582078\ttotal: 51.4ms\tremaining: 0us\nprediccion =  67\n0:\tlearn: 0.4769515\ttotal: 16.4ms\tremaining: 115ms\n1:\tlearn: 0.4693474\ttotal: 38.8ms\tremaining: 116ms\n2:\tlearn: 0.4669053\ttotal: 42.5ms\tremaining: 70.8ms\n",
      "3:\tlearn: 0.4650520\ttotal: 45.5ms\tremaining: 45.5ms\n4:\tlearn: 0.4627052\ttotal: 55.3ms\tremaining: 33.2ms\n5:\tlearn: 0.4624420\ttotal: 58.2ms\tremaining: 19.4ms\n6:\tlearn: 0.4589336\ttotal: 76.2ms\tremaining: 10.9ms\n7:\tlearn: 0.4581434\ttotal: 96ms\tremaining: 0us\n",
      "prediccion =  68\n0:\tlearn: 0.4750150\ttotal: 28.7ms\tremaining: 201ms\n1:\tlearn: 0.4667519\ttotal: 56.8ms\tremaining: 170ms\n2:\tlearn: 0.4649358\ttotal: 58.9ms\tremaining: 98.2ms\n3:\tlearn: 0.4639765\ttotal: 60.4ms\tremaining: 60.4ms\n4:\tlearn: 0.4582985\ttotal: 88.8ms\tremaining: 53.3ms\n5:\tlearn: 0.4555369\ttotal: 118ms\tremaining: 39.3ms\n6:\tlearn: 0.4530336\ttotal: 147ms\tremaining: 21ms\n7:\tlearn: 0.4529385\ttotal: 149ms\tremaining: 0us\n",
      "prediccion =  69\n0:\tlearn: 0.4742418\ttotal: 57.6ms\tremaining: 403ms\n1:\tlearn: 0.4684519\ttotal: 114ms\tremaining: 342ms\n2:\tlearn: 0.4605709\ttotal: 173ms\tremaining: 288ms\n",
      "3:\tlearn: 0.4557465\ttotal: 238ms\tremaining: 238ms\n4:\tlearn: 0.4526547\ttotal: 309ms\tremaining: 186ms\n5:\tlearn: 0.4524852\ttotal: 311ms\tremaining: 104ms\n",
      "6:\tlearn: 0.4510197\ttotal: 373ms\tremaining: 53.3ms\n7:\tlearn: 0.4499619\ttotal: 437ms\tremaining: 0us\nprediccion =  70\n",
      "0:\tlearn: 0.4725694\ttotal: 121ms\tremaining: 850ms\n1:\tlearn: 0.4643978\ttotal: 177ms\tremaining: 531ms\n2:\tlearn: 0.4594562\ttotal: 312ms\tremaining: 520ms\n",
      "3:\tlearn: 0.4590912\ttotal: 316ms\tremaining: 316ms\n4:\tlearn: 0.4560916\ttotal: 436ms\tremaining: 262ms\n",
      "5:\tlearn: 0.4512268\ttotal: 553ms\tremaining: 184ms\n6:\tlearn: 0.4475425\ttotal: 718ms\tremaining: 103ms\n",
      "7:\tlearn: 0.4422638\ttotal: 847ms\tremaining: 0us\nprediccion =  71\n",
      "0:\tlearn: 0.4725694\ttotal: 276ms\tremaining: 1.93s\n1:\tlearn: 0.4649560\ttotal: 294ms\tremaining: 882ms\n2:\tlearn: 0.4600711\ttotal: 414ms\tremaining: 690ms\n3:\tlearn: 0.4595972\ttotal: 418ms\tremaining: 418ms\n",
      "4:\tlearn: 0.4563485\ttotal: 649ms\tremaining: 390ms\n5:\tlearn: 0.4552763\ttotal: 655ms\tremaining: 218ms\n6:\tlearn: 0.4482400\ttotal: 773ms\tremaining: 110ms\n",
      "7:\tlearn: 0.4464364\ttotal: 1.03s\tremaining: 0us\nprediccion =  72\n0:\tlearn: 0.4781569\ttotal: 3.98ms\tremaining: 27.9ms\n1:\tlearn: 0.4712619\ttotal: 7.55ms\tremaining: 22.6ms\n2:\tlearn: 0.4695414\ttotal: 9.49ms\tremaining: 15.8ms\n3:\tlearn: 0.4654011\ttotal: 13.1ms\tremaining: 13.1ms\n4:\tlearn: 0.4632066\ttotal: 16.7ms\tremaining: 10ms\n5:\tlearn: 0.4620259\ttotal: 20.3ms\tremaining: 6.78ms\n6:\tlearn: 0.4607498\ttotal: 23.9ms\tremaining: 3.41ms\n7:\tlearn: 0.4593472\ttotal: 27.5ms\tremaining: 0us\nprediccion = ",
      " 73\n0:\tlearn: 0.4773302\ttotal: 5.86ms\tremaining: 41ms\n1:\tlearn: 0.4709252\ttotal: 11.3ms\tremaining: 34ms\n2:\tlearn: 0.4690268\ttotal: 13.7ms\tremaining: 22.8ms\n3:\tlearn: 0.4663591\ttotal: 19.1ms\tremaining: 19.1ms\n4:\tlearn: 0.4645381\ttotal: 24.5ms\tremaining: 14.7ms\n5:\tlearn: 0.4610121\ttotal: 30ms\tremaining: 9.98ms\n6:\tlearn: 0.4607632\ttotal: 31.7ms\tremaining: 4.52ms\n7:\tlearn: 0.4587162\ttotal: 37.3ms\tremaining: 0us\nprediccion =  74\n0:\tlearn: 0.4768586\ttotal: 8.39ms\tremaining: 58.8ms\n1:\tlearn: 0.4689689\ttotal: 16.2ms\tremaining: 48.7ms\n2:\tlearn: 0.4681978\ttotal: 17.9ms\tremaining: 29.9ms\n3:\tlearn: 0.4646783\ttotal: 25.6ms\tremaining: 25.6ms\n4:\tlearn: 0.4615175\ttotal: 34ms\tremaining: 20.4ms\n5:\tlearn: 0.4586685\ttotal: 41.9ms\tremaining: 14ms\n",
      "6:\tlearn: 0.4577079\ttotal: 50.3ms\tremaining: 7.18ms\n7:\tlearn: 0.4570852\ttotal: 53.8ms\tremaining: 0us\nprediccion =  75\n0:\tlearn: 0.4752564\ttotal: 14.9ms\tremaining: 104ms\n1:\tlearn: 0.4662406\ttotal: 35.6ms\tremaining: 107ms\n2:\tlearn: 0.4640837\ttotal: 40.6ms\tremaining: 67.7ms\n3:\tlearn: 0.4624980\ttotal: 43.5ms\tremaining: 43.5ms\n4:\tlearn: 0.4613537\ttotal: 47ms\tremaining: 28.2ms\n5:\tlearn: 0.4575181\ttotal: 67.7ms\tremaining: 22.6ms\n6:\tlearn: 0.4556381\ttotal: 83.3ms\tremaining: 11.9ms\n",
      "7:\tlearn: 0.4541826\ttotal: 99ms\tremaining: 0us\nprediccion =  76\n0:\tlearn: 0.4731265\ttotal: 28.6ms\tremaining: 200ms\n1:\tlearn: 0.4636190\ttotal: 57.7ms\tremaining: 173ms\n2:\tlearn: 0.4594887\ttotal: 87.2ms\tremaining: 145ms\n",
      "3:\tlearn: 0.4552693\ttotal: 116ms\tremaining: 116ms\n4:\tlearn: 0.4535406\ttotal: 149ms\tremaining: 89.6ms\n5:\tlearn: 0.4511423\ttotal: 182ms\tremaining: 60.7ms\n6:\tlearn: 0.4506654\ttotal: 187ms\tremaining: 26.7ms\n7:\tlearn: 0.4487022\ttotal: 218ms\tremaining: 0us\n",
      "prediccion =  77\n0:\tlearn: 0.4722572\ttotal: 57.5ms\tremaining: 403ms\n1:\tlearn: 0.4616970\ttotal: 115ms\tremaining: 345ms\n2:\tlearn: 0.4556153\ttotal: 172ms\tremaining: 287ms\n",
      "3:\tlearn: 0.4527672\ttotal: 234ms\tremaining: 234ms\n4:\tlearn: 0.4501277\ttotal: 316ms\tremaining: 190ms\n5:\tlearn: 0.4500514\ttotal: 318ms\tremaining: 106ms\n",
      "6:\tlearn: 0.4466247\ttotal: 392ms\tremaining: 56ms\n7:\tlearn: 0.4452904\ttotal: 464ms\tremaining: 0us\nprediccion =  78\n",
      "0:\tlearn: 0.4704054\ttotal: 130ms\tremaining: 910ms\n1:\tlearn: 0.4617864\ttotal: 166ms\tremaining: 497ms\n",
      "2:\tlearn: 0.4585240\ttotal: 322ms\tremaining: 537ms\n3:\tlearn: 0.4579758\ttotal: 327ms\tremaining: 327ms\n4:\tlearn: 0.4551750\ttotal: 446ms\tremaining: 268ms\n",
      "5:\tlearn: 0.4504471\ttotal: 560ms\tremaining: 187ms\n6:\tlearn: 0.4476514\ttotal: 703ms\tremaining: 100ms\n",
      "7:\tlearn: 0.4433385\ttotal: 837ms\tremaining: 0us\nprediccion =  79\n",
      "0:\tlearn: 0.4704054\ttotal: 275ms\tremaining: 1.93s\n1:\tlearn: 0.4636170\ttotal: 292ms\tremaining: 875ms\n2:\tlearn: 0.4580144\ttotal: 413ms\tremaining: 689ms\n3:\tlearn: 0.4574764\ttotal: 416ms\tremaining: 416ms\n",
      "4:\tlearn: 0.4548813\ttotal: 652ms\tremaining: 391ms\n5:\tlearn: 0.4540114\ttotal: 657ms\tremaining: 219ms\n",
      "6:\tlearn: 0.4472444\ttotal: 913ms\tremaining: 130ms\n",
      "7:\tlearn: 0.4452593\ttotal: 1.15s\tremaining: 0us\nprediccion =  80\n0:\tlearn: 0.4857652\ttotal: 4.16ms\tremaining: 37.4ms\n1:\tlearn: 0.4799957\ttotal: 8.06ms\tremaining: 32.2ms\n2:\tlearn: 0.4778259\ttotal: 10.2ms\tremaining: 23.8ms\n3:\tlearn: 0.4748560\ttotal: 13.9ms\tremaining: 20.9ms\n4:\tlearn: 0.4717930\ttotal: 18ms\tremaining: 18ms\n5:\tlearn: 0.4706753\ttotal: 21.9ms\tremaining: 14.6ms\n6:\tlearn: 0.4694383\ttotal: 25.5ms\tremaining: 10.9ms\n7:\tlearn: 0.4686971\ttotal: 30ms\tremaining: 7.5ms\n",
      "8:\tlearn: 0.4665191\ttotal: 34.2ms\tremaining: 3.8ms\n9:\tlearn: 0.4660277\ttotal: 37.8ms\tremaining: 0us\nprediccion =  81\n0:\tlearn: 0.4853760\ttotal: 5.82ms\tremaining: 52.4ms\n1:\tlearn: 0.4800079\ttotal: 11ms\tremaining: 43.9ms\n2:\tlearn: 0.4771473\ttotal: 13.7ms\tremaining: 31.9ms\n3:\tlearn: 0.4748739\ttotal: 17.4ms\tremaining: 26.1ms\n4:\tlearn: 0.4730736\ttotal: 22.5ms\tremaining: 22.5ms\n5:\tlearn: 0.4710886\ttotal: 24.4ms\tremaining: 16.3ms\n6:\tlearn: 0.4700556\ttotal: 29.5ms\tremaining: 12.6ms\n7:\tlearn: 0.4682376\ttotal: 34.5ms\tremaining: 8.63ms\n8:\tlearn: 0.4668794\ttotal: 39.5ms\tremaining: 4.39ms\n9:\tlearn: 0.4646486\ttotal: 44.5ms\tremaining: 0us\n",
      "prediccion =  82\n0:\tlearn: 0.4851526\ttotal: 8.07ms\tremaining: 72.6ms\n1:\tlearn: 0.4778700\ttotal: 16.2ms\tremaining: 64.7ms\n2:\tlearn: 0.4756644\ttotal: 18ms\tremaining: 42ms\n3:\tlearn: 0.4717735\ttotal: 25.9ms\tremaining: 38.8ms\n4:\tlearn: 0.4696724\ttotal: 33.8ms\tremaining: 33.8ms\n5:\tlearn: 0.4678031\ttotal: 41.8ms\tremaining: 27.9ms\n6:\tlearn: 0.4651252\ttotal: 50.1ms\tremaining: 21.5ms\n7:\tlearn: 0.4619432\ttotal: 60.9ms\tremaining: 15.2ms\n8:\tlearn: 0.4610797\ttotal: 96.1ms\tremaining: 10.7ms\n9:\tlearn: 0.4592339\ttotal: 106ms\tremaining: 0us\n",
      "prediccion =  83\n0:\tlearn: 0.4843323\ttotal: 17.9ms\tremaining: 161ms\n1:\tlearn: 0.4775997\ttotal: 34.8ms\tremaining: 139ms\n2:\tlearn: 0.4745241\ttotal: 38.2ms\tremaining: 89ms\n3:\tlearn: 0.4698350\ttotal: 53.7ms\tremaining: 80.6ms\n4:\tlearn: 0.4666102\ttotal: 68.2ms\tremaining: 68.2ms\n5:\tlearn: 0.4663211\ttotal: 69.7ms\tremaining: 46.5ms\n6:\tlearn: 0.4655018\ttotal: 71.9ms\tremaining: 30.8ms\n7:\tlearn: 0.4637755\ttotal: 85.8ms\tremaining: 21.5ms\n8:\tlearn: 0.4626005\ttotal: 90.8ms\tremaining: 10.1ms\n9:\tlearn: 0.4612730\ttotal: 105ms\tremaining: 0us\nprediccion = ",
      " 84\n0:\tlearn: 0.4832060\ttotal: 30.6ms\tremaining: 275ms\n1:\tlearn: 0.4755224\ttotal: 58.8ms\tremaining: 235ms\n2:\tlearn: 0.4706099\ttotal: 97ms\tremaining: 226ms\n3:\tlearn: 0.4694721\ttotal: 101ms\tremaining: 152ms\n4:\tlearn: 0.4654877\ttotal: 139ms\tremaining: 139ms\n",
      "5:\tlearn: 0.4651521\ttotal: 141ms\tremaining: 93.8ms\n6:\tlearn: 0.4617394\ttotal: 173ms\tremaining: 74.3ms\n7:\tlearn: 0.4609142\ttotal: 177ms\tremaining: 44.2ms\n8:\tlearn: 0.4603642\ttotal: 179ms\tremaining: 19.9ms\n9:\tlearn: 0.4593127\ttotal: 210ms\tremaining: 0us\nprediccion =  85\n",
      "0:\tlearn: 0.4827801\ttotal: 66.9ms\tremaining: 602ms\n1:\tlearn: 0.4778336\ttotal: 69.5ms\tremaining: 278ms\n2:\tlearn: 0.4694253\ttotal: 137ms\tremaining: 319ms\n3:\tlearn: 0.4668008\ttotal: 142ms\tremaining: 213ms\n4:\tlearn: 0.4658241\ttotal: 144ms\tremaining: 144ms\n5:\tlearn: 0.4626286\ttotal: 212ms\tremaining: 141ms\n",
      "6:\tlearn: 0.4600602\ttotal: 284ms\tremaining: 122ms\n7:\tlearn: 0.4580628\ttotal: 346ms\tremaining: 86.5ms\n8:\tlearn: 0.4563516\ttotal: 403ms\tremaining: 44.8ms\n9:\tlearn: 0.4557625\ttotal: 411ms\tremaining: 0us\nprediccion = ",
      " 86\n0:\tlearn: 0.4818237\ttotal: 156ms\tremaining: 1.4s\n1:\tlearn: 0.4780375\ttotal: 158ms\tremaining: 633ms\n2:\tlearn: 0.4751810\ttotal: 164ms\tremaining: 383ms\n",
      "3:\tlearn: 0.4730983\ttotal: 169ms\tremaining: 253ms\n4:\tlearn: 0.4680186\ttotal: 287ms\tremaining: 287ms\n",
      "5:\tlearn: 0.4647777\ttotal: 401ms\tremaining: 267ms\n6:\tlearn: 0.4625415\ttotal: 546ms\tremaining: 234ms\n",
      "7:\tlearn: 0.4599514\ttotal: 676ms\tremaining: 169ms\n8:\tlearn: 0.4565491\ttotal: 789ms\tremaining: 87.7ms\n9:\tlearn: 0.4561069\ttotal: 791ms\tremaining: 0us\nprediccion = ",
      " 87\n",
      "0:\tlearn: 0.4818237\ttotal: 304ms\tremaining: 2.74s\n1:\tlearn: 0.4761593\ttotal: 320ms\tremaining: 1.28s\n2:\tlearn: 0.4693870\ttotal: 435ms\tremaining: 1.01s\n",
      "3:\tlearn: 0.4652046\ttotal: 682ms\tremaining: 1.02s\n",
      "4:\tlearn: 0.4599677\ttotal: 933ms\tremaining: 933ms\n",
      "5:\tlearn: 0.4572464\ttotal: 1.16s\tremaining: 775ms\n",
      "6:\tlearn: 0.4546497\ttotal: 1.46s\tremaining: 625ms\n7:\tlearn: 0.4545229\ttotal: 1.46s\tremaining: 365ms\n",
      "8:\tlearn: 0.4533918\ttotal: 1.71s\tremaining: 190ms\n",
      "9:\tlearn: 0.4518719\ttotal: 1.97s\tremaining: 0us\nprediccion =  88\n",
      "0:\tlearn: 0.4833450\ttotal: 4.27ms\tremaining: 38.4ms\n1:\tlearn: 0.4775172\ttotal: 8.37ms\tremaining: 33.5ms\n2:\tlearn: 0.4754729\ttotal: 10.7ms\tremaining: 25ms\n3:\tlearn: 0.4723507\ttotal: 15.1ms\tremaining: 22.6ms\n4:\tlearn: 0.4709283\ttotal: 42.6ms\tremaining: 42.6ms\n5:\tlearn: 0.4692211\ttotal: 52.3ms\tremaining: 34.8ms\n6:\tlearn: 0.4665751\ttotal: 64.1ms\tremaining: 27.5ms\n7:\tlearn: 0.4658545\ttotal: 68.2ms\tremaining: 17ms\n8:\tlearn: 0.4648534\ttotal: 72.5ms\tremaining: 8.05ms\n9:\tlearn: 0.4644683\ttotal: 76.5ms\tremaining: 0us\nprediccion =  89\n0:\tlearn: 0.4828370\ttotal: 6.05ms\tremaining: 54.5ms\n",
      "1:\tlearn: 0.4771460\ttotal: 11.4ms\tremaining: 45.5ms\n2:\tlearn: 0.4742042\ttotal: 14.3ms\tremaining: 33.4ms\n3:\tlearn: 0.4726663\ttotal: 18.3ms\tremaining: 27.5ms\n4:\tlearn: 0.4706452\ttotal: 23.8ms\tremaining: 23.8ms\n5:\tlearn: 0.4664767\ttotal: 29.5ms\tremaining: 19.6ms\n6:\tlearn: 0.4650046\ttotal: 35ms\tremaining: 15ms\n7:\tlearn: 0.4619038\ttotal: 40.4ms\tremaining: 10.1ms\n8:\tlearn: 0.4607777\ttotal: 46ms\tremaining: 5.11ms\n9:\tlearn: 0.4599159\ttotal: 51.4ms\tremaining: 0us\nprediccion =  90\n0:\tlearn: 0.4825458\ttotal: 8.29ms\tremaining: 74.6ms\n1:\tlearn: 0.4745595\ttotal: 16.1ms\tremaining: 64.6ms\n",
      "2:\tlearn: 0.4715347\ttotal: 24.8ms\tremaining: 58ms\n3:\tlearn: 0.4671247\ttotal: 33.5ms\tremaining: 50.3ms\n4:\tlearn: 0.4645651\ttotal: 41.8ms\tremaining: 41.8ms\n5:\tlearn: 0.4620967\ttotal: 50.8ms\tremaining: 33.9ms\n6:\tlearn: 0.4601848\ttotal: 59.1ms\tremaining: 25.3ms\n7:\tlearn: 0.4587319\ttotal: 67.5ms\tremaining: 16.9ms\n8:\tlearn: 0.4580477\ttotal: 75.5ms\tremaining: 8.38ms\n9:\tlearn: 0.4567545\ttotal: 83.7ms\tremaining: 0us\nprediccion =  91\n",
      "0:\tlearn: 0.4814948\ttotal: 18.9ms\tremaining: 170ms\n1:\tlearn: 0.4743194\ttotal: 35.8ms\tremaining: 143ms\n2:\tlearn: 0.4715698\ttotal: 39.6ms\tremaining: 92.4ms\n3:\tlearn: 0.4707266\ttotal: 41.2ms\tremaining: 61.9ms\n4:\tlearn: 0.4679321\ttotal: 43.5ms\tremaining: 43.5ms\n5:\tlearn: 0.4672134\ttotal: 46.9ms\tremaining: 31.3ms\n6:\tlearn: 0.4656796\ttotal: 63.7ms\tremaining: 27.3ms\n7:\tlearn: 0.4628840\ttotal: 77.9ms\tremaining: 19.5ms\n8:\tlearn: 0.4587830\ttotal: 93ms\tremaining: 10.3ms\n9:\tlearn: 0.4569794\ttotal: 108ms\tremaining: 0us\nprediccion =  92\n",
      "0:\tlearn: 0.4800614\ttotal: 29.2ms\tremaining: 263ms\n1:\tlearn: 0.4734131\ttotal: 61.7ms\tremaining: 247ms\n2:\tlearn: 0.4713386\ttotal: 64.2ms\tremaining: 150ms\n3:\tlearn: 0.4688580\ttotal: 66.7ms\tremaining: 100ms\n4:\tlearn: 0.4682555\ttotal: 68.5ms\tremaining: 68.5ms\n5:\tlearn: 0.4619478\ttotal: 98.9ms\tremaining: 65.9ms\n6:\tlearn: 0.4582503\ttotal: 152ms\tremaining: 65.2ms\n7:\tlearn: 0.4566747\ttotal: 184ms\tremaining: 46.1ms\n8:\tlearn: 0.4539653\ttotal: 216ms\tremaining: 24ms\n",
      "9:\tlearn: 0.4534522\ttotal: 218ms\tremaining: 0us\nprediccion =  93\n0:\tlearn: 0.4795103\ttotal: 57.1ms\tremaining: 514ms\n1:\tlearn: 0.4746446\ttotal: 59.6ms\tremaining: 239ms\n2:\tlearn: 0.4717714\ttotal: 61.3ms\tremaining: 143ms\n3:\tlearn: 0.4690820\ttotal: 64.5ms\tremaining: 96.8ms\n",
      "4:\tlearn: 0.4644526\ttotal: 122ms\tremaining: 122ms\n5:\tlearn: 0.4630830\ttotal: 130ms\tremaining: 87ms\n6:\tlearn: 0.4586023\ttotal: 194ms\tremaining: 83.1ms\n7:\tlearn: 0.4562978\ttotal: 292ms\tremaining: 73ms\n",
      "8:\tlearn: 0.4525464\ttotal: 368ms\tremaining: 40.9ms\n9:\tlearn: 0.4511307\ttotal: 436ms\tremaining: 0us\nprediccion =  94\n",
      "0:\tlearn: 0.4782868\ttotal: 154ms\tremaining: 1.38s\n1:\tlearn: 0.4706470\ttotal: 191ms\tremaining: 765ms\n2:\tlearn: 0.4644888\ttotal: 352ms\tremaining: 821ms\n",
      "3:\tlearn: 0.4637676\ttotal: 356ms\tremaining: 534ms\n4:\tlearn: 0.4631003\ttotal: 358ms\tremaining: 358ms\n5:\tlearn: 0.4587941\ttotal: 475ms\tremaining: 317ms\n6:\tlearn: 0.4582281\ttotal: 477ms\tremaining: 205ms\n",
      "7:\tlearn: 0.4529640\ttotal: 597ms\tremaining: 149ms\n8:\tlearn: 0.4510747\ttotal: 727ms\tremaining: 80.8ms\n9:\tlearn: 0.4504991\ttotal: 736ms\tremaining: 0us\n",
      "prediccion =  95\n",
      "0:\tlearn: 0.4782868\ttotal: 230ms\tremaining: 2.07s\n1:\tlearn: 0.4726258\ttotal: 246ms\tremaining: 985ms\n2:\tlearn: 0.4656388\ttotal: 392ms\tremaining: 914ms\n3:\tlearn: 0.4649525\ttotal: 396ms\tremaining: 594ms\n",
      "4:\tlearn: 0.4610180\ttotal: 633ms\tremaining: 633ms\n5:\tlearn: 0.4602026\ttotal: 638ms\tremaining: 426ms\n",
      "6:\tlearn: 0.4574583\ttotal: 890ms\tremaining: 381ms\n",
      "7:\tlearn: 0.4549662\ttotal: 1.13s\tremaining: 282ms\n8:\tlearn: 0.4543740\ttotal: 1.15s\tremaining: 128ms\n",
      "9:\tlearn: 0.4485726\ttotal: 1.43s\tremaining: 0us\nprediccion =  96\n0:\tlearn: 0.4812673\ttotal: 4.32ms\tremaining: 38.9ms\n1:\tlearn: 0.4756179\ttotal: 7.99ms\tremaining: 32ms\n2:\tlearn: 0.4729407\ttotal: 11.6ms\tremaining: 27.2ms\n3:\tlearn: 0.4709523\ttotal: 15.6ms\tremaining: 23.3ms\n4:\tlearn: 0.4699331\ttotal: 19.3ms\tremaining: 19.3ms\n5:\tlearn: 0.4670042\ttotal: 23.3ms\tremaining: 15.5ms\n6:\tlearn: 0.4653880\ttotal: 27ms\tremaining: 11.6ms\n7:\tlearn: 0.4644019\ttotal: 30.7ms\tremaining: 7.67ms\n8:\tlearn: 0.4632774\ttotal: 34.4ms\tremaining: 3.82ms\n9:\tlearn: 0.4622222\ttotal: 38ms\tremaining: 0us\n",
      "prediccion =  97\n0:\tlearn: 0.4806466\ttotal: 7.86ms\tremaining: 70.8ms\n1:\tlearn: 0.4731445\ttotal: 13.3ms\tremaining: 53.2ms\n2:\tlearn: 0.4704871\ttotal: 16.2ms\tremaining: 37.8ms\n3:\tlearn: 0.4685487\ttotal: 21.5ms\tremaining: 32.3ms\n4:\tlearn: 0.4652232\ttotal: 26.8ms\tremaining: 26.8ms\n5:\tlearn: 0.4630132\ttotal: 32.1ms\tremaining: 21.4ms\n6:\tlearn: 0.4619493\ttotal: 37ms\tremaining: 15.9ms\n7:\tlearn: 0.4601631\ttotal: 41.8ms\tremaining: 10.5ms\n8:\tlearn: 0.4587893\ttotal: 47ms\tremaining: 5.22ms\n9:\tlearn: 0.4566214\ttotal: 52ms\tremaining: 0us\nprediccion =  98\n0:\tlearn: 0.4802913\ttotal: 8.47ms\tremaining: 76.2ms\n1:\tlearn: 0.4719404\ttotal: 16.3ms\tremaining: 65.2ms\n2:\tlearn: 0.4690114\ttotal: 24.4ms\tremaining: 56.8ms\n3:\tlearn: 0.4642370\ttotal: 29.2ms\tremaining: 43.8ms\n",
      "4:\tlearn: 0.4635709\ttotal: 32.6ms\tremaining: 32.6ms\n5:\tlearn: 0.4624557\ttotal: 41ms\tremaining: 27.4ms\n6:\tlearn: 0.4594319\ttotal: 49.8ms\tremaining: 21.4ms\n7:\tlearn: 0.4588611\ttotal: 51.5ms\tremaining: 12.9ms\n8:\tlearn: 0.4560082\ttotal: 61.3ms\tremaining: 6.81ms\n9:\tlearn: 0.4548797\ttotal: 69.5ms\tremaining: 0us\nprediccion =  99\n0:\tlearn: 0.4790326\ttotal: 17.8ms\tremaining: 160ms\n",
      "1:\tlearn: 0.4713354\ttotal: 35.9ms\tremaining: 144ms\n2:\tlearn: 0.4647800\ttotal: 53.1ms\tremaining: 124ms\n3:\tlearn: 0.4621271\ttotal: 68.8ms\tremaining: 103ms\n4:\tlearn: 0.4598835\ttotal: 85.5ms\tremaining: 85.5ms\n5:\tlearn: 0.4564525\ttotal: 101ms\tremaining: 67.5ms\n6:\tlearn: 0.4557979\ttotal: 116ms\tremaining: 49.6ms\n7:\tlearn: 0.4534083\ttotal: 130ms\tremaining: 32.6ms\n8:\tlearn: 0.4514859\ttotal: 144ms\tremaining: 16ms\n9:\tlearn: 0.4509805\ttotal: 158ms\tremaining: 0us\nprediccion = ",
      " 100\n0:\tlearn: 0.4773287\ttotal: 30.4ms\tremaining: 273ms\n1:\tlearn: 0.4695181\ttotal: 61.2ms\tremaining: 245ms\n2:\tlearn: 0.4676290\ttotal: 63.2ms\tremaining: 147ms\n3:\tlearn: 0.4661734\ttotal: 65.7ms\tremaining: 98.5ms\n4:\tlearn: 0.4652802\ttotal: 67.4ms\tremaining: 67.4ms\n5:\tlearn: 0.4611483\ttotal: 105ms\tremaining: 69.8ms\n6:\tlearn: 0.4580559\ttotal: 155ms\tremaining: 66.5ms\n7:\tlearn: 0.4564915\ttotal: 171ms\tremaining: 42.7ms\n",
      "8:\tlearn: 0.4563788\ttotal: 173ms\tremaining: 19.2ms\n9:\tlearn: 0.4541134\ttotal: 204ms\tremaining: 0us\nprediccion =  101\n0:\tlearn: 0.4766617\ttotal: 56.4ms\tremaining: 508ms\n",
      "1:\tlearn: 0.4702175\ttotal: 115ms\tremaining: 459ms\n2:\tlearn: 0.4619166\ttotal: 175ms\tremaining: 408ms\n3:\tlearn: 0.4582369\ttotal: 255ms\tremaining: 382ms\n",
      "4:\tlearn: 0.4563564\ttotal: 332ms\tremaining: 332ms\n5:\tlearn: 0.4561044\ttotal: 334ms\tremaining: 223ms\n6:\tlearn: 0.4511954\ttotal: 400ms\tremaining: 172ms\n7:\tlearn: 0.4503808\ttotal: 416ms\tremaining: 104ms\n8:\tlearn: 0.4498990\ttotal: 419ms\tremaining: 46.6ms\n9:\tlearn: 0.4464336\ttotal: 478ms\tremaining: 0us\n",
      "prediccion =  102\n0:\tlearn: 0.4751991\ttotal: 165ms\tremaining: 1.48s\n",
      "1:\tlearn: 0.4669630\ttotal: 197ms\tremaining: 790ms\n2:\tlearn: 0.4607201\ttotal: 317ms\tremaining: 740ms\n3:\tlearn: 0.4601538\ttotal: 321ms\tremaining: 481ms\n",
      "4:\tlearn: 0.4580116\ttotal: 448ms\tremaining: 448ms\n5:\tlearn: 0.4539290\ttotal: 623ms\tremaining: 415ms\n",
      "6:\tlearn: 0.4513213\ttotal: 747ms\tremaining: 320ms\n7:\tlearn: 0.4458490\ttotal: 861ms\tremaining: 215ms\n",
      "8:\tlearn: 0.4441287\ttotal: 980ms\tremaining: 109ms\n9:\tlearn: 0.4440618\ttotal: 983ms\tremaining: 0us\nprediccion =  103\n",
      "0:\tlearn: 0.4751991\ttotal: 253ms\tremaining: 2.27s\n1:\tlearn: 0.4695340\ttotal: 270ms\tremaining: 1.08s\n2:\tlearn: 0.4622501\ttotal: 422ms\tremaining: 984ms\n3:\tlearn: 0.4611008\ttotal: 425ms\tremaining: 638ms\n",
      "4:\tlearn: 0.4570576\ttotal: 659ms\tremaining: 659ms\n5:\tlearn: 0.4561401\ttotal: 668ms\tremaining: 445ms\n6:\tlearn: 0.4526802\ttotal: 699ms\tremaining: 299ms\n7:\tlearn: 0.4523968\ttotal: 701ms\tremaining: 175ms\n",
      "8:\tlearn: 0.4510332\ttotal: 986ms\tremaining: 110ms\n",
      "9:\tlearn: 0.4446159\ttotal: 1.24s\tremaining: 0us\nprediccion =  104\n0:\tlearn: 0.4795367\ttotal: 4.37ms\tremaining: 39.3ms\n1:\tlearn: 0.4743364\ttotal: 8.2ms\tremaining: 32.8ms\n2:\tlearn: 0.4726696\ttotal: 10.2ms\tremaining: 23.7ms\n3:\tlearn: 0.4700932\ttotal: 12.6ms\tremaining: 18.9ms\n4:\tlearn: 0.4681234\ttotal: 16.7ms\tremaining: 16.7ms\n5:\tlearn: 0.4661640\ttotal: 20.5ms\tremaining: 13.7ms\n6:\tlearn: 0.4626593\ttotal: 24.2ms\tremaining: 10.4ms\n7:\tlearn: 0.4617871\ttotal: 26.6ms\tremaining: 6.64ms\n8:\tlearn: 0.4598178\ttotal: 30.3ms\tremaining: 3.37ms\n9:\tlearn: 0.4592706\ttotal: 32.6ms\tremaining: 0us\n",
      "prediccion =  105\n0:\tlearn: 0.4788097\ttotal: 6.22ms\tremaining: 56ms\n1:\tlearn: 0.4724596\ttotal: 11.7ms\tremaining: 46.6ms\n2:\tlearn: 0.4686685\ttotal: 14.9ms\tremaining: 34.8ms\n3:\tlearn: 0.4666294\ttotal: 20.1ms\tremaining: 30.1ms\n4:\tlearn: 0.4648961\ttotal: 25.2ms\tremaining: 25.2ms\n5:\tlearn: 0.4639392\ttotal: 30.1ms\tremaining: 20.1ms\n6:\tlearn: 0.4633990\ttotal: 32.8ms\tremaining: 14.1ms\n7:\tlearn: 0.4616444\ttotal: 36.4ms\tremaining: 9.1ms\n8:\tlearn: 0.4613365\ttotal: 39.1ms\tremaining: 4.35ms\n9:\tlearn: 0.4574005\ttotal: 44.4ms\tremaining: 0us\nprediccion =  106\n0:\tlearn: 0.4783942\ttotal: 8.25ms\tremaining: 74.3ms\n1:\tlearn: 0.4701757\ttotal: 15.9ms\tremaining: 63.7ms\n2:\tlearn: 0.4672083\ttotal: 24.2ms\tremaining: 56.5ms\n3:\tlearn: 0.4631881\ttotal: 29.1ms\tremaining: 43.6ms\n",
      "4:\tlearn: 0.4624166\ttotal: 32.4ms\tremaining: 32.4ms\n5:\tlearn: 0.4621860\ttotal: 34.4ms\tremaining: 23ms\n6:\tlearn: 0.4605154\ttotal: 43.9ms\tremaining: 18.8ms\n7:\tlearn: 0.4582078\ttotal: 52.7ms\tremaining: 13.2ms\n8:\tlearn: 0.4569908\ttotal: 61.1ms\tremaining: 6.78ms\n9:\tlearn: 0.4551930\ttotal: 69.7ms\tremaining: 0us\nprediccion =  107\n0:\tlearn: 0.4769515\ttotal: 16.4ms\tremaining: 147ms\n1:\tlearn: 0.4693474\ttotal: 38.6ms\tremaining: 155ms\n",
      "2:\tlearn: 0.4669053\ttotal: 43.2ms\tremaining: 101ms\n3:\tlearn: 0.4650520\ttotal: 46.3ms\tremaining: 69.4ms\n4:\tlearn: 0.4627052\ttotal: 55.6ms\tremaining: 55.6ms\n5:\tlearn: 0.4624420\ttotal: 57.8ms\tremaining: 38.5ms\n6:\tlearn: 0.4589336\ttotal: 73ms\tremaining: 31.3ms\n7:\tlearn: 0.4581434\ttotal: 88.5ms\tremaining: 22.1ms\n8:\tlearn: 0.4547538\ttotal: 104ms\tremaining: 11.6ms\n9:\tlearn: 0.4539018\ttotal: 119ms\tremaining: 0us\nprediccion =  108\n0:\tlearn: 0.4750150\ttotal: 29.1ms\tremaining: 262ms\n",
      "1:\tlearn: 0.4667519\ttotal: 59.1ms\tremaining: 236ms\n2:\tlearn: 0.4649358\ttotal: 61.3ms\tremaining: 143ms\n3:\tlearn: 0.4639765\ttotal: 63ms\tremaining: 94.5ms\n4:\tlearn: 0.4582985\ttotal: 93.4ms\tremaining: 93.4ms\n5:\tlearn: 0.4555369\ttotal: 122ms\tremaining: 81.2ms\n6:\tlearn: 0.4530336\ttotal: 184ms\tremaining: 78.7ms\n7:\tlearn: 0.4529385\ttotal: 185ms\tremaining: 46.4ms\n8:\tlearn: 0.4514681\ttotal: 218ms\tremaining: 24.2ms\n",
      "9:\tlearn: 0.4490294\ttotal: 272ms\tremaining: 0us\n",
      "prediccion =  109\n0:\tlearn: 0.4742418\ttotal: 58.3ms\tremaining: 524ms\n1:\tlearn: 0.4684519\ttotal: 138ms\tremaining: 552ms\n",
      "2:\tlearn: 0.4605709\ttotal: 209ms\tremaining: 488ms\n3:\tlearn: 0.4557465\ttotal: 273ms\tremaining: 410ms\n4:\tlearn: 0.4526547\ttotal: 331ms\tremaining: 331ms\n5:\tlearn: 0.4524852\ttotal: 333ms\tremaining: 222ms\n6:\tlearn: 0.4510197\ttotal: 389ms\tremaining: 167ms\n",
      "7:\tlearn: 0.4499619\ttotal: 451ms\tremaining: 113ms\n8:\tlearn: 0.4472542\ttotal: 556ms\tremaining: 61.8ms\n9:\tlearn: 0.4461295\ttotal: 565ms\tremaining: 0us\n",
      "prediccion =  110\n0:\tlearn: 0.4725694\ttotal: 118ms\tremaining: 1.06s\n",
      "1:\tlearn: 0.4643978\ttotal: 146ms\tremaining: 584ms\n2:\tlearn: 0.4594562\ttotal: 265ms\tremaining: 618ms\n3:\tlearn: 0.4590912\ttotal: 269ms\tremaining: 403ms\n",
      "4:\tlearn: 0.4560916\ttotal: 409ms\tremaining: 409ms\n5:\tlearn: 0.4512268\ttotal: 523ms\tremaining: 348ms\n",
      "6:\tlearn: 0.4475425\ttotal: 640ms\tremaining: 274ms\n7:\tlearn: 0.4422638\ttotal: 781ms\tremaining: 195ms\n",
      "8:\tlearn: 0.4408694\ttotal: 912ms\tremaining: 101ms\n9:\tlearn: 0.4408408\ttotal: 914ms\tremaining: 0us\nprediccion =  111\n",
      "0:\tlearn: 0.4725694\ttotal: 266ms\tremaining: 2.39s\n1:\tlearn: 0.4649560\ttotal: 285ms\tremaining: 1.14s\n2:\tlearn: 0.4600711\ttotal: 421ms\tremaining: 982ms\n3:\tlearn: 0.4595972\ttotal: 424ms\tremaining: 636ms\n",
      "4:\tlearn: 0.4563485\ttotal: 656ms\tremaining: 656ms\n5:\tlearn: 0.4552763\ttotal: 661ms\tremaining: 441ms\n6:\tlearn: 0.4482400\ttotal: 813ms\tremaining: 348ms\n",
      "7:\tlearn: 0.4464364\ttotal: 1.05s\tremaining: 262ms\n8:\tlearn: 0.4460538\ttotal: 1.05s\tremaining: 117ms\n9:\tlearn: 0.4452249\ttotal: 1.06s\tremaining: 0us\nprediccion =  112\n0:\tlearn: 0.4781569\ttotal: 24.1ms\tremaining: 217ms\n1:\tlearn: 0.4712619\ttotal: 28.4ms\tremaining: 113ms\n2:\tlearn: 0.4695414\ttotal: 30.8ms\tremaining: 71.8ms\n3:\tlearn: 0.4654011\ttotal: 35.2ms\tremaining: 52.8ms\n4:\tlearn: 0.4632066\ttotal: 39.9ms\tremaining: 39.9ms\n5:\tlearn: 0.4620259\ttotal: 44.2ms\tremaining: 29.5ms\n6:\tlearn: 0.4607498\ttotal: 48ms\tremaining: 20.6ms\n7:\tlearn: 0.4593472\ttotal: 51.9ms\tremaining: 13ms\n8:\tlearn: 0.4573382\ttotal: 55.9ms\tremaining: 6.21ms\n9:\tlearn: 0.4563235\ttotal: 59.8ms\tremaining: 0us\n",
      "prediccion =  113\n0:\tlearn: 0.4773302\ttotal: 6.17ms\tremaining: 55.5ms\n1:\tlearn: 0.4709252\ttotal: 12ms\tremaining: 48.2ms\n2:\tlearn: 0.4690268\ttotal: 14.4ms\tremaining: 33.5ms\n3:\tlearn: 0.4663591\ttotal: 19.7ms\tremaining: 29.6ms\n4:\tlearn: 0.4645381\ttotal: 25.1ms\tremaining: 25.1ms\n5:\tlearn: 0.4610121\ttotal: 31.5ms\tremaining: 21ms\n6:\tlearn: 0.4607632\ttotal: 33.4ms\tremaining: 14.3ms\n7:\tlearn: 0.4587162\ttotal: 39ms\tremaining: 9.74ms\n8:\tlearn: 0.4567238\ttotal: 44.5ms\tremaining: 4.94ms\n9:\tlearn: 0.4557915\ttotal: 49.9ms\tremaining: 0us\n",
      "prediccion =  114\n0:\tlearn: 0.4768586\ttotal: 8.48ms\tremaining: 76.3ms\n1:\tlearn: 0.4689689\ttotal: 17.4ms\tremaining: 69.5ms\n2:\tlearn: 0.4681978\ttotal: 19.2ms\tremaining: 44.8ms\n3:\tlearn: 0.4646783\ttotal: 27.5ms\tremaining: 41.3ms\n4:\tlearn: 0.4615175\ttotal: 36.6ms\tremaining: 36.6ms\n5:\tlearn: 0.4586685\ttotal: 49.9ms\tremaining: 33.3ms\n6:\tlearn: 0.4577079\ttotal: 60.8ms\tremaining: 26.1ms\n7:\tlearn: 0.4570852\ttotal: 65.3ms\tremaining: 16.3ms\n8:\tlearn: 0.4552933\ttotal: 74.9ms\tremaining: 8.32ms\n9:\tlearn: 0.4526374\ttotal: 83.3ms\tremaining: 0us\n",
      "prediccion =  115\n0:\tlearn: 0.4752564\ttotal: 16.6ms\tremaining: 149ms\n1:\tlearn: 0.4662406\ttotal: 33.1ms\tremaining: 133ms\n2:\tlearn: 0.4640837\ttotal: 36.6ms\tremaining: 85.4ms\n3:\tlearn: 0.4624980\ttotal: 39.1ms\tremaining: 58.7ms\n4:\tlearn: 0.4613537\ttotal: 41ms\tremaining: 41ms\n5:\tlearn: 0.4575181\ttotal: 55.3ms\tremaining: 36.8ms\n6:\tlearn: 0.4556381\ttotal: 69.9ms\tremaining: 30ms\n7:\tlearn: 0.4541826\ttotal: 84ms\tremaining: 21ms\n8:\tlearn: 0.4541140\ttotal: 85.6ms\tremaining: 9.51ms\n9:\tlearn: 0.4523333\ttotal: 100ms\tremaining: 0us\nprediccion =  116\n0:\tlearn: 0.4731265\ttotal: 28.3ms\tremaining: 255ms\n",
      "1:\tlearn: 0.4636190\ttotal: 59.8ms\tremaining: 239ms\n2:\tlearn: 0.4594887\ttotal: 89.6ms\tremaining: 209ms\n3:\tlearn: 0.4552693\ttotal: 156ms\tremaining: 233ms\n4:\tlearn: 0.4535406\ttotal: 190ms\tremaining: 190ms\n",
      "5:\tlearn: 0.4511423\ttotal: 228ms\tremaining: 152ms\n6:\tlearn: 0.4506654\ttotal: 233ms\tremaining: 100ms\n7:\tlearn: 0.4487022\ttotal: 264ms\tremaining: 66.1ms\n8:\tlearn: 0.4457287\ttotal: 294ms\tremaining: 32.7ms\n9:\tlearn: 0.4453379\ttotal: 298ms\tremaining: 0us\nprediccion =  117\n",
      "0:\tlearn: 0.4722572\ttotal: 58.2ms\tremaining: 524ms\n1:\tlearn: 0.4616970\ttotal: 126ms\tremaining: 503ms\n2:\tlearn: 0.4556153\ttotal: 206ms\tremaining: 480ms\n",
      "3:\tlearn: 0.4527672\ttotal: 284ms\tremaining: 425ms\n4:\tlearn: 0.4501277\ttotal: 347ms\tremaining: 347ms\n5:\tlearn: 0.4500514\ttotal: 349ms\tremaining: 233ms\n6:\tlearn: 0.4466247\ttotal: 407ms\tremaining: 174ms\n7:\tlearn: 0.4452904\ttotal: 465ms\tremaining: 116ms\n",
      "8:\tlearn: 0.4412212\ttotal: 527ms\tremaining: 58.6ms\n9:\tlearn: 0.4405663\ttotal: 536ms\tremaining: 0us\nprediccion =  118\n",
      "0:\tlearn: 0.4704054\ttotal: 121ms\tremaining: 1.09s\n1:\tlearn: 0.4617864\ttotal: 149ms\tremaining: 598ms\n2:\tlearn: 0.4585240\ttotal: 267ms\tremaining: 623ms\n3:\tlearn: 0.4579758\ttotal: 271ms\tremaining: 406ms\n",
      "4:\tlearn: 0.4551750\ttotal: 420ms\tremaining: 420ms\n5:\tlearn: 0.4504471\ttotal: 534ms\tremaining: 356ms\n",
      "6:\tlearn: 0.4476514\ttotal: 653ms\tremaining: 280ms\n7:\tlearn: 0.4433385\ttotal: 799ms\tremaining: 200ms\n",
      "8:\tlearn: 0.4414173\ttotal: 933ms\tremaining: 104ms\n9:\tlearn: 0.4414046\ttotal: 935ms\tremaining: 0us\nprediccion =  119\n",
      "0:\tlearn: 0.4704054\ttotal: 279ms\tremaining: 2.51s\n1:\tlearn: 0.4636170\ttotal: 294ms\tremaining: 1.18s\n2:\tlearn: 0.4580144\ttotal: 417ms\tremaining: 973ms\n3:\tlearn: 0.4574764\ttotal: 421ms\tremaining: 631ms\n",
      "4:\tlearn: 0.4548813\ttotal: 652ms\tremaining: 652ms\n5:\tlearn: 0.4540114\ttotal: 657ms\tremaining: 438ms\n",
      "6:\tlearn: 0.4472444\ttotal: 898ms\tremaining: 385ms\n",
      "7:\tlearn: 0.4452593\ttotal: 1.13s\tremaining: 283ms\n8:\tlearn: 0.4450114\ttotal: 1.13s\tremaining: 126ms\n",
      "9:\tlearn: 0.4385545\ttotal: 1.43s\tremaining: 0us\nprediccion =  120\n"
     ],
     "output_type": "stream"
    }
   ],
   "source": [
    "resultados_de_prediccion = pd.read_csv('sample_submission.csv',index_col=['id'])\n",
    "cantidadDePredicciones = 0\n",
    "#catboost\n",
    "for iter in range(6,12,2):\n",
    "    for lR in range(3,8):\n",
    "        learningRate = lR / 10\n",
    "        for profundidad in range(8,16):\n",
    "            # Initialize CatBoostRegressor\n",
    "            model = CatBoostRegressor(iterations=iter,\n",
    "                                      learning_rate=learningRate,\n",
    "                                      depth=profundidad)\n",
    "            # Fit model\n",
    "            model.fit(train_set, train_label)\n",
    "            # Get predictions\n",
    "            predicion = model.predict(test_set)\n",
    "            cantidadDePredicciones,resultados_de_prediccion = ensamble(resultados_de_prediccion,cantidadDePredicciones,predicion)\n",
    "            print(\"prediccion = \",cantidadDePredicciones)"
   ],
   "metadata": {
    "collapsed": false,
    "pycharm": {
     "name": "#%%\n",
     "is_executing": false
    }
   }
  },
  {
   "cell_type": "code",
   "execution_count": 45,
   "outputs": [
    {
     "name": "stdout",
     "text": [
      "120\n"
     ],
     "output_type": "stream"
    },
    {
     "data": {
      "text/plain": "                    target\nid                        \n0                     0.00\n2                     1.00\n3                     1.00\n9                     0.00\n11                    1.00\n...                    ...\n10861                 1.00\n10865                 1.00\n10868                 1.00\n10874                 1.00\n10875                 1.00\n\n[3263 rows x 1 columns]",
      "text/html": "<div>\n<style scoped>\n    .dataframe tbody tr th:only-of-type {\n        vertical-align: middle;\n    }\n\n    .dataframe tbody tr th {\n        vertical-align: top;\n    }\n\n    .dataframe thead th {\n        text-align: right;\n    }\n</style>\n<table border=\"1\" class=\"dataframe\">\n  <thead>\n    <tr style=\"text-align: right;\">\n      <th></th>\n      <th>target</th>\n    </tr>\n    <tr>\n      <th>id</th>\n      <th></th>\n    </tr>\n  </thead>\n  <tbody>\n    <tr>\n      <th>0</th>\n      <td>0.00</td>\n    </tr>\n    <tr>\n      <th>2</th>\n      <td>1.00</td>\n    </tr>\n    <tr>\n      <th>3</th>\n      <td>1.00</td>\n    </tr>\n    <tr>\n      <th>9</th>\n      <td>0.00</td>\n    </tr>\n    <tr>\n      <th>11</th>\n      <td>1.00</td>\n    </tr>\n    <tr>\n      <th>...</th>\n      <td>...</td>\n    </tr>\n    <tr>\n      <th>10861</th>\n      <td>1.00</td>\n    </tr>\n    <tr>\n      <th>10865</th>\n      <td>1.00</td>\n    </tr>\n    <tr>\n      <th>10868</th>\n      <td>1.00</td>\n    </tr>\n    <tr>\n      <th>10874</th>\n      <td>1.00</td>\n    </tr>\n    <tr>\n      <th>10875</th>\n      <td>1.00</td>\n    </tr>\n  </tbody>\n</table>\n<p>3263 rows × 1 columns</p>\n</div>"
     },
     "metadata": {},
     "output_type": "execute_result",
     "execution_count": 45
    }
   ],
   "source": [
    "resultados_de_prediccion = calcular_resultado_de_prediccion(resultados_de_prediccion,cantidadDePredicciones)\n",
    "\n",
    "print(cantidadDePredicciones)\n",
    "resultados_de_prediccion"
   ],
   "metadata": {
    "collapsed": false,
    "pycharm": {
     "name": "#%%\n",
     "is_executing": false
    }
   }
  },
  {
   "cell_type": "code",
   "execution_count": 46,
   "outputs": [
    {
     "name": "stdout",
     "text": [
      "0.5019505851755527\n"
     ],
     "output_type": "stream"
    }
   ],
   "source": [
    "print(F1(resultados_de_prediccion))\n"
   ],
   "metadata": {
    "collapsed": false,
    "pycharm": {
     "name": "#%%\n",
     "is_executing": false
    }
   }
  },
  {
   "cell_type": "code",
   "execution_count": 26,
   "outputs": [
    {
     "data": {
      "text/plain": "target\n0    4342\n1    3271\ndtype: int64"
     },
     "metadata": {},
     "output_type": "execute_result",
     "execution_count": 26
    }
   ],
   "source": [
    "#para arbol verificar si esta balanceado o no\n",
    "tweets_entrenamiento = tweets_original_entrenamiento\n",
    "tweets_entrenamiento.groupby([\"target\"]).size()"
   ],
   "metadata": {
    "collapsed": false,
    "pycharm": {
     "name": "#%%\n",
     "is_executing": false
    }
   }
  },
  {
   "cell_type": "markdown",
   "source": [
    "## ENTREGA"
   ],
   "metadata": {
    "collapsed": false
   }
  },
  {
   "cell_type": "code",
   "source": [
    "#cuando todo termina el archivo de entrega\n",
    "resultados_de_prediccion.to_csv('submit.csv', index=False)"
   ],
   "metadata": {
    "collapsed": false,
    "pycharm": {
     "name": "#%%\n"
    }
   },
   "execution_count": null,
   "outputs": []
  }
 ],
 "metadata": {
  "kernelspec": {
   "display_name": "Python 3",
   "language": "python",
   "name": "python3"
  },
  "language_info": {
   "codemirror_mode": {
    "name": "ipython",
    "version": 2
   },
   "file_extension": ".py",
   "mimetype": "text/x-python",
   "name": "python",
   "nbconvert_exporter": "python",
   "pygments_lexer": "ipython2",
   "version": "2.7.6"
  },
  "pycharm": {
   "stem_cell": {
    "cell_type": "raw",
    "source": [],
    "metadata": {
     "collapsed": false
    }
   }
  }
 },
 "nbformat": 4,
 "nbformat_minor": 0
}