{
 "cells": [
  {
   "cell_type": "markdown",
   "metadata": {
    "collapsed": true,
    "pycharm": {
     "name": "#%% md\n"
    }
   },
   "source": [
    "# 75.06/95.58 Organización de Datos\n",
    "# Primer Cuatrimestre de 2020\n",
    "# Trabajo Práctico 2: Enunciado\n",
    "\n",
    "\n",
    "El segundo TP es una competencia de Machine Learning en donde cada grupo debe intentar determinar, para cada tweet brindado, si el mismo esta basado en un hecho real o no.\n",
    "\n",
    "La competencia se desarrolla en la plataforma de Kaggle  https://www.kaggle.com/c/nlp-getting-started.  \n",
    "\n",
    "El dataset consta de una serie de tweets, para los cuales se informa:\n",
    "\n",
    "- id - identificador unico para cada  tweet\n",
    "- text - el texto del tweet\n",
    "- location - ubicación desde donde fue enviado (podría no estar)\n",
    "- keyword - un keyword para el tweet  (podría faltar)\n",
    "- target - en train.csv, indica si se trata de un desastre real  (1) o no (0)\n",
    " \n",
    "\n",
    "\n",
    "Los submits con el resultado deben tener el formato:\n",
    "\n",
    "Id: Un id numérico para identificar el tweet\n",
    "target: 1 / 0 según se crea que el tweet se trata sobre un desastre real, o no.\n",
    "\n",
    "Los grupos deberán probar distintos algoritmos de Machine Learning para intentar predecir si el tweet está basado en hechos reales o no. A medida que los grupos realicen pruebas deben realizar el correspondiente submit en Kaggle para evaluar el resultado de los mismos.\n",
    "\n",
    "Al finalizar la competencia el grupo que mejor resultado tenga obtendrá 10 puntos para cada uno de sus integrantes que podrán ser usados en el examen por promoción o segundo recuperatorio.\n",
    "\n",
    "## Requisitos para la entrega del TP2:\n",
    "\n",
    "- El TP debe programarse en Python o R.\n",
    "- Debe entregarse un pdf con el informe de algoritmos probados, algoritmo final utilizado, transformaciones realizadas a los datos, feature engineering, etc. \n",
    "- El informe debe incluir también un link a github con el informe presentado en pdf, y todo el código.\n",
    "- El grupo debe presentar el TP en una computadora en la fecha indicada por la cátedra, el TP debe correr en un lapso de tiempo razonable (inferior a 1 hora) y generar un submission válido que iguale el mejor resultado obtenido por el grupo en Kaggle. (mas detalles a definir)\n",
    "\n",
    "## El TP2 se va a evaluar en función del siguiente criterio:\n",
    "\n",
    "- Cantidad de trabajo (esfuerzo) del grupo: ¿Probaron muchos algoritmos? ¿Hicieron un buen trabajo de pre-procesamiento de los datos y feature engineering?\n",
    "- Resultado obtenido en Kaggle (obviamente cuanto mejor resultado mejor nota)\n",
    "- Presentación final del informe, calidad de la redacción, uso de información obtenida en el TP1, conclusiones presentadas.\n",
    "- Performance de la solución final."
   ]
  },
  {
   "cell_type": "markdown",
   "source": [
    "## Forma de evaluar kaggle\n",
    "\n",
    "Las presentaciones se evalúan utilizando F1 entre las respuestas previstas y esperadas.\n",
    "\n",
    "F1 se calcula de la siguiente manera:\n",
    "$ F1=(2∗precision∗recall)/(precision+recall) $\n",
    "\n",
    "donde:\n",
    "\n",
    "$precision=TP/(TP+FP)$\n",
    "\n",
    "$recall=TP/(TP+FN)$\n",
    "\n",
    "\n",
    "con:\n",
    "\n",
    "- Verdadero positivo [TP] = your prediction is 1, and the ground truth is also 1 - you predicted a positive and that's true!\n",
    "- Falso positivo [FP] = your prediction is 1, and the ground truth is 0 - you predicted a positive, and that's false.\n",
    "- Falso Negativo [FN] = your prediction is 0, and the ground truth is 1 - you predicted a negative, and that's false."
   ],
   "metadata": {
    "collapsed": false
   }
  },
  {
   "cell_type": "markdown",
   "source": [
    "importaciones"
   ],
   "metadata": {
    "collapsed": false
   }
  },
  {
   "cell_type": "code",
   "execution_count": 1,
   "outputs": [
    {
     "name": "stderr",
     "text": [
      "Using TensorFlow backend.\n"
     ],
     "output_type": "stream"
    }
   ],
   "source": [
    "#IMPORTS\n",
    "import pandas as pd\n",
    "import numpy as np\n",
    "import matplotlib.pyplot as plt\n",
    "import seaborn as sns\n",
    "import plotly.graph_objects as go\n",
    "\n",
    "#plt.style.use('default')\n",
    "\n",
    "sns.set(style=\"whitegrid\")\n",
    "\n",
    "pd.options.display.float_format = '{:20,.2f}'.format \n",
    "\n",
    "import warnings\n",
    "warnings.filterwarnings('ignore')\n",
    "\n",
    "from matplotlib.colors import ListedColormap\n",
    "import matplotlib.patches as mpatches\n",
    " \n",
    "%matplotlib inline\n",
    "plt.rcParams['figure.figsize'] = (16, 9)\n",
    "plt.style.use('ggplot')\n",
    " \n",
    "#librerias para KNN\n",
    "from sklearn.model_selection import train_test_split\n",
    "from sklearn.preprocessing import MinMaxScaler\n",
    "from sklearn.neighbors import KNeighborsClassifier\n",
    "from sklearn.metrics import classification_report\n",
    "from sklearn.metrics import confusion_matrix\n",
    "#red neuronal\n",
    "from keras.models import Sequential\n",
    "from keras.layers.core import Dense\n",
    "#arboles de decicion\n",
    "plt.rcParams['figure.figsize'] = (16, 9)\n",
    "plt.style.use('ggplot')\n",
    "from sklearn import tree\n",
    "from sklearn.metrics import accuracy_score\n",
    "from sklearn.model_selection import KFold\n",
    "from sklearn.model_selection import cross_val_score\n",
    "from IPython.display import Image as PImage\n",
    "from subprocess import check_call\n",
    "from PIL import Image, ImageDraw, ImageFont\n",
    "#catboost\n",
    "from catboost import CatBoostRegressor\n",
    "\n",
    "#palabras\n",
    "import nltk\n",
    "#nltk.download('stopwords')#si no tiene stopword habilitar esta linea\n",
    "from nltk.corpus import stopwords\n",
    "import gensim \n",
    "from gensim.models import Word2Vec \n",
    "#tf-idf\n",
    "from sklearn.feature_extraction.text import TfidfVectorizer"
   ],
   "metadata": {
    "collapsed": false,
    "pycharm": {
     "name": "#%%\n",
     "is_executing": false
    }
   }
  },
  {
   "cell_type": "code",
   "execution_count": 2,
   "outputs": [],
   "source": [
    "stopwordEnglis = stopwords.words('english')\n",
    "tfidf = TfidfVectorizer()"
   ],
   "metadata": {
    "collapsed": false,
    "pycharm": {
     "name": "#%%\n",
     "is_executing": false
    }
   }
  },
  {
   "cell_type": "markdown",
   "source": [
    "inicio de csv"
   ],
   "metadata": {
    "collapsed": false
   }
  },
  {
   "cell_type": "code",
   "source": [
    "tweets_original_entrenamiento = pd.read_csv('train.csv',index_col=['id'])\n",
    "tweets_original_entrenamiento.head()"
   ],
   "metadata": {
    "collapsed": false,
    "pycharm": {
     "name": "#%%\n",
     "is_executing": false
    }
   },
   "execution_count": 3,
   "outputs": [
    {
     "data": {
      "text/plain": "   keyword location                                               text  target\nid                                                                            \n1      NaN      NaN  Our Deeds are the Reason of this #earthquake M...       1\n4      NaN      NaN             Forest fire near La Ronge Sask. Canada       1\n5      NaN      NaN  All residents asked to 'shelter in place' are ...       1\n6      NaN      NaN  13,000 people receive #wildfires evacuation or...       1\n7      NaN      NaN  Just got sent this photo from Ruby #Alaska as ...       1",
      "text/html": "<div>\n<style scoped>\n    .dataframe tbody tr th:only-of-type {\n        vertical-align: middle;\n    }\n\n    .dataframe tbody tr th {\n        vertical-align: top;\n    }\n\n    .dataframe thead th {\n        text-align: right;\n    }\n</style>\n<table border=\"1\" class=\"dataframe\">\n  <thead>\n    <tr style=\"text-align: right;\">\n      <th></th>\n      <th>keyword</th>\n      <th>location</th>\n      <th>text</th>\n      <th>target</th>\n    </tr>\n    <tr>\n      <th>id</th>\n      <th></th>\n      <th></th>\n      <th></th>\n      <th></th>\n    </tr>\n  </thead>\n  <tbody>\n    <tr>\n      <th>1</th>\n      <td>NaN</td>\n      <td>NaN</td>\n      <td>Our Deeds are the Reason of this #earthquake M...</td>\n      <td>1</td>\n    </tr>\n    <tr>\n      <th>4</th>\n      <td>NaN</td>\n      <td>NaN</td>\n      <td>Forest fire near La Ronge Sask. Canada</td>\n      <td>1</td>\n    </tr>\n    <tr>\n      <th>5</th>\n      <td>NaN</td>\n      <td>NaN</td>\n      <td>All residents asked to 'shelter in place' are ...</td>\n      <td>1</td>\n    </tr>\n    <tr>\n      <th>6</th>\n      <td>NaN</td>\n      <td>NaN</td>\n      <td>13,000 people receive #wildfires evacuation or...</td>\n      <td>1</td>\n    </tr>\n    <tr>\n      <th>7</th>\n      <td>NaN</td>\n      <td>NaN</td>\n      <td>Just got sent this photo from Ruby #Alaska as ...</td>\n      <td>1</td>\n    </tr>\n  </tbody>\n</table>\n</div>"
     },
     "metadata": {},
     "output_type": "execute_result",
     "execution_count": 3
    }
   ]
  },
  {
   "cell_type": "code",
   "execution_count": 4,
   "outputs": [
    {
     "data": {
      "text/plain": "   keyword location                                               text\nid                                                                    \n0      NaN      NaN                 Just happened a terrible car crash\n2      NaN      NaN  Heard about #earthquake is different cities, s...\n3      NaN      NaN  there is a forest fire at spot pond, geese are...\n9      NaN      NaN           Apocalypse lighting. #Spokane #wildfires\n11     NaN      NaN      Typhoon Soudelor kills 28 in China and Taiwan",
      "text/html": "<div>\n<style scoped>\n    .dataframe tbody tr th:only-of-type {\n        vertical-align: middle;\n    }\n\n    .dataframe tbody tr th {\n        vertical-align: top;\n    }\n\n    .dataframe thead th {\n        text-align: right;\n    }\n</style>\n<table border=\"1\" class=\"dataframe\">\n  <thead>\n    <tr style=\"text-align: right;\">\n      <th></th>\n      <th>keyword</th>\n      <th>location</th>\n      <th>text</th>\n    </tr>\n    <tr>\n      <th>id</th>\n      <th></th>\n      <th></th>\n      <th></th>\n    </tr>\n  </thead>\n  <tbody>\n    <tr>\n      <th>0</th>\n      <td>NaN</td>\n      <td>NaN</td>\n      <td>Just happened a terrible car crash</td>\n    </tr>\n    <tr>\n      <th>2</th>\n      <td>NaN</td>\n      <td>NaN</td>\n      <td>Heard about #earthquake is different cities, s...</td>\n    </tr>\n    <tr>\n      <th>3</th>\n      <td>NaN</td>\n      <td>NaN</td>\n      <td>there is a forest fire at spot pond, geese are...</td>\n    </tr>\n    <tr>\n      <th>9</th>\n      <td>NaN</td>\n      <td>NaN</td>\n      <td>Apocalypse lighting. #Spokane #wildfires</td>\n    </tr>\n    <tr>\n      <th>11</th>\n      <td>NaN</td>\n      <td>NaN</td>\n      <td>Typhoon Soudelor kills 28 in China and Taiwan</td>\n    </tr>\n  </tbody>\n</table>\n</div>"
     },
     "metadata": {},
     "output_type": "execute_result",
     "execution_count": 4
    }
   ],
   "source": [
    "tweets_original_prueva = pd.read_csv('test.csv',index_col=['id'])\n",
    "tweets_original_prueva.head()"
   ],
   "metadata": {
    "collapsed": false,
    "pycharm": {
     "name": "#%%\n",
     "is_executing": false
    }
   }
  },
  {
   "cell_type": "markdown",
   "source": [
    "calculo resultado"
   ],
   "metadata": {
    "collapsed": false
   }
  },
  {
   "cell_type": "code",
   "execution_count": 5,
   "outputs": [],
   "source": [
    "#FALLA mal resultados\n",
    "resultados_de_test = pd.read_csv('sample_submission.csv',index_col=['id'])\n",
    "#IGNORAR\n",
    "def calclarPresicionYRecall(df):\n",
    "    respuestas = resultados_de_test\n",
    "    respuestas['prediccion'] = df['target']\n",
    "    #respuestas['TP'] = [1 if (respuestas['target'] == 1 and respuestas['prediccion'] == 1) else 0]\n",
    "    #respuestas['FP'] = [1 if (respuestas['target'] == 0 and respuestas['prediccion'] == 1) else 0]\n",
    "    #respuestas['FN'] = [1 if (respuestas['target'] == 1 and respuestas['prediccion'] == 0) else 0]\n",
    "    \n",
    "    respuestas.loc[respuestas['prediccion'] + respuestas['target'] == 2 , 'TP'] = 1\n",
    "    respuestas.loc[respuestas['prediccion'] + (respuestas['target'] * 2) == 1 , 'FP'] = 1\n",
    "    respuestas.loc[respuestas['prediccion'] + (respuestas['target'] * 2) == 2 , 'FN'] = 1\n",
    "    respuestas['TP'].fillna(0, inplace=True)\n",
    "    respuestas['FP'].fillna(0, inplace=True)\n",
    "    respuestas['FN'].fillna(0, inplace=True)\n",
    "\n",
    "    tp = respuestas['TP'].sum()\n",
    "    fp = respuestas['FP'].sum()\n",
    "    fn = respuestas['FN'].sum()\n",
    "    \n",
    "    print(tp,fp,fn)\n",
    "    print(respuestas.head())\n",
    "    \n",
    "    sumaPresicion = tp + fp\n",
    "    sumaRecall = tp + fn\n",
    "    presicion = tp / sumaPresicion\n",
    "    recall = tp / sumaRecall\n",
    "    return (presicion,recall)\n",
    "\n",
    "def F1(df):\n",
    "    presicion,recall = calclarPresicionYRecall(df)\n",
    "    resultado = 2 * presicion * recall\n",
    "    resultado /= (presicion + recall)\n",
    "    return resultado"
   ],
   "metadata": {
    "collapsed": false,
    "pycharm": {
     "name": "#%%\n",
     "is_executing": false
    }
   }
  },
  {
   "cell_type": "markdown",
   "source": [
    "inicio de problema"
   ],
   "metadata": {
    "collapsed": false
   }
  },
  {
   "cell_type": "markdown",
   "source": [
    "## CATBOOST"
   ],
   "metadata": {
    "collapsed": false
   }
  },
  {
   "cell_type": "code",
   "execution_count": 10,
   "outputs": [],
   "source": [
    "def set_palabras_del_train(df):\n",
    "    palabrasTexto = []\n",
    "    palabrasKeyword = []\n",
    "    \n",
    "    df['palabras_de_texto'] = df['text'].str.lower().str.split().apply(lambda x: [item for item in x if item not in stopwordEnglis])\n",
    "    df['palabras_de_keyword'] = df['text'].str.lower().str.split().apply(lambda x: [item for item in x if item not in stopwordEnglis])\n",
    "    \n",
    "    return (palabrasTexto,palabrasKeyword)\n",
    "\n",
    "def preparar_df(df,listadoDePalabrasDelTextoDelSetDeEntrenamiento=[],listadoDePalabrasDelKeywordDelSetDeEntrenamiento=[]):\n",
    "    df['text'].fillna(\"\", inplace=True)\n",
    "    df['keyword'].fillna(\"\", inplace=True)\n",
    "    df['location'].fillna(\"\", inplace=True)\n",
    "    \n",
    "    df['longitud_de_texto'] = df['text'].str.len()\n",
    "    df['longitud_de_keyword'] = df['keyword'].str.len()\n",
    "    \n",
    "    df['palabras_de_texto'] = df['text'].str.lower().str.split().apply(lambda x: [item for item in x if item not in stopwordEnglis])\n",
    "    df['palabras_de_keyword'] = df['text'].str.lower().str.split().apply(lambda x: [item for item in x if item not in stopwordEnglis])\n",
    "    \n",
    "    df['cantidad_de_palabras_texto'] = df['palabras_de_texto'].map(len)\n",
    "    df['cantidad_de_palabras_keyword'] = df['palabras_de_keyword'].map(len)\n",
    "    \n",
    "    #df['palabras_de_texto'] = df['palabras_de_texto'].apply(lambda x: [item for item in x if item in listadoDePalabrasDelTextoDelSetDeEntrenamiento])\n",
    "    #df['palabras_de_keyword'] = df['palabras_de_keyword'].apply(lambda x: [item for item in x if item in listadoDePalabrasDelKeywordDelSetDeEntrenamiento])\n",
    "    \n",
    "    #df['text'] = df['text'].str.replace(r' ', '')\n",
    "    #df['keyword'] = df['keyword'].str.replace(r' ', '')\n",
    "    #df['location'] = df['location'].str.replace(r' ', '')\n",
    "    \n",
    "    #TF-IDF\n",
    "    #x = tfidf.fit_transform(df['palabras_de_texto'])\n",
    "    #df_tfidf = pd.DataFrame(x.toarray(), columns=tfidf.get_feature_names())\n",
    "    #df.join(df_tfidf)#mal planteado\n",
    "    \n",
    "    df = df.drop(columns=['keyword','text','location'])\n",
    "    df = df.drop(columns=['palabras_de_texto','palabras_de_keyword'])\n",
    "    \n",
    "    return df"
   ],
   "metadata": {
    "collapsed": false,
    "pycharm": {
     "name": "#%%\n",
     "is_executing": false
    }
   }
  },
  {
   "cell_type": "code",
   "execution_count": 11,
   "outputs": [
    {
     "data": {
      "text/plain": "    longitud_de_texto  longitud_de_keyword  cantidad_de_palabras_texto  \\\nid                                                                       \n1                  69                    0                           7   \n4                  38                    0                           7   \n5                 133                    0                          11   \n6                  65                    0                           7   \n7                  88                    0                           9   \n\n    cantidad_de_palabras_keyword  \nid                                \n1                              7  \n4                              7  \n5                             11  \n6                              7  \n7                              9  ",
      "text/html": "<div>\n<style scoped>\n    .dataframe tbody tr th:only-of-type {\n        vertical-align: middle;\n    }\n\n    .dataframe tbody tr th {\n        vertical-align: top;\n    }\n\n    .dataframe thead th {\n        text-align: right;\n    }\n</style>\n<table border=\"1\" class=\"dataframe\">\n  <thead>\n    <tr style=\"text-align: right;\">\n      <th></th>\n      <th>longitud_de_texto</th>\n      <th>longitud_de_keyword</th>\n      <th>cantidad_de_palabras_texto</th>\n      <th>cantidad_de_palabras_keyword</th>\n    </tr>\n    <tr>\n      <th>id</th>\n      <th></th>\n      <th></th>\n      <th></th>\n      <th></th>\n    </tr>\n  </thead>\n  <tbody>\n    <tr>\n      <th>1</th>\n      <td>69</td>\n      <td>0</td>\n      <td>7</td>\n      <td>7</td>\n    </tr>\n    <tr>\n      <th>4</th>\n      <td>38</td>\n      <td>0</td>\n      <td>7</td>\n      <td>7</td>\n    </tr>\n    <tr>\n      <th>5</th>\n      <td>133</td>\n      <td>0</td>\n      <td>11</td>\n      <td>11</td>\n    </tr>\n    <tr>\n      <th>6</th>\n      <td>65</td>\n      <td>0</td>\n      <td>7</td>\n      <td>7</td>\n    </tr>\n    <tr>\n      <th>7</th>\n      <td>88</td>\n      <td>0</td>\n      <td>9</td>\n      <td>9</td>\n    </tr>\n  </tbody>\n</table>\n</div>"
     },
     "metadata": {},
     "output_type": "execute_result",
     "execution_count": 11
    }
   ],
   "source": [
    "train_label = tweets_original_entrenamiento['target']\n",
    "train_set = tweets_original_entrenamiento.drop(columns=['target'])\n",
    "train_set = preparar_df(train_set)\n",
    "train_set.head()"
   ],
   "metadata": {
    "collapsed": false,
    "pycharm": {
     "name": "#%%\n",
     "is_executing": false
    }
   }
  },
  {
   "cell_type": "code",
   "execution_count": 12,
   "outputs": [
    {
     "data": {
      "text/plain": "    longitud_de_texto  longitud_de_keyword  cantidad_de_palabras_texto  \\\nid                                                                       \n0                  34                    0                           4   \n2                  64                    0                           7   \n3                  96                    0                          10   \n9                  40                    0                           4   \n11                 45                    0                           6   \n\n    cantidad_de_palabras_keyword  \nid                                \n0                              4  \n2                              7  \n3                             10  \n9                              4  \n11                             6  ",
      "text/html": "<div>\n<style scoped>\n    .dataframe tbody tr th:only-of-type {\n        vertical-align: middle;\n    }\n\n    .dataframe tbody tr th {\n        vertical-align: top;\n    }\n\n    .dataframe thead th {\n        text-align: right;\n    }\n</style>\n<table border=\"1\" class=\"dataframe\">\n  <thead>\n    <tr style=\"text-align: right;\">\n      <th></th>\n      <th>longitud_de_texto</th>\n      <th>longitud_de_keyword</th>\n      <th>cantidad_de_palabras_texto</th>\n      <th>cantidad_de_palabras_keyword</th>\n    </tr>\n    <tr>\n      <th>id</th>\n      <th></th>\n      <th></th>\n      <th></th>\n      <th></th>\n    </tr>\n  </thead>\n  <tbody>\n    <tr>\n      <th>0</th>\n      <td>34</td>\n      <td>0</td>\n      <td>4</td>\n      <td>4</td>\n    </tr>\n    <tr>\n      <th>2</th>\n      <td>64</td>\n      <td>0</td>\n      <td>7</td>\n      <td>7</td>\n    </tr>\n    <tr>\n      <th>3</th>\n      <td>96</td>\n      <td>0</td>\n      <td>10</td>\n      <td>10</td>\n    </tr>\n    <tr>\n      <th>9</th>\n      <td>40</td>\n      <td>0</td>\n      <td>4</td>\n      <td>4</td>\n    </tr>\n    <tr>\n      <th>11</th>\n      <td>45</td>\n      <td>0</td>\n      <td>6</td>\n      <td>6</td>\n    </tr>\n  </tbody>\n</table>\n</div>"
     },
     "metadata": {},
     "output_type": "execute_result",
     "execution_count": 12
    }
   ],
   "source": [
    "test_set = tweets_original_prueva\n",
    "test_set = preparar_df(test_set)\n",
    "test_set.head()"
   ],
   "metadata": {
    "collapsed": false,
    "pycharm": {
     "name": "#%%\n",
     "is_executing": false
    }
   }
  },
  {
   "cell_type": "code",
   "execution_count": 41,
   "outputs": [],
   "source": [
    "def ensamble(df,n,prediccion):\n",
    "    #df['prediccion'] = prediccion\n",
    "    #df['prediccion'] = df['prediccion'].round()\n",
    "    df['target'] = df['target'] + prediccion.round()\n",
    "    n += 1\n",
    "    return (n,df)\n",
    "\n",
    "def calcular_resultado_de_prediccion(df,n):\n",
    "    df['target'] = df['target'].div(n).round()\n",
    "    return df"
   ],
   "metadata": {
    "collapsed": false,
    "pycharm": {
     "name": "#%%\n",
     "is_executing": false
    }
   }
  },
  {
   "cell_type": "code",
   "execution_count": 42,
   "outputs": [
    {
     "name": "stdout",
     "text": [
      "0:\tlearn: 0.4922181\ttotal: 1.77ms\tremaining: 3.55ms\n1:\tlearn: 0.4900002\ttotal: 3.29ms\tremaining: 1.65ms\n2:\tlearn: 0.4882057\ttotal: 4.73ms\tremaining: 0us\nprediccion =  1\n0:\tlearn: 0.4921797\ttotal: 1.87ms\tremaining: 3.74ms\n1:\tlearn: 0.4898452\ttotal: 3.53ms\tremaining: 1.76ms\n2:\tlearn: 0.4885540\ttotal: 5.2ms\tremaining: 0us\nprediccion = ",
      " 2\n0:\tlearn: 0.4921797\ttotal: 2.73ms\tremaining: 5.47ms\n1:\tlearn: 0.4896676\ttotal: 4.86ms\tremaining: 2.43ms\n2:\tlearn: 0.4878343\ttotal: 7.61ms\tremaining: 0us\nprediccion =  3\n0:\tlearn: 0.4921797\ttotal: 3.5ms\tremaining: 6.99ms\n1:\tlearn: 0.4896314\ttotal: 9.41ms\tremaining: 4.71ms\n2:\tlearn: 0.4872790\ttotal: 21.3ms\tremaining: 0us\n",
      "prediccion =  4\n0:\tlearn: 0.4921797\ttotal: 2.09ms\tremaining: 4.17ms\n1:\tlearn: 0.4895652\ttotal: 4.91ms\tremaining: 2.45ms\n2:\tlearn: 0.4870785\ttotal: 7.49ms\tremaining: 0us\nprediccion =  5\n0:\tlearn: 0.4921797\ttotal: 2.02ms\tremaining: 4.04ms\n1:\tlearn: 0.4893853\ttotal: 5.65ms\tremaining: 2.83ms\n2:\tlearn: 0.4870026\ttotal: 9.16ms\tremaining: 0us\nprediccion =  6\n0:\tlearn: 0.4896894\ttotal: 1.58ms\tremaining: 3.17ms\n",
      "1:\tlearn: 0.4861386\ttotal: 3.07ms\tremaining: 1.53ms\n2:\tlearn: 0.4838721\ttotal: 4.66ms\tremaining: 0us\nprediccion =  7\n0:\tlearn: 0.4896160\ttotal: 2.38ms\tremaining: 4.77ms\n1:\tlearn: 0.4857079\ttotal: 7.62ms\tremaining: 3.81ms\n2:\tlearn: 0.4833807\ttotal: 10.9ms\tremaining: 0us\nprediccion =  8\n0:\tlearn: 0.4896160\ttotal: 2.74ms\tremaining: 5.49ms\n",
      "1:\tlearn: 0.4858620\ttotal: 5.45ms\tremaining: 2.73ms\n2:\tlearn: 0.4831727\ttotal: 7.51ms\tremaining: 0us\nprediccion =  9\n0:\tlearn: 0.4896160\ttotal: 2.02ms\tremaining: 4.04ms\n1:\tlearn: 0.4858215\ttotal: 4.21ms\tremaining: 2.11ms\n2:\tlearn: 0.4826123\ttotal: 6.4ms\tremaining: 0us\nprediccion =  10\n0:\tlearn: 0.4896160\ttotal: 2.03ms\tremaining: 4.06ms\n1:\tlearn: 0.4857039\ttotal: 4.82ms\tremaining: 2.41ms\n2:\tlearn: 0.4819541\ttotal: 7.5ms\tremaining: 0us\n",
      "prediccion =  11\n0:\tlearn: 0.4896160\ttotal: 2.34ms\tremaining: 4.68ms\n1:\tlearn: 0.4854806\ttotal: 6.05ms\tremaining: 3.03ms\n2:\tlearn: 0.4818284\ttotal: 9.53ms\tremaining: 0us\nprediccion =  12\n0:\tlearn: 0.4874457\ttotal: 1.71ms\tremaining: 3.42ms\n1:\tlearn: 0.4838510\ttotal: 3.26ms\tremaining: 1.63ms\n2:\tlearn: 0.4818553\ttotal: 4.81ms\tremaining: 0us\n",
      "prediccion =  13\n0:\tlearn: 0.4873409\ttotal: 2.07ms\tremaining: 4.13ms\n1:\tlearn: 0.4832699\ttotal: 3.73ms\tremaining: 1.86ms\n2:\tlearn: 0.4806715\ttotal: 5.38ms\tremaining: 0us\nprediccion =  14\n0:\tlearn: 0.4873409\ttotal: 2.07ms\tremaining: 4.14ms\n1:\tlearn: 0.4826716\ttotal: 4ms\tremaining: 2ms\n2:\tlearn: 0.4798148\ttotal: 5.83ms\tremaining: 0us\n",
      "prediccion =  15\n0:\tlearn: 0.4873409\ttotal: 2.02ms\tremaining: 4.04ms\n1:\tlearn: 0.4819984\ttotal: 4.31ms\tremaining: 2.15ms\n2:\tlearn: 0.4784577\ttotal: 6.46ms\tremaining: 0us\nprediccion =  16\n0:\tlearn: 0.4873409\ttotal: 2.02ms\tremaining: 4.04ms\n1:\tlearn: 0.4813704\ttotal: 5.02ms\tremaining: 2.51ms\n2:\tlearn: 0.4781397\ttotal: 7.64ms\tremaining: 0us\nprediccion =  17\n0:\tlearn: 0.4873409\ttotal: 2.04ms\tremaining: 4.09ms\n",
      "1:\tlearn: 0.4804424\ttotal: 5.89ms\tremaining: 2.95ms\n2:\tlearn: 0.4770779\ttotal: 9.43ms\tremaining: 0us\nprediccion =  18\n0:\tlearn: 0.4854910\ttotal: 1.78ms\tremaining: 3.56ms\n1:\tlearn: 0.4819370\ttotal: 3.34ms\tremaining: 1.67ms\n2:\tlearn: 0.4787777\ttotal: 4.99ms\tremaining: 0us\nprediccion = ",
      " 19\n0:\tlearn: 0.4853584\ttotal: 2.22ms\tremaining: 4.45ms\n1:\tlearn: 0.4809721\ttotal: 3.88ms\tremaining: 1.94ms\n2:\tlearn: 0.4781913\ttotal: 5.49ms\tremaining: 0us\nprediccion =  20\n0:\tlearn: 0.4853584\ttotal: 2.09ms\tremaining: 4.19ms\n1:\tlearn: 0.4806801\ttotal: 4.04ms\tremaining: 2.02ms\n2:\tlearn: 0.4774473\ttotal: 5.84ms\tremaining: 0us\nprediccion = ",
      " 21\n0:\tlearn: 0.4853584\ttotal: 2.19ms\tremaining: 4.38ms\n1:\tlearn: 0.4798330\ttotal: 4.66ms\tremaining: 2.33ms\n2:\tlearn: 0.4763246\ttotal: 6.93ms\tremaining: 0us\nprediccion =  22\n0:\tlearn: 0.4853584\ttotal: 7.21ms\tremaining: 14.4ms\n1:\tlearn: 0.4790320\ttotal: 10.6ms\tremaining: 5.28ms\n2:\tlearn: 0.4755665\ttotal: 13.6ms\tremaining: 0us\n",
      "prediccion =  23\n0:\tlearn: 0.4853584\ttotal: 2.04ms\tremaining: 4.08ms\n1:\tlearn: 0.4778589\ttotal: 5.76ms\tremaining: 2.88ms\n2:\tlearn: 0.4743663\ttotal: 9.24ms\tremaining: 0us\nprediccion =  24\n0:\tlearn: 0.4838288\ttotal: 1.53ms\tremaining: 3.07ms\n1:\tlearn: 0.4806201\ttotal: 2.99ms\tremaining: 1.49ms\n2:\tlearn: 0.4777746\ttotal: 4.41ms\tremaining: 0us\nprediccion = ",
      " 25\n0:\tlearn: 0.4836722\ttotal: 2.27ms\tremaining: 4.55ms\n1:\tlearn: 0.4794725\ttotal: 4.39ms\tremaining: 2.2ms\n2:\tlearn: 0.4765126\ttotal: 6.27ms\tremaining: 0us\nprediccion =  26\n0:\tlearn: 0.4836722\ttotal: 2.26ms\tremaining: 4.53ms\n1:\tlearn: 0.4785743\ttotal: 5.27ms\tremaining: 2.64ms\n2:\tlearn: 0.4771644\ttotal: 6.72ms\tremaining: 0us\nprediccion = ",
      " 27\n0:\tlearn: 0.4836722\ttotal: 2.23ms\tremaining: 4.46ms\n1:\tlearn: 0.4777171\ttotal: 4.81ms\tremaining: 2.4ms\n2:\tlearn: 0.4737869\ttotal: 7.28ms\tremaining: 0us\nprediccion =  28\n0:\tlearn: 0.4836722\ttotal: 2.07ms\tremaining: 4.14ms\n1:\tlearn: 0.4768299\ttotal: 4.95ms\tremaining: 2.47ms\n2:\tlearn: 0.4729336\ttotal: 7.63ms\tremaining: 0us\nprediccion =  29\n0:\tlearn: 0.4836722\ttotal: 2ms\tremaining: 3.99ms\n",
      "1:\tlearn: 0.4768299\ttotal: 6.02ms\tremaining: 3.01ms\n2:\tlearn: 0.4724783\ttotal: 10.1ms\tremaining: 0us\nprediccion =  30\n0:\tlearn: 0.4922181\ttotal: 1.53ms\tremaining: 6.14ms\n1:\tlearn: 0.4900002\ttotal: 2.92ms\tremaining: 4.38ms\n2:\tlearn: 0.4882057\ttotal: 4.25ms\tremaining: 2.84ms\n3:\tlearn: 0.4866643\ttotal: 5.65ms\tremaining: 1.41ms\n4:\tlearn: 0.4854656\ttotal: 7.03ms\tremaining: 0us\nprediccion =  31\n0:\tlearn: 0.4921797\ttotal: 1.96ms\tremaining: 7.83ms\n1:\tlearn: 0.4898452\ttotal: 3.71ms\tremaining: 5.56ms\n2:\tlearn: 0.4885540\ttotal: 5.57ms\tremaining: 3.72ms\n3:\tlearn: 0.4868945\ttotal: 8.03ms\tremaining: 2.01ms\n4:\tlearn: 0.4852925\ttotal: 9.81ms\tremaining: 0us\n",
      "prediccion =  32\n0:\tlearn: 0.4921797\ttotal: 2.1ms\tremaining: 8.42ms\n1:\tlearn: 0.4896676\ttotal: 4.06ms\tremaining: 6.08ms\n2:\tlearn: 0.4878343\ttotal: 5.91ms\tremaining: 3.94ms\n3:\tlearn: 0.4860394\ttotal: 7.78ms\tremaining: 1.95ms\n4:\tlearn: 0.4846304\ttotal: 9.67ms\tremaining: 0us\nprediccion =  33\n0:\tlearn: 0.4921797\ttotal: 1.98ms\tremaining: 7.93ms\n1:\tlearn: 0.4896314\ttotal: 4.23ms\tremaining: 6.35ms\n2:\tlearn: 0.4872790\ttotal: 6.37ms\tremaining: 4.25ms\n3:\tlearn: 0.4856682\ttotal: 8.52ms\tremaining: 2.13ms\n4:\tlearn: 0.4840216\ttotal: 10.7ms\tremaining: 0us\n",
      "prediccion =  34\n0:\tlearn: 0.4921797\ttotal: 2.54ms\tremaining: 10.2ms\n1:\tlearn: 0.4895652\ttotal: 5.81ms\tremaining: 8.72ms\n2:\tlearn: 0.4870785\ttotal: 9.04ms\tremaining: 6.02ms\n3:\tlearn: 0.4854632\ttotal: 12.6ms\tremaining: 3.16ms\n4:\tlearn: 0.4837882\ttotal: 16ms\tremaining: 0us\nprediccion =  35\n0:\tlearn: 0.4921797\ttotal: 2.35ms\tremaining: 9.42ms\n1:\tlearn: 0.4893853\ttotal: 6.4ms\tremaining: 9.6ms\n2:\tlearn: 0.4870026\ttotal: 10.2ms\tremaining: 6.83ms\n3:\tlearn: 0.4848421\ttotal: 14.2ms\tremaining: 3.54ms\n4:\tlearn: 0.4830790\ttotal: 17.8ms\tremaining: 0us\n",
      "prediccion =  36\n0:\tlearn: 0.4896894\ttotal: 1.54ms\tremaining: 6.18ms\n1:\tlearn: 0.4861386\ttotal: 2.94ms\tremaining: 4.41ms\n2:\tlearn: 0.4838721\ttotal: 4.3ms\tremaining: 2.87ms\n3:\tlearn: 0.4822677\ttotal: 5.76ms\tremaining: 1.44ms\n4:\tlearn: 0.4804765\ttotal: 7.14ms\tremaining: 0us\nprediccion =  37\n0:\tlearn: 0.4896160\ttotal: 1.75ms\tremaining: 7ms\n1:\tlearn: 0.4857079\ttotal: 3.43ms\tremaining: 5.15ms\n2:\tlearn: 0.4833807\ttotal: 5.02ms\tremaining: 3.35ms\n3:\tlearn: 0.4815970\ttotal: 6.67ms\tremaining: 1.67ms\n4:\tlearn: 0.4794997\ttotal: 8.32ms\tremaining: 0us\n",
      "prediccion =  38\n0:\tlearn: 0.4896160\ttotal: 2.09ms\tremaining: 8.36ms\n1:\tlearn: 0.4858620\ttotal: 4.49ms\tremaining: 6.74ms\n2:\tlearn: 0.4831727\ttotal: 6.7ms\tremaining: 4.46ms\n3:\tlearn: 0.4811081\ttotal: 8.67ms\tremaining: 2.17ms\n4:\tlearn: 0.4796655\ttotal: 10.6ms\tremaining: 0us\nprediccion =  39\n0:\tlearn: 0.4896160\ttotal: 2.51ms\tremaining: 10ms\n1:\tlearn: 0.4858215\ttotal: 5.1ms\tremaining: 7.66ms\n2:\tlearn: 0.4826123\ttotal: 8.27ms\tremaining: 5.51ms\n3:\tlearn: 0.4801592\ttotal: 11ms\tremaining: 2.74ms\n4:\tlearn: 0.4785260\ttotal: 13.4ms\tremaining: 0us\n",
      "prediccion =  40\n0:\tlearn: 0.4896160\ttotal: 2.72ms\tremaining: 10.9ms\n1:\tlearn: 0.4857039\ttotal: 6.18ms\tremaining: 9.28ms\n2:\tlearn: 0.4819541\ttotal: 9.37ms\tremaining: 6.24ms\n3:\tlearn: 0.4800288\ttotal: 12.5ms\tremaining: 3.13ms\n4:\tlearn: 0.4780917\ttotal: 15.3ms\tremaining: 0us\nprediccion =  41\n0:\tlearn: 0.4896160\ttotal: 2.05ms\tremaining: 8.19ms\n1:\tlearn: 0.4854806\ttotal: 5.77ms\tremaining: 8.66ms\n2:\tlearn: 0.4818284\ttotal: 9.37ms\tremaining: 6.24ms\n3:\tlearn: 0.4791668\ttotal: 12.8ms\tremaining: 3.19ms\n4:\tlearn: 0.4776546\ttotal: 16.2ms\tremaining: 0us\nprediccion = ",
      " 42\n0:\tlearn: 0.4874457\ttotal: 1.68ms\tremaining: 6.72ms\n1:\tlearn: 0.4838510\ttotal: 3.46ms\tremaining: 5.2ms\n2:\tlearn: 0.4818553\ttotal: 5.08ms\tremaining: 3.39ms\n3:\tlearn: 0.4790111\ttotal: 6.54ms\tremaining: 1.63ms\n4:\tlearn: 0.4774931\ttotal: 7.93ms\tremaining: 0us\nprediccion =  43\n0:\tlearn: 0.4873409\ttotal: 1.76ms\tremaining: 7.05ms\n1:\tlearn: 0.4832699\ttotal: 4.71ms\tremaining: 7.07ms\n2:\tlearn: 0.4806715\ttotal: 7.36ms\tremaining: 4.91ms\n3:\tlearn: 0.4792505\ttotal: 10.4ms\tremaining: 2.61ms\n4:\tlearn: 0.4773682\ttotal: 12.7ms\tremaining: 0us\nprediccion = ",
      " 44\n0:\tlearn: 0.4873409\ttotal: 2.41ms\tremaining: 9.65ms\n1:\tlearn: 0.4826716\ttotal: 5.32ms\tremaining: 7.97ms\n2:\tlearn: 0.4798148\ttotal: 7.58ms\tremaining: 5.05ms\n3:\tlearn: 0.4779698\ttotal: 9.71ms\tremaining: 2.43ms\n4:\tlearn: 0.4762500\ttotal: 12ms\tremaining: 0us\nprediccion =  45\n0:\tlearn: 0.4873409\ttotal: 1.96ms\tremaining: 7.84ms\n1:\tlearn: 0.4819984\ttotal: 4.22ms\tremaining: 6.33ms\n2:\tlearn: 0.4784577\ttotal: 6.38ms\tremaining: 4.25ms\n3:\tlearn: 0.4759494\ttotal: 8.61ms\tremaining: 2.15ms\n4:\tlearn: 0.4748997\ttotal: 10.8ms\tremaining: 0us\nprediccion = ",
      " 46\n0:\tlearn: 0.4873409\ttotal: 2.16ms\tremaining: 8.65ms\n1:\tlearn: 0.4813704\ttotal: 5.59ms\tremaining: 8.38ms\n2:\tlearn: 0.4781397\ttotal: 8.62ms\tremaining: 5.75ms\n3:\tlearn: 0.4765863\ttotal: 11.6ms\tremaining: 2.89ms\n4:\tlearn: 0.4747160\ttotal: 14.6ms\tremaining: 0us\nprediccion =  47\n0:\tlearn: 0.4873409\ttotal: 1.99ms\tremaining: 7.95ms\n1:\tlearn: 0.4804424\ttotal: 5.68ms\tremaining: 8.52ms\n2:\tlearn: 0.4770779\ttotal: 9.13ms\tremaining: 6.08ms\n3:\tlearn: 0.4745782\ttotal: 12.5ms\tremaining: 3.13ms\n4:\tlearn: 0.4731882\ttotal: 16.1ms\tremaining: 0us\n",
      "prediccion =  48\n0:\tlearn: 0.4854910\ttotal: 1.84ms\tremaining: 7.38ms\n1:\tlearn: 0.4819370\ttotal: 3.56ms\tremaining: 5.33ms\n2:\tlearn: 0.4787777\ttotal: 5.33ms\tremaining: 3.55ms\n3:\tlearn: 0.4776734\ttotal: 6.75ms\tremaining: 1.69ms\n4:\tlearn: 0.4760710\ttotal: 8.16ms\tremaining: 0us\nprediccion =  49\n0:\tlearn: 0.4853584\ttotal: 1.79ms\tremaining: 7.16ms\n1:\tlearn: 0.4809721\ttotal: 3.48ms\tremaining: 5.22ms\n2:\tlearn: 0.4781913\ttotal: 5.03ms\tremaining: 3.35ms\n3:\tlearn: 0.4769744\ttotal: 6.86ms\tremaining: 1.72ms\n4:\tlearn: 0.4759494\ttotal: 8.48ms\tremaining: 0us\nprediccion =  50\n0:\tlearn: 0.4853584\ttotal: 2.02ms\tremaining: 8.09ms\n",
      "1:\tlearn: 0.4806801\ttotal: 4.16ms\tremaining: 6.24ms\n2:\tlearn: 0.4774473\ttotal: 6.05ms\tremaining: 4.03ms\n3:\tlearn: 0.4761380\ttotal: 8.14ms\tremaining: 2.03ms\n4:\tlearn: 0.4751653\ttotal: 11.2ms\tremaining: 0us\nprediccion =  51\n0:\tlearn: 0.4853584\ttotal: 2.09ms\tremaining: 8.35ms\n1:\tlearn: 0.4798330\ttotal: 4.43ms\tremaining: 6.65ms\n2:\tlearn: 0.4763246\ttotal: 6.88ms\tremaining: 4.59ms\n3:\tlearn: 0.4751552\ttotal: 9ms\tremaining: 2.25ms\n4:\tlearn: 0.4726643\ttotal: 11.2ms\tremaining: 0us\nprediccion =  52\n0:\tlearn: 0.4853584\ttotal: 2.26ms\tremaining: 9.05ms\n1:\tlearn: 0.4790320\ttotal: 6.09ms\tremaining: 9.13ms\n",
      "2:\tlearn: 0.4755665\ttotal: 10.4ms\tremaining: 6.96ms\n3:\tlearn: 0.4743321\ttotal: 13.7ms\tremaining: 3.43ms\n4:\tlearn: 0.4724449\ttotal: 16.7ms\tremaining: 0us\nprediccion =  53\n0:\tlearn: 0.4853584\ttotal: 2.37ms\tremaining: 9.5ms\n1:\tlearn: 0.4778589\ttotal: 6.39ms\tremaining: 9.59ms\n2:\tlearn: 0.4743663\ttotal: 9.98ms\tremaining: 6.65ms\n3:\tlearn: 0.4713682\ttotal: 13.5ms\tremaining: 3.36ms\n4:\tlearn: 0.4703815\ttotal: 16.9ms\tremaining: 0us\nprediccion = ",
      " 54\n0:\tlearn: 0.4838288\ttotal: 1.73ms\tremaining: 6.92ms\n1:\tlearn: 0.4806201\ttotal: 3.31ms\tremaining: 4.97ms\n2:\tlearn: 0.4777746\ttotal: 5.26ms\tremaining: 3.51ms\n3:\tlearn: 0.4756857\ttotal: 6.81ms\tremaining: 1.7ms\n4:\tlearn: 0.4746346\ttotal: 8.6ms\tremaining: 0us\nprediccion =  55\n0:\tlearn: 0.4836722\ttotal: 1.98ms\tremaining: 7.92ms\n1:\tlearn: 0.4794725\ttotal: 3.66ms\tremaining: 5.49ms\n2:\tlearn: 0.4765126\ttotal: 5.18ms\tremaining: 3.45ms\n3:\tlearn: 0.4757293\ttotal: 6.81ms\tremaining: 1.7ms\n4:\tlearn: 0.4739108\ttotal: 8.47ms\tremaining: 0us\n",
      "prediccion =  56\n0:\tlearn: 0.4836722\ttotal: 2.15ms\tremaining: 8.62ms\n1:\tlearn: 0.4785743\ttotal: 4.24ms\tremaining: 6.36ms\n2:\tlearn: 0.4771644\ttotal: 5.67ms\tremaining: 3.78ms\n3:\tlearn: 0.4745791\ttotal: 7.56ms\tremaining: 1.89ms\n4:\tlearn: 0.4734733\ttotal: 9.5ms\tremaining: 0us\nprediccion =  57\n0:\tlearn: 0.4836722\ttotal: 2.7ms\tremaining: 10.8ms\n1:\tlearn: 0.4777171\ttotal: 5.06ms\tremaining: 7.59ms\n2:\tlearn: 0.4737869\ttotal: 7.3ms\tremaining: 4.87ms\n3:\tlearn: 0.4725954\ttotal: 9.75ms\tremaining: 2.44ms\n4:\tlearn: 0.4720840\ttotal: 12.2ms\tremaining: 0us\n",
      "prediccion =  58\n0:\tlearn: 0.4836722\ttotal: 3.08ms\tremaining: 12.3ms\n1:\tlearn: 0.4768299\ttotal: 6.69ms\tremaining: 10ms\n2:\tlearn: 0.4729336\ttotal: 10.1ms\tremaining: 6.71ms\n3:\tlearn: 0.4712235\ttotal: 13.8ms\tremaining: 3.45ms\n4:\tlearn: 0.4700359\ttotal: 17.1ms\tremaining: 0us\n",
      "prediccion =  59\n0:\tlearn: 0.4836722\ttotal: 2.19ms\tremaining: 8.77ms\n1:\tlearn: 0.4768299\ttotal: 5.96ms\tremaining: 8.94ms\n2:\tlearn: 0.4724783\ttotal: 9.47ms\tremaining: 6.32ms\n3:\tlearn: 0.4703033\ttotal: 12.9ms\tremaining: 3.23ms\n4:\tlearn: 0.4692715\ttotal: 16.5ms\tremaining: 0us\nprediccion =  60\n0:\tlearn: 0.4922181\ttotal: 1.71ms\tremaining: 10.3ms\n1:\tlearn: 0.4900002\ttotal: 3.15ms\tremaining: 7.88ms\n2:\tlearn: 0.4882057\ttotal: 4.55ms\tremaining: 6.06ms\n3:\tlearn: 0.4866643\ttotal: 6.08ms\tremaining: 4.56ms\n4:\tlearn: 0.4854656\ttotal: 7.46ms\tremaining: 2.99ms\n5:\tlearn: 0.4843477\ttotal: 8.84ms\tremaining: 1.47ms\n6:\tlearn: 0.4833043\ttotal: 10.3ms\tremaining: 0us\n",
      "prediccion =  61\n0:\tlearn: 0.4921797\ttotal: 1.99ms\tremaining: 11.9ms\n1:\tlearn: 0.4898452\ttotal: 3.72ms\tremaining: 9.31ms\n2:\tlearn: 0.4885540\ttotal: 5.3ms\tremaining: 7.07ms\n3:\tlearn: 0.4868945\ttotal: 6.96ms\tremaining: 5.22ms\n4:\tlearn: 0.4852925\ttotal: 8.67ms\tremaining: 3.47ms\n5:\tlearn: 0.4841163\ttotal: 10.2ms\tremaining: 1.71ms\n6:\tlearn: 0.4828517\ttotal: 11.8ms\tremaining: 0us\nprediccion =  62\n",
      "0:\tlearn: 0.4921797\ttotal: 2.15ms\tremaining: 12.9ms\n1:\tlearn: 0.4896676\ttotal: 4.2ms\tremaining: 10.5ms\n2:\tlearn: 0.4878343\ttotal: 6.46ms\tremaining: 8.62ms\n3:\tlearn: 0.4860394\ttotal: 8.53ms\tremaining: 6.4ms\n4:\tlearn: 0.4846304\ttotal: 10.8ms\tremaining: 4.31ms\n5:\tlearn: 0.4834767\ttotal: 12.7ms\tremaining: 2.12ms\n6:\tlearn: 0.4821228\ttotal: 14.9ms\tremaining: 0us\nprediccion =  63\n0:\tlearn: 0.4921797\ttotal: 2.36ms\tremaining: 14.2ms\n",
      "1:\tlearn: 0.4896314\ttotal: 5.13ms\tremaining: 12.8ms\n2:\tlearn: 0.4872790\ttotal: 7.99ms\tremaining: 10.6ms\n3:\tlearn: 0.4856682\ttotal: 10.8ms\tremaining: 8.09ms\n4:\tlearn: 0.4840216\ttotal: 13.4ms\tremaining: 5.38ms\n5:\tlearn: 0.4827706\ttotal: 16.1ms\tremaining: 2.68ms\n6:\tlearn: 0.4815710\ttotal: 18.5ms\tremaining: 0us\nprediccion =  64\n0:\tlearn: 0.4921797\ttotal: 2.03ms\tremaining: 12.2ms\n1:\tlearn: 0.4895652\ttotal: 4.91ms\tremaining: 12.3ms\n2:\tlearn: 0.4870785\ttotal: 7.6ms\tremaining: 10.1ms\n3:\tlearn: 0.4854632\ttotal: 10.4ms\tremaining: 7.8ms\n4:\tlearn: 0.4837882\ttotal: 13.2ms\tremaining: 5.26ms\n5:\tlearn: 0.4820412\ttotal: 15.8ms\tremaining: 2.63ms\n6:\tlearn: 0.4808463\ttotal: 18.5ms\tremaining: 0us\nprediccion = ",
      " 65\n0:\tlearn: 0.4921797\ttotal: 2.31ms\tremaining: 13.8ms\n1:\tlearn: 0.4893853\ttotal: 6.13ms\tremaining: 15.3ms\n2:\tlearn: 0.4870026\ttotal: 9.6ms\tremaining: 12.8ms\n3:\tlearn: 0.4848421\ttotal: 13ms\tremaining: 9.76ms\n4:\tlearn: 0.4830790\ttotal: 16.4ms\tremaining: 6.57ms\n5:\tlearn: 0.4812694\ttotal: 20ms\tremaining: 3.33ms\n6:\tlearn: 0.4798590\ttotal: 23.7ms\tremaining: 0us\n",
      "prediccion =  66\n0:\tlearn: 0.4896894\ttotal: 1.5ms\tremaining: 9ms\n1:\tlearn: 0.4861386\ttotal: 2.88ms\tremaining: 7.19ms\n2:\tlearn: 0.4838721\ttotal: 4.23ms\tremaining: 5.64ms\n3:\tlearn: 0.4822677\ttotal: 5.67ms\tremaining: 4.25ms\n4:\tlearn: 0.4804765\ttotal: 7.05ms\tremaining: 2.82ms\n5:\tlearn: 0.4795985\ttotal: 8.46ms\tremaining: 1.41ms\n6:\tlearn: 0.4788415\ttotal: 9.94ms\tremaining: 0us\nprediccion =  67\n0:\tlearn: 0.4896160\ttotal: 1.82ms\tremaining: 10.9ms\n1:\tlearn: 0.4857079\ttotal: 3.45ms\tremaining: 8.64ms\n2:\tlearn: 0.4833807\ttotal: 5.07ms\tremaining: 6.76ms\n3:\tlearn: 0.4815970\ttotal: 6.71ms\tremaining: 5.04ms\n4:\tlearn: 0.4794997\ttotal: 8.38ms\tremaining: 3.35ms\n5:\tlearn: 0.4785353\ttotal: 9.95ms\tremaining: 1.66ms\n6:\tlearn: 0.4775140\ttotal: 11.6ms\tremaining: 0us\n",
      "prediccion =  68\n0:\tlearn: 0.4896160\ttotal: 2.18ms\tremaining: 13.1ms\n1:\tlearn: 0.4858620\ttotal: 4.12ms\tremaining: 10.3ms\n2:\tlearn: 0.4831727\ttotal: 6.32ms\tremaining: 8.42ms\n3:\tlearn: 0.4811081\ttotal: 8.76ms\tremaining: 6.57ms\n4:\tlearn: 0.4796655\ttotal: 10.8ms\tremaining: 4.33ms\n5:\tlearn: 0.4781159\ttotal: 13.1ms\tremaining: 2.17ms\n6:\tlearn: 0.4768004\ttotal: 14.9ms\tremaining: 0us\nprediccion =  69\n0:\tlearn: 0.4896160\ttotal: 2.24ms\tremaining: 13.5ms\n1:\tlearn: 0.4858215\ttotal: 4.74ms\tremaining: 11.9ms\n2:\tlearn: 0.4826123\ttotal: 7.5ms\tremaining: 10ms\n3:\tlearn: 0.4801592\ttotal: 10.1ms\tremaining: 7.55ms\n4:\tlearn: 0.4785260\ttotal: 12.4ms\tremaining: 4.96ms\n5:\tlearn: 0.4768961\ttotal: 15.4ms\tremaining: 2.57ms\n6:\tlearn: 0.4758847\ttotal: 18.4ms\tremaining: 0us\n",
      "prediccion =  70\n0:\tlearn: 0.4896160\ttotal: 2.17ms\tremaining: 13ms\n1:\tlearn: 0.4857039\ttotal: 5.27ms\tremaining: 13.2ms\n2:\tlearn: 0.4819541\ttotal: 8.08ms\tremaining: 10.8ms\n3:\tlearn: 0.4800288\ttotal: 11.1ms\tremaining: 8.33ms\n4:\tlearn: 0.4780917\ttotal: 14ms\tremaining: 5.59ms\n5:\tlearn: 0.4761731\ttotal: 17ms\tremaining: 2.83ms\n6:\tlearn: 0.4750887\ttotal: 19.8ms\tremaining: 0us\nprediccion =  71\n0:\tlearn: 0.4896160\ttotal: 2.1ms\tremaining: 12.6ms\n1:\tlearn: 0.4854806\ttotal: 5.87ms\tremaining: 14.7ms\n2:\tlearn: 0.4818284\ttotal: 9.42ms\tremaining: 12.6ms\n3:\tlearn: 0.4791668\ttotal: 12.8ms\tremaining: 9.63ms\n4:\tlearn: 0.4776546\ttotal: 16.4ms\tremaining: 6.57ms\n5:\tlearn: 0.4753045\ttotal: 20ms\tremaining: 3.34ms\n6:\tlearn: 0.4738265\ttotal: 23.6ms\tremaining: 0us\nprediccion = ",
      " 72\n0:\tlearn: 0.4874457\ttotal: 1.71ms\tremaining: 10.3ms\n1:\tlearn: 0.4838510\ttotal: 3.22ms\tremaining: 8.04ms\n2:\tlearn: 0.4818553\ttotal: 4.62ms\tremaining: 6.16ms\n3:\tlearn: 0.4790111\ttotal: 6.07ms\tremaining: 4.55ms\n4:\tlearn: 0.4774931\ttotal: 7.53ms\tremaining: 3.01ms\n5:\tlearn: 0.4763971\ttotal: 8.98ms\tremaining: 1.5ms\n6:\tlearn: 0.4754927\ttotal: 10.5ms\tremaining: 0us\nprediccion =  73\n0:\tlearn: 0.4873409\ttotal: 2.09ms\tremaining: 12.5ms\n1:\tlearn: 0.4832699\ttotal: 3.85ms\tremaining: 9.63ms\n2:\tlearn: 0.4806715\ttotal: 5.6ms\tremaining: 7.47ms\n3:\tlearn: 0.4792505\ttotal: 7.43ms\tremaining: 5.57ms\n4:\tlearn: 0.4773682\ttotal: 9.25ms\tremaining: 3.7ms\n5:\tlearn: 0.4760435\ttotal: 11.1ms\tremaining: 1.86ms\n6:\tlearn: 0.4750742\ttotal: 13.3ms\tremaining: 0us\n",
      "prediccion =  74\n0:\tlearn: 0.4873409\ttotal: 2.16ms\tremaining: 12.9ms\n1:\tlearn: 0.4826716\ttotal: 4.23ms\tremaining: 10.6ms\n2:\tlearn: 0.4798148\ttotal: 6.66ms\tremaining: 8.88ms\n3:\tlearn: 0.4779698\ttotal: 8.87ms\tremaining: 6.65ms\n4:\tlearn: 0.4762500\ttotal: 11ms\tremaining: 4.38ms\n5:\tlearn: 0.4748563\ttotal: 12.9ms\tremaining: 2.15ms\n6:\tlearn: 0.4735296\ttotal: 15.2ms\tremaining: 0us\nprediccion =  75\n",
      "0:\tlearn: 0.4873409\ttotal: 2.38ms\tremaining: 14.3ms\n1:\tlearn: 0.4819984\ttotal: 5.67ms\tremaining: 14.2ms\n2:\tlearn: 0.4784577\ttotal: 8.28ms\tremaining: 11ms\n3:\tlearn: 0.4759494\ttotal: 11.1ms\tremaining: 8.34ms\n4:\tlearn: 0.4748997\ttotal: 13.5ms\tremaining: 5.39ms\n5:\tlearn: 0.4736476\ttotal: 15.7ms\tremaining: 2.61ms\n6:\tlearn: 0.4728794\ttotal: 18ms\tremaining: 0us\n",
      "prediccion =  76\n0:\tlearn: 0.4873409\ttotal: 2ms\tremaining: 12ms\n1:\tlearn: 0.4813704\ttotal: 4.79ms\tremaining: 12ms\n2:\tlearn: 0.4781397\ttotal: 7.43ms\tremaining: 9.9ms\n3:\tlearn: 0.4765863\ttotal: 10.2ms\tremaining: 7.62ms\n4:\tlearn: 0.4747160\ttotal: 12.8ms\tremaining: 5.1ms\n5:\tlearn: 0.4727645\ttotal: 15.5ms\tremaining: 2.58ms\n6:\tlearn: 0.4719712\ttotal: 18.3ms\tremaining: 0us\nprediccion =  77\n0:\tlearn: 0.4873409\ttotal: 2ms\tremaining: 12ms\n1:\tlearn: 0.4804424\ttotal: 5.69ms\tremaining: 14.2ms\n2:\tlearn: 0.4770779\ttotal: 9.18ms\tremaining: 12.2ms\n3:\tlearn: 0.4745782\ttotal: 12.8ms\tremaining: 9.6ms\n4:\tlearn: 0.4731882\ttotal: 16.5ms\tremaining: 6.58ms\n5:\tlearn: 0.4715317\ttotal: 20.1ms\tremaining: 3.35ms\n6:\tlearn: 0.4704598\ttotal: 23.9ms\tremaining: 0us\nprediccion = ",
      " 78\n0:\tlearn: 0.4854910\ttotal: 1.62ms\tremaining: 9.73ms\n1:\tlearn: 0.4819370\ttotal: 3.15ms\tremaining: 7.88ms\n2:\tlearn: 0.4787777\ttotal: 4.6ms\tremaining: 6.13ms\n3:\tlearn: 0.4776734\ttotal: 6.28ms\tremaining: 4.71ms\n4:\tlearn: 0.4760710\ttotal: 7.81ms\tremaining: 3.12ms\n5:\tlearn: 0.4741869\ttotal: 10ms\tremaining: 1.67ms\n6:\tlearn: 0.4734518\ttotal: 12.3ms\tremaining: 0us\nprediccion =  79\n0:\tlearn: 0.4853584\ttotal: 1.86ms\tremaining: 11.1ms\n1:\tlearn: 0.4809721\ttotal: 3.51ms\tremaining: 8.77ms\n2:\tlearn: 0.4781913\ttotal: 5.38ms\tremaining: 7.17ms\n3:\tlearn: 0.4769744\ttotal: 7.08ms\tremaining: 5.31ms\n4:\tlearn: 0.4759494\ttotal: 8.73ms\tremaining: 3.49ms\n5:\tlearn: 0.4756124\ttotal: 10.4ms\tremaining: 1.74ms\n6:\tlearn: 0.4742471\ttotal: 12.3ms\tremaining: 0us\nprediccion = ",
      " 80\n0:\tlearn: 0.4853584\ttotal: 2.02ms\tremaining: 12.2ms\n1:\tlearn: 0.4806801\ttotal: 4.15ms\tremaining: 10.4ms\n2:\tlearn: 0.4774473\ttotal: 6.26ms\tremaining: 8.35ms\n3:\tlearn: 0.4761380\ttotal: 8.54ms\tremaining: 6.4ms\n4:\tlearn: 0.4751653\ttotal: 10.8ms\tremaining: 4.31ms\n5:\tlearn: 0.4736574\ttotal: 13ms\tremaining: 2.17ms\n6:\tlearn: 0.4730754\ttotal: 15.2ms\tremaining: 0us\nprediccion =  81\n0:\tlearn: 0.4853584\ttotal: 2.02ms\tremaining: 12.1ms\n",
      "1:\tlearn: 0.4798330\ttotal: 4.33ms\tremaining: 10.8ms\n2:\tlearn: 0.4763246\ttotal: 6.61ms\tremaining: 8.82ms\n3:\tlearn: 0.4751552\ttotal: 8.93ms\tremaining: 6.7ms\n4:\tlearn: 0.4726643\ttotal: 11.4ms\tremaining: 4.56ms\n5:\tlearn: 0.4717431\ttotal: 13.9ms\tremaining: 2.32ms\n6:\tlearn: 0.4712756\ttotal: 16.2ms\tremaining: 0us\nprediccion =  82\n0:\tlearn: 0.4853584\ttotal: 1.99ms\tremaining: 12ms\n1:\tlearn: 0.4790320\ttotal: 4.82ms\tremaining: 12.1ms\n2:\tlearn: 0.4755665\ttotal: 7.52ms\tremaining: 10ms\n3:\tlearn: 0.4743321\ttotal: 10.2ms\tremaining: 7.68ms\n4:\tlearn: 0.4724449\ttotal: 13.1ms\tremaining: 5.22ms\n5:\tlearn: 0.4715411\ttotal: 15.7ms\tremaining: 2.62ms\n6:\tlearn: 0.4702888\ttotal: 33.2ms\tremaining: 0us\nprediccion =  83\n",
      "0:\tlearn: 0.4853584\ttotal: 2.85ms\tremaining: 17.1ms\n1:\tlearn: 0.4778589\ttotal: 9.75ms\tremaining: 24.4ms\n2:\tlearn: 0.4743663\ttotal: 14.7ms\tremaining: 19.6ms\n3:\tlearn: 0.4713682\ttotal: 18.4ms\tremaining: 13.8ms\n4:\tlearn: 0.4703815\ttotal: 22.5ms\tremaining: 9ms\n5:\tlearn: 0.4697153\ttotal: 26.8ms\tremaining: 4.47ms\n6:\tlearn: 0.4678229\ttotal: 31.2ms\tremaining: 0us\nprediccion =  84\n0:\tlearn: 0.4838288\ttotal: 1.53ms\tremaining: 9.16ms\n1:\tlearn: 0.4806201\ttotal: 2.93ms\tremaining: 7.33ms\n2:\tlearn: 0.4777746\ttotal: 4.34ms\tremaining: 5.78ms\n3:\tlearn: 0.4756857\ttotal: 5.81ms\tremaining: 4.36ms\n4:\tlearn: 0.4746346\ttotal: 7.22ms\tremaining: 2.89ms\n5:\tlearn: 0.4735509\ttotal: 8.65ms\tremaining: 1.44ms\n6:\tlearn: 0.4730124\ttotal: 10.2ms\tremaining: 0us\nprediccion =  85\n0:\tlearn: 0.4836722\ttotal: 1.78ms\tremaining: 10.7ms\n",
      "1:\tlearn: 0.4794725\ttotal: 3.45ms\tremaining: 8.63ms\n2:\tlearn: 0.4765126\ttotal: 5.06ms\tremaining: 6.75ms\n3:\tlearn: 0.4757293\ttotal: 6.75ms\tremaining: 5.06ms\n4:\tlearn: 0.4739108\ttotal: 8.43ms\tremaining: 3.37ms\n5:\tlearn: 0.4733940\ttotal: 10.1ms\tremaining: 1.69ms\n6:\tlearn: 0.4720392\ttotal: 12ms\tremaining: 0us\nprediccion =  86\n0:\tlearn: 0.4836722\ttotal: 2.05ms\tremaining: 12.3ms\n1:\tlearn: 0.4785743\ttotal: 3.99ms\tremaining: 9.98ms\n2:\tlearn: 0.4771644\ttotal: 5.37ms\tremaining: 7.16ms\n3:\tlearn: 0.4745791\ttotal: 7.24ms\tremaining: 5.43ms\n4:\tlearn: 0.4734733\ttotal: 9.16ms\tremaining: 3.67ms\n5:\tlearn: 0.4726559\ttotal: 11.1ms\tremaining: 1.85ms\n6:\tlearn: 0.4714189\ttotal: 13ms\tremaining: 0us\n",
      "prediccion =  87\n0:\tlearn: 0.4836722\ttotal: 2.32ms\tremaining: 13.9ms\n1:\tlearn: 0.4777171\ttotal: 5.02ms\tremaining: 12.6ms\n2:\tlearn: 0.4737869\ttotal: 7.21ms\tremaining: 9.61ms\n3:\tlearn: 0.4725954\ttotal: 9.46ms\tremaining: 7.09ms\n4:\tlearn: 0.4720840\ttotal: 11.9ms\tremaining: 4.76ms\n5:\tlearn: 0.4708476\ttotal: 14.3ms\tremaining: 2.38ms\n6:\tlearn: 0.4704801\ttotal: 15.9ms\tremaining: 0us\nprediccion =  88\n0:\tlearn: 0.4836722\ttotal: 2.1ms\tremaining: 12.6ms\n1:\tlearn: 0.4768299\ttotal: 4.97ms\tremaining: 12.4ms\n2:\tlearn: 0.4729336\ttotal: 7.62ms\tremaining: 10.2ms\n3:\tlearn: 0.4712235\ttotal: 10.4ms\tremaining: 7.76ms\n4:\tlearn: 0.4700359\ttotal: 13.2ms\tremaining: 5.28ms\n5:\tlearn: 0.4693490\ttotal: 16ms\tremaining: 2.67ms\n6:\tlearn: 0.4682902\ttotal: 18.9ms\tremaining: 0us\n",
      "prediccion =  89\n0:\tlearn: 0.4836722\ttotal: 2.91ms\tremaining: 17.5ms\n1:\tlearn: 0.4768299\ttotal: 7.26ms\tremaining: 18.2ms\n2:\tlearn: 0.4724783\ttotal: 11ms\tremaining: 14.7ms\n3:\tlearn: 0.4703033\ttotal: 14.7ms\tremaining: 11ms\n4:\tlearn: 0.4692715\ttotal: 18.3ms\tremaining: 7.31ms\n5:\tlearn: 0.4686750\ttotal: 21.8ms\tremaining: 3.63ms\n6:\tlearn: 0.4662355\ttotal: 25.3ms\tremaining: 0us\nprediccion =  90\n0:\tlearn: 0.4922181\ttotal: 1.59ms\tremaining: 12.7ms\n1:\tlearn: 0.4900002\ttotal: 3.07ms\tremaining: 10.7ms\n2:\tlearn: 0.4882057\ttotal: 4.5ms\tremaining: 9ms\n3:\tlearn: 0.4866643\ttotal: 5.97ms\tremaining: 7.47ms\n4:\tlearn: 0.4854656\ttotal: 7.43ms\tremaining: 5.94ms\n5:\tlearn: 0.4843477\ttotal: 9.09ms\tremaining: 4.54ms\n6:\tlearn: 0.4833043\ttotal: 10.8ms\tremaining: 3.07ms\n7:\tlearn: 0.4821909\ttotal: 12.3ms\tremaining: 1.54ms\n8:\tlearn: 0.4813941\ttotal: 13.9ms\tremaining: 0us\n",
      "prediccion =  91\n0:\tlearn: 0.4921797\ttotal: 2.05ms\tremaining: 16.4ms\n1:\tlearn: 0.4898452\ttotal: 3.78ms\tremaining: 13.2ms\n2:\tlearn: 0.4885540\ttotal: 5.45ms\tremaining: 10.9ms\n3:\tlearn: 0.4868945\ttotal: 7.16ms\tremaining: 8.95ms\n4:\tlearn: 0.4852925\ttotal: 8.89ms\tremaining: 7.11ms\n5:\tlearn: 0.4841163\ttotal: 10.8ms\tremaining: 5.41ms\n6:\tlearn: 0.4828517\ttotal: 12.6ms\tremaining: 3.58ms\n7:\tlearn: 0.4821164\ttotal: 14.4ms\tremaining: 1.8ms\n8:\tlearn: 0.4811026\ttotal: 16ms\tremaining: 0us\nprediccion =  92\n0:\tlearn: 0.4921797\ttotal: 2.02ms\tremaining: 16.1ms\n1:\tlearn: 0.4896676\ttotal: 3.9ms\tremaining: 13.6ms\n2:\tlearn: 0.4878343\ttotal: 5.72ms\tremaining: 11.4ms\n3:\tlearn: 0.4860394\ttotal: 7.62ms\tremaining: 9.52ms\n4:\tlearn: 0.4846304\ttotal: 9.48ms\tremaining: 7.59ms\n5:\tlearn: 0.4834767\ttotal: 11.3ms\tremaining: 5.65ms\n6:\tlearn: 0.4821228\ttotal: 13.1ms\tremaining: 3.75ms\n7:\tlearn: 0.4811534\ttotal: 15ms\tremaining: 1.88ms\n8:\tlearn: 0.4798302\ttotal: 16.9ms\tremaining: 0us\nprediccion =  93\n0:\tlearn: 0.4921797\ttotal: 2ms\tremaining: 16ms\n",
      "1:\tlearn: 0.4896314\ttotal: 4.32ms\tremaining: 15.1ms\n2:\tlearn: 0.4872790\ttotal: 6.56ms\tremaining: 13.1ms\n3:\tlearn: 0.4856682\ttotal: 8.87ms\tremaining: 11.1ms\n4:\tlearn: 0.4840216\ttotal: 11.1ms\tremaining: 8.89ms\n5:\tlearn: 0.4827706\ttotal: 13.4ms\tremaining: 6.68ms\n6:\tlearn: 0.4815710\ttotal: 15.6ms\tremaining: 4.47ms\n7:\tlearn: 0.4802539\ttotal: 17.9ms\tremaining: 2.24ms\n8:\tlearn: 0.4790600\ttotal: 20.2ms\tremaining: 0us\nprediccion =  94\n0:\tlearn: 0.4921797\ttotal: 2.04ms\tremaining: 16.3ms\n1:\tlearn: 0.4895652\ttotal: 4.8ms\tremaining: 16.8ms\n2:\tlearn: 0.4870785\ttotal: 7.45ms\tremaining: 14.9ms\n3:\tlearn: 0.4854632\ttotal: 10.1ms\tremaining: 12.7ms\n4:\tlearn: 0.4837882\ttotal: 12.9ms\tremaining: 10.3ms\n5:\tlearn: 0.4820412\ttotal: 15.6ms\tremaining: 7.81ms\n6:\tlearn: 0.4808463\ttotal: 18.4ms\tremaining: 5.25ms\n7:\tlearn: 0.4795131\ttotal: 21ms\tremaining: 2.63ms\n8:\tlearn: 0.4784350\ttotal: 24.2ms\tremaining: 0us\nprediccion =  95\n",
      "0:\tlearn: 0.4921797\ttotal: 2.86ms\tremaining: 22.9ms\n1:\tlearn: 0.4893853\ttotal: 7.76ms\tremaining: 27.1ms\n2:\tlearn: 0.4870026\ttotal: 11.3ms\tremaining: 22.7ms\n3:\tlearn: 0.4848421\ttotal: 15.1ms\tremaining: 18.8ms\n4:\tlearn: 0.4830790\ttotal: 18.7ms\tremaining: 14.9ms\n5:\tlearn: 0.4812694\ttotal: 22.4ms\tremaining: 11.2ms\n6:\tlearn: 0.4798590\ttotal: 26.1ms\tremaining: 7.46ms\n7:\tlearn: 0.4785903\ttotal: 30ms\tremaining: 3.75ms\n8:\tlearn: 0.4775282\ttotal: 33.7ms\tremaining: 0us\nprediccion =  96\n0:\tlearn: 0.4896894\ttotal: 1.65ms\tremaining: 13.2ms\n1:\tlearn: 0.4861386\ttotal: 3.19ms\tremaining: 11.1ms\n2:\tlearn: 0.4838721\ttotal: 4.58ms\tremaining: 9.15ms\n3:\tlearn: 0.4822677\ttotal: 6ms\tremaining: 7.5ms\n4:\tlearn: 0.4804765\ttotal: 7.38ms\tremaining: 5.9ms\n5:\tlearn: 0.4795985\ttotal: 8.79ms\tremaining: 4.39ms\n6:\tlearn: 0.4788415\ttotal: 10.2ms\tremaining: 2.92ms\n7:\tlearn: 0.4775534\ttotal: 11.7ms\tremaining: 1.46ms\n8:\tlearn: 0.4769791\ttotal: 13.1ms\tremaining: 0us\n",
      "prediccion =  97\n0:\tlearn: 0.4896160\ttotal: 1.88ms\tremaining: 15ms\n1:\tlearn: 0.4857079\ttotal: 3.57ms\tremaining: 12.5ms\n2:\tlearn: 0.4833807\ttotal: 5.21ms\tremaining: 10.4ms\n3:\tlearn: 0.4815970\ttotal: 6.81ms\tremaining: 8.52ms\n4:\tlearn: 0.4794997\ttotal: 8.45ms\tremaining: 6.76ms\n5:\tlearn: 0.4785353\ttotal: 10.1ms\tremaining: 5.03ms\n6:\tlearn: 0.4775140\ttotal: 11.6ms\tremaining: 3.32ms\n7:\tlearn: 0.4770427\ttotal: 13.3ms\tremaining: 1.66ms\n8:\tlearn: 0.4760577\ttotal: 15ms\tremaining: 0us\nprediccion =  98\n0:\tlearn: 0.4896160\ttotal: 2.1ms\tremaining: 16.8ms\n1:\tlearn: 0.4858620\ttotal: 4.08ms\tremaining: 14.3ms\n2:\tlearn: 0.4831727\ttotal: 6.11ms\tremaining: 12.2ms\n3:\tlearn: 0.4811081\ttotal: 7.99ms\tremaining: 9.99ms\n4:\tlearn: 0.4796655\ttotal: 9.9ms\tremaining: 7.92ms\n5:\tlearn: 0.4781159\ttotal: 12ms\tremaining: 6.02ms\n6:\tlearn: 0.4768004\ttotal: 14.5ms\tremaining: 4.14ms\n7:\tlearn: 0.4758246\ttotal: 17ms\tremaining: 2.12ms\n8:\tlearn: 0.4751695\ttotal: 19.7ms\tremaining: 0us\n",
      "prediccion =  99\n0:\tlearn: 0.4896160\ttotal: 2.15ms\tremaining: 17.2ms\n1:\tlearn: 0.4858215\ttotal: 4.56ms\tremaining: 16ms\n2:\tlearn: 0.4826123\ttotal: 6.86ms\tremaining: 13.7ms\n3:\tlearn: 0.4801592\ttotal: 9.15ms\tremaining: 11.4ms\n4:\tlearn: 0.4785260\ttotal: 11.4ms\tremaining: 9.13ms\n5:\tlearn: 0.4768961\ttotal: 13.9ms\tremaining: 6.95ms\n6:\tlearn: 0.4758847\ttotal: 16.5ms\tremaining: 4.71ms\n7:\tlearn: 0.4747031\ttotal: 18.8ms\tremaining: 2.35ms\n8:\tlearn: 0.4741525\ttotal: 21ms\tremaining: 0us\nprediccion =  100\n0:\tlearn: 0.4896160\ttotal: 2.31ms\tremaining: 18.5ms\n1:\tlearn: 0.4857039\ttotal: 5.1ms\tremaining: 17.9ms\n2:\tlearn: 0.4819541\ttotal: 7.75ms\tremaining: 15.5ms\n3:\tlearn: 0.4800288\ttotal: 10.5ms\tremaining: 13.1ms\n4:\tlearn: 0.4780917\ttotal: 13.1ms\tremaining: 10.5ms\n5:\tlearn: 0.4761731\ttotal: 15.9ms\tremaining: 7.93ms\n6:\tlearn: 0.4750887\ttotal: 18.6ms\tremaining: 5.33ms\n7:\tlearn: 0.4739641\ttotal: 21.3ms\tremaining: 2.67ms\n8:\tlearn: 0.4727103\ttotal: 24.1ms\tremaining: 0us\n",
      "prediccion =  101\n0:\tlearn: 0.4896160\ttotal: 2.26ms\tremaining: 18.1ms\n1:\tlearn: 0.4854806\ttotal: 6.16ms\tremaining: 21.5ms\n2:\tlearn: 0.4818284\ttotal: 9.86ms\tremaining: 19.7ms\n3:\tlearn: 0.4791668\ttotal: 13.9ms\tremaining: 17.4ms\n4:\tlearn: 0.4776546\ttotal: 17.7ms\tremaining: 14.1ms\n5:\tlearn: 0.4753045\ttotal: 21.6ms\tremaining: 10.8ms\n6:\tlearn: 0.4738265\ttotal: 25.4ms\tremaining: 7.26ms\n7:\tlearn: 0.4728073\ttotal: 29.2ms\tremaining: 3.64ms\n8:\tlearn: 0.4713321\ttotal: 33.6ms\tremaining: 0us\nprediccion =  102\n0:\tlearn: 0.4874457\ttotal: 1.79ms\tremaining: 14.4ms\n1:\tlearn: 0.4838510\ttotal: 3.32ms\tremaining: 11.6ms\n2:\tlearn: 0.4818553\ttotal: 4.78ms\tremaining: 9.55ms\n3:\tlearn: 0.4790111\ttotal: 6.24ms\tremaining: 7.8ms\n4:\tlearn: 0.4774931\ttotal: 7.66ms\tremaining: 6.12ms\n5:\tlearn: 0.4763971\ttotal: 9.1ms\tremaining: 4.55ms\n6:\tlearn: 0.4754927\ttotal: 10.6ms\tremaining: 3.03ms\n7:\tlearn: 0.4744002\ttotal: 12.1ms\tremaining: 1.51ms\n8:\tlearn: 0.4739403\ttotal: 13.6ms\tremaining: 0us\n",
      "prediccion =  103\n0:\tlearn: 0.4873409\ttotal: 1.8ms\tremaining: 14.4ms\n1:\tlearn: 0.4832699\ttotal: 3.58ms\tremaining: 12.6ms\n2:\tlearn: 0.4806715\ttotal: 5.27ms\tremaining: 10.5ms\n3:\tlearn: 0.4792505\ttotal: 6.96ms\tremaining: 8.71ms\n4:\tlearn: 0.4773682\ttotal: 8.77ms\tremaining: 7.02ms\n5:\tlearn: 0.4760435\ttotal: 10.4ms\tremaining: 5.2ms\n6:\tlearn: 0.4750742\ttotal: 12.1ms\tremaining: 3.45ms\n7:\tlearn: 0.4739145\ttotal: 13.7ms\tremaining: 1.72ms\n8:\tlearn: 0.4731278\ttotal: 15.4ms\tremaining: 0us\nprediccion =  104\n0:\tlearn: 0.4873409\ttotal: 4.13ms\tremaining: 33.1ms\n1:\tlearn: 0.4826716\ttotal: 6.17ms\tremaining: 21.6ms\n2:\tlearn: 0.4798148\ttotal: 8.11ms\tremaining: 16.2ms\n3:\tlearn: 0.4779698\ttotal: 10.2ms\tremaining: 12.8ms\n",
      "4:\tlearn: 0.4762500\ttotal: 12.1ms\tremaining: 9.72ms\n5:\tlearn: 0.4748563\ttotal: 14.2ms\tremaining: 7.08ms\n6:\tlearn: 0.4735296\ttotal: 16.2ms\tremaining: 4.62ms\n7:\tlearn: 0.4726357\ttotal: 18.2ms\tremaining: 2.28ms\n8:\tlearn: 0.4721252\ttotal: 20.2ms\tremaining: 0us\nprediccion =  105\n0:\tlearn: 0.4873409\ttotal: 2.4ms\tremaining: 19.2ms\n1:\tlearn: 0.4819984\ttotal: 5.02ms\tremaining: 17.6ms\n2:\tlearn: 0.4784577\ttotal: 7.67ms\tremaining: 15.3ms\n3:\tlearn: 0.4759494\ttotal: 10.2ms\tremaining: 12.8ms\n4:\tlearn: 0.4748997\ttotal: 12.6ms\tremaining: 10.1ms\n5:\tlearn: 0.4736476\ttotal: 15.1ms\tremaining: 7.55ms\n6:\tlearn: 0.4728794\ttotal: 17.6ms\tremaining: 5.02ms\n7:\tlearn: 0.4717530\ttotal: 20.7ms\tremaining: 2.59ms\n8:\tlearn: 0.4708643\ttotal: 23.5ms\tremaining: 0us\n",
      "prediccion =  106\n0:\tlearn: 0.4873409\ttotal: 2.71ms\tremaining: 21.6ms\n1:\tlearn: 0.4813704\ttotal: 6.3ms\tremaining: 22.1ms\n2:\tlearn: 0.4781397\ttotal: 9.23ms\tremaining: 18.5ms\n3:\tlearn: 0.4765863\ttotal: 12.2ms\tremaining: 15.3ms\n4:\tlearn: 0.4747160\ttotal: 15.6ms\tremaining: 12.5ms\n5:\tlearn: 0.4727645\ttotal: 18.8ms\tremaining: 9.42ms\n6:\tlearn: 0.4719712\ttotal: 22.6ms\tremaining: 6.47ms\n7:\tlearn: 0.4708046\ttotal: 25.5ms\tremaining: 3.19ms\n8:\tlearn: 0.4696076\ttotal: 28.6ms\tremaining: 0us\nprediccion =  107\n0:\tlearn: 0.4873409\ttotal: 2.08ms\tremaining: 16.6ms\n1:\tlearn: 0.4804424\ttotal: 5.82ms\tremaining: 20.4ms\n2:\tlearn: 0.4770779\ttotal: 9.52ms\tremaining: 19ms\n3:\tlearn: 0.4745782\ttotal: 13.1ms\tremaining: 16.4ms\n4:\tlearn: 0.4731882\ttotal: 16.6ms\tremaining: 13.3ms\n5:\tlearn: 0.4715317\ttotal: 20.1ms\tremaining: 10.1ms\n6:\tlearn: 0.4704598\ttotal: 23.8ms\tremaining: 6.79ms\n7:\tlearn: 0.4697308\ttotal: 27.5ms\tremaining: 3.44ms\n8:\tlearn: 0.4687503\ttotal: 31.2ms\tremaining: 0us\n",
      "prediccion =  108\n0:\tlearn: 0.4854910\ttotal: 1.61ms\tremaining: 12.9ms\n1:\tlearn: 0.4819370\ttotal: 3.09ms\tremaining: 10.8ms\n2:\tlearn: 0.4787777\ttotal: 4.49ms\tremaining: 8.98ms\n3:\tlearn: 0.4776734\ttotal: 5.96ms\tremaining: 7.45ms\n4:\tlearn: 0.4760710\ttotal: 7.38ms\tremaining: 5.9ms\n5:\tlearn: 0.4741869\ttotal: 8.84ms\tremaining: 4.42ms\n6:\tlearn: 0.4734518\ttotal: 10.3ms\tremaining: 2.95ms\n7:\tlearn: 0.4725963\ttotal: 11.8ms\tremaining: 1.48ms\n8:\tlearn: 0.4722971\ttotal: 13.4ms\tremaining: 0us\nprediccion =  109\n0:\tlearn: 0.4853584\ttotal: 2.11ms\tremaining: 16.9ms\n1:\tlearn: 0.4809721\ttotal: 3.96ms\tremaining: 13.9ms\n2:\tlearn: 0.4781913\ttotal: 6.18ms\tremaining: 12.4ms\n3:\tlearn: 0.4769744\ttotal: 9.4ms\tremaining: 11.7ms\n4:\tlearn: 0.4759494\ttotal: 13.3ms\tremaining: 10.7ms\n5:\tlearn: 0.4756124\ttotal: 15.3ms\tremaining: 7.63ms\n6:\tlearn: 0.4742471\ttotal: 17.4ms\tremaining: 4.97ms\n7:\tlearn: 0.4737294\ttotal: 20ms\tremaining: 2.5ms\n8:\tlearn: 0.4729432\ttotal: 27.6ms\tremaining: 0us\n",
      "prediccion =  110\n0:\tlearn: 0.4853584\ttotal: 2.1ms\tremaining: 16.8ms\n1:\tlearn: 0.4806801\ttotal: 4.09ms\tremaining: 14.3ms\n2:\tlearn: 0.4774473\ttotal: 5.97ms\tremaining: 11.9ms\n3:\tlearn: 0.4761380\ttotal: 8.23ms\tremaining: 10.3ms\n4:\tlearn: 0.4751653\ttotal: 10.2ms\tremaining: 8.13ms\n5:\tlearn: 0.4736574\ttotal: 12.2ms\tremaining: 6.08ms\n6:\tlearn: 0.4730754\ttotal: 14.1ms\tremaining: 4.02ms\n7:\tlearn: 0.4723263\ttotal: 16.1ms\tremaining: 2.01ms\n8:\tlearn: 0.4719292\ttotal: 18ms\tremaining: 0us\nprediccion =  111\n0:\tlearn: 0.4853584\ttotal: 1.98ms\tremaining: 15.9ms\n1:\tlearn: 0.4798330\ttotal: 4.33ms\tremaining: 15.1ms\n2:\tlearn: 0.4763246\ttotal: 6.56ms\tremaining: 13.1ms\n3:\tlearn: 0.4751552\ttotal: 8.83ms\tremaining: 11ms\n4:\tlearn: 0.4726643\ttotal: 11.1ms\tremaining: 8.87ms\n5:\tlearn: 0.4717431\ttotal: 13.4ms\tremaining: 6.69ms\n6:\tlearn: 0.4712756\ttotal: 15.6ms\tremaining: 4.47ms\n7:\tlearn: 0.4702493\ttotal: 18ms\tremaining: 2.25ms\n8:\tlearn: 0.4696996\ttotal: 20.2ms\tremaining: 0us\n",
      "prediccion =  112\n0:\tlearn: 0.4853584\ttotal: 2.07ms\tremaining: 16.6ms\n1:\tlearn: 0.4790320\ttotal: 5.66ms\tremaining: 19.8ms\n2:\tlearn: 0.4755665\ttotal: 8.49ms\tremaining: 17ms\n3:\tlearn: 0.4743321\ttotal: 11.2ms\tremaining: 14.1ms\n4:\tlearn: 0.4724449\ttotal: 14.2ms\tremaining: 11.4ms\n5:\tlearn: 0.4715411\ttotal: 17.2ms\tremaining: 8.6ms\n6:\tlearn: 0.4702888\ttotal: 20.2ms\tremaining: 5.76ms\n7:\tlearn: 0.4693820\ttotal: 23.1ms\tremaining: 2.89ms\n8:\tlearn: 0.4678875\ttotal: 25.9ms\tremaining: 0us\nprediccion =  113\n0:\tlearn: 0.4853584\ttotal: 2.07ms\tremaining: 16.6ms\n1:\tlearn: 0.4778589\ttotal: 6.3ms\tremaining: 22.1ms\n2:\tlearn: 0.4743663\ttotal: 10.8ms\tremaining: 21.6ms\n3:\tlearn: 0.4713682\ttotal: 16.8ms\tremaining: 21.1ms\n4:\tlearn: 0.4703815\ttotal: 21.4ms\tremaining: 17.1ms\n5:\tlearn: 0.4697153\ttotal: 25.8ms\tremaining: 12.9ms\n6:\tlearn: 0.4678229\ttotal: 37.8ms\tremaining: 10.8ms\n7:\tlearn: 0.4663802\ttotal: 42.8ms\tremaining: 5.35ms\n8:\tlearn: 0.4654570\ttotal: 46.6ms\tremaining: 0us\n",
      "prediccion =  114\n0:\tlearn: 0.4838288\ttotal: 1.6ms\tremaining: 12.8ms\n1:\tlearn: 0.4806201\ttotal: 3.02ms\tremaining: 10.6ms\n2:\tlearn: 0.4777746\ttotal: 4.46ms\tremaining: 8.92ms\n3:\tlearn: 0.4756857\ttotal: 5.95ms\tremaining: 7.43ms\n4:\tlearn: 0.4746346\ttotal: 7.44ms\tremaining: 5.95ms\n5:\tlearn: 0.4735509\ttotal: 8.87ms\tremaining: 4.44ms\n6:\tlearn: 0.4730124\ttotal: 10.4ms\tremaining: 2.98ms\n7:\tlearn: 0.4724933\ttotal: 11.9ms\tremaining: 1.49ms\n8:\tlearn: 0.4721982\ttotal: 13.4ms\tremaining: 0us\nprediccion =  115\n0:\tlearn: 0.4836722\ttotal: 1.73ms\tremaining: 13.8ms\n1:\tlearn: 0.4794725\ttotal: 3.36ms\tremaining: 11.8ms\n2:\tlearn: 0.4765126\ttotal: 4.93ms\tremaining: 9.85ms\n3:\tlearn: 0.4757293\ttotal: 6.69ms\tremaining: 8.36ms\n4:\tlearn: 0.4739108\ttotal: 8.52ms\tremaining: 6.82ms\n5:\tlearn: 0.4733940\ttotal: 10.3ms\tremaining: 5.16ms\n6:\tlearn: 0.4720392\ttotal: 12.1ms\tremaining: 3.45ms\n7:\tlearn: 0.4715782\ttotal: 13.8ms\tremaining: 1.72ms\n8:\tlearn: 0.4709810\ttotal: 15.5ms\tremaining: 0us\n",
      "prediccion =  116\n0:\tlearn: 0.4836722\ttotal: 2.01ms\tremaining: 16.1ms\n1:\tlearn: 0.4785743\ttotal: 3.99ms\tremaining: 14ms\n2:\tlearn: 0.4771644\ttotal: 5.43ms\tremaining: 10.9ms\n3:\tlearn: 0.4745791\ttotal: 7.42ms\tremaining: 9.27ms\n4:\tlearn: 0.4734733\ttotal: 9.5ms\tremaining: 7.6ms\n5:\tlearn: 0.4726559\ttotal: 13.2ms\tremaining: 6.61ms\n6:\tlearn: 0.4714189\ttotal: 19.1ms\tremaining: 5.45ms\n7:\tlearn: 0.4708406\ttotal: 21.4ms\tremaining: 2.67ms\n8:\tlearn: 0.4706348\ttotal: 23.9ms\tremaining: 0us\nprediccion =  117\n0:\tlearn: 0.4836722\ttotal: 2.8ms\tremaining: 22.4ms\n1:\tlearn: 0.4777171\ttotal: 11.2ms\tremaining: 39.2ms\n2:\tlearn: 0.4737869\ttotal: 14.2ms\tremaining: 28.4ms\n3:\tlearn: 0.4725954\ttotal: 16.9ms\tremaining: 21.1ms\n4:\tlearn: 0.4720840\ttotal: 19.3ms\tremaining: 15.4ms\n5:\tlearn: 0.4708476\ttotal: 21.8ms\tremaining: 10.9ms\n6:\tlearn: 0.4704801\ttotal: 23.5ms\tremaining: 6.72ms\n7:\tlearn: 0.4697459\ttotal: 25.9ms\tremaining: 3.24ms\n8:\tlearn: 0.4689837\ttotal: 28.3ms\tremaining: 0us\n",
      "prediccion =  118\n0:\tlearn: 0.4836722\ttotal: 2.27ms\tremaining: 18.1ms\n1:\tlearn: 0.4768299\ttotal: 5.29ms\tremaining: 18.5ms\n2:\tlearn: 0.4729336\ttotal: 7.89ms\tremaining: 15.8ms\n3:\tlearn: 0.4712235\ttotal: 10.6ms\tremaining: 13.3ms\n4:\tlearn: 0.4700359\ttotal: 13.3ms\tremaining: 10.7ms\n5:\tlearn: 0.4693490\ttotal: 16.1ms\tremaining: 8.04ms\n6:\tlearn: 0.4682902\ttotal: 18.9ms\tremaining: 5.4ms\n7:\tlearn: 0.4675897\ttotal: 21.6ms\tremaining: 2.7ms\n8:\tlearn: 0.4670590\ttotal: 24.3ms\tremaining: 0us\nprediccion =  119\n0:\tlearn: 0.4836722\ttotal: 2.08ms\tremaining: 16.6ms\n1:\tlearn: 0.4768299\ttotal: 5.96ms\tremaining: 20.9ms\n2:\tlearn: 0.4724783\ttotal: 9.63ms\tremaining: 19.3ms\n3:\tlearn: 0.4703033\ttotal: 13.3ms\tremaining: 16.6ms\n4:\tlearn: 0.4692715\ttotal: 16.9ms\tremaining: 13.6ms\n5:\tlearn: 0.4686750\ttotal: 20.6ms\tremaining: 10.3ms\n6:\tlearn: 0.4662355\ttotal: 24.3ms\tremaining: 6.95ms\n7:\tlearn: 0.4657143\ttotal: 27.9ms\tremaining: 3.48ms\n8:\tlearn: 0.4642110\ttotal: 31.5ms\tremaining: 0us\n",
      "prediccion =  120\n"
     ],
     "output_type": "stream"
    }
   ],
   "source": [
    "resultados_de_prediccion = pd.read_csv('sample_submission.csv',index_col=['id'])\n",
    "cantidadDePredicciones = 0\n",
    "for iter in range(3,10,2):\n",
    "    #iteraciones = 4\n",
    "    for lR in range(1,6):\n",
    "        learningRate = lR / 10\n",
    "        #iteraciones = 5\n",
    "        for profundidad in range(3,9):\n",
    "            #iteraciones = 5\n",
    "            #iteraciones totales = 100 catboosts se ejecutaran\n",
    "            # Initialize CatBoostRegressor\n",
    "            model = CatBoostRegressor(iterations=iter,\n",
    "                                      learning_rate=learningRate,\n",
    "                                      depth=profundidad)\n",
    "            # Fit model\n",
    "            model.fit(train_set, train_label)\n",
    "            # Get predictions\n",
    "            predicion = model.predict(test_set)\n",
    "            cantidadDePredicciones,resultados_de_prediccion = ensamble(resultados_de_prediccion,cantidadDePredicciones,predicion)\n",
    "            print(\"prediccion = \",cantidadDePredicciones)\n",
    "    "
   ],
   "metadata": {
    "collapsed": false,
    "pycharm": {
     "name": "#%%\n",
     "is_executing": false
    }
   }
  },
  {
   "cell_type": "code",
   "execution_count": 43,
   "outputs": [
    {
     "name": "stdout",
     "text": [
      "120\n"
     ],
     "output_type": "stream"
    },
    {
     "data": {
      "text/plain": "                    target\nid                        \n0                     0.00\n2                     1.00\n3                     1.00\n9                     0.00\n11                    0.00\n...                    ...\n10861                 0.00\n10865                 1.00\n10868                 0.00\n10874                 1.00\n10875                 1.00\n\n[3263 rows x 1 columns]",
      "text/html": "<div>\n<style scoped>\n    .dataframe tbody tr th:only-of-type {\n        vertical-align: middle;\n    }\n\n    .dataframe tbody tr th {\n        vertical-align: top;\n    }\n\n    .dataframe thead th {\n        text-align: right;\n    }\n</style>\n<table border=\"1\" class=\"dataframe\">\n  <thead>\n    <tr style=\"text-align: right;\">\n      <th></th>\n      <th>target</th>\n    </tr>\n    <tr>\n      <th>id</th>\n      <th></th>\n    </tr>\n  </thead>\n  <tbody>\n    <tr>\n      <th>0</th>\n      <td>0.00</td>\n    </tr>\n    <tr>\n      <th>2</th>\n      <td>1.00</td>\n    </tr>\n    <tr>\n      <th>3</th>\n      <td>1.00</td>\n    </tr>\n    <tr>\n      <th>9</th>\n      <td>0.00</td>\n    </tr>\n    <tr>\n      <th>11</th>\n      <td>0.00</td>\n    </tr>\n    <tr>\n      <th>...</th>\n      <td>...</td>\n    </tr>\n    <tr>\n      <th>10861</th>\n      <td>0.00</td>\n    </tr>\n    <tr>\n      <th>10865</th>\n      <td>1.00</td>\n    </tr>\n    <tr>\n      <th>10868</th>\n      <td>0.00</td>\n    </tr>\n    <tr>\n      <th>10874</th>\n      <td>1.00</td>\n    </tr>\n    <tr>\n      <th>10875</th>\n      <td>1.00</td>\n    </tr>\n  </tbody>\n</table>\n<p>3263 rows × 1 columns</p>\n</div>"
     },
     "metadata": {},
     "output_type": "execute_result",
     "execution_count": 43
    }
   ],
   "source": [
    "resultados_de_prediccion = calcular_resultado_de_prediccion(resultados_de_prediccion,cantidadDePredicciones)\n",
    "#resultado\n",
    "#solucionCatBoost = pd.DataFrame(data=predicion)\n",
    "#solucionCatBoost.columns = ['target']\n",
    "#solucionCatBoost['id'] = test_set.reset_index()['id']\n",
    "#solucionCatBoost['target'] = solucionCatBoost['target'].round()\n",
    "#solucionCatBoost.set_index(['id'])\n",
    "#solucionCatBoost.head()\n",
    "#resultado = F1(solucionCatBoost)\n",
    "#resultados_de_prediccion.drop(columns=['prediccion'])\n",
    "print(cantidadDePredicciones)\n",
    "resultados_de_prediccion"
   ],
   "metadata": {
    "collapsed": false,
    "pycharm": {
     "name": "#%%\n",
     "is_executing": false
    }
   }
  },
  {
   "cell_type": "markdown",
   "source": [
    "## ARBOL DE DECISION"
   ],
   "metadata": {
    "collapsed": false
   }
  },
  {
   "cell_type": "code",
   "execution_count": null,
   "outputs": [],
   "source": [
    "#para arbol verificar si esta balanceado o no\n",
    "#train_set.groupby([\"target\"]).size()"
   ],
   "metadata": {
    "collapsed": false,
    "pycharm": {
     "name": "#%%\n",
     "is_executing": false
    }
   }
  }
 ],
 "metadata": {
  "kernelspec": {
   "display_name": "Python 3",
   "language": "python",
   "name": "python3"
  },
  "language_info": {
   "codemirror_mode": {
    "name": "ipython",
    "version": 2
   },
   "file_extension": ".py",
   "mimetype": "text/x-python",
   "name": "python",
   "nbconvert_exporter": "python",
   "pygments_lexer": "ipython2",
   "version": "2.7.6"
  },
  "pycharm": {
   "stem_cell": {
    "cell_type": "raw",
    "source": [],
    "metadata": {
     "collapsed": false
    }
   }
  }
 },
 "nbformat": 4,
 "nbformat_minor": 0
}