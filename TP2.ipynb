{
 "cells": [
  {
   "cell_type": "markdown",
   "metadata": {
    "collapsed": true,
    "pycharm": {
     "name": "#%% md\n"
    }
   },
   "source": [
    "# 75.06/95.58 Organización de Datos\n",
    "# Primer Cuatrimestre de 2020\n",
    "# Trabajo Práctico 2: Enunciado\n",
    "\n",
    "\n",
    "El segundo TP es una competencia de Machine Learning en donde cada grupo debe intentar determinar, para cada tweet brindado, si el mismo esta basado en un hecho real o no.\n",
    "\n",
    "La competencia se desarrolla en la plataforma de Kaggle  https://www.kaggle.com/c/nlp-getting-started.  \n",
    "\n",
    "El dataset consta de una serie de tweets, para los cuales se informa:\n",
    "\n",
    "- id - identificador unico para cada  tweet\n",
    "- text - el texto del tweet\n",
    "- location - ubicación desde donde fue enviado (podría no estar)\n",
    "- keyword - un keyword para el tweet  (podría faltar)\n",
    "- target - en train.csv, indica si se trata de un desastre real  (1) o no (0)\n",
    " \n",
    "\n",
    "\n",
    "Los submits con el resultado deben tener el formato:\n",
    "\n",
    "Id: Un id numérico para identificar el tweet\n",
    "target: 1 / 0 según se crea que el tweet se trata sobre un desastre real, o no.\n",
    "\n",
    "Los grupos deberán probar distintos algoritmos de Machine Learning para intentar predecir si el tweet está basado en hechos reales o no. A medida que los grupos realicen pruebas deben realizar el correspondiente submit en Kaggle para evaluar el resultado de los mismos.\n",
    "\n",
    "Al finalizar la competencia el grupo que mejor resultado tenga obtendrá 10 puntos para cada uno de sus integrantes que podrán ser usados en el examen por promoción o segundo recuperatorio.\n",
    "\n",
    "## Requisitos para la entrega del TP2:\n",
    "\n",
    "- El TP debe programarse en Python o R.\n",
    "- Debe entregarse un pdf con el informe de algoritmos probados, algoritmo final utilizado, transformaciones realizadas a los datos, feature engineering, etc. \n",
    "- El informe debe incluir también un link a github con el informe presentado en pdf, y todo el código.\n",
    "- El grupo debe presentar el TP en una computadora en la fecha indicada por la cátedra, el TP debe correr en un lapso de tiempo razonable (inferior a 1 hora) y generar un submission válido que iguale el mejor resultado obtenido por el grupo en Kaggle. (mas detalles a definir)\n",
    "\n",
    "## El TP2 se va a evaluar en función del siguiente criterio:\n",
    "\n",
    "- Cantidad de trabajo (esfuerzo) del grupo: ¿Probaron muchos algoritmos? ¿Hicieron un buen trabajo de pre-procesamiento de los datos y feature engineering?\n",
    "- Resultado obtenido en Kaggle (obviamente cuanto mejor resultado mejor nota)\n",
    "- Presentación final del informe, calidad de la redacción, uso de información obtenida en el TP1, conclusiones presentadas.\n",
    "- Performance de la solución final."
   ]
  },
  {
   "cell_type": "markdown",
   "metadata": {},
   "source": [
    "## Forma de evaluar kaggle\n",
    "\n",
    "Las presentaciones se evalúan utilizando F1 entre las respuestas previstas y esperadas.\n",
    "\n",
    "F1 se calcula de la siguiente manera:\n",
    "\n",
    "$ F1=(2∗precision∗recall)/(precision+recall) $\n",
    "\n",
    "donde:\n",
    "\n",
    "$precision=TP/(TP+FP)$\n",
    "\n",
    "$recall=TP/(TP+FN)$\n",
    "\n",
    "\n",
    "con:\n",
    "\n",
    "- Verdadero positivo [TP] = your prediction is 1, and the ground truth is also 1 - you predicted a positive and that's true!\n",
    "- Falso positivo [FP] = your prediction is 1, and the ground truth is 0 - you predicted a positive, and that's false.\n",
    "- Falso Negativo [FN] = your prediction is 0, and the ground truth is 1 - you predicted a negative, and that's false."
   ]
  },
  {
   "cell_type": "markdown",
   "metadata": {},
   "source": [
    "importaciones"
   ]
  },
  {
   "cell_type": "code",
   "execution_count": 34,
   "metadata": {
    "pycharm": {
     "is_executing": false,
     "name": "#%%\n"
    },
    "scrolled": false
   },
   "outputs": [],
   "source": [
    "#IMPORTS\n",
    "import pandas as pd\n",
    "import numpy as np\n",
    "import matplotlib.pyplot as plt\n",
    "import seaborn as sns\n",
    "#import plotly.graph_objects as go\n",
    "\n",
    "#plt.style.use('default')\n",
    "from gensim.sklearn_api import tfidf\n",
    "\n",
    "sns.set(style=\"whitegrid\")\n",
    "\n",
    "pd.options.display.float_format = '{:20,.2f}'.format \n",
    "\n",
    "import warnings\n",
    "warnings.filterwarnings('ignore')\n",
    "\n",
    "import os\n",
    "from matplotlib.colors import ListedColormap\n",
    "import matplotlib.patches as mpatches\n",
    "import re\n",
    "%matplotlib inline\n",
    "plt.rcParams['figure.figsize'] = (16, 9)\n",
    "plt.style.use('ggplot')\n",
    "import math\n",
    "#librerias para KNN\n",
    "from sklearn.model_selection import train_test_split\n",
    "from sklearn.preprocessing import MinMaxScaler\n",
    "from sklearn.neighbors import KNeighborsClassifier\n",
    "from sklearn.metrics import classification_report\n",
    "from sklearn.metrics import confusion_matrix\n",
    "#red neuronal\n",
    "from keras.models import Sequential\n",
    "from keras.layers.core import Dense\n",
    "#arboles de decicion\n",
    "plt.rcParams['figure.figsize'] = (16, 9)\n",
    "plt.style.use('ggplot')\n",
    "from sklearn import tree\n",
    "from sklearn.metrics import accuracy_score\n",
    "from sklearn.model_selection import KFold\n",
    "from sklearn.model_selection import cross_val_score\n",
    "from IPython.display import Image as PImage\n",
    "from subprocess import check_call\n",
    "from PIL import Image, ImageDraw, ImageFont\n",
    "from sklearn.ensemble import RandomForestClassifier\n",
    "from sklearn.tree import DecisionTreeClassifier\n",
    "#catboost\n",
    "from catboost import CatBoostRegressor\n",
    "#xgb\n",
    "import xgboost as xgb\n",
    "\n",
    "#palabras\n",
    "import nltk\n",
    "#nltk.download('stopwords')#si no tiene stopword habilitar esta linea\n",
    "from nltk.corpus import stopwords\n",
    "import gensim \n",
    "from gensim.models import Word2Vec \n",
    "#tf-idf\n",
    "from sklearn.feature_extraction.text import TfidfVectorizer\n",
    "\n",
    "from sklearn.ensemble import RandomForestRegressor\n",
    "\n",
    "\n",
    "import tensorflow as tf\n",
    "\n",
    "from tensorflow import keras\n",
    "from tensorflow.keras import layers"
   ]
  },
  {
   "cell_type": "code",
   "execution_count": 2,
   "metadata": {
    "pycharm": {
     "is_executing": false,
     "name": "#%%\n"
    },
    "scrolled": false
   },
   "outputs": [],
   "source": [
    "import nltk\n",
    "from nltk.tokenize import word_tokenize\n",
    "from tqdm import tqdm\n",
    "#nltk.download('stopwords')\n",
    "from nltk.corpus import stopwords\n",
    "stopwordEnglis = stopwords.words('english')\n",
    "#tfidf = TfidfVectorizer()\n",
    "\n",
    "\n",
    "import spacy\n",
    "# para activar este ultimo escribir en consola \"python -m spacy download en_core_web_sm\"\n",
    "from spacy.lang.fi import Finnish\n",
    "import en_core_web_sm"
   ]
  },
  {
   "cell_type": "markdown",
   "metadata": {},
   "source": [
    "inicio de csv"
   ]
  },
  {
   "cell_type": "code",
   "execution_count": 3,
   "metadata": {
    "pycharm": {
     "is_executing": false,
     "name": "#%%\n"
    },
    "scrolled": true
   },
   "outputs": [
    {
     "data": {
      "text/plain": "   keyword location                                               text  target\nid                                                                            \n1      NaN      NaN  Our Deeds are the Reason of this #earthquake M...       1\n4      NaN      NaN             Forest fire near La Ronge Sask. Canada       1\n5      NaN      NaN  All residents asked to 'shelter in place' are ...       1\n6      NaN      NaN  13,000 people receive #wildfires evacuation or...       1\n7      NaN      NaN  Just got sent this photo from Ruby #Alaska as ...       1",
      "text/html": "<div>\n<style scoped>\n    .dataframe tbody tr th:only-of-type {\n        vertical-align: middle;\n    }\n\n    .dataframe tbody tr th {\n        vertical-align: top;\n    }\n\n    .dataframe thead th {\n        text-align: right;\n    }\n</style>\n<table border=\"1\" class=\"dataframe\">\n  <thead>\n    <tr style=\"text-align: right;\">\n      <th></th>\n      <th>keyword</th>\n      <th>location</th>\n      <th>text</th>\n      <th>target</th>\n    </tr>\n    <tr>\n      <th>id</th>\n      <th></th>\n      <th></th>\n      <th></th>\n      <th></th>\n    </tr>\n  </thead>\n  <tbody>\n    <tr>\n      <th>1</th>\n      <td>NaN</td>\n      <td>NaN</td>\n      <td>Our Deeds are the Reason of this #earthquake M...</td>\n      <td>1</td>\n    </tr>\n    <tr>\n      <th>4</th>\n      <td>NaN</td>\n      <td>NaN</td>\n      <td>Forest fire near La Ronge Sask. Canada</td>\n      <td>1</td>\n    </tr>\n    <tr>\n      <th>5</th>\n      <td>NaN</td>\n      <td>NaN</td>\n      <td>All residents asked to 'shelter in place' are ...</td>\n      <td>1</td>\n    </tr>\n    <tr>\n      <th>6</th>\n      <td>NaN</td>\n      <td>NaN</td>\n      <td>13,000 people receive #wildfires evacuation or...</td>\n      <td>1</td>\n    </tr>\n    <tr>\n      <th>7</th>\n      <td>NaN</td>\n      <td>NaN</td>\n      <td>Just got sent this photo from Ruby #Alaska as ...</td>\n      <td>1</td>\n    </tr>\n  </tbody>\n</table>\n</div>"
     },
     "metadata": {},
     "output_type": "execute_result",
     "execution_count": 3
    }
   ],
   "source": [
    "tweets_original_entrenamiento = pd.read_csv('train.csv',index_col=['id'])\n",
    "tweets_original_entrenamiento.head()"
   ]
  },
  {
   "cell_type": "code",
   "execution_count": 4,
   "metadata": {
    "pycharm": {
     "is_executing": false,
     "name": "#%%\n"
    },
    "scrolled": true
   },
   "outputs": [
    {
     "data": {
      "text/plain": "   keyword location                                               text\nid                                                                    \n0      NaN      NaN                 Just happened a terrible car crash\n2      NaN      NaN  Heard about #earthquake is different cities, s...\n3      NaN      NaN  there is a forest fire at spot pond, geese are...\n9      NaN      NaN           Apocalypse lighting. #Spokane #wildfires\n11     NaN      NaN      Typhoon Soudelor kills 28 in China and Taiwan",
      "text/html": "<div>\n<style scoped>\n    .dataframe tbody tr th:only-of-type {\n        vertical-align: middle;\n    }\n\n    .dataframe tbody tr th {\n        vertical-align: top;\n    }\n\n    .dataframe thead th {\n        text-align: right;\n    }\n</style>\n<table border=\"1\" class=\"dataframe\">\n  <thead>\n    <tr style=\"text-align: right;\">\n      <th></th>\n      <th>keyword</th>\n      <th>location</th>\n      <th>text</th>\n    </tr>\n    <tr>\n      <th>id</th>\n      <th></th>\n      <th></th>\n      <th></th>\n    </tr>\n  </thead>\n  <tbody>\n    <tr>\n      <th>0</th>\n      <td>NaN</td>\n      <td>NaN</td>\n      <td>Just happened a terrible car crash</td>\n    </tr>\n    <tr>\n      <th>2</th>\n      <td>NaN</td>\n      <td>NaN</td>\n      <td>Heard about #earthquake is different cities, s...</td>\n    </tr>\n    <tr>\n      <th>3</th>\n      <td>NaN</td>\n      <td>NaN</td>\n      <td>there is a forest fire at spot pond, geese are...</td>\n    </tr>\n    <tr>\n      <th>9</th>\n      <td>NaN</td>\n      <td>NaN</td>\n      <td>Apocalypse lighting. #Spokane #wildfires</td>\n    </tr>\n    <tr>\n      <th>11</th>\n      <td>NaN</td>\n      <td>NaN</td>\n      <td>Typhoon Soudelor kills 28 in China and Taiwan</td>\n    </tr>\n  </tbody>\n</table>\n</div>"
     },
     "metadata": {},
     "output_type": "execute_result",
     "execution_count": 4
    }
   ],
   "source": [
    "tweets_original_prueba = pd.read_csv('test.csv',index_col=['id'])\n",
    "tweets_original_prueba.head()"
   ]
  },
  {
   "cell_type": "markdown",
   "metadata": {},
   "source": [
    "calculo resultado"
   ]
  },
  {
   "cell_type": "code",
   "execution_count": 5,
   "metadata": {
    "pycharm": {
     "is_executing": false,
     "name": "#%%\n"
    }
   },
   "outputs": [],
   "source": [
    "#resultados\n",
    "resultados_de_test = pd.read_csv('respuestas.csv',index_col=['id'])\n",
    "#revisar los resultados\n",
    "def calclarPresicionYRecall(df):\n",
    "    respuestas = pd.read_csv('respuestas.csv',index_col=['id'])\n",
    "    respuestas['prediccion'] = df['target']\n",
    "    #respuestas['TP'] = [1 if (respuestas['target'] == 1 and respuestas['prediccion'] == 1) else 0]\n",
    "    #respuestas['FP'] = [1 if (respuestas['target'] == 0 and respuestas['prediccion'] == 1) else 0]\n",
    "    #respuestas['FN'] = [1 if (respuestas['target'] == 1 and respuestas['prediccion'] == 0) else 0]\n",
    "    \n",
    "    respuestas.loc[respuestas['prediccion'] + respuestas['target'] == 2 , 'TP'] = 1\n",
    "    respuestas.loc[respuestas['prediccion'] + (respuestas['target'] * 2) == 1 , 'FP'] = 1\n",
    "    respuestas.loc[respuestas['prediccion'] + (respuestas['target'] * 2) == 2 , 'FN'] = 1\n",
    "    respuestas['TP'].fillna(0, inplace=True)\n",
    "    respuestas['FP'].fillna(0, inplace=True)\n",
    "    respuestas['FN'].fillna(0, inplace=True)\n",
    "\n",
    "    tp = respuestas['TP'].sum()\n",
    "    fp = respuestas['FP'].sum()\n",
    "    fn = respuestas['FN'].sum()\n",
    "    \n",
    "    #print(tp,fp,fn)\n",
    "    #print(respuestas.head())\n",
    "    \n",
    "    sumaPresicion = tp + fp\n",
    "    sumaRecall = tp + fn\n",
    "    presicion = tp / sumaPresicion\n",
    "    recall = tp / sumaRecall\n",
    "    return (presicion,recall)\n",
    "\n",
    "def F1(df):\n",
    "    presicion,recall = calclarPresicionYRecall(df)\n",
    "    resultado = 2 * presicion * recall\n",
    "    resultado /= (presicion + recall)\n",
    "    return resultado"
   ]
  },
  {
   "cell_type": "code",
   "execution_count": 6,
   "outputs": [],
   "source": [
    "regex = re.compile(r\"\\[|\\]|<\", re.IGNORECASE)\n",
    "def eliminarErrorDeValores(df):\n",
    "    df.columns = [regex.sub(\"_\", col) if any(x in str(col) for x in set(('[', ']', '<'))) else col for col in df.columns.values]\n",
    "    return df"
   ],
   "metadata": {
    "collapsed": false,
    "pycharm": {
     "name": "#%%\n",
     "is_executing": false
    }
   }
  },
  {
   "cell_type": "markdown",
   "metadata": {},
   "source": [
    "inicio de problema"
   ]
  },
  {
   "cell_type": "markdown",
   "metadata": {},
   "source": [
    "## CATBOOST"
   ]
  },
  {
   "cell_type": "code",
   "execution_count": 7,
   "outputs": [],
   "source": [
    "#esto deberia ahorrar columnas al hacer un BOW\n",
    "def digitos_en_binario(numero):\n",
    "    logaritmo2 = math.log2(numero)\n",
    "    entero = int(logaritmo2)\n",
    "    entero += 1\n",
    "    return entero\n",
    "\n",
    "def transformar_a_vector_binario(numero,digitos):\n",
    "    nBinario = aBinario(numero)\n",
    "    digit = len(nBinario)\n",
    "    while (digit < digitos):\n",
    "        digit = len(nBinario)\n",
    "        nBinario.insert(0,0)\n",
    "    return nBinario\n",
    "\n",
    "def aBinario(numero):\n",
    "    numeroDecimal = numero\n",
    "    numeroBinario = []\n",
    "    if (numeroDecimal < 2):\n",
    "        numeroBinario.append(numeroDecimal)\n",
    "        return numeroBinario\n",
    "    while numeroDecimal >=2:\n",
    "        numeroBinario.append(numeroDecimal % 2)\n",
    "        numeroDecimal //= 2\n",
    "    numeroBinario.append(numeroDecimal)\n",
    "    numeroBinario.reverse()\n",
    "    return numeroBinario\n",
    "\n",
    "#PRUEVA\n",
    "#if (digitos_en_binario(63) != 6):\n",
    "#    print(\"error en digitos_en_binario\")\n",
    "#bina = aBinario(64)\n",
    "#if (bina != 6 and bina[0] != 1 and bina[1] != 0 and bina[2] != 0 and bina[3] != 0 and bina[4] != 0 and bina[5] != 0):\n",
    "#    print(\"error en aBinario\")\n",
    "#print(transformar_a_vector_binario(64,8))\n",
    "#TODO OK"
   ],
   "metadata": {
    "collapsed": false,
    "pycharm": {
     "name": "#%% \n",
     "is_executing": false
    }
   }
  },
  {
   "cell_type": "code",
   "execution_count": 8,
   "metadata": {
    "pycharm": {
     "is_executing": false,
     "name": "#%%\n"
    }
   },
   "outputs": [],
   "source": [
    "\"\"\"\n",
    "vacio = 0000\n",
    "a = 0001\n",
    "b = 0010\n",
    "c = 0011\n",
    "d = 0100\n",
    "e = 0101\n",
    "f = 0110\n",
    "h = 0111\n",
    "r = 1000\n",
    "s = 1001\n",
    "t = 1010\n",
    "w = 1011\n",
    "\"\"\"\n",
    "LETRAS_0 = ['a','c','e','h','s','w']\n",
    "def letra0(x):\n",
    "    if (x in LETRAS_0):\n",
    "        return 1\n",
    "    return 0\n",
    "LETRAS_1 = ['b','c','f','h','t','w']\n",
    "def letra1(x):\n",
    "    if (x in LETRAS_1):\n",
    "        return 1\n",
    "    return 0\n",
    "LETRAS_2 = ['d','e','f','h']\n",
    "def letra2(x):\n",
    "    if (x in LETRAS_2):\n",
    "        return 1\n",
    "    return 0\n",
    "LETRAS_3 = ['r','s','t','w']\n",
    "def letra3(x):\n",
    "    if (x in LETRAS_3):\n",
    "        return 1\n",
    "    return 0\n",
    "def letra_inicial_Keyword_BOW(df):\n",
    "    #for i in range(0,4):\n",
    "    #    texto = 'letra_' + str(i)\n",
    "    #    df[texto] = 0\n",
    "    df['letra_0'] = 0\n",
    "    df['letra_1'] = 0\n",
    "    df['letra_2'] = 0\n",
    "    df['letra_3'] = 0\n",
    "    df['letra_0'] = df['keyword'].str.strip().str[0].map(lambda x:letra0(x))\n",
    "    df['letra_1'] = df['keyword'].str.strip().str[0].map(lambda x:letra0(x))\n",
    "    df['letra_2'] = df['keyword'].str.strip().str[0].map(lambda x:letra0(x))\n",
    "    df['letra_3'] = df['keyword'].str.strip().str[0].map(lambda x:letra0(x))\n",
    "    return df\n",
    "     "
   ]
  },
  {
   "cell_type": "code",
   "execution_count": 9,
   "metadata": {
    "pycharm": {
     "is_executing": false,
     "name": "#%%   \n"
    }
   },
   "outputs": [],
   "source": [
    "\n",
    "def set_palabras_del_train(df):\n",
    "    palabrasTexto = []\n",
    "    palabrasKeyword = []\n",
    "    \n",
    "    df['palabras_de_texto'] = df['text'].str.lower().str.split().apply(lambda x: [item for item in x if item not in stopwordEnglis])\n",
    "    df['palabras_de_keyword'] = df['text'].str.lower().str.split().apply(lambda x: [item for item in x if item not in stopwordEnglis])\n",
    "    \n",
    "    return (palabrasTexto,palabrasKeyword)\n",
    "\n",
    "def hashtag_en_tweet(listado):\n",
    "    \"\"\"defino hashtag como un numeral seguido por una cadena de texto\"\"\"\n",
    "    contador = 0\n",
    "    for palabra in listado:\n",
    "        if (palabra[0] == '#'):\n",
    "            contador += 1\n",
    "    return contador\n",
    "\n",
    "def str_hashtag_en_tweet(listado):\n",
    "    \"\"\"defino hashtag como un numeral seguido por una cadena de texto\"\"\"\n",
    "    for palabra in listado:\n",
    "        if (palabra[0] == '#'):\n",
    "            return palabra\n",
    "    return \"\"\n",
    "\n",
    "def cantidad_de_palabras_en_texto(lista,palabra):\n",
    "    contador = 0\n",
    "    for elemento in lista:\n",
    "        if (elemento == palabra):\n",
    "            contador += 1\n",
    "    return contador\n",
    "\n",
    "def localizacion(x,lista):\n",
    "    if (x == \"\"):\n",
    "        return 0\n",
    "    for i in range(len(lista)):\n",
    "        palabra = lista[i]\n",
    "        if (palabra == x):\n",
    "            return (i + 1)\n",
    "    return 0\n",
    "\n",
    "def ubicacionEnLista(x,pos):\n",
    "    return x[pos]\n",
    "\n",
    "def BOW_locacion(df,lista,columna):\n",
    "    cantidadDePalabras = len(lista)\n",
    "    if (cantidadDePalabras == 0):\n",
    "        return df\n",
    "    binarioMaximo = cantidadDePalabras + 1\n",
    "    digitosBinario = digitos_en_binario(binarioMaximo)\n",
    "    #for i in range(digitosBinario):\n",
    "    #    df[\"palabra_{}\".format(i)] = 0\n",
    "    #df['location'] = df['location'].map(lambda x: transformar_a_vector_binario(localizacion(x,lista),digitosBinario))\n",
    "    #for j in range(digitosBinario):\n",
    "    #    df[\"loc_palabra_{}\".format(j)] = df['location'].map(lambda x: ubicacionEnLista(x,j))\n",
    "    df[columna] = df[columna].map(lambda x: transformar_a_vector_binario(localizacion(x,lista),digitosBinario))\n",
    "    for j in range(digitosBinario):\n",
    "        df[\"{}_palabra_{}\".format(columna,j)] = df[columna].map(lambda x: ubicacionEnLista(x,j))\n",
    "    return df\n"
   ]
  },
  {
   "cell_type": "code",
   "execution_count": 10,
   "outputs": [],
   "source": [
    "def eliminar_signos(texto):\n",
    "    palabra = \"\"\n",
    "    for caracter in texto:\n",
    "        if (caracter < 'a' or caracter > 'z'):\n",
    "            continue\n",
    "        palabra += caracter\n",
    "    return palabra"
   ],
   "metadata": {
    "collapsed": false,
    "pycharm": {
     "name": "#%%\n",
     "is_executing": false
    }
   }
  },
  {
   "cell_type": "code",
   "execution_count": 11,
   "outputs": [],
   "source": [
    "def preparar_df(df,listadoDePalabrasDelTextoDelSetDeEntrenamiento=[],listadoDePalabrasDeLocalizacionesDelSetDeEntrenamiento=[],listadoDePalabrasDelKeywordDelSetDeEntrenamiento=[]):\n",
    "    df['text'].fillna(\"\", inplace=True)\n",
    "    df['keyword'].fillna(\"\", inplace=True)\n",
    "    df['location'].fillna(\"\", inplace=True)\n",
    "    \n",
    "    df['longitud_de_texto'] = df['text'].str.len()\n",
    "    df['longitud_de_keyword'] = df['keyword'].str.len()\n",
    "    \n",
    "    df['palabras_de_texto'] = df['text'].str.lower().str.split().apply(lambda x: [item for item in x if item not in stopwordEnglis])\n",
    "    df['palabras_de_keyword'] = df['keyword'].str.lower().str.split().apply(lambda x: [item for item in x if item not in stopwordEnglis])\n",
    "    \n",
    "    df['cantidad_de_palabras_texto'] = df['palabras_de_texto'].map(len)\n",
    "    df['cantidad_de_palabras_keyword'] = df['palabras_de_keyword'].map(len)\n",
    "    \n",
    "    df['cantidad_de_hashtag_en_texto'] = df['palabras_de_texto'].map(hashtag_en_tweet)\n",
    "    \n",
    "    df['palabras_de_texto'] = df['palabras_de_texto'].apply(lambda x: [item for item in x if item in listadoDePalabrasDelTextoDelSetDeEntrenamiento])\n",
    "    #df['palabras_de_keyword'] = df['palabras_de_keyword'].apply(lambda x: [item for item in x if item in listadoDePalabrasDelKeywordDelSetDeEntrenamiento])\n",
    "    \n",
    "    #Se requiere pensarlo mas\n",
    "    #cantidadDePalabrasDelTexto = len(listadoDePalabrasDelTextoDelSetDeEntrenamiento)\n",
    "    #for i in range(cantidadDePalabrasDelTexto):\n",
    "    #    df[\"palabra_{}\".format(i)] = 0\n",
    "    \n",
    "    df = letra_inicial_Keyword_BOW(df)\n",
    "    \n",
    "    #repetir el proceso habiendo calculado los hashtag\n",
    "    df['palabras_de_texto'] = df['palabras_de_texto'].apply(lambda x: [eliminar_signos(item) for item in x])\n",
    "    \n",
    "    for palabra in listadoDePalabrasDelTextoDelSetDeEntrenamiento:\n",
    "        df[palabra] = df['palabras_de_texto'].map(lambda x: cantidad_de_palabras_en_texto(x,palabra))\n",
    "    \n",
    "    df = BOW_locacion(df,listadoDePalabrasDeLocalizacionesDelSetDeEntrenamiento,'location')\n",
    "    df = BOW_locacion(df,listadoDePalabrasDelKeywordDelSetDeEntrenamiento,'keyword')\n",
    "    #hashtag (no eleva la metrica)\n",
    "    #df['hashtag_en_texto'] = df['palabras_de_texto'].map(str_hashtag_en_tweet)\n",
    "    #df = BOW_locacion(df,listadoDePalabrasDelTextoDelSetDeEntrenamiento,'hashtag_en_texto')\n",
    "    #df = df.drop(columns=['hashtag_en_texto'])\n",
    "    \n",
    "    #df['text'] = df['text'].str.replace(r' ', '')\n",
    "    #df['keyword'] = df['keyword'].str.replace(r' ', '')\n",
    "    #df['location'] = df['location'].str.replace(r' ', '')\n",
    "    \n",
    "    #TF-IDF\n",
    "    #x = TfidfVectorizer.fit_transform(df['palabras_de_texto'])\n",
    "    #df_tfidf = pd.DataFrame(x.toarray(), columns=tfidf.get_feature_names())\n",
    "    #for col in df_tfidf.columns():\n",
    "    #    df = df.join(df_tfidf[col])\n",
    "    #df.join(df_tfidf)#mal planteado\n",
    "    \n",
    "    df = df.drop(columns=['keyword','text','location'])\n",
    "    df = df.drop(columns=['palabras_de_texto','palabras_de_keyword'])\n",
    "    \n",
    "    return df"
   ],
   "metadata": {
    "collapsed": false,
    "pycharm": {
     "name": "#%%   \n",
     "is_executing": false
    }
   }
  },
  {
   "cell_type": "code",
   "execution_count": 13,
   "outputs": [],
   "source": [
    "def extraer_palabras(serie):\n",
    "    URL_INICIO = \"http\"\n",
    "    lista = []\n",
    "    #dic = {}\n",
    "    for listado in serie:\n",
    "        for elemento in listado:\n",
    "            palabra = eliminar_signos(elemento)\n",
    "            #la mayoria de las palabras en ingles tienen una esperansa de 4.8773 caracteres con varianza de 2.6171\n",
    "            longitud = len(palabra)\n",
    "            #simbolos = ('0','1','2','3','4','5','6','7','8','9','#','/','','\"','@',';','?','[','(','{','.','!','$','&','*','-')\n",
    "            #if (palabra in lista or longitud > 7 or longitud < 2 or palabra[0] in simbolos or palabra[-1] in simbolos or palabra[:4] == URL_INICIO):\n",
    "            #if (palabra in lista or longitud > 7 or longitud < 2 or palabra[:4] == URL_INICIO):\n",
    "            if (palabra in lista or longitud < 2 or palabra[:4] == URL_INICIO):\n",
    "                continue\n",
    "            lista.append(elemento)\n",
    "    #resultado = []\n",
    "    #max = 0\n",
    "    #for palabra in lista:\n",
    "    #    max = dic[palabra]\n",
    "    #    if (dic[palabra] < 800):\n",
    "    #        continue\n",
    "    #    resultado.append(palabra)\n",
    "    return lista\n",
    "\n",
    "def generar_lista(x,lista):\n",
    "    if (x in lista or x == \"\"):\n",
    "        return\n",
    "    lista.append(x)\n",
    "    return"
   ],
   "metadata": {
    "collapsed": false,
    "pycharm": {
     "name": "#%% \n",
     "is_executing": false
    }
   }
  },
  {
   "cell_type": "markdown",
   "source": [
    "ABRO LOS SETS"
   ],
   "metadata": {
    "collapsed": false
   }
  },
  {
   "cell_type": "code",
   "execution_count": 14,
   "outputs": [],
   "source": [
    "#train\n",
    "train_label = tweets_original_entrenamiento['target']\n",
    "train_set = tweets_original_entrenamiento\n",
    "train_set = train_set.drop(columns=['target'])\n",
    "#test\n",
    "test_set = tweets_original_prueba"
   ],
   "metadata": {
    "collapsed": false,
    "pycharm": {
     "name": "#%% \n",
     "is_executing": false
    }
   }
  },
  {
   "cell_type": "markdown",
   "source": [
    "PROCESADO DE SET\n"
   ],
   "metadata": {
    "collapsed": false
   }
  },
  {
   "cell_type": "code",
   "execution_count": 15,
   "outputs": [
    {
     "name": "stdout",
     "text": [
      "471\n"
     ],
     "output_type": "stream"
    }
   ],
   "source": [
    "#Recordar esta celda debe ser activada despues de abrir los sets si no lanza error\n",
    "seriePalabrasTextoTrain = train_set['text'].str.lower().str.split().apply(lambda x: [item for item in x if item not in stopwordEnglis])\n",
    "listadoDePalabrasDelTextoDelSetDeEntrenamiento = extraer_palabras(seriePalabrasTextoTrain)\n",
    "seriePalabrasTextoTest = test_set['text'].str.lower().str.split().apply(lambda x: [item for item in x if item not in stopwordEnglis])\n",
    "listadoDePalabrasDelTextoDelSetDeTesteo = extraer_palabras(seriePalabrasTextoTest)\n",
    "\n",
    "lista_final = {}\n",
    "for elem in listadoDePalabrasDelTextoDelSetDeTesteo:\n",
    "    elemento = eliminar_signos(elem)\n",
    "    if (not elemento in listadoDePalabrasDelTextoDelSetDeEntrenamiento):\n",
    "        continue\n",
    "    if (elemento in lista_final.keys()):\n",
    "        lista_final[elemento] += 1\n",
    "    else:\n",
    "        lista_final[elemento] = 1\n",
    "#dfListado = pd.DataFrame([[key, lista_final[key]] for key in lista_final.keys()], columns=['Name', 'Amount'])\n",
    "#dfListado.to_csv('impotacia.csv', index=False)#linea bloqueada por las dudas\n",
    "\n",
    "listadoDePalabrasDelTexto = []\n",
    "for clave in lista_final.keys():\n",
    "    if (lista_final[clave] <= 1):\n",
    "        continue\n",
    "    listadoDePalabrasDelTexto.append(clave)\n",
    "\n",
    "print(len(listadoDePalabrasDelTexto))"
   ],
   "metadata": {
    "collapsed": false,
    "pycharm": {
     "name": "#%% \n",
     "is_executing": false
    }
   }
  },
  {
   "cell_type": "code",
   "execution_count": 16,
   "outputs": [],
   "source": [
    "train_set['location'].fillna(\"\", inplace=True)\n",
    "train_set['text'].fillna(\"\", inplace=True)\n",
    "\n",
    "seriePalabrasTexto = train_set['text'].str.lower().str.split().apply(lambda x: [item for item in x if item not in stopwordEnglis])\n",
    "seriePalabrasLocation = []\n",
    "train_set['location'].str.lower().apply(lambda x: generar_lista(x,seriePalabrasLocation))\n",
    "seriePalabrasKeyword = []\n",
    "train_set['keyword'].str.lower().apply(lambda x: generar_lista(x,seriePalabrasKeyword))\n",
    "#seriePalabrasKeyword = []\n",
    "#train_set['keyword'].str.lower().apply(lambda x: generar_lista(x,seriePalabrasKeyword))\n",
    "\n",
    "#listadoDePalabrasDelTextoDelSetDeEntrenamiento = extraer_palabras(seriePalabrasTexto)\n",
    "#listadoDePalabrasDelTextoDelSetDeEntrenamiento = []#prueva de valor de palabras\n",
    "listadoDePalabrasDeLocalizacionesDelSetDeEntrenamiento = seriePalabrasLocation\n",
    "listadoDePalabrasDelKeywordDelSetDeEntrenamiento = seriePalabrasKeyword"
   ],
   "metadata": {
    "collapsed": false,
    "pycharm": {
     "name": "#%% \n",
     "is_executing": false
    }
   }
  },
  {
   "cell_type": "code",
   "execution_count": 17,
   "outputs": [
    {
     "data": {
      "text/plain": "    longitud_de_texto  longitud_de_keyword  cantidad_de_palabras_texto  \\\nid                                                                       \n1                  69                    0                           7   \n4                  38                    0                           7   \n5                 133                    0                          11   \n6                  65                    0                           7   \n7                  88                    0                           9   \n\n    cantidad_de_palabras_keyword  cantidad_de_hashtag_en_texto  letra_0  \\\nid                                                                        \n1                              0                             1        0   \n4                              0                             0        0   \n5                              0                             0        0   \n6                              0                             1        0   \n7                              0                             2        0   \n\n    letra_1  letra_2  letra_3  earthquake  ...  location_palabra_10  \\\nid                                         ...                        \n1         0        0        0           0  ...                    0   \n4         0        0        0           0  ...                    0   \n5         0        0        0           0  ...                    0   \n6         0        0        0           0  ...                    0   \n7         0        0        0           0  ...                    0   \n\n    location_palabra_11  keyword_palabra_0  keyword_palabra_1  \\\nid                                                              \n1                     0                  0                  0   \n4                     0                  0                  0   \n5                     0                  0                  0   \n6                     0                  0                  0   \n7                     0                  0                  0   \n\n    keyword_palabra_2  keyword_palabra_3  keyword_palabra_4  \\\nid                                                            \n1                   0                  0                  0   \n4                   0                  0                  0   \n5                   0                  0                  0   \n6                   0                  0                  0   \n7                   0                  0                  0   \n\n    keyword_palabra_5  keyword_palabra_6  keyword_palabra_7  \nid                                                           \n1                   0                  0                  0  \n4                   0                  0                  0  \n5                   0                  0                  0  \n6                   0                  0                  0  \n7                   0                  0                  0  \n\n[5 rows x 499 columns]",
      "text/html": "<div>\n<style scoped>\n    .dataframe tbody tr th:only-of-type {\n        vertical-align: middle;\n    }\n\n    .dataframe tbody tr th {\n        vertical-align: top;\n    }\n\n    .dataframe thead th {\n        text-align: right;\n    }\n</style>\n<table border=\"1\" class=\"dataframe\">\n  <thead>\n    <tr style=\"text-align: right;\">\n      <th></th>\n      <th>longitud_de_texto</th>\n      <th>longitud_de_keyword</th>\n      <th>cantidad_de_palabras_texto</th>\n      <th>cantidad_de_palabras_keyword</th>\n      <th>cantidad_de_hashtag_en_texto</th>\n      <th>letra_0</th>\n      <th>letra_1</th>\n      <th>letra_2</th>\n      <th>letra_3</th>\n      <th>earthquake</th>\n      <th>...</th>\n      <th>location_palabra_10</th>\n      <th>location_palabra_11</th>\n      <th>keyword_palabra_0</th>\n      <th>keyword_palabra_1</th>\n      <th>keyword_palabra_2</th>\n      <th>keyword_palabra_3</th>\n      <th>keyword_palabra_4</th>\n      <th>keyword_palabra_5</th>\n      <th>keyword_palabra_6</th>\n      <th>keyword_palabra_7</th>\n    </tr>\n    <tr>\n      <th>id</th>\n      <th></th>\n      <th></th>\n      <th></th>\n      <th></th>\n      <th></th>\n      <th></th>\n      <th></th>\n      <th></th>\n      <th></th>\n      <th></th>\n      <th></th>\n      <th></th>\n      <th></th>\n      <th></th>\n      <th></th>\n      <th></th>\n      <th></th>\n      <th></th>\n      <th></th>\n      <th></th>\n      <th></th>\n    </tr>\n  </thead>\n  <tbody>\n    <tr>\n      <th>1</th>\n      <td>69</td>\n      <td>0</td>\n      <td>7</td>\n      <td>0</td>\n      <td>1</td>\n      <td>0</td>\n      <td>0</td>\n      <td>0</td>\n      <td>0</td>\n      <td>0</td>\n      <td>...</td>\n      <td>0</td>\n      <td>0</td>\n      <td>0</td>\n      <td>0</td>\n      <td>0</td>\n      <td>0</td>\n      <td>0</td>\n      <td>0</td>\n      <td>0</td>\n      <td>0</td>\n    </tr>\n    <tr>\n      <th>4</th>\n      <td>38</td>\n      <td>0</td>\n      <td>7</td>\n      <td>0</td>\n      <td>0</td>\n      <td>0</td>\n      <td>0</td>\n      <td>0</td>\n      <td>0</td>\n      <td>0</td>\n      <td>...</td>\n      <td>0</td>\n      <td>0</td>\n      <td>0</td>\n      <td>0</td>\n      <td>0</td>\n      <td>0</td>\n      <td>0</td>\n      <td>0</td>\n      <td>0</td>\n      <td>0</td>\n    </tr>\n    <tr>\n      <th>5</th>\n      <td>133</td>\n      <td>0</td>\n      <td>11</td>\n      <td>0</td>\n      <td>0</td>\n      <td>0</td>\n      <td>0</td>\n      <td>0</td>\n      <td>0</td>\n      <td>0</td>\n      <td>...</td>\n      <td>0</td>\n      <td>0</td>\n      <td>0</td>\n      <td>0</td>\n      <td>0</td>\n      <td>0</td>\n      <td>0</td>\n      <td>0</td>\n      <td>0</td>\n      <td>0</td>\n    </tr>\n    <tr>\n      <th>6</th>\n      <td>65</td>\n      <td>0</td>\n      <td>7</td>\n      <td>0</td>\n      <td>1</td>\n      <td>0</td>\n      <td>0</td>\n      <td>0</td>\n      <td>0</td>\n      <td>0</td>\n      <td>...</td>\n      <td>0</td>\n      <td>0</td>\n      <td>0</td>\n      <td>0</td>\n      <td>0</td>\n      <td>0</td>\n      <td>0</td>\n      <td>0</td>\n      <td>0</td>\n      <td>0</td>\n    </tr>\n    <tr>\n      <th>7</th>\n      <td>88</td>\n      <td>0</td>\n      <td>9</td>\n      <td>0</td>\n      <td>2</td>\n      <td>0</td>\n      <td>0</td>\n      <td>0</td>\n      <td>0</td>\n      <td>0</td>\n      <td>...</td>\n      <td>0</td>\n      <td>0</td>\n      <td>0</td>\n      <td>0</td>\n      <td>0</td>\n      <td>0</td>\n      <td>0</td>\n      <td>0</td>\n      <td>0</td>\n      <td>0</td>\n    </tr>\n  </tbody>\n</table>\n<p>5 rows × 499 columns</p>\n</div>"
     },
     "metadata": {},
     "output_type": "execute_result",
     "execution_count": 17
    }
   ],
   "source": [
    "#train_set = preparar_df(train_set,listadoDePalabrasDelTextoDelSetDeEntrenamiento,listadoDePalabrasDeLocalizacionesDelSetDeEntrenamiento,listadoDePalabrasDelKeywordDelSetDeEntrenamiento)\n",
    "train_set = preparar_df(train_set,listadoDePalabrasDelTexto,listadoDePalabrasDeLocalizacionesDelSetDeEntrenamiento,listadoDePalabrasDelKeywordDelSetDeEntrenamiento)\n",
    "train_set.head()"
   ],
   "metadata": {
    "collapsed": false,
    "pycharm": {
     "name": "#%%\n",
     "is_executing": false
    }
   }
  },
  {
   "cell_type": "code",
   "execution_count": 18,
   "metadata": {
    "pycharm": {
     "is_executing": false,
     "name": "#%%\n"
    }
   },
   "outputs": [
    {
     "data": {
      "text/plain": "    longitud_de_texto  longitud_de_keyword  cantidad_de_palabras_texto  \\\nid                                                                       \n0                  34                    0                           4   \n2                  64                    0                           7   \n3                  96                    0                          10   \n9                  40                    0                           4   \n11                 45                    0                           6   \n\n    cantidad_de_palabras_keyword  cantidad_de_hashtag_en_texto  letra_0  \\\nid                                                                        \n0                              0                             0        0   \n2                              0                             1        0   \n3                              0                             0        0   \n9                              0                             2        0   \n11                             0                             0        0   \n\n    letra_1  letra_2  letra_3  earthquake  ...  location_palabra_10  \\\nid                                         ...                        \n0         0        0        0           0  ...                    0   \n2         0        0        0           0  ...                    0   \n3         0        0        0           0  ...                    0   \n9         0        0        0           0  ...                    0   \n11        0        0        0           0  ...                    0   \n\n    location_palabra_11  keyword_palabra_0  keyword_palabra_1  \\\nid                                                              \n0                     0                  0                  0   \n2                     0                  0                  0   \n3                     0                  0                  0   \n9                     0                  0                  0   \n11                    0                  0                  0   \n\n    keyword_palabra_2  keyword_palabra_3  keyword_palabra_4  \\\nid                                                            \n0                   0                  0                  0   \n2                   0                  0                  0   \n3                   0                  0                  0   \n9                   0                  0                  0   \n11                  0                  0                  0   \n\n    keyword_palabra_5  keyword_palabra_6  keyword_palabra_7  \nid                                                           \n0                   0                  0                  0  \n2                   0                  0                  0  \n3                   0                  0                  0  \n9                   0                  0                  0  \n11                  0                  0                  0  \n\n[5 rows x 499 columns]",
      "text/html": "<div>\n<style scoped>\n    .dataframe tbody tr th:only-of-type {\n        vertical-align: middle;\n    }\n\n    .dataframe tbody tr th {\n        vertical-align: top;\n    }\n\n    .dataframe thead th {\n        text-align: right;\n    }\n</style>\n<table border=\"1\" class=\"dataframe\">\n  <thead>\n    <tr style=\"text-align: right;\">\n      <th></th>\n      <th>longitud_de_texto</th>\n      <th>longitud_de_keyword</th>\n      <th>cantidad_de_palabras_texto</th>\n      <th>cantidad_de_palabras_keyword</th>\n      <th>cantidad_de_hashtag_en_texto</th>\n      <th>letra_0</th>\n      <th>letra_1</th>\n      <th>letra_2</th>\n      <th>letra_3</th>\n      <th>earthquake</th>\n      <th>...</th>\n      <th>location_palabra_10</th>\n      <th>location_palabra_11</th>\n      <th>keyword_palabra_0</th>\n      <th>keyword_palabra_1</th>\n      <th>keyword_palabra_2</th>\n      <th>keyword_palabra_3</th>\n      <th>keyword_palabra_4</th>\n      <th>keyword_palabra_5</th>\n      <th>keyword_palabra_6</th>\n      <th>keyword_palabra_7</th>\n    </tr>\n    <tr>\n      <th>id</th>\n      <th></th>\n      <th></th>\n      <th></th>\n      <th></th>\n      <th></th>\n      <th></th>\n      <th></th>\n      <th></th>\n      <th></th>\n      <th></th>\n      <th></th>\n      <th></th>\n      <th></th>\n      <th></th>\n      <th></th>\n      <th></th>\n      <th></th>\n      <th></th>\n      <th></th>\n      <th></th>\n      <th></th>\n    </tr>\n  </thead>\n  <tbody>\n    <tr>\n      <th>0</th>\n      <td>34</td>\n      <td>0</td>\n      <td>4</td>\n      <td>0</td>\n      <td>0</td>\n      <td>0</td>\n      <td>0</td>\n      <td>0</td>\n      <td>0</td>\n      <td>0</td>\n      <td>...</td>\n      <td>0</td>\n      <td>0</td>\n      <td>0</td>\n      <td>0</td>\n      <td>0</td>\n      <td>0</td>\n      <td>0</td>\n      <td>0</td>\n      <td>0</td>\n      <td>0</td>\n    </tr>\n    <tr>\n      <th>2</th>\n      <td>64</td>\n      <td>0</td>\n      <td>7</td>\n      <td>0</td>\n      <td>1</td>\n      <td>0</td>\n      <td>0</td>\n      <td>0</td>\n      <td>0</td>\n      <td>0</td>\n      <td>...</td>\n      <td>0</td>\n      <td>0</td>\n      <td>0</td>\n      <td>0</td>\n      <td>0</td>\n      <td>0</td>\n      <td>0</td>\n      <td>0</td>\n      <td>0</td>\n      <td>0</td>\n    </tr>\n    <tr>\n      <th>3</th>\n      <td>96</td>\n      <td>0</td>\n      <td>10</td>\n      <td>0</td>\n      <td>0</td>\n      <td>0</td>\n      <td>0</td>\n      <td>0</td>\n      <td>0</td>\n      <td>0</td>\n      <td>...</td>\n      <td>0</td>\n      <td>0</td>\n      <td>0</td>\n      <td>0</td>\n      <td>0</td>\n      <td>0</td>\n      <td>0</td>\n      <td>0</td>\n      <td>0</td>\n      <td>0</td>\n    </tr>\n    <tr>\n      <th>9</th>\n      <td>40</td>\n      <td>0</td>\n      <td>4</td>\n      <td>0</td>\n      <td>2</td>\n      <td>0</td>\n      <td>0</td>\n      <td>0</td>\n      <td>0</td>\n      <td>0</td>\n      <td>...</td>\n      <td>0</td>\n      <td>0</td>\n      <td>0</td>\n      <td>0</td>\n      <td>0</td>\n      <td>0</td>\n      <td>0</td>\n      <td>0</td>\n      <td>0</td>\n      <td>0</td>\n    </tr>\n    <tr>\n      <th>11</th>\n      <td>45</td>\n      <td>0</td>\n      <td>6</td>\n      <td>0</td>\n      <td>0</td>\n      <td>0</td>\n      <td>0</td>\n      <td>0</td>\n      <td>0</td>\n      <td>0</td>\n      <td>...</td>\n      <td>0</td>\n      <td>0</td>\n      <td>0</td>\n      <td>0</td>\n      <td>0</td>\n      <td>0</td>\n      <td>0</td>\n      <td>0</td>\n      <td>0</td>\n      <td>0</td>\n    </tr>\n  </tbody>\n</table>\n<p>5 rows × 499 columns</p>\n</div>"
     },
     "metadata": {},
     "output_type": "execute_result",
     "execution_count": 18
    }
   ],
   "source": [
    "#test_set = preparar_df(test_set,listadoDePalabrasDelTextoDelSetDeEntrenamiento,listadoDePalabrasDeLocalizacionesDelSetDeEntrenamiento,listadoDePalabrasDelKeywordDelSetDeEntrenamiento)\n",
    "test_set = preparar_df(test_set,listadoDePalabrasDelTexto,listadoDePalabrasDeLocalizacionesDelSetDeEntrenamiento,listadoDePalabrasDelKeywordDelSetDeEntrenamiento)\n",
    "test_set.head()"
   ]
  },
  {
   "cell_type": "code",
   "execution_count": 19,
   "outputs": [],
   "source": [
    "#SOLO USAR SI SE SOSPECHA DE ERROR EN PROCESAMIENTO DE DATOS (si existen str en las columnas)\n",
    "def verificador_de_contenido_string_en_columnas():\n",
    "    for n in test_set.columns:\n",
    "        try:\n",
    "            #test_set[n] = pd.to_numeric(test_set[n])\n",
    "            test_set[n].astype(int)\n",
    "        except:\n",
    "            print(n)\n",
    "    for n in train_set.columns:\n",
    "        try:\n",
    "            #train_set[n] = pd.to_numeric(train_set[n])\n",
    "            train_set[n].astype(int)\n",
    "        except:\n",
    "            print(n)\n",
    "\n",
    "def verificador_de_columnas():#NO USAR por algun motivo falla en su funcion\n",
    "    colTest = test_set.columns\n",
    "    colTrain = train_set.columns\n",
    "    print(colTest)\n",
    "    print(colTrain)\n",
    "    if (len(colTest) != len(colTrain)):\n",
    "        print(\"Error en cantidad de columnas\")\n",
    "    for n in colTest:\n",
    "        try:\n",
    "            colTrain[n]\n",
    "        except:\n",
    "            print(\"error de nombre de columna\",n)"
   ],
   "metadata": {
    "collapsed": false,
    "pycharm": {
     "name": "#%% \n",
     "is_executing": false
    }
   }
  },
  {
   "cell_type": "code",
   "execution_count": 22,
   "outputs": [
    {
     "name": "stdout",
     "text": [
      "test set\ncolumnas en cero:  0\ntrain set\ncolumnas en cero:  0\n"
     ],
     "output_type": "stream"
    }
   ],
   "source": [
    "def verificador_de_valoracion_de_columnas(df):\n",
    "    nulas = []\n",
    "    colum = df.columns \n",
    "    contador = 0\n",
    "    for col in colum:\n",
    "        if (test_set[col].sum() > 0):\n",
    "            continue\n",
    "        contador += 1\n",
    "        nulas.append(col)\n",
    "        #print(col)\n",
    "    print(\"columnas en cero: \",contador)\n",
    "    return nulas\n",
    "print(\"test set\")\n",
    "n1 = verificador_de_valoracion_de_columnas(test_set)\n",
    "print(\"train set\")\n",
    "n2 = verificador_de_valoracion_de_columnas(train_set)"
   ],
   "metadata": {
    "collapsed": false,
    "pycharm": {
     "name": "#%%\n",
     "is_executing": false
    }
   }
  },
  {
   "cell_type": "code",
   "execution_count": 21,
   "outputs": [
    {
     "name": "stdout",
     "text": [
      "['lighting', 'psa', 'nowplaying', 'remix', 'dubstep', 'persons', 'burglary', 'toronto', 'porn', 'ive', 'environment', 'spurs', 'nba', 'ww', 'channels', 'pictures', 'ny', 'whoa', 'prediction', 'mary', 'emails', 'existence', 'doesnt', 'nh', 'potus', 'hrs', 'jobs', 'todays', 'sept', 'fitness', 'gt', 'inj', 'runway', 'mansehra', 'mh', 'photography', 'zionist', 'bethlehem', 'dc', 'wmata', 'hobbit', 'gamescom', 'feat', 'microsofts', 'af', 'wouldnt', 'ha', 'dark', 'abcnews', 'apply', 'islam', 'bot', 'bb', 'crematoria', 'kp', 'inch', 'wd', 'yesterdays', 'plot', 'correlation', 'loans', 'gbbo', 'dates', 'netflix', 'itunes', 'ferguson', 'syria', 'ar', 'marijuana']\n"
     ],
     "output_type": "stream"
    }
   ],
   "source": [
    "def desacerse_de_columnasNulas_en_comun(df1,df2,l1,l2):\n",
    "    colABorrar = []\n",
    "    for elemento in l1:\n",
    "        if (not elemento in l2):\n",
    "            continue\n",
    "        colABorrar.append(elemento)\n",
    "    print(colABorrar)\n",
    "    df1 = df1.drop(columns=colABorrar)\n",
    "    df2 = df2.drop(columns=colABorrar)\n",
    "    return df1,df2\n",
    "train_set,test_set = desacerse_de_columnasNulas_en_comun(train_set,test_set,n1,n2)"
   ],
   "metadata": {
    "collapsed": false,
    "pycharm": {
     "name": "#%% \n",
     "is_executing": false
    }
   }
  },
  {
   "cell_type": "code",
   "execution_count": 24,
   "metadata": {
    "pycharm": {
     "is_executing": false,
     "name": "#%%\n"
    }
   },
   "outputs": [],
   "source": [
    "def ensamble(df,n,prediccion):\n",
    "    #df['prediccion'] = prediccion\n",
    "    #df['prediccion'] = df['prediccion'].round()\n",
    "    df['target'] = df['target'] + prediccion.round()\n",
    "    n += 1\n",
    "    return (n,df)\n",
    "\n",
    "def calcular_resultado_de_prediccion(df,n):\n",
    "    \"\"\"para ensambles redondeados\"\"\"\n",
    "    df['target'] = df['target'].div(n).round()\n",
    "    return df\n",
    "\n",
    "def calcular_resultado_de_prediccion_segun_norma(df,n):\n",
    "    \"\"\"para ensambles sin redondeo\"\"\"\n",
    "    num = n**0.5\n",
    "    df['target'] = df['target'].div(num).round()\n",
    "    return df"
   ]
  },
  {
   "cell_type": "code",
   "execution_count": 25,
   "outputs": [],
   "source": [
    "def busqueda_binaria_de_maximos(listasDeParametros,nParametros,n=0,funcion=None):\n",
    "    if (n == len(listasDeParametros)):\n",
    "        parametros = []\n",
    "        for i in range(n):\n",
    "            parametros.append(listasDeParametros[i][nParametros[i]])\n",
    "        print(parametros)\n",
    "        #return ultimo_Hiper_Parametro_catboost(parametros),parametros\n",
    "        return funcion(parametros),parametros\n",
    "    \n",
    "    posIzq = 0\n",
    "    posDer = len(listasDeParametros[n])-1\n",
    "    \n",
    "    nParametros[n] = posIzq\n",
    "    izq,parametrosOptimos = busqueda_binaria_de_maximos(listasDeParametros,nParametros,n+1,funcion)\n",
    "    \n",
    "    nParametros[n] = posDer\n",
    "    der,parametrosOptimos = busqueda_binaria_de_maximos(listasDeParametros,nParametros,n+1,funcion)\n",
    "    \n",
    "    while posIzq <= posDer:\n",
    "        posMedio = (posIzq+posDer)//2\n",
    "\n",
    "        if (posDer - posIzq <= 1):\n",
    "            if (izq > der):\n",
    "                return izq,parametrosOptimos\n",
    "            return der,parametrosOptimos\n",
    "\n",
    "        elif izq > der:\n",
    "            posDer = posMedio\n",
    "            nParametros[n] = posDer\n",
    "            der,parametrosOptimos = busqueda_binaria_de_maximos(listasDeParametros,nParametros,n+1,funcion)\n",
    "    \n",
    "        else:\n",
    "            posIzq = posMedio\n",
    "            nParametros[n] = posIzq\n",
    "            izq,parametrosOptimos = busqueda_binaria_de_maximos(listasDeParametros,nParametros,n+1,funcion)\n",
    "        \n",
    "    return -1,[-1]\n",
    "\n",
    "def ultimo_Hiper_Parametro_catboost(parametros):\n",
    "    # Initialize CatBoostRegressor\n",
    "    model = CatBoostRegressor(iterations=parametros[0],\n",
    "                              learning_rate=parametros[1],\n",
    "                              depth=parametros[2])\n",
    "    # Fit model\n",
    "    model.fit(train_set, train_label)\n",
    "    # Get predictions\n",
    "    predicion = model.predict(test_set)\n",
    "    \n",
    "    ######verificacion de hiperparamentros\n",
    "    resultados_de_prediccion = pd.read_csv('sample_submission.csv',index_col=['id'])\n",
    "    cantidadDePredicciones,resultados_de_prediccion = ensamble(resultados_de_prediccion,0,predicion)\n",
    "    maximo_local = F1(resultados_de_prediccion)\n",
    "    return maximo_local\n",
    "\n",
    "def ultimo_Hiper_Parametro_XGBoost(parametros):\n",
    "    xgb_reg = xgb.XGBRegressor(max_depth = parametros[0], \n",
    "                               colsample_bytree = parametros[1], \n",
    "                               learning_rate = parametros[2], \n",
    "                               alpha = parametros[3],\n",
    "                               objetive = 'reg:squarederror')\n",
    "    \n",
    "    xgb_reg.fit(train_set, train_label)\n",
    "\n",
    "    ######verificacion de hiperparamentros\n",
    "    resultados_de_prediccion = pd.read_csv('sample_submission.csv',index_col=['id'])\n",
    "    predicts = xgb_reg.predict(test_set).round()\n",
    "    resultados_de_prediccion['target'] = predicts\n",
    "    maximo_local = F1(resultados_de_prediccion)\n",
    "    return maximo_local\n",
    "\n",
    "def ultimo_Hiper_Parametro_Ramdom_forest(parametros):\n",
    "    \n",
    "    rf = RandomForestRegressor(random_state=parametros[0],\n",
    "                               n_estimators = parametros[1],\n",
    "                               max_features = parametros[2])\n",
    "    rf.fit(train_set, train_label)\n",
    "\n",
    "    ######verificacion de hiperparamentros\n",
    "    resultados_de_prediccion = pd.read_csv('sample_submission.csv',index_col=['id'])\n",
    "    predicts = rf.predict(test_set).round()\n",
    "    resultados_de_prediccion['target'] = predicts\n",
    "    maximo_local = F1(resultados_de_prediccion)\n",
    "    return maximo_local"
   ],
   "metadata": {
    "collapsed": false,
    "pycharm": {
     "name": "#%%\n",
     "is_executing": false
    }
   }
  },
  {
   "cell_type": "code",
   "execution_count": 58,
   "outputs": [
    {
     "name": "stdout",
     "text": [
      "[6, 0.61, 12]\n",
      "0:\tlearn: 0.4810488\ttotal: 88ms\tremaining: 440ms\n1:\tlearn: 0.4392948\ttotal: 231ms\tremaining: 462ms\n",
      "2:\tlearn: 0.4265677\ttotal: 363ms\tremaining: 363ms\n3:\tlearn: 0.4240152\ttotal: 456ms\tremaining: 228ms\n4:\tlearn: 0.4203388\ttotal: 543ms\tremaining: 109ms\n",
      "5:\tlearn: 0.4141245\ttotal: 651ms\tremaining: 0us\n[6, 0.61, 14]\n",
      "0:\tlearn: 0.4775815\ttotal: 433ms\tremaining: 2.17s\n",
      "1:\tlearn: 0.4138943\ttotal: 810ms\tremaining: 1.62s\n",
      "2:\tlearn: 0.3881842\ttotal: 1.19s\tremaining: 1.19s\n",
      "3:\tlearn: 0.3845931\ttotal: 1.59s\tremaining: 795ms\n",
      "4:\tlearn: 0.3703482\ttotal: 1.97s\tremaining: 395ms\n",
      "5:\tlearn: 0.3691649\ttotal: 2.35s\tremaining: 0us\n[6, 0.61, 13]\n",
      "0:\tlearn: 0.4797754\ttotal: 166ms\tremaining: 828ms\n",
      "1:\tlearn: 0.4232772\ttotal: 391ms\tremaining: 782ms\n2:\tlearn: 0.4123481\ttotal: 563ms\tremaining: 563ms\n",
      "3:\tlearn: 0.4102754\ttotal: 784ms\tremaining: 392ms\n",
      "4:\tlearn: 0.4050274\ttotal: 989ms\tremaining: 198ms\n5:\tlearn: 0.4030864\ttotal: 1.16s\tremaining: 0us\n",
      "[6, 0.63, 12]\n",
      "0:\tlearn: 0.4807788\ttotal: 97.9ms\tremaining: 490ms\n1:\tlearn: 0.4440835\ttotal: 184ms\tremaining: 368ms\n2:\tlearn: 0.4370019\ttotal: 264ms\tremaining: 264ms\n",
      "3:\tlearn: 0.4338432\ttotal: 355ms\tremaining: 177ms\n4:\tlearn: 0.4083445\ttotal: 514ms\tremaining: 103ms\n",
      "5:\tlearn: 0.4065329\ttotal: 615ms\tremaining: 0us\n[6, 0.63, 14]\n",
      "0:\tlearn: 0.4772297\ttotal: 445ms\tremaining: 2.22s\n",
      "1:\tlearn: 0.4120957\ttotal: 852ms\tremaining: 1.7s\n",
      "2:\tlearn: 0.3865632\ttotal: 1.26s\tremaining: 1.26s\n",
      "3:\tlearn: 0.3829883\ttotal: 1.67s\tremaining: 837ms\n",
      "4:\tlearn: 0.3688628\ttotal: 2.05s\tremaining: 410ms\n",
      "5:\tlearn: 0.3676273\ttotal: 2.42s\tremaining: 0us\n[6, 0.63, 13]\n",
      "0:\tlearn: 0.4794769\ttotal: 179ms\tremaining: 897ms\n",
      "1:\tlearn: 0.4218326\ttotal: 393ms\tremaining: 786ms\n2:\tlearn: 0.4145150\ttotal: 568ms\tremaining: 568ms\n",
      "3:\tlearn: 0.4126979\ttotal: 784ms\tremaining: 392ms\n",
      "4:\tlearn: 0.4059243\ttotal: 1s\tremaining: 201ms\n5:\tlearn: 0.3902254\ttotal: 1.17s\tremaining: 0us\n",
      "[6, 0.62, 12]\n0:\tlearn: 0.4809123\ttotal: 85.1ms\tremaining: 426ms\n",
      "1:\tlearn: 0.4397404\ttotal: 172ms\tremaining: 345ms\n2:\tlearn: 0.4165118\ttotal: 362ms\tremaining: 362ms\n",
      "3:\tlearn: 0.4128950\ttotal: 466ms\tremaining: 233ms\n4:\tlearn: 0.4105654\ttotal: 546ms\tremaining: 109ms\n",
      "5:\tlearn: 0.4089913\ttotal: 638ms\tremaining: 0us\n",
      "[6, 0.62, 14]\n",
      "0:\tlearn: 0.4774038\ttotal: 414ms\tremaining: 2.07s\n",
      "1:\tlearn: 0.4129888\ttotal: 785ms\tremaining: 1.57s\n",
      "2:\tlearn: 0.3873638\ttotal: 1.18s\tremaining: 1.18s\n",
      "3:\tlearn: 0.3837812\ttotal: 1.56s\tremaining: 782ms\n",
      "4:\tlearn: 0.3695964\ttotal: 1.96s\tremaining: 391ms\n",
      "5:\tlearn: 0.3684156\ttotal: 2.34s\tremaining: 0us\n[6, 0.62, 13]\n",
      "0:\tlearn: 0.4796245\ttotal: 185ms\tremaining: 927ms\n",
      "1:\tlearn: 0.4225483\ttotal: 408ms\tremaining: 815ms\n2:\tlearn: 0.4150088\ttotal: 572ms\tremaining: 572ms\n",
      "3:\tlearn: 0.4125210\ttotal: 858ms\tremaining: 429ms\n",
      "4:\tlearn: 0.4057449\ttotal: 1.06s\tremaining: 213ms\n5:\tlearn: 0.3976035\ttotal: 1.24s\tremaining: 0us\n",
      "[8, 0.61, 12]\n",
      "0:\tlearn: 0.4810488\ttotal: 89ms\tremaining: 623ms\n1:\tlearn: 0.4392948\ttotal: 176ms\tremaining: 529ms\n",
      "2:\tlearn: 0.4265677\ttotal: 319ms\tremaining: 532ms\n3:\tlearn: 0.4240152\ttotal: 430ms\tremaining: 430ms\n4:\tlearn: 0.4203388\ttotal: 512ms\tremaining: 307ms\n",
      "5:\tlearn: 0.4141245\ttotal: 604ms\tremaining: 201ms\n",
      "6:\tlearn: 0.4126277\ttotal: 755ms\tremaining: 108ms\n7:\tlearn: 0.4113772\ttotal: 849ms\tremaining: 0us\n",
      "[8, 0.61, 14]\n",
      "0:\tlearn: 0.4775815\ttotal: 392ms\tremaining: 2.75s\n",
      "1:\tlearn: 0.4138943\ttotal: 848ms\tremaining: 2.54s\n",
      "2:\tlearn: 0.3881842\ttotal: 1.3s\tremaining: 2.17s\n",
      "3:\tlearn: 0.3845931\ttotal: 1.71s\tremaining: 1.71s\n",
      "4:\tlearn: 0.3703482\ttotal: 2.13s\tremaining: 1.27s\n",
      "5:\tlearn: 0.3691649\ttotal: 2.53s\tremaining: 845ms\n",
      "6:\tlearn: 0.3686152\ttotal: 2.93s\tremaining: 418ms\n",
      "7:\tlearn: 0.3650609\ttotal: 3.36s\tremaining: 0us\n[8, 0.61, 13]\n",
      "0:\tlearn: 0.4797754\ttotal: 164ms\tremaining: 1.15s\n",
      "1:\tlearn: 0.4232772\ttotal: 399ms\tremaining: 1.2s\n2:\tlearn: 0.4123481\ttotal: 575ms\tremaining: 959ms\n",
      "3:\tlearn: 0.4102754\ttotal: 791ms\tremaining: 791ms\n",
      "4:\tlearn: 0.4050274\ttotal: 1s\tremaining: 601ms\n5:\tlearn: 0.4030864\ttotal: 1.18s\tremaining: 394ms\n",
      "6:\tlearn: 0.3974655\ttotal: 1.44s\tremaining: 205ms\n",
      "7:\tlearn: 0.3958613\ttotal: 1.65s\tremaining: 0us\n[8, 0.63, 12]\n",
      "0:\tlearn: 0.4807788\ttotal: 107ms\tremaining: 748ms\n1:\tlearn: 0.4440835\ttotal: 277ms\tremaining: 831ms\n",
      "2:\tlearn: 0.4370019\ttotal: 377ms\tremaining: 629ms\n3:\tlearn: 0.4338432\ttotal: 464ms\tremaining: 464ms\n4:\tlearn: 0.4083445\ttotal: 548ms\tremaining: 329ms\n",
      "5:\tlearn: 0.4065329\ttotal: 651ms\tremaining: 217ms\n6:\tlearn: 0.4053030\ttotal: 800ms\tremaining: 114ms\n",
      "7:\tlearn: 0.4018112\ttotal: 899ms\tremaining: 0us\n[8, 0.63, 14]\n",
      "0:\tlearn: 0.4772297\ttotal: 473ms\tremaining: 3.31s\n",
      "1:\tlearn: 0.4120957\ttotal: 900ms\tremaining: 2.7s\n",
      "2:\tlearn: 0.3865632\ttotal: 1.29s\tremaining: 2.16s\n",
      "3:\tlearn: 0.3829883\ttotal: 1.71s\tremaining: 1.71s\n",
      "4:\tlearn: 0.3688628\ttotal: 2.1s\tremaining: 1.26s\n",
      "5:\tlearn: 0.3676273\ttotal: 2.48s\tremaining: 827ms\n",
      "6:\tlearn: 0.3670128\ttotal: 2.89s\tremaining: 413ms\n",
      "7:\tlearn: 0.3653174\ttotal: 3.32s\tremaining: 0us\n[8, 0.63, 13]\n",
      "0:\tlearn: 0.4794769\ttotal: 170ms\tremaining: 1.19s\n",
      "1:\tlearn: 0.4218326\ttotal: 397ms\tremaining: 1.19s\n2:\tlearn: 0.4145150\ttotal: 567ms\tremaining: 944ms\n",
      "3:\tlearn: 0.4126979\ttotal: 792ms\tremaining: 792ms\n",
      "4:\tlearn: 0.4059243\ttotal: 994ms\tremaining: 596ms\n5:\tlearn: 0.3902254\ttotal: 1.18s\tremaining: 394ms\n",
      "6:\tlearn: 0.3871771\ttotal: 1.4s\tremaining: 200ms\n",
      "7:\tlearn: 0.3853334\ttotal: 1.61s\tremaining: 0us\n[8, 0.62, 12]\n",
      "0:\tlearn: 0.4809123\ttotal: 91.8ms\tremaining: 643ms\n1:\tlearn: 0.4397404\ttotal: 249ms\tremaining: 747ms\n",
      "2:\tlearn: 0.4165118\ttotal: 366ms\tremaining: 610ms\n3:\tlearn: 0.4128950\ttotal: 447ms\tremaining: 447ms\n4:\tlearn: 0.4105654\ttotal: 530ms\tremaining: 318ms\n",
      "5:\tlearn: 0.4089913\ttotal: 635ms\tremaining: 212ms\n6:\tlearn: 0.4050773\ttotal: 772ms\tremaining: 110ms\n",
      "7:\tlearn: 0.4037208\ttotal: 872ms\tremaining: 0us\n[8, 0.62, 14]\n",
      "0:\tlearn: 0.4774038\ttotal: 477ms\tremaining: 3.34s\n",
      "1:\tlearn: 0.4129888\ttotal: 890ms\tremaining: 2.67s\n",
      "2:\tlearn: 0.3873638\ttotal: 1.3s\tremaining: 2.16s\n",
      "3:\tlearn: 0.3837812\ttotal: 1.69s\tremaining: 1.69s\n",
      "4:\tlearn: 0.3695964\ttotal: 2.07s\tremaining: 1.24s\n",
      "5:\tlearn: 0.3684156\ttotal: 2.46s\tremaining: 820ms\n",
      "6:\tlearn: 0.3678664\ttotal: 2.84s\tremaining: 405ms\n",
      "7:\tlearn: 0.3664825\ttotal: 3.2s\tremaining: 0us\n[8, 0.62, 13]\n",
      "0:\tlearn: 0.4796245\ttotal: 173ms\tremaining: 1.21s\n1:\tlearn: 0.4225483\ttotal: 353ms\tremaining: 1.06s\n",
      "2:\tlearn: 0.4150088\ttotal: 557ms\tremaining: 929ms\n3:\tlearn: 0.4125210\ttotal: 755ms\tremaining: 755ms\n",
      "4:\tlearn: 0.4057449\ttotal: 956ms\tremaining: 573ms\n5:\tlearn: 0.3976035\ttotal: 1.14s\tremaining: 379ms\n",
      "6:\tlearn: 0.3954119\ttotal: 1.31s\tremaining: 188ms\n",
      "7:\tlearn: 0.3938899\ttotal: 1.56s\tremaining: 0us\n[7, 0.61, 12]\n",
      "0:\tlearn: 0.4810488\ttotal: 99.5ms\tremaining: 597ms\n1:\tlearn: 0.4392948\ttotal: 189ms\tremaining: 472ms\n2:\tlearn: 0.4265677\ttotal: 274ms\tremaining: 365ms\n",
      "3:\tlearn: 0.4240152\ttotal: 376ms\tremaining: 282ms\n4:\tlearn: 0.4203388\ttotal: 463ms\tremaining: 185ms\n5:\tlearn: 0.4141245\ttotal: 544ms\tremaining: 90.6ms\n",
      "6:\tlearn: 0.4126277\ttotal: 654ms\tremaining: 0us\n[7, 0.61, 14]\n",
      "0:\tlearn: 0.4775815\ttotal: 417ms\tremaining: 2.5s\n",
      "1:\tlearn: 0.4138943\ttotal: 804ms\tremaining: 2.01s\n",
      "2:\tlearn: 0.3881842\ttotal: 1.2s\tremaining: 1.6s\n",
      "3:\tlearn: 0.3845931\ttotal: 1.57s\tremaining: 1.18s\n",
      "4:\tlearn: 0.3703482\ttotal: 1.97s\tremaining: 788ms\n",
      "5:\tlearn: 0.3691649\ttotal: 2.36s\tremaining: 393ms\n",
      "6:\tlearn: 0.3686152\ttotal: 2.72s\tremaining: 0us\n[7, 0.61, 13]\n",
      "0:\tlearn: 0.4797754\ttotal: 168ms\tremaining: 1.01s\n",
      "1:\tlearn: 0.4232772\ttotal: 376ms\tremaining: 940ms\n2:\tlearn: 0.4123481\ttotal: 549ms\tremaining: 732ms\n",
      "3:\tlearn: 0.4102754\ttotal: 763ms\tremaining: 572ms\n",
      "4:\tlearn: 0.4050274\ttotal: 970ms\tremaining: 388ms\n5:\tlearn: 0.4030864\ttotal: 1.14s\tremaining: 191ms\n",
      "6:\tlearn: 0.3974655\ttotal: 1.37s\tremaining: 0us\n[7, 0.63, 12]\n",
      "0:\tlearn: 0.4807788\ttotal: 95.6ms\tremaining: 574ms\n1:\tlearn: 0.4440835\ttotal: 179ms\tremaining: 448ms\n2:\tlearn: 0.4370019\ttotal: 259ms\tremaining: 345ms\n",
      "3:\tlearn: 0.4338432\ttotal: 353ms\tremaining: 265ms\n4:\tlearn: 0.4083445\ttotal: 439ms\tremaining: 176ms\n5:\tlearn: 0.4065329\ttotal: 522ms\tremaining: 87.1ms\n",
      "6:\tlearn: 0.4053030\ttotal: 624ms\tremaining: 0us\n[7, 0.63, 14]\n",
      "0:\tlearn: 0.4772297\ttotal: 416ms\tremaining: 2.5s\n",
      "1:\tlearn: 0.4120957\ttotal: 801ms\tremaining: 2s\n",
      "2:\tlearn: 0.3865632\ttotal: 1.19s\tremaining: 1.59s\n",
      "3:\tlearn: 0.3829883\ttotal: 1.59s\tremaining: 1.19s\n",
      "4:\tlearn: 0.3688628\ttotal: 1.96s\tremaining: 785ms\n",
      "5:\tlearn: 0.3676273\ttotal: 2.34s\tremaining: 390ms\n",
      "6:\tlearn: 0.3670128\ttotal: 2.69s\tremaining: 0us\n[7, 0.63, 13]\n",
      "0:\tlearn: 0.4794769\ttotal: 201ms\tremaining: 1.21s\n1:\tlearn: 0.4218326\ttotal: 390ms\tremaining: 976ms\n",
      "2:\tlearn: 0.4145150\ttotal: 570ms\tremaining: 760ms\n",
      "3:\tlearn: 0.4126979\ttotal: 804ms\tremaining: 603ms\n",
      "4:\tlearn: 0.4059243\ttotal: 1.01s\tremaining: 404ms\n5:\tlearn: 0.3902254\ttotal: 1.18s\tremaining: 196ms\n",
      "6:\tlearn: 0.3871771\ttotal: 1.41s\tremaining: 0us\n[7, 0.62, 12]\n",
      "0:\tlearn: 0.4809123\ttotal: 101ms\tremaining: 607ms\n1:\tlearn: 0.4397404\ttotal: 191ms\tremaining: 478ms\n2:\tlearn: 0.4165118\ttotal: 274ms\tremaining: 366ms\n",
      "3:\tlearn: 0.4128950\ttotal: 368ms\tremaining: 276ms\n4:\tlearn: 0.4105654\ttotal: 509ms\tremaining: 203ms\n",
      "5:\tlearn: 0.4089913\ttotal: 625ms\tremaining: 104ms\n6:\tlearn: 0.4050773\ttotal: 716ms\tremaining: 0us\n[7, 0.62, 14]",
      "\n",
      "0:\tlearn: 0.4774038\ttotal: 425ms\tremaining: 2.55s\n",
      "1:\tlearn: 0.4129888\ttotal: 831ms\tremaining: 2.08s\n",
      "2:\tlearn: 0.3873638\ttotal: 1.24s\tremaining: 1.65s\n",
      "3:\tlearn: 0.3837812\ttotal: 1.63s\tremaining: 1.22s\n",
      "4:\tlearn: 0.3695964\ttotal: 2s\tremaining: 799ms\n",
      "5:\tlearn: 0.3684156\ttotal: 2.37s\tremaining: 394ms\n",
      "6:\tlearn: 0.3678664\ttotal: 2.75s\tremaining: 0us\n[7, 0.62, 13]\n",
      "0:\tlearn: 0.4796245\ttotal: 204ms\tremaining: 1.22s\n1:\tlearn: 0.4225483\ttotal: 383ms\tremaining: 959ms\n",
      "2:\tlearn: 0.4150088\ttotal: 575ms\tremaining: 766ms\n3:\tlearn: 0.4125210\ttotal: 751ms\tremaining: 563ms\n",
      "4:\tlearn: 0.4057449\ttotal: 931ms\tremaining: 372ms\n",
      "5:\tlearn: 0.3976035\ttotal: 1.14s\tremaining: 190ms\n6:\tlearn: 0.3954119\ttotal: 1.32s\tremaining: 0us\n",
      "maximo 0.6609907120743034 parametros (iter,learning,profundidad) [7, 0.62, 13]\n"
     ],
     "output_type": "stream"
    }
   ],
   "source": [
    "#los rangos se van afinando segun corren las pruevas\n",
    "def busqueda_de_hiperparametros_optimos_catboost_busqueda_binaria():\n",
    "    parametrosCatboostIter = list(range(6,9,1))\n",
    "    parametrosCatboostLR = list(range(61,64,1))\n",
    "    for i in range(len(parametrosCatboostLR)):\n",
    "        parametrosCatboostLR[i] /= 100\n",
    "    parametrosCatboostProfundidad = list(range(12,15,1))\n",
    "    listaDeParametros = [parametrosCatboostIter,parametrosCatboostLR,parametrosCatboostProfundidad]\n",
    "    maximo,parametros =busqueda_binaria_de_maximos(listaDeParametros,\n",
    "                                                   [0,0,0],\n",
    "                                                   0,\n",
    "                                                   ultimo_Hiper_Parametro_catboost)\n",
    "    print(\"maximo {} parametros (iter,learning,profundidad) {}\".format(maximo,parametros))\n",
    "busqueda_de_hiperparametros_optimos_catboost_busqueda_binaria()"
   ],
   "metadata": {
    "collapsed": false,
    "pycharm": {
     "name": "#%%\n",
     "is_executing": false
    }
   }
  },
  {
   "cell_type": "code",
   "execution_count": 32,
   "metadata": {
    "pycharm": {
     "is_executing": false,
     "name": "#%%\n"
    }
   },
   "outputs": [
    {
     "name": "stdout",
     "text": [
      "0:\tlearn: 0.4796245\ttotal: 173ms\tremaining: 1.04s\n",
      "1:\tlearn: 0.4225483\ttotal: 415ms\tremaining: 1.04s\n2:\tlearn: 0.4150088\ttotal: 584ms\tremaining: 779ms\n",
      "3:\tlearn: 0.4125210\ttotal: 830ms\tremaining: 623ms\n",
      "4:\tlearn: 0.4057449\ttotal: 1.05s\tremaining: 421ms\n5:\tlearn: 0.3976035\ttotal: 1.23s\tremaining: 205ms\n",
      "6:\tlearn: 0.3954119\ttotal: 1.47s\tremaining: 0us\nprediccion =  1\n",
      "0:\tlearn: 0.4774038\ttotal: 347ms\tremaining: 2.08s\n",
      "1:\tlearn: 0.4129888\ttotal: 761ms\tremaining: 1.9s\n",
      "2:\tlearn: 0.3873638\ttotal: 1.15s\tremaining: 1.53s\n",
      "3:\tlearn: 0.3837812\ttotal: 1.5s\tremaining: 1.13s\n",
      "4:\tlearn: 0.3695964\ttotal: 1.89s\tremaining: 756ms\n",
      "5:\tlearn: 0.3684156\ttotal: 2.28s\tremaining: 380ms\n",
      "6:\tlearn: 0.3678664\ttotal: 2.68s\tremaining: 0us\nprediccion =  2\n",
      "0:\tlearn: 0.4734098\ttotal: 797ms\tremaining: 4.78s\n",
      "1:\tlearn: 0.4166300\ttotal: 1.66s\tremaining: 4.16s\n",
      "2:\tlearn: 0.3977852\ttotal: 2.51s\tremaining: 3.35s\n",
      "3:\tlearn: 0.3840144\ttotal: 3.35s\tremaining: 2.51s\n",
      "4:\tlearn: 0.3777272\ttotal: 4.21s\tremaining: 1.68s\n5:\tlearn: 0.3765433\ttotal: 4.26s\tremaining: 711ms\n",
      "6:\tlearn: 0.3746086\ttotal: 5.07s\tremaining: 0us\nprediccion =  3\n",
      "0:\tlearn: 0.4794769\ttotal: 172ms\tremaining: 1.03s\n",
      "1:\tlearn: 0.4218326\ttotal: 406ms\tremaining: 1.01s\n2:\tlearn: 0.4145150\ttotal: 578ms\tremaining: 771ms\n",
      "3:\tlearn: 0.4126979\ttotal: 798ms\tremaining: 599ms\n",
      "4:\tlearn: 0.4059243\ttotal: 1.01s\tremaining: 404ms\n5:\tlearn: 0.3902254\ttotal: 1.19s\tremaining: 198ms\n",
      "6:\tlearn: 0.3871771\ttotal: 1.41s\tremaining: 0us\nprediccion =  4\n",
      "0:\tlearn: 0.4772297\ttotal: 345ms\tremaining: 2.07s\n",
      "1:\tlearn: 0.4120957\ttotal: 756ms\tremaining: 1.89s\n",
      "2:\tlearn: 0.3865632\ttotal: 1.15s\tremaining: 1.53s\n",
      "3:\tlearn: 0.3829883\ttotal: 1.51s\tremaining: 1.14s\n",
      "4:\tlearn: 0.3688628\ttotal: 1.89s\tremaining: 755ms\n",
      "5:\tlearn: 0.3676273\ttotal: 2.25s\tremaining: 375ms\n",
      "6:\tlearn: 0.3670128\ttotal: 2.59s\tremaining: 0us\nprediccion =  5\n",
      "0:\tlearn: 0.4731923\ttotal: 757ms\tremaining: 4.54s\n",
      "1:\tlearn: 0.4158403\ttotal: 1.56s\tremaining: 3.9s\n",
      "2:\tlearn: 0.3970592\ttotal: 2.36s\tremaining: 3.14s\n",
      "3:\tlearn: 0.3833727\ttotal: 3.22s\tremaining: 2.41s\n",
      "4:\tlearn: 0.3766744\ttotal: 4.05s\tremaining: 1.62s\n5:\tlearn: 0.3755794\ttotal: 4.11s\tremaining: 684ms\n",
      "6:\tlearn: 0.3734553\ttotal: 4.93s\tremaining: 0us\nprediccion =  6\n",
      "0:\tlearn: 0.4793325\ttotal: 166ms\tremaining: 998ms\n",
      "1:\tlearn: 0.4211299\ttotal: 386ms\tremaining: 966ms\n2:\tlearn: 0.4138870\ttotal: 557ms\tremaining: 742ms\n",
      "3:\tlearn: 0.4120864\ttotal: 755ms\tremaining: 566ms\n4:\tlearn: 0.4060948\ttotal: 975ms\tremaining: 390ms\n",
      "5:\tlearn: 0.3942947\ttotal: 1.15s\tremaining: 191ms\n",
      "6:\tlearn: 0.3907034\ttotal: 1.34s\tremaining: 0us\n",
      "prediccion =  7\n",
      "0:\tlearn: 0.4770593\ttotal: 358ms\tremaining: 2.15s\n",
      "1:\tlearn: 0.4112150\ttotal: 735ms\tremaining: 1.84s\n",
      "2:\tlearn: 0.3857820\ttotal: 1.12s\tremaining: 1.49s\n",
      "3:\tlearn: 0.3822139\ttotal: 1.48s\tremaining: 1.11s\n",
      "4:\tlearn: 0.3681469\ttotal: 1.84s\tremaining: 736ms\n",
      "5:\tlearn: 0.3669137\ttotal: 2.2s\tremaining: 367ms\n",
      "6:\tlearn: 0.3662970\ttotal: 2.59s\tremaining: 0us\nprediccion = ",
      " 8\n",
      "0:\tlearn: 0.4729792\ttotal: 818ms\tremaining: 4.91s\n",
      "1:\tlearn: 0.4155040\ttotal: 1.71s\tremaining: 4.26s\n",
      "2:\tlearn: 0.3945514\ttotal: 2.58s\tremaining: 3.43s\n3:\tlearn: 0.3928097\ttotal: 2.6s\tremaining: 1.95s\n",
      "4:\tlearn: 0.3794825\ttotal: 3.41s\tremaining: 1.36s\n",
      "5:\tlearn: 0.3782057\ttotal: 4.19s\tremaining: 699ms\n",
      "6:\tlearn: 0.3768274\ttotal: 4.99s\tremaining: 0us\nprediccion =  9\n",
      "0:\tlearn: 0.4791914\ttotal: 174ms\tremaining: 1.04s\n",
      "1:\tlearn: 0.4204402\ttotal: 392ms\tremaining: 980ms\n2:\tlearn: 0.4111904\ttotal: 563ms\tremaining: 750ms\n",
      "3:\tlearn: 0.4092903\ttotal: 788ms\tremaining: 591ms\n",
      "4:\tlearn: 0.4059373\ttotal: 991ms\tremaining: 396ms\n5:\tlearn: 0.3961076\ttotal: 1.17s\tremaining: 195ms\n",
      "6:\tlearn: 0.3928478\ttotal: 1.37s\tremaining: 0us\nprediccion =  10\n",
      "0:\tlearn: 0.4768924\ttotal: 350ms\tremaining: 2.1s\n",
      "1:\tlearn: 0.4103465\ttotal: 750ms\tremaining: 1.88s\n",
      "2:\tlearn: 0.3850196\ttotal: 1.12s\tremaining: 1.49s\n",
      "3:\tlearn: 0.3814575\ttotal: 1.5s\tremaining: 1.12s\n",
      "4:\tlearn: 0.3674481\ttotal: 1.86s\tremaining: 742ms\n",
      "5:\tlearn: 0.3662172\ttotal: 2.2s\tremaining: 367ms\n",
      "6:\tlearn: 0.3655982\ttotal: 2.56s\tremaining: 0us\nprediccion =  11\n",
      "0:\tlearn: 0.4727704\ttotal: 743ms\tremaining: 4.46s\n",
      "1:\tlearn: 0.4147415\ttotal: 1.58s\tremaining: 3.96s\n",
      "2:\tlearn: 0.3980707\ttotal: 2.39s\tremaining: 3.19s\n",
      "3:\tlearn: 0.3951007\ttotal: 3.24s\tremaining: 2.43s\n",
      "4:\tlearn: 0.3818681\ttotal: 4.06s\tremaining: 1.62s\n",
      "5:\tlearn: 0.3797994\ttotal: 4.94s\tremaining: 823ms\n",
      "6:\tlearn: 0.3781986\ttotal: 5.79s\tremaining: 0us\nprediccion = ",
      " 12\n0.2773497688751926\n"
     ],
     "output_type": "stream"
    }
   ],
   "source": [
    "resultados_de_prediccion = pd.read_csv('sample_submission.csv',index_col=['id'])\n",
    "cantidadDePredicciones = 0\n",
    "#catboost\n",
    "for iter in range(7,8,1):\n",
    "    for lR in range(62,66,1):\n",
    "        learningRate = lR / 100\n",
    "        for profundidad in range(13,16):\n",
    "            # Initialize CatBoostRegressor\n",
    "            model = CatBoostRegressor(iterations=iter,\n",
    "                                      learning_rate=learningRate,\n",
    "                                      depth=profundidad)\n",
    "            # Fit model\n",
    "            model.fit(train_set, train_label)\n",
    "            # Get predictions\n",
    "            predicion = model.predict(test_set)\n",
    "            cantidadDePredicciones,resultados_de_prediccion = ensamble(resultados_de_prediccion,cantidadDePredicciones,predicion)\n",
    "            print(\"prediccion = \",cantidadDePredicciones)\n",
    "\n",
    "cantidadDePredicciones,resultados_de_prediccion = ensamble(resultados_de_prediccion,cantidadDePredicciones,predicion)\n",
    "print(F1(resultados_de_prediccion))"
   ]
  },
  {
   "cell_type": "code",
   "execution_count": 37,
   "outputs": [
    {
     "name": "stdout",
     "text": [
      "0:\tlearn: 0.4734098\ttotal: 730ms\tremaining: 4.38s\n",
      "1:\tlearn: 0.4166300\ttotal: 1.59s\tremaining: 3.97s\n",
      "2:\tlearn: 0.3977852\ttotal: 2.41s\tremaining: 3.21s\n",
      "3:\tlearn: 0.3840144\ttotal: 3.27s\tremaining: 2.45s\n",
      "4:\tlearn: 0.3777272\ttotal: 4.15s\tremaining: 1.66s\n5:\tlearn: 0.3765433\ttotal: 4.21s\tremaining: 701ms\n",
      "6:\tlearn: 0.3746086\ttotal: 5.04s\tremaining: 0us\n"
     ],
     "output_type": "stream"
    }
   ],
   "source": [
    "resultados_de_prediccion = pd.read_csv('sample_submission.csv',index_col=['id'])\n",
    "# Initialize CatBoostRegressor\n",
    "model = CatBoostRegressor(iterations=7,\n",
    "                          learning_rate=0.62,\n",
    "                          depth=15)\n",
    "# Fit model\n",
    "model.fit(train_set, train_label)\n",
    "# Get predictions\n",
    "predicion = model.predict(test_set)\n",
    "cantidadDePredicciones,resultados_de_prediccion = ensamble(resultados_de_prediccion,0,predicion)"
   ],
   "metadata": {
    "collapsed": false,
    "pycharm": {
     "name": "#%%\n",
     "is_executing": false
    }
   }
  },
  {
   "cell_type": "code",
   "execution_count": 38,
   "outputs": [
    {
     "name": "stdout",
     "text": [
      "1\n"
     ],
     "output_type": "stream"
    },
    {
     "data": {
      "text/plain": "                    target\nid                        \n0                     0.00\n2                     1.00\n3                     1.00\n9                     1.00\n11                    1.00\n...                    ...\n10861                 1.00\n10865                 1.00\n10868                 1.00\n10874                 1.00\n10875                 1.00\n\n[3263 rows x 1 columns]",
      "text/html": "<div>\n<style scoped>\n    .dataframe tbody tr th:only-of-type {\n        vertical-align: middle;\n    }\n\n    .dataframe tbody tr th {\n        vertical-align: top;\n    }\n\n    .dataframe thead th {\n        text-align: right;\n    }\n</style>\n<table border=\"1\" class=\"dataframe\">\n  <thead>\n    <tr style=\"text-align: right;\">\n      <th></th>\n      <th>target</th>\n    </tr>\n    <tr>\n      <th>id</th>\n      <th></th>\n    </tr>\n  </thead>\n  <tbody>\n    <tr>\n      <th>0</th>\n      <td>0.00</td>\n    </tr>\n    <tr>\n      <th>2</th>\n      <td>1.00</td>\n    </tr>\n    <tr>\n      <th>3</th>\n      <td>1.00</td>\n    </tr>\n    <tr>\n      <th>9</th>\n      <td>1.00</td>\n    </tr>\n    <tr>\n      <th>11</th>\n      <td>1.00</td>\n    </tr>\n    <tr>\n      <th>...</th>\n      <td>...</td>\n    </tr>\n    <tr>\n      <th>10861</th>\n      <td>1.00</td>\n    </tr>\n    <tr>\n      <th>10865</th>\n      <td>1.00</td>\n    </tr>\n    <tr>\n      <th>10868</th>\n      <td>1.00</td>\n    </tr>\n    <tr>\n      <th>10874</th>\n      <td>1.00</td>\n    </tr>\n    <tr>\n      <th>10875</th>\n      <td>1.00</td>\n    </tr>\n  </tbody>\n</table>\n<p>3263 rows × 1 columns</p>\n</div>"
     },
     "metadata": {},
     "output_type": "execute_result",
     "execution_count": 38
    }
   ],
   "source": [
    "resultados_de_prediccion = calcular_resultado_de_prediccion(resultados_de_prediccion,cantidadDePredicciones)\n",
    "print(cantidadDePredicciones)\n",
    "resultados_de_prediccion"
   ],
   "metadata": {
    "collapsed": false,
    "pycharm": {
     "name": "#%%\n",
     "is_executing": false
    }
   }
  },
  {
   "cell_type": "code",
   "execution_count": 39,
   "metadata": {
    "pycharm": {
     "is_executing": false,
     "name": "#%%\n"
    }
   },
   "outputs": [
    {
     "name": "stdout",
     "text": [
      "0.6312500000000001\n"
     ],
     "output_type": "stream"
    }
   ],
   "source": [
    "print(F1(resultados_de_prediccion))\n"
   ]
  },
  {
   "cell_type": "code",
   "execution_count": 63,
   "metadata": {
    "pycharm": {
     "is_executing": false,
     "name": "#%%\n"
    },
    "scrolled": true
   },
   "outputs": [
    {
     "data": {
      "text/plain": "target\n0    4342\n1    3271\ndtype: int64"
     },
     "metadata": {},
     "output_type": "execute_result",
     "execution_count": 63
    }
   ],
   "source": [
    "#para arbol verificar si esta balanceado o no\n",
    "tweets_entrenamiento = tweets_original_entrenamiento\n",
    "tweets_entrenamiento.groupby([\"target\"]).size()"
   ]
  },
  {
   "cell_type": "markdown",
   "metadata": {},
   "source": [
    "# XGBoost\n"
   ]
  },
  {
   "cell_type": "code",
   "execution_count": 26,
   "outputs": [],
   "source": [
    "test_set = eliminarErrorDeValores(test_set)\n",
    "train_set = eliminarErrorDeValores(train_set)"
   ],
   "metadata": {
    "collapsed": false,
    "pycharm": {
     "name": "#%%\n",
     "is_executing": false
    }
   }
  },
  {
   "cell_type": "code",
   "execution_count": 121,
   "outputs": [
    {
     "name": "stdout",
     "text": [
      "[23:52:21] WARNING: C:\\Users\\Administrator\\workspace\\xgboost-win64_release_1.1.0\\src\\learner.cc:480: \nParameters: { objetive } might not be used.\n\n  This may not be accurate due to some parameters are only used in language bindings but\n  passed down to XGBoost core.  Or some parameters are not used but slip through this\n  verification. Please open an issue if you find above cases.\n\n\n",
      "local 0.3649851632047478 max 0.3649851632047478\n",
      "[23:53:22] WARNING: C:\\Users\\Administrator\\workspace\\xgboost-win64_release_1.1.0\\src\\learner.cc:480: \nParameters: { objetive } might not be used.\n\n  This may not be accurate due to some parameters are only used in language bindings but\n  passed down to XGBoost core.  Or some parameters are not used but slip through this\n  verification. Please open an issue if you find above cases.\n\n\n",
      "local 0.363103953147877 max 0.3649851632047478\n",
      "[23:54:26] WARNING: C:\\Users\\Administrator\\workspace\\xgboost-win64_release_1.1.0\\src\\learner.cc:480: \nParameters: { objetive } might not be used.\n\n  This may not be accurate due to some parameters are only used in language bindings but\n  passed down to XGBoost core.  Or some parameters are not used but slip through this\n  verification. Please open an issue if you find above cases.\n\n\n",
      "local 0.3652173913043478 max 0.3652173913043478\n",
      "[23:55:31] WARNING: C:\\Users\\Administrator\\workspace\\xgboost-win64_release_1.1.0\\src\\learner.cc:480: \nParameters: { objetive } might not be used.\n\n  This may not be accurate due to some parameters are only used in language bindings but\n  passed down to XGBoost core.  Or some parameters are not used but slip through this\n  verification. Please open an issue if you find above cases.\n\n\n",
      "local 0.3590462833099579 max 0.3652173913043478\n",
      "[23:56:36] WARNING: C:\\Users\\Administrator\\workspace\\xgboost-win64_release_1.1.0\\src\\learner.cc:480: \nParameters: { objetive } might not be used.\n\n  This may not be accurate due to some parameters are only used in language bindings but\n  passed down to XGBoost core.  Or some parameters are not used but slip through this\n  verification. Please open an issue if you find above cases.\n\n\n",
      "local 0.3605150214592275 max 0.3652173913043478\n",
      "[23:57:29] WARNING: C:\\Users\\Administrator\\workspace\\xgboost-win64_release_1.1.0\\src\\learner.cc:480: \nParameters: { objetive } might not be used.\n\n  This may not be accurate due to some parameters are only used in language bindings but\n  passed down to XGBoost core.  Or some parameters are not used but slip through this\n  verification. Please open an issue if you find above cases.\n\n\n",
      "local 0.3705799151343706 max 0.3705799151343706\n",
      "[23:58:12] WARNING: C:\\Users\\Administrator\\workspace\\xgboost-win64_release_1.1.0\\src\\learner.cc:480: \nParameters: { objetive } might not be used.\n\n  This may not be accurate due to some parameters are only used in language bindings but\n  passed down to XGBoost core.  Or some parameters are not used but slip through this\n  verification. Please open an issue if you find above cases.\n\n\n",
      "local 0.35112359550561795 max 0.3705799151343706\n",
      "[23:59:16] WARNING: C:\\Users\\Administrator\\workspace\\xgboost-win64_release_1.1.0\\src\\learner.cc:480: \nParameters: { objetive } might not be used.\n\n  This may not be accurate due to some parameters are only used in language bindings but\n  passed down to XGBoost core.  Or some parameters are not used but slip through this\n  verification. Please open an issue if you find above cases.\n\n\n",
      "local 0.3776223776223776 max 0.3776223776223776\n",
      "[00:00:00] WARNING: C:\\Users\\Administrator\\workspace\\xgboost-win64_release_1.1.0\\src\\learner.cc:480: \nParameters: { objetive } might not be used.\n\n  This may not be accurate due to some parameters are only used in language bindings but\n  passed down to XGBoost core.  Or some parameters are not used but slip through this\n  verification. Please open an issue if you find above cases.\n\n\n",
      "local 0.3912448700410397 max 0.3912448700410397\n",
      "[00:00:42] WARNING: C:\\Users\\Administrator\\workspace\\xgboost-win64_release_1.1.0\\src\\learner.cc:480: \nParameters: { objetive } might not be used.\n\n  This may not be accurate due to some parameters are only used in language bindings but\n  passed down to XGBoost core.  Or some parameters are not used but slip through this\n  verification. Please open an issue if you find above cases.\n\n\n",
      "local 0.3590462833099579 max 0.3912448700410397\n",
      "[00:01:48] WARNING: C:\\Users\\Administrator\\workspace\\xgboost-win64_release_1.1.0\\src\\learner.cc:480: \nParameters: { objetive } might not be used.\n\n  This may not be accurate due to some parameters are only used in language bindings but\n  passed down to XGBoost core.  Or some parameters are not used but slip through this\n  verification. Please open an issue if you find above cases.\n\n\n",
      "local 0.37222222222222223 max 0.3912448700410397\n",
      "[00:02:54] WARNING: C:\\Users\\Administrator\\workspace\\xgboost-win64_release_1.1.0\\src\\learner.cc:480: \nParameters: { objetive } might not be used.\n\n  This may not be accurate due to some parameters are only used in language bindings but\n  passed down to XGBoost core.  Or some parameters are not used but slip through this\n  verification. Please open an issue if you find above cases.\n\n\n",
      "local 0.3492063492063492 max 0.3912448700410397\n",
      "[00:03:59] WARNING: C:\\Users\\Administrator\\workspace\\xgboost-win64_release_1.1.0\\src\\learner.cc:480: \nParameters: { objetive } might not be used.\n\n  This may not be accurate due to some parameters are only used in language bindings but\n  passed down to XGBoost core.  Or some parameters are not used but slip through this\n  verification. Please open an issue if you find above cases.\n\n\n",
      "local 0.3595166163141994 max 0.3912448700410397\n",
      "[00:05:30] WARNING: C:\\Users\\Administrator\\workspace\\xgboost-win64_release_1.1.0\\src\\learner.cc:480: \nParameters: { objetive } might not be used.\n\n  This may not be accurate due to some parameters are only used in language bindings but\n  passed down to XGBoost core.  Or some parameters are not used but slip through this\n  verification. Please open an issue if you find above cases.\n\n\n",
      "local 0.3609898107714702 max 0.3912448700410397\n",
      "[00:07:01] WARNING: C:\\Users\\Administrator\\workspace\\xgboost-win64_release_1.1.0\\src\\learner.cc:480: \nParameters: { objetive } might not be used.\n\n  This may not be accurate due to some parameters are only used in language bindings but\n  passed down to XGBoost core.  Or some parameters are not used but slip through this\n  verification. Please open an issue if you find above cases.\n\n\n",
      "local 0.37321937321937326 max 0.3912448700410397\n",
      "[00:08:33] WARNING: C:\\Users\\Administrator\\workspace\\xgboost-win64_release_1.1.0\\src\\learner.cc:480: \nParameters: { objetive } might not be used.\n\n  This may not be accurate due to some parameters are only used in language bindings but\n  passed down to XGBoost core.  Or some parameters are not used but slip through this\n  verification. Please open an issue if you find above cases.\n\n\n",
      "local 0.3507779349363508 max 0.3912448700410397\n",
      "[00:10:05] WARNING: C:\\Users\\Administrator\\workspace\\xgboost-win64_release_1.1.0\\src\\learner.cc:480: \nParameters: { objetive } might not be used.\n\n  This may not be accurate due to some parameters are only used in language bindings but\n  passed down to XGBoost core.  Or some parameters are not used but slip through this\n  verification. Please open an issue if you find above cases.\n\n\n",
      "local 0.3542857142857142 max 0.3912448700410397\n",
      "[00:11:35] WARNING: C:\\Users\\Administrator\\workspace\\xgboost-win64_release_1.1.0\\src\\learner.cc:480: \nParameters: { objetive } might not be used.\n\n  This may not be accurate due to some parameters are only used in language bindings but\n  passed down to XGBoost core.  Or some parameters are not used but slip through this\n  verification. Please open an issue if you find above cases.\n\n\n",
      "local 0.3651685393258427 max 0.3912448700410397\n",
      "[00:12:45] WARNING: C:\\Users\\Administrator\\workspace\\xgboost-win64_release_1.1.0\\src\\learner.cc:480: \nParameters: { objetive } might not be used.\n\n  This may not be accurate due to some parameters are only used in language bindings but\n  passed down to XGBoost core.  Or some parameters are not used but slip through this\n  verification. Please open an issue if you find above cases.\n\n\n",
      "local 0.3664335664335664 max 0.3912448700410397\n",
      "[00:14:15] WARNING: C:\\Users\\Administrator\\workspace\\xgboost-win64_release_1.1.0\\src\\learner.cc:480: \nParameters: { objetive } might not be used.\n\n  This may not be accurate due to some parameters are only used in language bindings but\n  passed down to XGBoost core.  Or some parameters are not used but slip through this\n  verification. Please open an issue if you find above cases.\n\n\n",
      "local 0.3661971830985915 max 0.3912448700410397\n",
      "[00:15:43] WARNING: C:\\Users\\Administrator\\workspace\\xgboost-win64_release_1.1.0\\src\\learner.cc:480: \nParameters: { objetive } might not be used.\n\n  This may not be accurate due to some parameters are only used in language bindings but\n  passed down to XGBoost core.  Or some parameters are not used but slip through this\n  verification. Please open an issue if you find above cases.\n\n\n",
      "local 0.37047353760445684 max 0.3912448700410397\n",
      "[00:16:56] WARNING: C:\\Users\\Administrator\\workspace\\xgboost-win64_release_1.1.0\\src\\learner.cc:480: \nParameters: { objetive } might not be used.\n\n  This may not be accurate due to some parameters are only used in language bindings but\n  passed down to XGBoost core.  Or some parameters are not used but slip through this\n  verification. Please open an issue if you find above cases.\n\n\n",
      "local 0.3676268861454046 max 0.3912448700410397\n",
      "[00:18:25] WARNING: C:\\Users\\Administrator\\workspace\\xgboost-win64_release_1.1.0\\src\\learner.cc:480: \nParameters: { objetive } might not be used.\n\n  This may not be accurate due to some parameters are only used in language bindings but\n  passed down to XGBoost core.  Or some parameters are not used but slip through this\n  verification. Please open an issue if you find above cases.\n\n\n",
      "local 0.373113854595336 max 0.3912448700410397\n",
      "[00:19:24] WARNING: C:\\Users\\Administrator\\workspace\\xgboost-win64_release_1.1.0\\src\\learner.cc:480: \nParameters: { objetive } might not be used.\n\n  This may not be accurate due to some parameters are only used in language bindings but\n  passed down to XGBoost core.  Or some parameters are not used but slip through this\n  verification. Please open an issue if you find above cases.\n\n\n",
      "local 0.3756756756756757 max 0.3912448700410397\n",
      "[00:20:54] WARNING: C:\\Users\\Administrator\\workspace\\xgboost-win64_release_1.1.0\\src\\learner.cc:480: \nParameters: { objetive } might not be used.\n\n  This may not be accurate due to some parameters are only used in language bindings but\n  passed down to XGBoost core.  Or some parameters are not used but slip through this\n  verification. Please open an issue if you find above cases.\n\n\n",
      "local 0.35098335854765506 max 0.3912448700410397\n",
      "[00:22:52] WARNING: C:\\Users\\Administrator\\workspace\\xgboost-win64_release_1.1.0\\src\\learner.cc:480: \nParameters: { objetive } might not be used.\n\n  This may not be accurate due to some parameters are only used in language bindings but\n  passed down to XGBoost core.  Or some parameters are not used but slip through this\n  verification. Please open an issue if you find above cases.\n\n\n",
      "local 0.36676217765042984 max 0.3912448700410397\n",
      "[00:24:47] WARNING: C:\\Users\\Administrator\\workspace\\xgboost-win64_release_1.1.0\\src\\learner.cc:480: \nParameters: { objetive } might not be used.\n\n  This may not be accurate due to some parameters are only used in language bindings but\n  passed down to XGBoost core.  Or some parameters are not used but slip through this\n  verification. Please open an issue if you find above cases.\n\n\n",
      "local 0.3851640513552068 max 0.3912448700410397\n",
      "[00:26:44] WARNING: C:\\Users\\Administrator\\workspace\\xgboost-win64_release_1.1.0\\src\\learner.cc:480: \nParameters: { objetive } might not be used.\n\n  This may not be accurate due to some parameters are only used in language bindings but\n  passed down to XGBoost core.  Or some parameters are not used but slip through this\n  verification. Please open an issue if you find above cases.\n\n\n",
      "local 0.3616133518776078 max 0.3912448700410397\n",
      "[00:28:37] WARNING: C:\\Users\\Administrator\\workspace\\xgboost-win64_release_1.1.0\\src\\learner.cc:480: \nParameters: { objetive } might not be used.\n\n  This may not be accurate due to some parameters are only used in language bindings but\n  passed down to XGBoost core.  Or some parameters are not used but slip through this\n  verification. Please open an issue if you find above cases.\n\n\n",
      "local 0.3703703703703704 max 0.3912448700410397\n",
      "[00:30:28] WARNING: C:\\Users\\Administrator\\workspace\\xgboost-win64_release_1.1.0\\src\\learner.cc:480: \nParameters: { objetive } might not be used.\n\n  This may not be accurate due to some parameters are only used in language bindings but\n  passed down to XGBoost core.  Or some parameters are not used but slip through this\n  verification. Please open an issue if you find above cases.\n\n\n",
      "local 0.391123439667129 max 0.3912448700410397\n",
      "[00:31:50] WARNING: C:\\Users\\Administrator\\workspace\\xgboost-win64_release_1.1.0\\src\\learner.cc:480: \nParameters: { objetive } might not be used.\n\n  This may not be accurate due to some parameters are only used in language bindings but\n  passed down to XGBoost core.  Or some parameters are not used but slip through this\n  verification. Please open an issue if you find above cases.\n\n\n",
      "local 0.36235955056179775 max 0.3912448700410397\n",
      "[00:33:43] WARNING: C:\\Users\\Administrator\\workspace\\xgboost-win64_release_1.1.0\\src\\learner.cc:480: \nParameters: { objetive } might not be used.\n\n  This may not be accurate due to some parameters are only used in language bindings but\n  passed down to XGBoost core.  Or some parameters are not used but slip through this\n  verification. Please open an issue if you find above cases.\n\n\n",
      "local 0.4016506189821183 max 0.4016506189821183\n",
      "[00:34:50] WARNING: C:\\Users\\Administrator\\workspace\\xgboost-win64_release_1.1.0\\src\\learner.cc:480: \nParameters: { objetive } might not be used.\n\n  This may not be accurate due to some parameters are only used in language bindings but\n  passed down to XGBoost core.  Or some parameters are not used but slip through this\n  verification. Please open an issue if you find above cases.\n\n\n",
      "local 0.3800277392510402 max 0.4016506189821183\n",
      "[00:36:18] WARNING: C:\\Users\\Administrator\\workspace\\xgboost-win64_release_1.1.0\\src\\learner.cc:480: \nParameters: { objetive } might not be used.\n\n  This may not be accurate due to some parameters are only used in language bindings but\n  passed down to XGBoost core.  Or some parameters are not used but slip through this\n  verification. Please open an issue if you find above cases.\n\n\n",
      "local 0.36512261580381467 max 0.4016506189821183\n",
      "[00:38:14] WARNING: C:\\Users\\Administrator\\workspace\\xgboost-win64_release_1.1.0\\src\\learner.cc:480: \nParameters: { objetive } might not be used.\n\n  This may not be accurate due to some parameters are only used in language bindings but\n  passed down to XGBoost core.  Or some parameters are not used but slip through this\n  verification. Please open an issue if you find above cases.\n\n\n",
      "local 0.3767313019390582 max 0.4016506189821183\n",
      "[00:39:14] WARNING: C:\\Users\\Administrator\\workspace\\xgboost-win64_release_1.1.0\\src\\learner.cc:480: \nParameters: { objetive } might not be used.\n\n  This may not be accurate due to some parameters are only used in language bindings but\n  passed down to XGBoost core.  Or some parameters are not used but slip through this\n  verification. Please open an issue if you find above cases.\n\n\n",
      "local 0.37119113573407203 max 0.4016506189821183\n",
      "[00:40:50] WARNING: C:\\Users\\Administrator\\workspace\\xgboost-win64_release_1.1.0\\src\\learner.cc:480: \nParameters: { objetive } might not be used.\n\n  This may not be accurate due to some parameters are only used in language bindings but\n  passed down to XGBoost core.  Or some parameters are not used but slip through this\n  verification. Please open an issue if you find above cases.\n\n\n",
      "local 0.36896046852122993 max 0.4016506189821183\n",
      "[00:42:04] WARNING: C:\\Users\\Administrator\\workspace\\xgboost-win64_release_1.1.0\\src\\learner.cc:480: \nParameters: { objetive } might not be used.\n\n  This may not be accurate due to some parameters are only used in language bindings but\n  passed down to XGBoost core.  Or some parameters are not used but slip through this\n  verification. Please open an issue if you find above cases.\n\n\n",
      "local 0.3646723646723647 max 0.4016506189821183\n",
      "[00:43:16] WARNING: C:\\Users\\Administrator\\workspace\\xgboost-win64_release_1.1.0\\src\\learner.cc:480: \nParameters: { objetive } might not be used.\n\n  This may not be accurate due to some parameters are only used in language bindings but\n  passed down to XGBoost core.  Or some parameters are not used but slip through this\n  verification. Please open an issue if you find above cases.\n\n\n",
      "local 0.3551136363636364 max 0.4016506189821183\n",
      "[00:44:29] WARNING: C:\\Users\\Administrator\\workspace\\xgboost-win64_release_1.1.0\\src\\learner.cc:480: \nParameters: { objetive } might not be used.\n\n  This may not be accurate due to some parameters are only used in language bindings but\n  passed down to XGBoost core.  Or some parameters are not used but slip through this\n  verification. Please open an issue if you find above cases.\n\n\n",
      "local 0.3686382393397524 max 0.4016506189821183\n",
      "[00:45:41] WARNING: C:\\Users\\Administrator\\workspace\\xgboost-win64_release_1.1.0\\src\\learner.cc:480: \nParameters: { objetive } might not be used.\n\n  This may not be accurate due to some parameters are only used in language bindings but\n  passed down to XGBoost core.  Or some parameters are not used but slip through this\n  verification. Please open an issue if you find above cases.\n\n\n",
      "local 0.35127478753541075 max 0.4016506189821183\n",
      "[00:46:40] WARNING: C:\\Users\\Administrator\\workspace\\xgboost-win64_release_1.1.0\\src\\learner.cc:480: \nParameters: { objetive } might not be used.\n\n  This may not be accurate due to some parameters are only used in language bindings but\n  passed down to XGBoost core.  Or some parameters are not used but slip through this\n  verification. Please open an issue if you find above cases.\n\n\n",
      "local 0.3561253561253561 max 0.4016506189821183\n",
      "[00:47:39] WARNING: C:\\Users\\Administrator\\workspace\\xgboost-win64_release_1.1.0\\src\\learner.cc:480: \nParameters: { objetive } might not be used.\n\n  This may not be accurate due to some parameters are only used in language bindings but\n  passed down to XGBoost core.  Or some parameters are not used but slip through this\n  verification. Please open an issue if you find above cases.\n\n\n",
      "local 0.35833333333333334 max 0.4016506189821183\n",
      "[00:48:53] WARNING: C:\\Users\\Administrator\\workspace\\xgboost-win64_release_1.1.0\\src\\learner.cc:480: \nParameters: { objetive } might not be used.\n\n  This may not be accurate due to some parameters are only used in language bindings but\n  passed down to XGBoost core.  Or some parameters are not used but slip through this\n  verification. Please open an issue if you find above cases.\n\n\n",
      "local 0.3575418994413408 max 0.4016506189821183\n",
      "[00:49:48] WARNING: C:\\Users\\Administrator\\workspace\\xgboost-win64_release_1.1.0\\src\\learner.cc:480: \nParameters: { objetive } might not be used.\n\n  This may not be accurate due to some parameters are only used in language bindings but\n  passed down to XGBoost core.  Or some parameters are not used but slip through this\n  verification. Please open an issue if you find above cases.\n\n\n",
      "local 0.3955739972337483 max 0.4016506189821183\n",
      "[00:50:31] WARNING: C:\\Users\\Administrator\\workspace\\xgboost-win64_release_1.1.0\\src\\learner.cc:480: \nParameters: { objetive } might not be used.\n\n  This may not be accurate due to some parameters are only used in language bindings but\n  passed down to XGBoost core.  Or some parameters are not used but slip through this\n  verification. Please open an issue if you find above cases.\n\n\n",
      "local 0.36187845303867405 max 0.4016506189821183\n",
      "[00:51:43] WARNING: C:\\Users\\Administrator\\workspace\\xgboost-win64_release_1.1.0\\src\\learner.cc:480: \nParameters: { objetive } might not be used.\n\n  This may not be accurate due to some parameters are only used in language bindings but\n  passed down to XGBoost core.  Or some parameters are not used but slip through this\n  verification. Please open an issue if you find above cases.\n\n\n",
      "local 0.3810848400556328 max 0.4016506189821183\n",
      "[00:52:58] WARNING: C:\\Users\\Administrator\\workspace\\xgboost-win64_release_1.1.0\\src\\learner.cc:480: \nParameters: { objetive } might not be used.\n\n  This may not be accurate due to some parameters are only used in language bindings but\n  passed down to XGBoost core.  Or some parameters are not used but slip through this\n  verification. Please open an issue if you find above cases.\n\n\n",
      "local 0.37709497206703907 max 0.4016506189821183\n",
      "[00:54:01] WARNING: C:\\Users\\Administrator\\workspace\\xgboost-win64_release_1.1.0\\src\\learner.cc:480: \nParameters: { objetive } might not be used.\n\n  This may not be accurate due to some parameters are only used in language bindings but\n  passed down to XGBoost core.  Or some parameters are not used but slip through this\n  verification. Please open an issue if you find above cases.\n\n\n",
      "local 0.36390101892285304 max 0.4016506189821183\n",
      "[00:55:43] WARNING: C:\\Users\\Administrator\\workspace\\xgboost-win64_release_1.1.0\\src\\learner.cc:480: \nParameters: { objetive } might not be used.\n\n  This may not be accurate due to some parameters are only used in language bindings but\n  passed down to XGBoost core.  Or some parameters are not used but slip through this\n  verification. Please open an issue if you find above cases.\n\n\n",
      "local 0.375896700143472 max 0.4016506189821183\n",
      "[00:57:27] WARNING: C:\\Users\\Administrator\\workspace\\xgboost-win64_release_1.1.0\\src\\learner.cc:480: \nParameters: { objetive } might not be used.\n\n  This may not be accurate due to some parameters are only used in language bindings but\n  passed down to XGBoost core.  Or some parameters are not used but slip through this\n  verification. Please open an issue if you find above cases.\n\n\n",
      "local 0.37500000000000006 max 0.4016506189821183\n",
      "[00:59:08] WARNING: C:\\Users\\Administrator\\workspace\\xgboost-win64_release_1.1.0\\src\\learner.cc:480: \nParameters: { objetive } might not be used.\n\n  This may not be accurate due to some parameters are only used in language bindings but\n  passed down to XGBoost core.  Or some parameters are not used but slip through this\n  verification. Please open an issue if you find above cases.\n\n\n",
      "local 0.3641379310344828 max 0.4016506189821183\n",
      "[01:00:51] WARNING: C:\\Users\\Administrator\\workspace\\xgboost-win64_release_1.1.0\\src\\learner.cc:480: \nParameters: { objetive } might not be used.\n\n  This may not be accurate due to some parameters are only used in language bindings but\n  passed down to XGBoost core.  Or some parameters are not used but slip through this\n  verification. Please open an issue if you find above cases.\n\n\n",
      "local 0.36538461538461536 max 0.4016506189821183\n",
      "[01:02:33] WARNING: C:\\Users\\Administrator\\workspace\\xgboost-win64_release_1.1.0\\src\\learner.cc:480: \nParameters: { objetive } might not be used.\n\n  This may not be accurate due to some parameters are only used in language bindings but\n  passed down to XGBoost core.  Or some parameters are not used but slip through this\n  verification. Please open an issue if you find above cases.\n\n\n",
      "local 0.3767313019390582 max 0.4016506189821183\n",
      "[01:03:43] WARNING: C:\\Users\\Administrator\\workspace\\xgboost-win64_release_1.1.0\\src\\learner.cc:480: \nParameters: { objetive } might not be used.\n\n  This may not be accurate due to some parameters are only used in language bindings but\n  passed down to XGBoost core.  Or some parameters are not used but slip through this\n  verification. Please open an issue if you find above cases.\n\n\n",
      "local 0.3579234972677595 max 0.4016506189821183\n",
      "[01:05:26] WARNING: C:\\Users\\Administrator\\workspace\\xgboost-win64_release_1.1.0\\src\\learner.cc:480: \nParameters: { objetive } might not be used.\n\n  This may not be accurate due to some parameters are only used in language bindings but\n  passed down to XGBoost core.  Or some parameters are not used but slip through this\n  verification. Please open an issue if you find above cases.\n\n\n",
      "local 0.3641379310344828 max 0.4016506189821183\n",
      "[01:06:44] WARNING: C:\\Users\\Administrator\\workspace\\xgboost-win64_release_1.1.0\\src\\learner.cc:480: \nParameters: { objetive } might not be used.\n\n  This may not be accurate due to some parameters are only used in language bindings but\n  passed down to XGBoost core.  Or some parameters are not used but slip through this\n  verification. Please open an issue if you find above cases.\n\n\n",
      "local 0.373806275579809 max 0.4016506189821183\n",
      "[01:08:09] WARNING: C:\\Users\\Administrator\\workspace\\xgboost-win64_release_1.1.0\\src\\learner.cc:480: \nParameters: { objetive } might not be used.\n\n  This may not be accurate due to some parameters are only used in language bindings but\n  passed down to XGBoost core.  Or some parameters are not used but slip through this\n  verification. Please open an issue if you find above cases.\n\n\n",
      "local 0.368064952638701 max 0.4016506189821183\n",
      "[01:09:51] WARNING: C:\\Users\\Administrator\\workspace\\xgboost-win64_release_1.1.0\\src\\learner.cc:480: \nParameters: { objetive } might not be used.\n\n  This may not be accurate due to some parameters are only used in language bindings but\n  passed down to XGBoost core.  Or some parameters are not used but slip through this\n  verification. Please open an issue if you find above cases.\n\n\n",
      "local 0.3698630136986301 max 0.4016506189821183\n",
      "[01:11:23] WARNING: C:\\Users\\Administrator\\workspace\\xgboost-win64_release_1.1.0\\src\\learner.cc:480: \nParameters: { objetive } might not be used.\n\n  This may not be accurate due to some parameters are only used in language bindings but\n  passed down to XGBoost core.  Or some parameters are not used but slip through this\n  verification. Please open an issue if you find above cases.\n\n\n",
      "local 0.3770491803278688 max 0.4016506189821183\n",
      "[01:13:04] WARNING: C:\\Users\\Administrator\\workspace\\xgboost-win64_release_1.1.0\\src\\learner.cc:480: \nParameters: { objetive } might not be used.\n\n  This may not be accurate due to some parameters are only used in language bindings but\n  passed down to XGBoost core.  Or some parameters are not used but slip through this\n  verification. Please open an issue if you find above cases.\n\n\n",
      "local 0.3713450292397661 max 0.4016506189821183\n",
      "[01:15:14] WARNING: C:\\Users\\Administrator\\workspace\\xgboost-win64_release_1.1.0\\src\\learner.cc:480: \nParameters: { objetive } might not be used.\n\n  This may not be accurate due to some parameters are only used in language bindings but\n  passed down to XGBoost core.  Or some parameters are not used but slip through this\n  verification. Please open an issue if you find above cases.\n\n\n",
      "local 0.3602836879432624 max 0.4016506189821183\n",
      "[01:17:27] WARNING: C:\\Users\\Administrator\\workspace\\xgboost-win64_release_1.1.0\\src\\learner.cc:480: \nParameters: { objetive } might not be used.\n\n  This may not be accurate due to some parameters are only used in language bindings but\n  passed down to XGBoost core.  Or some parameters are not used but slip through this\n  verification. Please open an issue if you find above cases.\n\n\n",
      "local 0.37412095639943743 max 0.4016506189821183\n",
      "[01:19:32] WARNING: C:\\Users\\Administrator\\workspace\\xgboost-win64_release_1.1.0\\src\\learner.cc:480: \nParameters: { objetive } might not be used.\n\n  This may not be accurate due to some parameters are only used in language bindings but\n  passed down to XGBoost core.  Or some parameters are not used but slip through this\n  verification. Please open an issue if you find above cases.\n\n\n",
      "local 0.35277777777777775 max 0.4016506189821183\n",
      "[01:21:44] WARNING: C:\\Users\\Administrator\\workspace\\xgboost-win64_release_1.1.0\\src\\learner.cc:480: \nParameters: { objetive } might not be used.\n\n  This may not be accurate due to some parameters are only used in language bindings but\n  passed down to XGBoost core.  Or some parameters are not used but slip through this\n  verification. Please open an issue if you find above cases.\n\n\n",
      "local 0.37268847795163584 max 0.4016506189821183\n",
      "[01:23:00] WARNING: C:\\Users\\Administrator\\workspace\\xgboost-win64_release_1.1.0\\src\\learner.cc:480: \nParameters: { objetive } might not be used.\n\n  This may not be accurate due to some parameters are only used in language bindings but\n  passed down to XGBoost core.  Or some parameters are not used but slip through this\n  verification. Please open an issue if you find above cases.\n\n\n",
      "local 0.3737796373779637 max 0.4016506189821183\n",
      "[01:24:23] WARNING: C:\\Users\\Administrator\\workspace\\xgboost-win64_release_1.1.0\\src\\learner.cc:480: \nParameters: { objetive } might not be used.\n\n  This may not be accurate due to some parameters are only used in language bindings but\n  passed down to XGBoost core.  Or some parameters are not used but slip through this\n  verification. Please open an issue if you find above cases.\n\n\n",
      "local 0.3576341127922971 max 0.4016506189821183\n",
      "[01:26:37] WARNING: C:\\Users\\Administrator\\workspace\\xgboost-win64_release_1.1.0\\src\\learner.cc:480: \nParameters: { objetive } might not be used.\n\n  This may not be accurate due to some parameters are only used in language bindings but\n  passed down to XGBoost core.  Or some parameters are not used but slip through this\n  verification. Please open an issue if you find above cases.\n\n\n",
      "local 0.3856749311294766 max 0.4016506189821183\n",
      "[01:28:27] WARNING: C:\\Users\\Administrator\\workspace\\xgboost-win64_release_1.1.0\\src\\learner.cc:480: \nParameters: { objetive } might not be used.\n\n  This may not be accurate due to some parameters are only used in language bindings but\n  passed down to XGBoost core.  Or some parameters are not used but slip through this\n  verification. Please open an issue if you find above cases.\n\n\n",
      "local 0.3746630727762803 max 0.4016506189821183\n",
      "[01:29:30] WARNING: C:\\Users\\Administrator\\workspace\\xgboost-win64_release_1.1.0\\src\\learner.cc:480: \nParameters: { objetive } might not be used.\n\n  This may not be accurate due to some parameters are only used in language bindings but\n  passed down to XGBoost core.  Or some parameters are not used but slip through this\n  verification. Please open an issue if you find above cases.\n\n\n",
      "local 0.37600000000000006 max 0.4016506189821183\n",
      "[01:31:40] WARNING: C:\\Users\\Administrator\\workspace\\xgboost-win64_release_1.1.0\\src\\learner.cc:480: \nParameters: { objetive } might not be used.\n\n  This may not be accurate due to some parameters are only used in language bindings but\n  passed down to XGBoost core.  Or some parameters are not used but slip through this\n  verification. Please open an issue if you find above cases.\n\n\n",
      "local 0.3768913342503439 max 0.4016506189821183\n",
      "[01:33:01] WARNING: C:\\Users\\Administrator\\workspace\\xgboost-win64_release_1.1.0\\src\\learner.cc:480: \nParameters: { objetive } might not be used.\n\n  This may not be accurate due to some parameters are only used in language bindings but\n  passed down to XGBoost core.  Or some parameters are not used but slip through this\n  verification. Please open an issue if you find above cases.\n\n\n",
      "local 0.3796423658872077 max 0.4016506189821183\ncontador = 72\n[7, 0.5, 6]\n0.4016506189821183\n"
     ],
     "output_type": "stream"
    }
   ],
   "source": [
    "#HAY QUE CONVERTIR ESTO A UN ENSAMBLE\n",
    "######verificacion de hiperparamentros\n",
    "hiperparametros_max = [0,0,0,0]\n",
    "res_max = 0\n",
    "contador = 0\n",
    "hiperparametros_max\n",
    "for profundidad in range(6,8,1):\n",
    "    for tree in range(40,81,20):\n",
    "        colsampleTree = tree / 100\n",
    "        for lR in range(10,81,20):\n",
    "            learningRate = lR / 100\n",
    "            for alpha in range(5,16,5):\n",
    "                xgb_reg = xgb.XGBRegressor(max_depth = profundidad, \n",
    "                                           colsample_bytree = colsampleTree, \n",
    "                                           learning_rate = learningRate, \n",
    "                                           alpha = alpha,\n",
    "                                           objetive = 'reg:squarederror')\n",
    "                \n",
    "                xgb_reg.fit(train_set, train_label)\n",
    "                result = pd.read_csv('sample_submission.csv')\n",
    "                predicts = xgb_reg.predict(test_set).round()\n",
    "                result['target'] = predicts\n",
    "                \n",
    "                maximo_local = F1(result)\n",
    "                if (maximo_local <= 0.528):\n",
    "                    contador += 1\n",
    "                if(maximo_local > res_max):\n",
    "                    hiperparametros_max = [iter,learningRate,profundidad]\n",
    "                    res_max = maximo_local\n",
    "                print(\"local {} max {}\".format(maximo_local,res_max))\n",
    "print(\"contador = {}\".format(contador))\n",
    "print(hiperparametros_max)\n",
    "print(res_max)"
   ],
   "metadata": {
    "collapsed": false,
    "pycharm": {
     "name": "#%%\n",
     "is_executing": false
    }
   }
  },
  {
   "cell_type": "code",
   "execution_count": 60,
   "outputs": [
    {
     "name": "stdout",
     "text": [
      "[13, 0.5, 0.5, 9]\n[20:32:32] WARNING: C:\\Users\\Administrator\\workspace\\xgboost-win64_release_1.1.0\\src\\learner.cc:480: \nParameters: { objetive } might not be used.\n\n  This may not be accurate due to some parameters are only used in language bindings but\n  passed down to XGBoost core.  Or some parameters are not used but slip through this\n  verification. Please open an issue if you find above cases.\n\n\n",
      "[13, 0.5, 0.5, 11]\n[20:32:38] WARNING: C:\\Users\\Administrator\\workspace\\xgboost-win64_release_1.1.0\\src\\learner.cc:480: \nParameters: { objetive } might not be used.\n\n  This may not be accurate due to some parameters are only used in language bindings but\n  passed down to XGBoost core.  Or some parameters are not used but slip through this\n  verification. Please open an issue if you find above cases.\n\n\n",
      "[13, 0.5, 0.5, 10]\n[20:32:42] WARNING: C:\\Users\\Administrator\\workspace\\xgboost-win64_release_1.1.0\\src\\learner.cc:480: \nParameters: { objetive } might not be used.\n\n  This may not be accurate due to some parameters are only used in language bindings but\n  passed down to XGBoost core.  Or some parameters are not used but slip through this\n  verification. Please open an issue if you find above cases.\n\n\n",
      "[13, 0.5, 0.6, 9]\n[20:32:47] WARNING: C:\\Users\\Administrator\\workspace\\xgboost-win64_release_1.1.0\\src\\learner.cc:480: \nParameters: { objetive } might not be used.\n\n  This may not be accurate due to some parameters are only used in language bindings but\n  passed down to XGBoost core.  Or some parameters are not used but slip through this\n  verification. Please open an issue if you find above cases.\n\n\n",
      "[13, 0.5, 0.6, 11]\n[20:32:51] WARNING: C:\\Users\\Administrator\\workspace\\xgboost-win64_release_1.1.0\\src\\learner.cc:480: \nParameters: { objetive } might not be used.\n\n  This may not be accurate due to some parameters are only used in language bindings but\n  passed down to XGBoost core.  Or some parameters are not used but slip through this\n  verification. Please open an issue if you find above cases.\n\n\n",
      "[13, 0.5, 0.6, 10]\n[20:32:56] WARNING: C:\\Users\\Administrator\\workspace\\xgboost-win64_release_1.1.0\\src\\learner.cc:480: \nParameters: { objetive } might not be used.\n\n  This may not be accurate due to some parameters are only used in language bindings but\n  passed down to XGBoost core.  Or some parameters are not used but slip through this\n  verification. Please open an issue if you find above cases.\n\n\n",
      "[13, 0.5, 0.54, 9]\n[20:33:01] WARNING: C:\\Users\\Administrator\\workspace\\xgboost-win64_release_1.1.0\\src\\learner.cc:480: \nParameters: { objetive } might not be used.\n\n  This may not be accurate due to some parameters are only used in language bindings but\n  passed down to XGBoost core.  Or some parameters are not used but slip through this\n  verification. Please open an issue if you find above cases.\n\n\n",
      "[13, 0.5, 0.54, 11]\n[20:33:06] WARNING: C:\\Users\\Administrator\\workspace\\xgboost-win64_release_1.1.0\\src\\learner.cc:480: \nParameters: { objetive } might not be used.\n\n  This may not be accurate due to some parameters are only used in language bindings but\n  passed down to XGBoost core.  Or some parameters are not used but slip through this\n  verification. Please open an issue if you find above cases.\n\n\n",
      "[13, 0.5, 0.54, 10]\n[20:33:10] WARNING: C:\\Users\\Administrator\\workspace\\xgboost-win64_release_1.1.0\\src\\learner.cc:480: \nParameters: { objetive } might not be used.\n\n  This may not be accurate due to some parameters are only used in language bindings but\n  passed down to XGBoost core.  Or some parameters are not used but slip through this\n  verification. Please open an issue if you find above cases.\n\n\n",
      "[13, 0.5, 0.52, 9]\n[20:33:15] WARNING: C:\\Users\\Administrator\\workspace\\xgboost-win64_release_1.1.0\\src\\learner.cc:480: \nParameters: { objetive } might not be used.\n\n  This may not be accurate due to some parameters are only used in language bindings but\n  passed down to XGBoost core.  Or some parameters are not used but slip through this\n  verification. Please open an issue if you find above cases.\n\n\n",
      "[13, 0.5, 0.52, 11]\n[20:33:21] WARNING: C:\\Users\\Administrator\\workspace\\xgboost-win64_release_1.1.0\\src\\learner.cc:480: \nParameters: { objetive } might not be used.\n\n  This may not be accurate due to some parameters are only used in language bindings but\n  passed down to XGBoost core.  Or some parameters are not used but slip through this\n  verification. Please open an issue if you find above cases.\n\n\n",
      "[13, 0.5, 0.52, 10]\n[20:33:25] WARNING: C:\\Users\\Administrator\\workspace\\xgboost-win64_release_1.1.0\\src\\learner.cc:480: \nParameters: { objetive } might not be used.\n\n  This may not be accurate due to some parameters are only used in language bindings but\n  passed down to XGBoost core.  Or some parameters are not used but slip through this\n  verification. Please open an issue if you find above cases.\n\n\n",
      "[13, 0.6, 0.5, 9]\n[20:33:30] WARNING: C:\\Users\\Administrator\\workspace\\xgboost-win64_release_1.1.0\\src\\learner.cc:480: \nParameters: { objetive } might not be used.\n\n  This may not be accurate due to some parameters are only used in language bindings but\n  passed down to XGBoost core.  Or some parameters are not used but slip through this\n  verification. Please open an issue if you find above cases.\n\n\n",
      "[13, 0.6, 0.5, 11]\n[20:33:38] WARNING: C:\\Users\\Administrator\\workspace\\xgboost-win64_release_1.1.0\\src\\learner.cc:480: \nParameters: { objetive } might not be used.\n\n  This may not be accurate due to some parameters are only used in language bindings but\n  passed down to XGBoost core.  Or some parameters are not used but slip through this\n  verification. Please open an issue if you find above cases.\n\n\n",
      "[13, 0.6, 0.5, 10]\n[20:33:43] WARNING: C:\\Users\\Administrator\\workspace\\xgboost-win64_release_1.1.0\\src\\learner.cc:480: \nParameters: { objetive } might not be used.\n\n  This may not be accurate due to some parameters are only used in language bindings but\n  passed down to XGBoost core.  Or some parameters are not used but slip through this\n  verification. Please open an issue if you find above cases.\n\n\n",
      "[13, 0.6, 0.6, 9]\n[20:33:49] WARNING: C:\\Users\\Administrator\\workspace\\xgboost-win64_release_1.1.0\\src\\learner.cc:480: \nParameters: { objetive } might not be used.\n\n  This may not be accurate due to some parameters are only used in language bindings but\n  passed down to XGBoost core.  Or some parameters are not used but slip through this\n  verification. Please open an issue if you find above cases.\n\n\n",
      "[13, 0.6, 0.6, 11]\n[20:33:54] WARNING: C:\\Users\\Administrator\\workspace\\xgboost-win64_release_1.1.0\\src\\learner.cc:480: \nParameters: { objetive } might not be used.\n\n  This may not be accurate due to some parameters are only used in language bindings but\n  passed down to XGBoost core.  Or some parameters are not used but slip through this\n  verification. Please open an issue if you find above cases.\n\n\n",
      "[13, 0.6, 0.6, 10]\n[20:34:00] WARNING: C:\\Users\\Administrator\\workspace\\xgboost-win64_release_1.1.0\\src\\learner.cc:480: \nParameters: { objetive } might not be used.\n\n  This may not be accurate due to some parameters are only used in language bindings but\n  passed down to XGBoost core.  Or some parameters are not used but slip through this\n  verification. Please open an issue if you find above cases.\n\n\n",
      "[13, 0.6, 0.54, 9]\n[20:34:05] WARNING: C:\\Users\\Administrator\\workspace\\xgboost-win64_release_1.1.0\\src\\learner.cc:480: \nParameters: { objetive } might not be used.\n\n  This may not be accurate due to some parameters are only used in language bindings but\n  passed down to XGBoost core.  Or some parameters are not used but slip through this\n  verification. Please open an issue if you find above cases.\n\n\n",
      "[13, 0.6, 0.54, 11]\n[20:34:11] WARNING: C:\\Users\\Administrator\\workspace\\xgboost-win64_release_1.1.0\\src\\learner.cc:480: \nParameters: { objetive } might not be used.\n\n  This may not be accurate due to some parameters are only used in language bindings but\n  passed down to XGBoost core.  Or some parameters are not used but slip through this\n  verification. Please open an issue if you find above cases.\n\n\n",
      "[13, 0.6, 0.54, 10]\n[20:34:16] WARNING: C:\\Users\\Administrator\\workspace\\xgboost-win64_release_1.1.0\\src\\learner.cc:480: \nParameters: { objetive } might not be used.\n\n  This may not be accurate due to some parameters are only used in language bindings but\n  passed down to XGBoost core.  Or some parameters are not used but slip through this\n  verification. Please open an issue if you find above cases.\n\n\n",
      "[13, 0.6, 0.52, 9]\n[20:34:21] WARNING: C:\\Users\\Administrator\\workspace\\xgboost-win64_release_1.1.0\\src\\learner.cc:480: \nParameters: { objetive } might not be used.\n\n  This may not be accurate due to some parameters are only used in language bindings but\n  passed down to XGBoost core.  Or some parameters are not used but slip through this\n  verification. Please open an issue if you find above cases.\n\n\n",
      "[13, 0.6, 0.52, 11]\n[20:34:27] WARNING: C:\\Users\\Administrator\\workspace\\xgboost-win64_release_1.1.0\\src\\learner.cc:480: \nParameters: { objetive } might not be used.\n\n  This may not be accurate due to some parameters are only used in language bindings but\n  passed down to XGBoost core.  Or some parameters are not used but slip through this\n  verification. Please open an issue if you find above cases.\n\n\n",
      "[13, 0.6, 0.52, 10]\n[20:34:33] WARNING: C:\\Users\\Administrator\\workspace\\xgboost-win64_release_1.1.0\\src\\learner.cc:480: \nParameters: { objetive } might not be used.\n\n  This may not be accurate due to some parameters are only used in language bindings but\n  passed down to XGBoost core.  Or some parameters are not used but slip through this\n  verification. Please open an issue if you find above cases.\n\n\n",
      "[13, 0.54, 0.5, 9]\n[20:34:39] WARNING: C:\\Users\\Administrator\\workspace\\xgboost-win64_release_1.1.0\\src\\learner.cc:480: \nParameters: { objetive } might not be used.\n\n  This may not be accurate due to some parameters are only used in language bindings but\n  passed down to XGBoost core.  Or some parameters are not used but slip through this\n  verification. Please open an issue if you find above cases.\n\n\n",
      "[13, 0.54, 0.5, 11]\n[20:34:47] WARNING: C:\\Users\\Administrator\\workspace\\xgboost-win64_release_1.1.0\\src\\learner.cc:480: \nParameters: { objetive } might not be used.\n\n  This may not be accurate due to some parameters are only used in language bindings but\n  passed down to XGBoost core.  Or some parameters are not used but slip through this\n  verification. Please open an issue if you find above cases.\n\n\n",
      "[13, 0.54, 0.5, 10]\n[20:34:52] WARNING: C:\\Users\\Administrator\\workspace\\xgboost-win64_release_1.1.0\\src\\learner.cc:480: \nParameters: { objetive } might not be used.\n\n  This may not be accurate due to some parameters are only used in language bindings but\n  passed down to XGBoost core.  Or some parameters are not used but slip through this\n  verification. Please open an issue if you find above cases.\n\n\n",
      "[13, 0.54, 0.6, 9]\n[20:34:56] WARNING: C:\\Users\\Administrator\\workspace\\xgboost-win64_release_1.1.0\\src\\learner.cc:480: \nParameters: { objetive } might not be used.\n\n  This may not be accurate due to some parameters are only used in language bindings but\n  passed down to XGBoost core.  Or some parameters are not used but slip through this\n  verification. Please open an issue if you find above cases.\n\n\n",
      "[13, 0.54, 0.6, 11]\n[20:35:03] WARNING: C:\\Users\\Administrator\\workspace\\xgboost-win64_release_1.1.0\\src\\learner.cc:480: \nParameters: { objetive } might not be used.\n\n  This may not be accurate due to some parameters are only used in language bindings but\n  passed down to XGBoost core.  Or some parameters are not used but slip through this\n  verification. Please open an issue if you find above cases.\n\n\n",
      "[13, 0.54, 0.6, 10]\n[20:35:07] WARNING: C:\\Users\\Administrator\\workspace\\xgboost-win64_release_1.1.0\\src\\learner.cc:480: \nParameters: { objetive } might not be used.\n\n  This may not be accurate due to some parameters are only used in language bindings but\n  passed down to XGBoost core.  Or some parameters are not used but slip through this\n  verification. Please open an issue if you find above cases.\n\n\n",
      "[13, 0.54, 0.54, 9]\n[20:35:13] WARNING: C:\\Users\\Administrator\\workspace\\xgboost-win64_release_1.1.0\\src\\learner.cc:480: \nParameters: { objetive } might not be used.\n\n  This may not be accurate due to some parameters are only used in language bindings but\n  passed down to XGBoost core.  Or some parameters are not used but slip through this\n  verification. Please open an issue if you find above cases.\n\n\n",
      "[13, 0.54, 0.54, 11]\n[20:35:20] WARNING: C:\\Users\\Administrator\\workspace\\xgboost-win64_release_1.1.0\\src\\learner.cc:480: \nParameters: { objetive } might not be used.\n\n  This may not be accurate due to some parameters are only used in language bindings but\n  passed down to XGBoost core.  Or some parameters are not used but slip through this\n  verification. Please open an issue if you find above cases.\n\n\n",
      "[13, 0.54, 0.54, 10]\n[20:35:25] WARNING: C:\\Users\\Administrator\\workspace\\xgboost-win64_release_1.1.0\\src\\learner.cc:480: \nParameters: { objetive } might not be used.\n\n  This may not be accurate due to some parameters are only used in language bindings but\n  passed down to XGBoost core.  Or some parameters are not used but slip through this\n  verification. Please open an issue if you find above cases.\n\n\n",
      "[13, 0.54, 0.52, 9]\n[20:35:31] WARNING: C:\\Users\\Administrator\\workspace\\xgboost-win64_release_1.1.0\\src\\learner.cc:480: \nParameters: { objetive } might not be used.\n\n  This may not be accurate due to some parameters are only used in language bindings but\n  passed down to XGBoost core.  Or some parameters are not used but slip through this\n  verification. Please open an issue if you find above cases.\n\n\n",
      "[13, 0.54, 0.52, 11]\n[20:35:37] WARNING: C:\\Users\\Administrator\\workspace\\xgboost-win64_release_1.1.0\\src\\learner.cc:480: \nParameters: { objetive } might not be used.\n\n  This may not be accurate due to some parameters are only used in language bindings but\n  passed down to XGBoost core.  Or some parameters are not used but slip through this\n  verification. Please open an issue if you find above cases.\n\n\n",
      "[13, 0.54, 0.52, 10]\n[20:35:43] WARNING: C:\\Users\\Administrator\\workspace\\xgboost-win64_release_1.1.0\\src\\learner.cc:480: \nParameters: { objetive } might not be used.\n\n  This may not be accurate due to some parameters are only used in language bindings but\n  passed down to XGBoost core.  Or some parameters are not used but slip through this\n  verification. Please open an issue if you find above cases.\n\n\n",
      "[13, 0.56, 0.5, 9]\n[20:35:49] WARNING: C:\\Users\\Administrator\\workspace\\xgboost-win64_release_1.1.0\\src\\learner.cc:480: \nParameters: { objetive } might not be used.\n\n  This may not be accurate due to some parameters are only used in language bindings but\n  passed down to XGBoost core.  Or some parameters are not used but slip through this\n  verification. Please open an issue if you find above cases.\n\n\n",
      "[13, 0.56, 0.5, 11]\n[20:35:55] WARNING: C:\\Users\\Administrator\\workspace\\xgboost-win64_release_1.1.0\\src\\learner.cc:480: \nParameters: { objetive } might not be used.\n\n  This may not be accurate due to some parameters are only used in language bindings but\n  passed down to XGBoost core.  Or some parameters are not used but slip through this\n  verification. Please open an issue if you find above cases.\n\n\n",
      "[13, 0.56, 0.5, 10]\n[20:36:00] WARNING: C:\\Users\\Administrator\\workspace\\xgboost-win64_release_1.1.0\\src\\learner.cc:480: \nParameters: { objetive } might not be used.\n\n  This may not be accurate due to some parameters are only used in language bindings but\n  passed down to XGBoost core.  Or some parameters are not used but slip through this\n  verification. Please open an issue if you find above cases.\n\n\n",
      "[13, 0.56, 0.6, 9]\n[20:36:05] WARNING: C:\\Users\\Administrator\\workspace\\xgboost-win64_release_1.1.0\\src\\learner.cc:480: \nParameters: { objetive } might not be used.\n\n  This may not be accurate due to some parameters are only used in language bindings but\n  passed down to XGBoost core.  Or some parameters are not used but slip through this\n  verification. Please open an issue if you find above cases.\n\n\n",
      "[13, 0.56, 0.6, 11]\n[20:36:10] WARNING: C:\\Users\\Administrator\\workspace\\xgboost-win64_release_1.1.0\\src\\learner.cc:480: \nParameters: { objetive } might not be used.\n\n  This may not be accurate due to some parameters are only used in language bindings but\n  passed down to XGBoost core.  Or some parameters are not used but slip through this\n  verification. Please open an issue if you find above cases.\n\n\n",
      "[13, 0.56, 0.6, 10]\n[20:36:15] WARNING: C:\\Users\\Administrator\\workspace\\xgboost-win64_release_1.1.0\\src\\learner.cc:480: \nParameters: { objetive } might not be used.\n\n  This may not be accurate due to some parameters are only used in language bindings but\n  passed down to XGBoost core.  Or some parameters are not used but slip through this\n  verification. Please open an issue if you find above cases.\n\n\n",
      "[13, 0.56, 0.54, 9]\n[20:36:21] WARNING: C:\\Users\\Administrator\\workspace\\xgboost-win64_release_1.1.0\\src\\learner.cc:480: \nParameters: { objetive } might not be used.\n\n  This may not be accurate due to some parameters are only used in language bindings but\n  passed down to XGBoost core.  Or some parameters are not used but slip through this\n  verification. Please open an issue if you find above cases.\n\n\n",
      "[13, 0.56, 0.54, 11]\n[20:36:28] WARNING: C:\\Users\\Administrator\\workspace\\xgboost-win64_release_1.1.0\\src\\learner.cc:480: \nParameters: { objetive } might not be used.\n\n  This may not be accurate due to some parameters are only used in language bindings but\n  passed down to XGBoost core.  Or some parameters are not used but slip through this\n  verification. Please open an issue if you find above cases.\n\n\n",
      "[13, 0.56, 0.54, 10]\n[20:36:33] WARNING: C:\\Users\\Administrator\\workspace\\xgboost-win64_release_1.1.0\\src\\learner.cc:480: \nParameters: { objetive } might not be used.\n\n  This may not be accurate due to some parameters are only used in language bindings but\n  passed down to XGBoost core.  Or some parameters are not used but slip through this\n  verification. Please open an issue if you find above cases.\n\n\n",
      "[13, 0.56, 0.56, 9]\n[20:36:39] WARNING: C:\\Users\\Administrator\\workspace\\xgboost-win64_release_1.1.0\\src\\learner.cc:480: \nParameters: { objetive } might not be used.\n\n  This may not be accurate due to some parameters are only used in language bindings but\n  passed down to XGBoost core.  Or some parameters are not used but slip through this\n  verification. Please open an issue if you find above cases.\n\n\n",
      "[13, 0.56, 0.56, 11]\n[20:36:44] WARNING: C:\\Users\\Administrator\\workspace\\xgboost-win64_release_1.1.0\\src\\learner.cc:480: \nParameters: { objetive } might not be used.\n\n  This may not be accurate due to some parameters are only used in language bindings but\n  passed down to XGBoost core.  Or some parameters are not used but slip through this\n  verification. Please open an issue if you find above cases.\n\n\n",
      "[13, 0.56, 0.56, 10]\n[20:36:50] WARNING: C:\\Users\\Administrator\\workspace\\xgboost-win64_release_1.1.0\\src\\learner.cc:480: \nParameters: { objetive } might not be used.\n\n  This may not be accurate due to some parameters are only used in language bindings but\n  passed down to XGBoost core.  Or some parameters are not used but slip through this\n  verification. Please open an issue if you find above cases.\n\n\n",
      "[13, 0.58, 0.5, 9]\n[20:36:55] WARNING: C:\\Users\\Administrator\\workspace\\xgboost-win64_release_1.1.0\\src\\learner.cc:480: \nParameters: { objetive } might not be used.\n\n  This may not be accurate due to some parameters are only used in language bindings but\n  passed down to XGBoost core.  Or some parameters are not used but slip through this\n  verification. Please open an issue if you find above cases.\n\n\n",
      "[13, 0.58, 0.5, 11]\n[20:37:01] WARNING: C:\\Users\\Administrator\\workspace\\xgboost-win64_release_1.1.0\\src\\learner.cc:480: \nParameters: { objetive } might not be used.\n\n  This may not be accurate due to some parameters are only used in language bindings but\n  passed down to XGBoost core.  Or some parameters are not used but slip through this\n  verification. Please open an issue if you find above cases.\n\n\n",
      "[13, 0.58, 0.5, 10]\n[20:37:07] WARNING: C:\\Users\\Administrator\\workspace\\xgboost-win64_release_1.1.0\\src\\learner.cc:480: \nParameters: { objetive } might not be used.\n\n  This may not be accurate due to some parameters are only used in language bindings but\n  passed down to XGBoost core.  Or some parameters are not used but slip through this\n  verification. Please open an issue if you find above cases.\n\n\n",
      "[13, 0.58, 0.6, 9]\n[20:37:13] WARNING: C:\\Users\\Administrator\\workspace\\xgboost-win64_release_1.1.0\\src\\learner.cc:480: \nParameters: { objetive } might not be used.\n\n  This may not be accurate due to some parameters are only used in language bindings but\n  passed down to XGBoost core.  Or some parameters are not used but slip through this\n  verification. Please open an issue if you find above cases.\n\n\n",
      "[13, 0.58, 0.6, 11]\n[20:37:17] WARNING: C:\\Users\\Administrator\\workspace\\xgboost-win64_release_1.1.0\\src\\learner.cc:480: \nParameters: { objetive } might not be used.\n\n  This may not be accurate due to some parameters are only used in language bindings but\n  passed down to XGBoost core.  Or some parameters are not used but slip through this\n  verification. Please open an issue if you find above cases.\n\n\n",
      "[13, 0.58, 0.6, 10]\n[20:37:22] WARNING: C:\\Users\\Administrator\\workspace\\xgboost-win64_release_1.1.0\\src\\learner.cc:480: \nParameters: { objetive } might not be used.\n\n  This may not be accurate due to some parameters are only used in language bindings but\n  passed down to XGBoost core.  Or some parameters are not used but slip through this\n  verification. Please open an issue if you find above cases.\n\n\n",
      "[13, 0.58, 0.54, 9]\n[20:37:29] WARNING: C:\\Users\\Administrator\\workspace\\xgboost-win64_release_1.1.0\\src\\learner.cc:480: \nParameters: { objetive } might not be used.\n\n  This may not be accurate due to some parameters are only used in language bindings but\n  passed down to XGBoost core.  Or some parameters are not used but slip through this\n  verification. Please open an issue if you find above cases.\n\n\n",
      "[13, 0.58, 0.54, 11]\n[20:37:33] WARNING: C:\\Users\\Administrator\\workspace\\xgboost-win64_release_1.1.0\\src\\learner.cc:480: \nParameters: { objetive } might not be used.\n\n  This may not be accurate due to some parameters are only used in language bindings but\n  passed down to XGBoost core.  Or some parameters are not used but slip through this\n  verification. Please open an issue if you find above cases.\n\n\n",
      "[13, 0.58, 0.54, 10]\n[20:37:39] WARNING: C:\\Users\\Administrator\\workspace\\xgboost-win64_release_1.1.0\\src\\learner.cc:480: \nParameters: { objetive } might not be used.\n\n  This may not be accurate due to some parameters are only used in language bindings but\n  passed down to XGBoost core.  Or some parameters are not used but slip through this\n  verification. Please open an issue if you find above cases.\n\n\n",
      "[13, 0.58, 0.52, 9]\n[20:37:44] WARNING: C:\\Users\\Administrator\\workspace\\xgboost-win64_release_1.1.0\\src\\learner.cc:480: \nParameters: { objetive } might not be used.\n\n  This may not be accurate due to some parameters are only used in language bindings but\n  passed down to XGBoost core.  Or some parameters are not used but slip through this\n  verification. Please open an issue if you find above cases.\n\n\n",
      "[13, 0.58, 0.52, 11]\n[20:37:51] WARNING: C:\\Users\\Administrator\\workspace\\xgboost-win64_release_1.1.0\\src\\learner.cc:480: \nParameters: { objetive } might not be used.\n\n  This may not be accurate due to some parameters are only used in language bindings but\n  passed down to XGBoost core.  Or some parameters are not used but slip through this\n  verification. Please open an issue if you find above cases.\n\n\n",
      "[13, 0.58, 0.52, 10]\n[20:37:56] WARNING: C:\\Users\\Administrator\\workspace\\xgboost-win64_release_1.1.0\\src\\learner.cc:480: \nParameters: { objetive } might not be used.\n\n  This may not be accurate due to some parameters are only used in language bindings but\n  passed down to XGBoost core.  Or some parameters are not used but slip through this\n  verification. Please open an issue if you find above cases.\n\n\n",
      "[15, 0.5, 0.5, 9]\n[20:38:01] WARNING: C:\\Users\\Administrator\\workspace\\xgboost-win64_release_1.1.0\\src\\learner.cc:480: \nParameters: { objetive } might not be used.\n\n  This may not be accurate due to some parameters are only used in language bindings but\n  passed down to XGBoost core.  Or some parameters are not used but slip through this\n  verification. Please open an issue if you find above cases.\n\n\n",
      "[15, 0.5, 0.5, 11]\n[20:38:06] WARNING: C:\\Users\\Administrator\\workspace\\xgboost-win64_release_1.1.0\\src\\learner.cc:480: \nParameters: { objetive } might not be used.\n\n  This may not be accurate due to some parameters are only used in language bindings but\n  passed down to XGBoost core.  Or some parameters are not used but slip through this\n  verification. Please open an issue if you find above cases.\n\n\n",
      "[15, 0.5, 0.5, 10]\n[20:38:10] WARNING: C:\\Users\\Administrator\\workspace\\xgboost-win64_release_1.1.0\\src\\learner.cc:480: \nParameters: { objetive } might not be used.\n\n  This may not be accurate due to some parameters are only used in language bindings but\n  passed down to XGBoost core.  Or some parameters are not used but slip through this\n  verification. Please open an issue if you find above cases.\n\n\n",
      "[15, 0.5, 0.6, 9]\n[20:38:17] WARNING: C:\\Users\\Administrator\\workspace\\xgboost-win64_release_1.1.0\\src\\learner.cc:480: \nParameters: { objetive } might not be used.\n\n  This may not be accurate due to some parameters are only used in language bindings but\n  passed down to XGBoost core.  Or some parameters are not used but slip through this\n  verification. Please open an issue if you find above cases.\n\n\n",
      "[15, 0.5, 0.6, 11]\n[20:38:22] WARNING: C:\\Users\\Administrator\\workspace\\xgboost-win64_release_1.1.0\\src\\learner.cc:480: \nParameters: { objetive } might not be used.\n\n  This may not be accurate due to some parameters are only used in language bindings but\n  passed down to XGBoost core.  Or some parameters are not used but slip through this\n  verification. Please open an issue if you find above cases.\n\n\n",
      "[15, 0.5, 0.6, 10]\n[20:38:27] WARNING: C:\\Users\\Administrator\\workspace\\xgboost-win64_release_1.1.0\\src\\learner.cc:480: \nParameters: { objetive } might not be used.\n\n  This may not be accurate due to some parameters are only used in language bindings but\n  passed down to XGBoost core.  Or some parameters are not used but slip through this\n  verification. Please open an issue if you find above cases.\n\n\n",
      "[15, 0.5, 0.54, 9]\n[20:38:33] WARNING: C:\\Users\\Administrator\\workspace\\xgboost-win64_release_1.1.0\\src\\learner.cc:480: \nParameters: { objetive } might not be used.\n\n  This may not be accurate due to some parameters are only used in language bindings but\n  passed down to XGBoost core.  Or some parameters are not used but slip through this\n  verification. Please open an issue if you find above cases.\n\n\n",
      "[15, 0.5, 0.54, 11]\n[20:38:39] WARNING: C:\\Users\\Administrator\\workspace\\xgboost-win64_release_1.1.0\\src\\learner.cc:480: \nParameters: { objetive } might not be used.\n\n  This may not be accurate due to some parameters are only used in language bindings but\n  passed down to XGBoost core.  Or some parameters are not used but slip through this\n  verification. Please open an issue if you find above cases.\n\n\n",
      "[15, 0.5, 0.54, 10]\n[20:38:44] WARNING: C:\\Users\\Administrator\\workspace\\xgboost-win64_release_1.1.0\\src\\learner.cc:480: \nParameters: { objetive } might not be used.\n\n  This may not be accurate due to some parameters are only used in language bindings but\n  passed down to XGBoost core.  Or some parameters are not used but slip through this\n  verification. Please open an issue if you find above cases.\n\n\n",
      "[15, 0.5, 0.52, 9]\n[20:38:49] WARNING: C:\\Users\\Administrator\\workspace\\xgboost-win64_release_1.1.0\\src\\learner.cc:480: \nParameters: { objetive } might not be used.\n\n  This may not be accurate due to some parameters are only used in language bindings but\n  passed down to XGBoost core.  Or some parameters are not used but slip through this\n  verification. Please open an issue if you find above cases.\n\n\n",
      "[15, 0.5, 0.52, 11]\n[20:38:55] WARNING: C:\\Users\\Administrator\\workspace\\xgboost-win64_release_1.1.0\\src\\learner.cc:480: \nParameters: { objetive } might not be used.\n\n  This may not be accurate due to some parameters are only used in language bindings but\n  passed down to XGBoost core.  Or some parameters are not used but slip through this\n  verification. Please open an issue if you find above cases.\n\n\n",
      "[15, 0.5, 0.52, 10]\n[20:39:00] WARNING: C:\\Users\\Administrator\\workspace\\xgboost-win64_release_1.1.0\\src\\learner.cc:480: \nParameters: { objetive } might not be used.\n\n  This may not be accurate due to some parameters are only used in language bindings but\n  passed down to XGBoost core.  Or some parameters are not used but slip through this\n  verification. Please open an issue if you find above cases.\n\n\n",
      "[15, 0.6, 0.5, 9]\n[20:39:06] WARNING: C:\\Users\\Administrator\\workspace\\xgboost-win64_release_1.1.0\\src\\learner.cc:480: \nParameters: { objetive } might not be used.\n\n  This may not be accurate due to some parameters are only used in language bindings but\n  passed down to XGBoost core.  Or some parameters are not used but slip through this\n  verification. Please open an issue if you find above cases.\n\n\n",
      "[15, 0.6, 0.5, 11]\n[20:39:11] WARNING: C:\\Users\\Administrator\\workspace\\xgboost-win64_release_1.1.0\\src\\learner.cc:480: \nParameters: { objetive } might not be used.\n\n  This may not be accurate due to some parameters are only used in language bindings but\n  passed down to XGBoost core.  Or some parameters are not used but slip through this\n  verification. Please open an issue if you find above cases.\n\n\n",
      "[15, 0.6, 0.5, 10]\n[20:39:18] WARNING: C:\\Users\\Administrator\\workspace\\xgboost-win64_release_1.1.0\\src\\learner.cc:480: \nParameters: { objetive } might not be used.\n\n  This may not be accurate due to some parameters are only used in language bindings but\n  passed down to XGBoost core.  Or some parameters are not used but slip through this\n  verification. Please open an issue if you find above cases.\n\n\n",
      "[15, 0.6, 0.6, 9]\n[20:39:24] WARNING: C:\\Users\\Administrator\\workspace\\xgboost-win64_release_1.1.0\\src\\learner.cc:480: \nParameters: { objetive } might not be used.\n\n  This may not be accurate due to some parameters are only used in language bindings but\n  passed down to XGBoost core.  Or some parameters are not used but slip through this\n  verification. Please open an issue if you find above cases.\n\n\n",
      "[15, 0.6, 0.6, 11]\n[20:39:30] WARNING: C:\\Users\\Administrator\\workspace\\xgboost-win64_release_1.1.0\\src\\learner.cc:480: \nParameters: { objetive } might not be used.\n\n  This may not be accurate due to some parameters are only used in language bindings but\n  passed down to XGBoost core.  Or some parameters are not used but slip through this\n  verification. Please open an issue if you find above cases.\n\n\n",
      "[15, 0.6, 0.6, 10]\n[20:39:36] WARNING: C:\\Users\\Administrator\\workspace\\xgboost-win64_release_1.1.0\\src\\learner.cc:480: \nParameters: { objetive } might not be used.\n\n  This may not be accurate due to some parameters are only used in language bindings but\n  passed down to XGBoost core.  Or some parameters are not used but slip through this\n  verification. Please open an issue if you find above cases.\n\n\n",
      "[15, 0.6, 0.54, 9]\n[20:39:43] WARNING: C:\\Users\\Administrator\\workspace\\xgboost-win64_release_1.1.0\\src\\learner.cc:480: \nParameters: { objetive } might not be used.\n\n  This may not be accurate due to some parameters are only used in language bindings but\n  passed down to XGBoost core.  Or some parameters are not used but slip through this\n  verification. Please open an issue if you find above cases.\n\n\n",
      "[15, 0.6, 0.54, 11]\n[20:39:49] WARNING: C:\\Users\\Administrator\\workspace\\xgboost-win64_release_1.1.0\\src\\learner.cc:480: \nParameters: { objetive } might not be used.\n\n  This may not be accurate due to some parameters are only used in language bindings but\n  passed down to XGBoost core.  Or some parameters are not used but slip through this\n  verification. Please open an issue if you find above cases.\n\n\n",
      "[15, 0.6, 0.54, 10]\n[20:39:55] WARNING: C:\\Users\\Administrator\\workspace\\xgboost-win64_release_1.1.0\\src\\learner.cc:480: \nParameters: { objetive } might not be used.\n\n  This may not be accurate due to some parameters are only used in language bindings but\n  passed down to XGBoost core.  Or some parameters are not used but slip through this\n  verification. Please open an issue if you find above cases.\n\n\n",
      "[15, 0.6, 0.52, 9]\n[20:40:02] WARNING: C:\\Users\\Administrator\\workspace\\xgboost-win64_release_1.1.0\\src\\learner.cc:480: \nParameters: { objetive } might not be used.\n\n  This may not be accurate due to some parameters are only used in language bindings but\n  passed down to XGBoost core.  Or some parameters are not used but slip through this\n  verification. Please open an issue if you find above cases.\n\n\n",
      "[15, 0.6, 0.52, 11]\n[20:40:06] WARNING: C:\\Users\\Administrator\\workspace\\xgboost-win64_release_1.1.0\\src\\learner.cc:480: \nParameters: { objetive } might not be used.\n\n  This may not be accurate due to some parameters are only used in language bindings but\n  passed down to XGBoost core.  Or some parameters are not used but slip through this\n  verification. Please open an issue if you find above cases.\n\n\n",
      "[15, 0.6, 0.52, 10]\n[20:40:11] WARNING: C:\\Users\\Administrator\\workspace\\xgboost-win64_release_1.1.0\\src\\learner.cc:480: \nParameters: { objetive } might not be used.\n\n  This may not be accurate due to some parameters are only used in language bindings but\n  passed down to XGBoost core.  Or some parameters are not used but slip through this\n  verification. Please open an issue if you find above cases.\n\n\n",
      "[15, 0.54, 0.5, 9]\n[20:40:18] WARNING: C:\\Users\\Administrator\\workspace\\xgboost-win64_release_1.1.0\\src\\learner.cc:480: \nParameters: { objetive } might not be used.\n\n  This may not be accurate due to some parameters are only used in language bindings but\n  passed down to XGBoost core.  Or some parameters are not used but slip through this\n  verification. Please open an issue if you find above cases.\n\n\n",
      "[15, 0.54, 0.5, 11]\n[20:40:23] WARNING: C:\\Users\\Administrator\\workspace\\xgboost-win64_release_1.1.0\\src\\learner.cc:480: \nParameters: { objetive } might not be used.\n\n  This may not be accurate due to some parameters are only used in language bindings but\n  passed down to XGBoost core.  Or some parameters are not used but slip through this\n  verification. Please open an issue if you find above cases.\n\n\n",
      "[15, 0.54, 0.5, 10]\n[20:40:29] WARNING: C:\\Users\\Administrator\\workspace\\xgboost-win64_release_1.1.0\\src\\learner.cc:480: \nParameters: { objetive } might not be used.\n\n  This may not be accurate due to some parameters are only used in language bindings but\n  passed down to XGBoost core.  Or some parameters are not used but slip through this\n  verification. Please open an issue if you find above cases.\n\n\n",
      "[15, 0.54, 0.6, 9]\n[20:40:34] WARNING: C:\\Users\\Administrator\\workspace\\xgboost-win64_release_1.1.0\\src\\learner.cc:480: \nParameters: { objetive } might not be used.\n\n  This may not be accurate due to some parameters are only used in language bindings but\n  passed down to XGBoost core.  Or some parameters are not used but slip through this\n  verification. Please open an issue if you find above cases.\n\n\n",
      "[15, 0.54, 0.6, 11]\n[20:40:41] WARNING: C:\\Users\\Administrator\\workspace\\xgboost-win64_release_1.1.0\\src\\learner.cc:480: \nParameters: { objetive } might not be used.\n\n  This may not be accurate due to some parameters are only used in language bindings but\n  passed down to XGBoost core.  Or some parameters are not used but slip through this\n  verification. Please open an issue if you find above cases.\n\n\n",
      "[15, 0.54, 0.6, 10]\n[20:40:46] WARNING: C:\\Users\\Administrator\\workspace\\xgboost-win64_release_1.1.0\\src\\learner.cc:480: \nParameters: { objetive } might not be used.\n\n  This may not be accurate due to some parameters are only used in language bindings but\n  passed down to XGBoost core.  Or some parameters are not used but slip through this\n  verification. Please open an issue if you find above cases.\n\n\n",
      "[15, 0.54, 0.54, 9]\n[20:40:52] WARNING: C:\\Users\\Administrator\\workspace\\xgboost-win64_release_1.1.0\\src\\learner.cc:480: \nParameters: { objetive } might not be used.\n\n  This may not be accurate due to some parameters are only used in language bindings but\n  passed down to XGBoost core.  Or some parameters are not used but slip through this\n  verification. Please open an issue if you find above cases.\n\n\n",
      "[15, 0.54, 0.54, 11]\n[20:40:58] WARNING: C:\\Users\\Administrator\\workspace\\xgboost-win64_release_1.1.0\\src\\learner.cc:480: \nParameters: { objetive } might not be used.\n\n  This may not be accurate due to some parameters are only used in language bindings but\n  passed down to XGBoost core.  Or some parameters are not used but slip through this\n  verification. Please open an issue if you find above cases.\n\n\n",
      "[15, 0.54, 0.54, 10]\n[20:41:04] WARNING: C:\\Users\\Administrator\\workspace\\xgboost-win64_release_1.1.0\\src\\learner.cc:480: \nParameters: { objetive } might not be used.\n\n  This may not be accurate due to some parameters are only used in language bindings but\n  passed down to XGBoost core.  Or some parameters are not used but slip through this\n  verification. Please open an issue if you find above cases.\n\n\n",
      "[15, 0.54, 0.52, 9]\n[20:41:11] WARNING: C:\\Users\\Administrator\\workspace\\xgboost-win64_release_1.1.0\\src\\learner.cc:480: \nParameters: { objetive } might not be used.\n\n  This may not be accurate due to some parameters are only used in language bindings but\n  passed down to XGBoost core.  Or some parameters are not used but slip through this\n  verification. Please open an issue if you find above cases.\n\n\n",
      "[15, 0.54, 0.52, 11]\n[20:41:17] WARNING: C:\\Users\\Administrator\\workspace\\xgboost-win64_release_1.1.0\\src\\learner.cc:480: \nParameters: { objetive } might not be used.\n\n  This may not be accurate due to some parameters are only used in language bindings but\n  passed down to XGBoost core.  Or some parameters are not used but slip through this\n  verification. Please open an issue if you find above cases.\n\n\n",
      "[15, 0.54, 0.52, 10]\n[20:41:21] WARNING: C:\\Users\\Administrator\\workspace\\xgboost-win64_release_1.1.0\\src\\learner.cc:480: \nParameters: { objetive } might not be used.\n\n  This may not be accurate due to some parameters are only used in language bindings but\n  passed down to XGBoost core.  Or some parameters are not used but slip through this\n  verification. Please open an issue if you find above cases.\n\n\n",
      "[15, 0.56, 0.5, 9]\n[20:41:27] WARNING: C:\\Users\\Administrator\\workspace\\xgboost-win64_release_1.1.0\\src\\learner.cc:480: \nParameters: { objetive } might not be used.\n\n  This may not be accurate due to some parameters are only used in language bindings but\n  passed down to XGBoost core.  Or some parameters are not used but slip through this\n  verification. Please open an issue if you find above cases.\n\n\n",
      "[15, 0.56, 0.5, 11]\n[20:41:33] WARNING: C:\\Users\\Administrator\\workspace\\xgboost-win64_release_1.1.0\\src\\learner.cc:480: \nParameters: { objetive } might not be used.\n\n  This may not be accurate due to some parameters are only used in language bindings but\n  passed down to XGBoost core.  Or some parameters are not used but slip through this\n  verification. Please open an issue if you find above cases.\n\n\n",
      "[15, 0.56, 0.5, 10]\n[20:41:39] WARNING: C:\\Users\\Administrator\\workspace\\xgboost-win64_release_1.1.0\\src\\learner.cc:480: \nParameters: { objetive } might not be used.\n\n  This may not be accurate due to some parameters are only used in language bindings but\n  passed down to XGBoost core.  Or some parameters are not used but slip through this\n  verification. Please open an issue if you find above cases.\n\n\n",
      "[15, 0.56, 0.6, 9]\n[20:41:45] WARNING: C:\\Users\\Administrator\\workspace\\xgboost-win64_release_1.1.0\\src\\learner.cc:480: \nParameters: { objetive } might not be used.\n\n  This may not be accurate due to some parameters are only used in language bindings but\n  passed down to XGBoost core.  Or some parameters are not used but slip through this\n  verification. Please open an issue if you find above cases.\n\n\n",
      "[15, 0.56, 0.6, 11]\n[20:41:51] WARNING: C:\\Users\\Administrator\\workspace\\xgboost-win64_release_1.1.0\\src\\learner.cc:480: \nParameters: { objetive } might not be used.\n\n  This may not be accurate due to some parameters are only used in language bindings but\n  passed down to XGBoost core.  Or some parameters are not used but slip through this\n  verification. Please open an issue if you find above cases.\n\n\n",
      "[15, 0.56, 0.6, 10]\n[20:41:57] WARNING: C:\\Users\\Administrator\\workspace\\xgboost-win64_release_1.1.0\\src\\learner.cc:480: \nParameters: { objetive } might not be used.\n\n  This may not be accurate due to some parameters are only used in language bindings but\n  passed down to XGBoost core.  Or some parameters are not used but slip through this\n  verification. Please open an issue if you find above cases.\n\n\n",
      "[15, 0.56, 0.54, 9]\n[20:42:04] WARNING: C:\\Users\\Administrator\\workspace\\xgboost-win64_release_1.1.0\\src\\learner.cc:480: \nParameters: { objetive } might not be used.\n\n  This may not be accurate due to some parameters are only used in language bindings but\n  passed down to XGBoost core.  Or some parameters are not used but slip through this\n  verification. Please open an issue if you find above cases.\n\n\n",
      "[15, 0.56, 0.54, 11]\n[20:42:10] WARNING: C:\\Users\\Administrator\\workspace\\xgboost-win64_release_1.1.0\\src\\learner.cc:480: \nParameters: { objetive } might not be used.\n\n  This may not be accurate due to some parameters are only used in language bindings but\n  passed down to XGBoost core.  Or some parameters are not used but slip through this\n  verification. Please open an issue if you find above cases.\n\n\n",
      "[15, 0.56, 0.54, 10]\n[20:42:17] WARNING: C:\\Users\\Administrator\\workspace\\xgboost-win64_release_1.1.0\\src\\learner.cc:480: \nParameters: { objetive } might not be used.\n\n  This may not be accurate due to some parameters are only used in language bindings but\n  passed down to XGBoost core.  Or some parameters are not used but slip through this\n  verification. Please open an issue if you find above cases.\n\n\n",
      "[15, 0.56, 0.56, 9]\n[20:42:23] WARNING: C:\\Users\\Administrator\\workspace\\xgboost-win64_release_1.1.0\\src\\learner.cc:480: \nParameters: { objetive } might not be used.\n\n  This may not be accurate due to some parameters are only used in language bindings but\n  passed down to XGBoost core.  Or some parameters are not used but slip through this\n  verification. Please open an issue if you find above cases.\n\n\n",
      "[15, 0.56, 0.56, 11]\n[20:42:29] WARNING: C:\\Users\\Administrator\\workspace\\xgboost-win64_release_1.1.0\\src\\learner.cc:480: \nParameters: { objetive } might not be used.\n\n  This may not be accurate due to some parameters are only used in language bindings but\n  passed down to XGBoost core.  Or some parameters are not used but slip through this\n  verification. Please open an issue if you find above cases.\n\n\n",
      "[15, 0.56, 0.56, 10]\n[20:42:35] WARNING: C:\\Users\\Administrator\\workspace\\xgboost-win64_release_1.1.0\\src\\learner.cc:480: \nParameters: { objetive } might not be used.\n\n  This may not be accurate due to some parameters are only used in language bindings but\n  passed down to XGBoost core.  Or some parameters are not used but slip through this\n  verification. Please open an issue if you find above cases.\n\n\n",
      "[14, 0.5, 0.5, 9]\n[20:42:39] WARNING: C:\\Users\\Administrator\\workspace\\xgboost-win64_release_1.1.0\\src\\learner.cc:480: \nParameters: { objetive } might not be used.\n\n  This may not be accurate due to some parameters are only used in language bindings but\n  passed down to XGBoost core.  Or some parameters are not used but slip through this\n  verification. Please open an issue if you find above cases.\n\n\n",
      "[14, 0.5, 0.5, 11]\n[20:42:44] WARNING: C:\\Users\\Administrator\\workspace\\xgboost-win64_release_1.1.0\\src\\learner.cc:480: \nParameters: { objetive } might not be used.\n\n  This may not be accurate due to some parameters are only used in language bindings but\n  passed down to XGBoost core.  Or some parameters are not used but slip through this\n  verification. Please open an issue if you find above cases.\n\n\n",
      "[14, 0.5, 0.5, 10]\n[20:42:50] WARNING: C:\\Users\\Administrator\\workspace\\xgboost-win64_release_1.1.0\\src\\learner.cc:480: \nParameters: { objetive } might not be used.\n\n  This may not be accurate due to some parameters are only used in language bindings but\n  passed down to XGBoost core.  Or some parameters are not used but slip through this\n  verification. Please open an issue if you find above cases.\n\n\n",
      "[14, 0.5, 0.6, 9]\n[20:42:54] WARNING: C:\\Users\\Administrator\\workspace\\xgboost-win64_release_1.1.0\\src\\learner.cc:480: \nParameters: { objetive } might not be used.\n\n  This may not be accurate due to some parameters are only used in language bindings but\n  passed down to XGBoost core.  Or some parameters are not used but slip through this\n  verification. Please open an issue if you find above cases.\n\n\n",
      "[14, 0.5, 0.6, 11]\n[20:43:00] WARNING: C:\\Users\\Administrator\\workspace\\xgboost-win64_release_1.1.0\\src\\learner.cc:480: \nParameters: { objetive } might not be used.\n\n  This may not be accurate due to some parameters are only used in language bindings but\n  passed down to XGBoost core.  Or some parameters are not used but slip through this\n  verification. Please open an issue if you find above cases.\n\n\n",
      "[14, 0.5, 0.6, 10]\n[20:43:05] WARNING: C:\\Users\\Administrator\\workspace\\xgboost-win64_release_1.1.0\\src\\learner.cc:480: \nParameters: { objetive } might not be used.\n\n  This may not be accurate due to some parameters are only used in language bindings but\n  passed down to XGBoost core.  Or some parameters are not used but slip through this\n  verification. Please open an issue if you find above cases.\n\n\n",
      "[14, 0.5, 0.54, 9]\n[20:43:11] WARNING: C:\\Users\\Administrator\\workspace\\xgboost-win64_release_1.1.0\\src\\learner.cc:480: \nParameters: { objetive } might not be used.\n\n  This may not be accurate due to some parameters are only used in language bindings but\n  passed down to XGBoost core.  Or some parameters are not used but slip through this\n  verification. Please open an issue if you find above cases.\n\n\n",
      "[14, 0.5, 0.54, 11]\n[20:43:17] WARNING: C:\\Users\\Administrator\\workspace\\xgboost-win64_release_1.1.0\\src\\learner.cc:480: \nParameters: { objetive } might not be used.\n\n  This may not be accurate due to some parameters are only used in language bindings but\n  passed down to XGBoost core.  Or some parameters are not used but slip through this\n  verification. Please open an issue if you find above cases.\n\n\n",
      "[14, 0.5, 0.54, 10]\n[20:43:21] WARNING: C:\\Users\\Administrator\\workspace\\xgboost-win64_release_1.1.0\\src\\learner.cc:480: \nParameters: { objetive } might not be used.\n\n  This may not be accurate due to some parameters are only used in language bindings but\n  passed down to XGBoost core.  Or some parameters are not used but slip through this\n  verification. Please open an issue if you find above cases.\n\n\n",
      "[14, 0.5, 0.56, 9]\n[20:43:27] WARNING: C:\\Users\\Administrator\\workspace\\xgboost-win64_release_1.1.0\\src\\learner.cc:480: \nParameters: { objetive } might not be used.\n\n  This may not be accurate due to some parameters are only used in language bindings but\n  passed down to XGBoost core.  Or some parameters are not used but slip through this\n  verification. Please open an issue if you find above cases.\n\n\n",
      "[14, 0.5, 0.56, 11]\n[20:43:33] WARNING: C:\\Users\\Administrator\\workspace\\xgboost-win64_release_1.1.0\\src\\learner.cc:480: \nParameters: { objetive } might not be used.\n\n  This may not be accurate due to some parameters are only used in language bindings but\n  passed down to XGBoost core.  Or some parameters are not used but slip through this\n  verification. Please open an issue if you find above cases.\n\n\n",
      "[14, 0.5, 0.56, 10]\n[20:43:38] WARNING: C:\\Users\\Administrator\\workspace\\xgboost-win64_release_1.1.0\\src\\learner.cc:480: \nParameters: { objetive } might not be used.\n\n  This may not be accurate due to some parameters are only used in language bindings but\n  passed down to XGBoost core.  Or some parameters are not used but slip through this\n  verification. Please open an issue if you find above cases.\n\n\n",
      "[14, 0.5, 0.58, 9]\n[20:43:45] WARNING: C:\\Users\\Administrator\\workspace\\xgboost-win64_release_1.1.0\\src\\learner.cc:480: \nParameters: { objetive } might not be used.\n\n  This may not be accurate due to some parameters are only used in language bindings but\n  passed down to XGBoost core.  Or some parameters are not used but slip through this\n  verification. Please open an issue if you find above cases.\n\n\n",
      "[14, 0.5, 0.58, 11]\n[20:43:51] WARNING: C:\\Users\\Administrator\\workspace\\xgboost-win64_release_1.1.0\\src\\learner.cc:480: \nParameters: { objetive } might not be used.\n\n  This may not be accurate due to some parameters are only used in language bindings but\n  passed down to XGBoost core.  Or some parameters are not used but slip through this\n  verification. Please open an issue if you find above cases.\n\n\n",
      "[14, 0.5, 0.58, 10]\n[20:43:57] WARNING: C:\\Users\\Administrator\\workspace\\xgboost-win64_release_1.1.0\\src\\learner.cc:480: \nParameters: { objetive } might not be used.\n\n  This may not be accurate due to some parameters are only used in language bindings but\n  passed down to XGBoost core.  Or some parameters are not used but slip through this\n  verification. Please open an issue if you find above cases.\n\n\n",
      "[14, 0.6, 0.5, 9]\n[20:44:02] WARNING: C:\\Users\\Administrator\\workspace\\xgboost-win64_release_1.1.0\\src\\learner.cc:480: \nParameters: { objetive } might not be used.\n\n  This may not be accurate due to some parameters are only used in language bindings but\n  passed down to XGBoost core.  Or some parameters are not used but slip through this\n  verification. Please open an issue if you find above cases.\n\n\n",
      "[14, 0.6, 0.5, 11]\n[20:44:08] WARNING: C:\\Users\\Administrator\\workspace\\xgboost-win64_release_1.1.0\\src\\learner.cc:480: \nParameters: { objetive } might not be used.\n\n  This may not be accurate due to some parameters are only used in language bindings but\n  passed down to XGBoost core.  Or some parameters are not used but slip through this\n  verification. Please open an issue if you find above cases.\n\n\n",
      "[14, 0.6, 0.5, 10]\n[20:44:13] WARNING: C:\\Users\\Administrator\\workspace\\xgboost-win64_release_1.1.0\\src\\learner.cc:480: \nParameters: { objetive } might not be used.\n\n  This may not be accurate due to some parameters are only used in language bindings but\n  passed down to XGBoost core.  Or some parameters are not used but slip through this\n  verification. Please open an issue if you find above cases.\n\n\n",
      "[14, 0.6, 0.6, 9]\n[20:44:20] WARNING: C:\\Users\\Administrator\\workspace\\xgboost-win64_release_1.1.0\\src\\learner.cc:480: \nParameters: { objetive } might not be used.\n\n  This may not be accurate due to some parameters are only used in language bindings but\n  passed down to XGBoost core.  Or some parameters are not used but slip through this\n  verification. Please open an issue if you find above cases.\n\n\n",
      "[14, 0.6, 0.6, 11]\n[20:44:25] WARNING: C:\\Users\\Administrator\\workspace\\xgboost-win64_release_1.1.0\\src\\learner.cc:480: \nParameters: { objetive } might not be used.\n\n  This may not be accurate due to some parameters are only used in language bindings but\n  passed down to XGBoost core.  Or some parameters are not used but slip through this\n  verification. Please open an issue if you find above cases.\n\n\n",
      "[14, 0.6, 0.6, 10]\n[20:44:29] WARNING: C:\\Users\\Administrator\\workspace\\xgboost-win64_release_1.1.0\\src\\learner.cc:480: \nParameters: { objetive } might not be used.\n\n  This may not be accurate due to some parameters are only used in language bindings but\n  passed down to XGBoost core.  Or some parameters are not used but slip through this\n  verification. Please open an issue if you find above cases.\n\n\n",
      "[14, 0.6, 0.54, 9]\n[20:44:35] WARNING: C:\\Users\\Administrator\\workspace\\xgboost-win64_release_1.1.0\\src\\learner.cc:480: \nParameters: { objetive } might not be used.\n\n  This may not be accurate due to some parameters are only used in language bindings but\n  passed down to XGBoost core.  Or some parameters are not used but slip through this\n  verification. Please open an issue if you find above cases.\n\n\n",
      "[14, 0.6, 0.54, 11]\n[20:44:40] WARNING: C:\\Users\\Administrator\\workspace\\xgboost-win64_release_1.1.0\\src\\learner.cc:480: \nParameters: { objetive } might not be used.\n\n  This may not be accurate due to some parameters are only used in language bindings but\n  passed down to XGBoost core.  Or some parameters are not used but slip through this\n  verification. Please open an issue if you find above cases.\n\n\n",
      "[14, 0.6, 0.54, 10]\n[20:44:46] WARNING: C:\\Users\\Administrator\\workspace\\xgboost-win64_release_1.1.0\\src\\learner.cc:480: \nParameters: { objetive } might not be used.\n\n  This may not be accurate due to some parameters are only used in language bindings but\n  passed down to XGBoost core.  Or some parameters are not used but slip through this\n  verification. Please open an issue if you find above cases.\n\n\n",
      "[14, 0.6, 0.56, 9]\n[20:44:52] WARNING: C:\\Users\\Administrator\\workspace\\xgboost-win64_release_1.1.0\\src\\learner.cc:480: \nParameters: { objetive } might not be used.\n\n  This may not be accurate due to some parameters are only used in language bindings but\n  passed down to XGBoost core.  Or some parameters are not used but slip through this\n  verification. Please open an issue if you find above cases.\n\n\n",
      "[14, 0.6, 0.56, 11]\n[20:44:59] WARNING: C:\\Users\\Administrator\\workspace\\xgboost-win64_release_1.1.0\\src\\learner.cc:480: \nParameters: { objetive } might not be used.\n\n  This may not be accurate due to some parameters are only used in language bindings but\n  passed down to XGBoost core.  Or some parameters are not used but slip through this\n  verification. Please open an issue if you find above cases.\n\n\n",
      "[14, 0.6, 0.56, 10]\n[20:45:04] WARNING: C:\\Users\\Administrator\\workspace\\xgboost-win64_release_1.1.0\\src\\learner.cc:480: \nParameters: { objetive } might not be used.\n\n  This may not be accurate due to some parameters are only used in language bindings but\n  passed down to XGBoost core.  Or some parameters are not used but slip through this\n  verification. Please open an issue if you find above cases.\n\n\n",
      "[14, 0.6, 0.58, 9]\n[20:45:10] WARNING: C:\\Users\\Administrator\\workspace\\xgboost-win64_release_1.1.0\\src\\learner.cc:480: \nParameters: { objetive } might not be used.\n\n  This may not be accurate due to some parameters are only used in language bindings but\n  passed down to XGBoost core.  Or some parameters are not used but slip through this\n  verification. Please open an issue if you find above cases.\n\n\n",
      "[14, 0.6, 0.58, 11]\n[20:45:16] WARNING: C:\\Users\\Administrator\\workspace\\xgboost-win64_release_1.1.0\\src\\learner.cc:480: \nParameters: { objetive } might not be used.\n\n  This may not be accurate due to some parameters are only used in language bindings but\n  passed down to XGBoost core.  Or some parameters are not used but slip through this\n  verification. Please open an issue if you find above cases.\n\n\n",
      "[14, 0.6, 0.58, 10]\n[20:45:22] WARNING: C:\\Users\\Administrator\\workspace\\xgboost-win64_release_1.1.0\\src\\learner.cc:480: \nParameters: { objetive } might not be used.\n\n  This may not be accurate due to some parameters are only used in language bindings but\n  passed down to XGBoost core.  Or some parameters are not used but slip through this\n  verification. Please open an issue if you find above cases.\n\n\n",
      "[14, 0.54, 0.5, 9]\n[20:45:28] WARNING: C:\\Users\\Administrator\\workspace\\xgboost-win64_release_1.1.0\\src\\learner.cc:480: \nParameters: { objetive } might not be used.\n\n  This may not be accurate due to some parameters are only used in language bindings but\n  passed down to XGBoost core.  Or some parameters are not used but slip through this\n  verification. Please open an issue if you find above cases.\n\n\n",
      "[14, 0.54, 0.5, 11]\n[20:45:35] WARNING: C:\\Users\\Administrator\\workspace\\xgboost-win64_release_1.1.0\\src\\learner.cc:480: \nParameters: { objetive } might not be used.\n\n  This may not be accurate due to some parameters are only used in language bindings but\n  passed down to XGBoost core.  Or some parameters are not used but slip through this\n  verification. Please open an issue if you find above cases.\n\n\n",
      "[14, 0.54, 0.5, 10]\n[20:45:40] WARNING: C:\\Users\\Administrator\\workspace\\xgboost-win64_release_1.1.0\\src\\learner.cc:480: \nParameters: { objetive } might not be used.\n\n  This may not be accurate due to some parameters are only used in language bindings but\n  passed down to XGBoost core.  Or some parameters are not used but slip through this\n  verification. Please open an issue if you find above cases.\n\n\n",
      "[14, 0.54, 0.6, 9]\n[20:45:46] WARNING: C:\\Users\\Administrator\\workspace\\xgboost-win64_release_1.1.0\\src\\learner.cc:480: \nParameters: { objetive } might not be used.\n\n  This may not be accurate due to some parameters are only used in language bindings but\n  passed down to XGBoost core.  Or some parameters are not used but slip through this\n  verification. Please open an issue if you find above cases.\n\n\n",
      "[14, 0.54, 0.6, 11]\n[20:45:53] WARNING: C:\\Users\\Administrator\\workspace\\xgboost-win64_release_1.1.0\\src\\learner.cc:480: \nParameters: { objetive } might not be used.\n\n  This may not be accurate due to some parameters are only used in language bindings but\n  passed down to XGBoost core.  Or some parameters are not used but slip through this\n  verification. Please open an issue if you find above cases.\n\n\n",
      "[14, 0.54, 0.6, 10]\n[20:45:58] WARNING: C:\\Users\\Administrator\\workspace\\xgboost-win64_release_1.1.0\\src\\learner.cc:480: \nParameters: { objetive } might not be used.\n\n  This may not be accurate due to some parameters are only used in language bindings but\n  passed down to XGBoost core.  Or some parameters are not used but slip through this\n  verification. Please open an issue if you find above cases.\n\n\n",
      "[14, 0.54, 0.54, 9]\n[20:46:03] WARNING: C:\\Users\\Administrator\\workspace\\xgboost-win64_release_1.1.0\\src\\learner.cc:480: \nParameters: { objetive } might not be used.\n\n  This may not be accurate due to some parameters are only used in language bindings but\n  passed down to XGBoost core.  Or some parameters are not used but slip through this\n  verification. Please open an issue if you find above cases.\n\n\n",
      "[14, 0.54, 0.54, 11]\n[20:46:10] WARNING: C:\\Users\\Administrator\\workspace\\xgboost-win64_release_1.1.0\\src\\learner.cc:480: \nParameters: { objetive } might not be used.\n\n  This may not be accurate due to some parameters are only used in language bindings but\n  passed down to XGBoost core.  Or some parameters are not used but slip through this\n  verification. Please open an issue if you find above cases.\n\n\n",
      "[14, 0.54, 0.54, 10]\n[20:46:17] WARNING: C:\\Users\\Administrator\\workspace\\xgboost-win64_release_1.1.0\\src\\learner.cc:480: \nParameters: { objetive } might not be used.\n\n  This may not be accurate due to some parameters are only used in language bindings but\n  passed down to XGBoost core.  Or some parameters are not used but slip through this\n  verification. Please open an issue if you find above cases.\n\n\n",
      "[14, 0.54, 0.56, 9]\n[20:46:24] WARNING: C:\\Users\\Administrator\\workspace\\xgboost-win64_release_1.1.0\\src\\learner.cc:480: \nParameters: { objetive } might not be used.\n\n  This may not be accurate due to some parameters are only used in language bindings but\n  passed down to XGBoost core.  Or some parameters are not used but slip through this\n  verification. Please open an issue if you find above cases.\n\n\n",
      "[14, 0.54, 0.56, 11]\n[20:46:30] WARNING: C:\\Users\\Administrator\\workspace\\xgboost-win64_release_1.1.0\\src\\learner.cc:480: \nParameters: { objetive } might not be used.\n\n  This may not be accurate due to some parameters are only used in language bindings but\n  passed down to XGBoost core.  Or some parameters are not used but slip through this\n  verification. Please open an issue if you find above cases.\n\n\n",
      "[14, 0.54, 0.56, 10]\n[20:46:35] WARNING: C:\\Users\\Administrator\\workspace\\xgboost-win64_release_1.1.0\\src\\learner.cc:480: \nParameters: { objetive } might not be used.\n\n  This may not be accurate due to some parameters are only used in language bindings but\n  passed down to XGBoost core.  Or some parameters are not used but slip through this\n  verification. Please open an issue if you find above cases.\n\n\n",
      "[14, 0.54, 0.58, 9]\n[20:46:41] WARNING: C:\\Users\\Administrator\\workspace\\xgboost-win64_release_1.1.0\\src\\learner.cc:480: \nParameters: { objetive } might not be used.\n\n  This may not be accurate due to some parameters are only used in language bindings but\n  passed down to XGBoost core.  Or some parameters are not used but slip through this\n  verification. Please open an issue if you find above cases.\n\n\n",
      "[14, 0.54, 0.58, 11]\n[20:46:46] WARNING: C:\\Users\\Administrator\\workspace\\xgboost-win64_release_1.1.0\\src\\learner.cc:480: \nParameters: { objetive } might not be used.\n\n  This may not be accurate due to some parameters are only used in language bindings but\n  passed down to XGBoost core.  Or some parameters are not used but slip through this\n  verification. Please open an issue if you find above cases.\n\n\n",
      "[14, 0.54, 0.58, 10]\n[20:46:52] WARNING: C:\\Users\\Administrator\\workspace\\xgboost-win64_release_1.1.0\\src\\learner.cc:480: \nParameters: { objetive } might not be used.\n\n  This may not be accurate due to some parameters are only used in language bindings but\n  passed down to XGBoost core.  Or some parameters are not used but slip through this\n  verification. Please open an issue if you find above cases.\n\n\n",
      "[14, 0.56, 0.5, 9]\n[20:46:59] WARNING: C:\\Users\\Administrator\\workspace\\xgboost-win64_release_1.1.0\\src\\learner.cc:480: \nParameters: { objetive } might not be used.\n\n  This may not be accurate due to some parameters are only used in language bindings but\n  passed down to XGBoost core.  Or some parameters are not used but slip through this\n  verification. Please open an issue if you find above cases.\n\n\n",
      "[14, 0.56, 0.5, 11]\n[20:47:05] WARNING: C:\\Users\\Administrator\\workspace\\xgboost-win64_release_1.1.0\\src\\learner.cc:480: \nParameters: { objetive } might not be used.\n\n  This may not be accurate due to some parameters are only used in language bindings but\n  passed down to XGBoost core.  Or some parameters are not used but slip through this\n  verification. Please open an issue if you find above cases.\n\n\n",
      "[14, 0.56, 0.5, 10]\n[20:47:11] WARNING: C:\\Users\\Administrator\\workspace\\xgboost-win64_release_1.1.0\\src\\learner.cc:480: \nParameters: { objetive } might not be used.\n\n  This may not be accurate due to some parameters are only used in language bindings but\n  passed down to XGBoost core.  Or some parameters are not used but slip through this\n  verification. Please open an issue if you find above cases.\n\n\n",
      "[14, 0.56, 0.6, 9]\n[20:47:17] WARNING: C:\\Users\\Administrator\\workspace\\xgboost-win64_release_1.1.0\\src\\learner.cc:480: \nParameters: { objetive } might not be used.\n\n  This may not be accurate due to some parameters are only used in language bindings but\n  passed down to XGBoost core.  Or some parameters are not used but slip through this\n  verification. Please open an issue if you find above cases.\n\n\n",
      "[14, 0.56, 0.6, 11]\n[20:47:22] WARNING: C:\\Users\\Administrator\\workspace\\xgboost-win64_release_1.1.0\\src\\learner.cc:480: \nParameters: { objetive } might not be used.\n\n  This may not be accurate due to some parameters are only used in language bindings but\n  passed down to XGBoost core.  Or some parameters are not used but slip through this\n  verification. Please open an issue if you find above cases.\n\n\n",
      "[14, 0.56, 0.6, 10]\n[20:47:28] WARNING: C:\\Users\\Administrator\\workspace\\xgboost-win64_release_1.1.0\\src\\learner.cc:480: \nParameters: { objetive } might not be used.\n\n  This may not be accurate due to some parameters are only used in language bindings but\n  passed down to XGBoost core.  Or some parameters are not used but slip through this\n  verification. Please open an issue if you find above cases.\n\n\n",
      "[14, 0.56, 0.54, 9]\n[20:47:33] WARNING: C:\\Users\\Administrator\\workspace\\xgboost-win64_release_1.1.0\\src\\learner.cc:480: \nParameters: { objetive } might not be used.\n\n  This may not be accurate due to some parameters are only used in language bindings but\n  passed down to XGBoost core.  Or some parameters are not used but slip through this\n  verification. Please open an issue if you find above cases.\n\n\n",
      "[14, 0.56, 0.54, 11]\n[20:47:38] WARNING: C:\\Users\\Administrator\\workspace\\xgboost-win64_release_1.1.0\\src\\learner.cc:480: \nParameters: { objetive } might not be used.\n\n  This may not be accurate due to some parameters are only used in language bindings but\n  passed down to XGBoost core.  Or some parameters are not used but slip through this\n  verification. Please open an issue if you find above cases.\n\n\n",
      "[14, 0.56, 0.54, 10]\n[20:47:45] WARNING: C:\\Users\\Administrator\\workspace\\xgboost-win64_release_1.1.0\\src\\learner.cc:480: \nParameters: { objetive } might not be used.\n\n  This may not be accurate due to some parameters are only used in language bindings but\n  passed down to XGBoost core.  Or some parameters are not used but slip through this\n  verification. Please open an issue if you find above cases.\n\n\n",
      "[14, 0.56, 0.52, 9]\n[20:47:51] WARNING: C:\\Users\\Administrator\\workspace\\xgboost-win64_release_1.1.0\\src\\learner.cc:480: \nParameters: { objetive } might not be used.\n\n  This may not be accurate due to some parameters are only used in language bindings but\n  passed down to XGBoost core.  Or some parameters are not used but slip through this\n  verification. Please open an issue if you find above cases.\n\n\n",
      "[14, 0.56, 0.52, 11]\n[20:47:58] WARNING: C:\\Users\\Administrator\\workspace\\xgboost-win64_release_1.1.0\\src\\learner.cc:480: \nParameters: { objetive } might not be used.\n\n  This may not be accurate due to some parameters are only used in language bindings but\n  passed down to XGBoost core.  Or some parameters are not used but slip through this\n  verification. Please open an issue if you find above cases.\n\n\n",
      "[14, 0.56, 0.52, 10]\n[20:48:05] WARNING: C:\\Users\\Administrator\\workspace\\xgboost-win64_release_1.1.0\\src\\learner.cc:480: \nParameters: { objetive } might not be used.\n\n  This may not be accurate due to some parameters are only used in language bindings but\n  passed down to XGBoost core.  Or some parameters are not used but slip through this\n  verification. Please open an issue if you find above cases.\n\n\n",
      "maximo 0.6653831343858299 parametros (iter,learning,profundidad) [14, 0.56, 0.52, 10]\n"
     ],
     "output_type": "stream"
    }
   ],
   "source": [
    "#los rangos se van afinando segun corren las pruevas\n",
    "def busqueda_de_hiperparametros_optimos_XGBoost_busqueda_binaria():\n",
    "    parametrosXGBoostProfundidad = list(range(13,16,1))\n",
    "    parametrosXGBoostColSample = list(range(50,61,2))\n",
    "    for i in range(len(parametrosXGBoostColSample)):\n",
    "        parametrosXGBoostColSample[i] /= 100\n",
    "    parametrosXGBoostLR = list(range(50,61,2))\n",
    "    for i in range(len(parametrosXGBoostLR)):\n",
    "        parametrosXGBoostLR[i] /= 100\n",
    "    parametrosXGBoostAlpha = list(range(9,12,1))\n",
    "    listaDeParametros = [parametrosXGBoostProfundidad,parametrosXGBoostColSample,parametrosXGBoostLR,parametrosXGBoostAlpha]\n",
    "    maximo,parametros =busqueda_binaria_de_maximos(listaDeParametros,\n",
    "                                                   [0,0,0,0],\n",
    "                                                   0,\n",
    "                                                   ultimo_Hiper_Parametro_XGBoost)\n",
    "    print(\"maximo {} parametros (iter,learning,profundidad) {}\".format(maximo,parametros))\n",
    "busqueda_de_hiperparametros_optimos_XGBoost_busqueda_binaria()"
   ],
   "metadata": {
    "collapsed": false,
    "pycharm": {
     "name": "#%%\n",
     "is_executing": false
    }
   }
  },
  {
   "cell_type": "code",
   "execution_count": 65,
   "metadata": {
    "pycharm": {
     "is_executing": false
    }
   },
   "outputs": [],
   "source": [
    "xgb_reg = xgb.XGBRegressor(max_depth = 15, \n",
    "                           colsample_bytree = 0.5, \n",
    "                           learning_rate = 0.8, \n",
    "                           alpha = 10,\n",
    "                           objetive = 'reg:squarederror')\n",
    "\n",
    "xgb_reg.fit(train_set, train_label)"
   ]
  },
  {
   "cell_type": "code",
   "execution_count": 67,
   "metadata": {
    "pycharm": {
     "is_executing": false
    }
   },
   "outputs": [],
   "source": [
    "result = pd.read_csv('sample_submission.csv',index_col=['id'])"
   ]
  },
  {
   "cell_type": "code",
   "execution_count": 68,
   "metadata": {
    "scrolled": false,
    "pycharm": {
     "is_executing": false
    }
   },
   "outputs": [
    {
     "name": "stdout",
     "text": [
      "0.6576819407008088\n"
     ],
     "output_type": "stream"
    }
   ],
   "source": [
    "predicts = xgb_reg.predict(test_set).round()\n",
    "result['target'] = predicts\n",
    "print(F1(result))"
   ]
  },
  {
   "cell_type": "markdown",
   "metadata": {},
   "source": [
    "Con K-FOLDS"
   ]
  },
  {
   "cell_type": "code",
   "execution_count": 64,
   "metadata": {
    "pycharm": {
     "is_executing": false
    }
   },
   "outputs": [
    {
     "name": "stdout",
     "text": [
      "49                   0.48\nName: test-rmse-mean, dtype: float64\n"
     ],
     "output_type": "stream"
    }
   ],
   "source": [
    "dmatrix = xgb.DMatrix(data=train_set,label=train_label)\n",
    "params = {'colsample_bytree': 0.3, 'learning_rate': 0.1, 'max_depth': 5, 'alpha': 10}\n",
    "\n",
    "cv_results = xgb.cv(dtrain=dmatrix, params=params, nfold=3,\n",
    "                    num_boost_round=50, early_stopping_rounds=10,\n",
    "                    metrics=\"rmse\", as_pandas=True, seed=123)\n",
    "#ultimo error\n",
    "print((cv_results[\"test-rmse-mean\"]).tail(1))\n"
   ]
  },
  {
   "cell_type": "code",
   "execution_count": 65,
   "outputs": [
    {
     "data": {
      "text/plain": "       train-rmse-mean       train-rmse-std       test-rmse-mean  \\\n0                 0.50                 0.00                 0.50   \n1                 0.50                 0.00                 0.50   \n2                 0.50                 0.00                 0.50   \n3                 0.50                 0.00                 0.50   \n4                 0.49                 0.00                 0.49   \n\n         test-rmse-std  \n0                 0.00  \n1                 0.00  \n2                 0.00  \n3                 0.00  \n4                 0.00  ",
      "text/html": "<div>\n<style scoped>\n    .dataframe tbody tr th:only-of-type {\n        vertical-align: middle;\n    }\n\n    .dataframe tbody tr th {\n        vertical-align: top;\n    }\n\n    .dataframe thead th {\n        text-align: right;\n    }\n</style>\n<table border=\"1\" class=\"dataframe\">\n  <thead>\n    <tr style=\"text-align: right;\">\n      <th></th>\n      <th>train-rmse-mean</th>\n      <th>train-rmse-std</th>\n      <th>test-rmse-mean</th>\n      <th>test-rmse-std</th>\n    </tr>\n  </thead>\n  <tbody>\n    <tr>\n      <th>0</th>\n      <td>0.50</td>\n      <td>0.00</td>\n      <td>0.50</td>\n      <td>0.00</td>\n    </tr>\n    <tr>\n      <th>1</th>\n      <td>0.50</td>\n      <td>0.00</td>\n      <td>0.50</td>\n      <td>0.00</td>\n    </tr>\n    <tr>\n      <th>2</th>\n      <td>0.50</td>\n      <td>0.00</td>\n      <td>0.50</td>\n      <td>0.00</td>\n    </tr>\n    <tr>\n      <th>3</th>\n      <td>0.50</td>\n      <td>0.00</td>\n      <td>0.50</td>\n      <td>0.00</td>\n    </tr>\n    <tr>\n      <th>4</th>\n      <td>0.49</td>\n      <td>0.00</td>\n      <td>0.49</td>\n      <td>0.00</td>\n    </tr>\n  </tbody>\n</table>\n</div>"
     },
     "metadata": {},
     "output_type": "execute_result",
     "execution_count": 65
    }
   ],
   "source": [
    "cv_results.head()"
   ],
   "metadata": {
    "collapsed": false,
    "pycharm": {
     "name": "#%%\n",
     "is_executing": false
    }
   }
  },
  {
   "cell_type": "code",
   "execution_count": 69,
   "metadata": {
    "scrolled": false,
    "pycharm": {
     "is_executing": false
    }
   },
   "outputs": [
    {
     "traceback": [
      "\u001b[1;31m---------------------------------------------------------------------------\u001b[0m",
      "\u001b[1;31mNameError\u001b[0m                                 Traceback (most recent call last)",
      "\u001b[1;32m<ipython-input-69-a1e36d08c173>\u001b[0m in \u001b[0;36m<module>\u001b[1;34m\u001b[0m\n\u001b[0;32m      1\u001b[0m \u001b[0mos\u001b[0m\u001b[1;33m.\u001b[0m\u001b[0menviron\u001b[0m\u001b[1;33m[\u001b[0m\u001b[1;34m\"PATH\"\u001b[0m\u001b[1;33m]\u001b[0m \u001b[1;33m+=\u001b[0m \u001b[0mos\u001b[0m\u001b[1;33m.\u001b[0m\u001b[0mpathsep\u001b[0m \u001b[1;33m+\u001b[0m \u001b[1;34m'D:/Program Files (x86)/Graphviz2.38/bin/'\u001b[0m\u001b[1;33m\u001b[0m\u001b[1;33m\u001b[0m\u001b[0m\n\u001b[0;32m      2\u001b[0m \u001b[1;33m\u001b[0m\u001b[0m\n\u001b[1;32m----> 3\u001b[1;33m \u001b[0mxg_reg\u001b[0m \u001b[1;33m=\u001b[0m \u001b[0mxgb\u001b[0m\u001b[1;33m.\u001b[0m\u001b[0mtrain\u001b[0m\u001b[1;33m(\u001b[0m\u001b[0mparams\u001b[0m\u001b[1;33m=\u001b[0m\u001b[0mparams\u001b[0m\u001b[1;33m,\u001b[0m \u001b[0mdtrain\u001b[0m\u001b[1;33m=\u001b[0m\u001b[0mdmatrix\u001b[0m\u001b[1;33m,\u001b[0m \u001b[0mnum_boost_round\u001b[0m\u001b[1;33m=\u001b[0m\u001b[1;36m10\u001b[0m\u001b[1;33m)\u001b[0m\u001b[1;33m\u001b[0m\u001b[1;33m\u001b[0m\u001b[0m\n\u001b[0m\u001b[0;32m      4\u001b[0m \u001b[0mplt\u001b[0m\u001b[1;33m.\u001b[0m\u001b[0mrcParams\u001b[0m\u001b[1;33m[\u001b[0m\u001b[1;34m'figure.figsize'\u001b[0m\u001b[1;33m]\u001b[0m \u001b[1;33m=\u001b[0m \u001b[1;33m[\u001b[0m\u001b[1;36m20\u001b[0m\u001b[1;33m,\u001b[0m \u001b[1;36m20\u001b[0m\u001b[1;33m]\u001b[0m\u001b[1;33m\u001b[0m\u001b[1;33m\u001b[0m\u001b[0m\n\u001b[0;32m      5\u001b[0m \u001b[0mxgb\u001b[0m\u001b[1;33m.\u001b[0m\u001b[0mto_graphviz\u001b[0m\u001b[1;33m(\u001b[0m\u001b[0mxg_reg\u001b[0m\u001b[1;33m,\u001b[0m\u001b[0mnum_trees\u001b[0m\u001b[1;33m=\u001b[0m\u001b[1;36m0\u001b[0m\u001b[1;33m)\u001b[0m\u001b[1;33m\u001b[0m\u001b[1;33m\u001b[0m\u001b[0m\n",
      "\u001b[1;31mNameError\u001b[0m: name 'params' is not defined"
     ],
     "ename": "NameError",
     "evalue": "name 'params' is not defined",
     "output_type": "error"
    }
   ],
   "source": [
    "\n",
    "os.environ[\"PATH\"] += os.pathsep + 'D:/Program Files (x86)/Graphviz2.38/bin/'\n",
    "\n",
    "xg_reg = xgb.train(params=params, dtrain=dmatrix, num_boost_round=10)\n",
    "plt.rcParams['figure.figsize'] = [20, 20]\n",
    "xgb.to_graphviz(xg_reg,num_trees=0)"
   ]
  },
  {
   "cell_type": "markdown",
   "metadata": {},
   "source": [
    "Importancia de cada feature"
   ]
  },
  {
   "cell_type": "code",
   "execution_count": 70,
   "metadata": {
    "scrolled": true,
    "pycharm": {
     "is_executing": false
    }
   },
   "outputs": [
    {
     "traceback": [
      "\u001b[1;31m---------------------------------------------------------------------------\u001b[0m",
      "\u001b[1;31mNameError\u001b[0m                                 Traceback (most recent call last)",
      "\u001b[1;32m<ipython-input-70-5f754eb06a3c>\u001b[0m in \u001b[0;36m<module>\u001b[1;34m\u001b[0m\n\u001b[0;32m      1\u001b[0m \u001b[0mplt\u001b[0m\u001b[1;33m.\u001b[0m\u001b[0mrcParams\u001b[0m\u001b[1;33m[\u001b[0m\u001b[1;34m'figure.figsize'\u001b[0m\u001b[1;33m]\u001b[0m \u001b[1;33m=\u001b[0m \u001b[1;33m[\u001b[0m\u001b[1;36m12\u001b[0m\u001b[1;33m,\u001b[0m \u001b[1;36m7\u001b[0m\u001b[1;33m]\u001b[0m\u001b[1;33m\u001b[0m\u001b[1;33m\u001b[0m\u001b[0m\n\u001b[1;32m----> 2\u001b[1;33m \u001b[0mxgb\u001b[0m\u001b[1;33m.\u001b[0m\u001b[0mplot_importance\u001b[0m\u001b[1;33m(\u001b[0m\u001b[0mxg_reg\u001b[0m\u001b[1;33m)\u001b[0m\u001b[1;33m\u001b[0m\u001b[1;33m\u001b[0m\u001b[0m\n\u001b[0m\u001b[0;32m      3\u001b[0m \u001b[1;33m\u001b[0m\u001b[0m\n",
      "\u001b[1;31mNameError\u001b[0m: name 'xg_reg' is not defined"
     ],
     "ename": "NameError",
     "evalue": "name 'xg_reg' is not defined",
     "output_type": "error"
    }
   ],
   "source": [
    "plt.rcParams['figure.figsize'] = [12, 7]\n",
    "xgb.plot_importance(xg_reg)"
   ]
  },
  {
   "cell_type": "markdown",
   "metadata": {},
   "source": [
    "# Random Forest"
   ]
  },
  {
   "cell_type": "code",
   "execution_count": 27,
   "metadata": {
    "pycharm": {
     "is_executing": false
    }
   },
   "outputs": [
    {
     "data": {
      "text/plain": "RandomForestRegressor(max_features=4, n_estimators=20, random_state=1)"
     },
     "metadata": {},
     "output_type": "execute_result",
     "execution_count": 27
    }
   ],
   "source": [
    "rf = RandomForestRegressor(random_state=1, n_estimators = 20, max_features = 4)\n",
    "rf.fit(train_set, train_label)"
   ]
  },
  {
   "cell_type": "code",
   "execution_count": 28,
   "metadata": {
    "pycharm": {
     "is_executing": false
    }
   },
   "outputs": [
    {
     "name": "stdout",
     "text": [
      "0.6429400386847194\n"
     ],
     "output_type": "stream"
    }
   ],
   "source": [
    "result = pd.read_csv('sample_submission.csv',index_col=['id'])\n",
    "predicts = rf.predict(test_set).round()\n",
    "result['target'] = predicts\n",
    "print(F1(result))"
   ]
  },
  {
   "cell_type": "code",
   "execution_count": 63,
   "outputs": [],
   "source": [
    "plt.barh(train_set.columns, rf.feature_importances_)\n",
    "plt.xlabel('Features de train')\n",
    "plt.ylabel('Importancia')\n",
    "plt.title('Importancia vs Features con Random Forest')\n",
    "plt.show()"
   ],
   "metadata": {
    "collapsed": false,
    "pycharm": {
     "name": "#%%\n",
     "is_executing": false
    }
   }
  },
  {
   "cell_type": "code",
   "execution_count": 29,
   "outputs": [
    {
     "name": "stdout",
     "text": [
      "[1, 10, 3]\n",
      "[1, 10, 23]\n",
      "[1, 10, 13]\n",
      "[1, 10, 17]\n",
      "[1, 10, 15]\n",
      "[1, 30, 3]\n",
      "[1, 30, 23]\n",
      "[1, 30, 13]\n",
      "[1, 30, 17]\n",
      "[1, 30, 15]\n",
      "[1, 20, 3]\n",
      "[1, 20, 23]\n",
      "[1, 20, 13]\n",
      "[1, 20, 17]\n",
      "[1, 20, 15]\n",
      "[1, 24, 3]\n",
      "[1, 24, 23]\n",
      "[1, 24, 13]\n",
      "[1, 24, 17]\n",
      "[1, 24, 15]\n",
      "[1, 26, 3]\n",
      "[1, 26, 23]\n",
      "[1, 26, 13]\n",
      "[1, 26, 17]\n",
      "[1, 26, 15]\n",
      "[6, 10, 3]\n",
      "[6, 10, 23]\n",
      "[6, 10, 13]\n",
      "[6, 10, 17]\n",
      "[6, 10, 15]\n",
      "[6, 30, 3]\n",
      "[6, 30, 23]\n",
      "[6, 30, 13]\n",
      "[6, 30, 17]\n",
      "[6, 30, 19]\n",
      "[6, 20, 3]\n",
      "[6, 20, 23]\n",
      "[6, 20, 13]\n",
      "[6, 20, 17]\n",
      "[6, 20, 19]\n",
      "[6, 24, 3]\n",
      "[6, 24, 23]\n",
      "[6, 24, 13]\n",
      "[6, 24, 7]\n",
      "[6, 24, 5]\n",
      "[6, 22, 3]\n",
      "[6, 22, 23]\n",
      "[6, 22, 13]\n",
      "[6, 22, 17]\n",
      "[6, 22, 19]\n",
      "[3, 10, 3]\n",
      "[3, 10, 23]\n",
      "[3, 10, 13]\n",
      "[3, 10, 7]\n",
      "[3, 10, 9]\n",
      "[3, 10, 11]\n",
      "[3, 30, 3]\n",
      "[3, 30, 23]\n",
      "[3, 30, 13]\n",
      "[3, 30, 17]\n",
      "[3, 30, 19]\n",
      "[3, 30, 21]\n",
      "[3, 20, 3]\n",
      "[3, 20, 23]\n",
      "[3, 20, 13]\n",
      "[3, 20, 17]\n",
      "[3, 20, 19]\n",
      "[3, 20, 21]\n",
      "[3, 24, 3]\n",
      "[3, 24, 23]\n",
      "[3, 24, 13]\n",
      "[3, 24, 17]\n",
      "[3, 24, 19]\n",
      "[3, 24, 21]\n",
      "[3, 26, 3]\n",
      "[3, 26, 23]\n",
      "[3, 26, 13]\n",
      "[3, 26, 17]\n",
      "[3, 26, 15]\n",
      "[3, 28, 3]\n",
      "[3, 28, 23]\n",
      "[3, 28, 13]\n",
      "[3, 28, 17]\n",
      "[3, 28, 19]\n",
      "[3, 28, 21]\n",
      "[2, 10, 3]\n",
      "[2, 10, 23]\n",
      "[2, 10, 13]\n",
      "[2, 10, 17]\n",
      "[2, 10, 19]\n",
      "[2, 10, 21]\n",
      "[2, 30, 3]\n",
      "[2, 30, 23]\n",
      "[2, 30, 13]\n",
      "[2, 30, 7]\n",
      "[2, 30, 5]\n",
      "[2, 20, 3]\n",
      "[2, 20, 23]\n",
      "[2, 20, 13]\n",
      "[2, 20, 17]\n",
      "[2, 20, 19]\n",
      "[2, 20, 21]\n",
      "[2, 24, 3]\n",
      "[2, 24, 23]\n",
      "[2, 24, 13]\n",
      "[2, 24, 7]\n",
      "[2, 24, 5]\n",
      "[2, 26, 3]\n",
      "[2, 26, 23]\n",
      "[2, 26, 13]\n",
      "[2, 26, 17]\n",
      "[2, 26, 19]\n",
      "[2, 26, 21]\n",
      "maximo 0.6595256312165264 parametros (iter,learning,profundidad) [2, 26, 21]\n"
     ],
     "output_type": "stream"
    }
   ],
   "source": [
    "#los rangos se van afinando segun corren las pruevas\n",
    "def busqueda_de_hiperparametros_optimos_ramdom_forest_busqueda_binaria():\n",
    "    parametrosRFRandom_state = list(range(1,7,1))\n",
    "    parametrosRFn_estimators = list(range(10,31,2))\n",
    "    parametrosRFmax_features = list(range(3,24,2))\n",
    "    listaDeParametros = [parametrosRFRandom_state,parametrosRFn_estimators,parametrosRFmax_features]\n",
    "    maximo,parametros =busqueda_binaria_de_maximos(listaDeParametros,\n",
    "                                                   [0,0,0],\n",
    "                                                   0,\n",
    "                                                   ultimo_Hiper_Parametro_Ramdom_forest)\n",
    "    print(\"maximo {} parametros (iter,learning,profundidad) {}\".format(maximo,parametros))\n",
    "busqueda_de_hiperparametros_optimos_ramdom_forest_busqueda_binaria()"
   ],
   "metadata": {
    "collapsed": false,
    "pycharm": {
     "name": "#%%\n",
     "is_executing": false
    }
   }
  },
  {
   "cell_type": "markdown",
   "source": [
    "## Redes Neuronales"
   ],
   "metadata": {
    "collapsed": false
   }
  },
  {
   "cell_type": "code",
   "execution_count": 30,
   "outputs": [
    {
     "name": "stdout",
     "text": [
      "Model: \"sequential\"\n_________________________________________________________________\nLayer (type)                 Output Shape              Param #   \n=================================================================\ndense (Dense)                (None, 128)               55168     \n_________________________________________________________________\ndense_1 (Dense)              (None, 128)               16512     \n_________________________________________________________________\ndense_2 (Dense)              (None, 1)                 129       \n=================================================================\nTotal params: 71,809\nTrainable params: 71,809\nNon-trainable params: 0\n_________________________________________________________________\n"
     ],
     "output_type": "stream"
    }
   ],
   "source": [
    "\n",
    "def build_model():\n",
    "  model = keras.Sequential([\n",
    "    layers.Dense(128, activation='relu', input_shape=[len(train_set.keys())]),\n",
    "    layers.Dense(128, activation='relu'),\n",
    "    layers.Dense(1)\n",
    "  ])\n",
    "\n",
    "  optimizer = tf.keras.optimizers.RMSprop(0.001)\n",
    "\n",
    "  model.compile(loss='mse',\n",
    "                optimizer=optimizer,\n",
    "                metrics=['mae', 'mse'])\n",
    "  return model\n",
    "\n",
    "model = build_model()\n",
    "model.summary()"
   ],
   "metadata": {
    "collapsed": false,
    "pycharm": {
     "name": "#%%\n",
     "is_executing": false
    }
   }
  },
  {
   "cell_type": "code",
   "execution_count": 31,
   "outputs": [
    {
     "name": "stdout",
     "text": [
      "\n.",
      ".",
      ".",
      ".",
      ".",
      ".",
      ".",
      ".",
      ".",
      ".",
      ".",
      ".",
      ".",
      ".",
      ".",
      ".",
      ".",
      ".",
      ".",
      ".",
      ".",
      ".",
      ".",
      ".",
      ".",
      ".",
      ".",
      ".",
      ".",
      ".",
      ".",
      "."
     ],
     "output_type": "stream"
    }
   ],
   "source": [
    "class PrintDot(keras.callbacks.Callback):\n",
    "  def on_epoch_end(self, epoch, logs):\n",
    "    if epoch % 100 == 0: print('')\n",
    "    print('.', end='')\n",
    "\n",
    "EPOCHS = 1000\n",
    "\n",
    "early_stop = keras.callbacks.EarlyStopping(monitor='val_loss', patience=20)\n",
    "\n",
    "history = model.fit(train_set, train_label, epochs=EPOCHS,\n",
    "                    validation_split = 0.2, verbose=0, callbacks=[early_stop, PrintDot()])"
   ],
   "metadata": {
    "collapsed": false,
    "pycharm": {
     "name": "#%%\n",
     "is_executing": false
    }
   }
  },
  {
   "cell_type": "code",
   "execution_count": 32,
   "outputs": [
    {
     "data": {
      "text/plain": "<Figure size 1152x648 with 1 Axes>",
      "image/png": "[encoded data removed]"
     },
     "metadata": {},
     "output_type": "display_data"
    },
    {
     "data": {
      "text/plain": "<Figure size 1152x648 with 1 Axes>",
      "image/png": "[encoded data removed]"
     },
     "metadata": {},
     "output_type": "display_data"
    }
   ],
   "source": [
    "hist = pd.DataFrame(history.history)\n",
    "hist['epoch'] = history.epoch\n",
    "\n",
    "def plot_history(history):\n",
    "  hist = pd.DataFrame(history.history)\n",
    "  hist['epoch'] = history.epoch\n",
    "\n",
    "  plt.figure()\n",
    "  plt.xlabel('Epoch')\n",
    "  plt.ylabel('Mean Abs Error')\n",
    "  plt.plot(hist['epoch'], hist['mae'],\n",
    "           label='Train Error')\n",
    "  plt.plot(hist['epoch'], hist['val_mae'],\n",
    "           label = 'Val Error')\n",
    "  plt.ylim([0,5])\n",
    "  plt.legend()\n",
    "\n",
    "  plt.figure()\n",
    "  plt.xlabel('Epoch')\n",
    "  plt.ylabel('Mean Square Error')\n",
    "  plt.plot(hist['epoch'], hist['mse'],\n",
    "           label='Train Error')\n",
    "  plt.plot(hist['epoch'], hist['val_mse'],\n",
    "           label = 'Val Error')\n",
    "  plt.ylim([0,20])\n",
    "  plt.legend()\n",
    "  plt.show()\n",
    "\n",
    "\n",
    "plot_history(history)"
   ],
   "metadata": {
    "collapsed": false,
    "pycharm": {
     "name": "#%%\n",
     "is_executing": false
    }
   }
  },
  {
   "cell_type": "code",
   "execution_count": 33,
   "outputs": [
    {
     "name": "stdout",
     "text": [
      "0.6143465909090909\n"
     ],
     "output_type": "stream"
    }
   ],
   "source": [
    "preds = model.predict(np.asarray(test_set)).round()\n",
    "result['target'] = preds\n",
    "print(F1(result))\n"
   ],
   "metadata": {
    "collapsed": false,
    "pycharm": {
     "name": "#%%\n",
     "is_executing": false
    }
   }
  },
  {
   "cell_type": "markdown",
   "source": [
    "## TF-IDF"
   ],
   "metadata": {
    "collapsed": false
   }
  },
  {
   "cell_type": "code",
   "execution_count": 78,
   "outputs": [
    {
     "data": {
      "text/plain": "LogisticRegression(C=10, solver='sag')"
     },
     "metadata": {},
     "output_type": "execute_result",
     "execution_count": 78
    }
   ],
   "source": [
    "from sklearn.linear_model import LogisticRegression\n",
    "classifier = LogisticRegression(solver='sag', C=10)\n",
    "classifier.fit(train_set, train_label)"
   ],
   "metadata": {
    "collapsed": false,
    "pycharm": {
     "name": "#%%\n",
     "is_executing": false
    }
   }
  },
  {
   "cell_type": "code",
   "execution_count": 79,
   "outputs": [
    {
     "name": "stdout",
     "text": [
      "0.49274160099543757\n"
     ],
     "output_type": "stream"
    }
   ],
   "source": [
    "preds = classifier.predict(test_set)\n",
    "result['target'] = preds\n",
    "print(F1(result))"
   ],
   "metadata": {
    "collapsed": false,
    "pycharm": {
     "name": "#%%\n",
     "is_executing": false
    }
   }
  },
  {
   "cell_type": "code",
   "execution_count": 35,
   "outputs": [
    {
     "name": "stdout",
     "text": [
      "0.2390805634162692 longitud_de_texto\n0.10356755451085793 longitud_de_keyword\n0.1495785422543723 cantidad_de_palabras_texto\n0.00237350375031132 cantidad_de_palabras_keyword\n0.04685193773478123 cantidad_de_hashtag_en_texto\n0.004982539313145062 letra_0\n0.003926678582109837 letra_1\n0.004440598419622883 letra_2\n0.005233410028750109 letra_3\n0.0027622963481758874 earthquake\n0.002358470515813103 everyone\n0.0016901006666783641 street\n0.001392154803011899 hey\n0.00214993673194334 im\n0.001033612848961267 song\n0.0013459283696241483 traffic\n0.002461013186582841 black\n0.0033705876530110736 injured\n0.001626441965061608 week\n0.0012977403101263724 fall\n0.001594919807935172 far\n0.0010876019596148874 history\n0.0010840221701216746 hard\n0.002529627304767267 lol\n0.0016005423181616816 fan\n0.002106555365330004 god\n0.0027767866723538053 air\n0.0014003068324652227 island\n0.0020361721529647578 times\n0.007302318866651086 train\n0.001051999048052131 die\n0.0018248692018590466 change\n0.0015764677032969036 latest\n0.0015124668692279692 pakistan\n0.001872583852202618 big\n0.0010802192175297992 miss\n0.00112032665341032 weapon\n0.0012471788616191396 lot\n0.003126383782038611 time\n0.00102720023807461 fukushima\n0.003796918248602936 nuclear\n0.0015663306164032116 book\n0.0014159940787617515 turkey\n0.0015786448005137097 site\n0.0025277376223977036 help\n0.0014415293699384616 hear\n0.002949003439786448 pm\n0.001275238648798061 post\n0.0020443611282247457 hot\n0.002075412367513136 better\n0.0016510264262280749 bag\n0.0012683931234419412 ebola\n0.0010779757564960027 tomorrow\n0.0012745500878390428 ok\n0.002527864545757649 school\n0.002319716039460509 story\n0.0010713833236944885 name\n0.0010213028404991117 hell\n0.0010096175020253909 drake\n0.0023216708940437766 abc\n0.003220302111139931 japan\n0.0011067862080023552 anything\n0.0010583080340576772 states\n0.0010662060281178601 failure\n0.0012487263075719544 tonight\n0.0010721088638457176 children\n0.0019545953703887344 area\n0.001116844963166452 worse\n0.0013688752019462712 explosion\n0.0012217529267068343 trapped\n0.001221573560845762 maybe\n0.0011004995260186809 india\n0.0027634118176262717 officials\n0.0030363953965558523 investigators\n0.0016863119050543993 floods\n0.0016495308049762816 terrorist\n0.0010391250322356641 passengers\n0.0011057075336575143 peace\n0.0011373950271728985 libya\n0.0018032059479601713 evacuation\n0.001629409842431337 theater\n0.001088113258000132 hostage\n0.0017574755983630244 detonated\n0.0012380361383519396 gun\n0.0010499373857936448 tragedy\n0.002101617976212307 projected\n0.001935213864117912 location_palabra_0\n0.0020253560003658526 location_palabra_2\n0.0024245835882353364 location_palabra_3\n0.0018593669823577126 location_palabra_4\n0.0023965314902333213 location_palabra_5\n0.0025938447302839 location_palabra_6\n0.003222118293726095 location_palabra_7\n0.0028307669521819914 location_palabra_8\n0.002591628692144604 location_palabra_9\n0.0030170729005660492 location_palabra_10\n0.002233876853370022 location_palabra_11\n0.0217166272835874 keyword_palabra_0\n0.009836870464537783 keyword_palabra_1\n0.019925615936382455 keyword_palabra_2\n0.017843305368881415 keyword_palabra_3\n0.02358903261147145 keyword_palabra_4\n0.01869999906938677 keyword_palabra_5\n0.03275719122141423 keyword_palabra_6\n0.027647624805756593 keyword_palabra_7\n105\n"
     ],
     "output_type": "stream"
    }
   ],
   "source": [
    "#NO EJECUTAR ESTA CELDA SALVO NESESIDAD DE ACTUALIZAR LAS PALABRAS IMPORTANTES\n",
    "importancia = rf.feature_importances_\n",
    "cols = test_set.columns\n",
    "#dataImportacia = pd.DataFrame(columns=('importacia', 'col'))\n",
    "#dataImportacia['importacia'] = importancia\n",
    "#dataImportacia['col'] = cols\n",
    "#dataImportacia = dataImportacia[dataImportacia['importacia'] > 0.001]\n",
    "#dataImportacia.to_csv('impotacia.csv', index=False)#linea bloqueada por las dudas\n",
    "cantidadImportantes = 0\n",
    "for i in range(len(cols)):\n",
    "    if (importancia[i] < 0.001):\n",
    "        continue\n",
    "    print(importancia[i],cols[i])\n",
    "    cantidadImportantes += 1\n",
    "print(cantidadImportantes,len(cols))\n",
    "#dataImportacia.head()"
   ],
   "metadata": {
    "collapsed": false,
    "pycharm": {
     "name": "#%%\n",
     "is_executing": false
    }
   }
  },
  {
   "cell_type": "markdown",
   "metadata": {},
   "source": [
    "## ENTREGA"
   ]
  },
  {
   "cell_type": "code",
   "execution_count": 31,
   "outputs": [
    {
     "data": {
      "text/plain": "                 target\nid                     \n0                  0.00\n2                  1.00\n3                  1.00\n9                  0.00\n11                 1.00",
      "text/html": "<div>\n<style scoped>\n    .dataframe tbody tr th:only-of-type {\n        vertical-align: middle;\n    }\n\n    .dataframe tbody tr th {\n        vertical-align: top;\n    }\n\n    .dataframe thead th {\n        text-align: right;\n    }\n</style>\n<table border=\"1\" class=\"dataframe\">\n  <thead>\n    <tr style=\"text-align: right;\">\n      <th></th>\n      <th>target</th>\n    </tr>\n    <tr>\n      <th>id</th>\n      <th></th>\n    </tr>\n  </thead>\n  <tbody>\n    <tr>\n      <th>0</th>\n      <td>0.00</td>\n    </tr>\n    <tr>\n      <th>2</th>\n      <td>1.00</td>\n    </tr>\n    <tr>\n      <th>3</th>\n      <td>1.00</td>\n    </tr>\n    <tr>\n      <th>9</th>\n      <td>0.00</td>\n    </tr>\n    <tr>\n      <th>11</th>\n      <td>1.00</td>\n    </tr>\n  </tbody>\n</table>\n</div>"
     },
     "metadata": {},
     "output_type": "execute_result",
     "execution_count": 31
    }
   ],
   "source": [
    "resultado_final = result#varia segun el metodo\n",
    "#resultado_final.columns = ['id','target']\n",
    "#resultado_final.reset_index()\n",
    "resultado_final.head()"
   ],
   "metadata": {
    "collapsed": false,
    "pycharm": {
     "name": "#%%\n",
     "is_executing": false
    }
   }
  },
  {
   "cell_type": "code",
   "execution_count": 32,
   "metadata": {
    "pycharm": {
     "name": "#%%\n",
     "is_executing": false
    }
   },
   "outputs": [],
   "source": [
    "#cuando todo termina el archivo de entrega\n",
    "resultado_final.to_csv('submit.csv', index=False)"
   ]
  }
 ],
 "metadata": {
  "kernelspec": {
   "name": "python3",
   "language": "python",
   "display_name": "Python 3"
  },
  "language_info": {
   "codemirror_mode": {
    "name": "ipython",
    "version": 2
   },
   "file_extension": ".py",
   "mimetype": "text/x-python",
   "name": "python",
   "nbconvert_exporter": "python",
   "pygments_lexer": "ipython2",
   "version": "2.7.6"
  },
  "pycharm": {
   "stem_cell": {
    "cell_type": "raw",
    "source": [],
    "metadata": {
     "collapsed": false
    }
   }
  }
 },
 "nbformat": 4,
 "nbformat_minor": 1
}