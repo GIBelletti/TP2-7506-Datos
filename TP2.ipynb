{
 "cells": [
  {
   "cell_type": "markdown",
   "metadata": {
    "collapsed": true,
    "pycharm": {
     "name": "#%% md\n"
    }
   },
   "source": [
    "# 75.06/95.58 Organización de Datos\n",
    "# Primer Cuatrimestre de 2020\n",
    "# Trabajo Práctico 2: Enunciado\n",
    "\n",
    "\n",
    "El segundo TP es una competencia de Machine Learning en donde cada grupo debe intentar determinar, para cada tweet brindado, si el mismo esta basado en un hecho real o no.\n",
    "\n",
    "La competencia se desarrolla en la plataforma de Kaggle  https://www.kaggle.com/c/nlp-getting-started.  \n",
    "\n",
    "El dataset consta de una serie de tweets, para los cuales se informa:\n",
    "\n",
    "- id - identificador unico para cada  tweet\n",
    "- text - el texto del tweet\n",
    "- location - ubicación desde donde fue enviado (podría no estar)\n",
    "- keyword - un keyword para el tweet  (podría faltar)\n",
    "- target - en train.csv, indica si se trata de un desastre real  (1) o no (0)\n",
    " \n",
    "\n",
    "\n",
    "Los submits con el resultado deben tener el formato:\n",
    "\n",
    "Id: Un id numérico para identificar el tweet\n",
    "target: 1 / 0 según se crea que el tweet se trata sobre un desastre real, o no.\n",
    "\n",
    "Los grupos deberán probar distintos algoritmos de Machine Learning para intentar predecir si el tweet está basado en hechos reales o no. A medida que los grupos realicen pruebas deben realizar el correspondiente submit en Kaggle para evaluar el resultado de los mismos.\n",
    "\n",
    "Al finalizar la competencia el grupo que mejor resultado tenga obtendrá 10 puntos para cada uno de sus integrantes que podrán ser usados en el examen por promoción o segundo recuperatorio.\n",
    "\n",
    "## Requisitos para la entrega del TP2:\n",
    "\n",
    "- El TP debe programarse en Python o R.\n",
    "- Debe entregarse un pdf con el informe de algoritmos probados, algoritmo final utilizado, transformaciones realizadas a los datos, feature engineering, etc. \n",
    "- El informe debe incluir también un link a github con el informe presentado en pdf, y todo el código.\n",
    "- El grupo debe presentar el TP en una computadora en la fecha indicada por la cátedra, el TP debe correr en un lapso de tiempo razonable (inferior a 1 hora) y generar un submission válido que iguale el mejor resultado obtenido por el grupo en Kaggle. (mas detalles a definir)\n",
    "\n",
    "## El TP2 se va a evaluar en función del siguiente criterio:\n",
    "\n",
    "- Cantidad de trabajo (esfuerzo) del grupo: ¿Probaron muchos algoritmos? ¿Hicieron un buen trabajo de pre-procesamiento de los datos y feature engineering?\n",
    "- Resultado obtenido en Kaggle (obviamente cuanto mejor resultado mejor nota)\n",
    "- Presentación final del informe, calidad de la redacción, uso de información obtenida en el TP1, conclusiones presentadas.\n",
    "- Performance de la solución final."
   ]
  },
  {
   "cell_type": "markdown",
   "metadata": {},
   "source": [
    "## Forma de evaluar kaggle\n",
    "\n",
    "Las presentaciones se evalúan utilizando F1 entre las respuestas previstas y esperadas.\n",
    "\n",
    "F1 se calcula de la siguiente manera:\n",
    "$ F1=(2∗precision∗recall)/(precision+recall) $\n",
    "\n",
    "donde:\n",
    "\n",
    "$precision=TP/(TP+FP)$\n",
    "\n",
    "$recall=TP/(TP+FN)$\n",
    "\n",
    "\n",
    "con:\n",
    "\n",
    "- Verdadero positivo [TP] = your prediction is 1, and the ground truth is also 1 - you predicted a positive and that's true!\n",
    "- Falso positivo [FP] = your prediction is 1, and the ground truth is 0 - you predicted a positive, and that's false.\n",
    "- Falso Negativo [FN] = your prediction is 0, and the ground truth is 1 - you predicted a negative, and that's false."
   ]
  },
  {
   "cell_type": "markdown",
   "metadata": {},
   "source": [
    "importaciones"
   ]
  },
  {
   "cell_type": "code",
   "execution_count": 1,
   "metadata": {
    "pycharm": {
     "is_executing": false,
     "name": "#%%\n"
    },
    "scrolled": false
   },
   "outputs": [
    {
     "name": "stderr",
     "output_type": "stream",
     "text": [
      "/home/francisco/anaconda2/envs/py3/lib/python3.6/site-packages/matplotlib/font_manager.py:232: UserWarning: Matplotlib is building the font cache using fc-list. This may take a moment.\n",
      "  'Matplotlib is building the font cache using fc-list. '\n"
     ]
    },
    {
     "ename": "ImportError",
     "evalue": "Keras requires TensorFlow 2.2 or higher. Install TensorFlow via `pip install tensorflow`",
     "output_type": "error",
     "traceback": [
      "\u001b[0;31m---------------------------------------------------------------------------\u001b[0m",
      "\u001b[0;31mModuleNotFoundError\u001b[0m                       Traceback (most recent call last)",
      "\u001b[0;32m~/.local/lib/python3.6/site-packages/keras/__init__.py\u001b[0m in \u001b[0;36m<module>\u001b[0;34m\u001b[0m\n\u001b[1;32m      2\u001b[0m \u001b[0;32mtry\u001b[0m\u001b[0;34m:\u001b[0m\u001b[0;34m\u001b[0m\u001b[0;34m\u001b[0m\u001b[0m\n\u001b[0;32m----> 3\u001b[0;31m     \u001b[0;32mfrom\u001b[0m \u001b[0mtensorflow\u001b[0m\u001b[0;34m.\u001b[0m\u001b[0mkeras\u001b[0m\u001b[0;34m.\u001b[0m\u001b[0mlayers\u001b[0m\u001b[0;34m.\u001b[0m\u001b[0mexperimental\u001b[0m\u001b[0;34m.\u001b[0m\u001b[0mpreprocessing\u001b[0m \u001b[0;32mimport\u001b[0m \u001b[0mRandomRotation\u001b[0m\u001b[0;34m\u001b[0m\u001b[0;34m\u001b[0m\u001b[0m\n\u001b[0m\u001b[1;32m      4\u001b[0m \u001b[0;32mexcept\u001b[0m \u001b[0mImportError\u001b[0m\u001b[0;34m:\u001b[0m\u001b[0;34m\u001b[0m\u001b[0;34m\u001b[0m\u001b[0m\n",
      "\u001b[0;31mModuleNotFoundError\u001b[0m: No module named 'tensorflow'",
      "\nDuring handling of the above exception, another exception occurred:\n",
      "\u001b[0;31mImportError\u001b[0m                               Traceback (most recent call last)",
      "\u001b[0;32m<ipython-input-1-fc9bb414560d>\u001b[0m in \u001b[0;36m<module>\u001b[0;34m\u001b[0m\n\u001b[1;32m     29\u001b[0m \u001b[0;32mfrom\u001b[0m \u001b[0msklearn\u001b[0m\u001b[0;34m.\u001b[0m\u001b[0mmetrics\u001b[0m \u001b[0;32mimport\u001b[0m \u001b[0mconfusion_matrix\u001b[0m\u001b[0;34m\u001b[0m\u001b[0;34m\u001b[0m\u001b[0m\n\u001b[1;32m     30\u001b[0m \u001b[0;31m#red neuronal\u001b[0m\u001b[0;34m\u001b[0m\u001b[0;34m\u001b[0m\u001b[0;34m\u001b[0m\u001b[0m\n\u001b[0;32m---> 31\u001b[0;31m \u001b[0;32mfrom\u001b[0m \u001b[0mkeras\u001b[0m\u001b[0;34m.\u001b[0m\u001b[0mmodels\u001b[0m \u001b[0;32mimport\u001b[0m \u001b[0mSequential\u001b[0m\u001b[0;34m\u001b[0m\u001b[0;34m\u001b[0m\u001b[0m\n\u001b[0m\u001b[1;32m     32\u001b[0m \u001b[0;32mfrom\u001b[0m \u001b[0mkeras\u001b[0m\u001b[0;34m.\u001b[0m\u001b[0mlayers\u001b[0m\u001b[0;34m.\u001b[0m\u001b[0mcore\u001b[0m \u001b[0;32mimport\u001b[0m \u001b[0mDense\u001b[0m\u001b[0;34m\u001b[0m\u001b[0;34m\u001b[0m\u001b[0m\n\u001b[1;32m     33\u001b[0m \u001b[0;31m#arboles de decicion\u001b[0m\u001b[0;34m\u001b[0m\u001b[0;34m\u001b[0m\u001b[0;34m\u001b[0m\u001b[0m\n",
      "\u001b[0;32m~/.local/lib/python3.6/site-packages/keras/__init__.py\u001b[0m in \u001b[0;36m<module>\u001b[0;34m\u001b[0m\n\u001b[1;32m      4\u001b[0m \u001b[0;32mexcept\u001b[0m \u001b[0mImportError\u001b[0m\u001b[0;34m:\u001b[0m\u001b[0;34m\u001b[0m\u001b[0;34m\u001b[0m\u001b[0m\n\u001b[1;32m      5\u001b[0m     raise ImportError(\n\u001b[0;32m----> 6\u001b[0;31m         \u001b[0;34m'Keras requires TensorFlow 2.2 or higher. '\u001b[0m\u001b[0;34m\u001b[0m\u001b[0;34m\u001b[0m\u001b[0m\n\u001b[0m\u001b[1;32m      7\u001b[0m         'Install TensorFlow via `pip install tensorflow`')\n\u001b[1;32m      8\u001b[0m \u001b[0;34m\u001b[0m\u001b[0m\n",
      "\u001b[0;31mImportError\u001b[0m: Keras requires TensorFlow 2.2 or higher. Install TensorFlow via `pip install tensorflow`"
     ]
    }
   ],
   "source": [
    "#IMPORTS\n",
    "import pandas as pd\n",
    "import numpy as np\n",
    "import matplotlib.pyplot as plt\n",
    "import seaborn as sns\n",
    "#import plotly.graph_objects as go\n",
    "\n",
    "#plt.style.use('default')\n",
    "\n",
    "sns.set(style=\"whitegrid\")\n",
    "\n",
    "pd.options.display.float_format = '{:20,.2f}'.format \n",
    "\n",
    "import warnings\n",
    "warnings.filterwarnings('ignore')\n",
    "\n",
    "from matplotlib.colors import ListedColormap\n",
    "import matplotlib.patches as mpatches\n",
    " \n",
    "%matplotlib inline\n",
    "plt.rcParams['figure.figsize'] = (16, 9)\n",
    "plt.style.use('ggplot')\n",
    " \n",
    "#librerias para KNN\n",
    "from sklearn.model_selection import train_test_split\n",
    "from sklearn.preprocessing import MinMaxScaler\n",
    "from sklearn.neighbors import KNeighborsClassifier\n",
    "from sklearn.metrics import classification_report\n",
    "from sklearn.metrics import confusion_matrix\n",
    "#red neuronal\n",
    "from keras.models import Sequential\n",
    "from keras.layers.core import Dense\n",
    "#arboles de decicion\n",
    "plt.rcParams['figure.figsize'] = (16, 9)\n",
    "plt.style.use('ggplot')\n",
    "from sklearn import tree\n",
    "from sklearn.metrics import accuracy_score\n",
    "from sklearn.model_selection import KFold\n",
    "from sklearn.model_selection import cross_val_score\n",
    "from IPython.display import Image as PImage\n",
    "from subprocess import check_call\n",
    "from PIL import Image, ImageDraw, ImageFont\n",
    "from sklearn.ensemble import RandomForestClassifier\n",
    "from sklearn.tree import DecisionTreeClassifier\n",
    "#catboost\n",
    "from catboost import CatBoostRegressor\n",
    "\n",
    "#palabras\n",
    "import nltk\n",
    "#nltk.download('stopwords')#si no tiene stopword habilitar esta linea\n",
    "from nltk.corpus import stopwords\n",
    "import gensim \n",
    "from gensim.models import Word2Vec \n",
    "#tf-idf\n",
    "from sklearn.feature_extraction.text import TfidfVectorizer"
   ]
  },
  {
   "cell_type": "code",
   "execution_count": 2,
   "metadata": {
    "pycharm": {
     "is_executing": false,
     "name": "#%%\n"
    },
    "scrolled": false
   },
   "outputs": [],
   "source": [
    "import nltk\n",
    "#nltk.download('stopwords')\n",
    "from nltk.corpus import stopwords\n",
    "stopwordEnglis = stopwords.words('english')\n",
    "#tfidf = TfidfVectorizer()"
   ]
  },
  {
   "cell_type": "markdown",
   "metadata": {},
   "source": [
    "inicio de csv"
   ]
  },
  {
   "cell_type": "code",
   "execution_count": 3,
   "metadata": {
    "pycharm": {
     "is_executing": false,
     "name": "#%%\n"
    },
    "scrolled": true
   },
   "outputs": [
    {
     "data": {
      "text/html": [
       "<div>\n",
       "<style scoped>\n",
       "    .dataframe tbody tr th:only-of-type {\n",
       "        vertical-align: middle;\n",
       "    }\n",
       "\n",
       "    .dataframe tbody tr th {\n",
       "        vertical-align: top;\n",
       "    }\n",
       "\n",
       "    .dataframe thead th {\n",
       "        text-align: right;\n",
       "    }\n",
       "</style>\n",
       "<table border=\"1\" class=\"dataframe\">\n",
       "  <thead>\n",
       "    <tr style=\"text-align: right;\">\n",
       "      <th></th>\n",
       "      <th>keyword</th>\n",
       "      <th>location</th>\n",
       "      <th>text</th>\n",
       "      <th>target</th>\n",
       "    </tr>\n",
       "    <tr>\n",
       "      <th>id</th>\n",
       "      <th></th>\n",
       "      <th></th>\n",
       "      <th></th>\n",
       "      <th></th>\n",
       "    </tr>\n",
       "  </thead>\n",
       "  <tbody>\n",
       "    <tr>\n",
       "      <th>1</th>\n",
       "      <td>NaN</td>\n",
       "      <td>NaN</td>\n",
       "      <td>Our Deeds are the Reason of this #earthquake M...</td>\n",
       "      <td>1</td>\n",
       "    </tr>\n",
       "    <tr>\n",
       "      <th>4</th>\n",
       "      <td>NaN</td>\n",
       "      <td>NaN</td>\n",
       "      <td>Forest fire near La Ronge Sask. Canada</td>\n",
       "      <td>1</td>\n",
       "    </tr>\n",
       "    <tr>\n",
       "      <th>5</th>\n",
       "      <td>NaN</td>\n",
       "      <td>NaN</td>\n",
       "      <td>All residents asked to 'shelter in place' are ...</td>\n",
       "      <td>1</td>\n",
       "    </tr>\n",
       "    <tr>\n",
       "      <th>6</th>\n",
       "      <td>NaN</td>\n",
       "      <td>NaN</td>\n",
       "      <td>13,000 people receive #wildfires evacuation or...</td>\n",
       "      <td>1</td>\n",
       "    </tr>\n",
       "    <tr>\n",
       "      <th>7</th>\n",
       "      <td>NaN</td>\n",
       "      <td>NaN</td>\n",
       "      <td>Just got sent this photo from Ruby #Alaska as ...</td>\n",
       "      <td>1</td>\n",
       "    </tr>\n",
       "  </tbody>\n",
       "</table>\n",
       "</div>"
      ],
      "text/plain": [
       "   keyword location                                               text  target\n",
       "id                                                                            \n",
       "1      NaN      NaN  Our Deeds are the Reason of this #earthquake M...       1\n",
       "4      NaN      NaN             Forest fire near La Ronge Sask. Canada       1\n",
       "5      NaN      NaN  All residents asked to 'shelter in place' are ...       1\n",
       "6      NaN      NaN  13,000 people receive #wildfires evacuation or...       1\n",
       "7      NaN      NaN  Just got sent this photo from Ruby #Alaska as ...       1"
      ]
     },
     "execution_count": 3,
     "metadata": {},
     "output_type": "execute_result"
    }
   ],
   "source": [
    "tweets_original_entrenamiento = pd.read_csv('train.csv',index_col=['id'])\n",
    "tweets_original_entrenamiento.head()"
   ]
  },
  {
   "cell_type": "code",
   "execution_count": 4,
   "metadata": {
    "pycharm": {
     "is_executing": false,
     "name": "#%%\n"
    },
    "scrolled": true
   },
   "outputs": [
    {
     "data": {
      "text/html": [
       "<div>\n",
       "<style scoped>\n",
       "    .dataframe tbody tr th:only-of-type {\n",
       "        vertical-align: middle;\n",
       "    }\n",
       "\n",
       "    .dataframe tbody tr th {\n",
       "        vertical-align: top;\n",
       "    }\n",
       "\n",
       "    .dataframe thead th {\n",
       "        text-align: right;\n",
       "    }\n",
       "</style>\n",
       "<table border=\"1\" class=\"dataframe\">\n",
       "  <thead>\n",
       "    <tr style=\"text-align: right;\">\n",
       "      <th></th>\n",
       "      <th>keyword</th>\n",
       "      <th>location</th>\n",
       "      <th>text</th>\n",
       "    </tr>\n",
       "    <tr>\n",
       "      <th>id</th>\n",
       "      <th></th>\n",
       "      <th></th>\n",
       "      <th></th>\n",
       "    </tr>\n",
       "  </thead>\n",
       "  <tbody>\n",
       "    <tr>\n",
       "      <th>0</th>\n",
       "      <td>NaN</td>\n",
       "      <td>NaN</td>\n",
       "      <td>Just happened a terrible car crash</td>\n",
       "    </tr>\n",
       "    <tr>\n",
       "      <th>2</th>\n",
       "      <td>NaN</td>\n",
       "      <td>NaN</td>\n",
       "      <td>Heard about #earthquake is different cities, s...</td>\n",
       "    </tr>\n",
       "    <tr>\n",
       "      <th>3</th>\n",
       "      <td>NaN</td>\n",
       "      <td>NaN</td>\n",
       "      <td>there is a forest fire at spot pond, geese are...</td>\n",
       "    </tr>\n",
       "    <tr>\n",
       "      <th>9</th>\n",
       "      <td>NaN</td>\n",
       "      <td>NaN</td>\n",
       "      <td>Apocalypse lighting. #Spokane #wildfires</td>\n",
       "    </tr>\n",
       "    <tr>\n",
       "      <th>11</th>\n",
       "      <td>NaN</td>\n",
       "      <td>NaN</td>\n",
       "      <td>Typhoon Soudelor kills 28 in China and Taiwan</td>\n",
       "    </tr>\n",
       "  </tbody>\n",
       "</table>\n",
       "</div>"
      ],
      "text/plain": [
       "   keyword location                                               text\n",
       "id                                                                    \n",
       "0      NaN      NaN                 Just happened a terrible car crash\n",
       "2      NaN      NaN  Heard about #earthquake is different cities, s...\n",
       "3      NaN      NaN  there is a forest fire at spot pond, geese are...\n",
       "9      NaN      NaN           Apocalypse lighting. #Spokane #wildfires\n",
       "11     NaN      NaN      Typhoon Soudelor kills 28 in China and Taiwan"
      ]
     },
     "execution_count": 4,
     "metadata": {},
     "output_type": "execute_result"
    }
   ],
   "source": [
    "tweets_original_prueba = pd.read_csv('test.csv',index_col=['id'])\n",
    "tweets_original_prueba.head()"
   ]
  },
  {
   "cell_type": "markdown",
   "metadata": {},
   "source": [
    "calculo resultado"
   ]
  },
  {
   "cell_type": "code",
   "execution_count": 5,
   "metadata": {
    "pycharm": {
     "is_executing": false,
     "name": "#%%\n"
    }
   },
   "outputs": [],
   "source": [
    "#resultados\n",
    "resultados_de_test = pd.read_csv('respuestas.csv',index_col=['id'])\n",
    "#revisar los resultados\n",
    "def calclarPresicionYRecall(df):\n",
    "    respuestas = resultados_de_test\n",
    "    respuestas['prediccion'] = df['target']\n",
    "    #respuestas['TP'] = [1 if (respuestas['target'] == 1 and respuestas['prediccion'] == 1) else 0]\n",
    "    #respuestas['FP'] = [1 if (respuestas['target'] == 0 and respuestas['prediccion'] == 1) else 0]\n",
    "    #respuestas['FN'] = [1 if (respuestas['target'] == 1 and respuestas['prediccion'] == 0) else 0]\n",
    "    \n",
    "    respuestas.loc[respuestas['prediccion'] + respuestas['target'] == 2 , 'TP'] = 1\n",
    "    respuestas.loc[respuestas['prediccion'] + (respuestas['target'] * 2) == 1 , 'FP'] = 1\n",
    "    respuestas.loc[respuestas['prediccion'] + (respuestas['target'] * 2) == 2 , 'FN'] = 1\n",
    "    respuestas['TP'].fillna(0, inplace=True)\n",
    "    respuestas['FP'].fillna(0, inplace=True)\n",
    "    respuestas['FN'].fillna(0, inplace=True)\n",
    "\n",
    "    tp = respuestas['TP'].sum()\n",
    "    fp = respuestas['FP'].sum()\n",
    "    fn = respuestas['FN'].sum()\n",
    "    \n",
    "    #print(tp,fp,fn)\n",
    "    #print(respuestas.head())\n",
    "    \n",
    "    sumaPresicion = tp + fp\n",
    "    sumaRecall = tp + fn\n",
    "    presicion = tp / sumaPresicion\n",
    "    recall = tp / sumaRecall\n",
    "    return (presicion,recall)\n",
    "\n",
    "def F1(df):\n",
    "    presicion,recall = calclarPresicionYRecall(df)\n",
    "    resultado = 2 * presicion * recall\n",
    "    resultado /= (presicion + recall)\n",
    "    return resultado"
   ]
  },
  {
   "cell_type": "markdown",
   "metadata": {},
   "source": [
    "inicio de problema"
   ]
  },
  {
   "cell_type": "markdown",
   "metadata": {},
   "source": [
    "## CATBOOST"
   ]
  },
  {
   "cell_type": "code",
   "execution_count": 6,
   "metadata": {
    "pycharm": {
     "is_executing": false,
     "name": "#%%\n"
    }
   },
   "outputs": [],
   "source": [
    "\"\"\"\n",
    "vacio = 0000\n",
    "a = 0001\n",
    "b = 0010\n",
    "c = 0011\n",
    "d = 0100\n",
    "e = 0101\n",
    "f = 0110\n",
    "h = 0111\n",
    "r = 1000\n",
    "s = 1001\n",
    "t = 1010\n",
    "w = 1011\n",
    "\"\"\"\n",
    "LETRAS_0 = ['a','c','e','h','s','w']\n",
    "def letra0(x):\n",
    "    if (x in LETRAS_0):\n",
    "        return 1\n",
    "    return 0\n",
    "LETRAS_1 = ['b','c','f','h','t','w']\n",
    "def letra1(x):\n",
    "    if (x in LETRAS_1):\n",
    "        return 1\n",
    "    return 0\n",
    "LETRAS_2 = ['d','e','f','h']\n",
    "def letra2(x):\n",
    "    if (x in LETRAS_2):\n",
    "        return 1\n",
    "    return 0\n",
    "LETRAS_3 = ['r','s','t','w']\n",
    "def letra3(x):\n",
    "    if (x in LETRAS_3):\n",
    "        return 1\n",
    "    return 0\n",
    "def letra_inicial_Keyword_BOW(df):\n",
    "    #for i in range(0,4):\n",
    "    #    texto = 'letra_' + str(i)\n",
    "    #    df[texto] = 0\n",
    "    df['letra_0'] = 0\n",
    "    df['letra_1'] = 0\n",
    "    df['letra_2'] = 0\n",
    "    df['letra_3'] = 0\n",
    "    df['letra_0'] = df['keyword'].str.strip().str[0].map(lambda x:letra0(x))\n",
    "    df['letra_1'] = df['keyword'].str.strip().str[0].map(lambda x:letra0(x))\n",
    "    df['letra_2'] = df['keyword'].str.strip().str[0].map(lambda x:letra0(x))\n",
    "    df['letra_3'] = df['keyword'].str.strip().str[0].map(lambda x:letra0(x))\n",
    "    return df\n",
    "     "
   ]
  },
  {
   "cell_type": "code",
   "execution_count": 7,
   "metadata": {
    "pycharm": {
     "is_executing": false,
     "name": "#%%   \n"
    }
   },
   "outputs": [],
   "source": [
    "\n",
    "def set_palabras_del_train(df):\n",
    "    palabrasTexto = []\n",
    "    palabrasKeyword = []\n",
    "    \n",
    "    df['palabras_de_texto'] = df['text'].str.lower().str.split().apply(lambda x: [item for item in x if item not in stopwordEnglis])\n",
    "    df['palabras_de_keyword'] = df['text'].str.lower().str.split().apply(lambda x: [item for item in x if item not in stopwordEnglis])\n",
    "    \n",
    "    return (palabrasTexto,palabrasKeyword)\n",
    "\n",
    "def preparar_df(df,listadoDePalabrasDelTextoDelSetDeEntrenamiento=[],listadoDePalabrasDelKeywordDelSetDeEntrenamiento=[]):\n",
    "    df['text'].fillna(\"\", inplace=True)\n",
    "    df['keyword'].fillna(\"\", inplace=True)\n",
    "    df['location'].fillna(\"\", inplace=True)\n",
    "    \n",
    "    df['longitud_de_texto'] = df['text'].str.len()\n",
    "    df['longitud_de_keyword'] = df['keyword'].str.len()\n",
    "    \n",
    "    df['palabras_de_texto'] = df['text'].str.lower().str.split().apply(lambda x: [item for item in x if item not in stopwordEnglis])\n",
    "    df['palabras_de_keyword'] = df['text'].str.lower().str.split().apply(lambda x: [item for item in x if item not in stopwordEnglis])\n",
    "    \n",
    "    df['cantidad_de_palabras_texto'] = df['palabras_de_texto'].map(len)\n",
    "    df['cantidad_de_palabras_keyword'] = df['palabras_de_keyword'].map(len)\n",
    "    \n",
    "    #df['palabras_de_texto'] = df['palabras_de_texto'].apply(lambda x: [item for item in x if item in listadoDePalabrasDelTextoDelSetDeEntrenamiento])\n",
    "    #df['palabras_de_keyword'] = df['palabras_de_keyword'].apply(lambda x: [item for item in x if item in listadoDePalabrasDelKeywordDelSetDeEntrenamiento])\n",
    "    \n",
    "    #df['text'] = df['text'].str.replace(r' ', '')\n",
    "    #df['keyword'] = df['keyword'].str.replace(r' ', '')\n",
    "    #df['location'] = df['location'].str.replace(r' ', '')\n",
    "    \n",
    "    #TF-IDF\n",
    "    #x = tfidf.fit_transform(df['palabras_de_texto'])\n",
    "    #df_tfidf = pd.DataFrame(x.toarray(), columns=tfidf.get_feature_names())\n",
    "    #df.join(df_tfidf)#mal planteado\n",
    "    \n",
    "    df = letra_inicial_Keyword_BOW(df)   \n",
    "    df = df.drop(columns=['keyword','text','location'])\n",
    "    df = df.drop(columns=['palabras_de_texto','palabras_de_keyword'])\n",
    "    \n",
    "    return df"
   ]
  },
  {
   "cell_type": "code",
   "execution_count": 8,
   "metadata": {
    "pycharm": {
     "is_executing": false,
     "name": "#%%\n"
    },
    "scrolled": true
   },
   "outputs": [
    {
     "data": {
      "text/html": [
       "<div>\n",
       "<style scoped>\n",
       "    .dataframe tbody tr th:only-of-type {\n",
       "        vertical-align: middle;\n",
       "    }\n",
       "\n",
       "    .dataframe tbody tr th {\n",
       "        vertical-align: top;\n",
       "    }\n",
       "\n",
       "    .dataframe thead th {\n",
       "        text-align: right;\n",
       "    }\n",
       "</style>\n",
       "<table border=\"1\" class=\"dataframe\">\n",
       "  <thead>\n",
       "    <tr style=\"text-align: right;\">\n",
       "      <th></th>\n",
       "      <th>longitud_de_texto</th>\n",
       "      <th>longitud_de_keyword</th>\n",
       "      <th>cantidad_de_palabras_texto</th>\n",
       "      <th>cantidad_de_palabras_keyword</th>\n",
       "      <th>letra_0</th>\n",
       "      <th>letra_1</th>\n",
       "      <th>letra_2</th>\n",
       "      <th>letra_3</th>\n",
       "    </tr>\n",
       "    <tr>\n",
       "      <th>id</th>\n",
       "      <th></th>\n",
       "      <th></th>\n",
       "      <th></th>\n",
       "      <th></th>\n",
       "      <th></th>\n",
       "      <th></th>\n",
       "      <th></th>\n",
       "      <th></th>\n",
       "    </tr>\n",
       "  </thead>\n",
       "  <tbody>\n",
       "    <tr>\n",
       "      <th>1</th>\n",
       "      <td>69</td>\n",
       "      <td>0</td>\n",
       "      <td>7</td>\n",
       "      <td>7</td>\n",
       "      <td>0</td>\n",
       "      <td>0</td>\n",
       "      <td>0</td>\n",
       "      <td>0</td>\n",
       "    </tr>\n",
       "    <tr>\n",
       "      <th>4</th>\n",
       "      <td>38</td>\n",
       "      <td>0</td>\n",
       "      <td>7</td>\n",
       "      <td>7</td>\n",
       "      <td>0</td>\n",
       "      <td>0</td>\n",
       "      <td>0</td>\n",
       "      <td>0</td>\n",
       "    </tr>\n",
       "    <tr>\n",
       "      <th>5</th>\n",
       "      <td>133</td>\n",
       "      <td>0</td>\n",
       "      <td>11</td>\n",
       "      <td>11</td>\n",
       "      <td>0</td>\n",
       "      <td>0</td>\n",
       "      <td>0</td>\n",
       "      <td>0</td>\n",
       "    </tr>\n",
       "    <tr>\n",
       "      <th>6</th>\n",
       "      <td>65</td>\n",
       "      <td>0</td>\n",
       "      <td>7</td>\n",
       "      <td>7</td>\n",
       "      <td>0</td>\n",
       "      <td>0</td>\n",
       "      <td>0</td>\n",
       "      <td>0</td>\n",
       "    </tr>\n",
       "    <tr>\n",
       "      <th>7</th>\n",
       "      <td>88</td>\n",
       "      <td>0</td>\n",
       "      <td>9</td>\n",
       "      <td>9</td>\n",
       "      <td>0</td>\n",
       "      <td>0</td>\n",
       "      <td>0</td>\n",
       "      <td>0</td>\n",
       "    </tr>\n",
       "  </tbody>\n",
       "</table>\n",
       "</div>"
      ],
      "text/plain": [
       "    longitud_de_texto  longitud_de_keyword  cantidad_de_palabras_texto  \\\n",
       "id                                                                       \n",
       "1                  69                    0                           7   \n",
       "4                  38                    0                           7   \n",
       "5                 133                    0                          11   \n",
       "6                  65                    0                           7   \n",
       "7                  88                    0                           9   \n",
       "\n",
       "    cantidad_de_palabras_keyword  letra_0  letra_1  letra_2  letra_3  \n",
       "id                                                                    \n",
       "1                              7        0        0        0        0  \n",
       "4                              7        0        0        0        0  \n",
       "5                             11        0        0        0        0  \n",
       "6                              7        0        0        0        0  \n",
       "7                              9        0        0        0        0  "
      ]
     },
     "execution_count": 8,
     "metadata": {},
     "output_type": "execute_result"
    }
   ],
   "source": [
    "train_label = tweets_original_entrenamiento['target']\n",
    "train_set = tweets_original_entrenamiento\n",
    "train_set = train_set.drop(columns=['target'])\n",
    "train_set = preparar_df(train_set)\n",
    "train_set.head()"
   ]
  },
  {
   "cell_type": "code",
   "execution_count": 9,
   "metadata": {
    "pycharm": {
     "is_executing": false,
     "name": "#%%\n"
    }
   },
   "outputs": [
    {
     "data": {
      "text/html": [
       "<div>\n",
       "<style scoped>\n",
       "    .dataframe tbody tr th:only-of-type {\n",
       "        vertical-align: middle;\n",
       "    }\n",
       "\n",
       "    .dataframe tbody tr th {\n",
       "        vertical-align: top;\n",
       "    }\n",
       "\n",
       "    .dataframe thead th {\n",
       "        text-align: right;\n",
       "    }\n",
       "</style>\n",
       "<table border=\"1\" class=\"dataframe\">\n",
       "  <thead>\n",
       "    <tr style=\"text-align: right;\">\n",
       "      <th></th>\n",
       "      <th>longitud_de_texto</th>\n",
       "      <th>longitud_de_keyword</th>\n",
       "      <th>cantidad_de_palabras_texto</th>\n",
       "      <th>cantidad_de_palabras_keyword</th>\n",
       "      <th>letra_0</th>\n",
       "      <th>letra_1</th>\n",
       "      <th>letra_2</th>\n",
       "      <th>letra_3</th>\n",
       "    </tr>\n",
       "    <tr>\n",
       "      <th>id</th>\n",
       "      <th></th>\n",
       "      <th></th>\n",
       "      <th></th>\n",
       "      <th></th>\n",
       "      <th></th>\n",
       "      <th></th>\n",
       "      <th></th>\n",
       "      <th></th>\n",
       "    </tr>\n",
       "  </thead>\n",
       "  <tbody>\n",
       "    <tr>\n",
       "      <th>0</th>\n",
       "      <td>34</td>\n",
       "      <td>0</td>\n",
       "      <td>4</td>\n",
       "      <td>4</td>\n",
       "      <td>0</td>\n",
       "      <td>0</td>\n",
       "      <td>0</td>\n",
       "      <td>0</td>\n",
       "    </tr>\n",
       "    <tr>\n",
       "      <th>2</th>\n",
       "      <td>64</td>\n",
       "      <td>0</td>\n",
       "      <td>7</td>\n",
       "      <td>7</td>\n",
       "      <td>0</td>\n",
       "      <td>0</td>\n",
       "      <td>0</td>\n",
       "      <td>0</td>\n",
       "    </tr>\n",
       "    <tr>\n",
       "      <th>3</th>\n",
       "      <td>96</td>\n",
       "      <td>0</td>\n",
       "      <td>10</td>\n",
       "      <td>10</td>\n",
       "      <td>0</td>\n",
       "      <td>0</td>\n",
       "      <td>0</td>\n",
       "      <td>0</td>\n",
       "    </tr>\n",
       "    <tr>\n",
       "      <th>9</th>\n",
       "      <td>40</td>\n",
       "      <td>0</td>\n",
       "      <td>4</td>\n",
       "      <td>4</td>\n",
       "      <td>0</td>\n",
       "      <td>0</td>\n",
       "      <td>0</td>\n",
       "      <td>0</td>\n",
       "    </tr>\n",
       "    <tr>\n",
       "      <th>11</th>\n",
       "      <td>45</td>\n",
       "      <td>0</td>\n",
       "      <td>6</td>\n",
       "      <td>6</td>\n",
       "      <td>0</td>\n",
       "      <td>0</td>\n",
       "      <td>0</td>\n",
       "      <td>0</td>\n",
       "    </tr>\n",
       "  </tbody>\n",
       "</table>\n",
       "</div>"
      ],
      "text/plain": [
       "    longitud_de_texto  longitud_de_keyword  cantidad_de_palabras_texto  \\\n",
       "id                                                                       \n",
       "0                  34                    0                           4   \n",
       "2                  64                    0                           7   \n",
       "3                  96                    0                          10   \n",
       "9                  40                    0                           4   \n",
       "11                 45                    0                           6   \n",
       "\n",
       "    cantidad_de_palabras_keyword  letra_0  letra_1  letra_2  letra_3  \n",
       "id                                                                    \n",
       "0                              4        0        0        0        0  \n",
       "2                              7        0        0        0        0  \n",
       "3                             10        0        0        0        0  \n",
       "9                              4        0        0        0        0  \n",
       "11                             6        0        0        0        0  "
      ]
     },
     "execution_count": 9,
     "metadata": {},
     "output_type": "execute_result"
    }
   ],
   "source": [
    "test_set = tweets_original_prueba\n",
    "test_set = preparar_df(test_set)\n",
    "test_set.head()"
   ]
  },
  {
   "cell_type": "code",
   "execution_count": 10,
   "metadata": {
    "pycharm": {
     "is_executing": false,
     "name": "#%%\n"
    }
   },
   "outputs": [],
   "source": [
    "def ensamble(df,n,prediccion):\n",
    "    #df['prediccion'] = prediccion\n",
    "    #df['prediccion'] = df['prediccion'].round()\n",
    "    df['target'] = df['target'] + prediccion.round()\n",
    "    n += 1\n",
    "    return (n,df)\n",
    "\n",
    "def calcular_resultado_de_prediccion(df,n):\n",
    "    df['target'] = df['target'].div(n).round()\n",
    "    return df"
   ]
  },
  {
   "cell_type": "code",
   "execution_count": 12,
   "metadata": {
    "pycharm": {
     "is_executing": false,
     "name": "#%%\n"
    }
   },
   "outputs": [
    {
     "ename": "NameError",
     "evalue": "name 'CatBoostRegressor' is not defined",
     "output_type": "error",
     "traceback": [
      "\u001b[0;31m---------------------------------------------------------------------------\u001b[0m",
      "\u001b[0;31mNameError\u001b[0m                                 Traceback (most recent call last)",
      "\u001b[0;32m<ipython-input-12-a8a6aebc34b5>\u001b[0m in \u001b[0;36m<module>\u001b[0;34m\u001b[0m\n\u001b[1;32m      7\u001b[0m         \u001b[0;32mfor\u001b[0m \u001b[0mprofundidad\u001b[0m \u001b[0;32min\u001b[0m \u001b[0mrange\u001b[0m\u001b[0;34m(\u001b[0m\u001b[0;36m8\u001b[0m\u001b[0;34m,\u001b[0m\u001b[0;36m16\u001b[0m\u001b[0;34m)\u001b[0m\u001b[0;34m:\u001b[0m\u001b[0;34m\u001b[0m\u001b[0;34m\u001b[0m\u001b[0m\n\u001b[1;32m      8\u001b[0m             \u001b[0;31m# Initialize CatBoostRegressor\u001b[0m\u001b[0;34m\u001b[0m\u001b[0;34m\u001b[0m\u001b[0;34m\u001b[0m\u001b[0m\n\u001b[0;32m----> 9\u001b[0;31m             model = CatBoostRegressor(iterations=iter,\n\u001b[0m\u001b[1;32m     10\u001b[0m                                       \u001b[0mlearning_rate\u001b[0m\u001b[0;34m=\u001b[0m\u001b[0mlearningRate\u001b[0m\u001b[0;34m,\u001b[0m\u001b[0;34m\u001b[0m\u001b[0;34m\u001b[0m\u001b[0m\n\u001b[1;32m     11\u001b[0m                                       depth=profundidad)\n",
      "\u001b[0;31mNameError\u001b[0m: name 'CatBoostRegressor' is not defined"
     ]
    }
   ],
   "source": [
    "resultados_de_prediccion = pd.read_csv('sample_submission.csv',index_col=['id'])\n",
    "cantidadDePredicciones = 0\n",
    "#catboost\n",
    "for iter in range(6,12,2):\n",
    "    for lR in range(3,8):\n",
    "        learningRate = lR / 10\n",
    "        for profundidad in range(8,16):\n",
    "            # Initialize CatBoostRegressor\n",
    "            model = CatBoostRegressor(iterations=iter,\n",
    "                                      learning_rate=learningRate,\n",
    "                                      depth=profundidad)\n",
    "            # Fit model\n",
    "            model.fit(train_set, train_label)\n",
    "            # Get predictions\n",
    "            predicion = model.predict(test_set)\n",
    "            cantidadDePredicciones,resultados_de_prediccion = ensamble(resultados_de_prediccion,cantidadDePredicciones,predicion)\n",
    "            print(\"prediccion = \",cantidadDePredicciones)"
   ]
  },
  {
   "cell_type": "code",
   "execution_count": 45,
   "metadata": {
    "pycharm": {
     "is_executing": false,
     "name": "#%%\n"
    }
   },
   "outputs": [
    {
     "name": "stdout",
     "output_type": "stream",
     "text": [
      "120\n"
     ]
    },
    {
     "data": {
      "text/html": [
       "<div>\n",
       "<style scoped>\n",
       "    .dataframe tbody tr th:only-of-type {\n",
       "        vertical-align: middle;\n",
       "    }\n",
       "\n",
       "    .dataframe tbody tr th {\n",
       "        vertical-align: top;\n",
       "    }\n",
       "\n",
       "    .dataframe thead th {\n",
       "        text-align: right;\n",
       "    }\n",
       "</style>\n",
       "<table border=\"1\" class=\"dataframe\">\n",
       "  <thead>\n",
       "    <tr style=\"text-align: right;\">\n",
       "      <th></th>\n",
       "      <th>target</th>\n",
       "    </tr>\n",
       "    <tr>\n",
       "      <th>id</th>\n",
       "      <th></th>\n",
       "    </tr>\n",
       "  </thead>\n",
       "  <tbody>\n",
       "    <tr>\n",
       "      <th>0</th>\n",
       "      <td>0.00</td>\n",
       "    </tr>\n",
       "    <tr>\n",
       "      <th>2</th>\n",
       "      <td>1.00</td>\n",
       "    </tr>\n",
       "    <tr>\n",
       "      <th>3</th>\n",
       "      <td>1.00</td>\n",
       "    </tr>\n",
       "    <tr>\n",
       "      <th>9</th>\n",
       "      <td>0.00</td>\n",
       "    </tr>\n",
       "    <tr>\n",
       "      <th>11</th>\n",
       "      <td>1.00</td>\n",
       "    </tr>\n",
       "    <tr>\n",
       "      <th>...</th>\n",
       "      <td>...</td>\n",
       "    </tr>\n",
       "    <tr>\n",
       "      <th>10861</th>\n",
       "      <td>1.00</td>\n",
       "    </tr>\n",
       "    <tr>\n",
       "      <th>10865</th>\n",
       "      <td>1.00</td>\n",
       "    </tr>\n",
       "    <tr>\n",
       "      <th>10868</th>\n",
       "      <td>1.00</td>\n",
       "    </tr>\n",
       "    <tr>\n",
       "      <th>10874</th>\n",
       "      <td>1.00</td>\n",
       "    </tr>\n",
       "    <tr>\n",
       "      <th>10875</th>\n",
       "      <td>1.00</td>\n",
       "    </tr>\n",
       "  </tbody>\n",
       "</table>\n",
       "<p>3263 rows × 1 columns</p>\n",
       "</div>"
      ],
      "text/plain": [
       "                    target\n",
       "id                        \n",
       "0                     0.00\n",
       "2                     1.00\n",
       "3                     1.00\n",
       "9                     0.00\n",
       "11                    1.00\n",
       "...                    ...\n",
       "10861                 1.00\n",
       "10865                 1.00\n",
       "10868                 1.00\n",
       "10874                 1.00\n",
       "10875                 1.00\n",
       "\n",
       "[3263 rows x 1 columns]"
      ]
     },
     "execution_count": 45,
     "metadata": {},
     "output_type": "execute_result"
    }
   ],
   "source": [
    "resultados_de_prediccion = calcular_resultado_de_prediccion(resultados_de_prediccion,cantidadDePredicciones)\n",
    "\n",
    "print(cantidadDePredicciones)\n",
    "resultados_de_prediccion"
   ]
  },
  {
   "cell_type": "code",
   "execution_count": 46,
   "metadata": {
    "pycharm": {
     "is_executing": false,
     "name": "#%%\n"
    }
   },
   "outputs": [
    {
     "name": "stdout",
     "output_type": "stream",
     "text": [
      "0.5019505851755527\n"
     ]
    }
   ],
   "source": [
    "print(F1(resultados_de_prediccion))\n"
   ]
  },
  {
   "cell_type": "code",
   "execution_count": 26,
   "metadata": {
    "pycharm": {
     "is_executing": false,
     "name": "#%%\n"
    },
    "scrolled": true
   },
   "outputs": [
    {
     "data": {
      "text/plain": [
       "target\n",
       "0    4342\n",
       "1    3271\n",
       "dtype: int64"
      ]
     },
     "execution_count": 26,
     "metadata": {},
     "output_type": "execute_result"
    }
   ],
   "source": [
    "#para arbol verificar si esta balanceado o no\n",
    "tweets_entrenamiento = tweets_original_entrenamiento\n",
    "tweets_entrenamiento.groupby([\"target\"]).size()"
   ]
  },
  {
   "cell_type": "markdown",
   "metadata": {},
   "source": [
    "# XGBoost"
   ]
  },
  {
   "cell_type": "code",
   "execution_count": 230,
   "metadata": {},
   "outputs": [],
   "source": [
    "import xgboost as xgb\n",
    "xgb_reg = xgb.XGBRegressor(max_depth = 5, \n",
    "                           colsample_bytree = 0.3, \n",
    "                           learning_rate = 0.1, \n",
    "                           alpha = 10,\n",
    "                           objetive = 'reg:squarederror')"
   ]
  },
  {
   "cell_type": "code",
   "execution_count": 231,
   "metadata": {
    "scrolled": false
   },
   "outputs": [
    {
     "data": {
      "text/plain": [
       "XGBRegressor(alpha=10, base_score=0.5, booster='gbtree', colsample_bylevel=1,\n",
       "       colsample_bytree=0.3, gamma=0, importance_type='gain',\n",
       "       learning_rate=0.1, max_delta_step=0, max_depth=5,\n",
       "       min_child_weight=1, missing=None, n_estimators=100, n_jobs=1,\n",
       "       nthread=None, objective='reg:linear', objetive='reg:squarederror',\n",
       "       random_state=0, reg_alpha=0, reg_lambda=1, scale_pos_weight=1,\n",
       "       seed=None, silent=True, subsample=1)"
      ]
     },
     "execution_count": 231,
     "metadata": {},
     "output_type": "execute_result"
    }
   ],
   "source": [
    "xgb_reg.fit(train_set, train_label)"
   ]
  },
  {
   "cell_type": "code",
   "execution_count": 15,
   "metadata": {},
   "outputs": [],
   "source": [
    "result = pd.read_csv('sample_submission.csv',index_col=['id'])"
   ]
  },
  {
   "cell_type": "code",
   "execution_count": 233,
   "metadata": {
    "scrolled": false
   },
   "outputs": [
    {
     "name": "stdout",
     "output_type": "stream",
     "text": [
      "0.47628361858190704\n"
     ]
    }
   ],
   "source": [
    "predicts = xgb_reg.predict(test_set).round()\n",
    "result['target'] = predicts\n",
    "print(F1(result))"
   ]
  },
  {
   "cell_type": "markdown",
   "metadata": {},
   "source": [
    "Con K-FOLDS"
   ]
  },
  {
   "cell_type": "code",
   "execution_count": 249,
   "metadata": {},
   "outputs": [
    {
     "name": "stdout",
     "output_type": "stream",
     "text": [
      "49                   0.47\n",
      "Name: test-rmse-mean, dtype: float64\n"
     ]
    }
   ],
   "source": [
    "dmatrix = xgb.DMatrix(data=train_set,label=train_label)\n",
    "params = {'colsample_bytree': 0.3, 'learning_rate': 0.1, 'max_depth': 5, 'alpha': 10}\n",
    "\n",
    "cv_results = xgb.cv(dtrain=dmatrix, params=params, nfold=3,\n",
    "                    num_boost_round=50, early_stopping_rounds=10,\n",
    "                    metrics=\"rmse\", as_pandas=True, seed=123)\n",
    "#ultimo error\n",
    "print((cv_results[\"test-rmse-mean\"]).tail(1))"
   ]
  },
  {
   "cell_type": "code",
   "execution_count": 253,
   "metadata": {
    "scrolled": false
   },
   "outputs": [
    {
     "data": {
      "image/svg+xml": [
       "<?xml version=\"1.0\" encoding=\"UTF-8\" standalone=\"no\"?>\n",
       "<!DOCTYPE svg PUBLIC \"-//W3C//DTD SVG 1.1//EN\"\n",
       " \"http://www.w3.org/Graphics/SVG/1.1/DTD/svg11.dtd\">\n",
       "<!-- Generated by graphviz version 2.36.0 (20140111.2315)\n",
       " -->\n",
       "<!-- Title: %3 Pages: 1 -->\n",
       "<svg width=\"1787pt\" height=\"484pt\"\n",
       " viewBox=\"0.00 0.00 1787.00 484.00\" xmlns=\"http://www.w3.org/2000/svg\" xmlns:xlink=\"http://www.w3.org/1999/xlink\">\n",
       "<g id=\"graph0\" class=\"graph\" transform=\"scale(1 1) rotate(0) translate(4 480)\">\n",
       "<title>%3</title>\n",
       "<polygon fill=\"white\" stroke=\"none\" points=\"-4,4 -4,-480 1783,-480 1783,4 -4,4\"/>\n",
       "<!-- 0 -->\n",
       "<g id=\"node1\" class=\"node\"><title>0</title>\n",
       "<ellipse fill=\"none\" stroke=\"black\" cx=\"493\" cy=\"-458\" rx=\"89.0632\" ry=\"18\"/>\n",
       "<text text-anchor=\"middle\" x=\"493\" y=\"-454.3\" font-family=\"Times,serif\" font-size=\"14.00\">longitud_de_texto&lt;73</text>\n",
       "</g>\n",
       "<!-- 1 -->\n",
       "<g id=\"node2\" class=\"node\"><title>1</title>\n",
       "<ellipse fill=\"none\" stroke=\"black\" cx=\"302\" cy=\"-370\" rx=\"89.0632\" ry=\"18\"/>\n",
       "<text text-anchor=\"middle\" x=\"302\" y=\"-366.3\" font-family=\"Times,serif\" font-size=\"14.00\">longitud_de_texto&lt;53</text>\n",
       "</g>\n",
       "<!-- 0&#45;&gt;1 -->\n",
       "<g id=\"edge1\" class=\"edge\"><title>0&#45;&gt;1</title>\n",
       "<path fill=\"none\" stroke=\"#0000ff\" d=\"M457.968,-441.226C426.467,-427.043 380.055,-406.145 346.05,-390.834\"/>\n",
       "<polygon fill=\"#0000ff\" stroke=\"#0000ff\" points=\"347.366,-387.588 336.81,-386.674 344.492,-393.971 347.366,-387.588\"/>\n",
       "<text text-anchor=\"middle\" x=\"449.5\" y=\"-410.3\" font-family=\"Times,serif\" font-size=\"14.00\">yes, missing</text>\n",
       "</g>\n",
       "<!-- 2 -->\n",
       "<g id=\"node3\" class=\"node\"><title>2</title>\n",
       "<ellipse fill=\"none\" stroke=\"black\" cx=\"626\" cy=\"-370\" rx=\"92.413\" ry=\"18\"/>\n",
       "<text text-anchor=\"middle\" x=\"626\" y=\"-366.3\" font-family=\"Times,serif\" font-size=\"14.00\">longitud_de_texto&lt;134</text>\n",
       "</g>\n",
       "<!-- 0&#45;&gt;2 -->\n",
       "<g id=\"edge2\" class=\"edge\"><title>0&#45;&gt;2</title>\n",
       "<path fill=\"none\" stroke=\"#ff0000\" d=\"M518.329,-440.622C539.314,-427.052 569.317,-407.652 592.323,-392.776\"/>\n",
       "<polygon fill=\"#ff0000\" stroke=\"#ff0000\" points=\"594.268,-395.686 600.765,-387.317 590.467,-389.808 594.268,-395.686\"/>\n",
       "<text text-anchor=\"middle\" x=\"579\" y=\"-410.3\" font-family=\"Times,serif\" font-size=\"14.00\">no</text>\n",
       "</g>\n",
       "<!-- 3 -->\n",
       "<g id=\"node4\" class=\"node\"><title>3</title>\n",
       "<ellipse fill=\"none\" stroke=\"black\" cx=\"83\" cy=\"-282\" rx=\"83.2892\" ry=\"18\"/>\n",
       "<text text-anchor=\"middle\" x=\"83\" y=\"-278.3\" font-family=\"Times,serif\" font-size=\"14.00\">leaf=&#45;0.0292682927</text>\n",
       "</g>\n",
       "<!-- 1&#45;&gt;3 -->\n",
       "<g id=\"edge3\" class=\"edge\"><title>1&#45;&gt;3</title>\n",
       "<path fill=\"none\" stroke=\"#0000ff\" d=\"M263.1,-353.724C226.082,-339.187 170.298,-317.282 130.634,-301.706\"/>\n",
       "<polygon fill=\"#0000ff\" stroke=\"#0000ff\" points=\"131.759,-298.387 121.171,-297.99 129.2,-304.903 131.759,-298.387\"/>\n",
       "<text text-anchor=\"middle\" x=\"247.5\" y=\"-322.3\" font-family=\"Times,serif\" font-size=\"14.00\">yes, missing</text>\n",
       "</g>\n",
       "<!-- 4 -->\n",
       "<g id=\"node5\" class=\"node\"><title>4</title>\n",
       "<ellipse fill=\"none\" stroke=\"black\" cx=\"302\" cy=\"-282\" rx=\"117.935\" ry=\"18\"/>\n",
       "<text text-anchor=\"middle\" x=\"302\" y=\"-278.3\" font-family=\"Times,serif\" font-size=\"14.00\">cantidad_de_palabras_texto&lt;3</text>\n",
       "</g>\n",
       "<!-- 1&#45;&gt;4 -->\n",
       "<g id=\"edge4\" class=\"edge\"><title>1&#45;&gt;4</title>\n",
       "<path fill=\"none\" stroke=\"#ff0000\" d=\"M302,-351.597C302,-339.746 302,-323.817 302,-310.292\"/>\n",
       "<polygon fill=\"#ff0000\" stroke=\"#ff0000\" points=\"305.5,-310.084 302,-300.084 298.5,-310.084 305.5,-310.084\"/>\n",
       "<text text-anchor=\"middle\" x=\"309\" y=\"-322.3\" font-family=\"Times,serif\" font-size=\"14.00\">no</text>\n",
       "</g>\n",
       "<!-- 5 -->\n",
       "<g id=\"node8\" class=\"node\"><title>5</title>\n",
       "<ellipse fill=\"none\" stroke=\"black\" cx=\"626\" cy=\"-282\" rx=\"92.413\" ry=\"18\"/>\n",
       "<text text-anchor=\"middle\" x=\"626\" y=\"-278.3\" font-family=\"Times,serif\" font-size=\"14.00\">longitud_de_texto&lt;120</text>\n",
       "</g>\n",
       "<!-- 2&#45;&gt;5 -->\n",
       "<g id=\"edge7\" class=\"edge\"><title>2&#45;&gt;5</title>\n",
       "<path fill=\"none\" stroke=\"#0000ff\" d=\"M626,-351.597C626,-339.746 626,-323.817 626,-310.292\"/>\n",
       "<polygon fill=\"#0000ff\" stroke=\"#0000ff\" points=\"629.5,-310.084 626,-300.084 622.5,-310.084 629.5,-310.084\"/>\n",
       "<text text-anchor=\"middle\" x=\"660.5\" y=\"-322.3\" font-family=\"Times,serif\" font-size=\"14.00\">yes, missing</text>\n",
       "</g>\n",
       "<!-- 6 -->\n",
       "<g id=\"node9\" class=\"node\"><title>6</title>\n",
       "<ellipse fill=\"none\" stroke=\"black\" cx=\"1011\" cy=\"-282\" rx=\"92.413\" ry=\"18\"/>\n",
       "<text text-anchor=\"middle\" x=\"1011\" y=\"-278.3\" font-family=\"Times,serif\" font-size=\"14.00\">longitud_de_texto&lt;137</text>\n",
       "</g>\n",
       "<!-- 2&#45;&gt;6 -->\n",
       "<g id=\"edge8\" class=\"edge\"><title>2&#45;&gt;6</title>\n",
       "<path fill=\"none\" stroke=\"#ff0000\" d=\"M684.473,-355.938C753.786,-340.456 869.122,-314.692 942.537,-298.293\"/>\n",
       "<polygon fill=\"#ff0000\" stroke=\"#ff0000\" points=\"943.612,-301.639 952.609,-296.043 942.086,-294.808 943.612,-301.639\"/>\n",
       "<text text-anchor=\"middle\" x=\"860\" y=\"-322.3\" font-family=\"Times,serif\" font-size=\"14.00\">no</text>\n",
       "</g>\n",
       "<!-- 7 -->\n",
       "<g id=\"node6\" class=\"node\"><title>7</title>\n",
       "<ellipse fill=\"none\" stroke=\"black\" cx=\"169\" cy=\"-194\" rx=\"36.096\" ry=\"18\"/>\n",
       "<text text-anchor=\"middle\" x=\"169\" y=\"-190.3\" font-family=\"Times,serif\" font-size=\"14.00\">leaf=&#45;0</text>\n",
       "</g>\n",
       "<!-- 4&#45;&gt;7 -->\n",
       "<g id=\"edge5\" class=\"edge\"><title>4&#45;&gt;7</title>\n",
       "<path fill=\"none\" stroke=\"#0000ff\" d=\"M263.484,-264.803C252.053,-259.4 239.728,-252.964 229,-246 216.207,-237.695 203.169,-226.943 192.53,-217.454\"/>\n",
       "<polygon fill=\"#0000ff\" stroke=\"#0000ff\" points=\"194.654,-214.654 184.905,-210.505 189.939,-219.828 194.654,-214.654\"/>\n",
       "<text text-anchor=\"middle\" x=\"263.5\" y=\"-234.3\" font-family=\"Times,serif\" font-size=\"14.00\">yes, missing</text>\n",
       "</g>\n",
       "<!-- 8 -->\n",
       "<g id=\"node7\" class=\"node\"><title>8</title>\n",
       "<ellipse fill=\"none\" stroke=\"black\" cx=\"302\" cy=\"-194\" rx=\"78.4642\" ry=\"18\"/>\n",
       "<text text-anchor=\"middle\" x=\"302\" y=\"-190.3\" font-family=\"Times,serif\" font-size=\"14.00\">leaf=&#45;0.016687898</text>\n",
       "</g>\n",
       "<!-- 4&#45;&gt;8 -->\n",
       "<g id=\"edge6\" class=\"edge\"><title>4&#45;&gt;8</title>\n",
       "<path fill=\"none\" stroke=\"#ff0000\" d=\"M302,-263.597C302,-251.746 302,-235.817 302,-222.292\"/>\n",
       "<polygon fill=\"#ff0000\" stroke=\"#ff0000\" points=\"305.5,-222.084 302,-212.084 298.5,-222.084 305.5,-222.084\"/>\n",
       "<text text-anchor=\"middle\" x=\"309\" y=\"-234.3\" font-family=\"Times,serif\" font-size=\"14.00\">no</text>\n",
       "</g>\n",
       "<!-- 9 -->\n",
       "<g id=\"node10\" class=\"node\"><title>9</title>\n",
       "<ellipse fill=\"none\" stroke=\"black\" cx=\"492\" cy=\"-194\" rx=\"92.413\" ry=\"18\"/>\n",
       "<text text-anchor=\"middle\" x=\"492\" y=\"-190.3\" font-family=\"Times,serif\" font-size=\"14.00\">longitud_de_texto&lt;115</text>\n",
       "</g>\n",
       "<!-- 5&#45;&gt;9 -->\n",
       "<g id=\"edge9\" class=\"edge\"><title>5&#45;&gt;9</title>\n",
       "<path fill=\"none\" stroke=\"#0000ff\" d=\"M600.48,-264.622C579.338,-251.052 549.109,-231.652 525.93,-216.776\"/>\n",
       "<polygon fill=\"#0000ff\" stroke=\"#0000ff\" points=\"527.731,-213.773 517.425,-211.317 523.95,-219.664 527.731,-213.773\"/>\n",
       "<text text-anchor=\"middle\" x=\"606.5\" y=\"-234.3\" font-family=\"Times,serif\" font-size=\"14.00\">yes, missing</text>\n",
       "</g>\n",
       "<!-- 10 -->\n",
       "<g id=\"node11\" class=\"node\"><title>10</title>\n",
       "<ellipse fill=\"none\" stroke=\"black\" cx=\"721\" cy=\"-194\" rx=\"117.935\" ry=\"18\"/>\n",
       "<text text-anchor=\"middle\" x=\"721\" y=\"-190.3\" font-family=\"Times,serif\" font-size=\"14.00\">cantidad_de_palabras_texto&lt;6</text>\n",
       "</g>\n",
       "<!-- 5&#45;&gt;10 -->\n",
       "<g id=\"edge10\" class=\"edge\"><title>5&#45;&gt;10</title>\n",
       "<path fill=\"none\" stroke=\"#ff0000\" d=\"M644.769,-264.009C659.082,-251.052 678.969,-233.049 694.842,-218.68\"/>\n",
       "<polygon fill=\"#ff0000\" stroke=\"#ff0000\" points=\"697.205,-221.261 702.27,-211.956 692.508,-216.072 697.205,-221.261\"/>\n",
       "<text text-anchor=\"middle\" x=\"690\" y=\"-234.3\" font-family=\"Times,serif\" font-size=\"14.00\">no</text>\n",
       "</g>\n",
       "<!-- 11 -->\n",
       "<g id=\"node20\" class=\"node\"><title>11</title>\n",
       "<ellipse fill=\"none\" stroke=\"black\" cx=\"1011\" cy=\"-194\" rx=\"92.413\" ry=\"18\"/>\n",
       "<text text-anchor=\"middle\" x=\"1011\" y=\"-190.3\" font-family=\"Times,serif\" font-size=\"14.00\">longitud_de_texto&lt;135</text>\n",
       "</g>\n",
       "<!-- 6&#45;&gt;11 -->\n",
       "<g id=\"edge19\" class=\"edge\"><title>6&#45;&gt;11</title>\n",
       "<path fill=\"none\" stroke=\"#0000ff\" d=\"M1011,-263.597C1011,-251.746 1011,-235.817 1011,-222.292\"/>\n",
       "<polygon fill=\"#0000ff\" stroke=\"#0000ff\" points=\"1014.5,-222.084 1011,-212.084 1007.5,-222.084 1014.5,-222.084\"/>\n",
       "<text text-anchor=\"middle\" x=\"1045.5\" y=\"-234.3\" font-family=\"Times,serif\" font-size=\"14.00\">yes, missing</text>\n",
       "</g>\n",
       "<!-- 12 -->\n",
       "<g id=\"node21\" class=\"node\"><title>12</title>\n",
       "<ellipse fill=\"none\" stroke=\"black\" cx=\"1378\" cy=\"-194\" rx=\"92.413\" ry=\"18\"/>\n",
       "<text text-anchor=\"middle\" x=\"1378\" y=\"-190.3\" font-family=\"Times,serif\" font-size=\"14.00\">longitud_de_texto&lt;138</text>\n",
       "</g>\n",
       "<!-- 6&#45;&gt;12 -->\n",
       "<g id=\"edge20\" class=\"edge\"><title>6&#45;&gt;12</title>\n",
       "<path fill=\"none\" stroke=\"#ff0000\" d=\"M1067.54,-267.751C1133.27,-252.348 1241.64,-226.954 1311.39,-210.608\"/>\n",
       "<polygon fill=\"#ff0000\" stroke=\"#ff0000\" points=\"1312.46,-213.953 1321.4,-208.264 1310.86,-207.138 1312.46,-213.953\"/>\n",
       "<text text-anchor=\"middle\" x=\"1234\" y=\"-234.3\" font-family=\"Times,serif\" font-size=\"14.00\">no</text>\n",
       "</g>\n",
       "<!-- 13 -->\n",
       "<g id=\"node12\" class=\"node\"><title>13</title>\n",
       "<ellipse fill=\"none\" stroke=\"black\" cx=\"315\" cy=\"-106\" rx=\"122.259\" ry=\"18\"/>\n",
       "<text text-anchor=\"middle\" x=\"315\" y=\"-102.3\" font-family=\"Times,serif\" font-size=\"14.00\">cantidad_de_palabras_texto&lt;17</text>\n",
       "</g>\n",
       "<!-- 9&#45;&gt;13 -->\n",
       "<g id=\"edge11\" class=\"edge\"><title>9&#45;&gt;13</title>\n",
       "<path fill=\"none\" stroke=\"#0000ff\" d=\"M458.536,-177.032C446.109,-171.082 431.9,-164.255 419,-158 398.722,-148.167 376.268,-137.17 357.429,-127.912\"/>\n",
       "<polygon fill=\"#0000ff\" stroke=\"#0000ff\" points=\"358.736,-124.654 348.218,-123.382 355.647,-130.936 358.736,-124.654\"/>\n",
       "<text text-anchor=\"middle\" x=\"453.5\" y=\"-146.3\" font-family=\"Times,serif\" font-size=\"14.00\">yes, missing</text>\n",
       "</g>\n",
       "<!-- 14 -->\n",
       "<g id=\"node13\" class=\"node\"><title>14</title>\n",
       "<ellipse fill=\"none\" stroke=\"black\" cx=\"492\" cy=\"-106\" rx=\"36.096\" ry=\"18\"/>\n",
       "<text text-anchor=\"middle\" x=\"492\" y=\"-102.3\" font-family=\"Times,serif\" font-size=\"14.00\">leaf=&#45;0</text>\n",
       "</g>\n",
       "<!-- 9&#45;&gt;14 -->\n",
       "<g id=\"edge12\" class=\"edge\"><title>9&#45;&gt;14</title>\n",
       "<path fill=\"none\" stroke=\"#ff0000\" d=\"M492,-175.597C492,-163.746 492,-147.817 492,-134.292\"/>\n",
       "<polygon fill=\"#ff0000\" stroke=\"#ff0000\" points=\"495.5,-134.084 492,-124.084 488.5,-134.084 495.5,-134.084\"/>\n",
       "<text text-anchor=\"middle\" x=\"499\" y=\"-146.3\" font-family=\"Times,serif\" font-size=\"14.00\">no</text>\n",
       "</g>\n",
       "<!-- 15 -->\n",
       "<g id=\"node16\" class=\"node\"><title>15</title>\n",
       "<ellipse fill=\"none\" stroke=\"black\" cx=\"583\" cy=\"-106\" rx=\"36.096\" ry=\"18\"/>\n",
       "<text text-anchor=\"middle\" x=\"583\" y=\"-102.3\" font-family=\"Times,serif\" font-size=\"14.00\">leaf=&#45;0</text>\n",
       "</g>\n",
       "<!-- 10&#45;&gt;15 -->\n",
       "<g id=\"edge15\" class=\"edge\"><title>10&#45;&gt;15</title>\n",
       "<path fill=\"none\" stroke=\"#0000ff\" d=\"M694.392,-176.418C671.335,-162.049 637.966,-141.254 613.766,-126.173\"/>\n",
       "<polygon fill=\"#0000ff\" stroke=\"#0000ff\" points=\"615.319,-123.017 604.981,-120.698 611.617,-128.958 615.319,-123.017\"/>\n",
       "<text text-anchor=\"middle\" x=\"699.5\" y=\"-146.3\" font-family=\"Times,serif\" font-size=\"14.00\">yes, missing</text>\n",
       "</g>\n",
       "<!-- 16 -->\n",
       "<g id=\"node17\" class=\"node\"><title>16</title>\n",
       "<ellipse fill=\"none\" stroke=\"black\" cx=\"760\" cy=\"-106\" rx=\"122.259\" ry=\"18\"/>\n",
       "<text text-anchor=\"middle\" x=\"760\" y=\"-102.3\" font-family=\"Times,serif\" font-size=\"14.00\">cantidad_de_palabras_texto&lt;21</text>\n",
       "</g>\n",
       "<!-- 10&#45;&gt;16 -->\n",
       "<g id=\"edge16\" class=\"edge\"><title>10&#45;&gt;16</title>\n",
       "<path fill=\"none\" stroke=\"#ff0000\" d=\"M728.705,-176.009C734.171,-163.956 741.618,-147.535 747.876,-133.735\"/>\n",
       "<polygon fill=\"#ff0000\" stroke=\"#ff0000\" points=\"751.235,-134.803 752.177,-124.25 744.86,-131.912 751.235,-134.803\"/>\n",
       "<text text-anchor=\"middle\" x=\"751\" y=\"-146.3\" font-family=\"Times,serif\" font-size=\"14.00\">no</text>\n",
       "</g>\n",
       "<!-- 21 -->\n",
       "<g id=\"node14\" class=\"node\"><title>21</title>\n",
       "<ellipse fill=\"none\" stroke=\"black\" cx=\"245\" cy=\"-18\" rx=\"87.1385\" ry=\"18\"/>\n",
       "<text text-anchor=\"middle\" x=\"245\" y=\"-14.3\" font-family=\"Times,serif\" font-size=\"14.00\">leaf=&#45;0.00388846733</text>\n",
       "</g>\n",
       "<!-- 13&#45;&gt;21 -->\n",
       "<g id=\"edge13\" class=\"edge\"><title>13&#45;&gt;21</title>\n",
       "<path fill=\"none\" stroke=\"#0000ff\" d=\"M301.17,-88.0092C290.912,-75.4058 276.766,-58.0272 265.238,-43.8632\"/>\n",
       "<polygon fill=\"#0000ff\" stroke=\"#0000ff\" points=\"267.828,-41.5017 258.801,-35.9555 262.399,-45.9206 267.828,-41.5017\"/>\n",
       "<text text-anchor=\"middle\" x=\"321.5\" y=\"-58.3\" font-family=\"Times,serif\" font-size=\"14.00\">yes, missing</text>\n",
       "</g>\n",
       "<!-- 22 -->\n",
       "<g id=\"node15\" class=\"node\"><title>22</title>\n",
       "<ellipse fill=\"none\" stroke=\"black\" cx=\"386\" cy=\"-18\" rx=\"36.096\" ry=\"18\"/>\n",
       "<text text-anchor=\"middle\" x=\"386\" y=\"-14.3\" font-family=\"Times,serif\" font-size=\"14.00\">leaf=&#45;0</text>\n",
       "</g>\n",
       "<!-- 13&#45;&gt;22 -->\n",
       "<g id=\"edge14\" class=\"edge\"><title>13&#45;&gt;22</title>\n",
       "<path fill=\"none\" stroke=\"#ff0000\" d=\"M340.535,-88.2383C347.401,-82.9478 354.452,-76.7139 360,-70 366.006,-62.7315 371.132,-53.8458 375.204,-45.5398\"/>\n",
       "<polygon fill=\"#ff0000\" stroke=\"#ff0000\" points=\"378.506,-46.7362 379.491,-36.1872 372.143,-43.8194 378.506,-46.7362\"/>\n",
       "<text text-anchor=\"middle\" x=\"378\" y=\"-58.3\" font-family=\"Times,serif\" font-size=\"14.00\">no</text>\n",
       "</g>\n",
       "<!-- 23 -->\n",
       "<g id=\"node18\" class=\"node\"><title>23</title>\n",
       "<ellipse fill=\"none\" stroke=\"black\" cx=\"662\" cy=\"-18\" rx=\"87.1385\" ry=\"18\"/>\n",
       "<text text-anchor=\"middle\" x=\"662\" y=\"-14.3\" font-family=\"Times,serif\" font-size=\"14.00\">leaf=&#45;0.00789233577</text>\n",
       "</g>\n",
       "<!-- 16&#45;&gt;23 -->\n",
       "<g id=\"edge17\" class=\"edge\"><title>16&#45;&gt;23</title>\n",
       "<path fill=\"none\" stroke=\"#0000ff\" d=\"M730.286,-88.3941C721.742,-83.0218 712.668,-76.7053 705,-70 696.279,-62.374 687.808,-52.9209 680.723,-44.2328\"/>\n",
       "<polygon fill=\"#0000ff\" stroke=\"#0000ff\" points=\"683.339,-41.8976 674.392,-36.2221 677.847,-46.2379 683.339,-41.8976\"/>\n",
       "<text text-anchor=\"middle\" x=\"739.5\" y=\"-58.3\" font-family=\"Times,serif\" font-size=\"14.00\">yes, missing</text>\n",
       "</g>\n",
       "<!-- 24 -->\n",
       "<g id=\"node19\" class=\"node\"><title>24</title>\n",
       "<ellipse fill=\"none\" stroke=\"black\" cx=\"803\" cy=\"-18\" rx=\"36.096\" ry=\"18\"/>\n",
       "<text text-anchor=\"middle\" x=\"803\" y=\"-14.3\" font-family=\"Times,serif\" font-size=\"14.00\">leaf=&#45;0</text>\n",
       "</g>\n",
       "<!-- 16&#45;&gt;24 -->\n",
       "<g id=\"edge18\" class=\"edge\"><title>16&#45;&gt;24</title>\n",
       "<path fill=\"none\" stroke=\"#ff0000\" d=\"M768.495,-88.0092C774.66,-75.6796 783.11,-58.7801 790.105,-44.7909\"/>\n",
       "<polygon fill=\"#ff0000\" stroke=\"#ff0000\" points=\"793.327,-46.1725 794.669,-35.6629 787.066,-43.0419 793.327,-46.1725\"/>\n",
       "<text text-anchor=\"middle\" x=\"793\" y=\"-58.3\" font-family=\"Times,serif\" font-size=\"14.00\">no</text>\n",
       "</g>\n",
       "<!-- 17 -->\n",
       "<g id=\"node22\" class=\"node\"><title>17</title>\n",
       "<ellipse fill=\"none\" stroke=\"black\" cx=\"937\" cy=\"-106\" rx=\"36.096\" ry=\"18\"/>\n",
       "<text text-anchor=\"middle\" x=\"937\" y=\"-102.3\" font-family=\"Times,serif\" font-size=\"14.00\">leaf=&#45;0</text>\n",
       "</g>\n",
       "<!-- 11&#45;&gt;17 -->\n",
       "<g id=\"edge21\" class=\"edge\"><title>11&#45;&gt;17</title>\n",
       "<path fill=\"none\" stroke=\"#0000ff\" d=\"M996.38,-176.009C985.254,-163.078 969.802,-145.121 957.45,-130.766\"/>\n",
       "<polygon fill=\"#0000ff\" stroke=\"#0000ff\" points=\"959.767,-128.093 950.592,-122.796 954.461,-132.659 959.767,-128.093\"/>\n",
       "<text text-anchor=\"middle\" x=\"1015.5\" y=\"-146.3\" font-family=\"Times,serif\" font-size=\"14.00\">yes, missing</text>\n",
       "</g>\n",
       "<!-- 18 -->\n",
       "<g id=\"node23\" class=\"node\"><title>18</title>\n",
       "<ellipse fill=\"none\" stroke=\"black\" cx=\"1114\" cy=\"-106\" rx=\"122.259\" ry=\"18\"/>\n",
       "<text text-anchor=\"middle\" x=\"1114\" y=\"-102.3\" font-family=\"Times,serif\" font-size=\"14.00\">cantidad_de_palabras_texto&lt;20</text>\n",
       "</g>\n",
       "<!-- 11&#45;&gt;18 -->\n",
       "<g id=\"edge22\" class=\"edge\"><title>11&#45;&gt;18</title>\n",
       "<path fill=\"none\" stroke=\"#ff0000\" d=\"M1030.86,-176.418C1046.43,-163.415 1068.31,-145.15 1085.71,-130.618\"/>\n",
       "<polygon fill=\"#ff0000\" stroke=\"#ff0000\" points=\"1088.42,-132.92 1093.85,-123.824 1083.93,-127.547 1088.42,-132.92\"/>\n",
       "<text text-anchor=\"middle\" x=\"1078\" y=\"-146.3\" font-family=\"Times,serif\" font-size=\"14.00\">no</text>\n",
       "</g>\n",
       "<!-- 19 -->\n",
       "<g id=\"node26\" class=\"node\"><title>19</title>\n",
       "<ellipse fill=\"none\" stroke=\"black\" cx=\"1378\" cy=\"-106\" rx=\"122.259\" ry=\"18\"/>\n",
       "<text text-anchor=\"middle\" x=\"1378\" y=\"-102.3\" font-family=\"Times,serif\" font-size=\"14.00\">cantidad_de_palabras_texto&lt;18</text>\n",
       "</g>\n",
       "<!-- 12&#45;&gt;19 -->\n",
       "<g id=\"edge25\" class=\"edge\"><title>12&#45;&gt;19</title>\n",
       "<path fill=\"none\" stroke=\"#0000ff\" d=\"M1378,-175.597C1378,-163.746 1378,-147.817 1378,-134.292\"/>\n",
       "<polygon fill=\"#0000ff\" stroke=\"#0000ff\" points=\"1381.5,-134.084 1378,-124.084 1374.5,-134.084 1381.5,-134.084\"/>\n",
       "<text text-anchor=\"middle\" x=\"1412.5\" y=\"-146.3\" font-family=\"Times,serif\" font-size=\"14.00\">yes, missing</text>\n",
       "</g>\n",
       "<!-- 20 -->\n",
       "<g id=\"node27\" class=\"node\"><title>20</title>\n",
       "<ellipse fill=\"none\" stroke=\"black\" cx=\"1612\" cy=\"-106\" rx=\"92.413\" ry=\"18\"/>\n",
       "<text text-anchor=\"middle\" x=\"1612\" y=\"-102.3\" font-family=\"Times,serif\" font-size=\"14.00\">longitud_de_texto&lt;142</text>\n",
       "</g>\n",
       "<!-- 12&#45;&gt;20 -->\n",
       "<g id=\"edge26\" class=\"edge\"><title>12&#45;&gt;20</title>\n",
       "<path fill=\"none\" stroke=\"#ff0000\" d=\"M1419.3,-177.823C1458.86,-163.284 1518.65,-141.308 1561.13,-125.696\"/>\n",
       "<polygon fill=\"#ff0000\" stroke=\"#ff0000\" points=\"1562.55,-128.905 1570.72,-122.17 1560.13,-122.334 1562.55,-128.905\"/>\n",
       "<text text-anchor=\"middle\" x=\"1522\" y=\"-146.3\" font-family=\"Times,serif\" font-size=\"14.00\">no</text>\n",
       "</g>\n",
       "<!-- 25 -->\n",
       "<g id=\"node24\" class=\"node\"><title>25</title>\n",
       "<ellipse fill=\"none\" stroke=\"black\" cx=\"990\" cy=\"-18\" rx=\"79.4147\" ry=\"18\"/>\n",
       "<text text-anchor=\"middle\" x=\"990\" y=\"-14.3\" font-family=\"Times,serif\" font-size=\"14.00\">leaf=0.0155923357</text>\n",
       "</g>\n",
       "<!-- 18&#45;&gt;25 -->\n",
       "<g id=\"edge23\" class=\"edge\"><title>18&#45;&gt;25</title>\n",
       "<path fill=\"none\" stroke=\"#0000ff\" d=\"M1077.1,-88.6536C1066.39,-83.2886 1054.92,-76.911 1045,-70 1033.7,-62.1287 1022.36,-52.0594 1012.93,-42.9505\"/>\n",
       "<polygon fill=\"#0000ff\" stroke=\"#0000ff\" points=\"1015.38,-40.4577 1005.81,-35.9117 1010.46,-45.4334 1015.38,-40.4577\"/>\n",
       "<text text-anchor=\"middle\" x=\"1079.5\" y=\"-58.3\" font-family=\"Times,serif\" font-size=\"14.00\">yes, missing</text>\n",
       "</g>\n",
       "<!-- 26 -->\n",
       "<g id=\"node25\" class=\"node\"><title>26</title>\n",
       "<ellipse fill=\"none\" stroke=\"black\" cx=\"1124\" cy=\"-18\" rx=\"36.096\" ry=\"18\"/>\n",
       "<text text-anchor=\"middle\" x=\"1124\" y=\"-14.3\" font-family=\"Times,serif\" font-size=\"14.00\">leaf=&#45;0</text>\n",
       "</g>\n",
       "<!-- 18&#45;&gt;26 -->\n",
       "<g id=\"edge24\" class=\"edge\"><title>18&#45;&gt;26</title>\n",
       "<path fill=\"none\" stroke=\"#ff0000\" d=\"M1116.02,-87.5966C1117.4,-75.7459 1119.25,-59.8169 1120.83,-46.2917\"/>\n",
       "<polygon fill=\"#ff0000\" stroke=\"#ff0000\" points=\"1124.33,-46.4214 1122.01,-36.084 1117.38,-45.6128 1124.33,-46.4214\"/>\n",
       "<text text-anchor=\"middle\" x=\"1126\" y=\"-58.3\" font-family=\"Times,serif\" font-size=\"14.00\">no</text>\n",
       "</g>\n",
       "<!-- 27 -->\n",
       "<g id=\"node28\" class=\"node\"><title>27</title>\n",
       "<ellipse fill=\"none\" stroke=\"black\" cx=\"1302\" cy=\"-18\" rx=\"84.2388\" ry=\"18\"/>\n",
       "<text text-anchor=\"middle\" x=\"1302\" y=\"-14.3\" font-family=\"Times,serif\" font-size=\"14.00\">leaf=0.00148809527</text>\n",
       "</g>\n",
       "<!-- 19&#45;&gt;27 -->\n",
       "<g id=\"edge27\" class=\"edge\"><title>19&#45;&gt;27</title>\n",
       "<path fill=\"none\" stroke=\"#0000ff\" d=\"M1350.86,-88.3685C1343.54,-83.0801 1335.99,-76.8147 1330,-70 1323.6,-62.7261 1318.07,-53.7445 1313.65,-45.3555\"/>\n",
       "<polygon fill=\"#0000ff\" stroke=\"#0000ff\" points=\"1316.72,-43.6682 1309.15,-36.2585 1310.45,-46.7734 1316.72,-43.6682\"/>\n",
       "<text text-anchor=\"middle\" x=\"1364.5\" y=\"-58.3\" font-family=\"Times,serif\" font-size=\"14.00\">yes, missing</text>\n",
       "</g>\n",
       "<!-- 28 -->\n",
       "<g id=\"node29\" class=\"node\"><title>28</title>\n",
       "<ellipse fill=\"none\" stroke=\"black\" cx=\"1441\" cy=\"-18\" rx=\"36.096\" ry=\"18\"/>\n",
       "<text text-anchor=\"middle\" x=\"1441\" y=\"-14.3\" font-family=\"Times,serif\" font-size=\"14.00\">leaf=&#45;0</text>\n",
       "</g>\n",
       "<!-- 19&#45;&gt;28 -->\n",
       "<g id=\"edge28\" class=\"edge\"><title>19&#45;&gt;28</title>\n",
       "<path fill=\"none\" stroke=\"#ff0000\" d=\"M1390.45,-88.0092C1399.77,-75.2803 1412.66,-57.6808 1423.1,-43.4413\"/>\n",
       "<polygon fill=\"#ff0000\" stroke=\"#ff0000\" points=\"1426.13,-45.2183 1429.22,-35.0829 1420.49,-41.0816 1426.13,-45.2183\"/>\n",
       "<text text-anchor=\"middle\" x=\"1422\" y=\"-58.3\" font-family=\"Times,serif\" font-size=\"14.00\">no</text>\n",
       "</g>\n",
       "<!-- 29 -->\n",
       "<g id=\"node30\" class=\"node\"><title>29</title>\n",
       "<ellipse fill=\"none\" stroke=\"black\" cx=\"1602\" cy=\"-18\" rx=\"87.1385\" ry=\"18\"/>\n",
       "<text text-anchor=\"middle\" x=\"1602\" y=\"-14.3\" font-family=\"Times,serif\" font-size=\"14.00\">leaf=&#45;0.00466751913</text>\n",
       "</g>\n",
       "<!-- 20&#45;&gt;29 -->\n",
       "<g id=\"edge29\" class=\"edge\"><title>20&#45;&gt;29</title>\n",
       "<path fill=\"none\" stroke=\"#0000ff\" d=\"M1609.98,-87.5966C1608.6,-75.7459 1606.75,-59.8169 1605.17,-46.2917\"/>\n",
       "<polygon fill=\"#0000ff\" stroke=\"#0000ff\" points=\"1608.62,-45.6128 1603.99,-36.084 1601.67,-46.4214 1608.62,-45.6128\"/>\n",
       "<text text-anchor=\"middle\" x=\"1641.5\" y=\"-58.3\" font-family=\"Times,serif\" font-size=\"14.00\">yes, missing</text>\n",
       "</g>\n",
       "<!-- 30 -->\n",
       "<g id=\"node31\" class=\"node\"><title>30</title>\n",
       "<ellipse fill=\"none\" stroke=\"black\" cx=\"1743\" cy=\"-18\" rx=\"36.096\" ry=\"18\"/>\n",
       "<text text-anchor=\"middle\" x=\"1743\" y=\"-14.3\" font-family=\"Times,serif\" font-size=\"14.00\">leaf=&#45;0</text>\n",
       "</g>\n",
       "<!-- 20&#45;&gt;30 -->\n",
       "<g id=\"edge30\" class=\"edge\"><title>20&#45;&gt;30</title>\n",
       "<path fill=\"none\" stroke=\"#ff0000\" d=\"M1645.97,-89.2343C1657.09,-83.626 1669.32,-76.9633 1680,-70 1693.37,-61.2777 1707.27,-50.2689 1718.59,-40.7137\"/>\n",
       "<polygon fill=\"#ff0000\" stroke=\"#ff0000\" points=\"1721.03,-43.2338 1726.34,-34.0665 1716.47,-37.9206 1721.03,-43.2338\"/>\n",
       "<text text-anchor=\"middle\" x=\"1708\" y=\"-58.3\" font-family=\"Times,serif\" font-size=\"14.00\">no</text>\n",
       "</g>\n",
       "</g>\n",
       "</svg>\n"
      ],
      "text/plain": [
       "<graphviz.dot.Digraph at 0xa354d4cc>"
      ]
     },
     "execution_count": 253,
     "metadata": {},
     "output_type": "execute_result"
    }
   ],
   "source": [
    "xg_reg = xgb.train(params=params, dtrain=dmatrix, num_boost_round=10)\n",
    "plt.rcParams['figure.figsize'] = [20, 20]\n",
    "xgb.to_graphviz(xg_reg,num_trees=0)"
   ]
  },
  {
   "cell_type": "markdown",
   "metadata": {},
   "source": [
    "Importancia de cada feature"
   ]
  },
  {
   "cell_type": "code",
   "execution_count": 254,
   "metadata": {
    "scrolled": true
   },
   "outputs": [
    {
     "data": {
      "text/plain": [
       "<matplotlib.axes._subplots.AxesSubplot at 0xa354de2c>"
      ]
     },
     "execution_count": 254,
     "metadata": {},
     "output_type": "execute_result"
    },
    {
     "data": {
      "image/png": "[encoded data removed]",
      "text/plain": [
       "<Figure size 864x504 with 1 Axes>"
      ]
     },
     "metadata": {},
     "output_type": "display_data"
    }
   ],
   "source": [
    "plt.rcParams['figure.figsize'] = [12, 7]\n",
    "xgb.plot_importance(xg_reg)"
   ]
  },
  {
   "cell_type": "markdown",
   "metadata": {},
   "source": [
    "# Random Forest"
   ]
  },
  {
   "cell_type": "code",
   "execution_count": 23,
   "metadata": {},
   "outputs": [
    {
     "data": {
      "text/plain": [
       "RandomForestRegressor(bootstrap=True, criterion='mse', max_depth=None,\n",
       "           max_features=4, max_leaf_nodes=None, min_impurity_decrease=0.0,\n",
       "           min_impurity_split=None, min_samples_leaf=1,\n",
       "           min_samples_split=2, min_weight_fraction_leaf=0.0,\n",
       "           n_estimators=20, n_jobs=None, oob_score=False, random_state=1,\n",
       "           verbose=0, warm_start=False)"
      ]
     },
     "execution_count": 23,
     "metadata": {},
     "output_type": "execute_result"
    }
   ],
   "source": [
    "from sklearn.ensemble import RandomForestRegressor\n",
    "rf = RandomForestRegressor(random_state=1, n_estimators = 20, max_features = 4)\n",
    "rf.fit(train_set, train_label)"
   ]
  },
  {
   "cell_type": "code",
   "execution_count": 24,
   "metadata": {},
   "outputs": [
    {
     "name": "stdout",
     "output_type": "stream",
     "text": [
      "0.5193723983349343\n"
     ]
    }
   ],
   "source": [
    "predicts = rf.predict(test_set).round()\n",
    "result['target'] = predicts\n",
    "print(F1(result))"
   ]
  },
  {
   "cell_type": "code",
   "execution_count": 22,
   "metadata": {},
   "outputs": [
    {
     "data": {
      "image/png": "[encoded data removed]",
      "text/plain": [
       "<Figure size 432x288 with 1 Axes>"
      ]
     },
     "metadata": {
      "needs_background": "light"
     },
     "output_type": "display_data"
    }
   ],
   "source": [
    "plt.barh(train_set.columns, rf.feature_importances_)\n",
    "plt.xlabel('Features de train')\n",
    "plt.ylabel('Importancia')\n",
    "plt.title('Importancia vs Features con Random Forest')\n",
    "plt.show()"
   ]
  },
  {
   "cell_type": "markdown",
   "metadata": {},
   "source": [
    "## ENTREGA"
   ]
  },
  {
   "cell_type": "code",
   "execution_count": null,
   "metadata": {
    "pycharm": {
     "name": "#%%\n"
    }
   },
   "outputs": [],
   "source": [
    "#cuando todo termina el archivo de entrega\n",
    "resultados_de_prediccion.to_csv('submit.csv', index=False)"
   ]
  }
 ],
 "metadata": {
  "kernelspec": {
   "display_name": "Python 3",
   "language": "python",
   "name": "python3"
  },
  "language_info": {
   "codemirror_mode": {
    "name": "ipython",
    "version": 3
   },
   "file_extension": ".py",
   "mimetype": "text/x-python",
   "name": "python",
   "nbconvert_exporter": "python",
   "pygments_lexer": "ipython3",
   "version": "3.6.7"
  },
  "pycharm": {
   "stem_cell": {
    "cell_type": "raw",
    "metadata": {
     "collapsed": false
    },
    "source": []
   }
  }
 },
 "nbformat": 4,
 "nbformat_minor": 1
}
